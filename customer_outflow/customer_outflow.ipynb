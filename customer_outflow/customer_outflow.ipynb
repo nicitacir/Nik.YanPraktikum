{
 "cells": [
  {
   "cell_type": "markdown",
   "id": "30f4200c",
   "metadata": {},
   "source": [
    "# Прогнозирование оттока клиентов\n",
    "\n",
    "## Описание проекта\n",
    "\n",
    "**Цель:** Оператору связи необходимо научисться прогнозировать отток клиентов для планирования предиктивных мер (скидок, особых условий).\n",
    "Для выборки клиентов доступны персональные данные, информация о тарифах и договорах.\n",
    "Информация о договорах актуальна на 1 февраля 2020.\n",
    "\n",
    "* Основная метрика для проверки качества модели: `roc_auc`\n",
    "* Дополнительная метрика для проверки качества модели: `accuracy`\n",
    "\n",
    "\n",
    "### Описание услуг\n",
    "\n",
    "Оператор предоставляет два основных типа услуг: \n",
    "\n",
    "1. Стационарную телефонную связь. Возможно подключение телефонного аппарата к нескольким линиям одновременно.\n",
    "2. Интернет. Подключение может быть двух типов: через телефонную линию (DSL*,* от англ. *digital subscriber line*, «цифровая абонентская линия») или оптоволоконный кабель (*Fiber optic*).  \n",
    "\n",
    "Также доступны такие услуги:\n",
    "\n",
    "- Интернет-безопасность: антивирус (*DeviceProtection*) и блокировка небезопасных сайтов (*OnlineSecurity*);\n",
    "- Выделенная линия технической поддержки (*TechSupport*);\n",
    "- Облачное хранилище файлов для резервного копирования данных (*OnlineBackup*);\n",
    "- Стриминговое телевидение (*StreamingTV*) и каталог фильмов (*StreamingMovies*).\n",
    "\n",
    "За услуги клиенты могут платить каждый месяц или заключить договор на 1–2 года. Доступны различные способы расчёта и возможность получения электронного чека.\n",
    "\n",
    "\n",
    "### Описание данных\n",
    "* `contract.csv` — информация о договоре;\n",
    "* `personal.csv` — персональные данные клиента;\n",
    "* `internet.csv` — информация об интернет-услугах;\n",
    "* `phone.csv` — информация об услугах телефонии.\n",
    "\n",
    "**Содержание** \n",
    "  \n",
    "\n",
    "<div class=\"toc\"><ul class=\"toc-item\">\n",
    "<li><span><a href=\"#Изучение-данных-из-файла\" data-toc-modified-id=\"Изучение-данных-из-файла-1\"><span class=\"toc-item-num\">1&nbsp;&nbsp;</span>Изучение данных из файла</a></span></li>\n",
    "<li><span><a href=\"#Подготовка-данных\" data-toc-modified-id=\"Подготовка-данных-2\"><span class=\"toc-item-num\">2&nbsp;&nbsp;</span>Подготовка данных</a></span></li>\n",
    "<li><span><a href=\"#Анализ-данных\" data-toc-modified-id=\"Анализ-данных-3\"><span class=\"toc-item-num\">3&nbsp;&nbsp;</span>Анализ данных</a></span></li>\n",
    "<li><span><a href=\"#Обучение-и-анализ-моделей\" data-toc-modified-id=\"Обучение-и-анализ-моделей-4\"><span class=\"toc-item-num\">4&nbsp;&nbsp;</span>Обучение и анализ моделей</a></span></li>\n",
    "<li><span><a href=\"#Вывод\" data-toc-modified-id=\"Вывод-5\"><span class=\"toc-item-num\">5&nbsp;&nbsp;</span>Вывод</a></span></li>\n"
   ]
  },
  {
   "cell_type": "markdown",
   "id": "9f3102df",
   "metadata": {},
   "source": [
    "## Изучение данных из файла"
   ]
  },
  {
   "cell_type": "markdown",
   "id": "a44d163d",
   "metadata": {},
   "source": [
    "Импортируем все нужные библиотеки"
   ]
  },
  {
   "cell_type": "code",
   "execution_count": 4,
   "id": "fb8f04c3",
   "metadata": {},
   "outputs": [],
   "source": [
    "import pandas as pd\n",
    "import numpy as np\n",
    "import seaborn as sns\n",
    "import matplotlib.pyplot as plt\n",
    "\n",
    "from sklearn.preprocessing import OrdinalEncoder \n",
    "from sklearn.model_selection import train_test_split, GridSearchCV\n",
    "\n",
    "from sklearn.ensemble import RandomForestClassifier\n",
    "from sklearn.tree import DecisionTreeClassifier\n",
    "from sklearn.metrics import accuracy_score\n",
    "from sklearn.linear_model import LogisticRegression\n",
    "from sklearn.dummy import DummyClassifier\n",
    "from sklearn.utils import shuffle\n",
    "from sklearn.metrics import precision_score, recall_score\n",
    "from sklearn.metrics import roc_auc_score\n",
    "from sklearn.metrics import precision_recall_curve\n",
    "from sklearn.metrics import roc_curve\n",
    "from catboost import CatBoostClassifier"
   ]
  },
  {
   "cell_type": "code",
   "execution_count": 5,
   "id": "3c37c590",
   "metadata": {},
   "outputs": [],
   "source": [
    "phone = pd.read_csv(r'C:\\project_jupyter\\final_modul\\phone.csv', index_col='customerID')\n",
    "personal = pd.read_csv(r'C:\\project_jupyter\\final_modul\\personal.csv', index_col='customerID')\n",
    "internet = pd.read_csv(r'C:\\project_jupyter\\final_modul\\internet.csv', index_col='customerID')\n",
    "contract = pd.read_csv(r'C:\\project_jupyter\\final_modul\\contract.csv', index_col='customerID')\n"
   ]
  },
  {
   "cell_type": "markdown",
   "id": "eb7c99f1",
   "metadata": {},
   "source": [
    "phone = pd.read_csv(r'/datasets/final_provider/phone.csv', index_col='customerID')\n",
    "personal = pd.read_csv(r'/datasets/final_provider/personal.csv', index_col='customerID')\n",
    "internet = pd.read_csv(r'/datasets/final_provider/internet.csv', index_col='customerID')\n",
    "contract = pd.read_csv(r'/datasets/final_provider/contract.csv', index_col='customerID')"
   ]
  },
  {
   "cell_type": "code",
   "execution_count": 6,
   "id": "f533278a",
   "metadata": {},
   "outputs": [],
   "source": [
    "pv = [phone,personal,internet,contract]"
   ]
  },
  {
   "cell_type": "code",
   "execution_count": 7,
   "id": "2eb84093",
   "metadata": {},
   "outputs": [
    {
     "data": {
      "text/html": [
       "<div>\n",
       "<style scoped>\n",
       "    .dataframe tbody tr th:only-of-type {\n",
       "        vertical-align: middle;\n",
       "    }\n",
       "\n",
       "    .dataframe tbody tr th {\n",
       "        vertical-align: top;\n",
       "    }\n",
       "\n",
       "    .dataframe thead th {\n",
       "        text-align: right;\n",
       "    }\n",
       "</style>\n",
       "<table border=\"1\" class=\"dataframe\">\n",
       "  <thead>\n",
       "    <tr style=\"text-align: right;\">\n",
       "      <th></th>\n",
       "      <th>MultipleLines</th>\n",
       "    </tr>\n",
       "    <tr>\n",
       "      <th>customerID</th>\n",
       "      <th></th>\n",
       "    </tr>\n",
       "  </thead>\n",
       "  <tbody>\n",
       "    <tr>\n",
       "      <th>5575-GNVDE</th>\n",
       "      <td>No</td>\n",
       "    </tr>\n",
       "    <tr>\n",
       "      <th>3668-QPYBK</th>\n",
       "      <td>No</td>\n",
       "    </tr>\n",
       "    <tr>\n",
       "      <th>9237-HQITU</th>\n",
       "      <td>No</td>\n",
       "    </tr>\n",
       "    <tr>\n",
       "      <th>9305-CDSKC</th>\n",
       "      <td>Yes</td>\n",
       "    </tr>\n",
       "    <tr>\n",
       "      <th>1452-KIOVK</th>\n",
       "      <td>Yes</td>\n",
       "    </tr>\n",
       "  </tbody>\n",
       "</table>\n",
       "</div>"
      ],
      "text/plain": [
       "           MultipleLines\n",
       "customerID              \n",
       "5575-GNVDE            No\n",
       "3668-QPYBK            No\n",
       "9237-HQITU            No\n",
       "9305-CDSKC           Yes\n",
       "1452-KIOVK           Yes"
      ]
     },
     "metadata": {},
     "output_type": "display_data"
    },
    {
     "data": {
      "text/html": [
       "<div>\n",
       "<style scoped>\n",
       "    .dataframe tbody tr th:only-of-type {\n",
       "        vertical-align: middle;\n",
       "    }\n",
       "\n",
       "    .dataframe tbody tr th {\n",
       "        vertical-align: top;\n",
       "    }\n",
       "\n",
       "    .dataframe thead th {\n",
       "        text-align: right;\n",
       "    }\n",
       "</style>\n",
       "<table border=\"1\" class=\"dataframe\">\n",
       "  <thead>\n",
       "    <tr style=\"text-align: right;\">\n",
       "      <th></th>\n",
       "      <th>gender</th>\n",
       "      <th>SeniorCitizen</th>\n",
       "      <th>Partner</th>\n",
       "      <th>Dependents</th>\n",
       "    </tr>\n",
       "    <tr>\n",
       "      <th>customerID</th>\n",
       "      <th></th>\n",
       "      <th></th>\n",
       "      <th></th>\n",
       "      <th></th>\n",
       "    </tr>\n",
       "  </thead>\n",
       "  <tbody>\n",
       "    <tr>\n",
       "      <th>7590-VHVEG</th>\n",
       "      <td>Female</td>\n",
       "      <td>0</td>\n",
       "      <td>Yes</td>\n",
       "      <td>No</td>\n",
       "    </tr>\n",
       "    <tr>\n",
       "      <th>5575-GNVDE</th>\n",
       "      <td>Male</td>\n",
       "      <td>0</td>\n",
       "      <td>No</td>\n",
       "      <td>No</td>\n",
       "    </tr>\n",
       "    <tr>\n",
       "      <th>3668-QPYBK</th>\n",
       "      <td>Male</td>\n",
       "      <td>0</td>\n",
       "      <td>No</td>\n",
       "      <td>No</td>\n",
       "    </tr>\n",
       "    <tr>\n",
       "      <th>7795-CFOCW</th>\n",
       "      <td>Male</td>\n",
       "      <td>0</td>\n",
       "      <td>No</td>\n",
       "      <td>No</td>\n",
       "    </tr>\n",
       "    <tr>\n",
       "      <th>9237-HQITU</th>\n",
       "      <td>Female</td>\n",
       "      <td>0</td>\n",
       "      <td>No</td>\n",
       "      <td>No</td>\n",
       "    </tr>\n",
       "  </tbody>\n",
       "</table>\n",
       "</div>"
      ],
      "text/plain": [
       "            gender  SeniorCitizen Partner Dependents\n",
       "customerID                                          \n",
       "7590-VHVEG  Female              0     Yes         No\n",
       "5575-GNVDE    Male              0      No         No\n",
       "3668-QPYBK    Male              0      No         No\n",
       "7795-CFOCW    Male              0      No         No\n",
       "9237-HQITU  Female              0      No         No"
      ]
     },
     "metadata": {},
     "output_type": "display_data"
    },
    {
     "data": {
      "text/html": [
       "<div>\n",
       "<style scoped>\n",
       "    .dataframe tbody tr th:only-of-type {\n",
       "        vertical-align: middle;\n",
       "    }\n",
       "\n",
       "    .dataframe tbody tr th {\n",
       "        vertical-align: top;\n",
       "    }\n",
       "\n",
       "    .dataframe thead th {\n",
       "        text-align: right;\n",
       "    }\n",
       "</style>\n",
       "<table border=\"1\" class=\"dataframe\">\n",
       "  <thead>\n",
       "    <tr style=\"text-align: right;\">\n",
       "      <th></th>\n",
       "      <th>InternetService</th>\n",
       "      <th>OnlineSecurity</th>\n",
       "      <th>OnlineBackup</th>\n",
       "      <th>DeviceProtection</th>\n",
       "      <th>TechSupport</th>\n",
       "      <th>StreamingTV</th>\n",
       "      <th>StreamingMovies</th>\n",
       "    </tr>\n",
       "    <tr>\n",
       "      <th>customerID</th>\n",
       "      <th></th>\n",
       "      <th></th>\n",
       "      <th></th>\n",
       "      <th></th>\n",
       "      <th></th>\n",
       "      <th></th>\n",
       "      <th></th>\n",
       "    </tr>\n",
       "  </thead>\n",
       "  <tbody>\n",
       "    <tr>\n",
       "      <th>7590-VHVEG</th>\n",
       "      <td>DSL</td>\n",
       "      <td>No</td>\n",
       "      <td>Yes</td>\n",
       "      <td>No</td>\n",
       "      <td>No</td>\n",
       "      <td>No</td>\n",
       "      <td>No</td>\n",
       "    </tr>\n",
       "    <tr>\n",
       "      <th>5575-GNVDE</th>\n",
       "      <td>DSL</td>\n",
       "      <td>Yes</td>\n",
       "      <td>No</td>\n",
       "      <td>Yes</td>\n",
       "      <td>No</td>\n",
       "      <td>No</td>\n",
       "      <td>No</td>\n",
       "    </tr>\n",
       "    <tr>\n",
       "      <th>3668-QPYBK</th>\n",
       "      <td>DSL</td>\n",
       "      <td>Yes</td>\n",
       "      <td>Yes</td>\n",
       "      <td>No</td>\n",
       "      <td>No</td>\n",
       "      <td>No</td>\n",
       "      <td>No</td>\n",
       "    </tr>\n",
       "    <tr>\n",
       "      <th>7795-CFOCW</th>\n",
       "      <td>DSL</td>\n",
       "      <td>Yes</td>\n",
       "      <td>No</td>\n",
       "      <td>Yes</td>\n",
       "      <td>Yes</td>\n",
       "      <td>No</td>\n",
       "      <td>No</td>\n",
       "    </tr>\n",
       "    <tr>\n",
       "      <th>9237-HQITU</th>\n",
       "      <td>Fiber optic</td>\n",
       "      <td>No</td>\n",
       "      <td>No</td>\n",
       "      <td>No</td>\n",
       "      <td>No</td>\n",
       "      <td>No</td>\n",
       "      <td>No</td>\n",
       "    </tr>\n",
       "  </tbody>\n",
       "</table>\n",
       "</div>"
      ],
      "text/plain": [
       "           InternetService OnlineSecurity OnlineBackup DeviceProtection  \\\n",
       "customerID                                                                \n",
       "7590-VHVEG             DSL             No          Yes               No   \n",
       "5575-GNVDE             DSL            Yes           No              Yes   \n",
       "3668-QPYBK             DSL            Yes          Yes               No   \n",
       "7795-CFOCW             DSL            Yes           No              Yes   \n",
       "9237-HQITU     Fiber optic             No           No               No   \n",
       "\n",
       "           TechSupport StreamingTV StreamingMovies  \n",
       "customerID                                          \n",
       "7590-VHVEG          No          No              No  \n",
       "5575-GNVDE          No          No              No  \n",
       "3668-QPYBK          No          No              No  \n",
       "7795-CFOCW         Yes          No              No  \n",
       "9237-HQITU          No          No              No  "
      ]
     },
     "metadata": {},
     "output_type": "display_data"
    },
    {
     "data": {
      "text/html": [
       "<div>\n",
       "<style scoped>\n",
       "    .dataframe tbody tr th:only-of-type {\n",
       "        vertical-align: middle;\n",
       "    }\n",
       "\n",
       "    .dataframe tbody tr th {\n",
       "        vertical-align: top;\n",
       "    }\n",
       "\n",
       "    .dataframe thead th {\n",
       "        text-align: right;\n",
       "    }\n",
       "</style>\n",
       "<table border=\"1\" class=\"dataframe\">\n",
       "  <thead>\n",
       "    <tr style=\"text-align: right;\">\n",
       "      <th></th>\n",
       "      <th>BeginDate</th>\n",
       "      <th>EndDate</th>\n",
       "      <th>Type</th>\n",
       "      <th>PaperlessBilling</th>\n",
       "      <th>PaymentMethod</th>\n",
       "      <th>MonthlyCharges</th>\n",
       "      <th>TotalCharges</th>\n",
       "    </tr>\n",
       "    <tr>\n",
       "      <th>customerID</th>\n",
       "      <th></th>\n",
       "      <th></th>\n",
       "      <th></th>\n",
       "      <th></th>\n",
       "      <th></th>\n",
       "      <th></th>\n",
       "      <th></th>\n",
       "    </tr>\n",
       "  </thead>\n",
       "  <tbody>\n",
       "    <tr>\n",
       "      <th>7590-VHVEG</th>\n",
       "      <td>2020-01-01</td>\n",
       "      <td>No</td>\n",
       "      <td>Month-to-month</td>\n",
       "      <td>Yes</td>\n",
       "      <td>Electronic check</td>\n",
       "      <td>29.85</td>\n",
       "      <td>29.85</td>\n",
       "    </tr>\n",
       "    <tr>\n",
       "      <th>5575-GNVDE</th>\n",
       "      <td>2017-04-01</td>\n",
       "      <td>No</td>\n",
       "      <td>One year</td>\n",
       "      <td>No</td>\n",
       "      <td>Mailed check</td>\n",
       "      <td>56.95</td>\n",
       "      <td>1889.5</td>\n",
       "    </tr>\n",
       "    <tr>\n",
       "      <th>3668-QPYBK</th>\n",
       "      <td>2019-10-01</td>\n",
       "      <td>2019-12-01 00:00:00</td>\n",
       "      <td>Month-to-month</td>\n",
       "      <td>Yes</td>\n",
       "      <td>Mailed check</td>\n",
       "      <td>53.85</td>\n",
       "      <td>108.15</td>\n",
       "    </tr>\n",
       "    <tr>\n",
       "      <th>7795-CFOCW</th>\n",
       "      <td>2016-05-01</td>\n",
       "      <td>No</td>\n",
       "      <td>One year</td>\n",
       "      <td>No</td>\n",
       "      <td>Bank transfer (automatic)</td>\n",
       "      <td>42.30</td>\n",
       "      <td>1840.75</td>\n",
       "    </tr>\n",
       "    <tr>\n",
       "      <th>9237-HQITU</th>\n",
       "      <td>2019-09-01</td>\n",
       "      <td>2019-11-01 00:00:00</td>\n",
       "      <td>Month-to-month</td>\n",
       "      <td>Yes</td>\n",
       "      <td>Electronic check</td>\n",
       "      <td>70.70</td>\n",
       "      <td>151.65</td>\n",
       "    </tr>\n",
       "  </tbody>\n",
       "</table>\n",
       "</div>"
      ],
      "text/plain": [
       "             BeginDate              EndDate            Type PaperlessBilling  \\\n",
       "customerID                                                                     \n",
       "7590-VHVEG  2020-01-01                   No  Month-to-month              Yes   \n",
       "5575-GNVDE  2017-04-01                   No        One year               No   \n",
       "3668-QPYBK  2019-10-01  2019-12-01 00:00:00  Month-to-month              Yes   \n",
       "7795-CFOCW  2016-05-01                   No        One year               No   \n",
       "9237-HQITU  2019-09-01  2019-11-01 00:00:00  Month-to-month              Yes   \n",
       "\n",
       "                        PaymentMethod  MonthlyCharges TotalCharges  \n",
       "customerID                                                          \n",
       "7590-VHVEG           Electronic check           29.85        29.85  \n",
       "5575-GNVDE               Mailed check           56.95       1889.5  \n",
       "3668-QPYBK               Mailed check           53.85       108.15  \n",
       "7795-CFOCW  Bank transfer (automatic)           42.30      1840.75  \n",
       "9237-HQITU           Electronic check           70.70       151.65  "
      ]
     },
     "metadata": {},
     "output_type": "display_data"
    }
   ],
   "source": [
    "for p in pv:\n",
    "    display(p.head())"
   ]
  },
  {
   "cell_type": "code",
   "execution_count": 8,
   "id": "4f9359aa",
   "metadata": {},
   "outputs": [
    {
     "name": "stdout",
     "output_type": "stream",
     "text": [
      "<class 'pandas.core.frame.DataFrame'>\n",
      "Index: 6361 entries, 5575-GNVDE to 3186-AJIEK\n",
      "Data columns (total 1 columns):\n",
      " #   Column         Non-Null Count  Dtype \n",
      "---  ------         --------------  ----- \n",
      " 0   MultipleLines  6361 non-null   object\n",
      "dtypes: object(1)\n",
      "memory usage: 99.4+ KB\n"
     ]
    },
    {
     "data": {
      "text/plain": [
       "None"
      ]
     },
     "metadata": {},
     "output_type": "display_data"
    },
    {
     "name": "stdout",
     "output_type": "stream",
     "text": [
      "<class 'pandas.core.frame.DataFrame'>\n",
      "Index: 7043 entries, 7590-VHVEG to 3186-AJIEK\n",
      "Data columns (total 4 columns):\n",
      " #   Column         Non-Null Count  Dtype \n",
      "---  ------         --------------  ----- \n",
      " 0   gender         7043 non-null   object\n",
      " 1   SeniorCitizen  7043 non-null   int64 \n",
      " 2   Partner        7043 non-null   object\n",
      " 3   Dependents     7043 non-null   object\n",
      "dtypes: int64(1), object(3)\n",
      "memory usage: 275.1+ KB\n"
     ]
    },
    {
     "data": {
      "text/plain": [
       "None"
      ]
     },
     "metadata": {},
     "output_type": "display_data"
    },
    {
     "name": "stdout",
     "output_type": "stream",
     "text": [
      "<class 'pandas.core.frame.DataFrame'>\n",
      "Index: 5517 entries, 7590-VHVEG to 3186-AJIEK\n",
      "Data columns (total 7 columns):\n",
      " #   Column            Non-Null Count  Dtype \n",
      "---  ------            --------------  ----- \n",
      " 0   InternetService   5517 non-null   object\n",
      " 1   OnlineSecurity    5517 non-null   object\n",
      " 2   OnlineBackup      5517 non-null   object\n",
      " 3   DeviceProtection  5517 non-null   object\n",
      " 4   TechSupport       5517 non-null   object\n",
      " 5   StreamingTV       5517 non-null   object\n",
      " 6   StreamingMovies   5517 non-null   object\n",
      "dtypes: object(7)\n",
      "memory usage: 344.8+ KB\n"
     ]
    },
    {
     "data": {
      "text/plain": [
       "None"
      ]
     },
     "metadata": {},
     "output_type": "display_data"
    },
    {
     "name": "stdout",
     "output_type": "stream",
     "text": [
      "<class 'pandas.core.frame.DataFrame'>\n",
      "Index: 7043 entries, 7590-VHVEG to 3186-AJIEK\n",
      "Data columns (total 7 columns):\n",
      " #   Column            Non-Null Count  Dtype  \n",
      "---  ------            --------------  -----  \n",
      " 0   BeginDate         7043 non-null   object \n",
      " 1   EndDate           7043 non-null   object \n",
      " 2   Type              7043 non-null   object \n",
      " 3   PaperlessBilling  7043 non-null   object \n",
      " 4   PaymentMethod     7043 non-null   object \n",
      " 5   MonthlyCharges    7043 non-null   float64\n",
      " 6   TotalCharges      7043 non-null   object \n",
      "dtypes: float64(1), object(6)\n",
      "memory usage: 440.2+ KB\n"
     ]
    },
    {
     "data": {
      "text/plain": [
       "None"
      ]
     },
     "metadata": {},
     "output_type": "display_data"
    }
   ],
   "source": [
    "for p in pv:\n",
    "    display(p.info())"
   ]
  },
  {
   "cell_type": "code",
   "execution_count": 9,
   "id": "011f4a79",
   "metadata": {
    "scrolled": true
   },
   "outputs": [
    {
     "data": {
      "text/html": [
       "<div>\n",
       "<style scoped>\n",
       "    .dataframe tbody tr th:only-of-type {\n",
       "        vertical-align: middle;\n",
       "    }\n",
       "\n",
       "    .dataframe tbody tr th {\n",
       "        vertical-align: top;\n",
       "    }\n",
       "\n",
       "    .dataframe thead th {\n",
       "        text-align: right;\n",
       "    }\n",
       "</style>\n",
       "<table border=\"1\" class=\"dataframe\">\n",
       "  <thead>\n",
       "    <tr style=\"text-align: right;\">\n",
       "      <th></th>\n",
       "      <th>MultipleLines</th>\n",
       "    </tr>\n",
       "  </thead>\n",
       "  <tbody>\n",
       "    <tr>\n",
       "      <th>count</th>\n",
       "      <td>6361</td>\n",
       "    </tr>\n",
       "    <tr>\n",
       "      <th>unique</th>\n",
       "      <td>2</td>\n",
       "    </tr>\n",
       "    <tr>\n",
       "      <th>top</th>\n",
       "      <td>No</td>\n",
       "    </tr>\n",
       "    <tr>\n",
       "      <th>freq</th>\n",
       "      <td>3390</td>\n",
       "    </tr>\n",
       "  </tbody>\n",
       "</table>\n",
       "</div>"
      ],
      "text/plain": [
       "       MultipleLines\n",
       "count           6361\n",
       "unique             2\n",
       "top               No\n",
       "freq            3390"
      ]
     },
     "metadata": {},
     "output_type": "display_data"
    },
    {
     "data": {
      "text/html": [
       "<div>\n",
       "<style scoped>\n",
       "    .dataframe tbody tr th:only-of-type {\n",
       "        vertical-align: middle;\n",
       "    }\n",
       "\n",
       "    .dataframe tbody tr th {\n",
       "        vertical-align: top;\n",
       "    }\n",
       "\n",
       "    .dataframe thead th {\n",
       "        text-align: right;\n",
       "    }\n",
       "</style>\n",
       "<table border=\"1\" class=\"dataframe\">\n",
       "  <thead>\n",
       "    <tr style=\"text-align: right;\">\n",
       "      <th></th>\n",
       "      <th>SeniorCitizen</th>\n",
       "    </tr>\n",
       "  </thead>\n",
       "  <tbody>\n",
       "    <tr>\n",
       "      <th>count</th>\n",
       "      <td>7043.000000</td>\n",
       "    </tr>\n",
       "    <tr>\n",
       "      <th>mean</th>\n",
       "      <td>0.162147</td>\n",
       "    </tr>\n",
       "    <tr>\n",
       "      <th>std</th>\n",
       "      <td>0.368612</td>\n",
       "    </tr>\n",
       "    <tr>\n",
       "      <th>min</th>\n",
       "      <td>0.000000</td>\n",
       "    </tr>\n",
       "    <tr>\n",
       "      <th>25%</th>\n",
       "      <td>0.000000</td>\n",
       "    </tr>\n",
       "    <tr>\n",
       "      <th>50%</th>\n",
       "      <td>0.000000</td>\n",
       "    </tr>\n",
       "    <tr>\n",
       "      <th>75%</th>\n",
       "      <td>0.000000</td>\n",
       "    </tr>\n",
       "    <tr>\n",
       "      <th>max</th>\n",
       "      <td>1.000000</td>\n",
       "    </tr>\n",
       "  </tbody>\n",
       "</table>\n",
       "</div>"
      ],
      "text/plain": [
       "       SeniorCitizen\n",
       "count    7043.000000\n",
       "mean        0.162147\n",
       "std         0.368612\n",
       "min         0.000000\n",
       "25%         0.000000\n",
       "50%         0.000000\n",
       "75%         0.000000\n",
       "max         1.000000"
      ]
     },
     "metadata": {},
     "output_type": "display_data"
    },
    {
     "data": {
      "text/html": [
       "<div>\n",
       "<style scoped>\n",
       "    .dataframe tbody tr th:only-of-type {\n",
       "        vertical-align: middle;\n",
       "    }\n",
       "\n",
       "    .dataframe tbody tr th {\n",
       "        vertical-align: top;\n",
       "    }\n",
       "\n",
       "    .dataframe thead th {\n",
       "        text-align: right;\n",
       "    }\n",
       "</style>\n",
       "<table border=\"1\" class=\"dataframe\">\n",
       "  <thead>\n",
       "    <tr style=\"text-align: right;\">\n",
       "      <th></th>\n",
       "      <th>InternetService</th>\n",
       "      <th>OnlineSecurity</th>\n",
       "      <th>OnlineBackup</th>\n",
       "      <th>DeviceProtection</th>\n",
       "      <th>TechSupport</th>\n",
       "      <th>StreamingTV</th>\n",
       "      <th>StreamingMovies</th>\n",
       "    </tr>\n",
       "  </thead>\n",
       "  <tbody>\n",
       "    <tr>\n",
       "      <th>count</th>\n",
       "      <td>5517</td>\n",
       "      <td>5517</td>\n",
       "      <td>5517</td>\n",
       "      <td>5517</td>\n",
       "      <td>5517</td>\n",
       "      <td>5517</td>\n",
       "      <td>5517</td>\n",
       "    </tr>\n",
       "    <tr>\n",
       "      <th>unique</th>\n",
       "      <td>2</td>\n",
       "      <td>2</td>\n",
       "      <td>2</td>\n",
       "      <td>2</td>\n",
       "      <td>2</td>\n",
       "      <td>2</td>\n",
       "      <td>2</td>\n",
       "    </tr>\n",
       "    <tr>\n",
       "      <th>top</th>\n",
       "      <td>Fiber optic</td>\n",
       "      <td>No</td>\n",
       "      <td>No</td>\n",
       "      <td>No</td>\n",
       "      <td>No</td>\n",
       "      <td>No</td>\n",
       "      <td>No</td>\n",
       "    </tr>\n",
       "    <tr>\n",
       "      <th>freq</th>\n",
       "      <td>3096</td>\n",
       "      <td>3498</td>\n",
       "      <td>3088</td>\n",
       "      <td>3095</td>\n",
       "      <td>3473</td>\n",
       "      <td>2810</td>\n",
       "      <td>2785</td>\n",
       "    </tr>\n",
       "  </tbody>\n",
       "</table>\n",
       "</div>"
      ],
      "text/plain": [
       "       InternetService OnlineSecurity OnlineBackup DeviceProtection  \\\n",
       "count             5517           5517         5517             5517   \n",
       "unique               2              2            2                2   \n",
       "top        Fiber optic             No           No               No   \n",
       "freq              3096           3498         3088             3095   \n",
       "\n",
       "       TechSupport StreamingTV StreamingMovies  \n",
       "count         5517        5517            5517  \n",
       "unique           2           2               2  \n",
       "top             No          No              No  \n",
       "freq          3473        2810            2785  "
      ]
     },
     "metadata": {},
     "output_type": "display_data"
    },
    {
     "data": {
      "text/html": [
       "<div>\n",
       "<style scoped>\n",
       "    .dataframe tbody tr th:only-of-type {\n",
       "        vertical-align: middle;\n",
       "    }\n",
       "\n",
       "    .dataframe tbody tr th {\n",
       "        vertical-align: top;\n",
       "    }\n",
       "\n",
       "    .dataframe thead th {\n",
       "        text-align: right;\n",
       "    }\n",
       "</style>\n",
       "<table border=\"1\" class=\"dataframe\">\n",
       "  <thead>\n",
       "    <tr style=\"text-align: right;\">\n",
       "      <th></th>\n",
       "      <th>MonthlyCharges</th>\n",
       "    </tr>\n",
       "  </thead>\n",
       "  <tbody>\n",
       "    <tr>\n",
       "      <th>count</th>\n",
       "      <td>7043.000000</td>\n",
       "    </tr>\n",
       "    <tr>\n",
       "      <th>mean</th>\n",
       "      <td>64.761692</td>\n",
       "    </tr>\n",
       "    <tr>\n",
       "      <th>std</th>\n",
       "      <td>30.090047</td>\n",
       "    </tr>\n",
       "    <tr>\n",
       "      <th>min</th>\n",
       "      <td>18.250000</td>\n",
       "    </tr>\n",
       "    <tr>\n",
       "      <th>25%</th>\n",
       "      <td>35.500000</td>\n",
       "    </tr>\n",
       "    <tr>\n",
       "      <th>50%</th>\n",
       "      <td>70.350000</td>\n",
       "    </tr>\n",
       "    <tr>\n",
       "      <th>75%</th>\n",
       "      <td>89.850000</td>\n",
       "    </tr>\n",
       "    <tr>\n",
       "      <th>max</th>\n",
       "      <td>118.750000</td>\n",
       "    </tr>\n",
       "  </tbody>\n",
       "</table>\n",
       "</div>"
      ],
      "text/plain": [
       "       MonthlyCharges\n",
       "count     7043.000000\n",
       "mean        64.761692\n",
       "std         30.090047\n",
       "min         18.250000\n",
       "25%         35.500000\n",
       "50%         70.350000\n",
       "75%         89.850000\n",
       "max        118.750000"
      ]
     },
     "metadata": {},
     "output_type": "display_data"
    }
   ],
   "source": [
    "for p in pv:\n",
    "    display(p.describe())"
   ]
  },
  {
   "cell_type": "markdown",
   "id": "9e026e11",
   "metadata": {},
   "source": [
    "**Вывод:** \n",
    "\n",
    "При первичном осмотре данных вижу следующие проблемы в данных:\n",
    "\n",
    "Типы данных:\n",
    "* TotalCharges - нужен числовой тип данных\n",
    "* BeginDate - нужен тип данных даты\n",
    "* EndDate - нужен тип данных даты(но там пропуски поэтому \n",
    "\n",
    "\n",
    "Нужно закодировать многие столбцы, где два значения, и соотвественно поменять там типы данных\n",
    "\n",
    "Я делаю вывод, что где заполнен столбец EndDate значит клиент ушел, соотвественно это целевой столбец."
   ]
  },
  {
   "cell_type": "markdown",
   "id": "42608312",
   "metadata": {},
   "source": [
    "## Подготовка данных"
   ]
  },
  {
   "cell_type": "code",
   "execution_count": 10,
   "id": "c5ce40fa",
   "metadata": {},
   "outputs": [],
   "source": [
    "contract = contract.drop(contract.loc[contract['TotalCharges'] == ' '].index)"
   ]
  },
  {
   "cell_type": "markdown",
   "id": "075309ed",
   "metadata": {},
   "source": [
    "Удалим индексы с пустыми данными в стоблце(их всего 11)"
   ]
  },
  {
   "cell_type": "code",
   "execution_count": 11,
   "id": "3fb2d8ca",
   "metadata": {},
   "outputs": [],
   "source": [
    "contract['purpose'] = contract['EndDate']\n",
    "contract.loc[contract['purpose'] == 'No', 'purpose'] = 0\n",
    "contract.loc[contract['purpose'] != 0, 'purpose'] = 1"
   ]
  },
  {
   "cell_type": "code",
   "execution_count": 12,
   "id": "fe1c1b8f",
   "metadata": {},
   "outputs": [],
   "source": [
    "contract['TotalCharges'] = contract['TotalCharges'].astype('float64')\n",
    "contract['BeginDate'] = contract['BeginDate'].astype('datetime64')"
   ]
  },
  {
   "cell_type": "code",
   "execution_count": 13,
   "id": "30a99a70",
   "metadata": {},
   "outputs": [],
   "source": [
    "contract.loc[contract['EndDate'] == 'No', 'EndDate'] = '2020-02-01'\n",
    "contract['EndDate'] = contract['EndDate'].astype('datetime64')"
   ]
  },
  {
   "cell_type": "markdown",
   "id": "32dd682e",
   "metadata": {},
   "source": [
    "Вычислим количество дней в течении которых пользователь пользуется(пользовался) услугами"
   ]
  },
  {
   "cell_type": "code",
   "execution_count": 14,
   "id": "d4777522",
   "metadata": {},
   "outputs": [],
   "source": [
    "contract['total_days'] =  (contract['EndDate'] - contract['BeginDate']) // np.timedelta64(1, 'D')"
   ]
  },
  {
   "cell_type": "code",
   "execution_count": 15,
   "id": "bf667a08",
   "metadata": {},
   "outputs": [],
   "source": [
    "contract = contract.drop(['BeginDate', 'EndDate'], axis=1)#удалим ненужные нам столбцы"
   ]
  },
  {
   "cell_type": "code",
   "execution_count": 16,
   "id": "a4502c8b",
   "metadata": {},
   "outputs": [
    {
     "data": {
      "text/html": [
       "<div>\n",
       "<style scoped>\n",
       "    .dataframe tbody tr th:only-of-type {\n",
       "        vertical-align: middle;\n",
       "    }\n",
       "\n",
       "    .dataframe tbody tr th {\n",
       "        vertical-align: top;\n",
       "    }\n",
       "\n",
       "    .dataframe thead th {\n",
       "        text-align: right;\n",
       "    }\n",
       "</style>\n",
       "<table border=\"1\" class=\"dataframe\">\n",
       "  <thead>\n",
       "    <tr style=\"text-align: right;\">\n",
       "      <th></th>\n",
       "      <th>Type</th>\n",
       "      <th>PaperlessBilling</th>\n",
       "      <th>PaymentMethod</th>\n",
       "      <th>MonthlyCharges</th>\n",
       "      <th>TotalCharges</th>\n",
       "      <th>purpose</th>\n",
       "      <th>total_days</th>\n",
       "    </tr>\n",
       "    <tr>\n",
       "      <th>customerID</th>\n",
       "      <th></th>\n",
       "      <th></th>\n",
       "      <th></th>\n",
       "      <th></th>\n",
       "      <th></th>\n",
       "      <th></th>\n",
       "      <th></th>\n",
       "    </tr>\n",
       "  </thead>\n",
       "  <tbody>\n",
       "    <tr>\n",
       "      <th>7590-VHVEG</th>\n",
       "      <td>Month-to-month</td>\n",
       "      <td>Yes</td>\n",
       "      <td>Electronic check</td>\n",
       "      <td>29.85</td>\n",
       "      <td>29.85</td>\n",
       "      <td>0</td>\n",
       "      <td>31</td>\n",
       "    </tr>\n",
       "    <tr>\n",
       "      <th>5575-GNVDE</th>\n",
       "      <td>One year</td>\n",
       "      <td>No</td>\n",
       "      <td>Mailed check</td>\n",
       "      <td>56.95</td>\n",
       "      <td>1889.50</td>\n",
       "      <td>0</td>\n",
       "      <td>1036</td>\n",
       "    </tr>\n",
       "    <tr>\n",
       "      <th>3668-QPYBK</th>\n",
       "      <td>Month-to-month</td>\n",
       "      <td>Yes</td>\n",
       "      <td>Mailed check</td>\n",
       "      <td>53.85</td>\n",
       "      <td>108.15</td>\n",
       "      <td>1</td>\n",
       "      <td>61</td>\n",
       "    </tr>\n",
       "    <tr>\n",
       "      <th>7795-CFOCW</th>\n",
       "      <td>One year</td>\n",
       "      <td>No</td>\n",
       "      <td>Bank transfer (automatic)</td>\n",
       "      <td>42.30</td>\n",
       "      <td>1840.75</td>\n",
       "      <td>0</td>\n",
       "      <td>1371</td>\n",
       "    </tr>\n",
       "    <tr>\n",
       "      <th>9237-HQITU</th>\n",
       "      <td>Month-to-month</td>\n",
       "      <td>Yes</td>\n",
       "      <td>Electronic check</td>\n",
       "      <td>70.70</td>\n",
       "      <td>151.65</td>\n",
       "      <td>1</td>\n",
       "      <td>61</td>\n",
       "    </tr>\n",
       "    <tr>\n",
       "      <th>9305-CDSKC</th>\n",
       "      <td>Month-to-month</td>\n",
       "      <td>Yes</td>\n",
       "      <td>Electronic check</td>\n",
       "      <td>99.65</td>\n",
       "      <td>820.50</td>\n",
       "      <td>1</td>\n",
       "      <td>245</td>\n",
       "    </tr>\n",
       "    <tr>\n",
       "      <th>1452-KIOVK</th>\n",
       "      <td>Month-to-month</td>\n",
       "      <td>Yes</td>\n",
       "      <td>Credit card (automatic)</td>\n",
       "      <td>89.10</td>\n",
       "      <td>1949.40</td>\n",
       "      <td>0</td>\n",
       "      <td>671</td>\n",
       "    </tr>\n",
       "    <tr>\n",
       "      <th>6713-OKOMC</th>\n",
       "      <td>Month-to-month</td>\n",
       "      <td>No</td>\n",
       "      <td>Mailed check</td>\n",
       "      <td>29.75</td>\n",
       "      <td>301.90</td>\n",
       "      <td>0</td>\n",
       "      <td>306</td>\n",
       "    </tr>\n",
       "    <tr>\n",
       "      <th>7892-POOKP</th>\n",
       "      <td>Month-to-month</td>\n",
       "      <td>Yes</td>\n",
       "      <td>Electronic check</td>\n",
       "      <td>104.80</td>\n",
       "      <td>3046.05</td>\n",
       "      <td>1</td>\n",
       "      <td>853</td>\n",
       "    </tr>\n",
       "    <tr>\n",
       "      <th>6388-TABGU</th>\n",
       "      <td>One year</td>\n",
       "      <td>No</td>\n",
       "      <td>Bank transfer (automatic)</td>\n",
       "      <td>56.15</td>\n",
       "      <td>3487.95</td>\n",
       "      <td>0</td>\n",
       "      <td>1888</td>\n",
       "    </tr>\n",
       "    <tr>\n",
       "      <th>9763-GRSKD</th>\n",
       "      <td>Month-to-month</td>\n",
       "      <td>Yes</td>\n",
       "      <td>Mailed check</td>\n",
       "      <td>49.95</td>\n",
       "      <td>587.45</td>\n",
       "      <td>0</td>\n",
       "      <td>396</td>\n",
       "    </tr>\n",
       "    <tr>\n",
       "      <th>7469-LKBCI</th>\n",
       "      <td>Two year</td>\n",
       "      <td>No</td>\n",
       "      <td>Credit card (automatic)</td>\n",
       "      <td>18.95</td>\n",
       "      <td>326.80</td>\n",
       "      <td>0</td>\n",
       "      <td>488</td>\n",
       "    </tr>\n",
       "    <tr>\n",
       "      <th>8091-TTVAX</th>\n",
       "      <td>One year</td>\n",
       "      <td>No</td>\n",
       "      <td>Credit card (automatic)</td>\n",
       "      <td>100.35</td>\n",
       "      <td>5681.10</td>\n",
       "      <td>0</td>\n",
       "      <td>1767</td>\n",
       "    </tr>\n",
       "    <tr>\n",
       "      <th>0280-XJGEX</th>\n",
       "      <td>Month-to-month</td>\n",
       "      <td>Yes</td>\n",
       "      <td>Bank transfer (automatic)</td>\n",
       "      <td>103.70</td>\n",
       "      <td>5036.30</td>\n",
       "      <td>1</td>\n",
       "      <td>1491</td>\n",
       "    </tr>\n",
       "    <tr>\n",
       "      <th>5129-JLPIS</th>\n",
       "      <td>Month-to-month</td>\n",
       "      <td>Yes</td>\n",
       "      <td>Electronic check</td>\n",
       "      <td>105.50</td>\n",
       "      <td>2686.05</td>\n",
       "      <td>0</td>\n",
       "      <td>761</td>\n",
       "    </tr>\n",
       "  </tbody>\n",
       "</table>\n",
       "</div>"
      ],
      "text/plain": [
       "                      Type PaperlessBilling              PaymentMethod  \\\n",
       "customerID                                                               \n",
       "7590-VHVEG  Month-to-month              Yes           Electronic check   \n",
       "5575-GNVDE        One year               No               Mailed check   \n",
       "3668-QPYBK  Month-to-month              Yes               Mailed check   \n",
       "7795-CFOCW        One year               No  Bank transfer (automatic)   \n",
       "9237-HQITU  Month-to-month              Yes           Electronic check   \n",
       "9305-CDSKC  Month-to-month              Yes           Electronic check   \n",
       "1452-KIOVK  Month-to-month              Yes    Credit card (automatic)   \n",
       "6713-OKOMC  Month-to-month               No               Mailed check   \n",
       "7892-POOKP  Month-to-month              Yes           Electronic check   \n",
       "6388-TABGU        One year               No  Bank transfer (automatic)   \n",
       "9763-GRSKD  Month-to-month              Yes               Mailed check   \n",
       "7469-LKBCI        Two year               No    Credit card (automatic)   \n",
       "8091-TTVAX        One year               No    Credit card (automatic)   \n",
       "0280-XJGEX  Month-to-month              Yes  Bank transfer (automatic)   \n",
       "5129-JLPIS  Month-to-month              Yes           Electronic check   \n",
       "\n",
       "            MonthlyCharges  TotalCharges purpose  total_days  \n",
       "customerID                                                    \n",
       "7590-VHVEG           29.85         29.85       0          31  \n",
       "5575-GNVDE           56.95       1889.50       0        1036  \n",
       "3668-QPYBK           53.85        108.15       1          61  \n",
       "7795-CFOCW           42.30       1840.75       0        1371  \n",
       "9237-HQITU           70.70        151.65       1          61  \n",
       "9305-CDSKC           99.65        820.50       1         245  \n",
       "1452-KIOVK           89.10       1949.40       0         671  \n",
       "6713-OKOMC           29.75        301.90       0         306  \n",
       "7892-POOKP          104.80       3046.05       1         853  \n",
       "6388-TABGU           56.15       3487.95       0        1888  \n",
       "9763-GRSKD           49.95        587.45       0         396  \n",
       "7469-LKBCI           18.95        326.80       0         488  \n",
       "8091-TTVAX          100.35       5681.10       0        1767  \n",
       "0280-XJGEX          103.70       5036.30       1        1491  \n",
       "5129-JLPIS          105.50       2686.05       0         761  "
      ]
     },
     "execution_count": 16,
     "metadata": {},
     "output_type": "execute_result"
    }
   ],
   "source": [
    "contract.head(15)"
   ]
  },
  {
   "cell_type": "markdown",
   "id": "0e78db9d",
   "metadata": {},
   "source": [
    "**Кодирование**"
   ]
  },
  {
   "cell_type": "markdown",
   "id": "1b0246b5",
   "metadata": {},
   "source": [
    "Используем прямое кодирование к таблицам, чтобы закодировать признаки в столбцах"
   ]
  },
  {
   "cell_type": "code",
   "execution_count": 17,
   "id": "61f2eae3",
   "metadata": {},
   "outputs": [],
   "source": [
    "encoder = OrdinalEncoder()\n",
    "\n",
    "phone = pd.DataFrame(encoder.fit_transform(phone),columns=phone.columns, index = phone.index)\n",
    "personal = pd.DataFrame(encoder.fit_transform(personal),columns=personal.columns, index = personal.index)\n",
    "internet = pd.DataFrame(encoder.fit_transform(internet),columns=internet.columns, index = internet.index)\n"
   ]
  },
  {
   "cell_type": "code",
   "execution_count": 18,
   "id": "f64c4879",
   "metadata": {},
   "outputs": [],
   "source": [
    "encoder.fit(contract[['Type','PaperlessBilling','PaymentMethod']])\n",
    "contract[['Type','PaperlessBilling','PaymentMethod']] = encoder.transform(contract[['Type','PaperlessBilling','PaymentMethod']])"
   ]
  },
  {
   "cell_type": "markdown",
   "id": "7142075e",
   "metadata": {},
   "source": [
    "Получили таблицы с закодированными переменными"
   ]
  },
  {
   "cell_type": "markdown",
   "id": "69d912db",
   "metadata": {},
   "source": [
    "**Объединение таблиц**"
   ]
  },
  {
   "cell_type": "code",
   "execution_count": 19,
   "id": "a65c36c0",
   "metadata": {},
   "outputs": [],
   "source": [
    "final = contract.join(personal,how='left').join(phone, how='left').fillna(-1).join(internet, how='left').fillna(-1)#заполним пропуски в "
   ]
  },
  {
   "cell_type": "code",
   "execution_count": 20,
   "id": "f8b55f20",
   "metadata": {
    "scrolled": true
   },
   "outputs": [
    {
     "data": {
      "text/html": [
       "<div>\n",
       "<style scoped>\n",
       "    .dataframe tbody tr th:only-of-type {\n",
       "        vertical-align: middle;\n",
       "    }\n",
       "\n",
       "    .dataframe tbody tr th {\n",
       "        vertical-align: top;\n",
       "    }\n",
       "\n",
       "    .dataframe thead th {\n",
       "        text-align: right;\n",
       "    }\n",
       "</style>\n",
       "<table border=\"1\" class=\"dataframe\">\n",
       "  <thead>\n",
       "    <tr style=\"text-align: right;\">\n",
       "      <th></th>\n",
       "      <th>Type</th>\n",
       "      <th>PaperlessBilling</th>\n",
       "      <th>PaymentMethod</th>\n",
       "      <th>MonthlyCharges</th>\n",
       "      <th>TotalCharges</th>\n",
       "      <th>purpose</th>\n",
       "      <th>total_days</th>\n",
       "      <th>gender</th>\n",
       "      <th>SeniorCitizen</th>\n",
       "      <th>Partner</th>\n",
       "      <th>Dependents</th>\n",
       "      <th>MultipleLines</th>\n",
       "      <th>InternetService</th>\n",
       "      <th>OnlineSecurity</th>\n",
       "      <th>OnlineBackup</th>\n",
       "      <th>DeviceProtection</th>\n",
       "      <th>TechSupport</th>\n",
       "      <th>StreamingTV</th>\n",
       "      <th>StreamingMovies</th>\n",
       "    </tr>\n",
       "    <tr>\n",
       "      <th>customerID</th>\n",
       "      <th></th>\n",
       "      <th></th>\n",
       "      <th></th>\n",
       "      <th></th>\n",
       "      <th></th>\n",
       "      <th></th>\n",
       "      <th></th>\n",
       "      <th></th>\n",
       "      <th></th>\n",
       "      <th></th>\n",
       "      <th></th>\n",
       "      <th></th>\n",
       "      <th></th>\n",
       "      <th></th>\n",
       "      <th></th>\n",
       "      <th></th>\n",
       "      <th></th>\n",
       "      <th></th>\n",
       "      <th></th>\n",
       "    </tr>\n",
       "  </thead>\n",
       "  <tbody>\n",
       "    <tr>\n",
       "      <th>7590-VHVEG</th>\n",
       "      <td>0.0</td>\n",
       "      <td>1.0</td>\n",
       "      <td>2.0</td>\n",
       "      <td>29.85</td>\n",
       "      <td>29.85</td>\n",
       "      <td>0</td>\n",
       "      <td>31</td>\n",
       "      <td>0.0</td>\n",
       "      <td>0.0</td>\n",
       "      <td>1.0</td>\n",
       "      <td>0.0</td>\n",
       "      <td>-1.0</td>\n",
       "      <td>0.0</td>\n",
       "      <td>0.0</td>\n",
       "      <td>1.0</td>\n",
       "      <td>0.0</td>\n",
       "      <td>0.0</td>\n",
       "      <td>0.0</td>\n",
       "      <td>0.0</td>\n",
       "    </tr>\n",
       "    <tr>\n",
       "      <th>5575-GNVDE</th>\n",
       "      <td>1.0</td>\n",
       "      <td>0.0</td>\n",
       "      <td>3.0</td>\n",
       "      <td>56.95</td>\n",
       "      <td>1889.50</td>\n",
       "      <td>0</td>\n",
       "      <td>1036</td>\n",
       "      <td>1.0</td>\n",
       "      <td>0.0</td>\n",
       "      <td>0.0</td>\n",
       "      <td>0.0</td>\n",
       "      <td>0.0</td>\n",
       "      <td>0.0</td>\n",
       "      <td>1.0</td>\n",
       "      <td>0.0</td>\n",
       "      <td>1.0</td>\n",
       "      <td>0.0</td>\n",
       "      <td>0.0</td>\n",
       "      <td>0.0</td>\n",
       "    </tr>\n",
       "    <tr>\n",
       "      <th>3668-QPYBK</th>\n",
       "      <td>0.0</td>\n",
       "      <td>1.0</td>\n",
       "      <td>3.0</td>\n",
       "      <td>53.85</td>\n",
       "      <td>108.15</td>\n",
       "      <td>1</td>\n",
       "      <td>61</td>\n",
       "      <td>1.0</td>\n",
       "      <td>0.0</td>\n",
       "      <td>0.0</td>\n",
       "      <td>0.0</td>\n",
       "      <td>0.0</td>\n",
       "      <td>0.0</td>\n",
       "      <td>1.0</td>\n",
       "      <td>1.0</td>\n",
       "      <td>0.0</td>\n",
       "      <td>0.0</td>\n",
       "      <td>0.0</td>\n",
       "      <td>0.0</td>\n",
       "    </tr>\n",
       "    <tr>\n",
       "      <th>7795-CFOCW</th>\n",
       "      <td>1.0</td>\n",
       "      <td>0.0</td>\n",
       "      <td>0.0</td>\n",
       "      <td>42.30</td>\n",
       "      <td>1840.75</td>\n",
       "      <td>0</td>\n",
       "      <td>1371</td>\n",
       "      <td>1.0</td>\n",
       "      <td>0.0</td>\n",
       "      <td>0.0</td>\n",
       "      <td>0.0</td>\n",
       "      <td>-1.0</td>\n",
       "      <td>0.0</td>\n",
       "      <td>1.0</td>\n",
       "      <td>0.0</td>\n",
       "      <td>1.0</td>\n",
       "      <td>1.0</td>\n",
       "      <td>0.0</td>\n",
       "      <td>0.0</td>\n",
       "    </tr>\n",
       "    <tr>\n",
       "      <th>9237-HQITU</th>\n",
       "      <td>0.0</td>\n",
       "      <td>1.0</td>\n",
       "      <td>2.0</td>\n",
       "      <td>70.70</td>\n",
       "      <td>151.65</td>\n",
       "      <td>1</td>\n",
       "      <td>61</td>\n",
       "      <td>0.0</td>\n",
       "      <td>0.0</td>\n",
       "      <td>0.0</td>\n",
       "      <td>0.0</td>\n",
       "      <td>0.0</td>\n",
       "      <td>1.0</td>\n",
       "      <td>0.0</td>\n",
       "      <td>0.0</td>\n",
       "      <td>0.0</td>\n",
       "      <td>0.0</td>\n",
       "      <td>0.0</td>\n",
       "      <td>0.0</td>\n",
       "    </tr>\n",
       "    <tr>\n",
       "      <th>9305-CDSKC</th>\n",
       "      <td>0.0</td>\n",
       "      <td>1.0</td>\n",
       "      <td>2.0</td>\n",
       "      <td>99.65</td>\n",
       "      <td>820.50</td>\n",
       "      <td>1</td>\n",
       "      <td>245</td>\n",
       "      <td>0.0</td>\n",
       "      <td>0.0</td>\n",
       "      <td>0.0</td>\n",
       "      <td>0.0</td>\n",
       "      <td>1.0</td>\n",
       "      <td>1.0</td>\n",
       "      <td>0.0</td>\n",
       "      <td>0.0</td>\n",
       "      <td>1.0</td>\n",
       "      <td>0.0</td>\n",
       "      <td>1.0</td>\n",
       "      <td>1.0</td>\n",
       "    </tr>\n",
       "    <tr>\n",
       "      <th>1452-KIOVK</th>\n",
       "      <td>0.0</td>\n",
       "      <td>1.0</td>\n",
       "      <td>1.0</td>\n",
       "      <td>89.10</td>\n",
       "      <td>1949.40</td>\n",
       "      <td>0</td>\n",
       "      <td>671</td>\n",
       "      <td>1.0</td>\n",
       "      <td>0.0</td>\n",
       "      <td>0.0</td>\n",
       "      <td>1.0</td>\n",
       "      <td>1.0</td>\n",
       "      <td>1.0</td>\n",
       "      <td>0.0</td>\n",
       "      <td>1.0</td>\n",
       "      <td>0.0</td>\n",
       "      <td>0.0</td>\n",
       "      <td>1.0</td>\n",
       "      <td>0.0</td>\n",
       "    </tr>\n",
       "    <tr>\n",
       "      <th>6713-OKOMC</th>\n",
       "      <td>0.0</td>\n",
       "      <td>0.0</td>\n",
       "      <td>3.0</td>\n",
       "      <td>29.75</td>\n",
       "      <td>301.90</td>\n",
       "      <td>0</td>\n",
       "      <td>306</td>\n",
       "      <td>0.0</td>\n",
       "      <td>0.0</td>\n",
       "      <td>0.0</td>\n",
       "      <td>0.0</td>\n",
       "      <td>-1.0</td>\n",
       "      <td>0.0</td>\n",
       "      <td>1.0</td>\n",
       "      <td>0.0</td>\n",
       "      <td>0.0</td>\n",
       "      <td>0.0</td>\n",
       "      <td>0.0</td>\n",
       "      <td>0.0</td>\n",
       "    </tr>\n",
       "    <tr>\n",
       "      <th>7892-POOKP</th>\n",
       "      <td>0.0</td>\n",
       "      <td>1.0</td>\n",
       "      <td>2.0</td>\n",
       "      <td>104.80</td>\n",
       "      <td>3046.05</td>\n",
       "      <td>1</td>\n",
       "      <td>853</td>\n",
       "      <td>0.0</td>\n",
       "      <td>0.0</td>\n",
       "      <td>1.0</td>\n",
       "      <td>0.0</td>\n",
       "      <td>1.0</td>\n",
       "      <td>1.0</td>\n",
       "      <td>0.0</td>\n",
       "      <td>0.0</td>\n",
       "      <td>1.0</td>\n",
       "      <td>1.0</td>\n",
       "      <td>1.0</td>\n",
       "      <td>1.0</td>\n",
       "    </tr>\n",
       "    <tr>\n",
       "      <th>6388-TABGU</th>\n",
       "      <td>1.0</td>\n",
       "      <td>0.0</td>\n",
       "      <td>0.0</td>\n",
       "      <td>56.15</td>\n",
       "      <td>3487.95</td>\n",
       "      <td>0</td>\n",
       "      <td>1888</td>\n",
       "      <td>1.0</td>\n",
       "      <td>0.0</td>\n",
       "      <td>0.0</td>\n",
       "      <td>1.0</td>\n",
       "      <td>0.0</td>\n",
       "      <td>0.0</td>\n",
       "      <td>1.0</td>\n",
       "      <td>1.0</td>\n",
       "      <td>0.0</td>\n",
       "      <td>0.0</td>\n",
       "      <td>0.0</td>\n",
       "      <td>0.0</td>\n",
       "    </tr>\n",
       "    <tr>\n",
       "      <th>9763-GRSKD</th>\n",
       "      <td>0.0</td>\n",
       "      <td>1.0</td>\n",
       "      <td>3.0</td>\n",
       "      <td>49.95</td>\n",
       "      <td>587.45</td>\n",
       "      <td>0</td>\n",
       "      <td>396</td>\n",
       "      <td>1.0</td>\n",
       "      <td>0.0</td>\n",
       "      <td>1.0</td>\n",
       "      <td>1.0</td>\n",
       "      <td>0.0</td>\n",
       "      <td>0.0</td>\n",
       "      <td>1.0</td>\n",
       "      <td>0.0</td>\n",
       "      <td>0.0</td>\n",
       "      <td>0.0</td>\n",
       "      <td>0.0</td>\n",
       "      <td>0.0</td>\n",
       "    </tr>\n",
       "    <tr>\n",
       "      <th>7469-LKBCI</th>\n",
       "      <td>2.0</td>\n",
       "      <td>0.0</td>\n",
       "      <td>1.0</td>\n",
       "      <td>18.95</td>\n",
       "      <td>326.80</td>\n",
       "      <td>0</td>\n",
       "      <td>488</td>\n",
       "      <td>1.0</td>\n",
       "      <td>0.0</td>\n",
       "      <td>0.0</td>\n",
       "      <td>0.0</td>\n",
       "      <td>0.0</td>\n",
       "      <td>-1.0</td>\n",
       "      <td>-1.0</td>\n",
       "      <td>-1.0</td>\n",
       "      <td>-1.0</td>\n",
       "      <td>-1.0</td>\n",
       "      <td>-1.0</td>\n",
       "      <td>-1.0</td>\n",
       "    </tr>\n",
       "    <tr>\n",
       "      <th>8091-TTVAX</th>\n",
       "      <td>1.0</td>\n",
       "      <td>0.0</td>\n",
       "      <td>1.0</td>\n",
       "      <td>100.35</td>\n",
       "      <td>5681.10</td>\n",
       "      <td>0</td>\n",
       "      <td>1767</td>\n",
       "      <td>1.0</td>\n",
       "      <td>0.0</td>\n",
       "      <td>1.0</td>\n",
       "      <td>0.0</td>\n",
       "      <td>1.0</td>\n",
       "      <td>1.0</td>\n",
       "      <td>0.0</td>\n",
       "      <td>0.0</td>\n",
       "      <td>1.0</td>\n",
       "      <td>0.0</td>\n",
       "      <td>1.0</td>\n",
       "      <td>1.0</td>\n",
       "    </tr>\n",
       "    <tr>\n",
       "      <th>0280-XJGEX</th>\n",
       "      <td>0.0</td>\n",
       "      <td>1.0</td>\n",
       "      <td>0.0</td>\n",
       "      <td>103.70</td>\n",
       "      <td>5036.30</td>\n",
       "      <td>1</td>\n",
       "      <td>1491</td>\n",
       "      <td>1.0</td>\n",
       "      <td>0.0</td>\n",
       "      <td>0.0</td>\n",
       "      <td>0.0</td>\n",
       "      <td>1.0</td>\n",
       "      <td>1.0</td>\n",
       "      <td>0.0</td>\n",
       "      <td>1.0</td>\n",
       "      <td>1.0</td>\n",
       "      <td>0.0</td>\n",
       "      <td>1.0</td>\n",
       "      <td>1.0</td>\n",
       "    </tr>\n",
       "    <tr>\n",
       "      <th>5129-JLPIS</th>\n",
       "      <td>0.0</td>\n",
       "      <td>1.0</td>\n",
       "      <td>2.0</td>\n",
       "      <td>105.50</td>\n",
       "      <td>2686.05</td>\n",
       "      <td>0</td>\n",
       "      <td>761</td>\n",
       "      <td>1.0</td>\n",
       "      <td>0.0</td>\n",
       "      <td>0.0</td>\n",
       "      <td>0.0</td>\n",
       "      <td>0.0</td>\n",
       "      <td>1.0</td>\n",
       "      <td>1.0</td>\n",
       "      <td>0.0</td>\n",
       "      <td>1.0</td>\n",
       "      <td>1.0</td>\n",
       "      <td>1.0</td>\n",
       "      <td>1.0</td>\n",
       "    </tr>\n",
       "  </tbody>\n",
       "</table>\n",
       "</div>"
      ],
      "text/plain": [
       "            Type  PaperlessBilling  PaymentMethod  MonthlyCharges  \\\n",
       "customerID                                                          \n",
       "7590-VHVEG   0.0               1.0            2.0           29.85   \n",
       "5575-GNVDE   1.0               0.0            3.0           56.95   \n",
       "3668-QPYBK   0.0               1.0            3.0           53.85   \n",
       "7795-CFOCW   1.0               0.0            0.0           42.30   \n",
       "9237-HQITU   0.0               1.0            2.0           70.70   \n",
       "9305-CDSKC   0.0               1.0            2.0           99.65   \n",
       "1452-KIOVK   0.0               1.0            1.0           89.10   \n",
       "6713-OKOMC   0.0               0.0            3.0           29.75   \n",
       "7892-POOKP   0.0               1.0            2.0          104.80   \n",
       "6388-TABGU   1.0               0.0            0.0           56.15   \n",
       "9763-GRSKD   0.0               1.0            3.0           49.95   \n",
       "7469-LKBCI   2.0               0.0            1.0           18.95   \n",
       "8091-TTVAX   1.0               0.0            1.0          100.35   \n",
       "0280-XJGEX   0.0               1.0            0.0          103.70   \n",
       "5129-JLPIS   0.0               1.0            2.0          105.50   \n",
       "\n",
       "            TotalCharges  purpose  total_days  gender  SeniorCitizen  Partner  \\\n",
       "customerID                                                                      \n",
       "7590-VHVEG         29.85        0          31     0.0            0.0      1.0   \n",
       "5575-GNVDE       1889.50        0        1036     1.0            0.0      0.0   \n",
       "3668-QPYBK        108.15        1          61     1.0            0.0      0.0   \n",
       "7795-CFOCW       1840.75        0        1371     1.0            0.0      0.0   \n",
       "9237-HQITU        151.65        1          61     0.0            0.0      0.0   \n",
       "9305-CDSKC        820.50        1         245     0.0            0.0      0.0   \n",
       "1452-KIOVK       1949.40        0         671     1.0            0.0      0.0   \n",
       "6713-OKOMC        301.90        0         306     0.0            0.0      0.0   \n",
       "7892-POOKP       3046.05        1         853     0.0            0.0      1.0   \n",
       "6388-TABGU       3487.95        0        1888     1.0            0.0      0.0   \n",
       "9763-GRSKD        587.45        0         396     1.0            0.0      1.0   \n",
       "7469-LKBCI        326.80        0         488     1.0            0.0      0.0   \n",
       "8091-TTVAX       5681.10        0        1767     1.0            0.0      1.0   \n",
       "0280-XJGEX       5036.30        1        1491     1.0            0.0      0.0   \n",
       "5129-JLPIS       2686.05        0         761     1.0            0.0      0.0   \n",
       "\n",
       "            Dependents  MultipleLines  InternetService  OnlineSecurity  \\\n",
       "customerID                                                               \n",
       "7590-VHVEG         0.0           -1.0              0.0             0.0   \n",
       "5575-GNVDE         0.0            0.0              0.0             1.0   \n",
       "3668-QPYBK         0.0            0.0              0.0             1.0   \n",
       "7795-CFOCW         0.0           -1.0              0.0             1.0   \n",
       "9237-HQITU         0.0            0.0              1.0             0.0   \n",
       "9305-CDSKC         0.0            1.0              1.0             0.0   \n",
       "1452-KIOVK         1.0            1.0              1.0             0.0   \n",
       "6713-OKOMC         0.0           -1.0              0.0             1.0   \n",
       "7892-POOKP         0.0            1.0              1.0             0.0   \n",
       "6388-TABGU         1.0            0.0              0.0             1.0   \n",
       "9763-GRSKD         1.0            0.0              0.0             1.0   \n",
       "7469-LKBCI         0.0            0.0             -1.0            -1.0   \n",
       "8091-TTVAX         0.0            1.0              1.0             0.0   \n",
       "0280-XJGEX         0.0            1.0              1.0             0.0   \n",
       "5129-JLPIS         0.0            0.0              1.0             1.0   \n",
       "\n",
       "            OnlineBackup  DeviceProtection  TechSupport  StreamingTV  \\\n",
       "customerID                                                             \n",
       "7590-VHVEG           1.0               0.0          0.0          0.0   \n",
       "5575-GNVDE           0.0               1.0          0.0          0.0   \n",
       "3668-QPYBK           1.0               0.0          0.0          0.0   \n",
       "7795-CFOCW           0.0               1.0          1.0          0.0   \n",
       "9237-HQITU           0.0               0.0          0.0          0.0   \n",
       "9305-CDSKC           0.0               1.0          0.0          1.0   \n",
       "1452-KIOVK           1.0               0.0          0.0          1.0   \n",
       "6713-OKOMC           0.0               0.0          0.0          0.0   \n",
       "7892-POOKP           0.0               1.0          1.0          1.0   \n",
       "6388-TABGU           1.0               0.0          0.0          0.0   \n",
       "9763-GRSKD           0.0               0.0          0.0          0.0   \n",
       "7469-LKBCI          -1.0              -1.0         -1.0         -1.0   \n",
       "8091-TTVAX           0.0               1.0          0.0          1.0   \n",
       "0280-XJGEX           1.0               1.0          0.0          1.0   \n",
       "5129-JLPIS           0.0               1.0          1.0          1.0   \n",
       "\n",
       "            StreamingMovies  \n",
       "customerID                   \n",
       "7590-VHVEG              0.0  \n",
       "5575-GNVDE              0.0  \n",
       "3668-QPYBK              0.0  \n",
       "7795-CFOCW              0.0  \n",
       "9237-HQITU              0.0  \n",
       "9305-CDSKC              1.0  \n",
       "1452-KIOVK              0.0  \n",
       "6713-OKOMC              0.0  \n",
       "7892-POOKP              1.0  \n",
       "6388-TABGU              0.0  \n",
       "9763-GRSKD              0.0  \n",
       "7469-LKBCI             -1.0  \n",
       "8091-TTVAX              1.0  \n",
       "0280-XJGEX              1.0  \n",
       "5129-JLPIS              1.0  "
      ]
     },
     "execution_count": 20,
     "metadata": {},
     "output_type": "execute_result"
    }
   ],
   "source": [
    "final.head(15)"
   ]
  },
  {
   "cell_type": "markdown",
   "id": "72b83fe1",
   "metadata": {},
   "source": [
    "Получили таблицу со всем признаками, из всех таблиц, пропуски заполнили (-1)"
   ]
  },
  {
   "cell_type": "markdown",
   "id": "68062c64",
   "metadata": {},
   "source": [
    "**Вывод**\n",
    "\n",
    "Выполнил подготовку данных, удалив 11 столбцов с пропусками, добавил новый столбец с количеством дней пользования услугами.  \n",
    "\n",
    "Применил порядковое кодирование к таблицам, и объединил таблицы в одну для дальнейшего анализа и построения моделей."
   ]
  },
  {
   "cell_type": "markdown",
   "id": "081c9659",
   "metadata": {},
   "source": [
    "## Анализ данных"
   ]
  },
  {
   "cell_type": "code",
   "execution_count": 21,
   "id": "ddbd9c7f",
   "metadata": {},
   "outputs": [
    {
     "data": {
      "image/png": "[encoded data removed]",
      "text/plain": [
       "<Figure size 1152x432 with 2 Axes>"
      ]
     },
     "metadata": {
      "needs_background": "light"
     },
     "output_type": "display_data"
    }
   ],
   "source": [
    "plt.figure(figsize=(16, 6)) \n",
    "\n",
    "heatmap = sns.heatmap(final[['MonthlyCharges','TotalCharges','total_days','purpose']].corr(), vmin=-1, vmax=1, annot=True, cmap='BrBG')\n",
    "heatmap.set_title('Матрица корреляции', fontdict={'fontsize':18}, pad=16);"
   ]
  },
  {
   "cell_type": "markdown",
   "id": "d36fd776",
   "metadata": {},
   "source": [
    "* Анализ по платежам в месяц"
   ]
  },
  {
   "cell_type": "code",
   "execution_count": 19,
   "id": "12bc32d9",
   "metadata": {
    "scrolled": true
   },
   "outputs": [
    {
     "data": {
      "text/plain": [
       "<AxesSubplot:xlabel='purpose', ylabel='MonthlyCharges'>"
      ]
     },
     "execution_count": 19,
     "metadata": {},
     "output_type": "execute_result"
    },
    {
     "data": {
      "image/png": "[encoded data removed]",
      "text/plain": [
       "<Figure size 432x288 with 1 Axes>"
      ]
     },
     "metadata": {
      "needs_background": "light"
     },
     "output_type": "display_data"
    }
   ],
   "source": [
    "sns.violinplot(x='purpose', y='MonthlyCharges', data=final)\n"
   ]
  },
  {
   "cell_type": "code",
   "execution_count": 20,
   "id": "d3bdbd89",
   "metadata": {},
   "outputs": [
    {
     "data": {
      "text/plain": [
       "<AxesSubplot:xlabel='purpose', ylabel='MonthlyCharges'>"
      ]
     },
     "execution_count": 20,
     "metadata": {},
     "output_type": "execute_result"
    },
    {
     "data": {
      "image/png": "[encoded data removed]",
      "text/plain": [
       "<Figure size 432x288 with 1 Axes>"
      ]
     },
     "metadata": {
      "needs_background": "light"
     },
     "output_type": "display_data"
    }
   ],
   "source": [
    "sns.boxplot(x='purpose', y='MonthlyCharges', data=final)"
   ]
  },
  {
   "cell_type": "markdown",
   "id": "9bf0773b",
   "metadata": {},
   "source": [
    "\n",
    "\n",
    "Ушедшие пользователи больше платили в месяц"
   ]
  },
  {
   "cell_type": "markdown",
   "id": "778e46b6",
   "metadata": {},
   "source": [
    "* Анализ по суммарным платежам"
   ]
  },
  {
   "cell_type": "code",
   "execution_count": 21,
   "id": "e5efe5fb",
   "metadata": {},
   "outputs": [
    {
     "data": {
      "text/plain": [
       "<AxesSubplot:xlabel='purpose', ylabel='TotalCharges'>"
      ]
     },
     "execution_count": 21,
     "metadata": {},
     "output_type": "execute_result"
    },
    {
     "data": {
      "image/png": "[encoded data removed]",
      "text/plain": [
       "<Figure size 432x288 with 1 Axes>"
      ]
     },
     "metadata": {
      "needs_background": "light"
     },
     "output_type": "display_data"
    }
   ],
   "source": [
    "sns.violinplot(x='purpose', y='TotalCharges', data=final)"
   ]
  },
  {
   "cell_type": "code",
   "execution_count": 22,
   "id": "6dc3d31a",
   "metadata": {},
   "outputs": [
    {
     "data": {
      "text/plain": [
       "<AxesSubplot:xlabel='purpose', ylabel='TotalCharges'>"
      ]
     },
     "execution_count": 22,
     "metadata": {},
     "output_type": "execute_result"
    },
    {
     "data": {
      "image/png": "[encoded data removed]",
      "text/plain": [
       "<Figure size 432x288 with 1 Axes>"
      ]
     },
     "metadata": {
      "needs_background": "light"
     },
     "output_type": "display_data"
    }
   ],
   "source": [
    "sns.boxplot(x='purpose', y='TotalCharges', data=final)"
   ]
  },
  {
   "cell_type": "markdown",
   "id": "12bc689e",
   "metadata": {},
   "source": [
    "\n",
    "\n",
    "Сумарные платежи больше у неушедших клиентов"
   ]
  },
  {
   "cell_type": "code",
   "execution_count": 23,
   "id": "2400c347",
   "metadata": {},
   "outputs": [
    {
     "data": {
      "text/plain": [
       "<AxesSubplot:xlabel='PaymentMethod', ylabel='count'>"
      ]
     },
     "execution_count": 23,
     "metadata": {},
     "output_type": "execute_result"
    },
    {
     "data": {
      "image/png": "[encoded data removed]",
      "text/plain": [
       "<Figure size 432x288 with 1 Axes>"
      ]
     },
     "metadata": {
      "needs_background": "light"
     },
     "output_type": "display_data"
    }
   ],
   "source": [
    "sns.countplot(x='PaymentMethod', hue='purpose', data=final)"
   ]
  },
  {
   "cell_type": "code",
   "execution_count": 24,
   "id": "9f350b65",
   "metadata": {},
   "outputs": [
    {
     "data": {
      "text/plain": [
       "<AxesSubplot:xlabel='Type', ylabel='count'>"
      ]
     },
     "execution_count": 24,
     "metadata": {},
     "output_type": "execute_result"
    },
    {
     "data": {
      "image/png": "[encoded data removed]",
      "text/plain": [
       "<Figure size 432x288 with 1 Axes>"
      ]
     },
     "metadata": {
      "needs_background": "light"
     },
     "output_type": "display_data"
    }
   ],
   "source": [
    "sns.countplot(x='Type', hue='purpose', data=final)"
   ]
  },
  {
   "cell_type": "markdown",
   "id": "f5a049c8",
   "metadata": {},
   "source": [
    "**Вывод:**\n",
    "\n",
    "В среднем ушедшие клиенты платили в месяц больше, чем оставшиеся \n",
    "\n",
    "Многие ушедшие клиенты расплачивались методом 'Electronic check'\n",
    "\n",
    "Построена матрица корреляции признаков\n"
   ]
  },
  {
   "cell_type": "markdown",
   "id": "9a11312f",
   "metadata": {},
   "source": [
    "## Обучение и анализ моделей"
   ]
  },
  {
   "cell_type": "code",
   "execution_count": 20,
   "id": "46ba88cf",
   "metadata": {},
   "outputs": [
    {
     "data": {
      "text/plain": [
       "0    5163\n",
       "1    1869\n",
       "Name: purpose, dtype: int64"
      ]
     },
     "execution_count": 20,
     "metadata": {},
     "output_type": "execute_result"
    }
   ],
   "source": [
    "final['purpose'].value_counts()"
   ]
  },
  {
   "cell_type": "markdown",
   "id": "f93ac708",
   "metadata": {},
   "source": [
    "Есть дисбаланс классов, в дальнейшем при разбиение на выборки нужно его учесть"
   ]
  },
  {
   "cell_type": "code",
   "execution_count": 21,
   "id": "ffbb6496",
   "metadata": {},
   "outputs": [],
   "source": [
    "x = final.drop('purpose', axis=1)\n",
    "y = final['purpose']"
   ]
  },
  {
   "cell_type": "code",
   "execution_count": 22,
   "id": "bda48e82",
   "metadata": {},
   "outputs": [],
   "source": [
    "x_train, x_valid_0, y_train, y_valid_0 = train_test_split(x, y, test_size=0.4, random_state=12345, stratify=y)\n",
    "x_valid, x_test, y_valid, y_test = train_test_split(x_valid_0, y_valid_0, test_size=0.5, random_state=12345, stratify=y_valid_0)\n"
   ]
  },
  {
   "cell_type": "code",
   "execution_count": 23,
   "id": "1b1e4e7e",
   "metadata": {
    "scrolled": true
   },
   "outputs": [
    {
     "data": {
      "text/plain": [
       "0    1032\n",
       "1     374\n",
       "Name: purpose, dtype: int64"
      ]
     },
     "metadata": {},
     "output_type": "display_data"
    },
    {
     "data": {
      "text/plain": [
       "0    1033\n",
       "1     374\n",
       "Name: purpose, dtype: int64"
      ]
     },
     "metadata": {},
     "output_type": "display_data"
    },
    {
     "data": {
      "text/plain": [
       "0    3098\n",
       "1    1121\n",
       "Name: purpose, dtype: int64"
      ]
     },
     "metadata": {},
     "output_type": "display_data"
    }
   ],
   "source": [
    "display(y_valid.value_counts())\n",
    "display(y_test.value_counts())\n",
    "display(y_train.value_counts())"
   ]
  },
  {
   "cell_type": "code",
   "execution_count": 24,
   "id": "85777004",
   "metadata": {
    "scrolled": true
   },
   "outputs": [
    {
     "data": {
      "text/plain": [
       "'Размер тренировочной выборки: (4219, 18)'"
      ]
     },
     "metadata": {},
     "output_type": "display_data"
    },
    {
     "data": {
      "text/plain": [
       "'Размер валидационной выборки: (1406, 18)'"
      ]
     },
     "metadata": {},
     "output_type": "display_data"
    },
    {
     "data": {
      "text/plain": [
       "'Размер тестовой выборки: (1407, 18)'"
      ]
     },
     "metadata": {},
     "output_type": "display_data"
    }
   ],
   "source": [
    "display(f\"Размер тренировочной выборки: {x_train.shape}\")\n",
    "display(f\"Размер валидационной выборки: {x_valid.shape}\")\n",
    "display(f\"Размер тестовой выборки: {x_test.shape}\")"
   ]
  },
  {
   "cell_type": "markdown",
   "id": "3530abf2",
   "metadata": {},
   "source": [
    "Выборки разбиты корректно, в каждой из выборок равная доля классов. В дальнейшем обучим и проверим разные модели, выберем лучшую по ROC-AUC "
   ]
  },
  {
   "cell_type": "markdown",
   "id": "070d9a1e",
   "metadata": {},
   "source": [
    "**Логистическая регрессия**"
   ]
  },
  {
   "cell_type": "code",
   "execution_count": 25,
   "id": "a8a37df1",
   "metadata": {},
   "outputs": [
    {
     "data": {
      "text/plain": [
       "'Roc-auc на валидационной выборке: 0.847'"
      ]
     },
     "metadata": {},
     "output_type": "display_data"
    },
    {
     "data": {
      "text/plain": [
       "'accuracy на валидационной выборке: 0.804'"
      ]
     },
     "metadata": {},
     "output_type": "display_data"
    },
    {
     "data": {
      "text/plain": [
       "'Roc-auc на тестовой выборке: 0.843'"
      ]
     },
     "metadata": {},
     "output_type": "display_data"
    },
    {
     "data": {
      "text/plain": [
       "'accuracy на тестовой выборке: 0.808'"
      ]
     },
     "metadata": {},
     "output_type": "display_data"
    }
   ],
   "source": [
    "model = LogisticRegression(random_state=12345, solver='liblinear')\n",
    "model.fit(x_train, y_train)\n",
    "\n",
    "probabilities_valid = model.predict_proba(x_valid)\n",
    "probabilities_one_valid = probabilities_valid[:, 1]\n",
    "\n",
    "auc_roc_valid = roc_auc_score(y_valid, probabilities_one_valid)\n",
    "\n",
    "\n",
    "display(f\"Roc-auc на валидационной выборке: {auc_roc_valid:.3f}\")\n",
    "display(f\"accuracy на валидационной выборке: {accuracy_score(y_valid, model.predict(x_valid)):.3f}\")\n",
    "\n",
    "probabilities_test = model.predict_proba(x_test)\n",
    "probabilities_one_test = probabilities_test[:, 1]\n",
    "\n",
    "auc_roc = roc_auc_score(y_test, probabilities_one_test)\n",
    "\n",
    "display(f\"Roc-auc на тестовой выборке: {auc_roc:.3f}\")\n",
    "display(f\"accuracy на тестовой выборке: {accuracy_score(y_test, model.predict(x_test)):.3f}\")"
   ]
  },
  {
   "cell_type": "markdown",
   "id": "c9e44430",
   "metadata": {},
   "source": [
    "**Модель случайного леса**"
   ]
  },
  {
   "cell_type": "code",
   "execution_count": 26,
   "id": "ac9cff73",
   "metadata": {},
   "outputs": [
    {
     "data": {
      "text/plain": [
       "GridSearchCV(cv=5, estimator=RandomForestClassifier(),\n",
       "             param_grid={'max_depth': [5, 7, 9], 'max_features': [3, 5, 7],\n",
       "                         'n_estimators': [300]},\n",
       "             scoring='roc_auc')"
      ]
     },
     "execution_count": 26,
     "metadata": {},
     "output_type": "execute_result"
    }
   ],
   "source": [
    "param_grid = {'n_estimators': [300],\n",
    "              'max_depth': [5, 7, 9],\n",
    "              'max_features': [3, 5, 7]\n",
    "             }\n",
    "\n",
    "model_rf = RandomForestClassifier()\n",
    "grid_search_rf = GridSearchCV(estimator = model_rf,\n",
    "                           param_grid = param_grid,\n",
    "                           cv = 5,\n",
    "                           scoring = 'roc_auc')\n",
    "grid_search_rf.fit(x_train, y_train)"
   ]
  },
  {
   "cell_type": "code",
   "execution_count": 27,
   "id": "bd765247",
   "metadata": {},
   "outputs": [
    {
     "data": {
      "text/plain": [
       "'Лучшие параметры модели: '"
      ]
     },
     "metadata": {},
     "output_type": "display_data"
    },
    {
     "data": {
      "text/plain": [
       "{'max_depth': 7, 'max_features': 7, 'n_estimators': 300}"
      ]
     },
     "metadata": {},
     "output_type": "display_data"
    },
    {
     "data": {
      "text/plain": [
       "'roc_auc для модели Random Forest на валидационной выборке: 0.864'"
      ]
     },
     "metadata": {},
     "output_type": "display_data"
    },
    {
     "data": {
      "text/plain": [
       "'accuracy для модели Random Forest на валидационной выборке: 0.814'"
      ]
     },
     "metadata": {},
     "output_type": "display_data"
    },
    {
     "data": {
      "text/plain": [
       "'roc_auc для модели Random Forest на тестовой выборке: 0.866'"
      ]
     },
     "metadata": {},
     "output_type": "display_data"
    },
    {
     "data": {
      "text/plain": [
       "'accuracy для модели Random Forest на тестовой выборке: 0.825'"
      ]
     },
     "metadata": {},
     "output_type": "display_data"
    }
   ],
   "source": [
    "display('Лучшие параметры модели: ', grid_search_rf.best_params_)\n",
    "\n",
    "pred_rf_valid = grid_search_rf.best_estimator_.predict_proba(x_valid)[:, 1]\n",
    "roc_auc_rf_t_valid = roc_auc_score(y_valid, pred_rf_valid)\n",
    "display(f\"roc_auc для модели Random Forest на валидационной выборке: {roc_auc_rf_t_valid:.3f}\")\n",
    "display(f\"accuracy для модели Random Forest на валидационной выборке: {accuracy_score(y_valid, grid_search_rf.best_estimator_.predict(x_valid)):.3f}\")\n",
    "\n",
    "\n",
    "pred_rf = grid_search_rf.best_estimator_.predict_proba(x_test)[:, 1]\n",
    "roc_auc_rf_t = roc_auc_score(y_test, pred_rf)\n",
    "display(f\"roc_auc для модели Random Forest на тестовой выборке: {roc_auc_rf_t:.3f}\")\n",
    "display(f\"accuracy для модели Random Forest на тестовой выборке: {accuracy_score(y_test, grid_search_rf.best_estimator_.predict(x_test)):.3f}\")\n"
   ]
  },
  {
   "cell_type": "markdown",
   "id": "d16fcbdd",
   "metadata": {},
   "source": [
    "**Cat Boost**"
   ]
  },
  {
   "cell_type": "code",
   "execution_count": 28,
   "id": "6a856024",
   "metadata": {
    "scrolled": true
   },
   "outputs": [
    {
     "name": "stdout",
     "output_type": "stream",
     "text": [
      "Learning rate set to 0.021251\n",
      "0:\tlearn: 0.6788983\ttotal: 302ms\tremaining: 4m 1s\n",
      "100:\tlearn: 0.3887139\ttotal: 660ms\tremaining: 4.57s\n",
      "200:\tlearn: 0.3611255\ttotal: 842ms\tremaining: 2.51s\n",
      "300:\tlearn: 0.3450891\ttotal: 1.02s\tremaining: 1.69s\n",
      "400:\tlearn: 0.3277323\ttotal: 1.29s\tremaining: 1.28s\n",
      "500:\tlearn: 0.3085531\ttotal: 1.53s\tremaining: 914ms\n",
      "600:\tlearn: 0.2932222\ttotal: 1.81s\tremaining: 601ms\n",
      "700:\tlearn: 0.2792921\ttotal: 2.09s\tremaining: 295ms\n",
      "799:\tlearn: 0.2668510\ttotal: 2.36s\tremaining: 0us\n",
      "Learning rate set to 0.021251\n",
      "0:\tlearn: 0.6794365\ttotal: 1.84ms\tremaining: 1.47s\n",
      "100:\tlearn: 0.3904313\ttotal: 279ms\tremaining: 1.93s\n",
      "200:\tlearn: 0.3617242\ttotal: 560ms\tremaining: 1.67s\n",
      "300:\tlearn: 0.3444877\ttotal: 695ms\tremaining: 1.15s\n",
      "400:\tlearn: 0.3278617\ttotal: 838ms\tremaining: 834ms\n",
      "500:\tlearn: 0.3091195\ttotal: 980ms\tremaining: 585ms\n",
      "600:\tlearn: 0.2950231\ttotal: 1.17s\tremaining: 388ms\n",
      "700:\tlearn: 0.2817648\ttotal: 1.44s\tremaining: 204ms\n",
      "799:\tlearn: 0.2707880\ttotal: 1.57s\tremaining: 0us\n",
      "Learning rate set to 0.021251\n",
      "0:\tlearn: 0.6794020\ttotal: 2.19ms\tremaining: 1.75s\n",
      "100:\tlearn: 0.3923142\ttotal: 278ms\tremaining: 1.93s\n",
      "200:\tlearn: 0.3623465\ttotal: 1.07s\tremaining: 3.21s\n",
      "300:\tlearn: 0.3460219\ttotal: 1.51s\tremaining: 2.5s\n",
      "400:\tlearn: 0.3286649\ttotal: 1.69s\tremaining: 1.68s\n",
      "500:\tlearn: 0.3104683\ttotal: 1.95s\tremaining: 1.16s\n",
      "600:\tlearn: 0.2934316\ttotal: 2.23s\tremaining: 737ms\n",
      "700:\tlearn: 0.2804815\ttotal: 2.49s\tremaining: 352ms\n",
      "799:\tlearn: 0.2681319\ttotal: 2.67s\tremaining: 0us\n",
      "Learning rate set to 0.021251\n",
      "0:\tlearn: 0.6794013\ttotal: 1.89ms\tremaining: 1.51s\n",
      "100:\tlearn: 0.3887370\ttotal: 272ms\tremaining: 1.88s\n",
      "200:\tlearn: 0.3611838\ttotal: 454ms\tremaining: 1.35s\n",
      "300:\tlearn: 0.3455295\ttotal: 717ms\tremaining: 1.19s\n",
      "400:\tlearn: 0.3303004\ttotal: 1.07s\tremaining: 1.07s\n",
      "500:\tlearn: 0.3112024\ttotal: 1.25s\tremaining: 748ms\n",
      "600:\tlearn: 0.2947757\ttotal: 1.61s\tremaining: 534ms\n",
      "700:\tlearn: 0.2817709\ttotal: 1.8s\tremaining: 254ms\n",
      "799:\tlearn: 0.2693817\ttotal: 2.17s\tremaining: 0us\n",
      "Learning rate set to 0.021253\n",
      "0:\tlearn: 0.6796027\ttotal: 2.1ms\tremaining: 1.68s\n",
      "100:\tlearn: 0.3919507\ttotal: 180ms\tremaining: 1.25s\n",
      "200:\tlearn: 0.3650580\ttotal: 802ms\tremaining: 2.39s\n",
      "300:\tlearn: 0.3472133\ttotal: 1.01s\tremaining: 1.67s\n",
      "400:\tlearn: 0.3313854\ttotal: 1.63s\tremaining: 1.62s\n",
      "500:\tlearn: 0.3141453\ttotal: 1.92s\tremaining: 1.15s\n",
      "600:\tlearn: 0.2987065\ttotal: 2.21s\tremaining: 733ms\n",
      "700:\tlearn: 0.2850646\ttotal: 2.75s\tremaining: 389ms\n",
      "799:\tlearn: 0.2729000\ttotal: 3.21s\tremaining: 0us\n",
      "Learning rate set to 0.017318\n",
      "0:\tlearn: 0.6814931\ttotal: 2ms\tremaining: 2s\n",
      "100:\tlearn: 0.3984846\ttotal: 280ms\tremaining: 2.49s\n",
      "200:\tlearn: 0.3674069\ttotal: 640ms\tremaining: 2.54s\n",
      "300:\tlearn: 0.3510960\ttotal: 1.18s\tremaining: 2.74s\n",
      "400:\tlearn: 0.3381612\ttotal: 1.54s\tremaining: 2.3s\n",
      "500:\tlearn: 0.3242747\ttotal: 1.73s\tremaining: 1.72s\n",
      "600:\tlearn: 0.3098479\ttotal: 2.09s\tremaining: 1.39s\n",
      "700:\tlearn: 0.2964154\ttotal: 2.37s\tremaining: 1.01s\n",
      "800:\tlearn: 0.2853150\ttotal: 2.71s\tremaining: 674ms\n",
      "900:\tlearn: 0.2740392\ttotal: 3.17s\tremaining: 348ms\n",
      "999:\tlearn: 0.2634382\ttotal: 3.87s\tremaining: 0us\n",
      "Learning rate set to 0.017318\n",
      "0:\tlearn: 0.6819328\ttotal: 1.95ms\tremaining: 1.94s\n",
      "100:\tlearn: 0.3990707\ttotal: 540ms\tremaining: 4.8s\n",
      "200:\tlearn: 0.3687148\ttotal: 806ms\tremaining: 3.2s\n",
      "300:\tlearn: 0.3542202\ttotal: 1.16s\tremaining: 2.69s\n",
      "400:\tlearn: 0.3415126\ttotal: 1.34s\tremaining: 2.01s\n",
      "500:\tlearn: 0.3269238\ttotal: 1.53s\tremaining: 1.52s\n",
      "600:\tlearn: 0.3118359\ttotal: 1.98s\tremaining: 1.31s\n",
      "700:\tlearn: 0.2995308\ttotal: 2.17s\tremaining: 924ms\n",
      "800:\tlearn: 0.2885179\ttotal: 2.44s\tremaining: 606ms\n",
      "900:\tlearn: 0.2787363\ttotal: 2.63s\tremaining: 289ms\n",
      "999:\tlearn: 0.2694625\ttotal: 2.82s\tremaining: 0us\n",
      "Learning rate set to 0.017318\n",
      "0:\tlearn: 0.6819035\ttotal: 1.76ms\tremaining: 1.76s\n",
      "100:\tlearn: 0.4007220\ttotal: 199ms\tremaining: 1.77s\n",
      "200:\tlearn: 0.3718985\ttotal: 411ms\tremaining: 1.63s\n",
      "300:\tlearn: 0.3557883\ttotal: 794ms\tremaining: 1.84s\n",
      "400:\tlearn: 0.3426233\ttotal: 1.24s\tremaining: 1.85s\n",
      "500:\tlearn: 0.3290514\ttotal: 1.4s\tremaining: 1.39s\n",
      "600:\tlearn: 0.3135552\ttotal: 1.52s\tremaining: 1.01s\n",
      "700:\tlearn: 0.2988063\ttotal: 1.64s\tremaining: 700ms\n",
      "800:\tlearn: 0.2867934\ttotal: 1.76s\tremaining: 438ms\n",
      "900:\tlearn: 0.2749208\ttotal: 1.88s\tremaining: 207ms\n",
      "999:\tlearn: 0.2651351\ttotal: 2.02s\tremaining: 0us\n",
      "Learning rate set to 0.017318\n",
      "0:\tlearn: 0.6819072\ttotal: 53.6ms\tremaining: 53.5s\n",
      "100:\tlearn: 0.3990118\ttotal: 413ms\tremaining: 3.67s\n",
      "200:\tlearn: 0.3690462\ttotal: 678ms\tremaining: 2.7s\n",
      "300:\tlearn: 0.3539973\ttotal: 1.02s\tremaining: 2.38s\n",
      "400:\tlearn: 0.3421535\ttotal: 1.37s\tremaining: 2.04s\n",
      "500:\tlearn: 0.3289218\ttotal: 1.64s\tremaining: 1.63s\n",
      "600:\tlearn: 0.3137683\ttotal: 1.82s\tremaining: 1.21s\n",
      "700:\tlearn: 0.3017908\ttotal: 2s\tremaining: 854ms\n",
      "800:\tlearn: 0.2902371\ttotal: 2.36s\tremaining: 585ms\n",
      "900:\tlearn: 0.2792346\ttotal: 2.72s\tremaining: 299ms\n",
      "999:\tlearn: 0.2696020\ttotal: 3.08s\tremaining: 0us\n",
      "Learning rate set to 0.017321\n",
      "0:\tlearn: 0.6820701\ttotal: 1.86ms\tremaining: 1.85s\n",
      "100:\tlearn: 0.4000263\ttotal: 343ms\tremaining: 3.05s\n",
      "200:\tlearn: 0.3694736\ttotal: 867ms\tremaining: 3.45s\n",
      "300:\tlearn: 0.3538927\ttotal: 1.21s\tremaining: 2.82s\n",
      "400:\tlearn: 0.3418777\ttotal: 1.65s\tremaining: 2.47s\n",
      "500:\tlearn: 0.3290133\ttotal: 1.94s\tremaining: 1.94s\n",
      "600:\tlearn: 0.3154900\ttotal: 2.21s\tremaining: 1.47s\n",
      "700:\tlearn: 0.3027263\ttotal: 2.56s\tremaining: 1.09s\n",
      "800:\tlearn: 0.2926230\ttotal: 3.01s\tremaining: 749ms\n",
      "900:\tlearn: 0.2825046\ttotal: 3.2s\tremaining: 351ms\n",
      "999:\tlearn: 0.2727293\ttotal: 3.49s\tremaining: 0us\n",
      "Learning rate set to 0.021251\n",
      "0:\tlearn: 0.6774224\ttotal: 3.91ms\tremaining: 3.12s\n",
      "100:\tlearn: 0.3693670\ttotal: 1.39s\tremaining: 9.6s\n",
      "200:\tlearn: 0.3305134\ttotal: 2.32s\tremaining: 6.92s\n",
      "300:\tlearn: 0.3040983\ttotal: 3.4s\tremaining: 5.64s\n",
      "400:\tlearn: 0.2812918\ttotal: 4.4s\tremaining: 4.38s\n",
      "500:\tlearn: 0.2585349\ttotal: 5.69s\tremaining: 3.4s\n",
      "600:\tlearn: 0.2390063\ttotal: 6.68s\tremaining: 2.21s\n",
      "700:\tlearn: 0.2222029\ttotal: 8.04s\tremaining: 1.14s\n",
      "799:\tlearn: 0.2079339\ttotal: 8.97s\tremaining: 0us\n",
      "Learning rate set to 0.021251\n",
      "0:\tlearn: 0.6794365\ttotal: 2.38ms\tremaining: 1.9s\n",
      "100:\tlearn: 0.3699145\ttotal: 1.1s\tremaining: 7.63s\n",
      "200:\tlearn: 0.3302696\ttotal: 1.95s\tremaining: 5.82s\n",
      "300:\tlearn: 0.3048370\ttotal: 2.87s\tremaining: 4.76s\n",
      "400:\tlearn: 0.2822410\ttotal: 4.33s\tremaining: 4.3s\n",
      "500:\tlearn: 0.2596857\ttotal: 5.44s\tremaining: 3.25s\n",
      "600:\tlearn: 0.2414757\ttotal: 6.68s\tremaining: 2.21s\n",
      "700:\tlearn: 0.2253815\ttotal: 8.27s\tremaining: 1.17s\n",
      "799:\tlearn: 0.2108812\ttotal: 9.74s\tremaining: 0us\n",
      "Learning rate set to 0.021251\n",
      "0:\tlearn: 0.6782391\ttotal: 3.25ms\tremaining: 2.6s\n",
      "100:\tlearn: 0.3726349\ttotal: 1.2s\tremaining: 8.3s\n",
      "200:\tlearn: 0.3317907\ttotal: 2.22s\tremaining: 6.62s\n",
      "300:\tlearn: 0.3071150\ttotal: 3.39s\tremaining: 5.62s\n",
      "400:\tlearn: 0.2831174\ttotal: 4.21s\tremaining: 4.19s\n",
      "500:\tlearn: 0.2602842\ttotal: 4.41s\tremaining: 2.63s\n",
      "600:\tlearn: 0.2402049\ttotal: 4.61s\tremaining: 1.53s\n",
      "700:\tlearn: 0.2244291\ttotal: 4.84s\tremaining: 684ms\n",
      "799:\tlearn: 0.2101666\ttotal: 5.09s\tremaining: 0us\n",
      "Learning rate set to 0.021251\n",
      "0:\tlearn: 0.6771094\ttotal: 3.01ms\tremaining: 2.41s\n",
      "100:\tlearn: 0.3706955\ttotal: 1.03s\tremaining: 7.17s\n",
      "200:\tlearn: 0.3321447\ttotal: 2.15s\tremaining: 6.42s\n",
      "300:\tlearn: 0.3090047\ttotal: 3.3s\tremaining: 5.47s\n",
      "400:\tlearn: 0.2835783\ttotal: 4.33s\tremaining: 4.31s\n",
      "500:\tlearn: 0.2601230\ttotal: 5.36s\tremaining: 3.2s\n",
      "600:\tlearn: 0.2420470\ttotal: 6.53s\tremaining: 2.16s\n",
      "700:\tlearn: 0.2261464\ttotal: 7.48s\tremaining: 1.06s\n",
      "799:\tlearn: 0.2092358\ttotal: 8.67s\tremaining: 0us\n",
      "Learning rate set to 0.021253\n",
      "0:\tlearn: 0.6796027\ttotal: 3.11ms\tremaining: 2.48s\n",
      "100:\tlearn: 0.3714093\ttotal: 1.3s\tremaining: 8.98s\n",
      "200:\tlearn: 0.3340965\ttotal: 3.4s\tremaining: 10.1s\n",
      "300:\tlearn: 0.3071829\ttotal: 4.69s\tremaining: 7.78s\n",
      "400:\tlearn: 0.2849811\ttotal: 5.89s\tremaining: 5.87s\n",
      "500:\tlearn: 0.2638790\ttotal: 7.1s\tremaining: 4.24s\n",
      "600:\tlearn: 0.2436432\ttotal: 8.39s\tremaining: 2.78s\n",
      "700:\tlearn: 0.2262765\ttotal: 9.86s\tremaining: 1.39s\n",
      "799:\tlearn: 0.2118951\ttotal: 11.5s\tremaining: 0us\n",
      "Learning rate set to 0.017318\n",
      "0:\tlearn: 0.6802786\ttotal: 3.16ms\tremaining: 3.16s\n",
      "100:\tlearn: 0.3808188\ttotal: 1.01s\tremaining: 9s\n",
      "200:\tlearn: 0.3434610\ttotal: 2.57s\tremaining: 10.2s\n",
      "300:\tlearn: 0.3193331\ttotal: 3.94s\tremaining: 9.15s\n",
      "400:\tlearn: 0.2987648\ttotal: 4.97s\tremaining: 7.43s\n",
      "500:\tlearn: 0.2788078\ttotal: 6.17s\tremaining: 6.14s\n",
      "600:\tlearn: 0.2601662\ttotal: 7.04s\tremaining: 4.67s\n",
      "700:\tlearn: 0.2437579\ttotal: 8.55s\tremaining: 3.65s\n",
      "800:\tlearn: 0.2292733\ttotal: 9.76s\tremaining: 2.42s\n",
      "900:\tlearn: 0.2160751\ttotal: 11.8s\tremaining: 1.3s\n",
      "999:\tlearn: 0.2047685\ttotal: 12.8s\tremaining: 0us\n",
      "Learning rate set to 0.017318\n",
      "0:\tlearn: 0.6819328\ttotal: 2.88ms\tremaining: 2.88s\n",
      "100:\tlearn: 0.3823717\ttotal: 945ms\tremaining: 8.41s\n",
      "200:\tlearn: 0.3423393\ttotal: 1.77s\tremaining: 7.03s\n",
      "300:\tlearn: 0.3170087\ttotal: 2.77s\tremaining: 6.44s\n",
      "400:\tlearn: 0.2970419\ttotal: 3.96s\tremaining: 5.91s\n",
      "500:\tlearn: 0.2777770\ttotal: 4.97s\tremaining: 4.95s\n",
      "600:\tlearn: 0.2596803\ttotal: 6.24s\tremaining: 4.14s\n",
      "700:\tlearn: 0.2449809\ttotal: 7.44s\tremaining: 3.17s\n",
      "800:\tlearn: 0.2318351\ttotal: 8.66s\tremaining: 2.15s\n",
      "900:\tlearn: 0.2189257\ttotal: 9.77s\tremaining: 1.07s\n",
      "999:\tlearn: 0.2081941\ttotal: 10.2s\tremaining: 0us\n",
      "Learning rate set to 0.017318\n",
      "0:\tlearn: 0.6809521\ttotal: 2.76ms\tremaining: 2.75s\n",
      "100:\tlearn: 0.3841493\ttotal: 252ms\tremaining: 2.24s\n",
      "200:\tlearn: 0.3441396\ttotal: 462ms\tremaining: 1.84s\n",
      "300:\tlearn: 0.3226817\ttotal: 1.14s\tremaining: 2.64s\n",
      "400:\tlearn: 0.3026611\ttotal: 2.4s\tremaining: 3.58s\n",
      "500:\tlearn: 0.2832281\ttotal: 3.54s\tremaining: 3.53s\n",
      "600:\tlearn: 0.2645776\ttotal: 4.81s\tremaining: 3.19s\n",
      "700:\tlearn: 0.2485205\ttotal: 5.73s\tremaining: 2.44s\n",
      "800:\tlearn: 0.2354340\ttotal: 6.67s\tremaining: 1.66s\n",
      "900:\tlearn: 0.2226144\ttotal: 7.55s\tremaining: 829ms\n",
      "999:\tlearn: 0.2117388\ttotal: 8.51s\tremaining: 0us\n",
      "Learning rate set to 0.017318\n",
      "0:\tlearn: 0.6800279\ttotal: 3.26ms\tremaining: 3.26s\n",
      "100:\tlearn: 0.3829508\ttotal: 683ms\tremaining: 6.08s\n",
      "200:\tlearn: 0.3456461\ttotal: 1.78s\tremaining: 7.08s\n",
      "300:\tlearn: 0.3204534\ttotal: 3.17s\tremaining: 7.37s\n",
      "400:\tlearn: 0.2997354\ttotal: 4.34s\tremaining: 6.48s\n",
      "500:\tlearn: 0.2807672\ttotal: 5.93s\tremaining: 5.91s\n",
      "600:\tlearn: 0.2610889\ttotal: 7.22s\tremaining: 4.79s\n",
      "700:\tlearn: 0.2460039\ttotal: 8.4s\tremaining: 3.58s\n",
      "800:\tlearn: 0.2308919\ttotal: 9.67s\tremaining: 2.4s\n",
      "900:\tlearn: 0.2180470\ttotal: 10.3s\tremaining: 1.13s\n",
      "999:\tlearn: 0.2069183\ttotal: 11s\tremaining: 0us\n",
      "Learning rate set to 0.017321\n",
      "0:\tlearn: 0.6820701\ttotal: 2.93ms\tremaining: 2.93s\n",
      "100:\tlearn: 0.3859849\ttotal: 949ms\tremaining: 8.44s\n",
      "200:\tlearn: 0.3447239\ttotal: 2.24s\tremaining: 8.91s\n",
      "300:\tlearn: 0.3217832\ttotal: 2.79s\tremaining: 6.48s\n",
      "400:\tlearn: 0.3033134\ttotal: 3.4s\tremaining: 5.09s\n",
      "500:\tlearn: 0.2842063\ttotal: 4.58s\tremaining: 4.57s\n",
      "600:\tlearn: 0.2666947\ttotal: 5.38s\tremaining: 3.57s\n",
      "700:\tlearn: 0.2505022\ttotal: 6.42s\tremaining: 2.74s\n",
      "800:\tlearn: 0.2364644\ttotal: 7.2s\tremaining: 1.79s\n",
      "900:\tlearn: 0.2231594\ttotal: 8.47s\tremaining: 931ms\n",
      "999:\tlearn: 0.2118192\ttotal: 9.62s\tremaining: 0us\n",
      "Learning rate set to 0.021251\n",
      "0:\tlearn: 0.6761580\ttotal: 8.59ms\tremaining: 6.87s\n",
      "100:\tlearn: 0.3437230\ttotal: 4.41s\tremaining: 30.5s\n",
      "200:\tlearn: 0.2906158\ttotal: 8.55s\tremaining: 25.5s\n",
      "300:\tlearn: 0.2552898\ttotal: 11.5s\tremaining: 19s\n",
      "400:\tlearn: 0.2268508\ttotal: 15.2s\tremaining: 15.1s\n",
      "500:\tlearn: 0.2009507\ttotal: 19.7s\tremaining: 11.8s\n",
      "600:\tlearn: 0.1810388\ttotal: 24s\tremaining: 7.93s\n",
      "700:\tlearn: 0.1635241\ttotal: 25s\tremaining: 3.53s\n",
      "799:\tlearn: 0.1491969\ttotal: 26s\tremaining: 0us\n",
      "Learning rate set to 0.021251\n",
      "0:\tlearn: 0.6794365\ttotal: 2.66ms\tremaining: 2.13s\n",
      "100:\tlearn: 0.3452028\ttotal: 4.17s\tremaining: 28.9s\n",
      "200:\tlearn: 0.2891188\ttotal: 8.22s\tremaining: 24.5s\n",
      "300:\tlearn: 0.2490978\ttotal: 12.7s\tremaining: 21.1s\n",
      "400:\tlearn: 0.2195493\ttotal: 16.6s\tremaining: 16.5s\n",
      "500:\tlearn: 0.1973506\ttotal: 20.8s\tremaining: 12.4s\n",
      "600:\tlearn: 0.1785643\ttotal: 24.8s\tremaining: 8.21s\n",
      "700:\tlearn: 0.1628890\ttotal: 30.5s\tremaining: 4.3s\n",
      "799:\tlearn: 0.1490942\ttotal: 36.3s\tremaining: 0us\n",
      "Learning rate set to 0.021251\n",
      "0:\tlearn: 0.6768418\ttotal: 9.01ms\tremaining: 7.2s\n",
      "100:\tlearn: 0.3460064\ttotal: 5.52s\tremaining: 38.2s\n",
      "200:\tlearn: 0.2919483\ttotal: 10.3s\tremaining: 30.6s\n",
      "300:\tlearn: 0.2545906\ttotal: 14.1s\tremaining: 23.3s\n",
      "400:\tlearn: 0.2238788\ttotal: 17.4s\tremaining: 17.3s\n",
      "500:\tlearn: 0.1990198\ttotal: 21.4s\tremaining: 12.8s\n",
      "600:\tlearn: 0.1819711\ttotal: 27.3s\tremaining: 9.03s\n",
      "700:\tlearn: 0.1660516\ttotal: 33.8s\tremaining: 4.77s\n",
      "799:\tlearn: 0.1522765\ttotal: 39.6s\tremaining: 0us\n",
      "Learning rate set to 0.021251\n",
      "0:\tlearn: 0.6764407\ttotal: 7.48ms\tremaining: 5.97s\n",
      "100:\tlearn: 0.3463298\ttotal: 3.16s\tremaining: 21.9s\n",
      "200:\tlearn: 0.2895685\ttotal: 7.07s\tremaining: 21.1s\n",
      "300:\tlearn: 0.2541938\ttotal: 11.6s\tremaining: 19.2s\n",
      "400:\tlearn: 0.2243636\ttotal: 15.9s\tremaining: 15.8s\n",
      "500:\tlearn: 0.2000686\ttotal: 18.6s\tremaining: 11.1s\n",
      "600:\tlearn: 0.1798330\ttotal: 20.1s\tremaining: 6.64s\n",
      "700:\tlearn: 0.1632766\ttotal: 21s\tremaining: 2.96s\n",
      "799:\tlearn: 0.1503224\ttotal: 21.8s\tremaining: 0us\n",
      "Learning rate set to 0.021253\n",
      "0:\tlearn: 0.6796027\ttotal: 1.67ms\tremaining: 1.33s\n",
      "100:\tlearn: 0.3472276\ttotal: 838ms\tremaining: 5.8s\n",
      "200:\tlearn: 0.2932492\ttotal: 1.67s\tremaining: 4.98s\n",
      "300:\tlearn: 0.2582423\ttotal: 2.37s\tremaining: 3.93s\n",
      "400:\tlearn: 0.2296786\ttotal: 3.14s\tremaining: 3.12s\n",
      "500:\tlearn: 0.2064008\ttotal: 4.01s\tremaining: 2.4s\n",
      "600:\tlearn: 0.1875246\ttotal: 4.93s\tremaining: 1.63s\n",
      "700:\tlearn: 0.1701826\ttotal: 5.79s\tremaining: 818ms\n",
      "799:\tlearn: 0.1551774\ttotal: 6.64s\tremaining: 0us\n",
      "Learning rate set to 0.017318\n",
      "0:\tlearn: 0.6792475\ttotal: 5.23ms\tremaining: 5.22s\n",
      "100:\tlearn: 0.3626585\ttotal: 740ms\tremaining: 6.59s\n",
      "200:\tlearn: 0.3112707\ttotal: 1.39s\tremaining: 5.54s\n",
      "300:\tlearn: 0.2755794\ttotal: 2.12s\tremaining: 4.93s\n",
      "400:\tlearn: 0.2499818\ttotal: 2.81s\tremaining: 4.2s\n",
      "500:\tlearn: 0.2257708\ttotal: 3.72s\tremaining: 3.7s\n",
      "600:\tlearn: 0.2060683\ttotal: 4.55s\tremaining: 3.02s\n",
      "700:\tlearn: 0.1893076\ttotal: 5.5s\tremaining: 2.35s\n",
      "800:\tlearn: 0.1745023\ttotal: 6.33s\tremaining: 1.57s\n",
      "900:\tlearn: 0.1625209\ttotal: 7.11s\tremaining: 781ms\n",
      "999:\tlearn: 0.1508734\ttotal: 7.93s\tremaining: 0us\n",
      "Learning rate set to 0.017318\n",
      "0:\tlearn: 0.6819328\ttotal: 1.61ms\tremaining: 1.6s\n",
      "100:\tlearn: 0.3604041\ttotal: 569ms\tremaining: 5.07s\n",
      "200:\tlearn: 0.3060287\ttotal: 1.27s\tremaining: 5.05s\n",
      "300:\tlearn: 0.2674685\ttotal: 1.85s\tremaining: 4.29s\n",
      "400:\tlearn: 0.2415316\ttotal: 2.48s\tremaining: 3.7s\n",
      "500:\tlearn: 0.2201755\ttotal: 3.13s\tremaining: 3.12s\n",
      "600:\tlearn: 0.2013172\ttotal: 4.11s\tremaining: 2.73s\n",
      "700:\tlearn: 0.1861913\ttotal: 4.86s\tremaining: 2.07s\n",
      "800:\tlearn: 0.1730583\ttotal: 5.61s\tremaining: 1.39s\n",
      "900:\tlearn: 0.1611519\ttotal: 6.61s\tremaining: 727ms\n",
      "999:\tlearn: 0.1499882\ttotal: 7.47s\tremaining: 0us\n",
      "Learning rate set to 0.017318\n",
      "0:\tlearn: 0.6798095\ttotal: 5.32ms\tremaining: 5.32s\n",
      "100:\tlearn: 0.3632836\ttotal: 776ms\tremaining: 6.91s\n",
      "200:\tlearn: 0.3057774\ttotal: 1.45s\tremaining: 5.76s\n",
      "300:\tlearn: 0.2739255\ttotal: 2.11s\tremaining: 4.91s\n",
      "400:\tlearn: 0.2498124\ttotal: 2.76s\tremaining: 4.12s\n",
      "500:\tlearn: 0.2264878\ttotal: 3.57s\tremaining: 3.55s\n",
      "600:\tlearn: 0.2066339\ttotal: 4.48s\tremaining: 2.97s\n",
      "700:\tlearn: 0.1909622\ttotal: 5.16s\tremaining: 2.2s\n",
      "800:\tlearn: 0.1770934\ttotal: 6.06s\tremaining: 1.51s\n",
      "900:\tlearn: 0.1635944\ttotal: 6.83s\tremaining: 750ms\n",
      "999:\tlearn: 0.1538005\ttotal: 7.76s\tremaining: 0us\n",
      "Learning rate set to 0.017318\n",
      "0:\tlearn: 0.6794809\ttotal: 5.02ms\tremaining: 5.01s\n",
      "100:\tlearn: 0.3612942\ttotal: 438ms\tremaining: 3.9s\n",
      "200:\tlearn: 0.3068431\ttotal: 1.23s\tremaining: 4.9s\n",
      "300:\tlearn: 0.2709432\ttotal: 2s\tremaining: 4.64s\n",
      "400:\tlearn: 0.2440592\ttotal: 2.76s\tremaining: 4.12s\n",
      "500:\tlearn: 0.2219125\ttotal: 3.56s\tremaining: 3.54s\n",
      "600:\tlearn: 0.2021801\ttotal: 4.34s\tremaining: 2.88s\n",
      "700:\tlearn: 0.1853352\ttotal: 5.18s\tremaining: 2.21s\n",
      "800:\tlearn: 0.1706965\ttotal: 5.99s\tremaining: 1.49s\n",
      "900:\tlearn: 0.1577635\ttotal: 6.69s\tremaining: 735ms\n",
      "999:\tlearn: 0.1480252\ttotal: 7.55s\tremaining: 0us\n",
      "Learning rate set to 0.017321\n",
      "0:\tlearn: 0.6820701\ttotal: 2.79ms\tremaining: 2.79s\n",
      "100:\tlearn: 0.3651838\ttotal: 760ms\tremaining: 6.77s\n",
      "200:\tlearn: 0.3081202\ttotal: 1.49s\tremaining: 5.93s\n",
      "300:\tlearn: 0.2727439\ttotal: 2.08s\tremaining: 4.82s\n",
      "400:\tlearn: 0.2466772\ttotal: 2.73s\tremaining: 4.08s\n",
      "500:\tlearn: 0.2224192\ttotal: 3.59s\tremaining: 3.58s\n",
      "600:\tlearn: 0.2053896\ttotal: 4.62s\tremaining: 3.07s\n",
      "700:\tlearn: 0.1894614\ttotal: 5.52s\tremaining: 2.36s\n",
      "800:\tlearn: 0.1749854\ttotal: 6.46s\tremaining: 1.6s\n",
      "900:\tlearn: 0.1620613\ttotal: 7.43s\tremaining: 817ms\n",
      "999:\tlearn: 0.1508707\ttotal: 8.14s\tremaining: 0us\n",
      "Learning rate set to 0.01905\n",
      "0:\tlearn: 0.6807983\ttotal: 2.75ms\tremaining: 2.74s\n",
      "100:\tlearn: 0.3954686\ttotal: 133ms\tremaining: 1.18s\n",
      "200:\tlearn: 0.3674303\ttotal: 266ms\tremaining: 1.06s\n",
      "300:\tlearn: 0.3526232\ttotal: 426ms\tremaining: 989ms\n",
      "400:\tlearn: 0.3396419\ttotal: 571ms\tremaining: 852ms\n",
      "500:\tlearn: 0.3247140\ttotal: 735ms\tremaining: 732ms\n",
      "600:\tlearn: 0.3091078\ttotal: 923ms\tremaining: 613ms\n",
      "700:\tlearn: 0.2962300\ttotal: 1.11s\tremaining: 475ms\n",
      "800:\tlearn: 0.2851009\ttotal: 1.27s\tremaining: 316ms\n",
      "900:\tlearn: 0.2739480\ttotal: 1.43s\tremaining: 157ms\n",
      "999:\tlearn: 0.2648851\ttotal: 1.57s\tremaining: 0us\n"
     ]
    },
    {
     "data": {
      "text/plain": [
       "GridSearchCV(cv=5,\n",
       "             estimator=<catboost.core.CatBoostClassifier object at 0x7f75a33062b0>,\n",
       "             param_grid={'depth': [5, 7, 9], 'iterations': [800, 1000]},\n",
       "             scoring='roc_auc')"
      ]
     },
     "execution_count": 28,
     "metadata": {},
     "output_type": "execute_result"
    }
   ],
   "source": [
    "param_grid = {'iterations': [800, 1000],\n",
    "              'depth': [5, 7, 9],\n",
    "              \n",
    "             }\n",
    "\n",
    "model_cb = CatBoostClassifier()\n",
    "grid_search_cb = GridSearchCV(estimator = model_cb,\n",
    "                           param_grid = param_grid,\n",
    "                           cv = 5,\n",
    "                           scoring = 'roc_auc')\n",
    "grid_search_cb.fit(x_train, y_train, verbose=100)"
   ]
  },
  {
   "cell_type": "code",
   "execution_count": 29,
   "id": "35650134",
   "metadata": {},
   "outputs": [
    {
     "data": {
      "text/plain": [
       "'Лучшие параметры модели: '"
      ]
     },
     "metadata": {},
     "output_type": "display_data"
    },
    {
     "data": {
      "text/plain": [
       "{'depth': 5, 'iterations': 1000}"
      ]
     },
     "metadata": {},
     "output_type": "display_data"
    },
    {
     "data": {
      "text/plain": [
       "'roc_auc для модели CatBoost на валидационной выборке: 0.893'"
      ]
     },
     "metadata": {},
     "output_type": "display_data"
    },
    {
     "data": {
      "text/plain": [
       "'accuracy для модели CatBoost на валидационной выборке: 0.845'"
      ]
     },
     "metadata": {},
     "output_type": "display_data"
    },
    {
     "data": {
      "text/plain": [
       "'roc_auc для модели CatBoost на тестовой выборке: 0.895'"
      ]
     },
     "metadata": {},
     "output_type": "display_data"
    },
    {
     "data": {
      "text/plain": [
       "'accuracy для модели CatBoost на тестовой выборке: 0.853'"
      ]
     },
     "metadata": {},
     "output_type": "display_data"
    }
   ],
   "source": [
    "model_cb_best_param=grid_search_cb.best_params_\n",
    "display('Лучшие параметры модели: ', model_cb_best_param)\n",
    "\n",
    "model_cb_predict = grid_search_cb.best_estimator_\n",
    "\n",
    "pred_cb_valid = model_cb_predict.predict_proba(x_valid)[:, 1]\n",
    "roc_auc_cb_t_valid = roc_auc_score(y_valid, pred_cb_valid)\n",
    "display(f\"roc_auc для модели CatBoost на валидационной выборке: {roc_auc_cb_t_valid:.3f}\")\n",
    "display(f\"accuracy для модели CatBoost на валидационной выборке: {accuracy_score(y_valid, grid_search_cb.best_estimator_.predict(x_valid)):.3f}\")\n",
    "\n",
    "pred_cb = model_cb_predict.predict_proba(x_test)[:, 1]\n",
    "roc_auc_cb_t = roc_auc_score(y_test, pred_cb)\n",
    "display(f\"roc_auc для модели CatBoost на тестовой выборке: {roc_auc_cb_t:.3f}\")\n",
    "display(f\"accuracy для модели CatBoost на тестовой выборке: {accuracy_score(y_test, grid_search_cb.best_estimator_.predict(x_test)):.3f}\")\n"
   ]
  },
  {
   "cell_type": "code",
   "execution_count": 30,
   "id": "0f6f606e",
   "metadata": {
    "scrolled": true
   },
   "outputs": [
    {
     "data": {
      "image/png": "[encoded data removed]",
      "text/plain": [
       "<Figure size 432x288 with 1 Axes>"
      ]
     },
     "metadata": {
      "needs_background": "light"
     },
     "output_type": "display_data"
    }
   ],
   "source": [
    "def make_roc_curve(y_test, pred_test):\n",
    "    fpr, tpr, thresholds = roc_curve(y_test, pred_test)\n",
    "\n",
    "    plt.figure()\n",
    "    plt.plot(fpr, tpr)\n",
    "    plt.plot([0, 1], [0, 1], linestyle='--')\n",
    "    plt.xlim([0.0, 1.0])\n",
    "    plt.ylim([0.0, 1.0])\n",
    "    plt.xlabel('False Positive Rate')\n",
    "    plt.ylabel('True Positive Rate')\n",
    "    plt.title('ROC-curve')\n",
    "    plt.show()\n",
    "    \n",
    "make_roc_curve(y_test, pred_cb)"
   ]
  },
  {
   "cell_type": "code",
   "execution_count": 36,
   "id": "729e3712",
   "metadata": {
    "scrolled": false
   },
   "outputs": [
    {
     "data": {
      "text/html": [
       "<div>\n",
       "<style scoped>\n",
       "    .dataframe tbody tr th:only-of-type {\n",
       "        vertical-align: middle;\n",
       "    }\n",
       "\n",
       "    .dataframe tbody tr th {\n",
       "        vertical-align: top;\n",
       "    }\n",
       "\n",
       "    .dataframe thead th {\n",
       "        text-align: right;\n",
       "    }\n",
       "</style>\n",
       "<table border=\"1\" class=\"dataframe\">\n",
       "  <thead>\n",
       "    <tr style=\"text-align: right;\">\n",
       "      <th></th>\n",
       "      <th>cols</th>\n",
       "      <th>imp</th>\n",
       "    </tr>\n",
       "  </thead>\n",
       "  <tbody>\n",
       "    <tr>\n",
       "      <th>5</th>\n",
       "      <td>total_days</td>\n",
       "      <td>49.460602</td>\n",
       "    </tr>\n",
       "    <tr>\n",
       "      <th>0</th>\n",
       "      <td>Type</td>\n",
       "      <td>10.211906</td>\n",
       "    </tr>\n",
       "    <tr>\n",
       "      <th>3</th>\n",
       "      <td>MonthlyCharges</td>\n",
       "      <td>7.463225</td>\n",
       "    </tr>\n",
       "    <tr>\n",
       "      <th>4</th>\n",
       "      <td>TotalCharges</td>\n",
       "      <td>7.189144</td>\n",
       "    </tr>\n",
       "    <tr>\n",
       "      <th>11</th>\n",
       "      <td>InternetService</td>\n",
       "      <td>3.398525</td>\n",
       "    </tr>\n",
       "    <tr>\n",
       "      <th>2</th>\n",
       "      <td>PaymentMethod</td>\n",
       "      <td>2.991459</td>\n",
       "    </tr>\n",
       "    <tr>\n",
       "      <th>15</th>\n",
       "      <td>TechSupport</td>\n",
       "      <td>2.498106</td>\n",
       "    </tr>\n",
       "    <tr>\n",
       "      <th>10</th>\n",
       "      <td>MultipleLines</td>\n",
       "      <td>2.193264</td>\n",
       "    </tr>\n",
       "    <tr>\n",
       "      <th>12</th>\n",
       "      <td>OnlineSecurity</td>\n",
       "      <td>1.962068</td>\n",
       "    </tr>\n",
       "    <tr>\n",
       "      <th>17</th>\n",
       "      <td>StreamingMovies</td>\n",
       "      <td>1.926314</td>\n",
       "    </tr>\n",
       "    <tr>\n",
       "      <th>16</th>\n",
       "      <td>StreamingTV</td>\n",
       "      <td>1.868448</td>\n",
       "    </tr>\n",
       "    <tr>\n",
       "      <th>1</th>\n",
       "      <td>PaperlessBilling</td>\n",
       "      <td>1.839978</td>\n",
       "    </tr>\n",
       "    <tr>\n",
       "      <th>9</th>\n",
       "      <td>Dependents</td>\n",
       "      <td>1.557533</td>\n",
       "    </tr>\n",
       "    <tr>\n",
       "      <th>14</th>\n",
       "      <td>DeviceProtection</td>\n",
       "      <td>1.397657</td>\n",
       "    </tr>\n",
       "    <tr>\n",
       "      <th>13</th>\n",
       "      <td>OnlineBackup</td>\n",
       "      <td>1.373215</td>\n",
       "    </tr>\n",
       "    <tr>\n",
       "      <th>7</th>\n",
       "      <td>SeniorCitizen</td>\n",
       "      <td>1.214009</td>\n",
       "    </tr>\n",
       "    <tr>\n",
       "      <th>6</th>\n",
       "      <td>gender</td>\n",
       "      <td>1.043572</td>\n",
       "    </tr>\n",
       "    <tr>\n",
       "      <th>8</th>\n",
       "      <td>Partner</td>\n",
       "      <td>0.410976</td>\n",
       "    </tr>\n",
       "  </tbody>\n",
       "</table>\n",
       "</div>"
      ],
      "text/plain": [
       "                cols        imp\n",
       "5         total_days  49.460602\n",
       "0               Type  10.211906\n",
       "3     MonthlyCharges   7.463225\n",
       "4       TotalCharges   7.189144\n",
       "11   InternetService   3.398525\n",
       "2      PaymentMethod   2.991459\n",
       "15       TechSupport   2.498106\n",
       "10     MultipleLines   2.193264\n",
       "12    OnlineSecurity   1.962068\n",
       "17   StreamingMovies   1.926314\n",
       "16       StreamingTV   1.868448\n",
       "1   PaperlessBilling   1.839978\n",
       "9         Dependents   1.557533\n",
       "14  DeviceProtection   1.397657\n",
       "13      OnlineBackup   1.373215\n",
       "7      SeniorCitizen   1.214009\n",
       "6             gender   1.043572\n",
       "8            Partner   0.410976"
      ]
     },
     "metadata": {},
     "output_type": "display_data"
    }
   ],
   "source": [
    "def rf_feat_importance(m, df):\n",
    "    return pd.DataFrame({'cols':df.columns, 'imp':m.feature_importances_}\n",
    "                       ).sort_values('imp', ascending=False)\n",
    "fi = rf_feat_importance(model_cb_predict, x_test)\n",
    "display(fi)"
   ]
  },
  {
   "cell_type": "code",
   "execution_count": 38,
   "id": "3fd79ad3",
   "metadata": {},
   "outputs": [
    {
     "data": {
      "text/html": [
       "<div>\n",
       "<style scoped>\n",
       "    .dataframe tbody tr th:only-of-type {\n",
       "        vertical-align: middle;\n",
       "    }\n",
       "\n",
       "    .dataframe tbody tr th {\n",
       "        vertical-align: top;\n",
       "    }\n",
       "\n",
       "    .dataframe thead th {\n",
       "        text-align: right;\n",
       "    }\n",
       "</style>\n",
       "<table border=\"1\" class=\"dataframe\">\n",
       "  <thead>\n",
       "    <tr style=\"text-align: right;\">\n",
       "      <th></th>\n",
       "      <th>roc_auc_test</th>\n",
       "      <th>accuracy_test</th>\n",
       "    </tr>\n",
       "  </thead>\n",
       "  <tbody>\n",
       "    <tr>\n",
       "      <th>Логистическая регрессия</th>\n",
       "      <td>0.843</td>\n",
       "      <td>0.808</td>\n",
       "    </tr>\n",
       "    <tr>\n",
       "      <th>Случайный лес</th>\n",
       "      <td>0.864</td>\n",
       "      <td>0.831</td>\n",
       "    </tr>\n",
       "    <tr>\n",
       "      <th>CatBoost</th>\n",
       "      <td>0.895</td>\n",
       "      <td>0.853</td>\n",
       "    </tr>\n",
       "  </tbody>\n",
       "</table>\n",
       "</div>"
      ],
      "text/plain": [
       "                         roc_auc_test  accuracy_test\n",
       "Логистическая регрессия         0.843          0.808\n",
       "Случайный лес                   0.864          0.831\n",
       "CatBoost                        0.895          0.853"
      ]
     },
     "execution_count": 38,
     "metadata": {},
     "output_type": "execute_result"
    }
   ],
   "source": [
    "d = {'roc_auc_test': [0.843, 0.864, 0.895], 'accuracy_test': [0.808, 0.831, 0.853]}\n",
    "pd.DataFrame(data=d, index=['Логистическая регрессия', 'Случайный лес', 'CatBoost'])"
   ]
  },
  {
   "cell_type": "markdown",
   "id": "4e98c45d",
   "metadata": {},
   "source": [
    "## Вывод"
   ]
  },
  {
   "cell_type": "markdown",
   "id": "5d0e8a86",
   "metadata": {},
   "source": [
    "Была проведена предобработка и анализ данных, были получены следующие выводы:\n",
    "* ушедшие клиенты платили в месяц больше, чем те кто остались\n",
    "* многие ушедшие клиенты расплачивались методом 'Electronic check'\n",
    "Обучены различные модели (логистической регрессии, случайного леса, CatBoost). Для проверки качества моделей использовались метрики roc_auc и accuracy.\n",
    "\n",
    "Наилучшее качество предсказания показала модель градиентного бустинга (CatBoost). roc_auc = 0.895 на тестовой выборке, accuracy = 0.853\n",
    "Наибольший вклад в предсказание модели вносят признаки:\n",
    "* total_days - количество дней пользования услугами\n",
    "* Type - тип платежей (ежемесячный, ежегодный, раз в два года)\n",
    "* MonthlyCharges - ежемесячный платёж за услуги. \n",
    "* TotalCharges - общая сумма, которую клиент заплатил за всё время услуг"
   ]
  }
 ],
 "metadata": {
  "ExecuteTimeLog": [
   {
    "duration": 998,
    "start_time": "2022-06-20T06:36:41.527Z"
   },
   {
    "duration": 19800,
    "start_time": "2022-06-20T06:36:45.226Z"
   },
   {
    "duration": 997,
    "start_time": "2022-06-20T06:37:05.029Z"
   },
   {
    "duration": 6,
    "start_time": "2022-06-20T06:37:10.426Z"
   },
   {
    "duration": 402,
    "start_time": "2022-06-20T06:37:11.026Z"
   },
   {
    "duration": 503,
    "start_time": "2022-06-20T06:37:11.527Z"
   },
   {
    "duration": 410,
    "start_time": "2022-06-20T06:37:12.326Z"
   },
   {
    "duration": 9,
    "start_time": "2022-06-20T06:37:40.130Z"
   },
   {
    "duration": 8,
    "start_time": "2022-06-20T06:37:44.926Z"
   },
   {
    "duration": 97,
    "start_time": "2022-06-20T06:38:31.529Z"
   },
   {
    "duration": 298,
    "start_time": "2022-06-20T06:38:31.628Z"
   },
   {
    "duration": 9,
    "start_time": "2022-06-20T06:38:34.026Z"
   },
   {
    "duration": 6,
    "start_time": "2022-06-20T06:38:52.527Z"
   },
   {
    "duration": 107,
    "start_time": "2022-06-20T06:38:54.126Z"
   },
   {
    "duration": 107,
    "start_time": "2022-06-20T06:39:18.730Z"
   },
   {
    "duration": 200,
    "start_time": "2022-06-20T06:39:22.226Z"
   },
   {
    "duration": 199,
    "start_time": "2022-06-20T06:39:22.627Z"
   },
   {
    "duration": 199,
    "start_time": "2022-06-20T06:39:24.627Z"
   },
   {
    "duration": 301,
    "start_time": "2022-06-20T06:39:26.226Z"
   },
   {
    "duration": 98,
    "start_time": "2022-06-20T06:41:02.327Z"
   },
   {
    "duration": 8,
    "start_time": "2022-06-20T06:41:04.426Z"
   },
   {
    "duration": 103,
    "start_time": "2022-06-20T06:41:27.328Z"
   },
   {
    "duration": 11,
    "start_time": "2022-06-20T06:41:28.227Z"
   },
   {
    "duration": 101,
    "start_time": "2022-06-20T06:41:29.028Z"
   },
   {
    "duration": 1100,
    "start_time": "2022-06-20T06:41:35.427Z"
   },
   {
    "duration": 346802,
    "start_time": "2022-06-20T06:41:50.127Z"
   },
   {
    "duration": 2296,
    "start_time": "2022-06-20T06:47:36.934Z"
   },
   {
    "duration": 821731,
    "start_time": "2022-06-20T06:47:39.234Z"
   },
   {
    "duration": 63,
    "start_time": "2022-06-20T07:01:20.967Z"
   },
   {
    "duration": 223,
    "start_time": "2022-06-20T07:01:21.031Z"
   }
  ],
  "kernelspec": {
   "display_name": "Python 3",
   "language": "python",
   "name": "python3"
  },
  "language_info": {
   "codemirror_mode": {
    "name": "ipython",
    "version": 3
   },
   "file_extension": ".py",
   "mimetype": "text/x-python",
   "name": "python",
   "nbconvert_exporter": "python",
   "pygments_lexer": "ipython3",
   "version": "3.8.8"
  },
  "toc": {
   "base_numbering": 1,
   "nav_menu": {},
   "number_sections": true,
   "sideBar": true,
   "skip_h1_title": true,
   "title_cell": "Table of Contents",
   "title_sidebar": "Contents",
   "toc_cell": false,
   "toc_position": {},
   "toc_section_display": true,
   "toc_window_display": false
  }
 },
 "nbformat": 4,
 "nbformat_minor": 5
}
