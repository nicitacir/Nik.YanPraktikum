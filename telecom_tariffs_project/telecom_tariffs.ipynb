{
 "cells": [
  {
   "cell_type": "markdown",
   "metadata": {},
   "source": [
    "# Рекомендация тарифов"
   ]
  },
  {
   "cell_type": "markdown",
   "metadata": {},
   "source": [
    "В вашем распоряжении данные о поведении клиентов, которые уже перешли на эти тарифы. Нужно построить модель для задачи классификации, которая выберет подходящий тариф. Предобработка данных не понадобится.\n",
    "\n",
    "Постройте модель с максимально большим значением *accuracy*."
   ]
  },
  {
   "cell_type": "markdown",
   "metadata": {},
   "source": [
    "## Откройте и изучите файл"
   ]
  },
  {
   "cell_type": "markdown",
   "metadata": {},
   "source": [
    "Импортируем нужные нам библиотеки"
   ]
  },
  {
   "cell_type": "code",
   "execution_count": 1,
   "metadata": {},
   "outputs": [],
   "source": [
    "import pandas as pd\n",
    "from sklearn.model_selection import train_test_split\n",
    "from sklearn.ensemble import RandomForestClassifier\n",
    "from sklearn.tree import DecisionTreeClassifier\n",
    "from sklearn.metrics import accuracy_score\n",
    "from sklearn.linear_model import LogisticRegression\n",
    "from sklearn.dummy import DummyClassifier"
   ]
  },
  {
   "cell_type": "code",
   "execution_count": 2,
   "metadata": {},
   "outputs": [],
   "source": [
    "data = pd.read_csv('/datasets/users_behavior.csv')"
   ]
  },
  {
   "cell_type": "code",
   "execution_count": 3,
   "metadata": {},
   "outputs": [
    {
     "name": "stdout",
     "output_type": "stream",
     "text": [
      "<class 'pandas.core.frame.DataFrame'>\n",
      "RangeIndex: 3214 entries, 0 to 3213\n",
      "Data columns (total 5 columns):\n",
      "calls       3214 non-null float64\n",
      "minutes     3214 non-null float64\n",
      "messages    3214 non-null float64\n",
      "mb_used     3214 non-null float64\n",
      "is_ultra    3214 non-null int64\n",
      "dtypes: float64(4), int64(1)\n",
      "memory usage: 125.7 KB\n"
     ]
    },
    {
     "data": {
      "text/plain": [
       "None"
      ]
     },
     "metadata": {},
     "output_type": "display_data"
    },
    {
     "data": {
      "text/html": [
       "<div>\n",
       "<style scoped>\n",
       "    .dataframe tbody tr th:only-of-type {\n",
       "        vertical-align: middle;\n",
       "    }\n",
       "\n",
       "    .dataframe tbody tr th {\n",
       "        vertical-align: top;\n",
       "    }\n",
       "\n",
       "    .dataframe thead th {\n",
       "        text-align: right;\n",
       "    }\n",
       "</style>\n",
       "<table border=\"1\" class=\"dataframe\">\n",
       "  <thead>\n",
       "    <tr style=\"text-align: right;\">\n",
       "      <th></th>\n",
       "      <th>calls</th>\n",
       "      <th>minutes</th>\n",
       "      <th>messages</th>\n",
       "      <th>mb_used</th>\n",
       "      <th>is_ultra</th>\n",
       "    </tr>\n",
       "  </thead>\n",
       "  <tbody>\n",
       "    <tr>\n",
       "      <td>count</td>\n",
       "      <td>3214.000000</td>\n",
       "      <td>3214.000000</td>\n",
       "      <td>3214.000000</td>\n",
       "      <td>3214.000000</td>\n",
       "      <td>3214.000000</td>\n",
       "    </tr>\n",
       "    <tr>\n",
       "      <td>mean</td>\n",
       "      <td>63.038892</td>\n",
       "      <td>438.208787</td>\n",
       "      <td>38.281269</td>\n",
       "      <td>17207.673836</td>\n",
       "      <td>0.306472</td>\n",
       "    </tr>\n",
       "    <tr>\n",
       "      <td>std</td>\n",
       "      <td>33.236368</td>\n",
       "      <td>234.569872</td>\n",
       "      <td>36.148326</td>\n",
       "      <td>7570.968246</td>\n",
       "      <td>0.461100</td>\n",
       "    </tr>\n",
       "    <tr>\n",
       "      <td>min</td>\n",
       "      <td>0.000000</td>\n",
       "      <td>0.000000</td>\n",
       "      <td>0.000000</td>\n",
       "      <td>0.000000</td>\n",
       "      <td>0.000000</td>\n",
       "    </tr>\n",
       "    <tr>\n",
       "      <td>25%</td>\n",
       "      <td>40.000000</td>\n",
       "      <td>274.575000</td>\n",
       "      <td>9.000000</td>\n",
       "      <td>12491.902500</td>\n",
       "      <td>0.000000</td>\n",
       "    </tr>\n",
       "    <tr>\n",
       "      <td>50%</td>\n",
       "      <td>62.000000</td>\n",
       "      <td>430.600000</td>\n",
       "      <td>30.000000</td>\n",
       "      <td>16943.235000</td>\n",
       "      <td>0.000000</td>\n",
       "    </tr>\n",
       "    <tr>\n",
       "      <td>75%</td>\n",
       "      <td>82.000000</td>\n",
       "      <td>571.927500</td>\n",
       "      <td>57.000000</td>\n",
       "      <td>21424.700000</td>\n",
       "      <td>1.000000</td>\n",
       "    </tr>\n",
       "    <tr>\n",
       "      <td>max</td>\n",
       "      <td>244.000000</td>\n",
       "      <td>1632.060000</td>\n",
       "      <td>224.000000</td>\n",
       "      <td>49745.730000</td>\n",
       "      <td>1.000000</td>\n",
       "    </tr>\n",
       "  </tbody>\n",
       "</table>\n",
       "</div>"
      ],
      "text/plain": [
       "             calls      minutes     messages       mb_used     is_ultra\n",
       "count  3214.000000  3214.000000  3214.000000   3214.000000  3214.000000\n",
       "mean     63.038892   438.208787    38.281269  17207.673836     0.306472\n",
       "std      33.236368   234.569872    36.148326   7570.968246     0.461100\n",
       "min       0.000000     0.000000     0.000000      0.000000     0.000000\n",
       "25%      40.000000   274.575000     9.000000  12491.902500     0.000000\n",
       "50%      62.000000   430.600000    30.000000  16943.235000     0.000000\n",
       "75%      82.000000   571.927500    57.000000  21424.700000     1.000000\n",
       "max     244.000000  1632.060000   224.000000  49745.730000     1.000000"
      ]
     },
     "metadata": {},
     "output_type": "display_data"
    },
    {
     "data": {
      "text/plain": [
       "0"
      ]
     },
     "metadata": {},
     "output_type": "display_data"
    },
    {
     "data": {
      "text/html": [
       "<div>\n",
       "<style scoped>\n",
       "    .dataframe tbody tr th:only-of-type {\n",
       "        vertical-align: middle;\n",
       "    }\n",
       "\n",
       "    .dataframe tbody tr th {\n",
       "        vertical-align: top;\n",
       "    }\n",
       "\n",
       "    .dataframe thead th {\n",
       "        text-align: right;\n",
       "    }\n",
       "</style>\n",
       "<table border=\"1\" class=\"dataframe\">\n",
       "  <thead>\n",
       "    <tr style=\"text-align: right;\">\n",
       "      <th></th>\n",
       "      <th>calls</th>\n",
       "      <th>minutes</th>\n",
       "      <th>messages</th>\n",
       "      <th>mb_used</th>\n",
       "      <th>is_ultra</th>\n",
       "    </tr>\n",
       "  </thead>\n",
       "  <tbody>\n",
       "    <tr>\n",
       "      <td>0</td>\n",
       "      <td>40.0</td>\n",
       "      <td>311.90</td>\n",
       "      <td>83.0</td>\n",
       "      <td>19915.42</td>\n",
       "      <td>0</td>\n",
       "    </tr>\n",
       "    <tr>\n",
       "      <td>1</td>\n",
       "      <td>85.0</td>\n",
       "      <td>516.75</td>\n",
       "      <td>56.0</td>\n",
       "      <td>22696.96</td>\n",
       "      <td>0</td>\n",
       "    </tr>\n",
       "    <tr>\n",
       "      <td>2</td>\n",
       "      <td>77.0</td>\n",
       "      <td>467.66</td>\n",
       "      <td>86.0</td>\n",
       "      <td>21060.45</td>\n",
       "      <td>0</td>\n",
       "    </tr>\n",
       "    <tr>\n",
       "      <td>3</td>\n",
       "      <td>106.0</td>\n",
       "      <td>745.53</td>\n",
       "      <td>81.0</td>\n",
       "      <td>8437.39</td>\n",
       "      <td>1</td>\n",
       "    </tr>\n",
       "    <tr>\n",
       "      <td>4</td>\n",
       "      <td>66.0</td>\n",
       "      <td>418.74</td>\n",
       "      <td>1.0</td>\n",
       "      <td>14502.75</td>\n",
       "      <td>0</td>\n",
       "    </tr>\n",
       "  </tbody>\n",
       "</table>\n",
       "</div>"
      ],
      "text/plain": [
       "   calls  minutes  messages   mb_used  is_ultra\n",
       "0   40.0   311.90      83.0  19915.42         0\n",
       "1   85.0   516.75      56.0  22696.96         0\n",
       "2   77.0   467.66      86.0  21060.45         0\n",
       "3  106.0   745.53      81.0   8437.39         1\n",
       "4   66.0   418.74       1.0  14502.75         0"
      ]
     },
     "metadata": {},
     "output_type": "display_data"
    }
   ],
   "source": [
    "display(data.info())#все данные заполнены, пропусков нет\n",
    "display(data.describe())\n",
    "display(data.duplicated().sum())\n",
    "display(data.head())"
   ]
  },
  {
   "cell_type": "code",
   "execution_count": 4,
   "metadata": {},
   "outputs": [],
   "source": [
    "data['calls'] =data['calls'].astype('int64')\n",
    "data['messages'] = data['messages'].astype('int64')"
   ]
  },
  {
   "cell_type": "code",
   "execution_count": 5,
   "metadata": {
    "scrolled": true
   },
   "outputs": [
    {
     "name": "stdout",
     "output_type": "stream",
     "text": [
      "<class 'pandas.core.frame.DataFrame'>\n",
      "RangeIndex: 3214 entries, 0 to 3213\n",
      "Data columns (total 5 columns):\n",
      "calls       3214 non-null int64\n",
      "minutes     3214 non-null float64\n",
      "messages    3214 non-null int64\n",
      "mb_used     3214 non-null float64\n",
      "is_ultra    3214 non-null int64\n",
      "dtypes: float64(2), int64(3)\n",
      "memory usage: 125.7 KB\n"
     ]
    }
   ],
   "source": [
    "data.info()"
   ]
  },
  {
   "cell_type": "markdown",
   "metadata": {},
   "source": [
    "**Вывод** \n",
    "\n",
    "Познакомившись с данными видим, что пропусков нет, данные адекватные."
   ]
  },
  {
   "cell_type": "markdown",
   "metadata": {},
   "source": [
    "## Разбивка данных на выборки"
   ]
  },
  {
   "cell_type": "markdown",
   "metadata": {},
   "source": [
    "Спрятанной тестовой выборки нет. Значит, данные нужно разбить на три части: обучающую, валидационную и тестовую. Размеры тестового и валидационного наборов обычно равны. Исходные данные разбивают в соотношении 3:1:1."
   ]
  },
  {
   "cell_type": "code",
   "execution_count": 6,
   "metadata": {},
   "outputs": [],
   "source": [
    "features = data.drop(['is_ultra'], axis = 1)# выделим признаки модели\n",
    "target = data['is_ultra']#выделим целевой признак"
   ]
  },
  {
   "cell_type": "code",
   "execution_count": 7,
   "metadata": {
    "scrolled": false
   },
   "outputs": [
    {
     "data": {
      "text/plain": [
       "(      calls  minutes  messages   mb_used\n",
       " 160      61   495.11         8  10891.23\n",
       " 2498     80   555.04        28  28083.58\n",
       " 1748     87   697.23         0   8335.70\n",
       " 1816     41   275.80         9  10032.39\n",
       " 1077     60   428.49        20  29389.52\n",
       " ...     ...      ...       ...       ...\n",
       " 2401     55   446.06        79  26526.28\n",
       " 2928    102   742.65        58  16089.24\n",
       " 1985     52   349.94        42  12150.72\n",
       " 357      39   221.18        59  17865.23\n",
       " 2313     40   301.03       102   6057.63\n",
       " \n",
       " [643 rows x 4 columns],\n",
       " 160     0\n",
       " 2498    0\n",
       " 1748    0\n",
       " 1816    0\n",
       " 1077    1\n",
       "        ..\n",
       " 2401    0\n",
       " 2928    1\n",
       " 1985    0\n",
       " 357     0\n",
       " 2313    0\n",
       " Name: is_ultra, Length: 643, dtype: int64)"
      ]
     },
     "execution_count": 7,
     "metadata": {},
     "output_type": "execute_result"
    }
   ],
   "source": [
    "features_train, features_valid_0, target_train, target_valid_0  = train_test_split(features, target, test_size=0.40, random_state=12345) #  разделите данные на обучающую и валидационную выборки(которую разобьем на валидационную и тестовую выборки)\n",
    "features_valid, features_test, target_valid, target_test  = train_test_split(features_valid_0, target_valid_0, test_size=0.50, random_state=12345)\n",
    "features_train, target_train# тренировочные данные\n",
    "features_valid, target_valid# валидационная выборка\n",
    "features_test, target_test# тестовая выборка"
   ]
  },
  {
   "cell_type": "code",
   "execution_count": 8,
   "metadata": {
    "scrolled": true
   },
   "outputs": [
    {
     "data": {
      "text/plain": [
       "(1928, 4)"
      ]
     },
     "metadata": {},
     "output_type": "display_data"
    },
    {
     "data": {
      "text/plain": [
       "(1928,)"
      ]
     },
     "metadata": {},
     "output_type": "display_data"
    },
    {
     "data": {
      "text/plain": [
       "(643, 4)"
      ]
     },
     "metadata": {},
     "output_type": "display_data"
    },
    {
     "data": {
      "text/plain": [
       "(643,)"
      ]
     },
     "metadata": {},
     "output_type": "display_data"
    },
    {
     "data": {
      "text/plain": [
       "(643, 4)"
      ]
     },
     "metadata": {},
     "output_type": "display_data"
    },
    {
     "data": {
      "text/plain": [
       "(643,)"
      ]
     },
     "metadata": {},
     "output_type": "display_data"
    }
   ],
   "source": [
    "sd = [features_train, target_train,features_valid, target_valid,features_test, target_test]\n",
    "\n",
    "for s in sd:\n",
    "    display(s.shape)"
   ]
  },
  {
   "cell_type": "markdown",
   "metadata": {},
   "source": [
    "**Вывод**\n",
    "\n",
    "Данные разбиты на обучающую, валидационную и тестовую выборки в соотношении 3:1:1. При разбитие данных на выбоорки, данные не потеряли."
   ]
  },
  {
   "cell_type": "markdown",
   "metadata": {},
   "source": [
    "## Исследование модели"
   ]
  },
  {
   "cell_type": "markdown",
   "metadata": {},
   "source": [
    "Так как перед нами качественный признак,а не количественный мы можем построить следующие модели: \n",
    " \n",
    "* дерево решений \n",
    "  \n",
    "* случайный лес \n",
    "  \n",
    "* логистическая регрессия \n",
    " \n"
   ]
  },
  {
   "cell_type": "markdown",
   "metadata": {},
   "source": [
    "***СЛУЧАЙНЫЙ ЛЕС***"
   ]
  },
  {
   "cell_type": "code",
   "execution_count": 9,
   "metadata": {
    "scrolled": false
   },
   "outputs": [
    {
     "data": {
      "text/plain": [
       "'Accuracy наилучшей модели на валидационной выборке:'"
      ]
     },
     "metadata": {},
     "output_type": "display_data"
    },
    {
     "data": {
      "text/plain": [
       "0.8087091757387247"
      ]
     },
     "metadata": {},
     "output_type": "display_data"
    },
    {
     "data": {
      "text/plain": [
       "'Наилучшее количество деревьев в модели на валидационной выборке:'"
      ]
     },
     "metadata": {},
     "output_type": "display_data"
    },
    {
     "data": {
      "text/plain": [
       "40"
      ]
     },
     "metadata": {},
     "output_type": "display_data"
    },
    {
     "data": {
      "text/plain": [
       "'Наилучшая максимальной глубиной на валидационной выборке:'"
      ]
     },
     "metadata": {},
     "output_type": "display_data"
    },
    {
     "data": {
      "text/plain": [
       "8"
      ]
     },
     "metadata": {},
     "output_type": "display_data"
    },
    {
     "data": {
      "text/plain": [
       "'Наилучший индикатор:'"
      ]
     },
     "metadata": {},
     "output_type": "display_data"
    },
    {
     "data": {
      "text/plain": [
       "'gini'"
      ]
     },
     "metadata": {},
     "output_type": "display_data"
    },
    {
     "data": {
      "text/plain": [
       "RandomForestClassifier(bootstrap=True, class_weight=None, criterion='gini',\n",
       "                       max_depth=8, max_features='auto', max_leaf_nodes=None,\n",
       "                       min_impurity_decrease=0.0, min_impurity_split=None,\n",
       "                       min_samples_leaf=1, min_samples_split=2,\n",
       "                       min_weight_fraction_leaf=0.0, n_estimators=40,\n",
       "                       n_jobs=None, oob_score=False, random_state=12345,\n",
       "                       verbose=0, warm_start=False)"
      ]
     },
     "metadata": {},
     "output_type": "display_data"
    }
   ],
   "source": [
    "best_indicator = None\n",
    "best_model = None\n",
    "best_result = 0\n",
    "best_est = 0\n",
    "best_depth = 0\n",
    "\n",
    "indicator= ['gini','entropy']\n",
    "\n",
    "for indic in indicator: \n",
    "    for est in range(10, 51, 10):\n",
    "        for depth in range (1, 11):\n",
    "            model = RandomForestClassifier(random_state=12345, n_estimators= est,max_depth=depth,criterion = indic) # обучим модель с заданным количеством деревьев\n",
    "            model.fit(features_train,target_train) # обучим модель на тренировочной выборке\n",
    "            result = model.score(features_valid,target_valid) # посчитаем качество модели на валидационной выборке\n",
    "            if result > best_result:\n",
    "                best_model = model# сохранм наилучшую модель\n",
    "                best_result = result#  сохраним наилучшее значение метрики accuracy на валидационных данных\n",
    "                best_est = est # сохраним лучшее количество дереьвьев в модели\n",
    "                best_depth = depth\n",
    "                best_indicator = indic\n",
    "\n",
    "                \n",
    "display(\"Accuracy наилучшей модели на валидационной выборке:\", best_result)\n",
    "display(\"Наилучшее количество деревьев в модели на валидационной выборке:\", best_est)\n",
    "display(\"Наилучшая максимальной глубиной на валидационной выборке:\", best_depth)\n",
    "display(\"Наилучший индикатор:\", best_indicator)\n",
    "\n",
    "\n",
    "display(best_model)"
   ]
  },
  {
   "cell_type": "markdown",
   "metadata": {},
   "source": [
    "***ДЕРЕВО РЕШЕНИЙ***"
   ]
  },
  {
   "cell_type": "code",
   "execution_count": 10,
   "metadata": {
    "scrolled": true
   },
   "outputs": [
    {
     "data": {
      "text/plain": [
       "'Accuracy наилучшей модели на валидационной выборке:'"
      ]
     },
     "metadata": {},
     "output_type": "display_data"
    },
    {
     "data": {
      "text/plain": [
       "0.7853810264385692"
      ]
     },
     "metadata": {},
     "output_type": "display_data"
    },
    {
     "data": {
      "text/plain": [
       "'Наилучшее количество деревьев в модели на валидационной выборке:'"
      ]
     },
     "metadata": {},
     "output_type": "display_data"
    },
    {
     "data": {
      "text/plain": [
       "3"
      ]
     },
     "metadata": {},
     "output_type": "display_data"
    },
    {
     "data": {
      "text/plain": [
       "DecisionTreeClassifier(class_weight=None, criterion='gini', max_depth=3,\n",
       "                       max_features=None, max_leaf_nodes=None,\n",
       "                       min_impurity_decrease=0.0, min_impurity_split=None,\n",
       "                       min_samples_leaf=1, min_samples_split=2,\n",
       "                       min_weight_fraction_leaf=0.0, presort=False,\n",
       "                       random_state=12345, splitter='best')"
      ]
     },
     "metadata": {},
     "output_type": "display_data"
    }
   ],
   "source": [
    "best_model_2 = None\n",
    "best_result_2 = 0\n",
    "best_depth_2 = 0\n",
    "\n",
    "for depth in range(1, 6):\n",
    "    model_2 = DecisionTreeClassifier(random_state=12345, max_depth = depth)\n",
    "    model_2.fit(features_train, target_train)\n",
    "    predictions_valid = model_2.predict(features_valid)\n",
    "    result_2 = accuracy_score(target_valid, predictions_valid)\n",
    "    if result_2 > best_result_2:\n",
    "        best_model_2 = model_2# сохранм наилучшую модель\n",
    "        best_result_2 = result_2#  сохраним наилучшее значение метрики accuracy на валидационных данных\n",
    "        best_depth_2 = depth# сохраним лучшее количество дереьвьев в модели\n",
    "\n",
    "display(\"Accuracy наилучшей модели на валидационной выборке:\", best_result_2)\n",
    "display(\"Наилучшее количество деревьев в модели на валидационной выборке:\", best_depth_2)\n",
    "display(best_model_2)"
   ]
  },
  {
   "cell_type": "markdown",
   "metadata": {},
   "source": [
    "***ЛОГИСТИЧЕСКАЯ РЕГРЕССИЯ***"
   ]
  },
  {
   "cell_type": "code",
   "execution_count": 11,
   "metadata": {},
   "outputs": [
    {
     "name": "stdout",
     "output_type": "stream",
     "text": [
      "Accuracy модели логистической регрессии на валидационной выборке: 0.7589424572317263\n"
     ]
    },
    {
     "name": "stderr",
     "output_type": "stream",
     "text": [
      "/opt/conda/lib/python3.7/site-packages/sklearn/linear_model/logistic.py:432: FutureWarning: Default solver will be changed to 'lbfgs' in 0.22. Specify a solver to silence this warning.\n",
      "  FutureWarning)\n"
     ]
    },
    {
     "data": {
      "text/plain": [
       "LogisticRegression(C=1.0, class_weight=None, dual=False, fit_intercept=True,\n",
       "                   intercept_scaling=1, l1_ratio=None, max_iter=100,\n",
       "                   multi_class='warn', n_jobs=None, penalty='l2',\n",
       "                   random_state=12345, solver='warn', tol=0.0001, verbose=0,\n",
       "                   warm_start=False)"
      ]
     },
     "metadata": {},
     "output_type": "display_data"
    }
   ],
   "source": [
    "model_3 = LogisticRegression(random_state=12345)\n",
    "model_3.fit(features_train,target_train)\n",
    "result_3 = model_3.score(features_valid, target_valid)\n",
    "print(\"Accuracy модели логистической регрессии на валидационной выборке:\", result_3)\n",
    "display(model_3)"
   ]
  },
  {
   "cell_type": "code",
   "execution_count": 12,
   "metadata": {},
   "outputs": [],
   "source": [
    "features_train, target_train# тренировочные данные\n",
    "features_valid, target_valid# валидационная выборка\n",
    "features_train_valid = features_train.append(features_valid)\n",
    "target_train_valid = target_train.append(target_valid)\n"
   ]
  },
  {
   "cell_type": "markdown",
   "metadata": {},
   "source": [
    "**Вывод**\n",
    "\n",
    "Наилучшее качество на валидационной выборке показывает модель случйного леса, далее дерево решений и самое плохое качество показала логистическая регрессия. В модели случаного леса лучшее качество с гипперпараметрами:\n",
    "\n",
    "* 'Наилучшее количество деревьев в модели на валидационной выборке:' 40\n",
    "\n",
    "*  'Наилучшая максимальной глубиной на валидационной выборке:' 8\n",
    "\n",
    "*  'Наилучший индикатор:''gini'"
   ]
  },
  {
   "cell_type": "markdown",
   "metadata": {},
   "source": [
    "## Проверка модели на тестовой выборке"
   ]
  },
  {
   "cell_type": "code",
   "execution_count": 13,
   "metadata": {},
   "outputs": [
    {
     "data": {
      "text/plain": [
       "0.7962674961119751"
      ]
     },
     "execution_count": 13,
     "metadata": {},
     "output_type": "execute_result"
    }
   ],
   "source": [
    "#проверим на тестовой выборке модель случайного леса\n",
    "predictions_test_1 = best_model.predict(features_test)\n",
    "result_test_1 = accuracy_score(target_test, predictions_test_1)\n",
    "result_test_1"
   ]
  },
  {
   "cell_type": "code",
   "execution_count": 14,
   "metadata": {},
   "outputs": [
    {
     "data": {
      "text/plain": [
       "0.7791601866251944"
      ]
     },
     "execution_count": 14,
     "metadata": {},
     "output_type": "execute_result"
    }
   ],
   "source": [
    "#проверим на тестовой выборке модель дерева решений\n",
    "predictions_test_2 = best_model_2.predict(features_test)\n",
    "result_test_2 = accuracy_score(target_test, predictions_test_2)\n",
    "result_test_2"
   ]
  },
  {
   "cell_type": "code",
   "execution_count": 15,
   "metadata": {},
   "outputs": [
    {
     "data": {
      "text/plain": [
       "0.7402799377916018"
      ]
     },
     "execution_count": 15,
     "metadata": {},
     "output_type": "execute_result"
    }
   ],
   "source": [
    "#проверим на тестовой выборке модель логистической регрессии\n",
    "predictions_test_3 = model_3.predict(features_test)\n",
    "result_test_3 = accuracy_score(target_test, predictions_test_3)\n",
    "result_test_3"
   ]
  },
  {
   "cell_type": "markdown",
   "metadata": {},
   "source": [
    "обучим модели на тех гипперпараметрах только по валидационной и тестовой базе совместно"
   ]
  },
  {
   "cell_type": "code",
   "execution_count": 16,
   "metadata": {},
   "outputs": [
    {
     "data": {
      "text/plain": [
       "0.7791601866251944"
      ]
     },
     "execution_count": 16,
     "metadata": {},
     "output_type": "execute_result"
    }
   ],
   "source": [
    "model_4 = RandomForestClassifier(random_state=12345, n_estimators= 40,max_depth=8) # обучим модель с заданным количеством деревьев\n",
    "model_4.fit(features_train_valid,target_train_valid) # обучим модель на тренировочной выборке\n",
    "predictions_test_4 = model_4.predict(features_test)\n",
    "result_test_4 = accuracy_score(target_test, predictions_test_2) # посчитаем качество модели на валидационной выборке\n",
    "result_test_4"
   ]
  },
  {
   "cell_type": "markdown",
   "metadata": {},
   "source": [
    "**Вывод** \n",
    "\n",
    "Обучение на тестовой и валидационной базе совместно не влияет на итоговый показатель точности"
   ]
  },
  {
   "cell_type": "markdown",
   "metadata": {},
   "source": [
    "Проверим какой вес занимает каждый параметр в моделях случайного леса и дерева решений"
   ]
  },
  {
   "cell_type": "code",
   "execution_count": 17,
   "metadata": {
    "scrolled": true
   },
   "outputs": [
    {
     "data": {
      "text/html": [
       "<div>\n",
       "<style scoped>\n",
       "    .dataframe tbody tr th:only-of-type {\n",
       "        vertical-align: middle;\n",
       "    }\n",
       "\n",
       "    .dataframe tbody tr th {\n",
       "        vertical-align: top;\n",
       "    }\n",
       "\n",
       "    .dataframe thead th {\n",
       "        text-align: right;\n",
       "    }\n",
       "</style>\n",
       "<table border=\"1\" class=\"dataframe\">\n",
       "  <thead>\n",
       "    <tr style=\"text-align: right;\">\n",
       "      <th></th>\n",
       "      <th>cols</th>\n",
       "      <th>imp</th>\n",
       "    </tr>\n",
       "  </thead>\n",
       "  <tbody>\n",
       "    <tr>\n",
       "      <td>3</td>\n",
       "      <td>mb_used</td>\n",
       "      <td>0.375424</td>\n",
       "    </tr>\n",
       "    <tr>\n",
       "      <td>2</td>\n",
       "      <td>messages</td>\n",
       "      <td>0.223809</td>\n",
       "    </tr>\n",
       "    <tr>\n",
       "      <td>0</td>\n",
       "      <td>calls</td>\n",
       "      <td>0.209406</td>\n",
       "    </tr>\n",
       "    <tr>\n",
       "      <td>1</td>\n",
       "      <td>minutes</td>\n",
       "      <td>0.191361</td>\n",
       "    </tr>\n",
       "  </tbody>\n",
       "</table>\n",
       "</div>"
      ],
      "text/plain": [
       "       cols       imp\n",
       "3   mb_used  0.375424\n",
       "2  messages  0.223809\n",
       "0     calls  0.209406\n",
       "1   minutes  0.191361"
      ]
     },
     "metadata": {},
     "output_type": "display_data"
    },
    {
     "data": {
      "text/html": [
       "<div>\n",
       "<style scoped>\n",
       "    .dataframe tbody tr th:only-of-type {\n",
       "        vertical-align: middle;\n",
       "    }\n",
       "\n",
       "    .dataframe tbody tr th {\n",
       "        vertical-align: top;\n",
       "    }\n",
       "\n",
       "    .dataframe thead th {\n",
       "        text-align: right;\n",
       "    }\n",
       "</style>\n",
       "<table border=\"1\" class=\"dataframe\">\n",
       "  <thead>\n",
       "    <tr style=\"text-align: right;\">\n",
       "      <th></th>\n",
       "      <th>cols</th>\n",
       "      <th>imp</th>\n",
       "    </tr>\n",
       "  </thead>\n",
       "  <tbody>\n",
       "    <tr>\n",
       "      <td>3</td>\n",
       "      <td>mb_used</td>\n",
       "      <td>0.513756</td>\n",
       "    </tr>\n",
       "    <tr>\n",
       "      <td>1</td>\n",
       "      <td>minutes</td>\n",
       "      <td>0.274619</td>\n",
       "    </tr>\n",
       "    <tr>\n",
       "      <td>2</td>\n",
       "      <td>messages</td>\n",
       "      <td>0.193568</td>\n",
       "    </tr>\n",
       "    <tr>\n",
       "      <td>0</td>\n",
       "      <td>calls</td>\n",
       "      <td>0.018057</td>\n",
       "    </tr>\n",
       "  </tbody>\n",
       "</table>\n",
       "</div>"
      ],
      "text/plain": [
       "       cols       imp\n",
       "3   mb_used  0.513756\n",
       "1   minutes  0.274619\n",
       "2  messages  0.193568\n",
       "0     calls  0.018057"
      ]
     },
     "metadata": {},
     "output_type": "display_data"
    }
   ],
   "source": [
    "def rf_feat_importance(m, df):\n",
    "    return pd.DataFrame({'cols':df.columns, 'imp':m.feature_importances_}\n",
    "                       ).sort_values('imp', ascending=False)\n",
    "fi = rf_feat_importance(best_model, features_test)\n",
    "display(fi)\n",
    "fi_2 = rf_feat_importance(best_model_2, features_test)\n",
    "display(fi_2)\n"
   ]
  },
  {
   "cell_type": "markdown",
   "metadata": {},
   "source": [
    "Видим,что в модели случайного леса параметр использованных мб занимает меньшую долю,чем в модели дерева решений"
   ]
  },
  {
   "cell_type": "markdown",
   "metadata": {},
   "source": [
    "## Проверка модели на адекватность"
   ]
  },
  {
   "cell_type": "code",
   "execution_count": 18,
   "metadata": {},
   "outputs": [
    {
     "data": {
      "text/plain": [
       "0.6842923794712286"
      ]
     },
     "execution_count": 18,
     "metadata": {},
     "output_type": "execute_result"
    }
   ],
   "source": [
    "dummy_clf = DummyClassifier(strategy=\"most_frequent\")\n",
    "dummy_clf.fit(features_train, target_train)\n",
    "DummyClassifier(strategy='most_frequent')\n",
    "dummy_pred = dummy_clf.predict(features_test)\n",
    "\n",
    "\n",
    "accuracy_score(target_test,dummy_pred)"
   ]
  },
  {
   "cell_type": "markdown",
   "metadata": {},
   "source": [
    "Если сравнивать полученный результат с результатами полученными моделью случайного леса, то получается модель лучшие предсказания, можно сделать вывод, что модель акдекватная"
   ]
  },
  {
   "cell_type": "markdown",
   "metadata": {},
   "source": [
    "***Вывод*** \n",
    "\n",
    "В данном проекте были построены модели для задач классификации, которые выберает подходящий тариф. \n",
    "\n",
    "* Дерево решений, случайный лес, логистическая регрессия. \n",
    "\n",
    "* Данные были поделены на выборки, обучающую, валидационную и тестовую выборку.  \n",
    "\n",
    "* Лучшую точность и на тестовой и на валидационной выборке показала модель случайного леса(accuracy 0.7962). У логистической регрессии(0.74), у дерева решений(0.78).\n",
    "* Проверил модель на адекватность, сравнив с готовой дамми моделью(accuracy 0.6842), и она показала более высокую точность."
   ]
  }
 ],
 "metadata": {
  "ExecuteTimeLog": [
   {
    "duration": 651,
    "start_time": "2022-01-16T13:16:18.349Z"
   },
   {
    "duration": 21,
    "start_time": "2022-01-16T13:16:20.171Z"
   },
   {
    "duration": 7,
    "start_time": "2022-01-16T13:18:29.980Z"
   },
   {
    "duration": 42,
    "start_time": "2022-01-16T13:21:15.550Z"
   },
   {
    "duration": 7,
    "start_time": "2022-01-16T13:29:36.500Z"
   },
   {
    "duration": 5,
    "start_time": "2022-01-16T13:29:46.353Z"
   },
   {
    "duration": 6,
    "start_time": "2022-01-16T13:29:59.344Z"
   },
   {
    "duration": 8,
    "start_time": "2022-01-16T13:30:15.975Z"
   },
   {
    "duration": 8,
    "start_time": "2022-01-16T13:30:41.061Z"
   },
   {
    "duration": 5,
    "start_time": "2022-01-16T13:31:05.326Z"
   },
   {
    "duration": 7,
    "start_time": "2022-01-16T13:31:07.269Z"
   },
   {
    "duration": 1060,
    "start_time": "2022-01-16T13:40:10.106Z"
   },
   {
    "duration": 19,
    "start_time": "2022-01-16T13:40:11.169Z"
   },
   {
    "duration": 43,
    "start_time": "2022-01-16T13:40:11.191Z"
   },
   {
    "duration": 4,
    "start_time": "2022-01-16T13:40:11.236Z"
   },
   {
    "duration": 25,
    "start_time": "2022-01-16T13:40:11.242Z"
   },
   {
    "duration": 323,
    "start_time": "2022-01-16T13:40:11.270Z"
   },
   {
    "duration": 222,
    "start_time": "2022-01-16T13:41:00.575Z"
   },
   {
    "duration": 16,
    "start_time": "2022-01-16T13:41:11.494Z"
   },
   {
    "duration": 1043,
    "start_time": "2022-01-16T14:06:50.641Z"
   },
   {
    "duration": 19,
    "start_time": "2022-01-16T14:06:51.685Z"
   },
   {
    "duration": 40,
    "start_time": "2022-01-16T14:06:51.706Z"
   },
   {
    "duration": 13,
    "start_time": "2022-01-16T14:06:51.749Z"
   },
   {
    "duration": 13,
    "start_time": "2022-01-16T14:06:51.764Z"
   },
   {
    "duration": 14,
    "start_time": "2022-01-16T14:06:51.779Z"
   },
   {
    "duration": 9,
    "start_time": "2022-01-16T14:06:51.795Z"
   },
   {
    "duration": 348,
    "start_time": "2022-01-16T14:10:20.340Z"
   },
   {
    "duration": 16,
    "start_time": "2022-01-16T14:11:13.438Z"
   },
   {
    "duration": 1164,
    "start_time": "2022-01-16T14:35:35.474Z"
   },
   {
    "duration": 19,
    "start_time": "2022-01-16T14:35:36.641Z"
   },
   {
    "duration": 52,
    "start_time": "2022-01-16T14:35:36.664Z"
   },
   {
    "duration": 4,
    "start_time": "2022-01-16T14:35:36.718Z"
   },
   {
    "duration": 10,
    "start_time": "2022-01-16T14:35:36.724Z"
   },
   {
    "duration": 5,
    "start_time": "2022-01-16T14:35:36.761Z"
   },
   {
    "duration": 33,
    "start_time": "2022-01-16T14:35:36.769Z"
   },
   {
    "duration": 274,
    "start_time": "2022-01-16T14:35:36.805Z"
   },
   {
    "duration": 250,
    "start_time": "2022-01-16T14:35:47.924Z"
   },
   {
    "duration": 244,
    "start_time": "2022-01-16T14:36:03.493Z"
   },
   {
    "duration": 1115,
    "start_time": "2022-01-16T14:50:12.812Z"
   },
   {
    "duration": 18,
    "start_time": "2022-01-16T14:50:13.929Z"
   },
   {
    "duration": 52,
    "start_time": "2022-01-16T14:50:13.949Z"
   },
   {
    "duration": 4,
    "start_time": "2022-01-16T14:50:14.003Z"
   },
   {
    "duration": 11,
    "start_time": "2022-01-16T14:50:14.008Z"
   },
   {
    "duration": 6,
    "start_time": "2022-01-16T14:50:14.021Z"
   },
   {
    "duration": 47,
    "start_time": "2022-01-16T14:50:14.029Z"
   },
   {
    "duration": 262,
    "start_time": "2022-01-16T14:50:14.079Z"
   },
   {
    "duration": 406,
    "start_time": "2022-01-16T14:50:14.342Z"
   },
   {
    "duration": 206,
    "start_time": "2022-01-16T14:51:38.748Z"
   },
   {
    "duration": 1125,
    "start_time": "2022-01-16T14:52:04.176Z"
   },
   {
    "duration": 19,
    "start_time": "2022-01-16T14:52:05.303Z"
   },
   {
    "duration": 65,
    "start_time": "2022-01-16T14:52:05.324Z"
   },
   {
    "duration": 5,
    "start_time": "2022-01-16T14:52:05.391Z"
   },
   {
    "duration": 14,
    "start_time": "2022-01-16T14:52:05.398Z"
   },
   {
    "duration": 4,
    "start_time": "2022-01-16T14:52:05.414Z"
   },
   {
    "duration": 18,
    "start_time": "2022-01-16T14:52:05.420Z"
   },
   {
    "duration": 274,
    "start_time": "2022-01-16T14:52:05.440Z"
   },
   {
    "duration": 1121,
    "start_time": "2022-01-16T15:01:17.860Z"
   },
   {
    "duration": 20,
    "start_time": "2022-01-16T15:01:18.983Z"
   },
   {
    "duration": 45,
    "start_time": "2022-01-16T15:01:19.005Z"
   },
   {
    "duration": 6,
    "start_time": "2022-01-16T15:01:19.061Z"
   },
   {
    "duration": 14,
    "start_time": "2022-01-16T15:01:19.070Z"
   },
   {
    "duration": 8,
    "start_time": "2022-01-16T15:01:19.086Z"
   },
   {
    "duration": 18,
    "start_time": "2022-01-16T15:01:19.095Z"
   },
   {
    "duration": 277,
    "start_time": "2022-01-16T15:01:19.116Z"
   },
   {
    "duration": 32,
    "start_time": "2022-01-16T15:01:19.395Z"
   },
   {
    "duration": 32,
    "start_time": "2022-01-16T15:02:14.184Z"
   },
   {
    "duration": 29,
    "start_time": "2022-01-16T15:03:39.986Z"
   },
   {
    "duration": 28,
    "start_time": "2022-01-16T15:06:43.138Z"
   },
   {
    "duration": 1068,
    "start_time": "2022-01-16T15:16:42.116Z"
   },
   {
    "duration": 19,
    "start_time": "2022-01-16T15:16:43.186Z"
   },
   {
    "duration": 40,
    "start_time": "2022-01-16T15:16:43.207Z"
   },
   {
    "duration": 6,
    "start_time": "2022-01-16T15:16:43.262Z"
   },
   {
    "duration": 14,
    "start_time": "2022-01-16T15:16:43.269Z"
   },
   {
    "duration": 7,
    "start_time": "2022-01-16T15:16:43.284Z"
   },
   {
    "duration": 15,
    "start_time": "2022-01-16T15:16:43.293Z"
   },
   {
    "duration": 278,
    "start_time": "2022-01-16T15:16:43.310Z"
   },
   {
    "duration": 27,
    "start_time": "2022-01-16T15:16:43.589Z"
   },
   {
    "duration": 15,
    "start_time": "2022-01-16T15:16:43.617Z"
   },
   {
    "duration": 1072,
    "start_time": "2022-01-16T15:20:13.834Z"
   },
   {
    "duration": 19,
    "start_time": "2022-01-16T15:20:14.908Z"
   },
   {
    "duration": 52,
    "start_time": "2022-01-16T15:20:14.930Z"
   },
   {
    "duration": 4,
    "start_time": "2022-01-16T15:20:14.984Z"
   },
   {
    "duration": 12,
    "start_time": "2022-01-16T15:20:14.990Z"
   },
   {
    "duration": 16,
    "start_time": "2022-01-16T15:20:15.004Z"
   },
   {
    "duration": 19,
    "start_time": "2022-01-16T15:20:15.022Z"
   },
   {
    "duration": 270,
    "start_time": "2022-01-16T15:20:15.043Z"
   },
   {
    "duration": 46,
    "start_time": "2022-01-16T15:20:15.315Z"
   },
   {
    "duration": 19,
    "start_time": "2022-01-16T15:20:15.364Z"
   },
   {
    "duration": 310,
    "start_time": "2022-01-16T15:21:24.129Z"
   },
   {
    "duration": 1077,
    "start_time": "2022-01-16T15:22:09.891Z"
   },
   {
    "duration": 19,
    "start_time": "2022-01-16T15:22:10.974Z"
   },
   {
    "duration": 61,
    "start_time": "2022-01-16T15:22:10.996Z"
   },
   {
    "duration": 6,
    "start_time": "2022-01-16T15:22:11.060Z"
   },
   {
    "duration": 29,
    "start_time": "2022-01-16T15:22:11.068Z"
   },
   {
    "duration": 26,
    "start_time": "2022-01-16T15:22:11.098Z"
   },
   {
    "duration": 42,
    "start_time": "2022-01-16T15:22:11.126Z"
   },
   {
    "duration": 277,
    "start_time": "2022-01-16T15:22:11.172Z"
   },
   {
    "duration": 42,
    "start_time": "2022-01-16T15:22:11.451Z"
   },
   {
    "duration": 22,
    "start_time": "2022-01-16T15:22:11.494Z"
   },
   {
    "duration": 1162,
    "start_time": "2022-01-16T16:04:38.045Z"
   },
   {
    "duration": 19,
    "start_time": "2022-01-16T16:04:39.209Z"
   },
   {
    "duration": 48,
    "start_time": "2022-01-16T16:04:39.231Z"
   },
   {
    "duration": 4,
    "start_time": "2022-01-16T16:04:39.281Z"
   },
   {
    "duration": 8,
    "start_time": "2022-01-16T16:04:39.287Z"
   },
   {
    "duration": 4,
    "start_time": "2022-01-16T16:04:39.297Z"
   },
   {
    "duration": 16,
    "start_time": "2022-01-16T16:04:39.302Z"
   },
   {
    "duration": 5560,
    "start_time": "2022-01-16T16:04:39.321Z"
   },
   {
    "duration": 29,
    "start_time": "2022-01-16T16:04:44.883Z"
   },
   {
    "duration": 15,
    "start_time": "2022-01-16T16:04:44.914Z"
   },
   {
    "duration": 1036,
    "start_time": "2022-01-16T16:07:29.677Z"
   },
   {
    "duration": 21,
    "start_time": "2022-01-16T16:07:30.715Z"
   },
   {
    "duration": 49,
    "start_time": "2022-01-16T16:07:30.738Z"
   },
   {
    "duration": 4,
    "start_time": "2022-01-16T16:07:30.790Z"
   },
   {
    "duration": 14,
    "start_time": "2022-01-16T16:07:30.797Z"
   },
   {
    "duration": 15,
    "start_time": "2022-01-16T16:07:30.813Z"
   },
   {
    "duration": 40,
    "start_time": "2022-01-16T16:07:30.830Z"
   },
   {
    "duration": 5618,
    "start_time": "2022-01-16T16:07:30.873Z"
   },
   {
    "duration": 30,
    "start_time": "2022-01-16T16:07:36.492Z"
   },
   {
    "duration": 46,
    "start_time": "2022-01-16T16:07:36.523Z"
   },
   {
    "duration": 1091,
    "start_time": "2022-01-16T16:34:21.318Z"
   },
   {
    "duration": 18,
    "start_time": "2022-01-16T16:34:22.411Z"
   },
   {
    "duration": 42,
    "start_time": "2022-01-16T16:34:22.431Z"
   },
   {
    "duration": 3,
    "start_time": "2022-01-16T16:34:22.475Z"
   },
   {
    "duration": 11,
    "start_time": "2022-01-16T16:34:22.480Z"
   },
   {
    "duration": 14,
    "start_time": "2022-01-16T16:34:22.492Z"
   },
   {
    "duration": 23,
    "start_time": "2022-01-16T16:34:22.508Z"
   },
   {
    "duration": 7075,
    "start_time": "2022-01-16T16:34:22.533Z"
   },
   {
    "duration": 53,
    "start_time": "2022-01-16T16:34:29.609Z"
   },
   {
    "duration": 17,
    "start_time": "2022-01-16T16:34:29.663Z"
   },
   {
    "duration": 4,
    "start_time": "2022-01-16T16:36:14.632Z"
   },
   {
    "duration": 1065,
    "start_time": "2022-01-16T16:38:00.257Z"
   },
   {
    "duration": 19,
    "start_time": "2022-01-16T16:38:01.325Z"
   },
   {
    "duration": 59,
    "start_time": "2022-01-16T16:38:01.347Z"
   },
   {
    "duration": 20,
    "start_time": "2022-01-16T16:38:01.408Z"
   },
   {
    "duration": 56,
    "start_time": "2022-01-16T16:38:01.430Z"
   },
   {
    "duration": 31,
    "start_time": "2022-01-16T16:38:01.488Z"
   },
   {
    "duration": 39,
    "start_time": "2022-01-16T16:38:01.521Z"
   },
   {
    "duration": 7574,
    "start_time": "2022-01-16T16:38:01.562Z"
   },
   {
    "duration": 49,
    "start_time": "2022-01-16T16:38:09.138Z"
   },
   {
    "duration": 47,
    "start_time": "2022-01-16T16:38:09.189Z"
   },
   {
    "duration": 1107,
    "start_time": "2022-01-16T16:41:57.502Z"
   },
   {
    "duration": 18,
    "start_time": "2022-01-16T16:41:58.612Z"
   },
   {
    "duration": 53,
    "start_time": "2022-01-16T16:41:58.632Z"
   },
   {
    "duration": 3,
    "start_time": "2022-01-16T16:41:58.687Z"
   },
   {
    "duration": 23,
    "start_time": "2022-01-16T16:41:58.692Z"
   },
   {
    "duration": 15,
    "start_time": "2022-01-16T16:41:58.716Z"
   },
   {
    "duration": 29,
    "start_time": "2022-01-16T16:41:58.733Z"
   },
   {
    "duration": 69254,
    "start_time": "2022-01-16T16:41:58.764Z"
   },
   {
    "duration": 56,
    "start_time": "2022-01-16T16:43:08.020Z"
   },
   {
    "duration": 17,
    "start_time": "2022-01-16T16:43:08.078Z"
   },
   {
    "duration": 350,
    "start_time": "2022-01-16T16:56:42.661Z"
   },
   {
    "duration": 1010,
    "start_time": "2022-01-16T16:56:52.699Z"
   },
   {
    "duration": 19,
    "start_time": "2022-01-16T16:56:53.711Z"
   },
   {
    "duration": 49,
    "start_time": "2022-01-16T16:56:53.732Z"
   },
   {
    "duration": 4,
    "start_time": "2022-01-16T16:56:53.783Z"
   },
   {
    "duration": 7,
    "start_time": "2022-01-16T16:56:53.789Z"
   },
   {
    "duration": 8,
    "start_time": "2022-01-16T16:56:53.798Z"
   },
   {
    "duration": 16,
    "start_time": "2022-01-16T16:56:53.808Z"
   },
   {
    "duration": 7237,
    "start_time": "2022-01-16T16:56:53.826Z"
   },
   {
    "duration": 31,
    "start_time": "2022-01-16T16:57:01.065Z"
   },
   {
    "duration": 16,
    "start_time": "2022-01-16T16:57:01.098Z"
   },
   {
    "duration": 340,
    "start_time": "2022-01-16T16:57:01.116Z"
   },
   {
    "duration": 1196,
    "start_time": "2022-01-16T17:01:14.725Z"
   },
   {
    "duration": 20,
    "start_time": "2022-01-16T17:01:15.923Z"
   },
   {
    "duration": 43,
    "start_time": "2022-01-16T17:01:15.945Z"
   },
   {
    "duration": 4,
    "start_time": "2022-01-16T17:01:15.990Z"
   },
   {
    "duration": 9,
    "start_time": "2022-01-16T17:01:15.995Z"
   },
   {
    "duration": 5,
    "start_time": "2022-01-16T17:01:16.006Z"
   },
   {
    "duration": 16,
    "start_time": "2022-01-16T17:01:16.012Z"
   },
   {
    "duration": 7431,
    "start_time": "2022-01-16T17:01:16.030Z"
   },
   {
    "duration": 29,
    "start_time": "2022-01-16T17:01:23.463Z"
   },
   {
    "duration": 17,
    "start_time": "2022-01-16T17:01:23.494Z"
   },
   {
    "duration": 10,
    "start_time": "2022-01-16T17:01:23.513Z"
   },
   {
    "duration": 5,
    "start_time": "2022-01-16T17:09:29.610Z"
   },
   {
    "duration": 7,
    "start_time": "2022-01-16T17:09:37.126Z"
   },
   {
    "duration": 1061,
    "start_time": "2022-01-16T17:15:33.055Z"
   },
   {
    "duration": 19,
    "start_time": "2022-01-16T17:15:34.118Z"
   },
   {
    "duration": 43,
    "start_time": "2022-01-16T17:15:34.140Z"
   },
   {
    "duration": 5,
    "start_time": "2022-01-16T17:15:34.185Z"
   },
   {
    "duration": 10,
    "start_time": "2022-01-16T17:15:34.191Z"
   },
   {
    "duration": 4,
    "start_time": "2022-01-16T17:15:34.203Z"
   },
   {
    "duration": 16,
    "start_time": "2022-01-16T17:15:34.209Z"
   },
   {
    "duration": 7437,
    "start_time": "2022-01-16T17:15:34.228Z"
   },
   {
    "duration": 30,
    "start_time": "2022-01-16T17:15:41.667Z"
   },
   {
    "duration": 16,
    "start_time": "2022-01-16T17:15:41.699Z"
   },
   {
    "duration": 5,
    "start_time": "2022-01-16T17:15:41.716Z"
   },
   {
    "duration": 342,
    "start_time": "2022-01-16T17:15:41.723Z"
   },
   {
    "duration": -668,
    "start_time": "2022-01-16T17:15:42.735Z"
   },
   {
    "duration": -676,
    "start_time": "2022-01-16T17:15:42.744Z"
   },
   {
    "duration": 13,
    "start_time": "2022-01-16T17:16:19.311Z"
   },
   {
    "duration": 7,
    "start_time": "2022-01-16T17:16:21.186Z"
   },
   {
    "duration": 9,
    "start_time": "2022-01-16T17:16:22.887Z"
   },
   {
    "duration": 6,
    "start_time": "2022-01-16T17:16:33.022Z"
   },
   {
    "duration": 117,
    "start_time": "2022-01-16T17:26:45.026Z"
   },
   {
    "duration": 119,
    "start_time": "2022-01-16T17:27:04.116Z"
   },
   {
    "duration": 134,
    "start_time": "2022-01-16T17:27:39.123Z"
   },
   {
    "duration": 1039,
    "start_time": "2022-01-16T17:28:34.067Z"
   },
   {
    "duration": 19,
    "start_time": "2022-01-16T17:28:35.108Z"
   },
   {
    "duration": 45,
    "start_time": "2022-01-16T17:28:35.130Z"
   },
   {
    "duration": 3,
    "start_time": "2022-01-16T17:28:35.177Z"
   },
   {
    "duration": 9,
    "start_time": "2022-01-16T17:28:35.182Z"
   },
   {
    "duration": 4,
    "start_time": "2022-01-16T17:28:35.192Z"
   },
   {
    "duration": 14,
    "start_time": "2022-01-16T17:28:35.197Z"
   },
   {
    "duration": 7252,
    "start_time": "2022-01-16T17:28:35.213Z"
   },
   {
    "duration": 28,
    "start_time": "2022-01-16T17:28:42.468Z"
   },
   {
    "duration": 44,
    "start_time": "2022-01-16T17:28:42.498Z"
   },
   {
    "duration": 11,
    "start_time": "2022-01-16T17:28:42.544Z"
   },
   {
    "duration": 13,
    "start_time": "2022-01-16T17:28:42.557Z"
   },
   {
    "duration": 10,
    "start_time": "2022-01-16T17:28:42.571Z"
   },
   {
    "duration": 16,
    "start_time": "2022-01-16T17:28:42.583Z"
   },
   {
    "duration": 140,
    "start_time": "2022-01-16T17:28:42.601Z"
   },
   {
    "duration": 1173,
    "start_time": "2022-01-16T17:47:41.971Z"
   },
   {
    "duration": 21,
    "start_time": "2022-01-16T17:47:43.146Z"
   },
   {
    "duration": 55,
    "start_time": "2022-01-16T17:47:43.170Z"
   },
   {
    "duration": 4,
    "start_time": "2022-01-16T17:47:43.226Z"
   },
   {
    "duration": 13,
    "start_time": "2022-01-16T17:47:43.232Z"
   },
   {
    "duration": 18,
    "start_time": "2022-01-16T17:47:43.247Z"
   },
   {
    "duration": 26,
    "start_time": "2022-01-16T17:47:43.267Z"
   },
   {
    "duration": 8121,
    "start_time": "2022-01-16T17:47:43.295Z"
   },
   {
    "duration": 17,
    "start_time": "2022-01-16T17:47:51.418Z"
   },
   {
    "duration": 53,
    "start_time": "2022-01-16T17:47:51.437Z"
   },
   {
    "duration": 20,
    "start_time": "2022-01-16T17:47:51.492Z"
   },
   {
    "duration": 6,
    "start_time": "2022-01-16T17:47:51.514Z"
   },
   {
    "duration": 54,
    "start_time": "2022-01-16T17:47:51.522Z"
   },
   {
    "duration": 7,
    "start_time": "2022-01-16T17:47:51.578Z"
   },
   {
    "duration": 7,
    "start_time": "2022-01-16T17:47:51.587Z"
   },
   {
    "duration": 194,
    "start_time": "2022-01-16T17:47:51.596Z"
   },
   {
    "duration": 12,
    "start_time": "2022-01-16T17:48:44.172Z"
   },
   {
    "duration": 14,
    "start_time": "2022-01-16T17:48:50.382Z"
   },
   {
    "duration": 20,
    "start_time": "2022-01-16T17:49:42.073Z"
   },
   {
    "duration": 342,
    "start_time": "2022-01-16T17:50:00.011Z"
   },
   {
    "duration": 397,
    "start_time": "2022-01-16T17:50:18.308Z"
   },
   {
    "duration": 18,
    "start_time": "2022-01-16T17:50:31.109Z"
   },
   {
    "duration": 17,
    "start_time": "2022-01-16T17:50:42.341Z"
   },
   {
    "duration": 1086,
    "start_time": "2022-01-18T18:37:12.274Z"
   },
   {
    "duration": 18,
    "start_time": "2022-01-18T18:37:13.362Z"
   },
   {
    "duration": 58,
    "start_time": "2022-01-18T18:37:13.382Z"
   },
   {
    "duration": 3,
    "start_time": "2022-01-18T18:37:13.442Z"
   },
   {
    "duration": 8,
    "start_time": "2022-01-18T18:37:13.447Z"
   },
   {
    "duration": 5,
    "start_time": "2022-01-18T18:37:13.456Z"
   },
   {
    "duration": 34,
    "start_time": "2022-01-18T18:37:13.462Z"
   },
   {
    "duration": 7626,
    "start_time": "2022-01-18T18:37:13.500Z"
   },
   {
    "duration": 27,
    "start_time": "2022-01-18T18:37:21.128Z"
   },
   {
    "duration": 49,
    "start_time": "2022-01-18T18:37:21.157Z"
   },
   {
    "duration": 6,
    "start_time": "2022-01-18T18:37:21.208Z"
   },
   {
    "duration": 22,
    "start_time": "2022-01-18T18:37:21.215Z"
   },
   {
    "duration": 6,
    "start_time": "2022-01-18T18:37:21.239Z"
   },
   {
    "duration": 13,
    "start_time": "2022-01-18T18:37:21.246Z"
   },
   {
    "duration": 168,
    "start_time": "2022-01-18T18:37:21.261Z"
   },
   {
    "duration": 17,
    "start_time": "2022-01-18T18:37:21.431Z"
   },
   {
    "duration": 17,
    "start_time": "2022-01-18T18:37:21.450Z"
   },
   {
    "duration": 6,
    "start_time": "2022-01-18T18:37:44.217Z"
   },
   {
    "duration": 13,
    "start_time": "2022-01-18T18:37:57.495Z"
   },
   {
    "duration": 6,
    "start_time": "2022-01-18T18:38:46.535Z"
   },
   {
    "duration": 7,
    "start_time": "2022-01-18T18:39:53.367Z"
   },
   {
    "duration": 10,
    "start_time": "2022-01-18T18:40:04.688Z"
   },
   {
    "duration": 6,
    "start_time": "2022-01-18T18:43:30.151Z"
   },
   {
    "duration": 6,
    "start_time": "2022-01-18T19:02:41.668Z"
   },
   {
    "duration": 1081,
    "start_time": "2022-01-20T17:47:03.810Z"
   },
   {
    "duration": 20,
    "start_time": "2022-01-20T17:47:04.893Z"
   },
   {
    "duration": 54,
    "start_time": "2022-01-20T17:47:04.915Z"
   },
   {
    "duration": 11,
    "start_time": "2022-01-20T17:47:04.970Z"
   },
   {
    "duration": 19,
    "start_time": "2022-01-20T17:47:04.982Z"
   },
   {
    "duration": 19,
    "start_time": "2022-01-20T17:47:05.003Z"
   },
   {
    "duration": 22,
    "start_time": "2022-01-20T17:47:05.024Z"
   },
   {
    "duration": 316,
    "start_time": "2022-01-20T17:47:05.048Z"
   },
   {
    "duration": 10,
    "start_time": "2022-01-20T17:47:15.625Z"
   },
   {
    "duration": 1155,
    "start_time": "2022-01-20T17:57:57.817Z"
   },
   {
    "duration": 19,
    "start_time": "2022-01-20T17:57:58.974Z"
   },
   {
    "duration": 47,
    "start_time": "2022-01-20T17:57:58.995Z"
   },
   {
    "duration": 4,
    "start_time": "2022-01-20T17:57:59.044Z"
   },
   {
    "duration": 13,
    "start_time": "2022-01-20T17:57:59.049Z"
   },
   {
    "duration": 7,
    "start_time": "2022-01-20T17:57:59.064Z"
   },
   {
    "duration": 17,
    "start_time": "2022-01-20T17:57:59.073Z"
   },
   {
    "duration": 9,
    "start_time": "2022-01-20T17:57:59.092Z"
   },
   {
    "duration": 7670,
    "start_time": "2022-01-20T17:57:59.104Z"
   },
   {
    "duration": 29,
    "start_time": "2022-01-20T17:58:06.776Z"
   },
   {
    "duration": 46,
    "start_time": "2022-01-20T17:58:06.806Z"
   },
   {
    "duration": 6,
    "start_time": "2022-01-20T17:58:06.853Z"
   },
   {
    "duration": 24,
    "start_time": "2022-01-20T17:58:06.860Z"
   },
   {
    "duration": 5,
    "start_time": "2022-01-20T17:58:06.886Z"
   },
   {
    "duration": 7,
    "start_time": "2022-01-20T17:58:06.893Z"
   },
   {
    "duration": 160,
    "start_time": "2022-01-20T17:58:06.902Z"
   },
   {
    "duration": 18,
    "start_time": "2022-01-20T17:58:07.064Z"
   },
   {
    "duration": 12,
    "start_time": "2022-01-20T17:58:07.084Z"
   }
  ],
  "kernelspec": {
   "display_name": "Python 3",
   "language": "python",
   "name": "python3"
  },
  "language_info": {
   "codemirror_mode": {
    "name": "ipython",
    "version": 3
   },
   "file_extension": ".py",
   "mimetype": "text/x-python",
   "name": "python",
   "nbconvert_exporter": "python",
   "pygments_lexer": "ipython3",
   "version": "3.8.8"
  },
  "toc": {
   "base_numbering": 1,
   "nav_menu": {},
   "number_sections": true,
   "sideBar": true,
   "skip_h1_title": true,
   "title_cell": "Table of Contents",
   "title_sidebar": "Contents",
   "toc_cell": false,
   "toc_position": {},
   "toc_section_display": true,
   "toc_window_display": false
  }
 },
 "nbformat": 4,
 "nbformat_minor": 2
}
