{
 "cells": [
  {
   "cell_type": "markdown",
   "metadata": {},
   "source": [
    "# Восстановление золота из руды"
   ]
  },
  {
   "cell_type": "markdown",
   "metadata": {},
   "source": [
    "Подготовьте прототип модели машинного обучения для «Цифры». Компания разрабатывает решения для эффективной работы промышленных предприятий.\n",
    "\n",
    "Модель должна предсказать коэффициент восстановления золота из золотосодержащей руды. Используйте данные с параметрами добычи и очистки. \n",
    "\n",
    "Модель поможет оптимизировать производство, чтобы не запускать предприятие с убыточными характеристиками.\n",
    "\n",
    "Вам нужно:\n",
    "\n",
    "1. Подготовить данные;\n",
    "2. Провести исследовательский анализ данных;\n",
    "3. Построить и обучить модель.\n",
    "\n"
   ]
  },
  {
   "cell_type": "markdown",
   "metadata": {},
   "source": [
    "## Подготовка данных"
   ]
  },
  {
   "cell_type": "code",
   "execution_count": 1,
   "metadata": {},
   "outputs": [],
   "source": [
    "import pandas as pd\n",
    "import seaborn as sns\n",
    "import matplotlib.pyplot as plt\n",
    "\n",
    "from sklearn.metrics import mean_absolute_error\n",
    "from sklearn.model_selection import cross_val_score\n",
    "\n",
    "from sklearn.ensemble import RandomForestRegressor\n",
    "from sklearn.tree import DecisionTreeRegressor\n",
    "from sklearn.linear_model import LinearRegression\n",
    "from sklearn.metrics import make_scorer"
   ]
  },
  {
   "cell_type": "code",
   "execution_count": 2,
   "metadata": {},
   "outputs": [],
   "source": [
    "train = pd.read_csv('/datasets/gold_recovery_train_new.csv',index_col = 'date')\n",
    "test = pd.read_csv('/datasets/gold_recovery_test_new.csv',index_col = 'date')\n",
    "full = pd.read_csv('/datasets/gold_recovery_full_new.csv',index_col = 'date')"
   ]
  },
  {
   "cell_type": "code",
   "execution_count": 3,
   "metadata": {
    "scrolled": false
   },
   "outputs": [
    {
     "data": {
      "text/plain": [
       "'-------------------------------------------------------------------------------------------'"
      ]
     },
     "metadata": {},
     "output_type": "display_data"
    },
    {
     "name": "stdout",
     "output_type": "stream",
     "text": [
      "<class 'pandas.core.frame.DataFrame'>\n",
      "Index: 14149 entries, 2016-01-15 00:00:00 to 2018-08-18 10:59:59\n",
      "Data columns (total 86 columns):\n",
      "final.output.concentrate_ag                           14148 non-null float64\n",
      "final.output.concentrate_pb                           14148 non-null float64\n",
      "final.output.concentrate_sol                          13938 non-null float64\n",
      "final.output.concentrate_au                           14149 non-null float64\n",
      "final.output.recovery                                 14149 non-null float64\n",
      "final.output.tail_ag                                  14149 non-null float64\n",
      "final.output.tail_pb                                  14049 non-null float64\n",
      "final.output.tail_sol                                 14144 non-null float64\n",
      "final.output.tail_au                                  14149 non-null float64\n",
      "primary_cleaner.input.sulfate                         14129 non-null float64\n",
      "primary_cleaner.input.depressant                      14117 non-null float64\n",
      "primary_cleaner.input.feed_size                       14149 non-null float64\n",
      "primary_cleaner.input.xanthate                        14049 non-null float64\n",
      "primary_cleaner.output.concentrate_ag                 14149 non-null float64\n",
      "primary_cleaner.output.concentrate_pb                 14063 non-null float64\n",
      "primary_cleaner.output.concentrate_sol                13863 non-null float64\n",
      "primary_cleaner.output.concentrate_au                 14149 non-null float64\n",
      "primary_cleaner.output.tail_ag                        14148 non-null float64\n",
      "primary_cleaner.output.tail_pb                        14134 non-null float64\n",
      "primary_cleaner.output.tail_sol                       14103 non-null float64\n",
      "primary_cleaner.output.tail_au                        14149 non-null float64\n",
      "primary_cleaner.state.floatbank8_a_air                14145 non-null float64\n",
      "primary_cleaner.state.floatbank8_a_level              14148 non-null float64\n",
      "primary_cleaner.state.floatbank8_b_air                14145 non-null float64\n",
      "primary_cleaner.state.floatbank8_b_level              14148 non-null float64\n",
      "primary_cleaner.state.floatbank8_c_air                14147 non-null float64\n",
      "primary_cleaner.state.floatbank8_c_level              14148 non-null float64\n",
      "primary_cleaner.state.floatbank8_d_air                14146 non-null float64\n",
      "primary_cleaner.state.floatbank8_d_level              14148 non-null float64\n",
      "rougher.calculation.sulfate_to_au_concentrate         14148 non-null float64\n",
      "rougher.calculation.floatbank10_sulfate_to_au_feed    14148 non-null float64\n",
      "rougher.calculation.floatbank11_sulfate_to_au_feed    14148 non-null float64\n",
      "rougher.calculation.au_pb_ratio                       14149 non-null float64\n",
      "rougher.input.feed_ag                                 14149 non-null float64\n",
      "rougher.input.feed_pb                                 14049 non-null float64\n",
      "rougher.input.feed_rate                               14141 non-null float64\n",
      "rougher.input.feed_size                               14005 non-null float64\n",
      "rougher.input.feed_sol                                14071 non-null float64\n",
      "rougher.input.feed_au                                 14149 non-null float64\n",
      "rougher.input.floatbank10_sulfate                     14120 non-null float64\n",
      "rougher.input.floatbank10_xanthate                    14141 non-null float64\n",
      "rougher.input.floatbank11_sulfate                     14113 non-null float64\n",
      "rougher.input.floatbank11_xanthate                    13721 non-null float64\n",
      "rougher.output.concentrate_ag                         14149 non-null float64\n",
      "rougher.output.concentrate_pb                         14149 non-null float64\n",
      "rougher.output.concentrate_sol                        14127 non-null float64\n",
      "rougher.output.concentrate_au                         14149 non-null float64\n",
      "rougher.output.recovery                               14149 non-null float64\n",
      "rougher.output.tail_ag                                14148 non-null float64\n",
      "rougher.output.tail_pb                                14149 non-null float64\n",
      "rougher.output.tail_sol                               14149 non-null float64\n",
      "rougher.output.tail_au                                14149 non-null float64\n",
      "rougher.state.floatbank10_a_air                       14148 non-null float64\n",
      "rougher.state.floatbank10_a_level                     14148 non-null float64\n",
      "rougher.state.floatbank10_b_air                       14148 non-null float64\n",
      "rougher.state.floatbank10_b_level                     14148 non-null float64\n",
      "rougher.state.floatbank10_c_air                       14148 non-null float64\n",
      "rougher.state.floatbank10_c_level                     14148 non-null float64\n",
      "rougher.state.floatbank10_d_air                       14149 non-null float64\n",
      "rougher.state.floatbank10_d_level                     14149 non-null float64\n",
      "rougher.state.floatbank10_e_air                       13713 non-null float64\n",
      "rougher.state.floatbank10_e_level                     14149 non-null float64\n",
      "rougher.state.floatbank10_f_air                       14149 non-null float64\n",
      "rougher.state.floatbank10_f_level                     14149 non-null float64\n",
      "secondary_cleaner.output.tail_ag                      14147 non-null float64\n",
      "secondary_cleaner.output.tail_pb                      14139 non-null float64\n",
      "secondary_cleaner.output.tail_sol                     12544 non-null float64\n",
      "secondary_cleaner.output.tail_au                      14149 non-null float64\n",
      "secondary_cleaner.state.floatbank2_a_air              13932 non-null float64\n",
      "secondary_cleaner.state.floatbank2_a_level            14148 non-null float64\n",
      "secondary_cleaner.state.floatbank2_b_air              14128 non-null float64\n",
      "secondary_cleaner.state.floatbank2_b_level            14148 non-null float64\n",
      "secondary_cleaner.state.floatbank3_a_air              14145 non-null float64\n",
      "secondary_cleaner.state.floatbank3_a_level            14148 non-null float64\n",
      "secondary_cleaner.state.floatbank3_b_air              14148 non-null float64\n",
      "secondary_cleaner.state.floatbank3_b_level            14148 non-null float64\n",
      "secondary_cleaner.state.floatbank4_a_air              14143 non-null float64\n",
      "secondary_cleaner.state.floatbank4_a_level            14148 non-null float64\n",
      "secondary_cleaner.state.floatbank4_b_air              14148 non-null float64\n",
      "secondary_cleaner.state.floatbank4_b_level            14148 non-null float64\n",
      "secondary_cleaner.state.floatbank5_a_air              14148 non-null float64\n",
      "secondary_cleaner.state.floatbank5_a_level            14148 non-null float64\n",
      "secondary_cleaner.state.floatbank5_b_air              14148 non-null float64\n",
      "secondary_cleaner.state.floatbank5_b_level            14148 non-null float64\n",
      "secondary_cleaner.state.floatbank6_a_air              14147 non-null float64\n",
      "secondary_cleaner.state.floatbank6_a_level            14148 non-null float64\n",
      "dtypes: float64(86)\n",
      "memory usage: 9.4+ MB\n"
     ]
    },
    {
     "data": {
      "text/plain": [
       "None"
      ]
     },
     "metadata": {},
     "output_type": "display_data"
    },
    {
     "data": {
      "text/plain": [
       "'-------------------------------------------------------------------------------------------'"
      ]
     },
     "metadata": {},
     "output_type": "display_data"
    },
    {
     "name": "stdout",
     "output_type": "stream",
     "text": [
      "<class 'pandas.core.frame.DataFrame'>\n",
      "Index: 5290 entries, 2016-09-01 00:59:59 to 2017-12-31 23:59:59\n",
      "Data columns (total 52 columns):\n",
      "primary_cleaner.input.sulfate                 5286 non-null float64\n",
      "primary_cleaner.input.depressant              5285 non-null float64\n",
      "primary_cleaner.input.feed_size               5290 non-null float64\n",
      "primary_cleaner.input.xanthate                5286 non-null float64\n",
      "primary_cleaner.state.floatbank8_a_air        5290 non-null float64\n",
      "primary_cleaner.state.floatbank8_a_level      5290 non-null float64\n",
      "primary_cleaner.state.floatbank8_b_air        5290 non-null float64\n",
      "primary_cleaner.state.floatbank8_b_level      5290 non-null float64\n",
      "primary_cleaner.state.floatbank8_c_air        5290 non-null float64\n",
      "primary_cleaner.state.floatbank8_c_level      5290 non-null float64\n",
      "primary_cleaner.state.floatbank8_d_air        5290 non-null float64\n",
      "primary_cleaner.state.floatbank8_d_level      5290 non-null float64\n",
      "rougher.input.feed_ag                         5290 non-null float64\n",
      "rougher.input.feed_pb                         5290 non-null float64\n",
      "rougher.input.feed_rate                       5287 non-null float64\n",
      "rougher.input.feed_size                       5289 non-null float64\n",
      "rougher.input.feed_sol                        5269 non-null float64\n",
      "rougher.input.feed_au                         5290 non-null float64\n",
      "rougher.input.floatbank10_sulfate             5285 non-null float64\n",
      "rougher.input.floatbank10_xanthate            5290 non-null float64\n",
      "rougher.input.floatbank11_sulfate             5282 non-null float64\n",
      "rougher.input.floatbank11_xanthate            5265 non-null float64\n",
      "rougher.state.floatbank10_a_air               5290 non-null float64\n",
      "rougher.state.floatbank10_a_level             5290 non-null float64\n",
      "rougher.state.floatbank10_b_air               5290 non-null float64\n",
      "rougher.state.floatbank10_b_level             5290 non-null float64\n",
      "rougher.state.floatbank10_c_air               5290 non-null float64\n",
      "rougher.state.floatbank10_c_level             5290 non-null float64\n",
      "rougher.state.floatbank10_d_air               5290 non-null float64\n",
      "rougher.state.floatbank10_d_level             5290 non-null float64\n",
      "rougher.state.floatbank10_e_air               5290 non-null float64\n",
      "rougher.state.floatbank10_e_level             5290 non-null float64\n",
      "rougher.state.floatbank10_f_air               5290 non-null float64\n",
      "rougher.state.floatbank10_f_level             5290 non-null float64\n",
      "secondary_cleaner.state.floatbank2_a_air      5287 non-null float64\n",
      "secondary_cleaner.state.floatbank2_a_level    5290 non-null float64\n",
      "secondary_cleaner.state.floatbank2_b_air      5288 non-null float64\n",
      "secondary_cleaner.state.floatbank2_b_level    5290 non-null float64\n",
      "secondary_cleaner.state.floatbank3_a_air      5281 non-null float64\n",
      "secondary_cleaner.state.floatbank3_a_level    5290 non-null float64\n",
      "secondary_cleaner.state.floatbank3_b_air      5290 non-null float64\n",
      "secondary_cleaner.state.floatbank3_b_level    5290 non-null float64\n",
      "secondary_cleaner.state.floatbank4_a_air      5290 non-null float64\n",
      "secondary_cleaner.state.floatbank4_a_level    5290 non-null float64\n",
      "secondary_cleaner.state.floatbank4_b_air      5290 non-null float64\n",
      "secondary_cleaner.state.floatbank4_b_level    5290 non-null float64\n",
      "secondary_cleaner.state.floatbank5_a_air      5290 non-null float64\n",
      "secondary_cleaner.state.floatbank5_a_level    5290 non-null float64\n",
      "secondary_cleaner.state.floatbank5_b_air      5290 non-null float64\n",
      "secondary_cleaner.state.floatbank5_b_level    5290 non-null float64\n",
      "secondary_cleaner.state.floatbank6_a_air      5290 non-null float64\n",
      "secondary_cleaner.state.floatbank6_a_level    5290 non-null float64\n",
      "dtypes: float64(52)\n",
      "memory usage: 2.1+ MB\n"
     ]
    },
    {
     "data": {
      "text/plain": [
       "None"
      ]
     },
     "metadata": {},
     "output_type": "display_data"
    },
    {
     "data": {
      "text/plain": [
       "'-------------------------------------------------------------------------------------------'"
      ]
     },
     "metadata": {},
     "output_type": "display_data"
    },
    {
     "name": "stdout",
     "output_type": "stream",
     "text": [
      "<class 'pandas.core.frame.DataFrame'>\n",
      "Index: 19439 entries, 2016-01-15 00:00:00 to 2018-08-18 10:59:59\n",
      "Data columns (total 86 columns):\n",
      "final.output.concentrate_ag                           19438 non-null float64\n",
      "final.output.concentrate_pb                           19438 non-null float64\n",
      "final.output.concentrate_sol                          19228 non-null float64\n",
      "final.output.concentrate_au                           19439 non-null float64\n",
      "final.output.recovery                                 19439 non-null float64\n",
      "final.output.tail_ag                                  19438 non-null float64\n",
      "final.output.tail_pb                                  19338 non-null float64\n",
      "final.output.tail_sol                                 19433 non-null float64\n",
      "final.output.tail_au                                  19439 non-null float64\n",
      "primary_cleaner.input.sulfate                         19415 non-null float64\n",
      "primary_cleaner.input.depressant                      19402 non-null float64\n",
      "primary_cleaner.input.feed_size                       19439 non-null float64\n",
      "primary_cleaner.input.xanthate                        19335 non-null float64\n",
      "primary_cleaner.output.concentrate_ag                 19439 non-null float64\n",
      "primary_cleaner.output.concentrate_pb                 19323 non-null float64\n",
      "primary_cleaner.output.concentrate_sol                19069 non-null float64\n",
      "primary_cleaner.output.concentrate_au                 19439 non-null float64\n",
      "primary_cleaner.output.tail_ag                        19435 non-null float64\n",
      "primary_cleaner.output.tail_pb                        19418 non-null float64\n",
      "primary_cleaner.output.tail_sol                       19377 non-null float64\n",
      "primary_cleaner.output.tail_au                        19439 non-null float64\n",
      "primary_cleaner.state.floatbank8_a_air                19435 non-null float64\n",
      "primary_cleaner.state.floatbank8_a_level              19438 non-null float64\n",
      "primary_cleaner.state.floatbank8_b_air                19435 non-null float64\n",
      "primary_cleaner.state.floatbank8_b_level              19438 non-null float64\n",
      "primary_cleaner.state.floatbank8_c_air                19437 non-null float64\n",
      "primary_cleaner.state.floatbank8_c_level              19438 non-null float64\n",
      "primary_cleaner.state.floatbank8_d_air                19436 non-null float64\n",
      "primary_cleaner.state.floatbank8_d_level              19438 non-null float64\n",
      "rougher.calculation.sulfate_to_au_concentrate         19437 non-null float64\n",
      "rougher.calculation.floatbank10_sulfate_to_au_feed    19437 non-null float64\n",
      "rougher.calculation.floatbank11_sulfate_to_au_feed    19437 non-null float64\n",
      "rougher.calculation.au_pb_ratio                       19439 non-null float64\n",
      "rougher.input.feed_ag                                 19439 non-null float64\n",
      "rougher.input.feed_pb                                 19339 non-null float64\n",
      "rougher.input.feed_rate                               19428 non-null float64\n",
      "rougher.input.feed_size                               19294 non-null float64\n",
      "rougher.input.feed_sol                                19340 non-null float64\n",
      "rougher.input.feed_au                                 19439 non-null float64\n",
      "rougher.input.floatbank10_sulfate                     19405 non-null float64\n",
      "rougher.input.floatbank10_xanthate                    19431 non-null float64\n",
      "rougher.input.floatbank11_sulfate                     19395 non-null float64\n",
      "rougher.input.floatbank11_xanthate                    18986 non-null float64\n",
      "rougher.output.concentrate_ag                         19439 non-null float64\n",
      "rougher.output.concentrate_pb                         19439 non-null float64\n",
      "rougher.output.concentrate_sol                        19416 non-null float64\n",
      "rougher.output.concentrate_au                         19439 non-null float64\n",
      "rougher.output.recovery                               19439 non-null float64\n",
      "rougher.output.tail_ag                                19438 non-null float64\n",
      "rougher.output.tail_pb                                19439 non-null float64\n",
      "rougher.output.tail_sol                               19439 non-null float64\n",
      "rougher.output.tail_au                                19439 non-null float64\n",
      "rougher.state.floatbank10_a_air                       19438 non-null float64\n",
      "rougher.state.floatbank10_a_level                     19438 non-null float64\n",
      "rougher.state.floatbank10_b_air                       19438 non-null float64\n",
      "rougher.state.floatbank10_b_level                     19438 non-null float64\n",
      "rougher.state.floatbank10_c_air                       19438 non-null float64\n",
      "rougher.state.floatbank10_c_level                     19438 non-null float64\n",
      "rougher.state.floatbank10_d_air                       19439 non-null float64\n",
      "rougher.state.floatbank10_d_level                     19439 non-null float64\n",
      "rougher.state.floatbank10_e_air                       19003 non-null float64\n",
      "rougher.state.floatbank10_e_level                     19439 non-null float64\n",
      "rougher.state.floatbank10_f_air                       19439 non-null float64\n",
      "rougher.state.floatbank10_f_level                     19439 non-null float64\n",
      "secondary_cleaner.output.tail_ag                      19437 non-null float64\n",
      "secondary_cleaner.output.tail_pb                      19427 non-null float64\n",
      "secondary_cleaner.output.tail_sol                     17691 non-null float64\n",
      "secondary_cleaner.output.tail_au                      19439 non-null float64\n",
      "secondary_cleaner.state.floatbank2_a_air              19219 non-null float64\n",
      "secondary_cleaner.state.floatbank2_a_level            19438 non-null float64\n",
      "secondary_cleaner.state.floatbank2_b_air              19416 non-null float64\n",
      "secondary_cleaner.state.floatbank2_b_level            19438 non-null float64\n",
      "secondary_cleaner.state.floatbank3_a_air              19426 non-null float64\n",
      "secondary_cleaner.state.floatbank3_a_level            19438 non-null float64\n",
      "secondary_cleaner.state.floatbank3_b_air              19438 non-null float64\n",
      "secondary_cleaner.state.floatbank3_b_level            19438 non-null float64\n",
      "secondary_cleaner.state.floatbank4_a_air              19433 non-null float64\n",
      "secondary_cleaner.state.floatbank4_a_level            19438 non-null float64\n",
      "secondary_cleaner.state.floatbank4_b_air              19438 non-null float64\n",
      "secondary_cleaner.state.floatbank4_b_level            19438 non-null float64\n",
      "secondary_cleaner.state.floatbank5_a_air              19438 non-null float64\n",
      "secondary_cleaner.state.floatbank5_a_level            19438 non-null float64\n",
      "secondary_cleaner.state.floatbank5_b_air              19438 non-null float64\n",
      "secondary_cleaner.state.floatbank5_b_level            19438 non-null float64\n",
      "secondary_cleaner.state.floatbank6_a_air              19437 non-null float64\n",
      "secondary_cleaner.state.floatbank6_a_level            19438 non-null float64\n",
      "dtypes: float64(86)\n",
      "memory usage: 12.9+ MB\n"
     ]
    },
    {
     "data": {
      "text/plain": [
       "None"
      ]
     },
     "metadata": {},
     "output_type": "display_data"
    }
   ],
   "source": [
    "sd = [train, test, full]\n",
    "\n",
    "for i in sd:\n",
    "    display('-------------------------------------------------------------------------------------------')\n",
    "    display(i.info())\n"
   ]
  },
  {
   "cell_type": "markdown",
   "metadata": {},
   "source": [
    "**Проверьте, что эффективность обогащения рассчитана правильно. Вычислите её на обучающей выборке для признака rougher.output.recovery. Найдите MAE между вашими расчётами и значением признака. Опишите выводы.**"
   ]
  },
  {
   "cell_type": "markdown",
   "metadata": {},
   "source": [
    "* C — доля золота в концентрате после флотации/очистки;| 'rougher.output.concentrate_au'\n",
    "* F — доля золота в сырье/концентрате до флотации/очистки;| 'rougher.input.feed_au'\n",
    "* T — доля золота в отвальных хвостах после флотации/очистки.| 'rougher.output.tail_au'\n",
    "\n",
    "Recovery = C*(F-T)/F*(C-T)*100% \n"
   ]
  },
  {
   "cell_type": "code",
   "execution_count": 4,
   "metadata": {},
   "outputs": [],
   "source": [
    "train['recovery'] = (train['rougher.output.concentrate_au']*(train['rougher.input.feed_au']-train['rougher.output.tail_au']))/(train['rougher.input.feed_au']*(train['rougher.output.concentrate_au']-train['rougher.output.tail_au']))*100"
   ]
  },
  {
   "cell_type": "code",
   "execution_count": 5,
   "metadata": {},
   "outputs": [
    {
     "name": "stdout",
     "output_type": "stream",
     "text": [
      "9.682896147825551e-15\n"
     ]
    }
   ],
   "source": [
    "print(mean_absolute_error(train['rougher.output.recovery'],train['recovery']))"
   ]
  },
  {
   "cell_type": "code",
   "execution_count": 6,
   "metadata": {},
   "outputs": [
    {
     "data": {
      "text/html": [
       "<div>\n",
       "<style scoped>\n",
       "    .dataframe tbody tr th:only-of-type {\n",
       "        vertical-align: middle;\n",
       "    }\n",
       "\n",
       "    .dataframe tbody tr th {\n",
       "        vertical-align: top;\n",
       "    }\n",
       "\n",
       "    .dataframe thead th {\n",
       "        text-align: right;\n",
       "    }\n",
       "</style>\n",
       "<table border=\"1\" class=\"dataframe\">\n",
       "  <thead>\n",
       "    <tr style=\"text-align: right;\">\n",
       "      <th></th>\n",
       "      <th>rougher.output.recovery</th>\n",
       "      <th>recovery</th>\n",
       "    </tr>\n",
       "    <tr>\n",
       "      <th>date</th>\n",
       "      <th></th>\n",
       "      <th></th>\n",
       "    </tr>\n",
       "  </thead>\n",
       "  <tbody>\n",
       "    <tr>\n",
       "      <td>2016-01-15 00:00:00</td>\n",
       "      <td>87.107763</td>\n",
       "      <td>87.107763</td>\n",
       "    </tr>\n",
       "    <tr>\n",
       "      <td>2016-01-15 01:00:00</td>\n",
       "      <td>86.843261</td>\n",
       "      <td>86.843261</td>\n",
       "    </tr>\n",
       "    <tr>\n",
       "      <td>2016-01-15 02:00:00</td>\n",
       "      <td>86.842308</td>\n",
       "      <td>86.842308</td>\n",
       "    </tr>\n",
       "    <tr>\n",
       "      <td>2016-01-15 03:00:00</td>\n",
       "      <td>87.226430</td>\n",
       "      <td>87.226430</td>\n",
       "    </tr>\n",
       "    <tr>\n",
       "      <td>2016-01-15 04:00:00</td>\n",
       "      <td>86.688794</td>\n",
       "      <td>86.688794</td>\n",
       "    </tr>\n",
       "  </tbody>\n",
       "</table>\n",
       "</div>"
      ],
      "text/plain": [
       "                     rougher.output.recovery   recovery\n",
       "date                                                   \n",
       "2016-01-15 00:00:00                87.107763  87.107763\n",
       "2016-01-15 01:00:00                86.843261  86.843261\n",
       "2016-01-15 02:00:00                86.842308  86.842308\n",
       "2016-01-15 03:00:00                87.226430  87.226430\n",
       "2016-01-15 04:00:00                86.688794  86.688794"
      ]
     },
     "execution_count": 6,
     "metadata": {},
     "output_type": "execute_result"
    }
   ],
   "source": [
    "df_train_recovery = train[['rougher.output.recovery','recovery']]\n",
    "df_train_recovery.head()"
   ]
  },
  {
   "cell_type": "markdown",
   "metadata": {},
   "source": [
    "**Вывод:** эффективность обогащения рассчитана правильно, среднее абсолютное отклонение минимальное. Визуамльно данные идентичные"
   ]
  },
  {
   "cell_type": "markdown",
   "metadata": {},
   "source": [
    "**Проанализируйте признаки, недоступные в тестовой выборке. Что это за параметры? К какому типу относятся?**"
   ]
  },
  {
   "cell_type": "code",
   "execution_count": 7,
   "metadata": {},
   "outputs": [
    {
     "data": {
      "text/plain": [
       "['rougher.output.concentrate_au',\n",
       " 'primary_cleaner.output.tail_pb',\n",
       " 'final.output.tail_sol',\n",
       " 'primary_cleaner.output.tail_sol',\n",
       " 'rougher.calculation.floatbank11_sulfate_to_au_feed',\n",
       " 'final.output.concentrate_au',\n",
       " 'primary_cleaner.output.tail_au',\n",
       " 'rougher.calculation.au_pb_ratio',\n",
       " 'final.output.concentrate_ag',\n",
       " 'rougher.output.concentrate_pb',\n",
       " 'rougher.output.concentrate_sol',\n",
       " 'primary_cleaner.output.concentrate_ag',\n",
       " 'final.output.recovery',\n",
       " 'secondary_cleaner.output.tail_au',\n",
       " 'rougher.output.tail_sol',\n",
       " 'rougher.output.concentrate_ag',\n",
       " 'primary_cleaner.output.concentrate_pb',\n",
       " 'final.output.concentrate_pb',\n",
       " 'final.output.tail_pb',\n",
       " 'rougher.output.tail_pb',\n",
       " 'secondary_cleaner.output.tail_pb',\n",
       " 'rougher.calculation.floatbank10_sulfate_to_au_feed',\n",
       " 'rougher.output.recovery',\n",
       " 'rougher.output.tail_ag',\n",
       " 'recovery',\n",
       " 'rougher.output.tail_au',\n",
       " 'primary_cleaner.output.concentrate_au',\n",
       " 'final.output.tail_au',\n",
       " 'primary_cleaner.output.tail_ag',\n",
       " 'final.output.tail_ag',\n",
       " 'final.output.concentrate_sol',\n",
       " 'primary_cleaner.output.concentrate_sol',\n",
       " 'secondary_cleaner.output.tail_sol',\n",
       " 'rougher.calculation.sulfate_to_au_concentrate',\n",
       " 'secondary_cleaner.output.tail_ag']"
      ]
     },
     "execution_count": 7,
     "metadata": {},
     "output_type": "execute_result"
    }
   ],
   "source": [
    "pv = list(set(train.columns) - set(test.columns))\n",
    "pv"
   ]
  },
  {
   "cell_type": "markdown",
   "metadata": {},
   "source": [
    "Некоторые параметры недоступны, потому что замеряются и/или рассчитываются значительно позже. Из-за этого в тестовой выборке отсутствуют некоторые признаки, которые могут быть в обучающей. Также в тестовом наборе нет целевых признаков. Это объекты типа float.\n",
    "Нет целевых значений 'rougher.output.recovery','final.output.recovery'."
   ]
  },
  {
   "cell_type": "code",
   "execution_count": 8,
   "metadata": {
    "scrolled": true
   },
   "outputs": [
    {
     "name": "stdout",
     "output_type": "stream",
     "text": [
      "<class 'pandas.core.frame.DataFrame'>\n",
      "Index: 5290 entries, 2016-09-01 00:59:59 to 2017-12-31 23:59:59\n",
      "Data columns (total 54 columns):\n",
      "primary_cleaner.input.sulfate                 5286 non-null float64\n",
      "primary_cleaner.input.depressant              5285 non-null float64\n",
      "primary_cleaner.input.feed_size               5290 non-null float64\n",
      "primary_cleaner.input.xanthate                5286 non-null float64\n",
      "primary_cleaner.state.floatbank8_a_air        5290 non-null float64\n",
      "primary_cleaner.state.floatbank8_a_level      5290 non-null float64\n",
      "primary_cleaner.state.floatbank8_b_air        5290 non-null float64\n",
      "primary_cleaner.state.floatbank8_b_level      5290 non-null float64\n",
      "primary_cleaner.state.floatbank8_c_air        5290 non-null float64\n",
      "primary_cleaner.state.floatbank8_c_level      5290 non-null float64\n",
      "primary_cleaner.state.floatbank8_d_air        5290 non-null float64\n",
      "primary_cleaner.state.floatbank8_d_level      5290 non-null float64\n",
      "rougher.input.feed_ag                         5290 non-null float64\n",
      "rougher.input.feed_pb                         5290 non-null float64\n",
      "rougher.input.feed_rate                       5287 non-null float64\n",
      "rougher.input.feed_size                       5289 non-null float64\n",
      "rougher.input.feed_sol                        5269 non-null float64\n",
      "rougher.input.feed_au                         5290 non-null float64\n",
      "rougher.input.floatbank10_sulfate             5285 non-null float64\n",
      "rougher.input.floatbank10_xanthate            5290 non-null float64\n",
      "rougher.input.floatbank11_sulfate             5282 non-null float64\n",
      "rougher.input.floatbank11_xanthate            5265 non-null float64\n",
      "rougher.state.floatbank10_a_air               5290 non-null float64\n",
      "rougher.state.floatbank10_a_level             5290 non-null float64\n",
      "rougher.state.floatbank10_b_air               5290 non-null float64\n",
      "rougher.state.floatbank10_b_level             5290 non-null float64\n",
      "rougher.state.floatbank10_c_air               5290 non-null float64\n",
      "rougher.state.floatbank10_c_level             5290 non-null float64\n",
      "rougher.state.floatbank10_d_air               5290 non-null float64\n",
      "rougher.state.floatbank10_d_level             5290 non-null float64\n",
      "rougher.state.floatbank10_e_air               5290 non-null float64\n",
      "rougher.state.floatbank10_e_level             5290 non-null float64\n",
      "rougher.state.floatbank10_f_air               5290 non-null float64\n",
      "rougher.state.floatbank10_f_level             5290 non-null float64\n",
      "secondary_cleaner.state.floatbank2_a_air      5287 non-null float64\n",
      "secondary_cleaner.state.floatbank2_a_level    5290 non-null float64\n",
      "secondary_cleaner.state.floatbank2_b_air      5288 non-null float64\n",
      "secondary_cleaner.state.floatbank2_b_level    5290 non-null float64\n",
      "secondary_cleaner.state.floatbank3_a_air      5281 non-null float64\n",
      "secondary_cleaner.state.floatbank3_a_level    5290 non-null float64\n",
      "secondary_cleaner.state.floatbank3_b_air      5290 non-null float64\n",
      "secondary_cleaner.state.floatbank3_b_level    5290 non-null float64\n",
      "secondary_cleaner.state.floatbank4_a_air      5290 non-null float64\n",
      "secondary_cleaner.state.floatbank4_a_level    5290 non-null float64\n",
      "secondary_cleaner.state.floatbank4_b_air      5290 non-null float64\n",
      "secondary_cleaner.state.floatbank4_b_level    5290 non-null float64\n",
      "secondary_cleaner.state.floatbank5_a_air      5290 non-null float64\n",
      "secondary_cleaner.state.floatbank5_a_level    5290 non-null float64\n",
      "secondary_cleaner.state.floatbank5_b_air      5290 non-null float64\n",
      "secondary_cleaner.state.floatbank5_b_level    5290 non-null float64\n",
      "secondary_cleaner.state.floatbank6_a_air      5290 non-null float64\n",
      "secondary_cleaner.state.floatbank6_a_level    5290 non-null float64\n",
      "rougher.output.recovery                       5290 non-null float64\n",
      "final.output.recovery                         5290 non-null float64\n",
      "dtypes: float64(54)\n",
      "memory usage: 2.2+ MB\n"
     ]
    }
   ],
   "source": [
    "test_2 = test.merge(full[['rougher.output.recovery','final.output.recovery']],on = 'date',how = 'left')\n",
    "test_2.info()"
   ]
  },
  {
   "cell_type": "code",
   "execution_count": 9,
   "metadata": {},
   "outputs": [
    {
     "data": {
      "text/plain": [
       "primary_cleaner.input.sulfate                  4\n",
       "primary_cleaner.input.depressant               5\n",
       "primary_cleaner.input.feed_size                0\n",
       "primary_cleaner.input.xanthate                 4\n",
       "primary_cleaner.state.floatbank8_a_air         0\n",
       "primary_cleaner.state.floatbank8_a_level       0\n",
       "primary_cleaner.state.floatbank8_b_air         0\n",
       "primary_cleaner.state.floatbank8_b_level       0\n",
       "primary_cleaner.state.floatbank8_c_air         0\n",
       "primary_cleaner.state.floatbank8_c_level       0\n",
       "primary_cleaner.state.floatbank8_d_air         0\n",
       "primary_cleaner.state.floatbank8_d_level       0\n",
       "rougher.input.feed_ag                          0\n",
       "rougher.input.feed_pb                          0\n",
       "rougher.input.feed_rate                        3\n",
       "rougher.input.feed_size                        1\n",
       "rougher.input.feed_sol                        21\n",
       "rougher.input.feed_au                          0\n",
       "rougher.input.floatbank10_sulfate              5\n",
       "rougher.input.floatbank10_xanthate             0\n",
       "rougher.input.floatbank11_sulfate              8\n",
       "rougher.input.floatbank11_xanthate            25\n",
       "rougher.state.floatbank10_a_air                0\n",
       "rougher.state.floatbank10_a_level              0\n",
       "rougher.state.floatbank10_b_air                0\n",
       "rougher.state.floatbank10_b_level              0\n",
       "rougher.state.floatbank10_c_air                0\n",
       "rougher.state.floatbank10_c_level              0\n",
       "rougher.state.floatbank10_d_air                0\n",
       "rougher.state.floatbank10_d_level              0\n",
       "rougher.state.floatbank10_e_air                0\n",
       "rougher.state.floatbank10_e_level              0\n",
       "rougher.state.floatbank10_f_air                0\n",
       "rougher.state.floatbank10_f_level              0\n",
       "secondary_cleaner.state.floatbank2_a_air       3\n",
       "secondary_cleaner.state.floatbank2_a_level     0\n",
       "secondary_cleaner.state.floatbank2_b_air       2\n",
       "secondary_cleaner.state.floatbank2_b_level     0\n",
       "secondary_cleaner.state.floatbank3_a_air       9\n",
       "secondary_cleaner.state.floatbank3_a_level     0\n",
       "secondary_cleaner.state.floatbank3_b_air       0\n",
       "secondary_cleaner.state.floatbank3_b_level     0\n",
       "secondary_cleaner.state.floatbank4_a_air       0\n",
       "secondary_cleaner.state.floatbank4_a_level     0\n",
       "secondary_cleaner.state.floatbank4_b_air       0\n",
       "secondary_cleaner.state.floatbank4_b_level     0\n",
       "secondary_cleaner.state.floatbank5_a_air       0\n",
       "secondary_cleaner.state.floatbank5_a_level     0\n",
       "secondary_cleaner.state.floatbank5_b_air       0\n",
       "secondary_cleaner.state.floatbank5_b_level     0\n",
       "secondary_cleaner.state.floatbank6_a_air       0\n",
       "secondary_cleaner.state.floatbank6_a_level     0\n",
       "rougher.output.recovery                        0\n",
       "final.output.recovery                          0\n",
       "dtype: int64"
      ]
     },
     "execution_count": 9,
     "metadata": {},
     "output_type": "execute_result"
    }
   ],
   "source": [
    "test_2.isna().sum()"
   ]
  },
  {
   "cell_type": "code",
   "execution_count": 10,
   "metadata": {},
   "outputs": [
    {
     "name": "stdout",
     "output_type": "stream",
     "text": [
      "<class 'pandas.core.frame.DataFrame'>\n",
      "Index: 5290 entries, 2016-09-01 00:59:59 to 2017-12-31 23:59:59\n",
      "Data columns (total 54 columns):\n",
      "primary_cleaner.input.sulfate                 5290 non-null float64\n",
      "primary_cleaner.input.depressant              5290 non-null float64\n",
      "primary_cleaner.input.feed_size               5290 non-null float64\n",
      "primary_cleaner.input.xanthate                5290 non-null float64\n",
      "primary_cleaner.state.floatbank8_a_air        5290 non-null float64\n",
      "primary_cleaner.state.floatbank8_a_level      5290 non-null float64\n",
      "primary_cleaner.state.floatbank8_b_air        5290 non-null float64\n",
      "primary_cleaner.state.floatbank8_b_level      5290 non-null float64\n",
      "primary_cleaner.state.floatbank8_c_air        5290 non-null float64\n",
      "primary_cleaner.state.floatbank8_c_level      5290 non-null float64\n",
      "primary_cleaner.state.floatbank8_d_air        5290 non-null float64\n",
      "primary_cleaner.state.floatbank8_d_level      5290 non-null float64\n",
      "rougher.input.feed_ag                         5290 non-null float64\n",
      "rougher.input.feed_pb                         5290 non-null float64\n",
      "rougher.input.feed_rate                       5290 non-null float64\n",
      "rougher.input.feed_size                       5290 non-null float64\n",
      "rougher.input.feed_sol                        5290 non-null float64\n",
      "rougher.input.feed_au                         5290 non-null float64\n",
      "rougher.input.floatbank10_sulfate             5290 non-null float64\n",
      "rougher.input.floatbank10_xanthate            5290 non-null float64\n",
      "rougher.input.floatbank11_sulfate             5290 non-null float64\n",
      "rougher.input.floatbank11_xanthate            5290 non-null float64\n",
      "rougher.state.floatbank10_a_air               5290 non-null float64\n",
      "rougher.state.floatbank10_a_level             5290 non-null float64\n",
      "rougher.state.floatbank10_b_air               5290 non-null float64\n",
      "rougher.state.floatbank10_b_level             5290 non-null float64\n",
      "rougher.state.floatbank10_c_air               5290 non-null float64\n",
      "rougher.state.floatbank10_c_level             5290 non-null float64\n",
      "rougher.state.floatbank10_d_air               5290 non-null float64\n",
      "rougher.state.floatbank10_d_level             5290 non-null float64\n",
      "rougher.state.floatbank10_e_air               5290 non-null float64\n",
      "rougher.state.floatbank10_e_level             5290 non-null float64\n",
      "rougher.state.floatbank10_f_air               5290 non-null float64\n",
      "rougher.state.floatbank10_f_level             5290 non-null float64\n",
      "secondary_cleaner.state.floatbank2_a_air      5290 non-null float64\n",
      "secondary_cleaner.state.floatbank2_a_level    5290 non-null float64\n",
      "secondary_cleaner.state.floatbank2_b_air      5290 non-null float64\n",
      "secondary_cleaner.state.floatbank2_b_level    5290 non-null float64\n",
      "secondary_cleaner.state.floatbank3_a_air      5290 non-null float64\n",
      "secondary_cleaner.state.floatbank3_a_level    5290 non-null float64\n",
      "secondary_cleaner.state.floatbank3_b_air      5290 non-null float64\n",
      "secondary_cleaner.state.floatbank3_b_level    5290 non-null float64\n",
      "secondary_cleaner.state.floatbank4_a_air      5290 non-null float64\n",
      "secondary_cleaner.state.floatbank4_a_level    5290 non-null float64\n",
      "secondary_cleaner.state.floatbank4_b_air      5290 non-null float64\n",
      "secondary_cleaner.state.floatbank4_b_level    5290 non-null float64\n",
      "secondary_cleaner.state.floatbank5_a_air      5290 non-null float64\n",
      "secondary_cleaner.state.floatbank5_a_level    5290 non-null float64\n",
      "secondary_cleaner.state.floatbank5_b_air      5290 non-null float64\n",
      "secondary_cleaner.state.floatbank5_b_level    5290 non-null float64\n",
      "secondary_cleaner.state.floatbank6_a_air      5290 non-null float64\n",
      "secondary_cleaner.state.floatbank6_a_level    5290 non-null float64\n",
      "rougher.output.recovery                       5290 non-null float64\n",
      "final.output.recovery                         5290 non-null float64\n",
      "dtypes: float64(54)\n",
      "memory usage: 2.2+ MB\n"
     ]
    }
   ],
   "source": [
    "test_2 = test_2.fillna(method='ffill')#заполним предыдущими значениями\n",
    "test_2.info()"
   ]
  },
  {
   "cell_type": "code",
   "execution_count": 11,
   "metadata": {},
   "outputs": [
    {
     "data": {
      "text/plain": [
       "secondary_cleaner.output.tail_sol                     1748\n",
       "rougher.input.floatbank11_xanthate                     453\n",
       "rougher.state.floatbank10_e_air                        436\n",
       "primary_cleaner.output.concentrate_sol                 370\n",
       "secondary_cleaner.state.floatbank2_a_air               220\n",
       "final.output.concentrate_sol                           211\n",
       "rougher.input.feed_size                                145\n",
       "primary_cleaner.output.concentrate_pb                  116\n",
       "primary_cleaner.input.xanthate                         104\n",
       "final.output.tail_pb                                   101\n",
       "rougher.input.feed_pb                                  100\n",
       "rougher.input.feed_sol                                  99\n",
       "primary_cleaner.output.tail_sol                         62\n",
       "rougher.input.floatbank11_sulfate                       44\n",
       "primary_cleaner.input.depressant                        37\n",
       "rougher.input.floatbank10_sulfate                       34\n",
       "primary_cleaner.input.sulfate                           24\n",
       "rougher.output.concentrate_sol                          23\n",
       "secondary_cleaner.state.floatbank2_b_air                23\n",
       "primary_cleaner.output.tail_pb                          21\n",
       "secondary_cleaner.state.floatbank3_a_air                13\n",
       "secondary_cleaner.output.tail_pb                        12\n",
       "rougher.input.feed_rate                                 11\n",
       "rougher.input.floatbank10_xanthate                       8\n",
       "secondary_cleaner.state.floatbank4_a_air                 6\n",
       "final.output.tail_sol                                    6\n",
       "primary_cleaner.output.tail_ag                           4\n",
       "primary_cleaner.state.floatbank8_b_air                   4\n",
       "primary_cleaner.state.floatbank8_a_air                   4\n",
       "primary_cleaner.state.floatbank8_d_air                   3\n",
       "rougher.calculation.floatbank10_sulfate_to_au_feed       2\n",
       "rougher.calculation.floatbank11_sulfate_to_au_feed       2\n",
       "secondary_cleaner.output.tail_ag                         2\n",
       "rougher.calculation.sulfate_to_au_concentrate            2\n",
       "primary_cleaner.state.floatbank8_c_air                   2\n",
       "secondary_cleaner.state.floatbank6_a_air                 2\n",
       "primary_cleaner.state.floatbank8_d_level                 1\n",
       "final.output.tail_ag                                     1\n",
       "final.output.concentrate_pb                              1\n",
       "primary_cleaner.state.floatbank8_b_level                 1\n",
       "dtype: int64"
      ]
     },
     "metadata": {},
     "output_type": "display_data"
    }
   ],
   "source": [
    "display(full.isna().sum().sort_values(ascending = False).head(40))\n",
    "full = full.fillna(method='ffill')#заполним предыдущими значениями\n",
    "train = train.fillna(method='ffill')#заполним предыдущими значениями"
   ]
  },
  {
   "cell_type": "markdown",
   "metadata": {},
   "source": [
    "***Вывод*** \n",
    "\n",
    "Рассмотрел три выборки, в тестовой были пропуски(заполнили предыдущими значениями)- rougher.output.recovery','final.output.recovery'. \n",
    "\n",
    "Добаивл целевые столбцы в тестовую выборку. проверили точность расчета rougher.output.recovery,он правильный. \n"
   ]
  },
  {
   "cell_type": "markdown",
   "metadata": {},
   "source": [
    "## Анализ данных"
   ]
  },
  {
   "cell_type": "markdown",
   "metadata": {},
   "source": [
    "**2.1. Посмотрите, как меняется концентрация металлов (Au, Ag, Pb) на различных этапах очистки. Опишите выводы.**"
   ]
  },
  {
   "cell_type": "markdown",
   "metadata": {},
   "source": [
    "Возможные значения для блока: \n",
    "\n",
    "* rougher — флотация\n",
    "* primary_cleaner — первичная очистка\n",
    "* secondary_cleaner — вторичная очистка\n",
    "* final — финальные характеристики"
   ]
  },
  {
   "cell_type": "code",
   "execution_count": 38,
   "metadata": {},
   "outputs": [],
   "source": [
    "inputs = full[['rougher.input.feed_au','rougher.input.feed_ag','rougher.input.feed_pb']]\n",
    "rougher = full[['rougher.output.concentrate_au','rougher.output.concentrate_ag','rougher.output.concentrate_pb']]\n",
    "primary_cleaner = full[['primary_cleaner.output.concentrate_au','primary_cleaner.output.concentrate_ag','primary_cleaner.output.concentrate_pb']] \n",
    "final = full[['final.output.concentrate_au','final.output.concentrate_ag','final.output.concentrate_pb']]"
   ]
  },
  {
   "cell_type": "code",
   "execution_count": 42,
   "metadata": {},
   "outputs": [
    {
     "data": {
      "text/plain": [
       "<matplotlib.axes._subplots.AxesSubplot at 0x7f8f4a4f6610>"
      ]
     },
     "execution_count": 42,
     "metadata": {},
     "output_type": "execute_result"
    },
    {
     "data": {
      "image/png": "[encoded data removed]",
      "text/plain": [
       "<Figure size 1080x720 with 1 Axes>"
      ]
     },
     "metadata": {
      "needs_background": "light"
     },
     "output_type": "display_data"
    }
   ],
   "source": [
    "plt.figure(figsize=(15,10))\n",
    "sns.boxplot(data=inputs, orient = 'h')"
   ]
  },
  {
   "cell_type": "code",
   "execution_count": 39,
   "metadata": {},
   "outputs": [
    {
     "data": {
      "text/plain": [
       "<matplotlib.axes._subplots.AxesSubplot at 0x7f8f48401d50>"
      ]
     },
     "execution_count": 39,
     "metadata": {},
     "output_type": "execute_result"
    },
    {
     "data": {
      "image/png": "[encoded data removed]",
      "text/plain": [
       "<Figure size 1080x720 with 1 Axes>"
      ]
     },
     "metadata": {
      "needs_background": "light"
     },
     "output_type": "display_data"
    }
   ],
   "source": [
    "plt.figure(figsize=(15,10))\n",
    "sns.boxplot(data=rougher, orient = 'h')"
   ]
  },
  {
   "cell_type": "code",
   "execution_count": 40,
   "metadata": {},
   "outputs": [
    {
     "data": {
      "text/plain": [
       "<matplotlib.axes._subplots.AxesSubplot at 0x7f8f4a51d390>"
      ]
     },
     "execution_count": 40,
     "metadata": {},
     "output_type": "execute_result"
    },
    {
     "data": {
      "image/png": "[encoded data removed]",
      "text/plain": [
       "<Figure size 1080x720 with 1 Axes>"
      ]
     },
     "metadata": {
      "needs_background": "light"
     },
     "output_type": "display_data"
    }
   ],
   "source": [
    "plt.figure(figsize=(15,10))\n",
    "sns.boxplot(data=primary_cleaner, orient = 'h')"
   ]
  },
  {
   "cell_type": "code",
   "execution_count": 41,
   "metadata": {
    "scrolled": true
   },
   "outputs": [
    {
     "data": {
      "text/plain": [
       "<matplotlib.axes._subplots.AxesSubplot at 0x7f8f4a537c50>"
      ]
     },
     "execution_count": 41,
     "metadata": {},
     "output_type": "execute_result"
    },
    {
     "data": {
      "image/png": "[encoded data removed]",
      "text/plain": [
       "<Figure size 1080x720 with 1 Axes>"
      ]
     },
     "metadata": {
      "needs_background": "light"
     },
     "output_type": "display_data"
    }
   ],
   "source": [
    "plt.figure(figsize=(15,10))\n",
    "sns.boxplot(data=final, orient = 'h')"
   ]
  },
  {
   "cell_type": "markdown",
   "metadata": {},
   "source": [
    "***Вывод*** \n",
    "\n",
    "Концентрация золота по этапам увеличивается с примерно 20 до 40(почти в два раза), по серебру падает на каждом этапе, по свинцу после первого этапа увеличалсь, на последнем почти не изменилась."
   ]
  },
  {
   "cell_type": "code",
   "execution_count": 16,
   "metadata": {},
   "outputs": [
    {
     "data": {
      "text/plain": [
       "Text(0.5, 1.0, 'Изменение концентрации золота')"
      ]
     },
     "execution_count": 16,
     "metadata": {},
     "output_type": "execute_result"
    },
    {
     "data": {
      "image/png": "[encoded data removed]",
      "text/plain": [
       "<Figure size 1080x720 with 1 Axes>"
      ]
     },
     "metadata": {
      "needs_background": "light"
     },
     "output_type": "display_data"
    }
   ],
   "source": [
    "\n",
    "steps_template = [\n",
    "    'rougher.input.feed_{}',\n",
    "    'rougher.output.concentrate_{}',\n",
    "    'primary_cleaner.output.concentrate_{}',\n",
    "    'final.output.concentrate_{}',\n",
    "]\n",
    "\n",
    "def plot_concentrate_progress(component):\n",
    "    steps = [s.format(component) for s in steps_template]\n",
    "    for step in steps:\n",
    "        full[step].hist(alpha=0.5, bins=100,figsize=(15,10))\n",
    "    plt.legend(steps)\n",
    "plot_concentrate_progress('au')\n",
    "plt.title('Изменение концентрации золота')"
   ]
  },
  {
   "cell_type": "code",
   "execution_count": 17,
   "metadata": {},
   "outputs": [
    {
     "data": {
      "text/plain": [
       "Text(0.5, 1.0, 'Изменение концентрации серебра')"
      ]
     },
     "execution_count": 17,
     "metadata": {},
     "output_type": "execute_result"
    },
    {
     "data": {
      "image/png": "[encoded data removed]",
      "text/plain": [
       "<Figure size 1080x720 with 1 Axes>"
      ]
     },
     "metadata": {
      "needs_background": "light"
     },
     "output_type": "display_data"
    }
   ],
   "source": [
    "plot_concentrate_progress('ag')\n",
    "plt.title('Изменение концентрации серебра')"
   ]
  },
  {
   "cell_type": "code",
   "execution_count": 18,
   "metadata": {},
   "outputs": [
    {
     "data": {
      "text/plain": [
       "Text(0.5, 1.0, 'Изменение концентрации свинца')"
      ]
     },
     "execution_count": 18,
     "metadata": {},
     "output_type": "execute_result"
    },
    {
     "data": {
      "image/png": "[encoded data removed]",
      "text/plain": [
       "<Figure size 1080x720 with 1 Axes>"
      ]
     },
     "metadata": {
      "needs_background": "light"
     },
     "output_type": "display_data"
    }
   ],
   "source": [
    "plot_concentrate_progress('pb')\n",
    "plt.title('Изменение концентрации свинца')"
   ]
  },
  {
   "cell_type": "markdown",
   "metadata": {},
   "source": [
    "**2.2. Сравните распределения размеров гранул сырья на обучающей и тестовой выборках. Если распределения сильно отличаются друг от друга, оценка модели будет неправильной.**"
   ]
  },
  {
   "cell_type": "markdown",
   "metadata": {},
   "source": [
    "* feed size — размер гранул сырья\n",
    "-------------------------------------------\n",
    "* rougher.input.feed_size                               \n",
    "                              "
   ]
  },
  {
   "cell_type": "code",
   "execution_count": 19,
   "metadata": {
    "scrolled": true
   },
   "outputs": [
    {
     "data": {
      "text/plain": [
       "count    14149.000000\n",
       "mean        60.239856\n",
       "std         23.005310\n",
       "min          9.659576\n",
       "25%         48.966751\n",
       "50%         55.269784\n",
       "75%         66.007526\n",
       "max        484.967466\n",
       "Name: rougher.input.feed_size, dtype: float64"
      ]
     },
     "metadata": {},
     "output_type": "display_data"
    },
    {
     "data": {
      "text/plain": [
       "count    5289.000000\n",
       "mean       55.951097\n",
       "std        19.081758\n",
       "min         0.046369\n",
       "25%        43.906347\n",
       "50%        50.841029\n",
       "75%        62.431047\n",
       "max       392.494040\n",
       "Name: rougher.input.feed_size, dtype: float64"
      ]
     },
     "metadata": {},
     "output_type": "display_data"
    }
   ],
   "source": [
    "display(train['rougher.input.feed_size'].describe())\n",
    "display(test['rougher.input.feed_size'].describe())"
   ]
  },
  {
   "cell_type": "markdown",
   "metadata": {},
   "source": [
    "**Вывод** \n",
    "\n",
    "И среднее и медиана у тестовой и обучающей выборки примерно идентичные, в дальнейшем с обучением модели проблем быть не должно."
   ]
  },
  {
   "cell_type": "markdown",
   "metadata": {},
   "source": [
    "**2.3. Исследуйте суммарную концентрацию всех веществ на разных стадиях: в сырье, в черновом и финальном концентратах.**"
   ]
  },
  {
   "cell_type": "code",
   "execution_count": 20,
   "metadata": {},
   "outputs": [],
   "source": [
    "rougher_sum = full['rougher.output.concentrate_au']+full['rougher.output.concentrate_ag']+full['rougher.output.concentrate_pb']\n",
    "primary_cleaner_sum = full['primary_cleaner.output.concentrate_au']+full['primary_cleaner.output.concentrate_ag']+full['primary_cleaner.output.concentrate_pb'] \n",
    "final_sum = full['final.output.concentrate_au']+full['final.output.concentrate_ag']+full['final.output.concentrate_pb']"
   ]
  },
  {
   "cell_type": "code",
   "execution_count": 21,
   "metadata": {
    "scrolled": true
   },
   "outputs": [
    {
     "data": {
      "image/png": "[encoded data removed]",
      "text/plain": [
       "<Figure size 1080x360 with 1 Axes>"
      ]
     },
     "metadata": {
      "needs_background": "light"
     },
     "output_type": "display_data"
    }
   ],
   "source": [
    "plt.figure(figsize=(15,5))\n",
    "plt.hist([rougher_sum,primary_cleaner_sum,final_sum], bins = 100, \n",
    "          label=['Флотация','Первичная очистка', 'Финальная очистка']);\n",
    "plt.legend();"
   ]
  },
  {
   "cell_type": "markdown",
   "metadata": {},
   "source": [
    "***Вывод***  \n",
    "\n",
    "Суммарная концентрация всех вещест(золото,серебро,свинец и зол) увеличивается на каждом следующем этапе. На флотации сумманая контетрация в среднем в районе 40, после первичной очистки около 55, на финальном этапе около 60. Есть небольшая группа с суммарной концентрации около 0."
   ]
  },
  {
   "cell_type": "markdown",
   "metadata": {},
   "source": [
    "## Модель"
   ]
  },
  {
   "cell_type": "markdown",
   "metadata": {},
   "source": [
    "**Напишите функцию для вычисления итоговой sMAPE.**"
   ]
  },
  {
   "cell_type": "code",
   "execution_count": 22,
   "metadata": {},
   "outputs": [],
   "source": [
    "def smape(target,prediction):\n",
    "    rougher = 0\n",
    "    final = 0\n",
    "    for i in range(len(prediction)):\n",
    "        rougher += abs(target['rougher.output.recovery'][i] - prediction[i][0])/((abs(target['rougher.output.recovery'][i]) + abs(prediction[i][0]))/2)*100\n",
    "        \n",
    "        final +=abs(target['final.output.recovery'][i] - prediction[i][1])/((abs(target['final.output.recovery'][i]) + abs(prediction[i][1]))/2)*100\n",
    "    smape_rougher = rougher/len(prediction)\n",
    "    \n",
    "    smape_final = final/len(prediction)\n",
    "    \n",
    "    smape = 0.25*smape_rougher + 0.75*smape_final\n",
    "    \n",
    "    return smape"
   ]
  },
  {
   "cell_type": "code",
   "execution_count": 23,
   "metadata": {
    "scrolled": false
   },
   "outputs": [],
   "source": [
    "pv2 = list(set(train.columns) - set(test_2.columns))\n",
    "train=train.drop(pv2, axis = 1)\n"
   ]
  },
  {
   "cell_type": "code",
   "execution_count": 24,
   "metadata": {
    "scrolled": true
   },
   "outputs": [],
   "source": [
    "score = make_scorer(smape,greater_is_better=False)"
   ]
  },
  {
   "cell_type": "code",
   "execution_count": 25,
   "metadata": {},
   "outputs": [],
   "source": [
    "features_train = train.drop(['rougher.output.recovery', 'final.output.recovery'], axis = 1)\n",
    "features_test = test_2.drop(['rougher.output.recovery', 'final.output.recovery'], axis = 1)\n",
    "\n",
    "target_train = train[['rougher.output.recovery', 'final.output.recovery']]\n",
    "target_test = test_2[['rougher.output.recovery', 'final.output.recovery']]\n"
   ]
  },
  {
   "cell_type": "code",
   "execution_count": 26,
   "metadata": {},
   "outputs": [
    {
     "data": {
      "text/plain": [
       "LinearRegression(copy_X=True, fit_intercept=True, n_jobs=None, normalize=False)"
      ]
     },
     "execution_count": 26,
     "metadata": {},
     "output_type": "execute_result"
    }
   ],
   "source": [
    "model_Regres = LinearRegression()\n",
    "model_Regres.fit(target_train, features_train)"
   ]
  },
  {
   "cell_type": "code",
   "execution_count": 27,
   "metadata": {},
   "outputs": [
    {
     "data": {
      "text/plain": [
       "-12.384596104847194"
      ]
     },
     "execution_count": 27,
     "metadata": {},
     "output_type": "execute_result"
    }
   ],
   "source": [
    "scores_Regres = (cross_val_score(model_Regres, features_train, target_train, cv=5,scoring=score)).mean() # < посчитайте оценки, вызвав функцию cross_value_score с пятью блоками >\n",
    "\n",
    "scores_Regres"
   ]
  },
  {
   "cell_type": "code",
   "execution_count": 28,
   "metadata": {
    "scrolled": false
   },
   "outputs": [
    {
     "name": "stderr",
     "output_type": "stream",
     "text": [
      "/opt/conda/lib/python3.7/site-packages/ipykernel_launcher.py:5: RuntimeWarning: invalid value encountered in double_scalars\n",
      "  \"\"\"\n",
      "/opt/conda/lib/python3.7/site-packages/ipykernel_launcher.py:5: RuntimeWarning: invalid value encountered in double_scalars\n",
      "  \"\"\"\n"
     ]
    },
    {
     "data": {
      "text/plain": [
       "'Наилучшая максимальной глубиной:'"
      ]
     },
     "metadata": {},
     "output_type": "display_data"
    },
    {
     "data": {
      "text/plain": [
       "1"
      ]
     },
     "metadata": {},
     "output_type": "display_data"
    },
    {
     "data": {
      "text/plain": [
       "'Наилучший smape'"
      ]
     },
     "metadata": {},
     "output_type": "display_data"
    },
    {
     "data": {
      "text/plain": [
       "-11.8142576620169"
      ]
     },
     "metadata": {},
     "output_type": "display_data"
    }
   ],
   "source": [
    "best_score_2 = 500\n",
    "best_depth_2 = 0\n",
    "\n",
    "for depth in range(1, 6):\n",
    "    model_DTR = DecisionTreeRegressor(random_state=12345, max_depth = depth)\n",
    "    scores_DTR = (cross_val_score(model_DTR, features_train, target_train, cv=5,scoring=score)).mean()\n",
    "    if scores_DTR < best_score_2:\n",
    "        best_depth_2 = depth\n",
    "        best_score_2 = scores_DTR\n",
    "\n",
    "\n",
    "display(\"Наилучшая максимальной глубиной:\", best_depth_2)\n",
    "display(\"Наилучший smape\", best_score_2)"
   ]
  },
  {
   "cell_type": "code",
   "execution_count": 29,
   "metadata": {},
   "outputs": [
    {
     "data": {
      "text/plain": [
       "'Наилучшее количество деревьев:'"
      ]
     },
     "metadata": {},
     "output_type": "display_data"
    },
    {
     "data": {
      "text/plain": [
       "50"
      ]
     },
     "metadata": {},
     "output_type": "display_data"
    },
    {
     "data": {
      "text/plain": [
       "'Наилучшая максимальной глубиной:'"
      ]
     },
     "metadata": {},
     "output_type": "display_data"
    },
    {
     "data": {
      "text/plain": [
       "1"
      ]
     },
     "metadata": {},
     "output_type": "display_data"
    },
    {
     "data": {
      "text/plain": [
       "'Наилучший smape'"
      ]
     },
     "metadata": {},
     "output_type": "display_data"
    },
    {
     "data": {
      "text/plain": [
       "-11.467938848647632"
      ]
     },
     "metadata": {},
     "output_type": "display_data"
    },
    {
     "name": "stdout",
     "output_type": "stream",
     "text": [
      "CPU times: user 11min 32s, sys: 303 ms, total: 11min 32s\n",
      "Wall time: 11min 32s\n"
     ]
    }
   ],
   "source": [
    "%%time\n",
    "best_score = 500\n",
    "best_est = 0\n",
    "best_depth = 0\n",
    "\n",
    "\n",
    "for est in range(10, 51, 10):\n",
    "    for depth in range (1, 11,2):\n",
    "        model_RFC = RandomForestRegressor(random_state=12345, n_estimators= est,max_depth=depth) \n",
    "        scores_RFC = (cross_val_score(model_RFC, features_train, target_train, cv=5,scoring=score)).mean()\n",
    "        if scores_RFC < best_score:\n",
    "            best_est = est \n",
    "            best_depth = depth\n",
    "            best_score = scores_RFC\n",
    "\n",
    "                \n",
    "\n",
    "display(\"Наилучшее количество деревьев:\", best_est)\n",
    "display(\"Наилучшая максимальной глубиной:\", best_depth)\n",
    "display(\"Наилучший smape\", best_score)"
   ]
  },
  {
   "cell_type": "code",
   "execution_count": 32,
   "metadata": {
    "scrolled": true
   },
   "outputs": [
    {
     "data": {
      "text/plain": [
       "9.39474962482239"
      ]
     },
     "execution_count": 32,
     "metadata": {},
     "output_type": "execute_result"
    }
   ],
   "source": [
    "model_DTR = DecisionTreeRegressor(random_state=12345, max_depth = 1)# было 4 итог 9.77\n",
    "model_DTR.fit(features_train, target_train)\n",
    "prediction_DTR = model_DTR.predict(features_test)\n",
    "smape(target_test, prediction_DTR)"
   ]
  },
  {
   "cell_type": "code",
   "execution_count": 34,
   "metadata": {},
   "outputs": [
    {
     "data": {
      "text/plain": [
       "9.123372564108731"
      ]
     },
     "execution_count": 34,
     "metadata": {},
     "output_type": "execute_result"
    }
   ],
   "source": [
    "model_RFC = RandomForestRegressor(random_state=12345, n_estimators= 50,max_depth=5) # было 40/5 итог 9.13\n",
    "model_RFC.fit(features_train, target_train)\n",
    "prediction_RFC = model_RFC.predict(features_test)\n",
    "smape(target_test, prediction_RFC)"
   ]
  },
  {
   "cell_type": "code",
   "execution_count": 37,
   "metadata": {},
   "outputs": [
    {
     "data": {
      "text/plain": [
       "9.972775555351191"
      ]
     },
     "execution_count": 37,
     "metadata": {},
     "output_type": "execute_result"
    }
   ],
   "source": [
    "model_Regres.fit(features_train, target_train)\n",
    "prediction_Regres = model_Regres.predict(features_test)\n",
    "smape(target_test, prediction_Regres)"
   ]
  },
  {
   "cell_type": "markdown",
   "metadata": {},
   "source": [
    "**Вывод :** \n",
    "\n",
    "Были обучены три модели: \n",
    "* Линейной регрессии \n",
    "* Случайного леса\n",
    "* дерева решений\n",
    "\n",
    "Наилучшее качество методом кросс валидации получила модель случайного леса smape равно 10,34. \n",
    "На тестовой выборке лучший smape также показала модель случайного леса smape равно 9,12"
   ]
  }
 ],
 "metadata": {
  "ExecuteTimeLog": [
   {
    "duration": 639,
    "start_time": "2022-02-23T14:29:45.605Z"
   },
   {
    "duration": 1717,
    "start_time": "2022-02-23T14:29:47.331Z"
   },
   {
    "duration": 1579,
    "start_time": "2022-02-23T14:30:19.377Z"
   },
   {
    "duration": 3673,
    "start_time": "2022-02-23T14:33:10.167Z"
   },
   {
    "duration": 1546,
    "start_time": "2022-02-23T14:33:41.488Z"
   },
   {
    "duration": 3,
    "start_time": "2022-02-23T14:36:50.817Z"
   },
   {
    "duration": 1671,
    "start_time": "2022-02-23T14:36:51.860Z"
   },
   {
    "duration": 1697,
    "start_time": "2022-02-23T14:37:05.465Z"
   },
   {
    "duration": 1575,
    "start_time": "2022-02-23T14:40:36.178Z"
   },
   {
    "duration": 1422,
    "start_time": "2022-02-23T14:42:27.228Z"
   },
   {
    "duration": 1591,
    "start_time": "2022-02-23T14:44:17.102Z"
   },
   {
    "duration": 3,
    "start_time": "2022-02-23T14:50:33.622Z"
   },
   {
    "duration": 1996,
    "start_time": "2022-02-23T14:50:34.440Z"
   },
   {
    "duration": 1290,
    "start_time": "2022-02-23T14:54:23.763Z"
   },
   {
    "duration": 710,
    "start_time": "2022-02-23T14:57:57.814Z"
   },
   {
    "duration": 637,
    "start_time": "2022-02-23T14:59:42.392Z"
   },
   {
    "duration": 37,
    "start_time": "2022-02-23T14:59:56.493Z"
   },
   {
    "duration": 1035,
    "start_time": "2022-02-23T17:12:46.697Z"
   },
   {
    "duration": 685,
    "start_time": "2022-02-23T17:12:47.734Z"
   },
   {
    "duration": 50,
    "start_time": "2022-02-23T17:12:48.421Z"
   },
   {
    "duration": 9,
    "start_time": "2022-02-23T17:12:48.473Z"
   },
   {
    "duration": 4,
    "start_time": "2022-02-23T17:12:48.484Z"
   },
   {
    "duration": 5,
    "start_time": "2022-02-23T17:13:42.082Z"
   },
   {
    "duration": 16,
    "start_time": "2022-02-23T17:23:10.027Z"
   },
   {
    "duration": 10,
    "start_time": "2022-02-23T17:23:19.258Z"
   },
   {
    "duration": 1149,
    "start_time": "2022-02-23T17:23:54.696Z"
   },
   {
    "duration": 704,
    "start_time": "2022-02-23T17:23:55.847Z"
   },
   {
    "duration": 66,
    "start_time": "2022-02-23T17:23:56.553Z"
   },
   {
    "duration": 8,
    "start_time": "2022-02-23T17:23:56.621Z"
   },
   {
    "duration": 5,
    "start_time": "2022-02-23T17:23:56.631Z"
   },
   {
    "duration": 19,
    "start_time": "2022-02-23T17:23:56.638Z"
   },
   {
    "duration": 372,
    "start_time": "2022-02-23T17:46:58.544Z"
   },
   {
    "duration": 5,
    "start_time": "2022-02-23T17:47:06.053Z"
   },
   {
    "duration": 231,
    "start_time": "2022-02-23T17:47:51.566Z"
   },
   {
    "duration": 3,
    "start_time": "2022-02-23T17:48:11.236Z"
   },
   {
    "duration": 6,
    "start_time": "2022-02-23T17:48:14.877Z"
   },
   {
    "duration": 200,
    "start_time": "2022-02-23T17:48:29.707Z"
   },
   {
    "duration": 7,
    "start_time": "2022-02-23T17:48:40.399Z"
   },
   {
    "duration": 264,
    "start_time": "2022-02-23T17:50:12.368Z"
   },
   {
    "duration": 7,
    "start_time": "2022-02-23T17:51:45.588Z"
   },
   {
    "duration": 273,
    "start_time": "2022-02-23T17:52:03.462Z"
   },
   {
    "duration": 4,
    "start_time": "2022-02-23T18:01:17.078Z"
   },
   {
    "duration": 215,
    "start_time": "2022-02-23T18:01:34.460Z"
   },
   {
    "duration": 5,
    "start_time": "2022-02-23T18:01:41.913Z"
   },
   {
    "duration": 5,
    "start_time": "2022-02-23T18:01:46.755Z"
   },
   {
    "duration": 583,
    "start_time": "2022-02-23T18:08:28.613Z"
   },
   {
    "duration": 4,
    "start_time": "2022-02-23T18:08:38.688Z"
   },
   {
    "duration": 5,
    "start_time": "2022-02-23T18:09:52.605Z"
   },
   {
    "duration": 269,
    "start_time": "2022-02-23T18:10:01.710Z"
   },
   {
    "duration": 245,
    "start_time": "2022-02-23T18:10:09.457Z"
   },
   {
    "duration": 261,
    "start_time": "2022-02-23T18:10:36.009Z"
   },
   {
    "duration": 1222,
    "start_time": "2022-02-26T15:15:13.670Z"
   },
   {
    "duration": 826,
    "start_time": "2022-02-26T15:15:14.895Z"
   },
   {
    "duration": 88,
    "start_time": "2022-02-26T15:15:15.724Z"
   },
   {
    "duration": 10,
    "start_time": "2022-02-26T15:15:15.814Z"
   },
   {
    "duration": 6,
    "start_time": "2022-02-26T15:15:15.826Z"
   },
   {
    "duration": 63,
    "start_time": "2022-02-26T15:15:15.834Z"
   },
   {
    "duration": 52,
    "start_time": "2022-02-26T15:15:15.899Z"
   },
   {
    "duration": 316,
    "start_time": "2022-02-26T15:15:32.653Z"
   },
   {
    "duration": 7,
    "start_time": "2022-02-26T15:15:57.124Z"
   },
   {
    "duration": 30,
    "start_time": "2022-02-26T15:23:07.108Z"
   },
   {
    "duration": 29,
    "start_time": "2022-02-26T15:23:21.411Z"
   },
   {
    "duration": 29,
    "start_time": "2022-02-26T15:23:29.094Z"
   },
   {
    "duration": 156,
    "start_time": "2022-02-26T15:36:25.038Z"
   },
   {
    "duration": 6,
    "start_time": "2022-02-26T15:36:50.523Z"
   },
   {
    "duration": 6,
    "start_time": "2022-02-26T15:37:23.405Z"
   },
   {
    "duration": 9,
    "start_time": "2022-02-26T15:37:28.995Z"
   },
   {
    "duration": 184,
    "start_time": "2022-02-26T15:38:12.856Z"
   },
   {
    "duration": 174,
    "start_time": "2022-02-26T15:38:25.458Z"
   },
   {
    "duration": 4,
    "start_time": "2022-02-26T15:40:15.014Z"
   },
   {
    "duration": 4035,
    "start_time": "2022-02-26T15:40:18.856Z"
   },
   {
    "duration": 4,
    "start_time": "2022-02-26T15:40:35.165Z"
   },
   {
    "duration": 4,
    "start_time": "2022-02-26T15:40:42.722Z"
   },
   {
    "duration": 6,
    "start_time": "2022-02-26T15:41:53.403Z"
   },
   {
    "duration": 208,
    "start_time": "2022-02-26T15:42:00.580Z"
   },
   {
    "duration": 1321,
    "start_time": "2022-02-27T15:35:37.053Z"
   },
   {
    "duration": 851,
    "start_time": "2022-02-27T15:35:38.377Z"
   },
   {
    "duration": 93,
    "start_time": "2022-02-27T15:35:39.231Z"
   },
   {
    "duration": 11,
    "start_time": "2022-02-27T15:35:39.327Z"
   },
   {
    "duration": 36,
    "start_time": "2022-02-27T15:35:39.340Z"
   },
   {
    "duration": 23,
    "start_time": "2022-02-27T15:35:39.379Z"
   },
   {
    "duration": 6,
    "start_time": "2022-02-27T15:35:39.405Z"
   },
   {
    "duration": 418,
    "start_time": "2022-02-27T15:35:39.414Z"
   },
   {
    "duration": 5,
    "start_time": "2022-02-27T15:36:12.095Z"
   },
   {
    "duration": 56,
    "start_time": "2022-02-27T15:36:13.743Z"
   },
   {
    "duration": 42,
    "start_time": "2022-02-27T15:38:48.945Z"
   },
   {
    "duration": 44,
    "start_time": "2022-02-27T15:40:12.161Z"
   },
   {
    "duration": 7,
    "start_time": "2022-02-27T15:46:37.148Z"
   },
   {
    "duration": 1321,
    "start_time": "2022-02-27T16:01:56.793Z"
   },
   {
    "duration": 836,
    "start_time": "2022-02-27T16:01:58.117Z"
   },
   {
    "duration": 83,
    "start_time": "2022-02-27T16:01:58.956Z"
   },
   {
    "duration": 35,
    "start_time": "2022-02-27T16:01:59.041Z"
   },
   {
    "duration": 7,
    "start_time": "2022-02-27T16:01:59.078Z"
   },
   {
    "duration": 24,
    "start_time": "2022-02-27T16:01:59.087Z"
   },
   {
    "duration": 6,
    "start_time": "2022-02-27T16:01:59.113Z"
   },
   {
    "duration": 5,
    "start_time": "2022-02-27T16:01:59.123Z"
   },
   {
    "duration": 464,
    "start_time": "2022-02-27T16:01:59.130Z"
   },
   {
    "duration": 276,
    "start_time": "2022-02-27T16:02:36.622Z"
   },
   {
    "duration": 37,
    "start_time": "2022-02-27T16:03:52.765Z"
   },
   {
    "duration": 353,
    "start_time": "2022-02-27T16:04:17.995Z"
   },
   {
    "duration": 37,
    "start_time": "2022-02-27T16:04:25.174Z"
   },
   {
    "duration": 1331,
    "start_time": "2022-02-27T16:13:36.336Z"
   },
   {
    "duration": 866,
    "start_time": "2022-02-27T16:13:37.673Z"
   },
   {
    "duration": 88,
    "start_time": "2022-02-27T16:13:38.542Z"
   },
   {
    "duration": 10,
    "start_time": "2022-02-27T16:13:38.633Z"
   },
   {
    "duration": 35,
    "start_time": "2022-02-27T16:13:38.645Z"
   },
   {
    "duration": 34,
    "start_time": "2022-02-27T16:13:38.682Z"
   },
   {
    "duration": 6,
    "start_time": "2022-02-27T16:13:38.718Z"
   },
   {
    "duration": 7,
    "start_time": "2022-02-27T16:13:38.727Z"
   },
   {
    "duration": 63,
    "start_time": "2022-02-27T16:13:38.736Z"
   },
   {
    "duration": 62,
    "start_time": "2022-02-27T16:20:00.569Z"
   },
   {
    "duration": 11,
    "start_time": "2022-02-27T16:20:18.954Z"
   },
   {
    "duration": 7,
    "start_time": "2022-02-27T16:21:26.591Z"
   },
   {
    "duration": 15,
    "start_time": "2022-02-27T16:21:37.169Z"
   },
   {
    "duration": 18,
    "start_time": "2022-02-27T16:25:52.531Z"
   },
   {
    "duration": 12,
    "start_time": "2022-02-27T16:26:49.463Z"
   },
   {
    "duration": 12,
    "start_time": "2022-02-27T16:27:26.632Z"
   },
   {
    "duration": 13,
    "start_time": "2022-02-27T16:27:44.182Z"
   },
   {
    "duration": 12,
    "start_time": "2022-02-27T16:27:52.002Z"
   },
   {
    "duration": 14,
    "start_time": "2022-02-27T16:27:59.110Z"
   },
   {
    "duration": 13,
    "start_time": "2022-02-27T16:28:10.560Z"
   },
   {
    "duration": 1537,
    "start_time": "2022-02-27T18:16:39.670Z"
   },
   {
    "duration": 864,
    "start_time": "2022-02-27T18:16:41.210Z"
   },
   {
    "duration": 64,
    "start_time": "2022-02-27T18:16:42.077Z"
   },
   {
    "duration": 38,
    "start_time": "2022-02-27T18:16:42.144Z"
   },
   {
    "duration": 12,
    "start_time": "2022-02-27T18:16:42.186Z"
   },
   {
    "duration": 33,
    "start_time": "2022-02-27T18:16:42.201Z"
   },
   {
    "duration": 39,
    "start_time": "2022-02-27T18:16:42.236Z"
   },
   {
    "duration": 33,
    "start_time": "2022-02-27T18:16:42.279Z"
   },
   {
    "duration": 8,
    "start_time": "2022-02-27T18:16:42.315Z"
   },
   {
    "duration": 55,
    "start_time": "2022-02-27T18:16:42.325Z"
   },
   {
    "duration": 25,
    "start_time": "2022-02-27T18:16:42.383Z"
   },
   {
    "duration": 8,
    "start_time": "2022-02-27T18:16:42.410Z"
   },
   {
    "duration": 408,
    "start_time": "2022-02-27T18:16:42.420Z"
   },
   {
    "duration": 276,
    "start_time": "2022-02-27T18:17:14.604Z"
   },
   {
    "duration": 267,
    "start_time": "2022-02-27T18:17:41.522Z"
   },
   {
    "duration": 1580,
    "start_time": "2022-02-27T18:18:19.648Z"
   },
   {
    "duration": 943,
    "start_time": "2022-02-27T18:18:21.231Z"
   },
   {
    "duration": 66,
    "start_time": "2022-02-27T18:18:22.177Z"
   },
   {
    "duration": 11,
    "start_time": "2022-02-27T18:18:22.273Z"
   },
   {
    "duration": 9,
    "start_time": "2022-02-27T18:18:22.286Z"
   },
   {
    "duration": 25,
    "start_time": "2022-02-27T18:18:22.297Z"
   },
   {
    "duration": 6,
    "start_time": "2022-02-27T18:18:22.324Z"
   },
   {
    "duration": 73,
    "start_time": "2022-02-27T18:18:22.333Z"
   },
   {
    "duration": 11,
    "start_time": "2022-02-27T18:18:22.410Z"
   },
   {
    "duration": 50,
    "start_time": "2022-02-27T18:18:22.425Z"
   },
   {
    "duration": 25,
    "start_time": "2022-02-27T18:18:22.477Z"
   },
   {
    "duration": 8,
    "start_time": "2022-02-27T18:18:22.504Z"
   },
   {
    "duration": 436,
    "start_time": "2022-02-27T18:18:22.515Z"
   },
   {
    "duration": 355,
    "start_time": "2022-02-27T18:19:06.489Z"
   },
   {
    "duration": 338,
    "start_time": "2022-02-27T18:19:21.523Z"
   },
   {
    "duration": 381,
    "start_time": "2022-02-27T18:19:54.306Z"
   },
   {
    "duration": 478,
    "start_time": "2022-02-27T18:20:07.159Z"
   },
   {
    "duration": 492,
    "start_time": "2022-02-27T18:21:02.352Z"
   },
   {
    "duration": 575,
    "start_time": "2022-02-27T18:21:03.490Z"
   },
   {
    "duration": 515,
    "start_time": "2022-02-27T18:25:39.953Z"
   },
   {
    "duration": 506,
    "start_time": "2022-02-27T18:25:41.337Z"
   },
   {
    "duration": 510,
    "start_time": "2022-02-27T18:25:42.391Z"
   },
   {
    "duration": 301,
    "start_time": "2022-02-27T18:26:27.519Z"
   },
   {
    "duration": 540,
    "start_time": "2022-02-27T18:26:35.542Z"
   },
   {
    "duration": 547,
    "start_time": "2022-02-27T18:26:36.085Z"
   },
   {
    "duration": 14,
    "start_time": "2022-02-27T18:32:24.598Z"
   },
   {
    "duration": 1132,
    "start_time": "2022-02-27T18:50:31.795Z"
   },
   {
    "duration": 9,
    "start_time": "2022-02-27T18:50:39.373Z"
   },
   {
    "duration": 13,
    "start_time": "2022-02-27T18:50:50.431Z"
   },
   {
    "duration": 7,
    "start_time": "2022-02-27T18:51:05.930Z"
   },
   {
    "duration": 260,
    "start_time": "2022-02-27T18:53:18.987Z"
   },
   {
    "duration": 224,
    "start_time": "2022-02-27T18:54:08.143Z"
   },
   {
    "duration": 12,
    "start_time": "2022-02-27T18:56:21.415Z"
   },
   {
    "duration": 20,
    "start_time": "2022-02-27T18:56:53.104Z"
   },
   {
    "duration": 19,
    "start_time": "2022-02-27T19:00:36.254Z"
   },
   {
    "duration": 66,
    "start_time": "2022-03-02T18:54:42.816Z"
   },
   {
    "duration": 1119,
    "start_time": "2022-03-02T18:54:51.271Z"
   },
   {
    "duration": 738,
    "start_time": "2022-03-02T18:54:52.392Z"
   },
   {
    "duration": 46,
    "start_time": "2022-03-02T18:54:53.133Z"
   },
   {
    "duration": 7,
    "start_time": "2022-03-02T18:54:53.181Z"
   },
   {
    "duration": 6,
    "start_time": "2022-03-02T18:54:53.189Z"
   },
   {
    "duration": 57,
    "start_time": "2022-03-02T18:54:53.196Z"
   },
   {
    "duration": 12,
    "start_time": "2022-03-02T18:54:53.255Z"
   },
   {
    "duration": 21,
    "start_time": "2022-03-02T18:54:53.270Z"
   },
   {
    "duration": 5,
    "start_time": "2022-03-02T18:54:53.293Z"
   },
   {
    "duration": 42,
    "start_time": "2022-03-02T18:54:53.300Z"
   },
   {
    "duration": 23,
    "start_time": "2022-03-02T18:54:53.343Z"
   },
   {
    "duration": 6,
    "start_time": "2022-03-02T18:54:53.368Z"
   },
   {
    "duration": 331,
    "start_time": "2022-03-02T18:54:53.375Z"
   },
   {
    "duration": 327,
    "start_time": "2022-03-02T18:54:53.708Z"
   },
   {
    "duration": 326,
    "start_time": "2022-03-02T18:54:54.037Z"
   },
   {
    "duration": 11,
    "start_time": "2022-03-02T18:54:54.365Z"
   },
   {
    "duration": 44,
    "start_time": "2022-03-02T18:54:54.378Z"
   },
   {
    "duration": 332,
    "start_time": "2022-03-02T18:55:00.695Z"
   },
   {
    "duration": 400,
    "start_time": "2022-03-02T18:55:24.355Z"
   },
   {
    "duration": 318,
    "start_time": "2022-03-02T18:58:03.291Z"
   },
   {
    "duration": 561,
    "start_time": "2022-03-02T18:58:23.860Z"
   },
   {
    "duration": 537,
    "start_time": "2022-03-02T18:59:01.221Z"
   },
   {
    "duration": 581,
    "start_time": "2022-03-02T18:59:16.289Z"
   },
   {
    "duration": 521,
    "start_time": "2022-03-02T18:59:22.955Z"
   },
   {
    "duration": 761,
    "start_time": "2022-03-02T19:01:15.471Z"
   },
   {
    "duration": 578,
    "start_time": "2022-03-02T19:05:16.246Z"
   },
   {
    "duration": 718,
    "start_time": "2022-03-02T19:05:26.579Z"
   },
   {
    "duration": 50,
    "start_time": "2022-03-02T19:07:57.838Z"
   },
   {
    "duration": 605,
    "start_time": "2022-03-02T19:08:05.728Z"
   },
   {
    "duration": 508,
    "start_time": "2022-03-02T19:08:23.172Z"
   },
   {
    "duration": 3442,
    "start_time": "2022-03-02T19:35:16.210Z"
   },
   {
    "duration": 141,
    "start_time": "2022-03-02T19:35:48.506Z"
   },
   {
    "duration": 3247,
    "start_time": "2022-03-02T19:36:04.855Z"
   },
   {
    "duration": 3417,
    "start_time": "2022-03-02T19:37:00.510Z"
   },
   {
    "duration": 3290,
    "start_time": "2022-03-02T19:37:21.330Z"
   },
   {
    "duration": 18,
    "start_time": "2022-03-02T19:38:26.706Z"
   },
   {
    "duration": 4,
    "start_time": "2022-03-02T19:41:49.930Z"
   },
   {
    "duration": 125,
    "start_time": "2022-03-02T19:44:07.848Z"
   },
   {
    "duration": 5,
    "start_time": "2022-03-02T19:44:37.642Z"
   },
   {
    "duration": 946,
    "start_time": "2022-03-02T19:44:38.260Z"
   },
   {
    "duration": 827,
    "start_time": "2022-03-02T19:44:53.365Z"
   },
   {
    "duration": 1066,
    "start_time": "2022-03-03T18:56:16.417Z"
   },
   {
    "duration": 657,
    "start_time": "2022-03-03T18:56:17.484Z"
   },
   {
    "duration": 34,
    "start_time": "2022-03-03T18:56:18.142Z"
   },
   {
    "duration": 30,
    "start_time": "2022-03-03T18:56:18.178Z"
   },
   {
    "duration": 363,
    "start_time": "2022-03-03T18:56:18.209Z"
   },
   {
    "duration": 1128,
    "start_time": "2022-03-03T18:56:17.446Z"
   },
   {
    "duration": 1119,
    "start_time": "2022-03-03T18:56:17.456Z"
   },
   {
    "duration": 1101,
    "start_time": "2022-03-03T18:56:17.475Z"
   },
   {
    "duration": 1089,
    "start_time": "2022-03-03T18:56:17.488Z"
   },
   {
    "duration": 1084,
    "start_time": "2022-03-03T18:56:17.494Z"
   },
   {
    "duration": 1079,
    "start_time": "2022-03-03T18:56:17.499Z"
   },
   {
    "duration": 1075,
    "start_time": "2022-03-03T18:56:17.504Z"
   },
   {
    "duration": 1072,
    "start_time": "2022-03-03T18:56:17.508Z"
   },
   {
    "duration": 1069,
    "start_time": "2022-03-03T18:56:17.512Z"
   },
   {
    "duration": 1065,
    "start_time": "2022-03-03T18:56:17.517Z"
   },
   {
    "duration": 1062,
    "start_time": "2022-03-03T18:56:17.520Z"
   },
   {
    "duration": 1059,
    "start_time": "2022-03-03T18:56:17.524Z"
   },
   {
    "duration": 1056,
    "start_time": "2022-03-03T18:56:17.528Z"
   },
   {
    "duration": 1053,
    "start_time": "2022-03-03T18:56:17.532Z"
   },
   {
    "duration": 1048,
    "start_time": "2022-03-03T18:56:17.538Z"
   },
   {
    "duration": 1044,
    "start_time": "2022-03-03T18:56:17.542Z"
   },
   {
    "duration": 1040,
    "start_time": "2022-03-03T18:56:17.547Z"
   },
   {
    "duration": 1038,
    "start_time": "2022-03-03T18:56:17.550Z"
   },
   {
    "duration": 1126,
    "start_time": "2022-03-03T18:57:40.851Z"
   },
   {
    "duration": 666,
    "start_time": "2022-03-03T18:57:41.978Z"
   },
   {
    "duration": 34,
    "start_time": "2022-03-03T18:57:42.646Z"
   },
   {
    "duration": 23,
    "start_time": "2022-03-03T18:57:42.682Z"
   },
   {
    "duration": 8,
    "start_time": "2022-03-03T18:57:42.706Z"
   },
   {
    "duration": 21,
    "start_time": "2022-03-03T18:57:42.716Z"
   },
   {
    "duration": 3,
    "start_time": "2022-03-03T18:57:42.739Z"
   },
   {
    "duration": 20,
    "start_time": "2022-03-03T18:57:42.744Z"
   },
   {
    "duration": 5,
    "start_time": "2022-03-03T18:57:42.765Z"
   },
   {
    "duration": 41,
    "start_time": "2022-03-03T18:57:42.771Z"
   },
   {
    "duration": 17,
    "start_time": "2022-03-03T18:57:42.813Z"
   },
   {
    "duration": 5,
    "start_time": "2022-03-03T18:57:42.831Z"
   },
   {
    "duration": 302,
    "start_time": "2022-03-03T18:57:42.837Z"
   },
   {
    "duration": 281,
    "start_time": "2022-03-03T18:57:43.140Z"
   },
   {
    "duration": 286,
    "start_time": "2022-03-03T18:57:43.422Z"
   },
   {
    "duration": 10,
    "start_time": "2022-03-03T18:57:43.710Z"
   },
   {
    "duration": 5,
    "start_time": "2022-03-03T18:57:43.721Z"
   },
   {
    "duration": 745,
    "start_time": "2022-03-03T18:57:43.727Z"
   },
   {
    "duration": 4,
    "start_time": "2022-03-03T18:57:44.474Z"
   },
   {
    "duration": 11,
    "start_time": "2022-03-03T18:57:44.479Z"
   },
   {
    "duration": 348,
    "start_time": "2022-03-03T18:57:44.491Z"
   },
   {
    "duration": 1153,
    "start_time": "2022-03-03T18:57:43.688Z"
   },
   {
    "duration": 1148,
    "start_time": "2022-03-03T18:57:43.694Z"
   },
   {
    "duration": 241,
    "start_time": "2022-03-03T18:59:14.391Z"
   },
   {
    "duration": 1047,
    "start_time": "2022-03-03T18:59:26.993Z"
   },
   {
    "duration": 661,
    "start_time": "2022-03-03T18:59:28.041Z"
   },
   {
    "duration": 35,
    "start_time": "2022-03-03T18:59:28.704Z"
   },
   {
    "duration": 7,
    "start_time": "2022-03-03T18:59:28.741Z"
   },
   {
    "duration": 7,
    "start_time": "2022-03-03T18:59:28.750Z"
   },
   {
    "duration": 55,
    "start_time": "2022-03-03T18:59:28.759Z"
   },
   {
    "duration": 3,
    "start_time": "2022-03-03T18:59:28.816Z"
   },
   {
    "duration": 19,
    "start_time": "2022-03-03T18:59:28.821Z"
   },
   {
    "duration": 4,
    "start_time": "2022-03-03T18:59:28.842Z"
   },
   {
    "duration": 10,
    "start_time": "2022-03-03T18:59:28.847Z"
   },
   {
    "duration": 48,
    "start_time": "2022-03-03T18:59:28.858Z"
   },
   {
    "duration": 5,
    "start_time": "2022-03-03T18:59:28.907Z"
   },
   {
    "duration": 288,
    "start_time": "2022-03-03T18:59:28.913Z"
   },
   {
    "duration": 282,
    "start_time": "2022-03-03T18:59:29.202Z"
   },
   {
    "duration": 282,
    "start_time": "2022-03-03T18:59:29.485Z"
   },
   {
    "duration": 10,
    "start_time": "2022-03-03T18:59:29.769Z"
   },
   {
    "duration": 4,
    "start_time": "2022-03-03T18:59:29.781Z"
   },
   {
    "duration": 770,
    "start_time": "2022-03-03T18:59:29.786Z"
   },
   {
    "duration": 5,
    "start_time": "2022-03-03T18:59:30.558Z"
   },
   {
    "duration": 41,
    "start_time": "2022-03-03T18:59:30.565Z"
   },
   {
    "duration": 326,
    "start_time": "2022-03-03T18:59:43.720Z"
   },
   {
    "duration": 231,
    "start_time": "2022-03-03T19:00:03.729Z"
   },
   {
    "duration": 236,
    "start_time": "2022-03-03T19:04:21.732Z"
   },
   {
    "duration": 1096,
    "start_time": "2022-03-03T19:04:56.045Z"
   },
   {
    "duration": 643,
    "start_time": "2022-03-03T19:04:57.143Z"
   },
   {
    "duration": 43,
    "start_time": "2022-03-03T19:04:57.788Z"
   },
   {
    "duration": 5,
    "start_time": "2022-03-03T19:04:57.833Z"
   },
   {
    "duration": 7,
    "start_time": "2022-03-03T19:04:57.839Z"
   },
   {
    "duration": 15,
    "start_time": "2022-03-03T19:04:57.848Z"
   },
   {
    "duration": 4,
    "start_time": "2022-03-03T19:04:57.865Z"
   },
   {
    "duration": 17,
    "start_time": "2022-03-03T19:04:57.906Z"
   },
   {
    "duration": 5,
    "start_time": "2022-03-03T19:04:57.925Z"
   },
   {
    "duration": 12,
    "start_time": "2022-03-03T19:04:57.931Z"
   },
   {
    "duration": 17,
    "start_time": "2022-03-03T19:04:57.944Z"
   },
   {
    "duration": 5,
    "start_time": "2022-03-03T19:04:57.962Z"
   },
   {
    "duration": 311,
    "start_time": "2022-03-03T19:04:57.968Z"
   },
   {
    "duration": 285,
    "start_time": "2022-03-03T19:04:58.281Z"
   },
   {
    "duration": 273,
    "start_time": "2022-03-03T19:04:58.568Z"
   },
   {
    "duration": 10,
    "start_time": "2022-03-03T19:04:58.843Z"
   },
   {
    "duration": 4,
    "start_time": "2022-03-03T19:04:58.854Z"
   },
   {
    "duration": 765,
    "start_time": "2022-03-03T19:04:58.860Z"
   },
   {
    "duration": 4,
    "start_time": "2022-03-03T19:04:59.627Z"
   },
   {
    "duration": 8,
    "start_time": "2022-03-03T19:04:59.632Z"
   },
   {
    "duration": 326,
    "start_time": "2022-03-03T19:04:59.642Z"
   },
   {
    "duration": 1111,
    "start_time": "2022-03-03T19:04:58.858Z"
   },
   {
    "duration": 1104,
    "start_time": "2022-03-03T19:04:58.866Z"
   },
   {
    "duration": 244,
    "start_time": "2022-03-03T19:05:37.775Z"
   },
   {
    "duration": 25,
    "start_time": "2022-03-03T19:06:03.577Z"
   },
   {
    "duration": 10,
    "start_time": "2022-03-03T19:06:18.967Z"
   },
   {
    "duration": 25,
    "start_time": "2022-03-03T19:08:56.311Z"
   },
   {
    "duration": 9,
    "start_time": "2022-03-03T19:09:04.686Z"
   },
   {
    "duration": 1127,
    "start_time": "2022-03-03T19:09:27.278Z"
   },
   {
    "duration": 607,
    "start_time": "2022-03-03T19:09:28.407Z"
   },
   {
    "duration": 33,
    "start_time": "2022-03-03T19:09:29.016Z"
   },
   {
    "duration": 5,
    "start_time": "2022-03-03T19:09:29.051Z"
   },
   {
    "duration": 4,
    "start_time": "2022-03-03T19:09:29.058Z"
   },
   {
    "duration": 48,
    "start_time": "2022-03-03T19:09:29.064Z"
   },
   {
    "duration": 4,
    "start_time": "2022-03-03T19:09:29.113Z"
   },
   {
    "duration": 20,
    "start_time": "2022-03-03T19:09:29.119Z"
   },
   {
    "duration": 4,
    "start_time": "2022-03-03T19:09:29.141Z"
   },
   {
    "duration": 10,
    "start_time": "2022-03-03T19:09:29.147Z"
   },
   {
    "duration": 49,
    "start_time": "2022-03-03T19:09:29.158Z"
   },
   {
    "duration": 5,
    "start_time": "2022-03-03T19:09:29.209Z"
   },
   {
    "duration": 295,
    "start_time": "2022-03-03T19:09:29.215Z"
   },
   {
    "duration": 285,
    "start_time": "2022-03-03T19:09:29.511Z"
   },
   {
    "duration": 267,
    "start_time": "2022-03-03T19:09:29.805Z"
   },
   {
    "duration": 10,
    "start_time": "2022-03-03T19:09:30.074Z"
   },
   {
    "duration": 19,
    "start_time": "2022-03-03T19:09:30.086Z"
   },
   {
    "duration": 758,
    "start_time": "2022-03-03T19:09:30.107Z"
   },
   {
    "duration": 4,
    "start_time": "2022-03-03T19:09:30.867Z"
   },
   {
    "duration": 40,
    "start_time": "2022-03-03T19:09:30.873Z"
   },
   {
    "duration": 13,
    "start_time": "2022-03-03T19:09:30.914Z"
   },
   {
    "duration": 372,
    "start_time": "2022-03-03T19:09:30.928Z"
   },
   {
    "duration": 1121,
    "start_time": "2022-03-03T19:09:30.181Z"
   },
   {
    "duration": 1115,
    "start_time": "2022-03-03T19:09:30.188Z"
   },
   {
    "duration": 10,
    "start_time": "2022-03-03T19:10:48.444Z"
   },
   {
    "duration": 250,
    "start_time": "2022-03-03T19:10:50.709Z"
   },
   {
    "duration": 1075,
    "start_time": "2022-03-03T19:13:04.503Z"
   },
   {
    "duration": 630,
    "start_time": "2022-03-03T19:13:05.580Z"
   },
   {
    "duration": 34,
    "start_time": "2022-03-03T19:13:06.212Z"
   },
   {
    "duration": 7,
    "start_time": "2022-03-03T19:13:06.248Z"
   },
   {
    "duration": 5,
    "start_time": "2022-03-03T19:13:06.257Z"
   },
   {
    "duration": 53,
    "start_time": "2022-03-03T19:13:06.264Z"
   },
   {
    "duration": 5,
    "start_time": "2022-03-03T19:13:06.319Z"
   },
   {
    "duration": 19,
    "start_time": "2022-03-03T19:13:06.327Z"
   },
   {
    "duration": 6,
    "start_time": "2022-03-03T19:13:06.348Z"
   },
   {
    "duration": 55,
    "start_time": "2022-03-03T19:13:06.356Z"
   },
   {
    "duration": 23,
    "start_time": "2022-03-03T19:13:06.412Z"
   },
   {
    "duration": 5,
    "start_time": "2022-03-03T19:13:06.437Z"
   },
   {
    "duration": 317,
    "start_time": "2022-03-03T19:13:06.444Z"
   },
   {
    "duration": 280,
    "start_time": "2022-03-03T19:13:06.763Z"
   },
   {
    "duration": 274,
    "start_time": "2022-03-03T19:13:07.045Z"
   },
   {
    "duration": 10,
    "start_time": "2022-03-03T19:13:07.321Z"
   },
   {
    "duration": 5,
    "start_time": "2022-03-03T19:13:07.332Z"
   },
   {
    "duration": 758,
    "start_time": "2022-03-03T19:13:07.338Z"
   },
   {
    "duration": 10,
    "start_time": "2022-03-03T19:13:08.098Z"
   },
   {
    "duration": 27,
    "start_time": "2022-03-03T19:13:08.110Z"
   },
   {
    "duration": 13,
    "start_time": "2022-03-03T19:13:08.139Z"
   },
   {
    "duration": 10,
    "start_time": "2022-03-03T19:13:08.154Z"
   },
   {
    "duration": 139,
    "start_time": "2022-03-03T19:13:08.168Z"
   },
   {
    "duration": 1930,
    "start_time": "2022-03-03T19:13:08.309Z"
   },
   {
    "duration": 1392,
    "start_time": "2022-03-03T19:13:27.314Z"
   },
   {
    "duration": 996,
    "start_time": "2022-03-03T19:15:57.947Z"
   },
   {
    "duration": 622,
    "start_time": "2022-03-03T19:15:58.945Z"
   },
   {
    "duration": 48,
    "start_time": "2022-03-03T19:15:59.569Z"
   },
   {
    "duration": 6,
    "start_time": "2022-03-03T19:15:59.619Z"
   },
   {
    "duration": 4,
    "start_time": "2022-03-03T19:15:59.627Z"
   },
   {
    "duration": 16,
    "start_time": "2022-03-03T19:15:59.633Z"
   },
   {
    "duration": 5,
    "start_time": "2022-03-03T19:15:59.651Z"
   },
   {
    "duration": 61,
    "start_time": "2022-03-03T19:15:59.659Z"
   },
   {
    "duration": 6,
    "start_time": "2022-03-03T19:15:59.723Z"
   },
   {
    "duration": 11,
    "start_time": "2022-03-03T19:15:59.731Z"
   },
   {
    "duration": 23,
    "start_time": "2022-03-03T19:15:59.744Z"
   },
   {
    "duration": 39,
    "start_time": "2022-03-03T19:15:59.768Z"
   },
   {
    "duration": 305,
    "start_time": "2022-03-03T19:15:59.809Z"
   },
   {
    "duration": 284,
    "start_time": "2022-03-03T19:16:00.116Z"
   },
   {
    "duration": 291,
    "start_time": "2022-03-03T19:16:00.405Z"
   },
   {
    "duration": 14,
    "start_time": "2022-03-03T19:16:00.698Z"
   },
   {
    "duration": 6,
    "start_time": "2022-03-03T19:16:00.713Z"
   },
   {
    "duration": 792,
    "start_time": "2022-03-03T19:16:00.721Z"
   },
   {
    "duration": 6,
    "start_time": "2022-03-03T19:16:01.515Z"
   },
   {
    "duration": 35,
    "start_time": "2022-03-03T19:16:01.523Z"
   },
   {
    "duration": 327,
    "start_time": "2022-03-03T19:16:01.559Z"
   },
   {
    "duration": 1183,
    "start_time": "2022-03-03T19:16:00.705Z"
   },
   {
    "duration": 1163,
    "start_time": "2022-03-03T19:16:00.726Z"
   },
   {
    "duration": 1155,
    "start_time": "2022-03-03T19:16:00.734Z"
   },
   {
    "duration": 3,
    "start_time": "2022-03-03T19:16:32.190Z"
   },
   {
    "duration": 652,
    "start_time": "2022-03-03T19:16:32.195Z"
   },
   {
    "duration": 33,
    "start_time": "2022-03-03T19:16:32.849Z"
   },
   {
    "duration": 24,
    "start_time": "2022-03-03T19:16:32.883Z"
   },
   {
    "duration": 6,
    "start_time": "2022-03-03T19:16:32.909Z"
   },
   {
    "duration": 14,
    "start_time": "2022-03-03T19:16:32.916Z"
   },
   {
    "duration": 3,
    "start_time": "2022-03-03T19:16:32.932Z"
   },
   {
    "duration": 19,
    "start_time": "2022-03-03T19:16:32.937Z"
   },
   {
    "duration": 4,
    "start_time": "2022-03-03T19:16:32.958Z"
   },
   {
    "duration": 46,
    "start_time": "2022-03-03T19:16:32.963Z"
   },
   {
    "duration": 19,
    "start_time": "2022-03-03T19:16:33.011Z"
   },
   {
    "duration": 6,
    "start_time": "2022-03-03T19:16:33.031Z"
   },
   {
    "duration": 301,
    "start_time": "2022-03-03T19:16:33.038Z"
   },
   {
    "duration": 293,
    "start_time": "2022-03-03T19:16:33.340Z"
   },
   {
    "duration": 279,
    "start_time": "2022-03-03T19:16:33.634Z"
   },
   {
    "duration": 11,
    "start_time": "2022-03-03T19:16:33.915Z"
   },
   {
    "duration": 5,
    "start_time": "2022-03-03T19:16:33.927Z"
   },
   {
    "duration": 710,
    "start_time": "2022-03-03T19:16:33.933Z"
   },
   {
    "duration": 4,
    "start_time": "2022-03-03T19:16:34.646Z"
   },
   {
    "duration": 31,
    "start_time": "2022-03-03T19:16:34.651Z"
   },
   {
    "duration": 2,
    "start_time": "2022-03-03T19:16:34.684Z"
   },
   {
    "duration": 24,
    "start_time": "2022-03-03T19:16:34.687Z"
   },
   {
    "duration": 96,
    "start_time": "2022-03-03T19:16:34.712Z"
   },
   {
    "duration": 2186,
    "start_time": "2022-03-03T19:16:34.810Z"
   },
   {
    "duration": 2784,
    "start_time": "2022-03-03T19:16:46.409Z"
   },
   {
    "duration": 5302,
    "start_time": "2022-03-03T19:16:57.605Z"
   },
   {
    "duration": 2267,
    "start_time": "2022-03-03T19:31:25.051Z"
   },
   {
    "duration": 1222,
    "start_time": "2022-03-04T17:26:04.579Z"
   },
   {
    "duration": 776,
    "start_time": "2022-03-04T17:26:05.803Z"
   },
   {
    "duration": 43,
    "start_time": "2022-03-04T17:26:06.581Z"
   },
   {
    "duration": 6,
    "start_time": "2022-03-04T17:26:06.626Z"
   },
   {
    "duration": 5,
    "start_time": "2022-03-04T17:26:06.634Z"
   },
   {
    "duration": 51,
    "start_time": "2022-03-04T17:26:06.640Z"
   },
   {
    "duration": 4,
    "start_time": "2022-03-04T17:26:06.693Z"
   },
   {
    "duration": 24,
    "start_time": "2022-03-04T17:26:06.700Z"
   },
   {
    "duration": 5,
    "start_time": "2022-03-04T17:26:06.727Z"
   },
   {
    "duration": 43,
    "start_time": "2022-03-04T17:26:06.734Z"
   },
   {
    "duration": 27,
    "start_time": "2022-03-04T17:26:06.779Z"
   },
   {
    "duration": 6,
    "start_time": "2022-03-04T17:26:06.809Z"
   },
   {
    "duration": 373,
    "start_time": "2022-03-04T17:26:06.816Z"
   },
   {
    "duration": 361,
    "start_time": "2022-03-04T17:26:07.190Z"
   },
   {
    "duration": 362,
    "start_time": "2022-03-04T17:26:07.553Z"
   },
   {
    "duration": 14,
    "start_time": "2022-03-04T17:26:07.917Z"
   },
   {
    "duration": 5,
    "start_time": "2022-03-04T17:26:07.932Z"
   },
   {
    "duration": 1012,
    "start_time": "2022-03-04T17:26:07.939Z"
   },
   {
    "duration": 4,
    "start_time": "2022-03-04T17:26:08.953Z"
   },
   {
    "duration": 43,
    "start_time": "2022-03-04T17:26:08.959Z"
   },
   {
    "duration": 3,
    "start_time": "2022-03-04T17:26:09.005Z"
   },
   {
    "duration": 17,
    "start_time": "2022-03-04T17:26:09.010Z"
   },
   {
    "duration": 148,
    "start_time": "2022-03-04T17:26:09.031Z"
   },
   {
    "duration": 747,
    "start_time": "2022-03-04T17:26:09.182Z"
   },
   {
    "duration": 1830,
    "start_time": "2022-03-04T17:26:08.102Z"
   },
   {
    "duration": 4,
    "start_time": "2022-03-04T17:26:30.725Z"
   },
   {
    "duration": 813,
    "start_time": "2022-03-04T17:26:30.731Z"
   },
   {
    "duration": 49,
    "start_time": "2022-03-04T17:26:31.546Z"
   },
   {
    "duration": 5,
    "start_time": "2022-03-04T17:26:31.597Z"
   },
   {
    "duration": 10,
    "start_time": "2022-03-04T17:26:31.604Z"
   },
   {
    "duration": 18,
    "start_time": "2022-03-04T17:26:31.616Z"
   },
   {
    "duration": 4,
    "start_time": "2022-03-04T17:26:31.638Z"
   },
   {
    "duration": 22,
    "start_time": "2022-03-04T17:26:31.677Z"
   },
   {
    "duration": 6,
    "start_time": "2022-03-04T17:26:31.701Z"
   },
   {
    "duration": 15,
    "start_time": "2022-03-04T17:26:31.709Z"
   },
   {
    "duration": 58,
    "start_time": "2022-03-04T17:26:31.726Z"
   },
   {
    "duration": 6,
    "start_time": "2022-03-04T17:26:31.786Z"
   },
   {
    "duration": 364,
    "start_time": "2022-03-04T17:26:31.794Z"
   },
   {
    "duration": 355,
    "start_time": "2022-03-04T17:26:32.160Z"
   },
   {
    "duration": 366,
    "start_time": "2022-03-04T17:26:32.516Z"
   },
   {
    "duration": 13,
    "start_time": "2022-03-04T17:26:32.885Z"
   },
   {
    "duration": 6,
    "start_time": "2022-03-04T17:26:32.900Z"
   },
   {
    "duration": 963,
    "start_time": "2022-03-04T17:26:32.907Z"
   },
   {
    "duration": 5,
    "start_time": "2022-03-04T17:26:33.874Z"
   },
   {
    "duration": 41,
    "start_time": "2022-03-04T17:26:33.882Z"
   },
   {
    "duration": 3,
    "start_time": "2022-03-04T17:26:33.925Z"
   },
   {
    "duration": 19,
    "start_time": "2022-03-04T17:26:33.929Z"
   },
   {
    "duration": 129,
    "start_time": "2022-03-04T17:26:33.950Z"
   },
   {
    "duration": 2711,
    "start_time": "2022-03-04T17:26:34.081Z"
   },
   {
    "duration": 129026,
    "start_time": "2022-03-04T17:26:36.794Z"
   },
   {
    "duration": 141268,
    "start_time": "2022-03-04T17:31:17.155Z"
   },
   {
    "duration": 3,
    "start_time": "2022-03-04T17:34:31.365Z"
   },
   {
    "duration": 131317,
    "start_time": "2022-03-04T17:34:33.094Z"
   },
   {
    "duration": 1166,
    "start_time": "2022-03-04T17:50:43.606Z"
   },
   {
    "duration": 769,
    "start_time": "2022-03-04T17:50:44.774Z"
   },
   {
    "duration": 53,
    "start_time": "2022-03-04T17:50:45.545Z"
   },
   {
    "duration": 8,
    "start_time": "2022-03-04T17:50:45.600Z"
   },
   {
    "duration": 7,
    "start_time": "2022-03-04T17:50:45.610Z"
   },
   {
    "duration": 22,
    "start_time": "2022-03-04T17:50:45.619Z"
   },
   {
    "duration": 37,
    "start_time": "2022-03-04T17:50:45.643Z"
   },
   {
    "duration": 23,
    "start_time": "2022-03-04T17:50:45.683Z"
   },
   {
    "duration": 6,
    "start_time": "2022-03-04T17:50:45.710Z"
   },
   {
    "duration": 13,
    "start_time": "2022-03-04T17:50:45.719Z"
   },
   {
    "duration": 66,
    "start_time": "2022-03-04T17:50:45.735Z"
   },
   {
    "duration": 7,
    "start_time": "2022-03-04T17:50:45.804Z"
   },
   {
    "duration": 403,
    "start_time": "2022-03-04T17:50:45.812Z"
   },
   {
    "duration": 351,
    "start_time": "2022-03-04T17:50:46.217Z"
   },
   {
    "duration": 353,
    "start_time": "2022-03-04T17:50:46.569Z"
   },
   {
    "duration": 12,
    "start_time": "2022-03-04T17:50:46.924Z"
   },
   {
    "duration": 4,
    "start_time": "2022-03-04T17:50:46.938Z"
   },
   {
    "duration": 1122,
    "start_time": "2022-03-04T17:50:46.944Z"
   },
   {
    "duration": 9,
    "start_time": "2022-03-04T17:50:48.068Z"
   },
   {
    "duration": 37,
    "start_time": "2022-03-04T17:50:48.078Z"
   },
   {
    "duration": 2,
    "start_time": "2022-03-04T17:50:48.117Z"
   },
   {
    "duration": 20,
    "start_time": "2022-03-04T17:50:48.121Z"
   },
   {
    "duration": 136,
    "start_time": "2022-03-04T17:50:48.143Z"
   },
   {
    "duration": 2737,
    "start_time": "2022-03-04T17:50:48.281Z"
   },
   {
    "duration": 319,
    "start_time": "2022-03-04T17:50:51.019Z"
   },
   {
    "duration": 1910,
    "start_time": "2022-03-04T17:50:49.430Z"
   },
   {
    "duration": 764758,
    "start_time": "2022-03-04T17:51:20.864Z"
   },
   {
    "duration": 1848,
    "start_time": "2022-03-04T18:04:03.776Z"
   },
   {
    "duration": 1158,
    "start_time": "2022-03-04T18:07:03.132Z"
   },
   {
    "duration": 768,
    "start_time": "2022-03-04T18:07:04.293Z"
   },
   {
    "duration": 47,
    "start_time": "2022-03-04T18:07:05.063Z"
   },
   {
    "duration": 6,
    "start_time": "2022-03-04T18:07:05.112Z"
   },
   {
    "duration": 14,
    "start_time": "2022-03-04T18:07:05.120Z"
   },
   {
    "duration": 43,
    "start_time": "2022-03-04T18:07:05.135Z"
   },
   {
    "duration": 4,
    "start_time": "2022-03-04T18:07:05.180Z"
   },
   {
    "duration": 25,
    "start_time": "2022-03-04T18:07:05.187Z"
   },
   {
    "duration": 5,
    "start_time": "2022-03-04T18:07:05.214Z"
   },
   {
    "duration": 15,
    "start_time": "2022-03-04T18:07:05.221Z"
   },
   {
    "duration": 53,
    "start_time": "2022-03-04T18:07:05.237Z"
   },
   {
    "duration": 5,
    "start_time": "2022-03-04T18:07:05.292Z"
   },
   {
    "duration": 374,
    "start_time": "2022-03-04T18:07:05.299Z"
   },
   {
    "duration": 360,
    "start_time": "2022-03-04T18:07:05.677Z"
   },
   {
    "duration": 352,
    "start_time": "2022-03-04T18:07:06.039Z"
   },
   {
    "duration": 16,
    "start_time": "2022-03-04T18:07:06.393Z"
   },
   {
    "duration": 5,
    "start_time": "2022-03-04T18:07:06.411Z"
   },
   {
    "duration": 1049,
    "start_time": "2022-03-04T18:07:06.417Z"
   },
   {
    "duration": 13,
    "start_time": "2022-03-04T18:07:07.468Z"
   },
   {
    "duration": 36,
    "start_time": "2022-03-04T18:07:07.482Z"
   },
   {
    "duration": 2,
    "start_time": "2022-03-04T18:07:07.519Z"
   },
   {
    "duration": 17,
    "start_time": "2022-03-04T18:07:07.523Z"
   },
   {
    "duration": 137,
    "start_time": "2022-03-04T18:07:07.542Z"
   },
   {
    "duration": 3029,
    "start_time": "2022-03-04T18:07:07.682Z"
   },
   {
    "duration": 72,
    "start_time": "2022-03-04T18:07:10.713Z"
   },
   {
    "duration": 76,
    "start_time": "2022-03-04T18:07:27.176Z"
   },
   {
    "duration": 82,
    "start_time": "2022-03-04T18:08:24.278Z"
   },
   {
    "duration": 11380,
    "start_time": "2022-03-04T18:08:50.542Z"
   },
   {
    "duration": 1172554,
    "start_time": "2022-03-04T18:20:39.100Z"
   },
   {
    "duration": 1167724,
    "start_time": "2022-03-04T18:45:19.804Z"
   },
   {
    "duration": 640,
    "start_time": "2022-03-04T19:05:10.926Z"
   },
   {
    "duration": 5227,
    "start_time": "2022-03-04T19:05:55.350Z"
   },
   {
    "duration": 27,
    "start_time": "2022-03-04T19:10:58.951Z"
   },
   {
    "duration": 17,
    "start_time": "2022-03-04T19:12:01.023Z"
   },
   {
    "duration": 5,
    "start_time": "2022-03-04T19:12:44.749Z"
   },
   {
    "duration": 12,
    "start_time": "2022-03-04T19:12:56.769Z"
   },
   {
    "duration": 1227,
    "start_time": "2022-03-04T19:13:37.166Z"
   },
   {
    "duration": 761,
    "start_time": "2022-03-04T19:13:38.395Z"
   },
   {
    "duration": 47,
    "start_time": "2022-03-04T19:13:39.158Z"
   },
   {
    "duration": 6,
    "start_time": "2022-03-04T19:13:39.207Z"
   },
   {
    "duration": 10,
    "start_time": "2022-03-04T19:13:39.215Z"
   },
   {
    "duration": 25,
    "start_time": "2022-03-04T19:13:39.226Z"
   },
   {
    "duration": 26,
    "start_time": "2022-03-04T19:13:39.253Z"
   },
   {
    "duration": 24,
    "start_time": "2022-03-04T19:13:39.281Z"
   },
   {
    "duration": 5,
    "start_time": "2022-03-04T19:13:39.307Z"
   },
   {
    "duration": 15,
    "start_time": "2022-03-04T19:13:39.314Z"
   },
   {
    "duration": 57,
    "start_time": "2022-03-04T19:13:39.331Z"
   },
   {
    "duration": 6,
    "start_time": "2022-03-04T19:13:39.390Z"
   },
   {
    "duration": 399,
    "start_time": "2022-03-04T19:13:39.398Z"
   },
   {
    "duration": 368,
    "start_time": "2022-03-04T19:13:39.798Z"
   },
   {
    "duration": 374,
    "start_time": "2022-03-04T19:13:40.167Z"
   },
   {
    "duration": 13,
    "start_time": "2022-03-04T19:13:40.543Z"
   },
   {
    "duration": 19,
    "start_time": "2022-03-04T19:13:40.558Z"
   },
   {
    "duration": 1086,
    "start_time": "2022-03-04T19:13:40.579Z"
   },
   {
    "duration": 10,
    "start_time": "2022-03-04T19:13:41.667Z"
   },
   {
    "duration": 15,
    "start_time": "2022-03-04T19:13:41.678Z"
   },
   {
    "duration": 7,
    "start_time": "2022-03-04T19:13:41.695Z"
   },
   {
    "duration": 24,
    "start_time": "2022-03-04T19:13:41.704Z"
   },
   {
    "duration": 51,
    "start_time": "2022-03-04T19:13:41.731Z"
   },
   {
    "duration": 2536,
    "start_time": "2022-03-04T19:13:41.784Z"
   },
   {
    "duration": 8397,
    "start_time": "2022-03-04T19:13:44.322Z"
   },
   {
    "duration": 425,
    "start_time": "2022-03-04T19:13:52.721Z"
   },
   {
    "duration": 3344,
    "start_time": "2022-03-04T19:13:53.148Z"
   },
   {
    "duration": 18,
    "start_time": "2022-03-04T19:14:44.404Z"
   },
   {
    "duration": 1244,
    "start_time": "2022-03-04T19:18:19.358Z"
   },
   {
    "duration": 793,
    "start_time": "2022-03-04T19:18:20.604Z"
   },
   {
    "duration": 49,
    "start_time": "2022-03-04T19:18:21.400Z"
   },
   {
    "duration": 30,
    "start_time": "2022-03-04T19:18:21.452Z"
   },
   {
    "duration": 6,
    "start_time": "2022-03-04T19:18:21.484Z"
   },
   {
    "duration": 24,
    "start_time": "2022-03-04T19:18:21.492Z"
   },
   {
    "duration": 4,
    "start_time": "2022-03-04T19:18:21.518Z"
   },
   {
    "duration": 58,
    "start_time": "2022-03-04T19:18:21.525Z"
   },
   {
    "duration": 7,
    "start_time": "2022-03-04T19:18:21.585Z"
   },
   {
    "duration": 11,
    "start_time": "2022-03-04T19:18:21.594Z"
   },
   {
    "duration": 28,
    "start_time": "2022-03-04T19:18:21.607Z"
   },
   {
    "duration": 7,
    "start_time": "2022-03-04T19:18:21.637Z"
   },
   {
    "duration": 412,
    "start_time": "2022-03-04T19:18:21.646Z"
   },
   {
    "duration": 372,
    "start_time": "2022-03-04T19:18:22.060Z"
   },
   {
    "duration": 392,
    "start_time": "2022-03-04T19:18:22.434Z"
   },
   {
    "duration": 14,
    "start_time": "2022-03-04T19:18:22.829Z"
   },
   {
    "duration": 5,
    "start_time": "2022-03-04T19:18:22.845Z"
   },
   {
    "duration": 1079,
    "start_time": "2022-03-04T19:18:22.852Z"
   },
   {
    "duration": 5,
    "start_time": "2022-03-04T19:18:23.933Z"
   },
   {
    "duration": 9,
    "start_time": "2022-03-04T19:18:23.940Z"
   },
   {
    "duration": 5,
    "start_time": "2022-03-04T19:18:23.951Z"
   },
   {
    "duration": 27,
    "start_time": "2022-03-04T19:18:23.958Z"
   },
   {
    "duration": 94,
    "start_time": "2022-03-04T19:18:23.988Z"
   },
   {
    "duration": 2125,
    "start_time": "2022-03-04T19:18:24.084Z"
   },
   {
    "duration": 8450,
    "start_time": "2022-03-04T19:18:26.211Z"
   },
   {
    "duration": 719943,
    "start_time": "2022-03-04T19:18:34.663Z"
   },
   {
    "duration": 597,
    "start_time": "2022-03-04T19:30:34.607Z"
   },
   {
    "duration": 3357,
    "start_time": "2022-03-04T19:30:35.206Z"
   },
   {
    "duration": 588,
    "start_time": "2022-03-04T19:30:49.212Z"
   },
   {
    "duration": 9979,
    "start_time": "2022-03-04T19:30:50.725Z"
   },
   {
    "duration": 1241,
    "start_time": "2022-03-05T15:49:41.137Z"
   },
   {
    "duration": 781,
    "start_time": "2022-03-05T15:49:42.380Z"
   },
   {
    "duration": 53,
    "start_time": "2022-03-05T15:49:43.164Z"
   },
   {
    "duration": 8,
    "start_time": "2022-03-05T15:49:43.220Z"
   },
   {
    "duration": 8,
    "start_time": "2022-03-05T15:49:43.230Z"
   },
   {
    "duration": 20,
    "start_time": "2022-03-05T15:49:43.277Z"
   },
   {
    "duration": 6,
    "start_time": "2022-03-05T15:49:43.299Z"
   },
   {
    "duration": 24,
    "start_time": "2022-03-05T15:49:43.307Z"
   },
   {
    "duration": 43,
    "start_time": "2022-03-05T15:49:43.335Z"
   },
   {
    "duration": 13,
    "start_time": "2022-03-05T15:49:43.381Z"
   },
   {
    "duration": 28,
    "start_time": "2022-03-05T15:49:43.397Z"
   },
   {
    "duration": 8,
    "start_time": "2022-03-05T15:49:43.427Z"
   },
   {
    "duration": 407,
    "start_time": "2022-03-05T15:49:43.437Z"
   },
   {
    "duration": 372,
    "start_time": "2022-03-05T15:49:43.846Z"
   },
   {
    "duration": 367,
    "start_time": "2022-03-05T15:49:44.220Z"
   },
   {
    "duration": 549,
    "start_time": "2022-03-05T15:49:44.589Z"
   },
   {
    "duration": 439,
    "start_time": "2022-03-05T15:49:54.292Z"
   },
   {
    "duration": 517,
    "start_time": "2022-03-05T15:50:08.617Z"
   },
   {
    "duration": 1252,
    "start_time": "2022-03-05T16:36:59.650Z"
   },
   {
    "duration": 774,
    "start_time": "2022-03-05T16:37:00.904Z"
   },
   {
    "duration": 47,
    "start_time": "2022-03-05T16:37:01.681Z"
   },
   {
    "duration": 33,
    "start_time": "2022-03-05T16:37:01.730Z"
   },
   {
    "duration": 6,
    "start_time": "2022-03-05T16:37:01.766Z"
   },
   {
    "duration": 26,
    "start_time": "2022-03-05T16:37:01.774Z"
   },
   {
    "duration": 5,
    "start_time": "2022-03-05T16:37:01.803Z"
   },
   {
    "duration": 51,
    "start_time": "2022-03-05T16:37:01.811Z"
   },
   {
    "duration": 7,
    "start_time": "2022-03-05T16:37:01.864Z"
   },
   {
    "duration": 13,
    "start_time": "2022-03-05T16:37:01.873Z"
   },
   {
    "duration": 27,
    "start_time": "2022-03-05T16:37:01.888Z"
   },
   {
    "duration": 6,
    "start_time": "2022-03-05T16:37:01.916Z"
   },
   {
    "duration": 385,
    "start_time": "2022-03-05T16:37:01.924Z"
   },
   {
    "duration": 350,
    "start_time": "2022-03-05T16:37:02.311Z"
   },
   {
    "duration": 350,
    "start_time": "2022-03-05T16:37:02.663Z"
   },
   {
    "duration": 505,
    "start_time": "2022-03-05T16:37:03.015Z"
   },
   {
    "duration": 432,
    "start_time": "2022-03-05T16:37:03.523Z"
   },
   {
    "duration": 449,
    "start_time": "2022-03-05T16:37:03.957Z"
   },
   {
    "duration": 541,
    "start_time": "2022-03-05T16:39:10.406Z"
   },
   {
    "duration": 536,
    "start_time": "2022-03-05T16:39:13.250Z"
   },
   {
    "duration": 570,
    "start_time": "2022-03-05T16:39:14.937Z"
   },
   {
    "duration": 1184,
    "start_time": "2022-03-05T16:42:03.364Z"
   },
   {
    "duration": 730,
    "start_time": "2022-03-05T16:42:04.550Z"
   },
   {
    "duration": 40,
    "start_time": "2022-03-05T16:42:05.282Z"
   },
   {
    "duration": 6,
    "start_time": "2022-03-05T16:42:05.324Z"
   },
   {
    "duration": 6,
    "start_time": "2022-03-05T16:42:05.359Z"
   },
   {
    "duration": 31,
    "start_time": "2022-03-05T16:42:05.367Z"
   },
   {
    "duration": 6,
    "start_time": "2022-03-05T16:42:05.400Z"
   },
   {
    "duration": 24,
    "start_time": "2022-03-05T16:42:05.409Z"
   },
   {
    "duration": 28,
    "start_time": "2022-03-05T16:42:05.435Z"
   },
   {
    "duration": 11,
    "start_time": "2022-03-05T16:42:05.465Z"
   },
   {
    "duration": 32,
    "start_time": "2022-03-05T16:42:05.478Z"
   },
   {
    "duration": 5,
    "start_time": "2022-03-05T16:42:05.512Z"
   },
   {
    "duration": 381,
    "start_time": "2022-03-05T16:42:05.519Z"
   },
   {
    "duration": 340,
    "start_time": "2022-03-05T16:42:05.902Z"
   },
   {
    "duration": 339,
    "start_time": "2022-03-05T16:42:06.244Z"
   },
   {
    "duration": 635,
    "start_time": "2022-03-05T16:42:06.584Z"
   },
   {
    "duration": 584,
    "start_time": "2022-03-05T16:42:07.220Z"
   },
   {
    "duration": 546,
    "start_time": "2022-03-05T16:42:07.806Z"
   },
   {
    "duration": 16,
    "start_time": "2022-03-05T16:42:08.353Z"
   },
   {
    "duration": 5,
    "start_time": "2022-03-05T16:42:08.370Z"
   },
   {
    "duration": 902,
    "start_time": "2022-03-05T16:42:08.377Z"
   },
   {
    "duration": 5,
    "start_time": "2022-03-05T16:42:09.280Z"
   },
   {
    "duration": 8,
    "start_time": "2022-03-05T16:42:09.288Z"
   },
   {
    "duration": 3,
    "start_time": "2022-03-05T16:42:09.298Z"
   },
   {
    "duration": 10,
    "start_time": "2022-03-05T16:42:09.303Z"
   },
   {
    "duration": 55,
    "start_time": "2022-03-05T16:42:09.315Z"
   },
   {
    "duration": 2122,
    "start_time": "2022-03-05T16:42:09.460Z"
   },
   {
    "duration": 8062,
    "start_time": "2022-03-05T16:42:11.584Z"
   },
   {
    "duration": 692730,
    "start_time": "2022-03-05T16:42:19.647Z"
   },
   {
    "duration": 609,
    "start_time": "2022-03-05T16:53:52.378Z"
   },
   {
    "duration": 9745,
    "start_time": "2022-03-05T16:53:52.989Z"
   },
   {
    "duration": 344,
    "start_time": "2022-03-05T17:06:19.947Z"
   },
   {
    "duration": 2936,
    "start_time": "2022-03-05T17:06:22.268Z"
   },
   {
    "duration": 11982,
    "start_time": "2022-03-05T17:07:28.294Z"
   },
   {
    "duration": 8066,
    "start_time": "2022-03-05T17:11:21.118Z"
   },
   {
    "duration": 338,
    "start_time": "2022-03-05T17:11:45.368Z"
   },
   {
    "duration": 601,
    "start_time": "2022-03-05T17:12:07.777Z"
   },
   {
    "duration": 10,
    "start_time": "2022-03-05T17:17:35.100Z"
   },
   {
    "duration": 349,
    "start_time": "2022-03-05T17:17:35.948Z"
   },
   {
    "duration": 419,
    "start_time": "2022-03-05T17:17:41.007Z"
   },
   {
    "duration": 334,
    "start_time": "2022-03-05T17:17:42.365Z"
   },
   {
    "duration": 318,
    "start_time": "2022-03-05T17:18:08.573Z"
   }
  ],
  "kernelspec": {
   "display_name": "Python 3",
   "language": "python",
   "name": "python3"
  },
  "language_info": {
   "codemirror_mode": {
    "name": "ipython",
    "version": 3
   },
   "file_extension": ".py",
   "mimetype": "text/x-python",
   "name": "python",
   "nbconvert_exporter": "python",
   "pygments_lexer": "ipython3",
   "version": "3.8.8"
  },
  "toc": {
   "base_numbering": 1,
   "nav_menu": {},
   "number_sections": true,
   "sideBar": true,
   "skip_h1_title": true,
   "title_cell": "Содержание",
   "title_sidebar": "Contents",
   "toc_cell": true,
   "toc_position": {
    "height": "calc(100% - 180px)",
    "left": "10px",
    "top": "150px",
    "width": "226.931px"
   },
   "toc_section_display": true,
   "toc_window_display": true
  }
 },
 "nbformat": 4,
 "nbformat_minor": 2
}
