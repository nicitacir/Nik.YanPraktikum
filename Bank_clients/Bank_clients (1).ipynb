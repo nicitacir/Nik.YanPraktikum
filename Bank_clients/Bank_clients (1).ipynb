{
 "cells": [
  {
   "cell_type": "markdown",
   "metadata": {},
   "source": [
    "# Отток клиентов"
   ]
  },
  {
   "cell_type": "markdown",
   "metadata": {},
   "source": [
    "Из «Бета-Банка» стали уходить клиенты. Каждый месяц. Немного, но заметно. Банковские маркетологи посчитали: сохранять текущих клиентов дешевле, чем привлекать новых.\n",
    "\n",
    "Нужно спрогнозировать, уйдёт клиент из банка в ближайшее время или нет. Вам предоставлены исторические данные о поведении клиентов и расторжении договоров с банком. \n",
    "\n",
    "Источник данных: [https://www.kaggle.com/barelydedicated/bank-customer-churn-modeling](https://www.kaggle.com/barelydedicated/bank-customer-churn-modeling)"
   ]
  },
  {
   "cell_type": "markdown",
   "metadata": {},
   "source": [
    "## Подготовка данных"
   ]
  },
  {
   "cell_type": "markdown",
   "metadata": {},
   "source": [
    "Импортируем все нужные библиотеки"
   ]
  },
  {
   "cell_type": "code",
   "execution_count": 1,
   "metadata": {},
   "outputs": [],
   "source": [
    "import pandas as pd\n",
    "from sklearn.metrics import f1_score\n",
    "from sklearn.model_selection import train_test_split\n",
    "from sklearn.ensemble import RandomForestClassifier\n",
    "from sklearn.tree import DecisionTreeClassifier\n",
    "from sklearn.metrics import accuracy_score\n",
    "from sklearn.linear_model import LogisticRegression\n",
    "from sklearn.dummy import DummyClassifier\n",
    "from sklearn.utils import shuffle\n",
    "import numpy as np\n",
    "from sklearn.metrics import precision_score, recall_score\n",
    "from sklearn.metrics import roc_auc_score\n",
    "from sklearn.metrics import precision_recall_curve\n",
    "import matplotlib.pyplot as plt\n",
    "from sklearn.metrics import roc_curve\n",
    "pd.set_option('display.float_format', '{:,.2f}'.format)"
   ]
  },
  {
   "cell_type": "code",
   "execution_count": 2,
   "metadata": {},
   "outputs": [],
   "source": [
    "data = pd.read_csv('/datasets/Churn.csv')"
   ]
  },
  {
   "cell_type": "code",
   "execution_count": 3,
   "metadata": {},
   "outputs": [
    {
     "data": {
      "text/html": [
       "<div>\n",
       "<style scoped>\n",
       "    .dataframe tbody tr th:only-of-type {\n",
       "        vertical-align: middle;\n",
       "    }\n",
       "\n",
       "    .dataframe tbody tr th {\n",
       "        vertical-align: top;\n",
       "    }\n",
       "\n",
       "    .dataframe thead th {\n",
       "        text-align: right;\n",
       "    }\n",
       "</style>\n",
       "<table border=\"1\" class=\"dataframe\">\n",
       "  <thead>\n",
       "    <tr style=\"text-align: right;\">\n",
       "      <th></th>\n",
       "      <th>RowNumber</th>\n",
       "      <th>CustomerId</th>\n",
       "      <th>Surname</th>\n",
       "      <th>CreditScore</th>\n",
       "      <th>Geography</th>\n",
       "      <th>Gender</th>\n",
       "      <th>Age</th>\n",
       "      <th>Tenure</th>\n",
       "      <th>Balance</th>\n",
       "      <th>NumOfProducts</th>\n",
       "      <th>HasCrCard</th>\n",
       "      <th>IsActiveMember</th>\n",
       "      <th>EstimatedSalary</th>\n",
       "      <th>Exited</th>\n",
       "    </tr>\n",
       "  </thead>\n",
       "  <tbody>\n",
       "    <tr>\n",
       "      <td>0</td>\n",
       "      <td>1</td>\n",
       "      <td>15634602</td>\n",
       "      <td>Hargrave</td>\n",
       "      <td>619</td>\n",
       "      <td>France</td>\n",
       "      <td>Female</td>\n",
       "      <td>42</td>\n",
       "      <td>2.00</td>\n",
       "      <td>0.00</td>\n",
       "      <td>1</td>\n",
       "      <td>1</td>\n",
       "      <td>1</td>\n",
       "      <td>101,348.88</td>\n",
       "      <td>1</td>\n",
       "    </tr>\n",
       "    <tr>\n",
       "      <td>1</td>\n",
       "      <td>2</td>\n",
       "      <td>15647311</td>\n",
       "      <td>Hill</td>\n",
       "      <td>608</td>\n",
       "      <td>Spain</td>\n",
       "      <td>Female</td>\n",
       "      <td>41</td>\n",
       "      <td>1.00</td>\n",
       "      <td>83,807.86</td>\n",
       "      <td>1</td>\n",
       "      <td>0</td>\n",
       "      <td>1</td>\n",
       "      <td>112,542.58</td>\n",
       "      <td>0</td>\n",
       "    </tr>\n",
       "    <tr>\n",
       "      <td>2</td>\n",
       "      <td>3</td>\n",
       "      <td>15619304</td>\n",
       "      <td>Onio</td>\n",
       "      <td>502</td>\n",
       "      <td>France</td>\n",
       "      <td>Female</td>\n",
       "      <td>42</td>\n",
       "      <td>8.00</td>\n",
       "      <td>159,660.80</td>\n",
       "      <td>3</td>\n",
       "      <td>1</td>\n",
       "      <td>0</td>\n",
       "      <td>113,931.57</td>\n",
       "      <td>1</td>\n",
       "    </tr>\n",
       "    <tr>\n",
       "      <td>3</td>\n",
       "      <td>4</td>\n",
       "      <td>15701354</td>\n",
       "      <td>Boni</td>\n",
       "      <td>699</td>\n",
       "      <td>France</td>\n",
       "      <td>Female</td>\n",
       "      <td>39</td>\n",
       "      <td>1.00</td>\n",
       "      <td>0.00</td>\n",
       "      <td>2</td>\n",
       "      <td>0</td>\n",
       "      <td>0</td>\n",
       "      <td>93,826.63</td>\n",
       "      <td>0</td>\n",
       "    </tr>\n",
       "    <tr>\n",
       "      <td>4</td>\n",
       "      <td>5</td>\n",
       "      <td>15737888</td>\n",
       "      <td>Mitchell</td>\n",
       "      <td>850</td>\n",
       "      <td>Spain</td>\n",
       "      <td>Female</td>\n",
       "      <td>43</td>\n",
       "      <td>2.00</td>\n",
       "      <td>125,510.82</td>\n",
       "      <td>1</td>\n",
       "      <td>1</td>\n",
       "      <td>1</td>\n",
       "      <td>79,084.10</td>\n",
       "      <td>0</td>\n",
       "    </tr>\n",
       "  </tbody>\n",
       "</table>\n",
       "</div>"
      ],
      "text/plain": [
       "   RowNumber  CustomerId   Surname  CreditScore Geography  Gender  Age  \\\n",
       "0          1    15634602  Hargrave          619    France  Female   42   \n",
       "1          2    15647311      Hill          608     Spain  Female   41   \n",
       "2          3    15619304      Onio          502    France  Female   42   \n",
       "3          4    15701354      Boni          699    France  Female   39   \n",
       "4          5    15737888  Mitchell          850     Spain  Female   43   \n",
       "\n",
       "   Tenure    Balance  NumOfProducts  HasCrCard  IsActiveMember  \\\n",
       "0    2.00       0.00              1          1               1   \n",
       "1    1.00  83,807.86              1          0               1   \n",
       "2    8.00 159,660.80              3          1               0   \n",
       "3    1.00       0.00              2          0               0   \n",
       "4    2.00 125,510.82              1          1               1   \n",
       "\n",
       "   EstimatedSalary  Exited  \n",
       "0       101,348.88       1  \n",
       "1       112,542.58       0  \n",
       "2       113,931.57       1  \n",
       "3        93,826.63       0  \n",
       "4        79,084.10       0  "
      ]
     },
     "metadata": {},
     "output_type": "display_data"
    },
    {
     "data": {
      "text/html": [
       "<div>\n",
       "<style scoped>\n",
       "    .dataframe tbody tr th:only-of-type {\n",
       "        vertical-align: middle;\n",
       "    }\n",
       "\n",
       "    .dataframe tbody tr th {\n",
       "        vertical-align: top;\n",
       "    }\n",
       "\n",
       "    .dataframe thead th {\n",
       "        text-align: right;\n",
       "    }\n",
       "</style>\n",
       "<table border=\"1\" class=\"dataframe\">\n",
       "  <thead>\n",
       "    <tr style=\"text-align: right;\">\n",
       "      <th></th>\n",
       "      <th>RowNumber</th>\n",
       "      <th>CustomerId</th>\n",
       "      <th>CreditScore</th>\n",
       "      <th>Age</th>\n",
       "      <th>Tenure</th>\n",
       "      <th>Balance</th>\n",
       "      <th>NumOfProducts</th>\n",
       "      <th>HasCrCard</th>\n",
       "      <th>IsActiveMember</th>\n",
       "      <th>EstimatedSalary</th>\n",
       "      <th>Exited</th>\n",
       "    </tr>\n",
       "  </thead>\n",
       "  <tbody>\n",
       "    <tr>\n",
       "      <td>count</td>\n",
       "      <td>10,000.00</td>\n",
       "      <td>10,000.00</td>\n",
       "      <td>10,000.00</td>\n",
       "      <td>10,000.00</td>\n",
       "      <td>9,091.00</td>\n",
       "      <td>10,000.00</td>\n",
       "      <td>10,000.00</td>\n",
       "      <td>10,000.00</td>\n",
       "      <td>10,000.00</td>\n",
       "      <td>10,000.00</td>\n",
       "      <td>10,000.00</td>\n",
       "    </tr>\n",
       "    <tr>\n",
       "      <td>mean</td>\n",
       "      <td>5,000.50</td>\n",
       "      <td>15,690,940.57</td>\n",
       "      <td>650.53</td>\n",
       "      <td>38.92</td>\n",
       "      <td>5.00</td>\n",
       "      <td>76,485.89</td>\n",
       "      <td>1.53</td>\n",
       "      <td>0.71</td>\n",
       "      <td>0.52</td>\n",
       "      <td>100,090.24</td>\n",
       "      <td>0.20</td>\n",
       "    </tr>\n",
       "    <tr>\n",
       "      <td>std</td>\n",
       "      <td>2,886.90</td>\n",
       "      <td>71,936.19</td>\n",
       "      <td>96.65</td>\n",
       "      <td>10.49</td>\n",
       "      <td>2.89</td>\n",
       "      <td>62,397.41</td>\n",
       "      <td>0.58</td>\n",
       "      <td>0.46</td>\n",
       "      <td>0.50</td>\n",
       "      <td>57,510.49</td>\n",
       "      <td>0.40</td>\n",
       "    </tr>\n",
       "    <tr>\n",
       "      <td>min</td>\n",
       "      <td>1.00</td>\n",
       "      <td>15,565,701.00</td>\n",
       "      <td>350.00</td>\n",
       "      <td>18.00</td>\n",
       "      <td>0.00</td>\n",
       "      <td>0.00</td>\n",
       "      <td>1.00</td>\n",
       "      <td>0.00</td>\n",
       "      <td>0.00</td>\n",
       "      <td>11.58</td>\n",
       "      <td>0.00</td>\n",
       "    </tr>\n",
       "    <tr>\n",
       "      <td>25%</td>\n",
       "      <td>2,500.75</td>\n",
       "      <td>15,628,528.25</td>\n",
       "      <td>584.00</td>\n",
       "      <td>32.00</td>\n",
       "      <td>2.00</td>\n",
       "      <td>0.00</td>\n",
       "      <td>1.00</td>\n",
       "      <td>0.00</td>\n",
       "      <td>0.00</td>\n",
       "      <td>51,002.11</td>\n",
       "      <td>0.00</td>\n",
       "    </tr>\n",
       "    <tr>\n",
       "      <td>50%</td>\n",
       "      <td>5,000.50</td>\n",
       "      <td>15,690,738.00</td>\n",
       "      <td>652.00</td>\n",
       "      <td>37.00</td>\n",
       "      <td>5.00</td>\n",
       "      <td>97,198.54</td>\n",
       "      <td>1.00</td>\n",
       "      <td>1.00</td>\n",
       "      <td>1.00</td>\n",
       "      <td>100,193.91</td>\n",
       "      <td>0.00</td>\n",
       "    </tr>\n",
       "    <tr>\n",
       "      <td>75%</td>\n",
       "      <td>7,500.25</td>\n",
       "      <td>15,753,233.75</td>\n",
       "      <td>718.00</td>\n",
       "      <td>44.00</td>\n",
       "      <td>7.00</td>\n",
       "      <td>127,644.24</td>\n",
       "      <td>2.00</td>\n",
       "      <td>1.00</td>\n",
       "      <td>1.00</td>\n",
       "      <td>149,388.25</td>\n",
       "      <td>0.00</td>\n",
       "    </tr>\n",
       "    <tr>\n",
       "      <td>max</td>\n",
       "      <td>10,000.00</td>\n",
       "      <td>15,815,690.00</td>\n",
       "      <td>850.00</td>\n",
       "      <td>92.00</td>\n",
       "      <td>10.00</td>\n",
       "      <td>250,898.09</td>\n",
       "      <td>4.00</td>\n",
       "      <td>1.00</td>\n",
       "      <td>1.00</td>\n",
       "      <td>199,992.48</td>\n",
       "      <td>1.00</td>\n",
       "    </tr>\n",
       "  </tbody>\n",
       "</table>\n",
       "</div>"
      ],
      "text/plain": [
       "       RowNumber    CustomerId  CreditScore       Age   Tenure    Balance  \\\n",
       "count  10,000.00     10,000.00    10,000.00 10,000.00 9,091.00  10,000.00   \n",
       "mean    5,000.50 15,690,940.57       650.53     38.92     5.00  76,485.89   \n",
       "std     2,886.90     71,936.19        96.65     10.49     2.89  62,397.41   \n",
       "min         1.00 15,565,701.00       350.00     18.00     0.00       0.00   \n",
       "25%     2,500.75 15,628,528.25       584.00     32.00     2.00       0.00   \n",
       "50%     5,000.50 15,690,738.00       652.00     37.00     5.00  97,198.54   \n",
       "75%     7,500.25 15,753,233.75       718.00     44.00     7.00 127,644.24   \n",
       "max    10,000.00 15,815,690.00       850.00     92.00    10.00 250,898.09   \n",
       "\n",
       "       NumOfProducts  HasCrCard  IsActiveMember  EstimatedSalary    Exited  \n",
       "count      10,000.00  10,000.00       10,000.00        10,000.00 10,000.00  \n",
       "mean            1.53       0.71            0.52       100,090.24      0.20  \n",
       "std             0.58       0.46            0.50        57,510.49      0.40  \n",
       "min             1.00       0.00            0.00            11.58      0.00  \n",
       "25%             1.00       0.00            0.00        51,002.11      0.00  \n",
       "50%             1.00       1.00            1.00       100,193.91      0.00  \n",
       "75%             2.00       1.00            1.00       149,388.25      0.00  \n",
       "max             4.00       1.00            1.00       199,992.48      1.00  "
      ]
     },
     "metadata": {},
     "output_type": "display_data"
    },
    {
     "name": "stdout",
     "output_type": "stream",
     "text": [
      "<class 'pandas.core.frame.DataFrame'>\n",
      "RangeIndex: 10000 entries, 0 to 9999\n",
      "Data columns (total 14 columns):\n",
      "RowNumber          10000 non-null int64\n",
      "CustomerId         10000 non-null int64\n",
      "Surname            10000 non-null object\n",
      "CreditScore        10000 non-null int64\n",
      "Geography          10000 non-null object\n",
      "Gender             10000 non-null object\n",
      "Age                10000 non-null int64\n",
      "Tenure             9091 non-null float64\n",
      "Balance            10000 non-null float64\n",
      "NumOfProducts      10000 non-null int64\n",
      "HasCrCard          10000 non-null int64\n",
      "IsActiveMember     10000 non-null int64\n",
      "EstimatedSalary    10000 non-null float64\n",
      "Exited             10000 non-null int64\n",
      "dtypes: float64(3), int64(8), object(3)\n",
      "memory usage: 1.1+ MB\n"
     ]
    },
    {
     "data": {
      "text/plain": [
       "None"
      ]
     },
     "metadata": {},
     "output_type": "display_data"
    }
   ],
   "source": [
    "display(data.head())\n",
    "display(data.describe())\n",
    "display(data.info())"
   ]
  },
  {
   "cell_type": "markdown",
   "metadata": {},
   "source": [
    "***Вывод***\n",
    "\n",
    "Проблемы в столбцах с предоплагаемой заработной платой,балансом и пропуски в количестве лет, пол нужно перевести в формат (1,0)\n",
    "Перевести названия столбцов нижний регистр"
   ]
  },
  {
   "cell_type": "code",
   "execution_count": 4,
   "metadata": {},
   "outputs": [],
   "source": [
    "data = data.rename(str.lower, axis='columns')\n",
    "data['balance'] = data['balance'].astype('int64')\n",
    "data['estimatedsalary'] = data['estimatedsalary'].astype('int64')\n",
    "#data['tenure'] = data['tenure'].astype('int64')"
   ]
  },
  {
   "cell_type": "code",
   "execution_count": 5,
   "metadata": {},
   "outputs": [
    {
     "data": {
      "text/html": [
       "<div>\n",
       "<style scoped>\n",
       "    .dataframe tbody tr th:only-of-type {\n",
       "        vertical-align: middle;\n",
       "    }\n",
       "\n",
       "    .dataframe tbody tr th {\n",
       "        vertical-align: top;\n",
       "    }\n",
       "\n",
       "    .dataframe thead th {\n",
       "        text-align: right;\n",
       "    }\n",
       "</style>\n",
       "<table border=\"1\" class=\"dataframe\">\n",
       "  <thead>\n",
       "    <tr style=\"text-align: right;\">\n",
       "      <th></th>\n",
       "      <th>rownumber</th>\n",
       "      <th>customerid</th>\n",
       "      <th>creditscore</th>\n",
       "      <th>age</th>\n",
       "      <th>tenure</th>\n",
       "      <th>balance</th>\n",
       "      <th>numofproducts</th>\n",
       "      <th>hascrcard</th>\n",
       "      <th>isactivemember</th>\n",
       "      <th>estimatedsalary</th>\n",
       "      <th>exited</th>\n",
       "    </tr>\n",
       "  </thead>\n",
       "  <tbody>\n",
       "    <tr>\n",
       "      <td>rownumber</td>\n",
       "      <td>1.00</td>\n",
       "      <td>0.00</td>\n",
       "      <td>0.01</td>\n",
       "      <td>0.00</td>\n",
       "      <td>-0.01</td>\n",
       "      <td>-0.01</td>\n",
       "      <td>0.01</td>\n",
       "      <td>0.00</td>\n",
       "      <td>0.01</td>\n",
       "      <td>-0.01</td>\n",
       "      <td>-0.02</td>\n",
       "    </tr>\n",
       "    <tr>\n",
       "      <td>customerid</td>\n",
       "      <td>0.00</td>\n",
       "      <td>1.00</td>\n",
       "      <td>0.01</td>\n",
       "      <td>0.01</td>\n",
       "      <td>-0.02</td>\n",
       "      <td>-0.01</td>\n",
       "      <td>0.02</td>\n",
       "      <td>-0.01</td>\n",
       "      <td>0.00</td>\n",
       "      <td>0.02</td>\n",
       "      <td>-0.01</td>\n",
       "    </tr>\n",
       "    <tr>\n",
       "      <td>creditscore</td>\n",
       "      <td>0.01</td>\n",
       "      <td>0.01</td>\n",
       "      <td>1.00</td>\n",
       "      <td>-0.00</td>\n",
       "      <td>-0.00</td>\n",
       "      <td>0.01</td>\n",
       "      <td>0.01</td>\n",
       "      <td>-0.01</td>\n",
       "      <td>0.03</td>\n",
       "      <td>-0.00</td>\n",
       "      <td>-0.03</td>\n",
       "    </tr>\n",
       "    <tr>\n",
       "      <td>age</td>\n",
       "      <td>0.00</td>\n",
       "      <td>0.01</td>\n",
       "      <td>-0.00</td>\n",
       "      <td>1.00</td>\n",
       "      <td>-0.01</td>\n",
       "      <td>0.03</td>\n",
       "      <td>-0.03</td>\n",
       "      <td>-0.01</td>\n",
       "      <td>0.09</td>\n",
       "      <td>-0.01</td>\n",
       "      <td>0.29</td>\n",
       "    </tr>\n",
       "    <tr>\n",
       "      <td>tenure</td>\n",
       "      <td>-0.01</td>\n",
       "      <td>-0.02</td>\n",
       "      <td>-0.00</td>\n",
       "      <td>-0.01</td>\n",
       "      <td>1.00</td>\n",
       "      <td>-0.01</td>\n",
       "      <td>0.01</td>\n",
       "      <td>0.03</td>\n",
       "      <td>-0.03</td>\n",
       "      <td>0.01</td>\n",
       "      <td>-0.02</td>\n",
       "    </tr>\n",
       "    <tr>\n",
       "      <td>balance</td>\n",
       "      <td>-0.01</td>\n",
       "      <td>-0.01</td>\n",
       "      <td>0.01</td>\n",
       "      <td>0.03</td>\n",
       "      <td>-0.01</td>\n",
       "      <td>1.00</td>\n",
       "      <td>-0.30</td>\n",
       "      <td>-0.01</td>\n",
       "      <td>-0.01</td>\n",
       "      <td>0.01</td>\n",
       "      <td>0.12</td>\n",
       "    </tr>\n",
       "    <tr>\n",
       "      <td>numofproducts</td>\n",
       "      <td>0.01</td>\n",
       "      <td>0.02</td>\n",
       "      <td>0.01</td>\n",
       "      <td>-0.03</td>\n",
       "      <td>0.01</td>\n",
       "      <td>-0.30</td>\n",
       "      <td>1.00</td>\n",
       "      <td>0.00</td>\n",
       "      <td>0.01</td>\n",
       "      <td>0.01</td>\n",
       "      <td>-0.05</td>\n",
       "    </tr>\n",
       "    <tr>\n",
       "      <td>hascrcard</td>\n",
       "      <td>0.00</td>\n",
       "      <td>-0.01</td>\n",
       "      <td>-0.01</td>\n",
       "      <td>-0.01</td>\n",
       "      <td>0.03</td>\n",
       "      <td>-0.01</td>\n",
       "      <td>0.00</td>\n",
       "      <td>1.00</td>\n",
       "      <td>-0.01</td>\n",
       "      <td>-0.01</td>\n",
       "      <td>-0.01</td>\n",
       "    </tr>\n",
       "    <tr>\n",
       "      <td>isactivemember</td>\n",
       "      <td>0.01</td>\n",
       "      <td>0.00</td>\n",
       "      <td>0.03</td>\n",
       "      <td>0.09</td>\n",
       "      <td>-0.03</td>\n",
       "      <td>-0.01</td>\n",
       "      <td>0.01</td>\n",
       "      <td>-0.01</td>\n",
       "      <td>1.00</td>\n",
       "      <td>-0.01</td>\n",
       "      <td>-0.16</td>\n",
       "    </tr>\n",
       "    <tr>\n",
       "      <td>estimatedsalary</td>\n",
       "      <td>-0.01</td>\n",
       "      <td>0.02</td>\n",
       "      <td>-0.00</td>\n",
       "      <td>-0.01</td>\n",
       "      <td>0.01</td>\n",
       "      <td>0.01</td>\n",
       "      <td>0.01</td>\n",
       "      <td>-0.01</td>\n",
       "      <td>-0.01</td>\n",
       "      <td>1.00</td>\n",
       "      <td>0.01</td>\n",
       "    </tr>\n",
       "    <tr>\n",
       "      <td>exited</td>\n",
       "      <td>-0.02</td>\n",
       "      <td>-0.01</td>\n",
       "      <td>-0.03</td>\n",
       "      <td>0.29</td>\n",
       "      <td>-0.02</td>\n",
       "      <td>0.12</td>\n",
       "      <td>-0.05</td>\n",
       "      <td>-0.01</td>\n",
       "      <td>-0.16</td>\n",
       "      <td>0.01</td>\n",
       "      <td>1.00</td>\n",
       "    </tr>\n",
       "  </tbody>\n",
       "</table>\n",
       "</div>"
      ],
      "text/plain": [
       "                 rownumber  customerid  creditscore   age  tenure  balance  \\\n",
       "rownumber             1.00        0.00         0.01  0.00   -0.01    -0.01   \n",
       "customerid            0.00        1.00         0.01  0.01   -0.02    -0.01   \n",
       "creditscore           0.01        0.01         1.00 -0.00   -0.00     0.01   \n",
       "age                   0.00        0.01        -0.00  1.00   -0.01     0.03   \n",
       "tenure               -0.01       -0.02        -0.00 -0.01    1.00    -0.01   \n",
       "balance              -0.01       -0.01         0.01  0.03   -0.01     1.00   \n",
       "numofproducts         0.01        0.02         0.01 -0.03    0.01    -0.30   \n",
       "hascrcard             0.00       -0.01        -0.01 -0.01    0.03    -0.01   \n",
       "isactivemember        0.01        0.00         0.03  0.09   -0.03    -0.01   \n",
       "estimatedsalary      -0.01        0.02        -0.00 -0.01    0.01     0.01   \n",
       "exited               -0.02       -0.01        -0.03  0.29   -0.02     0.12   \n",
       "\n",
       "                 numofproducts  hascrcard  isactivemember  estimatedsalary  \\\n",
       "rownumber                 0.01       0.00            0.01            -0.01   \n",
       "customerid                0.02      -0.01            0.00             0.02   \n",
       "creditscore               0.01      -0.01            0.03            -0.00   \n",
       "age                      -0.03      -0.01            0.09            -0.01   \n",
       "tenure                    0.01       0.03           -0.03             0.01   \n",
       "balance                  -0.30      -0.01           -0.01             0.01   \n",
       "numofproducts             1.00       0.00            0.01             0.01   \n",
       "hascrcard                 0.00       1.00           -0.01            -0.01   \n",
       "isactivemember            0.01      -0.01            1.00            -0.01   \n",
       "estimatedsalary           0.01      -0.01           -0.01             1.00   \n",
       "exited                   -0.05      -0.01           -0.16             0.01   \n",
       "\n",
       "                 exited  \n",
       "rownumber         -0.02  \n",
       "customerid        -0.01  \n",
       "creditscore       -0.03  \n",
       "age                0.29  \n",
       "tenure            -0.02  \n",
       "balance            0.12  \n",
       "numofproducts     -0.05  \n",
       "hascrcard         -0.01  \n",
       "isactivemember    -0.16  \n",
       "estimatedsalary    0.01  \n",
       "exited             1.00  "
      ]
     },
     "execution_count": 5,
     "metadata": {},
     "output_type": "execute_result"
    }
   ],
   "source": [
    "data.corr()#сильной связи между данными в столбцах нет\n"
   ]
  },
  {
   "cell_type": "code",
   "execution_count": 6,
   "metadata": {
    "scrolled": false
   },
   "outputs": [
    {
     "data": {
      "text/plain": [
       "<matplotlib.axes._subplots.AxesSubplot at 0x7f5e93c38cd0>"
      ]
     },
     "execution_count": 6,
     "metadata": {},
     "output_type": "execute_result"
    },
    {
     "data": {
      "image/png": "[encoded data removed]",
      "text/plain": [
       "<Figure size 432x288 with 1 Axes>"
      ]
     },
     "metadata": {
      "needs_background": "light"
     },
     "output_type": "display_data"
    },
    {
     "data": {
      "image/png": "[encoded data removed]",
      "text/plain": [
       "<Figure size 432x288 with 1 Axes>"
      ]
     },
     "metadata": {
      "needs_background": "light"
     },
     "output_type": "display_data"
    },
    {
     "data": {
      "image/png": "[encoded data removed]",
      "text/plain": [
       "<Figure size 432x288 with 1 Axes>"
      ]
     },
     "metadata": {
      "needs_background": "light"
     },
     "output_type": "display_data"
    }
   ],
   "source": [
    "plt.figure()\n",
    "data[data['tenure'].isnull()]['age'].hist()# 3 страны можно сделать также \n",
    "plt.figure()\n",
    "data['creditscore'].hist(bins = 100)#большое количество людей с максимальным кредитным рейтингом\n",
    "plt.figure()\n",
    "data['balance'].hist(bins = 100)#есть большое количество людей с балансом карты 0\n"
   ]
  },
  {
   "cell_type": "code",
   "execution_count": 8,
   "metadata": {},
   "outputs": [
    {
     "data": {
      "text/html": [
       "<div>\n",
       "<style scoped>\n",
       "    .dataframe tbody tr th:only-of-type {\n",
       "        vertical-align: middle;\n",
       "    }\n",
       "\n",
       "    .dataframe tbody tr th {\n",
       "        vertical-align: top;\n",
       "    }\n",
       "\n",
       "    .dataframe thead th {\n",
       "        text-align: right;\n",
       "    }\n",
       "</style>\n",
       "<table border=\"1\" class=\"dataframe\">\n",
       "  <thead>\n",
       "    <tr style=\"text-align: right;\">\n",
       "      <th></th>\n",
       "      <th>rownumber</th>\n",
       "      <th>customerid</th>\n",
       "      <th>surname</th>\n",
       "      <th>creditscore</th>\n",
       "      <th>geography</th>\n",
       "      <th>gender</th>\n",
       "      <th>age</th>\n",
       "      <th>tenure</th>\n",
       "      <th>balance</th>\n",
       "      <th>numofproducts</th>\n",
       "      <th>hascrcard</th>\n",
       "      <th>isactivemember</th>\n",
       "      <th>estimatedsalary</th>\n",
       "      <th>exited</th>\n",
       "    </tr>\n",
       "  </thead>\n",
       "  <tbody>\n",
       "    <tr>\n",
       "      <td>233</td>\n",
       "      <td>234</td>\n",
       "      <td>15723886</td>\n",
       "      <td>Fiore</td>\n",
       "      <td>767</td>\n",
       "      <td>Germany</td>\n",
       "      <td>Male</td>\n",
       "      <td>20</td>\n",
       "      <td>3.00</td>\n",
       "      <td>119714</td>\n",
       "      <td>2</td>\n",
       "      <td>0</td>\n",
       "      <td>1</td>\n",
       "      <td>150135</td>\n",
       "      <td>0</td>\n",
       "    </tr>\n",
       "    <tr>\n",
       "      <td>1064</td>\n",
       "      <td>1065</td>\n",
       "      <td>15699598</td>\n",
       "      <td>Smith</td>\n",
       "      <td>723</td>\n",
       "      <td>France</td>\n",
       "      <td>Female</td>\n",
       "      <td>20</td>\n",
       "      <td>4.00</td>\n",
       "      <td>0</td>\n",
       "      <td>2</td>\n",
       "      <td>1</td>\n",
       "      <td>1</td>\n",
       "      <td>140385</td>\n",
       "      <td>0</td>\n",
       "    </tr>\n",
       "    <tr>\n",
       "      <td>1327</td>\n",
       "      <td>1328</td>\n",
       "      <td>15688007</td>\n",
       "      <td>Liu</td>\n",
       "      <td>703</td>\n",
       "      <td>Spain</td>\n",
       "      <td>Male</td>\n",
       "      <td>20</td>\n",
       "      <td>3.00</td>\n",
       "      <td>165260</td>\n",
       "      <td>1</td>\n",
       "      <td>1</td>\n",
       "      <td>1</td>\n",
       "      <td>41626</td>\n",
       "      <td>0</td>\n",
       "    </tr>\n",
       "    <tr>\n",
       "      <td>1685</td>\n",
       "      <td>1686</td>\n",
       "      <td>15713826</td>\n",
       "      <td>Ferguson</td>\n",
       "      <td>613</td>\n",
       "      <td>Germany</td>\n",
       "      <td>Female</td>\n",
       "      <td>20</td>\n",
       "      <td>0.00</td>\n",
       "      <td>117356</td>\n",
       "      <td>1</td>\n",
       "      <td>0</td>\n",
       "      <td>0</td>\n",
       "      <td>113557</td>\n",
       "      <td>1</td>\n",
       "    </tr>\n",
       "    <tr>\n",
       "      <td>1730</td>\n",
       "      <td>1731</td>\n",
       "      <td>15643438</td>\n",
       "      <td>P'eng</td>\n",
       "      <td>850</td>\n",
       "      <td>France</td>\n",
       "      <td>Male</td>\n",
       "      <td>20</td>\n",
       "      <td>7.00</td>\n",
       "      <td>0</td>\n",
       "      <td>2</td>\n",
       "      <td>1</td>\n",
       "      <td>0</td>\n",
       "      <td>31288</td>\n",
       "      <td>0</td>\n",
       "    </tr>\n",
       "    <tr>\n",
       "      <td>1905</td>\n",
       "      <td>1906</td>\n",
       "      <td>15566843</td>\n",
       "      <td>Gotch</td>\n",
       "      <td>535</td>\n",
       "      <td>Germany</td>\n",
       "      <td>Male</td>\n",
       "      <td>20</td>\n",
       "      <td>9.00</td>\n",
       "      <td>134874</td>\n",
       "      <td>1</td>\n",
       "      <td>1</td>\n",
       "      <td>1</td>\n",
       "      <td>118825</td>\n",
       "      <td>0</td>\n",
       "    </tr>\n",
       "    <tr>\n",
       "      <td>2250</td>\n",
       "      <td>2251</td>\n",
       "      <td>15739576</td>\n",
       "      <td>Bustard</td>\n",
       "      <td>706</td>\n",
       "      <td>Spain</td>\n",
       "      <td>Male</td>\n",
       "      <td>20</td>\n",
       "      <td>8.00</td>\n",
       "      <td>0</td>\n",
       "      <td>2</td>\n",
       "      <td>1</td>\n",
       "      <td>1</td>\n",
       "      <td>12368</td>\n",
       "      <td>0</td>\n",
       "    </tr>\n",
       "    <tr>\n",
       "      <td>2497</td>\n",
       "      <td>2498</td>\n",
       "      <td>15748123</td>\n",
       "      <td>Chienezie</td>\n",
       "      <td>613</td>\n",
       "      <td>France</td>\n",
       "      <td>Male</td>\n",
       "      <td>20</td>\n",
       "      <td>3.00</td>\n",
       "      <td>0</td>\n",
       "      <td>2</td>\n",
       "      <td>1</td>\n",
       "      <td>1</td>\n",
       "      <td>149613</td>\n",
       "      <td>0</td>\n",
       "    </tr>\n",
       "    <tr>\n",
       "      <td>2832</td>\n",
       "      <td>2833</td>\n",
       "      <td>15758171</td>\n",
       "      <td>Tien</td>\n",
       "      <td>582</td>\n",
       "      <td>France</td>\n",
       "      <td>Male</td>\n",
       "      <td>20</td>\n",
       "      <td>4.00</td>\n",
       "      <td>0</td>\n",
       "      <td>1</td>\n",
       "      <td>1</td>\n",
       "      <td>1</td>\n",
       "      <td>55763</td>\n",
       "      <td>0</td>\n",
       "    </tr>\n",
       "    <tr>\n",
       "      <td>2945</td>\n",
       "      <td>2946</td>\n",
       "      <td>15776348</td>\n",
       "      <td>Rogers</td>\n",
       "      <td>835</td>\n",
       "      <td>Germany</td>\n",
       "      <td>Male</td>\n",
       "      <td>20</td>\n",
       "      <td>4.00</td>\n",
       "      <td>124365</td>\n",
       "      <td>1</td>\n",
       "      <td>0</td>\n",
       "      <td>0</td>\n",
       "      <td>180197</td>\n",
       "      <td>1</td>\n",
       "    </tr>\n",
       "    <tr>\n",
       "      <td>3030</td>\n",
       "      <td>3031</td>\n",
       "      <td>15725660</td>\n",
       "      <td>Dellucci</td>\n",
       "      <td>676</td>\n",
       "      <td>France</td>\n",
       "      <td>Male</td>\n",
       "      <td>20</td>\n",
       "      <td>1.00</td>\n",
       "      <td>80569</td>\n",
       "      <td>1</td>\n",
       "      <td>0</td>\n",
       "      <td>0</td>\n",
       "      <td>68621</td>\n",
       "      <td>0</td>\n",
       "    </tr>\n",
       "    <tr>\n",
       "      <td>3201</td>\n",
       "      <td>3202</td>\n",
       "      <td>15637593</td>\n",
       "      <td>Greco</td>\n",
       "      <td>722</td>\n",
       "      <td>France</td>\n",
       "      <td>Male</td>\n",
       "      <td>20</td>\n",
       "      <td>6.00</td>\n",
       "      <td>0</td>\n",
       "      <td>2</td>\n",
       "      <td>1</td>\n",
       "      <td>0</td>\n",
       "      <td>195486</td>\n",
       "      <td>0</td>\n",
       "    </tr>\n",
       "    <tr>\n",
       "      <td>3568</td>\n",
       "      <td>3569</td>\n",
       "      <td>15672970</td>\n",
       "      <td>Chigolum</td>\n",
       "      <td>714</td>\n",
       "      <td>Spain</td>\n",
       "      <td>Male</td>\n",
       "      <td>20</td>\n",
       "      <td>3.00</td>\n",
       "      <td>0</td>\n",
       "      <td>2</td>\n",
       "      <td>0</td>\n",
       "      <td>1</td>\n",
       "      <td>150465</td>\n",
       "      <td>0</td>\n",
       "    </tr>\n",
       "    <tr>\n",
       "      <td>3942</td>\n",
       "      <td>3943</td>\n",
       "      <td>15786167</td>\n",
       "      <td>Andreyeva</td>\n",
       "      <td>649</td>\n",
       "      <td>Spain</td>\n",
       "      <td>Male</td>\n",
       "      <td>20</td>\n",
       "      <td>nan</td>\n",
       "      <td>0</td>\n",
       "      <td>2</td>\n",
       "      <td>1</td>\n",
       "      <td>1</td>\n",
       "      <td>58309</td>\n",
       "      <td>0</td>\n",
       "    </tr>\n",
       "    <tr>\n",
       "      <td>4024</td>\n",
       "      <td>4025</td>\n",
       "      <td>15758073</td>\n",
       "      <td>Dellucci</td>\n",
       "      <td>655</td>\n",
       "      <td>France</td>\n",
       "      <td>Female</td>\n",
       "      <td>20</td>\n",
       "      <td>7.00</td>\n",
       "      <td>134397</td>\n",
       "      <td>1</td>\n",
       "      <td>0</td>\n",
       "      <td>0</td>\n",
       "      <td>28029</td>\n",
       "      <td>0</td>\n",
       "    </tr>\n",
       "    <tr>\n",
       "      <td>4395</td>\n",
       "      <td>4396</td>\n",
       "      <td>15790324</td>\n",
       "      <td>Green</td>\n",
       "      <td>660</td>\n",
       "      <td>France</td>\n",
       "      <td>Female</td>\n",
       "      <td>20</td>\n",
       "      <td>6.00</td>\n",
       "      <td>167685</td>\n",
       "      <td>1</td>\n",
       "      <td>1</td>\n",
       "      <td>0</td>\n",
       "      <td>57929</td>\n",
       "      <td>0</td>\n",
       "    </tr>\n",
       "    <tr>\n",
       "      <td>4571</td>\n",
       "      <td>4572</td>\n",
       "      <td>15761775</td>\n",
       "      <td>Myers</td>\n",
       "      <td>598</td>\n",
       "      <td>Germany</td>\n",
       "      <td>Male</td>\n",
       "      <td>20</td>\n",
       "      <td>8.00</td>\n",
       "      <td>180293</td>\n",
       "      <td>2</td>\n",
       "      <td>1</td>\n",
       "      <td>1</td>\n",
       "      <td>29552</td>\n",
       "      <td>0</td>\n",
       "    </tr>\n",
       "    <tr>\n",
       "      <td>4951</td>\n",
       "      <td>4952</td>\n",
       "      <td>15649793</td>\n",
       "      <td>Lovely</td>\n",
       "      <td>658</td>\n",
       "      <td>France</td>\n",
       "      <td>Male</td>\n",
       "      <td>20</td>\n",
       "      <td>7.00</td>\n",
       "      <td>0</td>\n",
       "      <td>2</td>\n",
       "      <td>0</td>\n",
       "      <td>0</td>\n",
       "      <td>187638</td>\n",
       "      <td>0</td>\n",
       "    </tr>\n",
       "    <tr>\n",
       "      <td>5097</td>\n",
       "      <td>5098</td>\n",
       "      <td>15568238</td>\n",
       "      <td>Diaz</td>\n",
       "      <td>650</td>\n",
       "      <td>Spain</td>\n",
       "      <td>Male</td>\n",
       "      <td>20</td>\n",
       "      <td>8.00</td>\n",
       "      <td>0</td>\n",
       "      <td>2</td>\n",
       "      <td>1</td>\n",
       "      <td>1</td>\n",
       "      <td>113469</td>\n",
       "      <td>0</td>\n",
       "    </tr>\n",
       "    <tr>\n",
       "      <td>5102</td>\n",
       "      <td>5103</td>\n",
       "      <td>15632899</td>\n",
       "      <td>Nwankwo</td>\n",
       "      <td>662</td>\n",
       "      <td>Spain</td>\n",
       "      <td>Male</td>\n",
       "      <td>20</td>\n",
       "      <td>9.00</td>\n",
       "      <td>104508</td>\n",
       "      <td>2</td>\n",
       "      <td>0</td>\n",
       "      <td>0</td>\n",
       "      <td>73107</td>\n",
       "      <td>0</td>\n",
       "    </tr>\n",
       "    <tr>\n",
       "      <td>5218</td>\n",
       "      <td>5219</td>\n",
       "      <td>15781505</td>\n",
       "      <td>Giordano</td>\n",
       "      <td>685</td>\n",
       "      <td>France</td>\n",
       "      <td>Male</td>\n",
       "      <td>20</td>\n",
       "      <td>4.00</td>\n",
       "      <td>104719</td>\n",
       "      <td>2</td>\n",
       "      <td>1</td>\n",
       "      <td>0</td>\n",
       "      <td>38691</td>\n",
       "      <td>0</td>\n",
       "    </tr>\n",
       "    <tr>\n",
       "      <td>5254</td>\n",
       "      <td>5255</td>\n",
       "      <td>15746664</td>\n",
       "      <td>Ts'ui</td>\n",
       "      <td>463</td>\n",
       "      <td>Spain</td>\n",
       "      <td>Male</td>\n",
       "      <td>20</td>\n",
       "      <td>8.00</td>\n",
       "      <td>204223</td>\n",
       "      <td>1</td>\n",
       "      <td>1</td>\n",
       "      <td>0</td>\n",
       "      <td>128268</td>\n",
       "      <td>0</td>\n",
       "    </tr>\n",
       "    <tr>\n",
       "      <td>5997</td>\n",
       "      <td>5998</td>\n",
       "      <td>15583033</td>\n",
       "      <td>Huguley</td>\n",
       "      <td>640</td>\n",
       "      <td>France</td>\n",
       "      <td>Female</td>\n",
       "      <td>20</td>\n",
       "      <td>4.00</td>\n",
       "      <td>0</td>\n",
       "      <td>2</td>\n",
       "      <td>0</td>\n",
       "      <td>1</td>\n",
       "      <td>78310</td>\n",
       "      <td>0</td>\n",
       "    </tr>\n",
       "    <tr>\n",
       "      <td>6244</td>\n",
       "      <td>6245</td>\n",
       "      <td>15725302</td>\n",
       "      <td>Streeton</td>\n",
       "      <td>670</td>\n",
       "      <td>Spain</td>\n",
       "      <td>Female</td>\n",
       "      <td>20</td>\n",
       "      <td>4.00</td>\n",
       "      <td>0</td>\n",
       "      <td>2</td>\n",
       "      <td>1</td>\n",
       "      <td>0</td>\n",
       "      <td>119759</td>\n",
       "      <td>0</td>\n",
       "    </tr>\n",
       "    <tr>\n",
       "      <td>6413</td>\n",
       "      <td>6414</td>\n",
       "      <td>15734765</td>\n",
       "      <td>Mahmood</td>\n",
       "      <td>739</td>\n",
       "      <td>France</td>\n",
       "      <td>Female</td>\n",
       "      <td>20</td>\n",
       "      <td>4.00</td>\n",
       "      <td>133800</td>\n",
       "      <td>1</td>\n",
       "      <td>0</td>\n",
       "      <td>1</td>\n",
       "      <td>150245</td>\n",
       "      <td>0</td>\n",
       "    </tr>\n",
       "    <tr>\n",
       "      <td>6546</td>\n",
       "      <td>6547</td>\n",
       "      <td>15633840</td>\n",
       "      <td>Henderson</td>\n",
       "      <td>781</td>\n",
       "      <td>France</td>\n",
       "      <td>Male</td>\n",
       "      <td>20</td>\n",
       "      <td>0.00</td>\n",
       "      <td>125023</td>\n",
       "      <td>2</td>\n",
       "      <td>1</td>\n",
       "      <td>1</td>\n",
       "      <td>108301</td>\n",
       "      <td>0</td>\n",
       "    </tr>\n",
       "    <tr>\n",
       "      <td>7046</td>\n",
       "      <td>7047</td>\n",
       "      <td>15737627</td>\n",
       "      <td>Rivero</td>\n",
       "      <td>589</td>\n",
       "      <td>Germany</td>\n",
       "      <td>Female</td>\n",
       "      <td>20</td>\n",
       "      <td>2.00</td>\n",
       "      <td>121093</td>\n",
       "      <td>2</td>\n",
       "      <td>1</td>\n",
       "      <td>0</td>\n",
       "      <td>3529</td>\n",
       "      <td>0</td>\n",
       "    </tr>\n",
       "    <tr>\n",
       "      <td>7390</td>\n",
       "      <td>7391</td>\n",
       "      <td>15764922</td>\n",
       "      <td>Tu</td>\n",
       "      <td>596</td>\n",
       "      <td>Spain</td>\n",
       "      <td>Male</td>\n",
       "      <td>20</td>\n",
       "      <td>nan</td>\n",
       "      <td>187294</td>\n",
       "      <td>1</td>\n",
       "      <td>1</td>\n",
       "      <td>0</td>\n",
       "      <td>103456</td>\n",
       "      <td>0</td>\n",
       "    </tr>\n",
       "    <tr>\n",
       "      <td>7451</td>\n",
       "      <td>7452</td>\n",
       "      <td>15673907</td>\n",
       "      <td>Alexander</td>\n",
       "      <td>659</td>\n",
       "      <td>France</td>\n",
       "      <td>Male</td>\n",
       "      <td>20</td>\n",
       "      <td>8.00</td>\n",
       "      <td>0</td>\n",
       "      <td>2</td>\n",
       "      <td>0</td>\n",
       "      <td>0</td>\n",
       "      <td>112572</td>\n",
       "      <td>0</td>\n",
       "    </tr>\n",
       "    <tr>\n",
       "      <td>7456</td>\n",
       "      <td>7457</td>\n",
       "      <td>15598614</td>\n",
       "      <td>Lucchesi</td>\n",
       "      <td>790</td>\n",
       "      <td>Spain</td>\n",
       "      <td>Male</td>\n",
       "      <td>20</td>\n",
       "      <td>8.00</td>\n",
       "      <td>0</td>\n",
       "      <td>2</td>\n",
       "      <td>1</td>\n",
       "      <td>0</td>\n",
       "      <td>168152</td>\n",
       "      <td>0</td>\n",
       "    </tr>\n",
       "    <tr>\n",
       "      <td>7768</td>\n",
       "      <td>7769</td>\n",
       "      <td>15726695</td>\n",
       "      <td>Hsia</td>\n",
       "      <td>601</td>\n",
       "      <td>Spain</td>\n",
       "      <td>Female</td>\n",
       "      <td>20</td>\n",
       "      <td>9.00</td>\n",
       "      <td>122446</td>\n",
       "      <td>2</td>\n",
       "      <td>1</td>\n",
       "      <td>0</td>\n",
       "      <td>86791</td>\n",
       "      <td>0</td>\n",
       "    </tr>\n",
       "    <tr>\n",
       "      <td>7847</td>\n",
       "      <td>7848</td>\n",
       "      <td>15769915</td>\n",
       "      <td>Charlton</td>\n",
       "      <td>643</td>\n",
       "      <td>Spain</td>\n",
       "      <td>Female</td>\n",
       "      <td>20</td>\n",
       "      <td>0.00</td>\n",
       "      <td>133313</td>\n",
       "      <td>1</td>\n",
       "      <td>1</td>\n",
       "      <td>1</td>\n",
       "      <td>3965</td>\n",
       "      <td>0</td>\n",
       "    </tr>\n",
       "    <tr>\n",
       "      <td>8517</td>\n",
       "      <td>8518</td>\n",
       "      <td>15671800</td>\n",
       "      <td>Robinson</td>\n",
       "      <td>688</td>\n",
       "      <td>France</td>\n",
       "      <td>Male</td>\n",
       "      <td>20</td>\n",
       "      <td>8.00</td>\n",
       "      <td>137624</td>\n",
       "      <td>2</td>\n",
       "      <td>1</td>\n",
       "      <td>1</td>\n",
       "      <td>197582</td>\n",
       "      <td>0</td>\n",
       "    </tr>\n",
       "    <tr>\n",
       "      <td>8645</td>\n",
       "      <td>8646</td>\n",
       "      <td>15669282</td>\n",
       "      <td>Uchechukwu</td>\n",
       "      <td>636</td>\n",
       "      <td>France</td>\n",
       "      <td>Female</td>\n",
       "      <td>20</td>\n",
       "      <td>10.00</td>\n",
       "      <td>124266</td>\n",
       "      <td>1</td>\n",
       "      <td>0</td>\n",
       "      <td>0</td>\n",
       "      <td>100566</td>\n",
       "      <td>0</td>\n",
       "    </tr>\n",
       "    <tr>\n",
       "      <td>9006</td>\n",
       "      <td>9007</td>\n",
       "      <td>15756118</td>\n",
       "      <td>T'ao</td>\n",
       "      <td>661</td>\n",
       "      <td>Spain</td>\n",
       "      <td>Male</td>\n",
       "      <td>20</td>\n",
       "      <td>nan</td>\n",
       "      <td>0</td>\n",
       "      <td>1</td>\n",
       "      <td>1</td>\n",
       "      <td>0</td>\n",
       "      <td>110252</td>\n",
       "      <td>0</td>\n",
       "    </tr>\n",
       "    <tr>\n",
       "      <td>9136</td>\n",
       "      <td>9137</td>\n",
       "      <td>15688984</td>\n",
       "      <td>Belonwu</td>\n",
       "      <td>595</td>\n",
       "      <td>France</td>\n",
       "      <td>Male</td>\n",
       "      <td>20</td>\n",
       "      <td>4.00</td>\n",
       "      <td>95830</td>\n",
       "      <td>1</td>\n",
       "      <td>1</td>\n",
       "      <td>0</td>\n",
       "      <td>177738</td>\n",
       "      <td>0</td>\n",
       "    </tr>\n",
       "    <tr>\n",
       "      <td>9246</td>\n",
       "      <td>9247</td>\n",
       "      <td>15682523</td>\n",
       "      <td>Chigozie</td>\n",
       "      <td>762</td>\n",
       "      <td>France</td>\n",
       "      <td>Male</td>\n",
       "      <td>20</td>\n",
       "      <td>1.00</td>\n",
       "      <td>139432</td>\n",
       "      <td>1</td>\n",
       "      <td>1</td>\n",
       "      <td>1</td>\n",
       "      <td>85606</td>\n",
       "      <td>0</td>\n",
       "    </tr>\n",
       "    <tr>\n",
       "      <td>9258</td>\n",
       "      <td>9259</td>\n",
       "      <td>15652674</td>\n",
       "      <td>Hou</td>\n",
       "      <td>539</td>\n",
       "      <td>France</td>\n",
       "      <td>Male</td>\n",
       "      <td>20</td>\n",
       "      <td>0.00</td>\n",
       "      <td>83459</td>\n",
       "      <td>1</td>\n",
       "      <td>1</td>\n",
       "      <td>1</td>\n",
       "      <td>146752</td>\n",
       "      <td>0</td>\n",
       "    </tr>\n",
       "    <tr>\n",
       "      <td>9586</td>\n",
       "      <td>9587</td>\n",
       "      <td>15786418</td>\n",
       "      <td>Chiu</td>\n",
       "      <td>546</td>\n",
       "      <td>France</td>\n",
       "      <td>Female</td>\n",
       "      <td>20</td>\n",
       "      <td>6.00</td>\n",
       "      <td>0</td>\n",
       "      <td>1</td>\n",
       "      <td>0</td>\n",
       "      <td>1</td>\n",
       "      <td>20508</td>\n",
       "      <td>0</td>\n",
       "    </tr>\n",
       "    <tr>\n",
       "      <td>9940</td>\n",
       "      <td>9941</td>\n",
       "      <td>15791972</td>\n",
       "      <td>Bergamaschi</td>\n",
       "      <td>748</td>\n",
       "      <td>France</td>\n",
       "      <td>Female</td>\n",
       "      <td>20</td>\n",
       "      <td>7.00</td>\n",
       "      <td>0</td>\n",
       "      <td>2</td>\n",
       "      <td>0</td>\n",
       "      <td>0</td>\n",
       "      <td>10792</td>\n",
       "      <td>0</td>\n",
       "    </tr>\n",
       "  </tbody>\n",
       "</table>\n",
       "</div>"
      ],
      "text/plain": [
       "      rownumber  customerid      surname  creditscore geography  gender  age  \\\n",
       "233         234    15723886        Fiore          767   Germany    Male   20   \n",
       "1064       1065    15699598        Smith          723    France  Female   20   \n",
       "1327       1328    15688007          Liu          703     Spain    Male   20   \n",
       "1685       1686    15713826     Ferguson          613   Germany  Female   20   \n",
       "1730       1731    15643438        P'eng          850    France    Male   20   \n",
       "1905       1906    15566843        Gotch          535   Germany    Male   20   \n",
       "2250       2251    15739576      Bustard          706     Spain    Male   20   \n",
       "2497       2498    15748123    Chienezie          613    France    Male   20   \n",
       "2832       2833    15758171         Tien          582    France    Male   20   \n",
       "2945       2946    15776348       Rogers          835   Germany    Male   20   \n",
       "3030       3031    15725660     Dellucci          676    France    Male   20   \n",
       "3201       3202    15637593        Greco          722    France    Male   20   \n",
       "3568       3569    15672970     Chigolum          714     Spain    Male   20   \n",
       "3942       3943    15786167    Andreyeva          649     Spain    Male   20   \n",
       "4024       4025    15758073     Dellucci          655    France  Female   20   \n",
       "4395       4396    15790324        Green          660    France  Female   20   \n",
       "4571       4572    15761775        Myers          598   Germany    Male   20   \n",
       "4951       4952    15649793       Lovely          658    France    Male   20   \n",
       "5097       5098    15568238         Diaz          650     Spain    Male   20   \n",
       "5102       5103    15632899      Nwankwo          662     Spain    Male   20   \n",
       "5218       5219    15781505     Giordano          685    France    Male   20   \n",
       "5254       5255    15746664        Ts'ui          463     Spain    Male   20   \n",
       "5997       5998    15583033      Huguley          640    France  Female   20   \n",
       "6244       6245    15725302     Streeton          670     Spain  Female   20   \n",
       "6413       6414    15734765      Mahmood          739    France  Female   20   \n",
       "6546       6547    15633840    Henderson          781    France    Male   20   \n",
       "7046       7047    15737627       Rivero          589   Germany  Female   20   \n",
       "7390       7391    15764922           Tu          596     Spain    Male   20   \n",
       "7451       7452    15673907    Alexander          659    France    Male   20   \n",
       "7456       7457    15598614     Lucchesi          790     Spain    Male   20   \n",
       "7768       7769    15726695         Hsia          601     Spain  Female   20   \n",
       "7847       7848    15769915     Charlton          643     Spain  Female   20   \n",
       "8517       8518    15671800     Robinson          688    France    Male   20   \n",
       "8645       8646    15669282   Uchechukwu          636    France  Female   20   \n",
       "9006       9007    15756118         T'ao          661     Spain    Male   20   \n",
       "9136       9137    15688984      Belonwu          595    France    Male   20   \n",
       "9246       9247    15682523     Chigozie          762    France    Male   20   \n",
       "9258       9259    15652674          Hou          539    France    Male   20   \n",
       "9586       9587    15786418         Chiu          546    France  Female   20   \n",
       "9940       9941    15791972  Bergamaschi          748    France  Female   20   \n",
       "\n",
       "      tenure  balance  numofproducts  hascrcard  isactivemember  \\\n",
       "233     3.00   119714              2          0               1   \n",
       "1064    4.00        0              2          1               1   \n",
       "1327    3.00   165260              1          1               1   \n",
       "1685    0.00   117356              1          0               0   \n",
       "1730    7.00        0              2          1               0   \n",
       "1905    9.00   134874              1          1               1   \n",
       "2250    8.00        0              2          1               1   \n",
       "2497    3.00        0              2          1               1   \n",
       "2832    4.00        0              1          1               1   \n",
       "2945    4.00   124365              1          0               0   \n",
       "3030    1.00    80569              1          0               0   \n",
       "3201    6.00        0              2          1               0   \n",
       "3568    3.00        0              2          0               1   \n",
       "3942     nan        0              2          1               1   \n",
       "4024    7.00   134397              1          0               0   \n",
       "4395    6.00   167685              1          1               0   \n",
       "4571    8.00   180293              2          1               1   \n",
       "4951    7.00        0              2          0               0   \n",
       "5097    8.00        0              2          1               1   \n",
       "5102    9.00   104508              2          0               0   \n",
       "5218    4.00   104719              2          1               0   \n",
       "5254    8.00   204223              1          1               0   \n",
       "5997    4.00        0              2          0               1   \n",
       "6244    4.00        0              2          1               0   \n",
       "6413    4.00   133800              1          0               1   \n",
       "6546    0.00   125023              2          1               1   \n",
       "7046    2.00   121093              2          1               0   \n",
       "7390     nan   187294              1          1               0   \n",
       "7451    8.00        0              2          0               0   \n",
       "7456    8.00        0              2          1               0   \n",
       "7768    9.00   122446              2          1               0   \n",
       "7847    0.00   133313              1          1               1   \n",
       "8517    8.00   137624              2          1               1   \n",
       "8645   10.00   124266              1          0               0   \n",
       "9006     nan        0              1          1               0   \n",
       "9136    4.00    95830              1          1               0   \n",
       "9246    1.00   139432              1          1               1   \n",
       "9258    0.00    83459              1          1               1   \n",
       "9586    6.00        0              1          0               1   \n",
       "9940    7.00        0              2          0               0   \n",
       "\n",
       "      estimatedsalary  exited  \n",
       "233            150135       0  \n",
       "1064           140385       0  \n",
       "1327            41626       0  \n",
       "1685           113557       1  \n",
       "1730            31288       0  \n",
       "1905           118825       0  \n",
       "2250            12368       0  \n",
       "2497           149613       0  \n",
       "2832            55763       0  \n",
       "2945           180197       1  \n",
       "3030            68621       0  \n",
       "3201           195486       0  \n",
       "3568           150465       0  \n",
       "3942            58309       0  \n",
       "4024            28029       0  \n",
       "4395            57929       0  \n",
       "4571            29552       0  \n",
       "4951           187638       0  \n",
       "5097           113469       0  \n",
       "5102            73107       0  \n",
       "5218            38691       0  \n",
       "5254           128268       0  \n",
       "5997            78310       0  \n",
       "6244           119759       0  \n",
       "6413           150245       0  \n",
       "6546           108301       0  \n",
       "7046             3529       0  \n",
       "7390           103456       0  \n",
       "7451           112572       0  \n",
       "7456           168152       0  \n",
       "7768            86791       0  \n",
       "7847             3965       0  \n",
       "8517           197582       0  \n",
       "8645           100566       0  \n",
       "9006           110252       0  \n",
       "9136           177738       0  \n",
       "9246            85606       0  \n",
       "9258           146752       0  \n",
       "9586            20508       0  \n",
       "9940            10792       0  "
      ]
     },
     "metadata": {},
     "output_type": "display_data"
    }
   ],
   "source": [
    "display(data.loc[(data['age']==20)]) #&(data['age']<= 30)]#.pivot_table(index = 'age',values = 'tenure', aggfunc = {'mean','median'})\n",
    "# очень интересно что в столбце Tenure — сколько лет человек является клиентом банка у 20 летних заполнены и 5 и 7 лет\n",
    "# возможно у них используют детские вклады либо дебетовые карты уже использовали в детском возрасте. Либо это ошибка.\n",
    "# я не вижу тут связи с возрастом поэтому заполню пропуски медианой\n",
    "data['tenure'] = data['tenure'].fillna(5)\n",
    "data['tenure'] = data['tenure'].astype('int64')"
   ]
  },
  {
   "cell_type": "code",
   "execution_count": 9,
   "metadata": {},
   "outputs": [
    {
     "name": "stdout",
     "output_type": "stream",
     "text": [
      "<class 'pandas.core.frame.DataFrame'>\n",
      "RangeIndex: 10000 entries, 0 to 9999\n",
      "Data columns (total 14 columns):\n",
      "rownumber          10000 non-null int64\n",
      "customerid         10000 non-null int64\n",
      "surname            10000 non-null object\n",
      "creditscore        10000 non-null int64\n",
      "geography          10000 non-null object\n",
      "gender             10000 non-null object\n",
      "age                10000 non-null int64\n",
      "tenure             10000 non-null int64\n",
      "balance            10000 non-null int64\n",
      "numofproducts      10000 non-null int64\n",
      "hascrcard          10000 non-null int64\n",
      "isactivemember     10000 non-null int64\n",
      "estimatedsalary    10000 non-null int64\n",
      "exited             10000 non-null int64\n",
      "dtypes: int64(11), object(3)\n",
      "memory usage: 1.1+ MB\n"
     ]
    },
    {
     "data": {
      "text/plain": [
       "None"
      ]
     },
     "metadata": {},
     "output_type": "display_data"
    },
    {
     "data": {
      "text/html": [
       "<div>\n",
       "<style scoped>\n",
       "    .dataframe tbody tr th:only-of-type {\n",
       "        vertical-align: middle;\n",
       "    }\n",
       "\n",
       "    .dataframe tbody tr th {\n",
       "        vertical-align: top;\n",
       "    }\n",
       "\n",
       "    .dataframe thead th {\n",
       "        text-align: right;\n",
       "    }\n",
       "</style>\n",
       "<table border=\"1\" class=\"dataframe\">\n",
       "  <thead>\n",
       "    <tr style=\"text-align: right;\">\n",
       "      <th></th>\n",
       "      <th>rownumber</th>\n",
       "      <th>customerid</th>\n",
       "      <th>creditscore</th>\n",
       "      <th>age</th>\n",
       "      <th>tenure</th>\n",
       "      <th>balance</th>\n",
       "      <th>numofproducts</th>\n",
       "      <th>hascrcard</th>\n",
       "      <th>isactivemember</th>\n",
       "      <th>estimatedsalary</th>\n",
       "      <th>exited</th>\n",
       "    </tr>\n",
       "  </thead>\n",
       "  <tbody>\n",
       "    <tr>\n",
       "      <td>count</td>\n",
       "      <td>10,000.00</td>\n",
       "      <td>10,000.00</td>\n",
       "      <td>10,000.00</td>\n",
       "      <td>10,000.00</td>\n",
       "      <td>10,000.00</td>\n",
       "      <td>10,000.00</td>\n",
       "      <td>10,000.00</td>\n",
       "      <td>10,000.00</td>\n",
       "      <td>10,000.00</td>\n",
       "      <td>10,000.00</td>\n",
       "      <td>10,000.00</td>\n",
       "    </tr>\n",
       "    <tr>\n",
       "      <td>mean</td>\n",
       "      <td>5,000.50</td>\n",
       "      <td>15,690,940.57</td>\n",
       "      <td>650.53</td>\n",
       "      <td>38.92</td>\n",
       "      <td>5.00</td>\n",
       "      <td>76,485.57</td>\n",
       "      <td>1.53</td>\n",
       "      <td>0.71</td>\n",
       "      <td>0.52</td>\n",
       "      <td>100,089.75</td>\n",
       "      <td>0.20</td>\n",
       "    </tr>\n",
       "    <tr>\n",
       "      <td>std</td>\n",
       "      <td>2,886.90</td>\n",
       "      <td>71,936.19</td>\n",
       "      <td>96.65</td>\n",
       "      <td>10.49</td>\n",
       "      <td>2.76</td>\n",
       "      <td>62,397.19</td>\n",
       "      <td>0.58</td>\n",
       "      <td>0.46</td>\n",
       "      <td>0.50</td>\n",
       "      <td>57,510.49</td>\n",
       "      <td>0.40</td>\n",
       "    </tr>\n",
       "    <tr>\n",
       "      <td>min</td>\n",
       "      <td>1.00</td>\n",
       "      <td>15,565,701.00</td>\n",
       "      <td>350.00</td>\n",
       "      <td>18.00</td>\n",
       "      <td>0.00</td>\n",
       "      <td>0.00</td>\n",
       "      <td>1.00</td>\n",
       "      <td>0.00</td>\n",
       "      <td>0.00</td>\n",
       "      <td>11.00</td>\n",
       "      <td>0.00</td>\n",
       "    </tr>\n",
       "    <tr>\n",
       "      <td>25%</td>\n",
       "      <td>2,500.75</td>\n",
       "      <td>15,628,528.25</td>\n",
       "      <td>584.00</td>\n",
       "      <td>32.00</td>\n",
       "      <td>3.00</td>\n",
       "      <td>0.00</td>\n",
       "      <td>1.00</td>\n",
       "      <td>0.00</td>\n",
       "      <td>0.00</td>\n",
       "      <td>51,001.75</td>\n",
       "      <td>0.00</td>\n",
       "    </tr>\n",
       "    <tr>\n",
       "      <td>50%</td>\n",
       "      <td>5,000.50</td>\n",
       "      <td>15,690,738.00</td>\n",
       "      <td>652.00</td>\n",
       "      <td>37.00</td>\n",
       "      <td>5.00</td>\n",
       "      <td>97,198.00</td>\n",
       "      <td>1.00</td>\n",
       "      <td>1.00</td>\n",
       "      <td>1.00</td>\n",
       "      <td>100,193.50</td>\n",
       "      <td>0.00</td>\n",
       "    </tr>\n",
       "    <tr>\n",
       "      <td>75%</td>\n",
       "      <td>7,500.25</td>\n",
       "      <td>15,753,233.75</td>\n",
       "      <td>718.00</td>\n",
       "      <td>44.00</td>\n",
       "      <td>7.00</td>\n",
       "      <td>127,643.75</td>\n",
       "      <td>2.00</td>\n",
       "      <td>1.00</td>\n",
       "      <td>1.00</td>\n",
       "      <td>149,387.75</td>\n",
       "      <td>0.00</td>\n",
       "    </tr>\n",
       "    <tr>\n",
       "      <td>max</td>\n",
       "      <td>10,000.00</td>\n",
       "      <td>15,815,690.00</td>\n",
       "      <td>850.00</td>\n",
       "      <td>92.00</td>\n",
       "      <td>10.00</td>\n",
       "      <td>250,898.00</td>\n",
       "      <td>4.00</td>\n",
       "      <td>1.00</td>\n",
       "      <td>1.00</td>\n",
       "      <td>199,992.00</td>\n",
       "      <td>1.00</td>\n",
       "    </tr>\n",
       "  </tbody>\n",
       "</table>\n",
       "</div>"
      ],
      "text/plain": [
       "       rownumber    customerid  creditscore       age    tenure    balance  \\\n",
       "count  10,000.00     10,000.00    10,000.00 10,000.00 10,000.00  10,000.00   \n",
       "mean    5,000.50 15,690,940.57       650.53     38.92      5.00  76,485.57   \n",
       "std     2,886.90     71,936.19        96.65     10.49      2.76  62,397.19   \n",
       "min         1.00 15,565,701.00       350.00     18.00      0.00       0.00   \n",
       "25%     2,500.75 15,628,528.25       584.00     32.00      3.00       0.00   \n",
       "50%     5,000.50 15,690,738.00       652.00     37.00      5.00  97,198.00   \n",
       "75%     7,500.25 15,753,233.75       718.00     44.00      7.00 127,643.75   \n",
       "max    10,000.00 15,815,690.00       850.00     92.00     10.00 250,898.00   \n",
       "\n",
       "       numofproducts  hascrcard  isactivemember  estimatedsalary    exited  \n",
       "count      10,000.00  10,000.00       10,000.00        10,000.00 10,000.00  \n",
       "mean            1.53       0.71            0.52       100,089.75      0.20  \n",
       "std             0.58       0.46            0.50        57,510.49      0.40  \n",
       "min             1.00       0.00            0.00            11.00      0.00  \n",
       "25%             1.00       0.00            0.00        51,001.75      0.00  \n",
       "50%             1.00       1.00            1.00       100,193.50      0.00  \n",
       "75%             2.00       1.00            1.00       149,387.75      0.00  \n",
       "max             4.00       1.00            1.00       199,992.00      1.00  "
      ]
     },
     "execution_count": 9,
     "metadata": {},
     "output_type": "execute_result"
    }
   ],
   "source": [
    "display(data.info())\n",
    "data.describe()"
   ]
  },
  {
   "cell_type": "markdown",
   "metadata": {},
   "source": [
    "Нужно преобразовать категориальные признаки в численные с помощью техники прямого кодирования. \n",
    "Подготовим данные для анализа выделим обучающую, тестовую и валидационную выборку. \n",
    "Выделим признаки и целевой признак. "
   ]
  },
  {
   "cell_type": "code",
   "execution_count": 11,
   "metadata": {},
   "outputs": [
    {
     "data": {
      "text/html": [
       "<div>\n",
       "<style scoped>\n",
       "    .dataframe tbody tr th:only-of-type {\n",
       "        vertical-align: middle;\n",
       "    }\n",
       "\n",
       "    .dataframe tbody tr th {\n",
       "        vertical-align: top;\n",
       "    }\n",
       "\n",
       "    .dataframe thead th {\n",
       "        text-align: right;\n",
       "    }\n",
       "</style>\n",
       "<table border=\"1\" class=\"dataframe\">\n",
       "  <thead>\n",
       "    <tr style=\"text-align: right;\">\n",
       "      <th></th>\n",
       "      <th>creditscore</th>\n",
       "      <th>age</th>\n",
       "      <th>tenure</th>\n",
       "      <th>balance</th>\n",
       "      <th>numofproducts</th>\n",
       "      <th>hascrcard</th>\n",
       "      <th>isactivemember</th>\n",
       "      <th>estimatedsalary</th>\n",
       "      <th>exited</th>\n",
       "      <th>geography_Germany</th>\n",
       "      <th>geography_Spain</th>\n",
       "      <th>gender_Male</th>\n",
       "    </tr>\n",
       "  </thead>\n",
       "  <tbody>\n",
       "    <tr>\n",
       "      <td>0</td>\n",
       "      <td>619</td>\n",
       "      <td>42</td>\n",
       "      <td>2</td>\n",
       "      <td>0</td>\n",
       "      <td>1</td>\n",
       "      <td>1</td>\n",
       "      <td>1</td>\n",
       "      <td>101348</td>\n",
       "      <td>1</td>\n",
       "      <td>0</td>\n",
       "      <td>0</td>\n",
       "      <td>0</td>\n",
       "    </tr>\n",
       "    <tr>\n",
       "      <td>1</td>\n",
       "      <td>608</td>\n",
       "      <td>41</td>\n",
       "      <td>1</td>\n",
       "      <td>83807</td>\n",
       "      <td>1</td>\n",
       "      <td>0</td>\n",
       "      <td>1</td>\n",
       "      <td>112542</td>\n",
       "      <td>0</td>\n",
       "      <td>0</td>\n",
       "      <td>1</td>\n",
       "      <td>0</td>\n",
       "    </tr>\n",
       "    <tr>\n",
       "      <td>2</td>\n",
       "      <td>502</td>\n",
       "      <td>42</td>\n",
       "      <td>8</td>\n",
       "      <td>159660</td>\n",
       "      <td>3</td>\n",
       "      <td>1</td>\n",
       "      <td>0</td>\n",
       "      <td>113931</td>\n",
       "      <td>1</td>\n",
       "      <td>0</td>\n",
       "      <td>0</td>\n",
       "      <td>0</td>\n",
       "    </tr>\n",
       "    <tr>\n",
       "      <td>3</td>\n",
       "      <td>699</td>\n",
       "      <td>39</td>\n",
       "      <td>1</td>\n",
       "      <td>0</td>\n",
       "      <td>2</td>\n",
       "      <td>0</td>\n",
       "      <td>0</td>\n",
       "      <td>93826</td>\n",
       "      <td>0</td>\n",
       "      <td>0</td>\n",
       "      <td>0</td>\n",
       "      <td>0</td>\n",
       "    </tr>\n",
       "    <tr>\n",
       "      <td>4</td>\n",
       "      <td>850</td>\n",
       "      <td>43</td>\n",
       "      <td>2</td>\n",
       "      <td>125510</td>\n",
       "      <td>1</td>\n",
       "      <td>1</td>\n",
       "      <td>1</td>\n",
       "      <td>79084</td>\n",
       "      <td>0</td>\n",
       "      <td>0</td>\n",
       "      <td>1</td>\n",
       "      <td>0</td>\n",
       "    </tr>\n",
       "  </tbody>\n",
       "</table>\n",
       "</div>"
      ],
      "text/plain": [
       "   creditscore  age  tenure  balance  numofproducts  hascrcard  \\\n",
       "0          619   42       2        0              1          1   \n",
       "1          608   41       1    83807              1          0   \n",
       "2          502   42       8   159660              3          1   \n",
       "3          699   39       1        0              2          0   \n",
       "4          850   43       2   125510              1          1   \n",
       "\n",
       "   isactivemember  estimatedsalary  exited  geography_Germany  \\\n",
       "0               1           101348       1                  0   \n",
       "1               1           112542       0                  0   \n",
       "2               0           113931       1                  0   \n",
       "3               0            93826       0                  0   \n",
       "4               1            79084       0                  0   \n",
       "\n",
       "   geography_Spain  gender_Male  \n",
       "0                0            0  \n",
       "1                1            0  \n",
       "2                0            0  \n",
       "3                0            0  \n",
       "4                1            0  "
      ]
     },
     "metadata": {},
     "output_type": "display_data"
    }
   ],
   "source": [
    "data_ml = data.drop(['rownumber','customerid','surname'], axis = 1)#удалим столбцы которые нам не нужны для построение моделей обучения\n",
    "data_ml = pd.get_dummies(data_ml, drop_first=True)#уберем столбцы,чтобы избежать дамми лавушки\n",
    "display(data_ml.head())\n",
    "target = data_ml['exited']#выделим целевой признак\n",
    "features = data_ml.drop('exited', axis=1)#выделим признаки"
   ]
  },
  {
   "cell_type": "code",
   "execution_count": 12,
   "metadata": {},
   "outputs": [],
   "source": [
    "features_train, features_valid_0, target_train, target_valid_0  = train_test_split(features, target, test_size=0.40, random_state=12345) #  разделите данные на обучающую и валидационную выборки(которую разобьем на валидационную и тестовую выборки)\n",
    "features_valid, features_test, target_valid, target_test  = train_test_split(features_valid_0, target_valid_0, test_size=0.50, random_state=12345)"
   ]
  },
  {
   "cell_type": "code",
   "execution_count": 13,
   "metadata": {
    "scrolled": true
   },
   "outputs": [
    {
     "data": {
      "text/plain": [
       "0    7963\n",
       "1    2037\n",
       "Name: exited, dtype: int64"
      ]
     },
     "execution_count": 13,
     "metadata": {},
     "output_type": "execute_result"
    }
   ],
   "source": [
    "target.value_counts()# виден дисбаланс классов, 80/20. Но сначала построим модель без учета баланса"
   ]
  },
  {
   "cell_type": "code",
   "execution_count": 14,
   "metadata": {},
   "outputs": [
    {
     "data": {
      "text/plain": [
       "0   0.79\n",
       "1   0.21\n",
       "Name: exited, dtype: float64"
      ]
     },
     "execution_count": 14,
     "metadata": {},
     "output_type": "execute_result"
    }
   ],
   "source": [
    "target_valid.value_counts(normalize=True)"
   ]
  },
  {
   "cell_type": "code",
   "execution_count": 15,
   "metadata": {
    "scrolled": true
   },
   "outputs": [
    {
     "data": {
      "text/plain": [
       "(6000, 11)"
      ]
     },
     "metadata": {},
     "output_type": "display_data"
    },
    {
     "data": {
      "text/plain": [
       "(6000,)"
      ]
     },
     "metadata": {},
     "output_type": "display_data"
    },
    {
     "data": {
      "text/plain": [
       "(2000, 11)"
      ]
     },
     "metadata": {},
     "output_type": "display_data"
    },
    {
     "data": {
      "text/plain": [
       "(2000,)"
      ]
     },
     "metadata": {},
     "output_type": "display_data"
    },
    {
     "data": {
      "text/plain": [
       "(2000, 11)"
      ]
     },
     "metadata": {},
     "output_type": "display_data"
    },
    {
     "data": {
      "text/plain": [
       "(2000,)"
      ]
     },
     "metadata": {},
     "output_type": "display_data"
    }
   ],
   "source": [
    "sd = [features_train, target_train,features_valid, target_valid,features_test, target_test]\n",
    "\n",
    "for s in sd:\n",
    "    display(s.shape)#размеры датасетов остались такими же,ничего не потеряли"
   ]
  },
  {
   "cell_type": "markdown",
   "metadata": {},
   "source": [
    "***Вывод*** \n",
    "\n",
    "Ознакомился с данными, устранил пропуски в данных,перевел названия столбцов в нижний регистр,преобразовал категориальные признаки в численные с помощью техники прямого кодирования. \n",
    "Подготовил данные для анализа выделил обучающую, тестовую и валидационную выборку. \n",
    "Выделил признаки и целевой признак. "
   ]
  },
  {
   "cell_type": "markdown",
   "metadata": {},
   "source": [
    "## Исследование задачи"
   ]
  },
  {
   "cell_type": "markdown",
   "metadata": {},
   "source": [
    "Построим модель логистической регрессии без учета дисбаланса классов"
   ]
  },
  {
   "cell_type": "code",
   "execution_count": 16,
   "metadata": {},
   "outputs": [
    {
     "name": "stderr",
     "output_type": "stream",
     "text": [
      "/opt/conda/lib/python3.7/site-packages/sklearn/linear_model/logistic.py:432: FutureWarning: Default solver will be changed to 'lbfgs' in 0.22. Specify a solver to silence this warning.\n",
      "  FutureWarning)\n"
     ]
    },
    {
     "data": {
      "text/plain": [
       "'Accuracy:'"
      ]
     },
     "metadata": {},
     "output_type": "display_data"
    },
    {
     "data": {
      "text/plain": [
       "0.7815"
      ]
     },
     "metadata": {},
     "output_type": "display_data"
    },
    {
     "data": {
      "text/plain": [
       "'F1:'"
      ]
     },
     "metadata": {},
     "output_type": "display_data"
    },
    {
     "data": {
      "text/plain": [
       "0.08385744234800838"
      ]
     },
     "metadata": {},
     "output_type": "display_data"
    }
   ],
   "source": [
    "model = LogisticRegression(random_state = 12345)\n",
    "model.fit(features_train, target_train)\n",
    "\n",
    "predicted_valid = model.predict(features_valid)\n",
    "\n",
    "accuracy_valid = model.score(features_valid, target_valid)\n",
    "display(\"Accuracy:\",accuracy_valid)\n",
    "\n",
    "display(\"F1:\",f1_score(target_valid, predicted_valid))"
   ]
  },
  {
   "cell_type": "code",
   "execution_count": 17,
   "metadata": {},
   "outputs": [
    {
     "data": {
      "text/plain": [
       "0.0295"
      ]
     },
     "execution_count": 17,
     "metadata": {},
     "output_type": "execute_result"
    }
   ],
   "source": [
    "x = predicted_valid.sum()/len(predicted_valid)\n",
    "x"
   ]
  },
  {
   "cell_type": "code",
   "execution_count": 18,
   "metadata": {},
   "outputs": [
    {
     "data": {
      "text/plain": [
       "'F1:'"
      ]
     },
     "metadata": {},
     "output_type": "display_data"
    },
    {
     "data": {
      "text/plain": [
       "0.5036319612590799"
      ]
     },
     "metadata": {},
     "output_type": "display_data"
    }
   ],
   "source": [
    "model = DecisionTreeClassifier(random_state=12345)\n",
    "model.fit(features_train, target_train)\n",
    "predicted_valid = model.predict(features_valid)\n",
    "display(\"F1:\",f1_score(target_valid, predicted_valid))"
   ]
  },
  {
   "cell_type": "code",
   "execution_count": 19,
   "metadata": {},
   "outputs": [
    {
     "data": {
      "text/plain": [
       "'F1:'"
      ]
     },
     "metadata": {},
     "output_type": "display_data"
    },
    {
     "data": {
      "text/plain": [
       "0.5745682888540031"
      ]
     },
     "metadata": {},
     "output_type": "display_data"
    }
   ],
   "source": [
    "model = RandomForestClassifier(random_state=12345, n_estimators= 40,max_depth=9) \n",
    "model.fit(features_train,target_train) \n",
    "predicted_valid = model.predict(features_valid)\n",
    "display(\"F1:\",f1_score(target_valid, predicted_valid))"
   ]
  },
  {
   "cell_type": "markdown",
   "metadata": {},
   "source": [
    "***ВЫВОД***\n",
    "\n",
    "Модель получает acuuracy 80% за счет того,что она просто чаще всего предсказывает что клиент останется(97,7%) проставляя 0, что в итоге из за сильного дисбаланса классов демонстрирует относительно высокую точность. Такая метрика не рабочая, нужно использовать другие метрики/\n",
    "\n",
    "Если не работать с дисбалансом классов то лучшая f1 мера получается на модели случайного леса(0,57)"
   ]
  },
  {
   "cell_type": "markdown",
   "metadata": {},
   "source": [
    "## Борьба с дисбалансом"
   ]
  },
  {
   "cell_type": "markdown",
   "metadata": {},
   "source": [
    "Посмотрим метрику f1 при взвешивании классов, увеличение выборки, уменьшение выборки. Рассмотрим на модели логистической регрессии как самой быстро наистраиваемой"
   ]
  },
  {
   "cell_type": "markdown",
   "metadata": {},
   "source": [
    "Взвешивание классов"
   ]
  },
  {
   "cell_type": "code",
   "execution_count": 20,
   "metadata": {
    "scrolled": true
   },
   "outputs": [
    {
     "data": {
      "text/plain": [
       "'F1:'"
      ]
     },
     "metadata": {},
     "output_type": "display_data"
    },
    {
     "data": {
      "text/plain": [
       "0.45176848874598063"
      ]
     },
     "metadata": {},
     "output_type": "display_data"
    }
   ],
   "source": [
    "model = LogisticRegression(random_state=12345, solver='liblinear', class_weight='balanced')\n",
    "model.fit(features_train, target_train)\n",
    "predicted_valid = model.predict(features_valid)\n",
    "display(\"F1:\", f1_score(target_valid, predicted_valid))"
   ]
  },
  {
   "cell_type": "markdown",
   "metadata": {},
   "source": [
    "Увеличение выборки"
   ]
  },
  {
   "cell_type": "code",
   "execution_count": 21,
   "metadata": {},
   "outputs": [
    {
     "data": {
      "text/plain": [
       "'F1:'"
      ]
     },
     "metadata": {},
     "output_type": "display_data"
    },
    {
     "data": {
      "text/plain": [
       "0.4512489927477841"
      ]
     },
     "metadata": {},
     "output_type": "display_data"
    }
   ],
   "source": [
    "def upsample(features, target, repeat):\n",
    "    features_zeros = features[target == 0]\n",
    "    features_ones = features[target == 1]\n",
    "    target_zeros = target[target == 0]\n",
    "    target_ones = target[target == 1]\n",
    "\n",
    "    features_upsampled = pd.concat([features_zeros] + [features_ones] * repeat)\n",
    "    target_upsampled = pd.concat([target_zeros] + [target_ones] * repeat)\n",
    "    \n",
    "    features_upsampled, target_upsampled = shuffle(\n",
    "        features_upsampled, target_upsampled, random_state=12345)\n",
    "    \n",
    "    return features_upsampled, target_upsampled\n",
    "\n",
    "features_upsampled, target_upsampled = upsample(features_train, target_train, 4)\n",
    "\n",
    "model = LogisticRegression(random_state = 12345,solver='liblinear')\n",
    "model.fit(features_upsampled, target_upsampled)\n",
    "predicted_valid = model.predict(features_valid)\n",
    "\n",
    "\n",
    "display(\"F1:\", f1_score(target_valid, predicted_valid))"
   ]
  },
  {
   "cell_type": "markdown",
   "metadata": {},
   "source": [
    "Уменьшение выборки"
   ]
  },
  {
   "cell_type": "code",
   "execution_count": 22,
   "metadata": {},
   "outputs": [
    {
     "data": {
      "text/plain": [
       "'F1:'"
      ]
     },
     "metadata": {},
     "output_type": "display_data"
    },
    {
     "data": {
      "text/plain": [
       "0.41570438799076215"
      ]
     },
     "metadata": {},
     "output_type": "display_data"
    }
   ],
   "source": [
    "def downsample(features, target, fraction):\n",
    "    features_zeros = features[target == 0]\n",
    "    features_ones = features[target == 1]\n",
    "    target_zeros = target[target == 0]\n",
    "    target_ones = target[target == 1]\n",
    "\n",
    "    features_downsampled = pd.concat(\n",
    "        [features_zeros.sample(frac=fraction, random_state=12345)] + [features_ones])\n",
    "    target_downsampled = pd.concat(\n",
    "        [target_zeros.sample(frac=fraction, random_state=12345)] + [target_ones])\n",
    "    \n",
    "    features_downsampled, target_downsampled = shuffle(\n",
    "        features_downsampled, target_downsampled, random_state=12345)\n",
    "    \n",
    "    return features_downsampled, target_downsampled\n",
    "\n",
    "features_downsampled, target_downsampled = downsample(features_train, target_train, 0.4)\n",
    "\n",
    "model = LogisticRegression(random_state = 12345,solver='liblinear')\n",
    "\n",
    "model.fit(features_downsampled, target_downsampled)\n",
    "predicted_valid = model.predict(features_valid)\n",
    "\n",
    "\n",
    "display(\"F1:\", f1_score(target_valid, predicted_valid))"
   ]
  },
  {
   "cell_type": "markdown",
   "metadata": {},
   "source": [
    "Лучшие результаты получились у модели с балансировкой класса ее и будем усовершенствовать\n"
   ]
  },
  {
   "cell_type": "code",
   "execution_count": 23,
   "metadata": {
    "scrolled": true
   },
   "outputs": [
    {
     "data": {
      "text/plain": [
       "'f1 наилучшей модели на валидационной выборке:'"
      ]
     },
     "metadata": {},
     "output_type": "display_data"
    },
    {
     "data": {
      "text/plain": [
       "0.6348837209302326"
      ]
     },
     "metadata": {},
     "output_type": "display_data"
    },
    {
     "data": {
      "text/plain": [
       "'Наилучшее количество деревьев в модели на валидационной выборке:'"
      ]
     },
     "metadata": {},
     "output_type": "display_data"
    },
    {
     "data": {
      "text/plain": [
       "40"
      ]
     },
     "metadata": {},
     "output_type": "display_data"
    },
    {
     "data": {
      "text/plain": [
       "'Наилучшая максимальной глубиной на валидационной выборке:'"
      ]
     },
     "metadata": {},
     "output_type": "display_data"
    },
    {
     "data": {
      "text/plain": [
       "9"
      ]
     },
     "metadata": {},
     "output_type": "display_data"
    },
    {
     "data": {
      "text/plain": [
       "RandomForestClassifier(bootstrap=True, class_weight='balanced',\n",
       "                       criterion='gini', max_depth=9, max_features='auto',\n",
       "                       max_leaf_nodes=None, min_impurity_decrease=0.0,\n",
       "                       min_impurity_split=None, min_samples_leaf=1,\n",
       "                       min_samples_split=2, min_weight_fraction_leaf=0.0,\n",
       "                       n_estimators=40, n_jobs=None, oob_score=False,\n",
       "                       random_state=12345, verbose=0, warm_start=False)"
      ]
     },
     "metadata": {},
     "output_type": "display_data"
    }
   ],
   "source": [
    "best_indicator = None\n",
    "best_model = None\n",
    "best_f1 = 0\n",
    "best_est = 0\n",
    "best_depth = 0\n",
    "\n",
    "\n",
    "\n",
    "for est in range(10, 51, 10):\n",
    "    for depth in range (1, 11):\n",
    "        model = RandomForestClassifier(random_state=12345, n_estimators= est,max_depth=depth, class_weight='balanced') # обучим модель с заданным количеством деревьев\n",
    "        model.fit(features_train,target_train) # обучим модель на тренировочной выборке\n",
    "        predicted_valid = model.predict(features_valid)\n",
    "        f1 = f1_score(target_valid, predicted_valid) # посчитаем качество модели на валидационной выборке\n",
    "        if f1 > best_f1:\n",
    "            best_model = model# сохранм наилучшую модель\n",
    "            best_f1 = f1#  сохраним наилучшее значение метрики accuracy на валидационных данных\n",
    "            best_est = est # сохраним лучшее количество дереьвьев в модели\n",
    "            best_depth = depth\n",
    "                \n",
    "\n",
    "                \n",
    "display(\"f1 наилучшей модели на валидационной выборке:\", best_f1)\n",
    "display(\"Наилучшее количество деревьев в модели на валидационной выборке:\", best_est)\n",
    "display(\"Наилучшая максимальной глубиной на валидационной выборке:\", best_depth)\n",
    "\n",
    "\n",
    "\n",
    "display(best_model)"
   ]
  },
  {
   "cell_type": "code",
   "execution_count": 27,
   "metadata": {
    "scrolled": true
   },
   "outputs": [
    {
     "data": {
      "text/plain": [
       "'F1:'"
      ]
     },
     "metadata": {},
     "output_type": "display_data"
    },
    {
     "data": {
      "text/plain": [
       "0.6348837209302326"
      ]
     },
     "metadata": {},
     "output_type": "display_data"
    },
    {
     "data": {
      "image/png": "[encoded data removed]",
      "text/plain": [
       "<Figure size 432x288 with 1 Axes>"
      ]
     },
     "metadata": {
      "needs_background": "light"
     },
     "output_type": "display_data"
    },
    {
     "data": {
      "text/plain": [
       "0.8565803083735083"
      ]
     },
     "metadata": {},
     "output_type": "display_data"
    },
    {
     "data": {
      "image/png": "[encoded data removed]",
      "text/plain": [
       "<Figure size 432x432 with 1 Axes>"
      ]
     },
     "metadata": {
      "needs_background": "light"
     },
     "output_type": "display_data"
    }
   ],
   "source": [
    "model = RandomForestClassifier(random_state=12345, n_estimators= 40,max_depth=9, class_weight='balanced') \n",
    "model.fit(features_train,target_train)\n",
    "predicted_valid = model.predict(features_valid)\n",
    "f1 = f1_score(target_valid, predicted_valid)\n",
    "probabilities_valid = model.predict_proba(features_valid)\n",
    "probabilities_one_valid = probabilities_valid[:, 1]\n",
    "display(\"F1:\",f1)\n",
    "\n",
    "fpr, tpr, thresholds = roc_curve(target_valid, probabilities_one_valid) \n",
    "\n",
    "plt.figure()\n",
    "\n",
    "plt.plot(fpr, tpr, linestyle='--')\n",
    "\n",
    "plt.ylim([0.0, 1.0])\n",
    "plt.xlim([0.0, 1.0])\n",
    "\n",
    "plt.xlabel('False Positive Rate')\n",
    "plt.ylabel('True Positive Rate')\n",
    "plt.title('ROC-кривая')\n",
    "\n",
    "plt.show()\n",
    "\n",
    "auc_roc = roc_auc_score(target_valid, probabilities_one_valid)\n",
    "\n",
    "display(auc_roc)\n",
    "\n",
    "precision, recall, thresholds = precision_recall_curve(target_valid, probabilities_valid[:, 1])\n",
    "\n",
    "plt.figure(figsize=(6, 6))\n",
    "plt.step(recall, precision, where='post')\n",
    "plt.xlabel('Recall')\n",
    "plt.ylabel('Precision')\n",
    "plt.ylim([0.0, 1.05])\n",
    "plt.xlim([0.0, 1.0])\n",
    "plt.title('Кривая Precision-Recall')\n",
    "plt.show() \n"
   ]
  },
  {
   "cell_type": "markdown",
   "metadata": {},
   "source": [
    "***ВЫВОД:***\n",
    "***\n",
    "Выбрали модель с наилучшими результатами это модель случайного леса(с балансировкой классов, 40 деревьями, глубиной леса 9) f1 получился 0,634. НА этой модели и будем проверять на тестовой выборке"
   ]
  },
  {
   "cell_type": "markdown",
   "metadata": {},
   "source": [
    "## Тестирование модели"
   ]
  },
  {
   "cell_type": "code",
   "execution_count": 25,
   "metadata": {},
   "outputs": [
    {
     "data": {
      "text/plain": [
       "'F1:'"
      ]
     },
     "metadata": {},
     "output_type": "display_data"
    },
    {
     "data": {
      "text/plain": [
       "0.5904954499494438"
      ]
     },
     "metadata": {},
     "output_type": "display_data"
    },
    {
     "data": {
      "image/png": "[encoded data removed]",
      "text/plain": [
       "<Figure size 432x288 with 1 Axes>"
      ]
     },
     "metadata": {
      "needs_background": "light"
     },
     "output_type": "display_data"
    },
    {
     "data": {
      "text/plain": [
       "0.8477028682104303"
      ]
     },
     "metadata": {},
     "output_type": "display_data"
    }
   ],
   "source": [
    "predicted_test = model.predict(features_test)\n",
    "display(\"F1:\", f1_score(target_test, predicted_test))\n",
    "\n",
    "probabilities_test = model.predict_proba(features_test)\n",
    "probabilities_one_test = probabilities_test[:, 1]\n",
    "\n",
    "fpr, tpr, thresholds = roc_curve(target_test, probabilities_one_test) \n",
    "\n",
    "plt.figure()\n",
    "\n",
    "plt.plot(fpr, tpr, linestyle='--')\n",
    "\n",
    "plt.ylim([0.0, 1.0])\n",
    "plt.xlim([0.0, 1.0])\n",
    "\n",
    "plt.xlabel('False Positive Rate')\n",
    "plt.ylabel('True Positive Rate')\n",
    "plt.title('ROC-кривая')\n",
    "\n",
    "plt.show()\n",
    "\n",
    "auc_roc = roc_auc_score(target_test, probabilities_one_test)\n",
    "display(auc_roc)"
   ]
  },
  {
   "cell_type": "markdown",
   "metadata": {},
   "source": [
    "***Вывод*** \n",
    "\n",
    "В данном случае была решена задача классификации. Классы были несбалансированны. Поэтому ранее успользуюмая метрика accuracy не подходила. Для оценки эффективности работы модели использовалась метрика f1 мера. \n",
    "\n",
    "Для борьбы с дисбалансом классов были рассмотрены разные варианы: увеличение-уменьшение выборки, балансировка классов.\n",
    "\n",
    "В итоге лучшие реузльтаты на валидационной выборке показал случайный лес с балансировкой классов\n",
    "\n",
    "На тестовой выборке модель показала значение f1 хуже, чем на валидационной, но тоже достаточно высокое. Значение auc-roc на тестовой тоже стало немного хуже(было 0.856, стало 0.847)\n",
    "\n",
    "При балансировке классов метрика f1 лучше,чем без балансировки. Были попытки сделать комбинирование(классы сбалансированы,и увеличение(уменьшение) выборки),но такое комбинирование не дало увеличение f1 меры"
   ]
  }
 ],
 "metadata": {
  "ExecuteTimeLog": [
   {
    "duration": 583,
    "start_time": "2022-02-01T18:02:40.541Z"
   },
   {
    "duration": 29,
    "start_time": "2022-02-01T18:02:41.963Z"
   },
   {
    "duration": 55,
    "start_time": "2022-02-01T18:03:25.869Z"
   },
   {
    "duration": 3,
    "start_time": "2022-02-01T18:06:16.964Z"
   },
   {
    "duration": 27,
    "start_time": "2022-02-01T18:06:18.733Z"
   },
   {
    "duration": 45,
    "start_time": "2022-02-01T18:06:20.735Z"
   },
   {
    "duration": 82,
    "start_time": "2022-02-01T18:16:57.979Z"
   },
   {
    "duration": 6,
    "start_time": "2022-02-01T18:17:05.136Z"
   },
   {
    "duration": 8,
    "start_time": "2022-02-01T18:17:08.269Z"
   },
   {
    "duration": 32,
    "start_time": "2022-02-01T18:17:18.926Z"
   },
   {
    "duration": 32,
    "start_time": "2022-02-01T18:17:42.039Z"
   },
   {
    "duration": 7,
    "start_time": "2022-02-01T18:17:51.118Z"
   },
   {
    "duration": 5,
    "start_time": "2022-02-01T18:18:15.076Z"
   },
   {
    "duration": 4,
    "start_time": "2022-02-01T18:19:00.725Z"
   },
   {
    "duration": 4,
    "start_time": "2022-02-01T18:19:14.357Z"
   },
   {
    "duration": 10,
    "start_time": "2022-02-01T18:19:25.551Z"
   },
   {
    "duration": 5,
    "start_time": "2022-02-01T18:19:37.366Z"
   },
   {
    "duration": 321,
    "start_time": "2022-02-01T18:30:38.062Z"
   },
   {
    "duration": 6,
    "start_time": "2022-02-01T18:30:53.790Z"
   },
   {
    "duration": 328,
    "start_time": "2022-02-01T18:31:34.577Z"
   },
   {
    "duration": 631,
    "start_time": "2022-02-01T18:31:39.844Z"
   },
   {
    "duration": 29,
    "start_time": "2022-02-01T18:31:40.477Z"
   },
   {
    "duration": 51,
    "start_time": "2022-02-01T18:31:40.508Z"
   },
   {
    "duration": 15,
    "start_time": "2022-02-01T18:31:40.560Z"
   },
   {
    "duration": 38,
    "start_time": "2022-02-01T18:31:40.577Z"
   },
   {
    "duration": 11,
    "start_time": "2022-02-01T18:31:40.617Z"
   },
   {
    "duration": 8,
    "start_time": "2022-02-01T18:31:58.485Z"
   },
   {
    "duration": 6,
    "start_time": "2022-02-01T18:32:31.843Z"
   },
   {
    "duration": 12,
    "start_time": "2022-02-01T18:36:56.270Z"
   },
   {
    "duration": 6,
    "start_time": "2022-02-01T18:38:46.703Z"
   },
   {
    "duration": 5,
    "start_time": "2022-02-01T18:41:28.465Z"
   },
   {
    "duration": 17,
    "start_time": "2022-02-01T18:41:37.913Z"
   },
   {
    "duration": 212,
    "start_time": "2022-02-01T18:41:54.898Z"
   },
   {
    "duration": 7,
    "start_time": "2022-02-01T18:42:01.256Z"
   },
   {
    "duration": 168,
    "start_time": "2022-02-01T18:42:30.993Z"
   },
   {
    "duration": 324,
    "start_time": "2022-02-01T18:47:52.093Z"
   },
   {
    "duration": 17,
    "start_time": "2022-02-01T18:53:37.886Z"
   },
   {
    "duration": 12,
    "start_time": "2022-02-01T18:54:28.779Z"
   },
   {
    "duration": 5,
    "start_time": "2022-02-01T18:56:01.562Z"
   },
   {
    "duration": 6,
    "start_time": "2022-02-01T18:56:11.106Z"
   },
   {
    "duration": 9,
    "start_time": "2022-02-01T18:58:31.460Z"
   },
   {
    "duration": 506,
    "start_time": "2022-02-01T18:58:43.028Z"
   },
   {
    "duration": 29,
    "start_time": "2022-02-01T18:58:43.536Z"
   },
   {
    "duration": 50,
    "start_time": "2022-02-01T18:58:43.567Z"
   },
   {
    "duration": 6,
    "start_time": "2022-02-01T18:58:43.618Z"
   },
   {
    "duration": 12,
    "start_time": "2022-02-01T18:58:43.625Z"
   },
   {
    "duration": 249,
    "start_time": "2022-02-01T18:58:43.639Z"
   },
   {
    "duration": 2,
    "start_time": "2022-02-01T18:58:43.889Z"
   },
   {
    "duration": 10,
    "start_time": "2022-02-01T18:58:43.893Z"
   },
   {
    "duration": 16,
    "start_time": "2022-02-01T18:59:47.268Z"
   },
   {
    "duration": 568,
    "start_time": "2022-02-01T19:03:17.475Z"
   },
   {
    "duration": 30,
    "start_time": "2022-02-01T19:03:18.045Z"
   },
   {
    "duration": 52,
    "start_time": "2022-02-01T19:03:18.076Z"
   },
   {
    "duration": 6,
    "start_time": "2022-02-01T19:03:18.130Z"
   },
   {
    "duration": 16,
    "start_time": "2022-02-01T19:03:18.137Z"
   },
   {
    "duration": 332,
    "start_time": "2022-02-01T19:03:18.171Z"
   },
   {
    "duration": 8,
    "start_time": "2022-02-01T19:03:18.505Z"
   },
   {
    "duration": 7,
    "start_time": "2022-02-01T19:03:18.515Z"
   },
   {
    "duration": 11,
    "start_time": "2022-02-01T19:03:18.523Z"
   },
   {
    "duration": 31,
    "start_time": "2022-02-01T19:03:55.514Z"
   },
   {
    "duration": 598,
    "start_time": "2022-02-01T19:04:27.773Z"
   },
   {
    "duration": 30,
    "start_time": "2022-02-01T19:04:28.373Z"
   },
   {
    "duration": 49,
    "start_time": "2022-02-01T19:04:28.405Z"
   },
   {
    "duration": 16,
    "start_time": "2022-02-01T19:04:28.455Z"
   },
   {
    "duration": 12,
    "start_time": "2022-02-01T19:04:28.473Z"
   },
   {
    "duration": 235,
    "start_time": "2022-02-01T19:04:28.486Z"
   },
   {
    "duration": 2,
    "start_time": "2022-02-01T19:04:28.723Z"
   },
   {
    "duration": 8,
    "start_time": "2022-02-01T19:04:28.727Z"
   },
   {
    "duration": 12,
    "start_time": "2022-02-01T19:04:28.736Z"
   },
   {
    "duration": 6,
    "start_time": "2022-02-01T19:05:16.887Z"
   },
   {
    "duration": 8,
    "start_time": "2022-02-01T19:05:18.509Z"
   },
   {
    "duration": 572,
    "start_time": "2022-02-01T19:05:50.144Z"
   },
   {
    "duration": 31,
    "start_time": "2022-02-01T19:05:50.718Z"
   },
   {
    "duration": 52,
    "start_time": "2022-02-01T19:05:50.751Z"
   },
   {
    "duration": 6,
    "start_time": "2022-02-01T19:05:50.805Z"
   },
   {
    "duration": 13,
    "start_time": "2022-02-01T19:05:50.812Z"
   },
   {
    "duration": 261,
    "start_time": "2022-02-01T19:05:50.827Z"
   },
   {
    "duration": 2,
    "start_time": "2022-02-01T19:05:51.090Z"
   },
   {
    "duration": 339,
    "start_time": "2022-02-01T19:05:51.093Z"
   },
   {
    "duration": 1716,
    "start_time": "2022-02-01T19:05:49.718Z"
   },
   {
    "duration": 1711,
    "start_time": "2022-02-01T19:05:49.724Z"
   },
   {
    "duration": 7,
    "start_time": "2022-02-01T19:07:30.975Z"
   },
   {
    "duration": 6,
    "start_time": "2022-02-01T19:07:51.838Z"
   },
   {
    "duration": 8,
    "start_time": "2022-02-01T19:07:53.711Z"
   },
   {
    "duration": 579,
    "start_time": "2022-02-01T19:16:50.147Z"
   },
   {
    "duration": 30,
    "start_time": "2022-02-01T19:16:50.727Z"
   },
   {
    "duration": 51,
    "start_time": "2022-02-01T19:16:50.759Z"
   },
   {
    "duration": 6,
    "start_time": "2022-02-01T19:16:50.812Z"
   },
   {
    "duration": 12,
    "start_time": "2022-02-01T19:16:50.820Z"
   },
   {
    "duration": 259,
    "start_time": "2022-02-01T19:16:50.834Z"
   },
   {
    "duration": 2,
    "start_time": "2022-02-01T19:16:51.094Z"
   },
   {
    "duration": 97,
    "start_time": "2022-02-01T19:16:51.098Z"
   },
   {
    "duration": 1700,
    "start_time": "2022-02-01T19:16:49.497Z"
   },
   {
    "duration": 1676,
    "start_time": "2022-02-01T19:16:49.522Z"
   },
   {
    "duration": 86,
    "start_time": "2022-02-01T19:18:22.246Z"
   },
   {
    "duration": 9,
    "start_time": "2022-02-01T19:18:32.082Z"
   },
   {
    "duration": 8,
    "start_time": "2022-02-01T19:18:34.058Z"
   },
   {
    "duration": 551,
    "start_time": "2022-02-01T19:18:45.387Z"
   },
   {
    "duration": 30,
    "start_time": "2022-02-01T19:18:45.940Z"
   },
   {
    "duration": 54,
    "start_time": "2022-02-01T19:18:45.972Z"
   },
   {
    "duration": 6,
    "start_time": "2022-02-01T19:18:46.028Z"
   },
   {
    "duration": 39,
    "start_time": "2022-02-01T19:18:46.036Z"
   },
   {
    "duration": 236,
    "start_time": "2022-02-01T19:18:46.077Z"
   },
   {
    "duration": 2,
    "start_time": "2022-02-01T19:18:46.314Z"
   },
   {
    "duration": 10,
    "start_time": "2022-02-01T19:18:46.318Z"
   },
   {
    "duration": 9,
    "start_time": "2022-02-01T19:18:46.329Z"
   },
   {
    "duration": 33,
    "start_time": "2022-02-01T19:18:46.340Z"
   },
   {
    "duration": 508,
    "start_time": "2022-02-01T19:19:24.721Z"
   },
   {
    "duration": 28,
    "start_time": "2022-02-01T19:19:25.231Z"
   },
   {
    "duration": 51,
    "start_time": "2022-02-01T19:19:25.261Z"
   },
   {
    "duration": 5,
    "start_time": "2022-02-01T19:19:25.314Z"
   },
   {
    "duration": 14,
    "start_time": "2022-02-01T19:19:25.321Z"
   },
   {
    "duration": 244,
    "start_time": "2022-02-01T19:19:25.336Z"
   },
   {
    "duration": 2,
    "start_time": "2022-02-01T19:19:25.582Z"
   },
   {
    "duration": 8,
    "start_time": "2022-02-01T19:19:25.585Z"
   },
   {
    "duration": 6,
    "start_time": "2022-02-01T19:19:25.595Z"
   },
   {
    "duration": 11,
    "start_time": "2022-02-01T19:19:25.603Z"
   },
   {
    "duration": 6,
    "start_time": "2022-02-01T19:20:22.168Z"
   },
   {
    "duration": 8,
    "start_time": "2022-02-01T19:20:23.476Z"
   },
   {
    "duration": 8,
    "start_time": "2022-02-01T19:20:46.800Z"
   },
   {
    "duration": 8,
    "start_time": "2022-02-01T19:20:47.871Z"
   },
   {
    "duration": 6,
    "start_time": "2022-02-01T19:21:04.384Z"
   },
   {
    "duration": 11,
    "start_time": "2022-02-01T19:21:16.682Z"
   },
   {
    "duration": 497,
    "start_time": "2022-02-01T19:21:33.727Z"
   },
   {
    "duration": 29,
    "start_time": "2022-02-01T19:21:34.226Z"
   },
   {
    "duration": 50,
    "start_time": "2022-02-01T19:21:34.257Z"
   },
   {
    "duration": 6,
    "start_time": "2022-02-01T19:21:34.309Z"
   },
   {
    "duration": 13,
    "start_time": "2022-02-01T19:21:34.316Z"
   },
   {
    "duration": 253,
    "start_time": "2022-02-01T19:21:34.331Z"
   },
   {
    "duration": 2,
    "start_time": "2022-02-01T19:21:34.585Z"
   },
   {
    "duration": 12,
    "start_time": "2022-02-01T19:21:34.589Z"
   },
   {
    "duration": 9,
    "start_time": "2022-02-01T19:21:34.603Z"
   },
   {
    "duration": 12,
    "start_time": "2022-02-01T19:21:34.614Z"
   },
   {
    "duration": 529,
    "start_time": "2022-02-01T19:26:14.022Z"
   },
   {
    "duration": 29,
    "start_time": "2022-02-01T19:26:14.553Z"
   },
   {
    "duration": 50,
    "start_time": "2022-02-01T19:26:14.583Z"
   },
   {
    "duration": 5,
    "start_time": "2022-02-01T19:26:14.635Z"
   },
   {
    "duration": 32,
    "start_time": "2022-02-01T19:26:14.641Z"
   },
   {
    "duration": 238,
    "start_time": "2022-02-01T19:26:14.674Z"
   },
   {
    "duration": 2,
    "start_time": "2022-02-01T19:26:14.913Z"
   },
   {
    "duration": 18,
    "start_time": "2022-02-01T19:26:14.917Z"
   },
   {
    "duration": 18,
    "start_time": "2022-02-01T19:27:44.527Z"
   },
   {
    "duration": 21,
    "start_time": "2022-02-01T19:28:34.742Z"
   },
   {
    "duration": 18,
    "start_time": "2022-02-01T19:28:56.768Z"
   },
   {
    "duration": 17,
    "start_time": "2022-02-01T19:29:05.346Z"
   },
   {
    "duration": 504,
    "start_time": "2022-02-01T19:34:53.314Z"
   },
   {
    "duration": 30,
    "start_time": "2022-02-01T19:34:53.820Z"
   },
   {
    "duration": 51,
    "start_time": "2022-02-01T19:34:53.851Z"
   },
   {
    "duration": 6,
    "start_time": "2022-02-01T19:34:53.903Z"
   },
   {
    "duration": 25,
    "start_time": "2022-02-01T19:34:53.911Z"
   },
   {
    "duration": 334,
    "start_time": "2022-02-01T19:34:53.937Z"
   },
   {
    "duration": 2,
    "start_time": "2022-02-01T19:34:54.273Z"
   },
   {
    "duration": 27,
    "start_time": "2022-02-01T19:34:54.276Z"
   },
   {
    "duration": 11,
    "start_time": "2022-02-01T19:34:54.305Z"
   },
   {
    "duration": 10,
    "start_time": "2022-02-01T19:34:54.317Z"
   },
   {
    "duration": 879,
    "start_time": "2022-02-01T19:35:29.688Z"
   },
   {
    "duration": 30,
    "start_time": "2022-02-01T19:35:30.569Z"
   },
   {
    "duration": 53,
    "start_time": "2022-02-01T19:35:30.603Z"
   },
   {
    "duration": 14,
    "start_time": "2022-02-01T19:35:30.658Z"
   },
   {
    "duration": 14,
    "start_time": "2022-02-01T19:35:30.674Z"
   },
   {
    "duration": 265,
    "start_time": "2022-02-01T19:35:30.690Z"
   },
   {
    "duration": 3,
    "start_time": "2022-02-01T19:35:30.957Z"
   },
   {
    "duration": 28,
    "start_time": "2022-02-01T19:35:30.962Z"
   },
   {
    "duration": 42,
    "start_time": "2022-02-01T19:35:30.992Z"
   },
   {
    "duration": 2,
    "start_time": "2022-02-01T19:35:31.036Z"
   },
   {
    "duration": 548,
    "start_time": "2022-02-01T19:36:16.396Z"
   },
   {
    "duration": 31,
    "start_time": "2022-02-01T19:36:16.945Z"
   },
   {
    "duration": 55,
    "start_time": "2022-02-01T19:36:16.978Z"
   },
   {
    "duration": 6,
    "start_time": "2022-02-01T19:36:17.035Z"
   },
   {
    "duration": 38,
    "start_time": "2022-02-01T19:36:17.043Z"
   },
   {
    "duration": 246,
    "start_time": "2022-02-01T19:36:17.082Z"
   },
   {
    "duration": 3,
    "start_time": "2022-02-01T19:36:17.330Z"
   },
   {
    "duration": 35,
    "start_time": "2022-02-01T19:36:17.336Z"
   },
   {
    "duration": 38,
    "start_time": "2022-02-01T19:36:17.373Z"
   },
   {
    "duration": 3,
    "start_time": "2022-02-01T19:36:17.413Z"
   },
   {
    "duration": 937,
    "start_time": "2022-02-03T16:09:27.275Z"
   },
   {
    "duration": 38,
    "start_time": "2022-02-03T16:09:28.215Z"
   },
   {
    "duration": 108,
    "start_time": "2022-02-03T16:09:28.256Z"
   },
   {
    "duration": 8,
    "start_time": "2022-02-03T16:09:28.367Z"
   },
   {
    "duration": 25,
    "start_time": "2022-02-03T16:09:28.378Z"
   },
   {
    "duration": 633,
    "start_time": "2022-02-03T16:09:28.406Z"
   },
   {
    "duration": 5,
    "start_time": "2022-02-03T16:09:29.048Z"
   },
   {
    "duration": 45,
    "start_time": "2022-02-03T16:09:29.057Z"
   },
   {
    "duration": 109,
    "start_time": "2022-02-03T16:09:29.105Z"
   },
   {
    "duration": 3,
    "start_time": "2022-02-03T16:09:29.217Z"
   },
   {
    "duration": 349,
    "start_time": "2022-02-03T16:09:29.223Z"
   },
   {
    "duration": 430,
    "start_time": "2022-02-03T16:14:13.709Z"
   },
   {
    "duration": 310,
    "start_time": "2022-02-03T16:16:05.802Z"
   },
   {
    "duration": 30,
    "start_time": "2022-02-03T16:17:09.684Z"
   },
   {
    "duration": 257,
    "start_time": "2022-02-03T16:17:50.647Z"
   },
   {
    "duration": 30,
    "start_time": "2022-02-03T16:18:08.384Z"
   },
   {
    "duration": 32,
    "start_time": "2022-02-03T16:19:00.550Z"
   },
   {
    "duration": 34,
    "start_time": "2022-02-03T16:28:04.480Z"
   },
   {
    "duration": 1295,
    "start_time": "2022-02-03T16:29:36.284Z"
   },
   {
    "duration": 36,
    "start_time": "2022-02-03T16:29:37.581Z"
   },
   {
    "duration": 90,
    "start_time": "2022-02-03T16:29:37.621Z"
   },
   {
    "duration": 9,
    "start_time": "2022-02-03T16:29:37.714Z"
   },
   {
    "duration": 24,
    "start_time": "2022-02-03T16:29:37.748Z"
   },
   {
    "duration": 431,
    "start_time": "2022-02-03T16:29:37.775Z"
   },
   {
    "duration": 4,
    "start_time": "2022-02-03T16:29:38.209Z"
   },
   {
    "duration": 56,
    "start_time": "2022-02-03T16:29:38.216Z"
   },
   {
    "duration": 87,
    "start_time": "2022-02-03T16:29:38.277Z"
   },
   {
    "duration": 3,
    "start_time": "2022-02-03T16:29:38.368Z"
   },
   {
    "duration": 35,
    "start_time": "2022-02-03T16:29:38.374Z"
   },
   {
    "duration": 13,
    "start_time": "2022-02-03T16:29:38.412Z"
   },
   {
    "duration": 9,
    "start_time": "2022-02-03T16:35:18.749Z"
   },
   {
    "duration": 45,
    "start_time": "2022-02-03T16:42:07.459Z"
   },
   {
    "duration": 93,
    "start_time": "2022-02-03T16:43:01.556Z"
   },
   {
    "duration": 116,
    "start_time": "2022-02-03T16:45:13.245Z"
   },
   {
    "duration": 1346,
    "start_time": "2022-02-03T16:46:06.962Z"
   },
   {
    "duration": 35,
    "start_time": "2022-02-03T16:46:08.311Z"
   },
   {
    "duration": 105,
    "start_time": "2022-02-03T16:46:08.349Z"
   },
   {
    "duration": 9,
    "start_time": "2022-02-03T16:46:08.457Z"
   },
   {
    "duration": 22,
    "start_time": "2022-02-03T16:46:08.468Z"
   },
   {
    "duration": 527,
    "start_time": "2022-02-03T16:46:08.493Z"
   },
   {
    "duration": 3,
    "start_time": "2022-02-03T16:46:09.023Z"
   },
   {
    "duration": 48,
    "start_time": "2022-02-03T16:46:09.029Z"
   },
   {
    "duration": 88,
    "start_time": "2022-02-03T16:46:09.080Z"
   },
   {
    "duration": 3,
    "start_time": "2022-02-03T16:46:09.171Z"
   },
   {
    "duration": 35,
    "start_time": "2022-02-03T16:46:09.176Z"
   },
   {
    "duration": 36,
    "start_time": "2022-02-03T16:46:09.213Z"
   },
   {
    "duration": 9,
    "start_time": "2022-02-03T16:46:09.252Z"
   },
   {
    "duration": 17,
    "start_time": "2022-02-03T16:46:09.264Z"
   },
   {
    "duration": 167,
    "start_time": "2022-02-03T16:46:09.283Z"
   },
   {
    "duration": 25,
    "start_time": "2022-02-03T16:46:44.918Z"
   },
   {
    "duration": 8,
    "start_time": "2022-02-03T16:47:09.143Z"
   },
   {
    "duration": 502,
    "start_time": "2022-02-03T16:47:19.550Z"
   },
   {
    "duration": 7,
    "start_time": "2022-02-03T16:47:33.960Z"
   },
   {
    "duration": 7,
    "start_time": "2022-02-03T16:47:54.400Z"
   },
   {
    "duration": 29,
    "start_time": "2022-02-03T16:51:54.899Z"
   },
   {
    "duration": 287,
    "start_time": "2022-02-03T16:53:24.029Z"
   },
   {
    "duration": 8,
    "start_time": "2022-02-03T16:53:35.811Z"
   },
   {
    "duration": 7,
    "start_time": "2022-02-03T16:53:44.492Z"
   },
   {
    "duration": 6,
    "start_time": "2022-02-03T16:55:32.899Z"
   },
   {
    "duration": 4,
    "start_time": "2022-02-03T16:56:12.140Z"
   },
   {
    "duration": 7,
    "start_time": "2022-02-03T16:56:17.580Z"
   },
   {
    "duration": 385,
    "start_time": "2022-02-03T17:14:37.935Z"
   },
   {
    "duration": 1676,
    "start_time": "2022-02-03T17:14:53.107Z"
   },
   {
    "duration": 44,
    "start_time": "2022-02-03T17:14:54.786Z"
   },
   {
    "duration": 90,
    "start_time": "2022-02-03T17:14:54.834Z"
   },
   {
    "duration": 29,
    "start_time": "2022-02-03T17:14:54.927Z"
   },
   {
    "duration": 31,
    "start_time": "2022-02-03T17:14:54.959Z"
   },
   {
    "duration": 420,
    "start_time": "2022-02-03T17:14:54.993Z"
   },
   {
    "duration": 3,
    "start_time": "2022-02-03T17:14:55.415Z"
   },
   {
    "duration": 57,
    "start_time": "2022-02-03T17:14:55.420Z"
   },
   {
    "duration": 84,
    "start_time": "2022-02-03T17:14:55.481Z"
   },
   {
    "duration": 2,
    "start_time": "2022-02-03T17:14:55.568Z"
   },
   {
    "duration": 36,
    "start_time": "2022-02-03T17:14:55.573Z"
   },
   {
    "duration": 42,
    "start_time": "2022-02-03T17:14:55.611Z"
   },
   {
    "duration": 8,
    "start_time": "2022-02-03T17:14:55.656Z"
   },
   {
    "duration": 22,
    "start_time": "2022-02-03T17:14:55.666Z"
   },
   {
    "duration": 12,
    "start_time": "2022-02-03T17:14:55.690Z"
   },
   {
    "duration": 155,
    "start_time": "2022-02-03T17:14:55.704Z"
   },
   {
    "duration": 92,
    "start_time": "2022-02-03T17:14:55.862Z"
   },
   {
    "duration": 93,
    "start_time": "2022-02-03T17:14:55.957Z"
   },
   {
    "duration": 588,
    "start_time": "2022-02-03T17:16:32.707Z"
   },
   {
    "duration": 1393,
    "start_time": "2022-02-03T17:16:57.544Z"
   },
   {
    "duration": 35,
    "start_time": "2022-02-03T17:16:58.940Z"
   },
   {
    "duration": 125,
    "start_time": "2022-02-03T17:16:58.979Z"
   },
   {
    "duration": 11,
    "start_time": "2022-02-03T17:16:59.107Z"
   },
   {
    "duration": 48,
    "start_time": "2022-02-03T17:16:59.121Z"
   },
   {
    "duration": 413,
    "start_time": "2022-02-03T17:16:59.172Z"
   },
   {
    "duration": 3,
    "start_time": "2022-02-03T17:16:59.588Z"
   },
   {
    "duration": 54,
    "start_time": "2022-02-03T17:16:59.594Z"
   },
   {
    "duration": 60,
    "start_time": "2022-02-03T17:16:59.651Z"
   },
   {
    "duration": 3,
    "start_time": "2022-02-03T17:16:59.713Z"
   },
   {
    "duration": 60,
    "start_time": "2022-02-03T17:16:59.718Z"
   },
   {
    "duration": 10,
    "start_time": "2022-02-03T17:16:59.780Z"
   },
   {
    "duration": 11,
    "start_time": "2022-02-03T17:16:59.793Z"
   },
   {
    "duration": 43,
    "start_time": "2022-02-03T17:16:59.806Z"
   },
   {
    "duration": 15,
    "start_time": "2022-02-03T17:16:59.853Z"
   },
   {
    "duration": 183,
    "start_time": "2022-02-03T17:16:59.871Z"
   },
   {
    "duration": 95,
    "start_time": "2022-02-03T17:17:00.058Z"
   },
   {
    "duration": 103,
    "start_time": "2022-02-03T17:17:00.156Z"
   },
   {
    "duration": 289,
    "start_time": "2022-02-03T17:17:00.263Z"
   },
   {
    "duration": 117,
    "start_time": "2022-02-03T17:17:33.737Z"
   },
   {
    "duration": 1391,
    "start_time": "2022-02-03T17:26:42.054Z"
   },
   {
    "duration": 38,
    "start_time": "2022-02-03T17:26:43.448Z"
   },
   {
    "duration": 104,
    "start_time": "2022-02-03T17:26:43.489Z"
   },
   {
    "duration": 10,
    "start_time": "2022-02-03T17:26:43.596Z"
   },
   {
    "duration": 48,
    "start_time": "2022-02-03T17:26:43.609Z"
   },
   {
    "duration": 618,
    "start_time": "2022-02-03T17:26:43.660Z"
   },
   {
    "duration": 3,
    "start_time": "2022-02-03T17:26:44.281Z"
   },
   {
    "duration": 44,
    "start_time": "2022-02-03T17:26:44.288Z"
   },
   {
    "duration": 78,
    "start_time": "2022-02-03T17:26:44.348Z"
   },
   {
    "duration": 24,
    "start_time": "2022-02-03T17:26:44.429Z"
   },
   {
    "duration": 43,
    "start_time": "2022-02-03T17:26:44.456Z"
   },
   {
    "duration": 14,
    "start_time": "2022-02-03T17:26:44.502Z"
   },
   {
    "duration": 37,
    "start_time": "2022-02-03T17:26:44.518Z"
   },
   {
    "duration": 14,
    "start_time": "2022-02-03T17:26:44.558Z"
   },
   {
    "duration": 31,
    "start_time": "2022-02-03T17:26:44.575Z"
   },
   {
    "duration": 159,
    "start_time": "2022-02-03T17:26:44.609Z"
   },
   {
    "duration": 12,
    "start_time": "2022-02-03T17:26:44.850Z"
   },
   {
    "duration": 203,
    "start_time": "2022-02-03T17:26:44.865Z"
   },
   {
    "duration": 300,
    "start_time": "2022-02-03T17:26:45.150Z"
   },
   {
    "duration": 123,
    "start_time": "2022-02-03T17:26:45.454Z"
   },
   {
    "duration": 654,
    "start_time": "2022-02-03T17:26:45.581Z"
   },
   {
    "duration": 1435,
    "start_time": "2022-02-03T17:27:13.461Z"
   },
   {
    "duration": 39,
    "start_time": "2022-02-03T17:27:14.899Z"
   },
   {
    "duration": 117,
    "start_time": "2022-02-03T17:27:14.941Z"
   },
   {
    "duration": 12,
    "start_time": "2022-02-03T17:27:15.061Z"
   },
   {
    "duration": 24,
    "start_time": "2022-02-03T17:27:15.076Z"
   },
   {
    "duration": 463,
    "start_time": "2022-02-03T17:27:15.103Z"
   },
   {
    "duration": 3,
    "start_time": "2022-02-03T17:27:15.569Z"
   },
   {
    "duration": 37,
    "start_time": "2022-02-03T17:27:15.577Z"
   },
   {
    "duration": 90,
    "start_time": "2022-02-03T17:27:15.617Z"
   },
   {
    "duration": 4,
    "start_time": "2022-02-03T17:27:15.709Z"
   },
   {
    "duration": 55,
    "start_time": "2022-02-03T17:27:15.715Z"
   },
   {
    "duration": 11,
    "start_time": "2022-02-03T17:27:15.773Z"
   },
   {
    "duration": 9,
    "start_time": "2022-02-03T17:27:15.786Z"
   },
   {
    "duration": 18,
    "start_time": "2022-02-03T17:27:15.797Z"
   },
   {
    "duration": 38,
    "start_time": "2022-02-03T17:27:15.817Z"
   },
   {
    "duration": 193,
    "start_time": "2022-02-03T17:27:15.858Z"
   },
   {
    "duration": 12,
    "start_time": "2022-02-03T17:27:16.054Z"
   },
   {
    "duration": 190,
    "start_time": "2022-02-03T17:27:16.068Z"
   },
   {
    "duration": 300,
    "start_time": "2022-02-03T17:27:16.262Z"
   },
   {
    "duration": 292,
    "start_time": "2022-02-03T17:27:16.567Z"
   },
   {
    "duration": 357,
    "start_time": "2022-02-03T17:27:16.863Z"
   },
   {
    "duration": 633,
    "start_time": "2022-02-03T17:30:46.318Z"
   },
   {
    "duration": 330,
    "start_time": "2022-02-03T17:32:19.469Z"
   },
   {
    "duration": 298,
    "start_time": "2022-02-03T17:33:44.573Z"
   },
   {
    "duration": 403,
    "start_time": "2022-02-03T17:33:58.710Z"
   },
   {
    "duration": 1404,
    "start_time": "2022-02-03T17:35:49.216Z"
   },
   {
    "duration": 99,
    "start_time": "2022-02-03T17:35:50.636Z"
   },
   {
    "duration": 362,
    "start_time": "2022-02-03T17:35:50.753Z"
   },
   {
    "duration": 18,
    "start_time": "2022-02-03T17:35:51.133Z"
   },
   {
    "duration": 180,
    "start_time": "2022-02-03T17:35:51.155Z"
   },
   {
    "duration": 447,
    "start_time": "2022-02-03T17:35:51.339Z"
   },
   {
    "duration": 5,
    "start_time": "2022-02-03T17:35:51.789Z"
   },
   {
    "duration": 55,
    "start_time": "2022-02-03T17:35:51.798Z"
   },
   {
    "duration": 68,
    "start_time": "2022-02-03T17:35:51.857Z"
   },
   {
    "duration": 4,
    "start_time": "2022-02-03T17:35:51.948Z"
   },
   {
    "duration": 37,
    "start_time": "2022-02-03T17:35:51.955Z"
   },
   {
    "duration": 12,
    "start_time": "2022-02-03T17:35:51.995Z"
   },
   {
    "duration": 11,
    "start_time": "2022-02-03T17:35:52.047Z"
   },
   {
    "duration": 15,
    "start_time": "2022-02-03T17:35:52.061Z"
   },
   {
    "duration": 18,
    "start_time": "2022-02-03T17:35:52.080Z"
   },
   {
    "duration": 250,
    "start_time": "2022-02-03T17:35:52.101Z"
   },
   {
    "duration": 7,
    "start_time": "2022-02-03T17:35:52.354Z"
   },
   {
    "duration": 92,
    "start_time": "2022-02-03T17:35:52.364Z"
   },
   {
    "duration": 396,
    "start_time": "2022-02-03T17:35:52.460Z"
   },
   {
    "duration": 124,
    "start_time": "2022-02-03T17:35:52.859Z"
   },
   {
    "duration": 467,
    "start_time": "2022-02-03T17:35:53.051Z"
   },
   {
    "duration": 387,
    "start_time": "2022-02-03T17:58:12.694Z"
   },
   {
    "duration": 390,
    "start_time": "2022-02-03T17:59:24.377Z"
   },
   {
    "duration": 8462,
    "start_time": "2022-02-03T17:59:34.088Z"
   },
   {
    "duration": 8802,
    "start_time": "2022-02-03T18:00:48.208Z"
   },
   {
    "duration": 1570,
    "start_time": "2022-02-03T18:14:09.051Z"
   },
   {
    "duration": 39,
    "start_time": "2022-02-03T18:14:10.627Z"
   },
   {
    "duration": 109,
    "start_time": "2022-02-03T18:14:10.670Z"
   },
   {
    "duration": 11,
    "start_time": "2022-02-03T18:14:10.781Z"
   },
   {
    "duration": 25,
    "start_time": "2022-02-03T18:14:10.795Z"
   },
   {
    "duration": 346,
    "start_time": "2022-02-03T18:14:10.848Z"
   },
   {
    "duration": 3,
    "start_time": "2022-02-03T18:14:11.196Z"
   },
   {
    "duration": 66,
    "start_time": "2022-02-03T18:14:11.204Z"
   },
   {
    "duration": 82,
    "start_time": "2022-02-03T18:14:11.273Z"
   },
   {
    "duration": 3,
    "start_time": "2022-02-03T18:14:11.357Z"
   },
   {
    "duration": 35,
    "start_time": "2022-02-03T18:14:11.363Z"
   },
   {
    "duration": 48,
    "start_time": "2022-02-03T18:14:11.401Z"
   },
   {
    "duration": 9,
    "start_time": "2022-02-03T18:14:11.452Z"
   },
   {
    "duration": 29,
    "start_time": "2022-02-03T18:14:11.464Z"
   },
   {
    "duration": 16,
    "start_time": "2022-02-03T18:14:11.496Z"
   },
   {
    "duration": 236,
    "start_time": "2022-02-03T18:14:11.515Z"
   },
   {
    "duration": 7,
    "start_time": "2022-02-03T18:14:11.754Z"
   },
   {
    "duration": 87,
    "start_time": "2022-02-03T18:14:11.763Z"
   },
   {
    "duration": 296,
    "start_time": "2022-02-03T18:14:11.854Z"
   },
   {
    "duration": 196,
    "start_time": "2022-02-03T18:14:12.154Z"
   },
   {
    "duration": 560,
    "start_time": "2022-02-03T18:14:12.353Z"
   },
   {
    "duration": 8861,
    "start_time": "2022-02-03T18:14:12.915Z"
   },
   {
    "duration": 366,
    "start_time": "2022-02-03T18:17:50.923Z"
   },
   {
    "duration": 322,
    "start_time": "2022-02-03T18:24:43.544Z"
   },
   {
    "duration": 979,
    "start_time": "2022-02-03T18:27:59.460Z"
   },
   {
    "duration": 1443,
    "start_time": "2022-02-03T18:28:35.393Z"
   },
   {
    "duration": 36,
    "start_time": "2022-02-03T18:28:36.839Z"
   },
   {
    "duration": 91,
    "start_time": "2022-02-03T18:28:36.878Z"
   },
   {
    "duration": 8,
    "start_time": "2022-02-03T18:28:36.972Z"
   },
   {
    "duration": 21,
    "start_time": "2022-02-03T18:28:36.983Z"
   },
   {
    "duration": 366,
    "start_time": "2022-02-03T18:28:37.006Z"
   },
   {
    "duration": 4,
    "start_time": "2022-02-03T18:28:37.375Z"
   },
   {
    "duration": 33,
    "start_time": "2022-02-03T18:28:37.385Z"
   },
   {
    "duration": 62,
    "start_time": "2022-02-03T18:28:37.450Z"
   },
   {
    "duration": 3,
    "start_time": "2022-02-03T18:28:37.515Z"
   },
   {
    "duration": 58,
    "start_time": "2022-02-03T18:28:37.520Z"
   },
   {
    "duration": 10,
    "start_time": "2022-02-03T18:28:37.581Z"
   },
   {
    "duration": 7,
    "start_time": "2022-02-03T18:28:37.594Z"
   },
   {
    "duration": 48,
    "start_time": "2022-02-03T18:28:37.604Z"
   },
   {
    "duration": 15,
    "start_time": "2022-02-03T18:28:37.655Z"
   },
   {
    "duration": 188,
    "start_time": "2022-02-03T18:28:37.673Z"
   },
   {
    "duration": 6,
    "start_time": "2022-02-03T18:28:37.950Z"
   },
   {
    "duration": 99,
    "start_time": "2022-02-03T18:28:37.959Z"
   },
   {
    "duration": 290,
    "start_time": "2022-02-03T18:28:38.062Z"
   },
   {
    "duration": 129,
    "start_time": "2022-02-03T18:28:38.356Z"
   },
   {
    "duration": 438,
    "start_time": "2022-02-03T18:28:38.551Z"
   },
   {
    "duration": 8508,
    "start_time": "2022-02-03T18:28:38.992Z"
   },
   {
    "duration": 578,
    "start_time": "2022-02-03T18:28:47.505Z"
   },
   {
    "duration": 186,
    "start_time": "2022-02-05T10:43:22.471Z"
   },
   {
    "duration": 1082,
    "start_time": "2022-02-05T10:43:29.201Z"
   },
   {
    "duration": 28,
    "start_time": "2022-02-05T10:43:30.285Z"
   },
   {
    "duration": 60,
    "start_time": "2022-02-05T10:43:30.316Z"
   },
   {
    "duration": 6,
    "start_time": "2022-02-05T10:43:30.378Z"
   },
   {
    "duration": 16,
    "start_time": "2022-02-05T10:43:30.386Z"
   },
   {
    "duration": 215,
    "start_time": "2022-02-05T10:43:30.404Z"
   },
   {
    "duration": 1,
    "start_time": "2022-02-05T10:43:30.621Z"
   },
   {
    "duration": 41,
    "start_time": "2022-02-05T10:43:30.625Z"
   },
   {
    "duration": 45,
    "start_time": "2022-02-05T10:43:30.668Z"
   },
   {
    "duration": 2,
    "start_time": "2022-02-05T10:43:30.715Z"
   },
   {
    "duration": 31,
    "start_time": "2022-02-05T10:43:30.718Z"
   },
   {
    "duration": 16,
    "start_time": "2022-02-05T10:43:30.750Z"
   },
   {
    "duration": 15,
    "start_time": "2022-02-05T10:43:30.771Z"
   },
   {
    "duration": 23,
    "start_time": "2022-02-05T10:43:30.788Z"
   },
   {
    "duration": 19,
    "start_time": "2022-02-05T10:43:30.813Z"
   },
   {
    "duration": 40,
    "start_time": "2022-02-05T10:43:30.834Z"
   },
   {
    "duration": 5,
    "start_time": "2022-02-05T10:43:30.876Z"
   },
   {
    "duration": 207,
    "start_time": "2022-02-05T10:43:30.884Z"
   },
   {
    "duration": 272,
    "start_time": "2022-02-05T10:43:31.093Z"
   },
   {
    "duration": 109,
    "start_time": "2022-02-05T10:43:31.368Z"
   },
   {
    "duration": 448,
    "start_time": "2022-02-05T10:43:31.480Z"
   },
   {
    "duration": 5758,
    "start_time": "2022-02-05T10:43:31.929Z"
   },
   {
    "duration": 407,
    "start_time": "2022-02-05T10:43:37.690Z"
   },
   {
    "duration": 20,
    "start_time": "2022-02-05T10:43:38.099Z"
   },
   {
    "duration": 521,
    "start_time": "2022-02-05T10:55:58.071Z"
   },
   {
    "duration": 509,
    "start_time": "2022-02-05T10:56:38.449Z"
   },
   {
    "duration": 600,
    "start_time": "2022-02-05T10:57:20.398Z"
   },
   {
    "duration": 1173,
    "start_time": "2022-02-05T11:17:59.562Z"
   },
   {
    "duration": 33,
    "start_time": "2022-02-05T11:18:00.737Z"
   },
   {
    "duration": 55,
    "start_time": "2022-02-05T11:18:00.773Z"
   },
   {
    "duration": 6,
    "start_time": "2022-02-05T11:18:00.830Z"
   },
   {
    "duration": 38,
    "start_time": "2022-02-05T11:18:00.837Z"
   },
   {
    "duration": 574,
    "start_time": "2022-02-05T11:18:00.877Z"
   },
   {
    "duration": 7,
    "start_time": "2022-02-05T11:18:01.453Z"
   },
   {
    "duration": 48,
    "start_time": "2022-02-05T11:18:01.464Z"
   },
   {
    "duration": 63,
    "start_time": "2022-02-05T11:18:01.514Z"
   },
   {
    "duration": 2,
    "start_time": "2022-02-05T11:18:01.579Z"
   },
   {
    "duration": 31,
    "start_time": "2022-02-05T11:18:01.583Z"
   },
   {
    "duration": 9,
    "start_time": "2022-02-05T11:18:01.616Z"
   },
   {
    "duration": 13,
    "start_time": "2022-02-05T11:18:01.627Z"
   },
   {
    "duration": 30,
    "start_time": "2022-02-05T11:18:01.642Z"
   },
   {
    "duration": 31,
    "start_time": "2022-02-05T11:18:01.675Z"
   },
   {
    "duration": 62,
    "start_time": "2022-02-05T11:18:01.707Z"
   },
   {
    "duration": 94,
    "start_time": "2022-02-05T11:18:01.771Z"
   },
   {
    "duration": 93,
    "start_time": "2022-02-05T11:18:01.867Z"
   },
   {
    "duration": 197,
    "start_time": "2022-02-05T11:18:01.963Z"
   },
   {
    "duration": 194,
    "start_time": "2022-02-05T11:18:02.165Z"
   },
   {
    "duration": 409,
    "start_time": "2022-02-05T11:18:02.361Z"
   },
   {
    "duration": 6028,
    "start_time": "2022-02-05T11:18:02.772Z"
   },
   {
    "duration": 584,
    "start_time": "2022-02-05T11:18:08.802Z"
   },
   {
    "duration": 1052,
    "start_time": "2022-02-05T11:19:14.438Z"
   },
   {
    "duration": 860,
    "start_time": "2022-02-05T11:19:32.071Z"
   },
   {
    "duration": 1122,
    "start_time": "2022-02-05T11:29:09.237Z"
   },
   {
    "duration": 30,
    "start_time": "2022-02-05T11:29:10.360Z"
   },
   {
    "duration": 80,
    "start_time": "2022-02-05T11:29:10.392Z"
   },
   {
    "duration": 7,
    "start_time": "2022-02-05T11:29:10.474Z"
   },
   {
    "duration": 24,
    "start_time": "2022-02-05T11:29:10.483Z"
   },
   {
    "duration": 899,
    "start_time": "2022-02-05T11:29:10.509Z"
   },
   {
    "duration": 2,
    "start_time": "2022-02-05T11:29:11.411Z"
   },
   {
    "duration": 23,
    "start_time": "2022-02-05T11:29:11.415Z"
   },
   {
    "duration": 57,
    "start_time": "2022-02-05T11:29:11.441Z"
   },
   {
    "duration": 2,
    "start_time": "2022-02-05T11:29:11.500Z"
   },
   {
    "duration": 25,
    "start_time": "2022-02-05T11:29:11.504Z"
   },
   {
    "duration": 31,
    "start_time": "2022-02-05T11:29:11.531Z"
   },
   {
    "duration": 8,
    "start_time": "2022-02-05T11:29:11.564Z"
   },
   {
    "duration": 10,
    "start_time": "2022-02-05T11:29:11.574Z"
   },
   {
    "duration": 11,
    "start_time": "2022-02-05T11:29:11.586Z"
   },
   {
    "duration": 80,
    "start_time": "2022-02-05T11:29:11.600Z"
   },
   {
    "duration": 96,
    "start_time": "2022-02-05T11:29:11.683Z"
   },
   {
    "duration": 178,
    "start_time": "2022-02-05T11:29:11.781Z"
   },
   {
    "duration": 197,
    "start_time": "2022-02-05T11:29:11.961Z"
   },
   {
    "duration": 119,
    "start_time": "2022-02-05T11:29:12.161Z"
   },
   {
    "duration": 482,
    "start_time": "2022-02-05T11:29:12.282Z"
   },
   {
    "duration": 5747,
    "start_time": "2022-02-05T11:29:12.767Z"
   },
   {
    "duration": 602,
    "start_time": "2022-02-05T11:29:18.516Z"
   },
   {
    "duration": 48,
    "start_time": "2022-02-05T11:42:46.232Z"
   },
   {
    "duration": 523,
    "start_time": "2022-02-05T11:42:58.733Z"
   },
   {
    "duration": 557,
    "start_time": "2022-02-05T11:47:03.572Z"
   },
   {
    "duration": 42,
    "start_time": "2022-02-05T11:47:16.037Z"
   },
   {
    "duration": 545,
    "start_time": "2022-02-05T11:47:26.548Z"
   },
   {
    "duration": 20,
    "start_time": "2022-02-05T13:11:09.103Z"
   },
   {
    "duration": 1120,
    "start_time": "2022-02-06T08:22:13.583Z"
   },
   {
    "duration": 144,
    "start_time": "2022-02-06T08:22:14.704Z"
   },
   {
    "duration": 51,
    "start_time": "2022-02-06T08:22:14.850Z"
   },
   {
    "duration": 7,
    "start_time": "2022-02-06T08:22:14.904Z"
   },
   {
    "duration": 15,
    "start_time": "2022-02-06T08:22:14.913Z"
   },
   {
    "duration": 984,
    "start_time": "2022-02-06T08:22:14.930Z"
   },
   {
    "duration": 2,
    "start_time": "2022-02-06T08:22:15.916Z"
   },
   {
    "duration": 51,
    "start_time": "2022-02-06T08:22:15.921Z"
   },
   {
    "duration": 41,
    "start_time": "2022-02-06T08:22:15.974Z"
   },
   {
    "duration": 2,
    "start_time": "2022-02-06T08:22:16.017Z"
   },
   {
    "duration": 31,
    "start_time": "2022-02-06T08:22:16.021Z"
   },
   {
    "duration": 27,
    "start_time": "2022-02-06T08:22:16.054Z"
   },
   {
    "duration": 12,
    "start_time": "2022-02-06T08:22:16.083Z"
   },
   {
    "duration": 19,
    "start_time": "2022-02-06T08:22:16.097Z"
   },
   {
    "duration": 11,
    "start_time": "2022-02-06T08:22:16.117Z"
   },
   {
    "duration": 144,
    "start_time": "2022-02-06T08:22:16.129Z"
   },
   {
    "duration": 5,
    "start_time": "2022-02-06T08:22:16.276Z"
   },
   {
    "duration": 104,
    "start_time": "2022-02-06T08:25:44.468Z"
   },
   {
    "duration": 95,
    "start_time": "2022-02-06T08:25:50.647Z"
   },
   {
    "duration": 111,
    "start_time": "2022-02-06T08:26:01.561Z"
   },
   {
    "duration": 197,
    "start_time": "2022-02-06T08:40:27.371Z"
   },
   {
    "duration": 195,
    "start_time": "2022-02-06T08:41:05.500Z"
   },
   {
    "duration": 1040,
    "start_time": "2022-02-06T08:46:28.120Z"
   },
   {
    "duration": 29,
    "start_time": "2022-02-06T08:46:29.161Z"
   },
   {
    "duration": 46,
    "start_time": "2022-02-06T08:46:29.192Z"
   },
   {
    "duration": 6,
    "start_time": "2022-02-06T08:46:29.240Z"
   },
   {
    "duration": 28,
    "start_time": "2022-02-06T08:46:29.247Z"
   },
   {
    "duration": 715,
    "start_time": "2022-02-06T08:46:29.277Z"
   },
   {
    "duration": 2,
    "start_time": "2022-02-06T08:46:29.993Z"
   },
   {
    "duration": 25,
    "start_time": "2022-02-06T08:46:29.997Z"
   },
   {
    "duration": 49,
    "start_time": "2022-02-06T08:46:30.024Z"
   },
   {
    "duration": 2,
    "start_time": "2022-02-06T08:46:30.074Z"
   },
   {
    "duration": 25,
    "start_time": "2022-02-06T08:46:30.077Z"
   },
   {
    "duration": 7,
    "start_time": "2022-02-06T08:46:30.104Z"
   },
   {
    "duration": 18,
    "start_time": "2022-02-06T08:46:30.112Z"
   },
   {
    "duration": 18,
    "start_time": "2022-02-06T08:46:30.132Z"
   },
   {
    "duration": 22,
    "start_time": "2022-02-06T08:46:30.152Z"
   },
   {
    "duration": 198,
    "start_time": "2022-02-06T08:46:30.175Z"
   },
   {
    "duration": 3,
    "start_time": "2022-02-06T08:46:30.375Z"
   },
   {
    "duration": 205,
    "start_time": "2022-02-06T08:46:30.380Z"
   },
   {
    "duration": 91,
    "start_time": "2022-02-06T08:46:30.586Z"
   },
   {
    "duration": 192,
    "start_time": "2022-02-06T08:46:30.681Z"
   },
   {
    "duration": 194,
    "start_time": "2022-02-06T08:46:30.877Z"
   },
   {
    "duration": 5404,
    "start_time": "2022-02-06T08:46:31.074Z"
   },
   {
    "duration": 550,
    "start_time": "2022-02-06T08:46:36.480Z"
   },
   {
    "duration": 13,
    "start_time": "2022-02-06T08:46:37.032Z"
   },
   {
    "duration": 366,
    "start_time": "2022-02-06T08:48:02.466Z"
   },
   {
    "duration": 108,
    "start_time": "2022-02-06T08:49:12.164Z"
   },
   {
    "duration": 56,
    "start_time": "2022-02-06T08:49:33.018Z"
   },
   {
    "duration": 71,
    "start_time": "2022-02-06T08:49:50.504Z"
   },
   {
    "duration": 84,
    "start_time": "2022-02-06T08:49:59.890Z"
   },
   {
    "duration": 65,
    "start_time": "2022-02-06T08:51:13.411Z"
   },
   {
    "duration": 111,
    "start_time": "2022-02-06T08:51:30.562Z"
   },
   {
    "duration": 198,
    "start_time": "2022-02-06T08:51:52.931Z"
   },
   {
    "duration": 196,
    "start_time": "2022-02-06T08:52:27.778Z"
   },
   {
    "duration": 194,
    "start_time": "2022-02-06T08:52:37.916Z"
   },
   {
    "duration": 202,
    "start_time": "2022-02-06T08:52:50.880Z"
   },
   {
    "duration": 201,
    "start_time": "2022-02-06T08:53:23.187Z"
   },
   {
    "duration": 204,
    "start_time": "2022-02-06T08:53:34.748Z"
   },
   {
    "duration": 1089,
    "start_time": "2022-02-06T08:58:03.883Z"
   },
   {
    "duration": 29,
    "start_time": "2022-02-06T08:58:04.974Z"
   },
   {
    "duration": 51,
    "start_time": "2022-02-06T08:58:05.005Z"
   },
   {
    "duration": 17,
    "start_time": "2022-02-06T08:58:05.058Z"
   },
   {
    "duration": 15,
    "start_time": "2022-02-06T08:58:05.076Z"
   },
   {
    "duration": 724,
    "start_time": "2022-02-06T08:58:05.093Z"
   },
   {
    "duration": 3,
    "start_time": "2022-02-06T08:58:05.819Z"
   },
   {
    "duration": 20,
    "start_time": "2022-02-06T08:58:05.825Z"
   },
   {
    "duration": 56,
    "start_time": "2022-02-06T08:58:05.847Z"
   },
   {
    "duration": 2,
    "start_time": "2022-02-06T08:58:05.905Z"
   },
   {
    "duration": 19,
    "start_time": "2022-02-06T08:58:05.908Z"
   },
   {
    "duration": 7,
    "start_time": "2022-02-06T08:58:05.928Z"
   },
   {
    "duration": 4,
    "start_time": "2022-02-06T08:58:05.936Z"
   },
   {
    "duration": 8,
    "start_time": "2022-02-06T08:58:05.971Z"
   },
   {
    "duration": 7,
    "start_time": "2022-02-06T08:58:05.981Z"
   },
   {
    "duration": 184,
    "start_time": "2022-02-06T08:58:05.989Z"
   },
   {
    "duration": 3,
    "start_time": "2022-02-06T08:58:06.175Z"
   },
   {
    "duration": 32,
    "start_time": "2022-02-06T08:58:06.179Z"
   },
   {
    "duration": 210,
    "start_time": "2022-02-06T08:58:06.213Z"
   },
   {
    "duration": 32,
    "start_time": "2022-02-06T08:58:38.719Z"
   },
   {
    "duration": 6,
    "start_time": "2022-02-06T09:23:51.194Z"
   },
   {
    "duration": 1119,
    "start_time": "2022-02-06T09:25:57.042Z"
   },
   {
    "duration": 32,
    "start_time": "2022-02-06T09:25:58.163Z"
   },
   {
    "duration": 53,
    "start_time": "2022-02-06T09:25:58.198Z"
   },
   {
    "duration": 25,
    "start_time": "2022-02-06T09:25:58.253Z"
   },
   {
    "duration": 16,
    "start_time": "2022-02-06T09:25:58.281Z"
   },
   {
    "duration": 813,
    "start_time": "2022-02-06T09:25:58.299Z"
   },
   {
    "duration": 2,
    "start_time": "2022-02-06T09:25:59.114Z"
   },
   {
    "duration": 25,
    "start_time": "2022-02-06T09:25:59.117Z"
   },
   {
    "duration": 60,
    "start_time": "2022-02-06T09:25:59.144Z"
   },
   {
    "duration": 2,
    "start_time": "2022-02-06T09:25:59.206Z"
   },
   {
    "duration": 21,
    "start_time": "2022-02-06T09:25:59.209Z"
   },
   {
    "duration": 14,
    "start_time": "2022-02-06T09:25:59.231Z"
   },
   {
    "duration": 14,
    "start_time": "2022-02-06T09:25:59.247Z"
   },
   {
    "duration": 23,
    "start_time": "2022-02-06T09:25:59.263Z"
   },
   {
    "duration": 10,
    "start_time": "2022-02-06T09:25:59.288Z"
   },
   {
    "duration": 187,
    "start_time": "2022-02-06T09:25:59.299Z"
   },
   {
    "duration": 4,
    "start_time": "2022-02-06T09:25:59.487Z"
   },
   {
    "duration": 42,
    "start_time": "2022-02-06T09:25:59.492Z"
   },
   {
    "duration": 224,
    "start_time": "2022-02-06T09:25:59.535Z"
   },
   {
    "duration": 40,
    "start_time": "2022-02-06T09:25:59.761Z"
   },
   {
    "duration": 212,
    "start_time": "2022-02-06T09:25:59.803Z"
   },
   {
    "duration": 117,
    "start_time": "2022-02-06T09:26:00.084Z"
   },
   {
    "duration": 5810,
    "start_time": "2022-02-06T09:26:00.203Z"
   },
   {
    "duration": 607,
    "start_time": "2022-02-06T09:26:06.014Z"
   },
   {
    "duration": 1157,
    "start_time": "2022-02-06T09:41:03.555Z"
   },
   {
    "duration": 29,
    "start_time": "2022-02-06T09:41:04.714Z"
   },
   {
    "duration": 55,
    "start_time": "2022-02-06T09:41:04.745Z"
   },
   {
    "duration": 6,
    "start_time": "2022-02-06T09:41:04.801Z"
   },
   {
    "duration": 15,
    "start_time": "2022-02-06T09:41:04.809Z"
   },
   {
    "duration": 802,
    "start_time": "2022-02-06T09:41:04.826Z"
   },
   {
    "duration": 2,
    "start_time": "2022-02-06T09:41:05.629Z"
   },
   {
    "duration": 19,
    "start_time": "2022-02-06T09:41:05.633Z"
   },
   {
    "duration": 61,
    "start_time": "2022-02-06T09:41:05.654Z"
   },
   {
    "duration": 2,
    "start_time": "2022-02-06T09:41:05.717Z"
   },
   {
    "duration": 21,
    "start_time": "2022-02-06T09:41:05.721Z"
   },
   {
    "duration": 8,
    "start_time": "2022-02-06T09:41:05.743Z"
   },
   {
    "duration": 31,
    "start_time": "2022-02-06T09:41:05.753Z"
   },
   {
    "duration": 11,
    "start_time": "2022-02-06T09:41:05.787Z"
   },
   {
    "duration": 7,
    "start_time": "2022-02-06T09:41:05.800Z"
   },
   {
    "duration": 172,
    "start_time": "2022-02-06T09:41:05.809Z"
   },
   {
    "duration": 5,
    "start_time": "2022-02-06T09:41:05.984Z"
   },
   {
    "duration": 118,
    "start_time": "2022-02-06T09:41:05.991Z"
   },
   {
    "duration": 211,
    "start_time": "2022-02-06T09:41:06.110Z"
   },
   {
    "duration": 160,
    "start_time": "2022-02-06T09:41:06.323Z"
   },
   {
    "duration": 118,
    "start_time": "2022-02-06T09:41:06.485Z"
   },
   {
    "duration": 192,
    "start_time": "2022-02-06T09:41:06.605Z"
   },
   {
    "duration": 6127,
    "start_time": "2022-02-06T09:41:06.799Z"
   },
   {
    "duration": 571,
    "start_time": "2022-02-06T09:41:12.928Z"
   },
   {
    "duration": 1272,
    "start_time": "2022-02-06T09:50:59.538Z"
   },
   {
    "duration": 30,
    "start_time": "2022-02-06T09:51:00.812Z"
   },
   {
    "duration": 58,
    "start_time": "2022-02-06T09:51:00.844Z"
   },
   {
    "duration": 6,
    "start_time": "2022-02-06T09:51:00.904Z"
   },
   {
    "duration": 22,
    "start_time": "2022-02-06T09:51:00.912Z"
   },
   {
    "duration": 810,
    "start_time": "2022-02-06T09:51:00.935Z"
   },
   {
    "duration": 2,
    "start_time": "2022-02-06T09:51:01.746Z"
   },
   {
    "duration": 47,
    "start_time": "2022-02-06T09:51:01.750Z"
   },
   {
    "duration": 38,
    "start_time": "2022-02-06T09:51:01.799Z"
   },
   {
    "duration": 2,
    "start_time": "2022-02-06T09:51:01.839Z"
   },
   {
    "duration": 41,
    "start_time": "2022-02-06T09:51:01.842Z"
   },
   {
    "duration": 22,
    "start_time": "2022-02-06T09:51:01.885Z"
   },
   {
    "duration": 18,
    "start_time": "2022-02-06T09:51:01.909Z"
   },
   {
    "duration": 16,
    "start_time": "2022-02-06T09:51:01.928Z"
   },
   {
    "duration": 22,
    "start_time": "2022-02-06T09:51:01.945Z"
   },
   {
    "duration": 216,
    "start_time": "2022-02-06T09:51:01.969Z"
   },
   {
    "duration": 3,
    "start_time": "2022-02-06T09:51:02.187Z"
   },
   {
    "duration": 35,
    "start_time": "2022-02-06T09:51:02.192Z"
   },
   {
    "duration": 221,
    "start_time": "2022-02-06T09:51:02.228Z"
   },
   {
    "duration": 44,
    "start_time": "2022-02-06T09:51:02.451Z"
   },
   {
    "duration": 200,
    "start_time": "2022-02-06T09:51:02.497Z"
   },
   {
    "duration": 188,
    "start_time": "2022-02-06T09:51:02.699Z"
   },
   {
    "duration": 6000,
    "start_time": "2022-02-06T09:51:02.891Z"
   },
   {
    "duration": 587,
    "start_time": "2022-02-06T09:51:08.893Z"
   },
   {
    "duration": 183,
    "start_time": "2022-02-06T09:51:09.483Z"
   },
   {
    "duration": 185,
    "start_time": "2022-02-06T09:51:27.355Z"
   },
   {
    "duration": 409,
    "start_time": "2022-02-06T10:06:29.789Z"
   },
   {
    "duration": 211,
    "start_time": "2022-02-06T10:06:33.956Z"
   },
   {
    "duration": 1064,
    "start_time": "2022-02-06T10:37:04.791Z"
   },
   {
    "duration": 29,
    "start_time": "2022-02-06T10:37:05.857Z"
   },
   {
    "duration": 47,
    "start_time": "2022-02-06T10:37:05.888Z"
   },
   {
    "duration": 6,
    "start_time": "2022-02-06T10:37:05.936Z"
   },
   {
    "duration": 36,
    "start_time": "2022-02-06T10:37:05.944Z"
   },
   {
    "duration": 712,
    "start_time": "2022-02-06T10:37:05.982Z"
   },
   {
    "duration": 2,
    "start_time": "2022-02-06T10:37:06.696Z"
   },
   {
    "duration": 25,
    "start_time": "2022-02-06T10:37:06.700Z"
   },
   {
    "duration": 51,
    "start_time": "2022-02-06T10:37:06.727Z"
   },
   {
    "duration": 2,
    "start_time": "2022-02-06T10:37:06.780Z"
   },
   {
    "duration": 21,
    "start_time": "2022-02-06T10:37:06.783Z"
   },
   {
    "duration": 8,
    "start_time": "2022-02-06T10:37:06.806Z"
   },
   {
    "duration": 6,
    "start_time": "2022-02-06T10:37:06.815Z"
   },
   {
    "duration": 9,
    "start_time": "2022-02-06T10:37:06.823Z"
   },
   {
    "duration": 45,
    "start_time": "2022-02-06T10:37:06.834Z"
   },
   {
    "duration": 191,
    "start_time": "2022-02-06T10:37:06.881Z"
   },
   {
    "duration": 4,
    "start_time": "2022-02-06T10:37:07.074Z"
   },
   {
    "duration": 33,
    "start_time": "2022-02-06T10:37:07.080Z"
   },
   {
    "duration": 219,
    "start_time": "2022-02-06T10:37:07.115Z"
   },
   {
    "duration": 41,
    "start_time": "2022-02-06T10:37:07.336Z"
   },
   {
    "duration": 292,
    "start_time": "2022-02-06T10:37:07.380Z"
   },
   {
    "duration": 121,
    "start_time": "2022-02-06T10:37:07.674Z"
   },
   {
    "duration": 5479,
    "start_time": "2022-02-06T10:37:07.875Z"
   },
   {
    "duration": 495,
    "start_time": "2022-02-06T10:37:13.356Z"
   },
   {
    "duration": 174,
    "start_time": "2022-02-06T10:37:13.852Z"
   },
   {
    "duration": 562,
    "start_time": "2022-02-06T10:37:54.133Z"
   },
   {
    "duration": 491,
    "start_time": "2022-02-06T10:38:13.256Z"
   }
  ],
  "kernelspec": {
   "display_name": "Python 3",
   "language": "python",
   "name": "python3"
  },
  "language_info": {
   "codemirror_mode": {
    "name": "ipython",
    "version": 3
   },
   "file_extension": ".py",
   "mimetype": "text/x-python",
   "name": "python",
   "nbconvert_exporter": "python",
   "pygments_lexer": "ipython3",
   "version": "3.8.8"
  },
  "toc": {
   "base_numbering": 1,
   "nav_menu": {},
   "number_sections": true,
   "sideBar": true,
   "skip_h1_title": true,
   "title_cell": "Содержание",
   "title_sidebar": "Contents",
   "toc_cell": true,
   "toc_position": {
    "height": "calc(100% - 180px)",
    "left": "10px",
    "top": "150px",
    "width": "313.056px"
   },
   "toc_section_display": true,
   "toc_window_display": false
  }
 },
 "nbformat": 4,
 "nbformat_minor": 2
}
