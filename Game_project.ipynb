{
 "cells": [
  {
   "cell_type": "markdown",
   "metadata": {},
   "source": [
    "## Описание задачи\n",
    "Из открытых источников доступны исторические данные о продажах игр, оценки пользователей и экспертов, жанры и платформы (например, Xbox или PlayStation). Нам нужно выявить определяющие успешность игры закономерности. Это позволит сделать ставку на потенциально популярный продукт и спланировать рекламные кампании.Игры мы реализуем по всему миру.\n",
    "\n",
    "Перед нами данные до 2016 года. Представим, что сейчас декабрь 2016 г., и мы планируем кампанию на 2017-й."
   ]
  },
  {
   "cell_type": "markdown",
   "metadata": {},
   "source": [
    "## Предобработка данных"
   ]
  },
  {
   "cell_type": "markdown",
   "metadata": {},
   "source": [
    "Импортируем основные библиотеки"
   ]
  },
  {
   "cell_type": "code",
   "execution_count": 1,
   "metadata": {},
   "outputs": [],
   "source": [
    "import pandas as pd\n",
    "import matplotlib.pyplot as plt\n",
    "import numpy as np\n",
    "import seaborn as sns\n",
    "from scipy import stats as st\n",
    "from matplotlib.ticker import FormatStrFormatter\n"
   ]
  },
  {
   "cell_type": "code",
   "execution_count": 2,
   "metadata": {},
   "outputs": [],
   "source": [
    "data = pd.read_csv('/datasets/games.csv')"
   ]
  },
  {
   "cell_type": "code",
   "execution_count": 3,
   "metadata": {
    "scrolled": false
   },
   "outputs": [
    {
     "data": {
      "text/html": [
       "<div>\n",
       "<style scoped>\n",
       "    .dataframe tbody tr th:only-of-type {\n",
       "        vertical-align: middle;\n",
       "    }\n",
       "\n",
       "    .dataframe tbody tr th {\n",
       "        vertical-align: top;\n",
       "    }\n",
       "\n",
       "    .dataframe thead th {\n",
       "        text-align: right;\n",
       "    }\n",
       "</style>\n",
       "<table border=\"1\" class=\"dataframe\">\n",
       "  <thead>\n",
       "    <tr style=\"text-align: right;\">\n",
       "      <th></th>\n",
       "      <th>Name</th>\n",
       "      <th>Platform</th>\n",
       "      <th>Year_of_Release</th>\n",
       "      <th>Genre</th>\n",
       "      <th>NA_sales</th>\n",
       "      <th>EU_sales</th>\n",
       "      <th>JP_sales</th>\n",
       "      <th>Other_sales</th>\n",
       "      <th>Critic_Score</th>\n",
       "      <th>User_Score</th>\n",
       "      <th>Rating</th>\n",
       "    </tr>\n",
       "  </thead>\n",
       "  <tbody>\n",
       "    <tr>\n",
       "      <td>0</td>\n",
       "      <td>Wii Sports</td>\n",
       "      <td>Wii</td>\n",
       "      <td>2006.0</td>\n",
       "      <td>Sports</td>\n",
       "      <td>41.36</td>\n",
       "      <td>28.96</td>\n",
       "      <td>3.77</td>\n",
       "      <td>8.45</td>\n",
       "      <td>76.0</td>\n",
       "      <td>8</td>\n",
       "      <td>E</td>\n",
       "    </tr>\n",
       "    <tr>\n",
       "      <td>1</td>\n",
       "      <td>Super Mario Bros.</td>\n",
       "      <td>NES</td>\n",
       "      <td>1985.0</td>\n",
       "      <td>Platform</td>\n",
       "      <td>29.08</td>\n",
       "      <td>3.58</td>\n",
       "      <td>6.81</td>\n",
       "      <td>0.77</td>\n",
       "      <td>NaN</td>\n",
       "      <td>NaN</td>\n",
       "      <td>NaN</td>\n",
       "    </tr>\n",
       "    <tr>\n",
       "      <td>2</td>\n",
       "      <td>Mario Kart Wii</td>\n",
       "      <td>Wii</td>\n",
       "      <td>2008.0</td>\n",
       "      <td>Racing</td>\n",
       "      <td>15.68</td>\n",
       "      <td>12.76</td>\n",
       "      <td>3.79</td>\n",
       "      <td>3.29</td>\n",
       "      <td>82.0</td>\n",
       "      <td>8.3</td>\n",
       "      <td>E</td>\n",
       "    </tr>\n",
       "    <tr>\n",
       "      <td>3</td>\n",
       "      <td>Wii Sports Resort</td>\n",
       "      <td>Wii</td>\n",
       "      <td>2009.0</td>\n",
       "      <td>Sports</td>\n",
       "      <td>15.61</td>\n",
       "      <td>10.93</td>\n",
       "      <td>3.28</td>\n",
       "      <td>2.95</td>\n",
       "      <td>80.0</td>\n",
       "      <td>8</td>\n",
       "      <td>E</td>\n",
       "    </tr>\n",
       "    <tr>\n",
       "      <td>4</td>\n",
       "      <td>Pokemon Red/Pokemon Blue</td>\n",
       "      <td>GB</td>\n",
       "      <td>1996.0</td>\n",
       "      <td>Role-Playing</td>\n",
       "      <td>11.27</td>\n",
       "      <td>8.89</td>\n",
       "      <td>10.22</td>\n",
       "      <td>1.00</td>\n",
       "      <td>NaN</td>\n",
       "      <td>NaN</td>\n",
       "      <td>NaN</td>\n",
       "    </tr>\n",
       "  </tbody>\n",
       "</table>\n",
       "</div>"
      ],
      "text/plain": [
       "                       Name Platform  Year_of_Release         Genre  NA_sales  \\\n",
       "0                Wii Sports      Wii           2006.0        Sports     41.36   \n",
       "1         Super Mario Bros.      NES           1985.0      Platform     29.08   \n",
       "2            Mario Kart Wii      Wii           2008.0        Racing     15.68   \n",
       "3         Wii Sports Resort      Wii           2009.0        Sports     15.61   \n",
       "4  Pokemon Red/Pokemon Blue       GB           1996.0  Role-Playing     11.27   \n",
       "\n",
       "   EU_sales  JP_sales  Other_sales  Critic_Score User_Score Rating  \n",
       "0     28.96      3.77         8.45          76.0          8      E  \n",
       "1      3.58      6.81         0.77           NaN        NaN    NaN  \n",
       "2     12.76      3.79         3.29          82.0        8.3      E  \n",
       "3     10.93      3.28         2.95          80.0          8      E  \n",
       "4      8.89     10.22         1.00           NaN        NaN    NaN  "
      ]
     },
     "metadata": {},
     "output_type": "display_data"
    },
    {
     "name": "stdout",
     "output_type": "stream",
     "text": [
      "<class 'pandas.core.frame.DataFrame'>\n",
      "RangeIndex: 16715 entries, 0 to 16714\n",
      "Data columns (total 11 columns):\n",
      "Name               16713 non-null object\n",
      "Platform           16715 non-null object\n",
      "Year_of_Release    16446 non-null float64\n",
      "Genre              16713 non-null object\n",
      "NA_sales           16715 non-null float64\n",
      "EU_sales           16715 non-null float64\n",
      "JP_sales           16715 non-null float64\n",
      "Other_sales        16715 non-null float64\n",
      "Critic_Score       8137 non-null float64\n",
      "User_Score         10014 non-null object\n",
      "Rating             9949 non-null object\n",
      "dtypes: float64(6), object(5)\n",
      "memory usage: 1.4+ MB\n"
     ]
    },
    {
     "data": {
      "text/plain": [
       "None"
      ]
     },
     "metadata": {},
     "output_type": "display_data"
    },
    {
     "data": {
      "text/plain": [
       "0"
      ]
     },
     "metadata": {},
     "output_type": "display_data"
    },
    {
     "data": {
      "text/html": [
       "<div>\n",
       "<style scoped>\n",
       "    .dataframe tbody tr th:only-of-type {\n",
       "        vertical-align: middle;\n",
       "    }\n",
       "\n",
       "    .dataframe tbody tr th {\n",
       "        vertical-align: top;\n",
       "    }\n",
       "\n",
       "    .dataframe thead th {\n",
       "        text-align: right;\n",
       "    }\n",
       "</style>\n",
       "<table border=\"1\" class=\"dataframe\">\n",
       "  <thead>\n",
       "    <tr style=\"text-align: right;\">\n",
       "      <th></th>\n",
       "      <th>Year_of_Release</th>\n",
       "      <th>NA_sales</th>\n",
       "      <th>EU_sales</th>\n",
       "      <th>JP_sales</th>\n",
       "      <th>Other_sales</th>\n",
       "      <th>Critic_Score</th>\n",
       "    </tr>\n",
       "  </thead>\n",
       "  <tbody>\n",
       "    <tr>\n",
       "      <td>count</td>\n",
       "      <td>16446.000000</td>\n",
       "      <td>16715.000000</td>\n",
       "      <td>16715.000000</td>\n",
       "      <td>16715.000000</td>\n",
       "      <td>16715.000000</td>\n",
       "      <td>8137.000000</td>\n",
       "    </tr>\n",
       "    <tr>\n",
       "      <td>mean</td>\n",
       "      <td>2006.484616</td>\n",
       "      <td>0.263377</td>\n",
       "      <td>0.145060</td>\n",
       "      <td>0.077617</td>\n",
       "      <td>0.047342</td>\n",
       "      <td>68.967679</td>\n",
       "    </tr>\n",
       "    <tr>\n",
       "      <td>std</td>\n",
       "      <td>5.877050</td>\n",
       "      <td>0.813604</td>\n",
       "      <td>0.503339</td>\n",
       "      <td>0.308853</td>\n",
       "      <td>0.186731</td>\n",
       "      <td>13.938165</td>\n",
       "    </tr>\n",
       "    <tr>\n",
       "      <td>min</td>\n",
       "      <td>1980.000000</td>\n",
       "      <td>0.000000</td>\n",
       "      <td>0.000000</td>\n",
       "      <td>0.000000</td>\n",
       "      <td>0.000000</td>\n",
       "      <td>13.000000</td>\n",
       "    </tr>\n",
       "    <tr>\n",
       "      <td>25%</td>\n",
       "      <td>2003.000000</td>\n",
       "      <td>0.000000</td>\n",
       "      <td>0.000000</td>\n",
       "      <td>0.000000</td>\n",
       "      <td>0.000000</td>\n",
       "      <td>60.000000</td>\n",
       "    </tr>\n",
       "    <tr>\n",
       "      <td>50%</td>\n",
       "      <td>2007.000000</td>\n",
       "      <td>0.080000</td>\n",
       "      <td>0.020000</td>\n",
       "      <td>0.000000</td>\n",
       "      <td>0.010000</td>\n",
       "      <td>71.000000</td>\n",
       "    </tr>\n",
       "    <tr>\n",
       "      <td>75%</td>\n",
       "      <td>2010.000000</td>\n",
       "      <td>0.240000</td>\n",
       "      <td>0.110000</td>\n",
       "      <td>0.040000</td>\n",
       "      <td>0.030000</td>\n",
       "      <td>79.000000</td>\n",
       "    </tr>\n",
       "    <tr>\n",
       "      <td>max</td>\n",
       "      <td>2016.000000</td>\n",
       "      <td>41.360000</td>\n",
       "      <td>28.960000</td>\n",
       "      <td>10.220000</td>\n",
       "      <td>10.570000</td>\n",
       "      <td>98.000000</td>\n",
       "    </tr>\n",
       "  </tbody>\n",
       "</table>\n",
       "</div>"
      ],
      "text/plain": [
       "       Year_of_Release      NA_sales      EU_sales      JP_sales  \\\n",
       "count     16446.000000  16715.000000  16715.000000  16715.000000   \n",
       "mean       2006.484616      0.263377      0.145060      0.077617   \n",
       "std           5.877050      0.813604      0.503339      0.308853   \n",
       "min        1980.000000      0.000000      0.000000      0.000000   \n",
       "25%        2003.000000      0.000000      0.000000      0.000000   \n",
       "50%        2007.000000      0.080000      0.020000      0.000000   \n",
       "75%        2010.000000      0.240000      0.110000      0.040000   \n",
       "max        2016.000000     41.360000     28.960000     10.220000   \n",
       "\n",
       "        Other_sales  Critic_Score  \n",
       "count  16715.000000   8137.000000  \n",
       "mean       0.047342     68.967679  \n",
       "std        0.186731     13.938165  \n",
       "min        0.000000     13.000000  \n",
       "25%        0.000000     60.000000  \n",
       "50%        0.010000     71.000000  \n",
       "75%        0.030000     79.000000  \n",
       "max       10.570000     98.000000  "
      ]
     },
     "metadata": {},
     "output_type": "display_data"
    }
   ],
   "source": [
    "display(data.head())\n",
    "display(data.info())\n",
    "display(data.duplicated().sum())\n",
    "display(data.describe())"
   ]
  },
  {
   "cell_type": "markdown",
   "metadata": {},
   "source": [
    "Опишем проблемы в данных\n",
    "\n",
    "1)Название столбцов нужно привести к нижнему регистру\n",
    "\n",
    "2)В данных есть пропуски в оценках, пропущены две игры и два жанра(можно написать там \"NO\"). В годах пропуски, нужно заполнить нулями, тип поменять на целочисленный(мало пропусков в годах, мы не сильно потеряем заполнив просто нулями) Очевидных дубликатов нет.\n",
    "\n",
    "3)Продажи можно умножить на тысячу и превести в целочисленный тип для удобства.\n",
    "\n",
    "4)В продажах в методи describe видно,что от 75% до 100% сильный скачок. Я думаю что это не ошибка, а просто очень популярные игры среди кучи других непопулярных. \n",
    "\n",
    "5)Относительно заполнений пропусков, не вижу чем бы их можно было заполнить, пользовательскую и другие оценки не угадаешь(поэтому ставить среднее и медиану точно неправильно). Рейтинг где то можно заполнить опираясь на жанр игры."
   ]
  },
  {
   "cell_type": "code",
   "execution_count": 4,
   "metadata": {},
   "outputs": [],
   "source": [
    "#1\n",
    "data = data.rename(str.lower, axis='columns')#переименования столбцов нижний регистр"
   ]
  },
  {
   "cell_type": "markdown",
   "metadata": {},
   "source": [
    "Name — название игры\n",
    "\n",
    "Platform — платформа\n",
    "\n",
    "Year_of_Release — год выпуска\n",
    "\n",
    "Genre — жанр игры\n",
    "\n",
    "NA_sales — продажи в Северной Америке (миллионы проданных копий)\n",
    "\n",
    "EU_sales — продажи в Европе (миллионы проданных копий)\n",
    "\n",
    "JP_sales — продажи в Японии (миллионы проданных копий)\n",
    "\n",
    "Other_sales — продажи в других странах (миллионы проданных копий)\n",
    "\n",
    "Critic_Score — оценка критиков (максимум 100)\n",
    "\n",
    "User_Score — оценка пользователей (максимум 10)\n",
    "\n",
    "Rating — рейтинг от организации ESRB (англ. Entertainment Software Rating Board). Эта ассоциация определяет рейтинг \n",
    "компьютерных игр и присваивает им подходящую возрастную категорию."
   ]
  },
  {
   "cell_type": "code",
   "execution_count": 5,
   "metadata": {},
   "outputs": [
    {
     "name": "stdout",
     "output_type": "stream",
     "text": [
      "<class 'pandas.core.frame.DataFrame'>\n",
      "Int64Index: 16444 entries, 0 to 16714\n",
      "Data columns (total 11 columns):\n",
      "name               16444 non-null object\n",
      "platform           16444 non-null object\n",
      "year_of_release    16444 non-null float64\n",
      "genre              16444 non-null object\n",
      "na_sales           16444 non-null float64\n",
      "eu_sales           16444 non-null float64\n",
      "jp_sales           16444 non-null float64\n",
      "other_sales        16444 non-null float64\n",
      "critic_score       7983 non-null float64\n",
      "user_score         9839 non-null object\n",
      "rating             9768 non-null object\n",
      "dtypes: float64(6), object(5)\n",
      "memory usage: 1.5+ MB\n"
     ]
    }
   ],
   "source": [
    "data = data.dropna(subset = ['genre','year_of_release'])# удалим строки в которых нет данных по годам и жанр, их немного и в дальнейшем без знания года они не помогут нам для анализа\n",
    "data.info()"
   ]
  },
  {
   "cell_type": "code",
   "execution_count": 6,
   "metadata": {},
   "outputs": [
    {
     "data": {
      "text/plain": [
       "array(['Wii', 'NES', 'GB', 'DS', 'X360', 'PS3', 'PS2', 'SNES', 'GBA',\n",
       "       'PS4', '3DS', 'N64', 'PS', 'XB', 'PC', '2600', 'PSP', 'XOne',\n",
       "       'WiiU', 'GC', 'GEN', 'DC', 'PSV', 'SAT', 'SCD', 'WS', 'NG', 'TG16',\n",
       "       '3DO', 'GG', 'PCFX'], dtype=object)"
      ]
     },
     "metadata": {},
     "output_type": "display_data"
    },
    {
     "data": {
      "text/plain": [
       "array(['8', nan, '8.3', '8.5', '6.6', '8.4', '8.6', '7.7', '6.3', '7.4',\n",
       "       '8.2', '9', '7.9', '8.1', '8.7', '7.1', '3.4', '5.3', '4.8', '3.2',\n",
       "       '8.9', '6.4', '7.8', '7.5', '2.6', '7.2', '9.2', '7', '7.3', '4.3',\n",
       "       '7.6', '5.7', '5', '9.1', '6.5', 'tbd', '8.8', '6.9', '9.4', '6.8',\n",
       "       '6.1', '6.7', '5.4', '4', '4.9', '4.5', '9.3', '6.2', '4.2', '6',\n",
       "       '3.7', '4.1', '5.8', '5.6', '5.5', '4.4', '4.6', '5.9', '3.9',\n",
       "       '3.1', '2.9', '5.2', '3.3', '4.7', '5.1', '3.5', '2.5', '1.9', '3',\n",
       "       '2.7', '2.2', '2', '9.5', '2.1', '3.6', '2.8', '1.8', '3.8', '0',\n",
       "       '1.6', '9.6', '2.4', '1.7', '1.1', '0.3', '1.5', '0.7', '1.2',\n",
       "       '2.3', '0.5', '1.3', '0.2', '0.6', '1.4', '0.9', '1', '9.7'],\n",
       "      dtype=object)"
      ]
     },
     "metadata": {},
     "output_type": "display_data"
    },
    {
     "data": {
      "text/plain": [
       "array(['E', nan, 'M', 'T', 'E10+', 'K-A', 'AO', 'EC', 'RP'], dtype=object)"
      ]
     },
     "metadata": {},
     "output_type": "display_data"
    },
    {
     "data": {
      "text/plain": [
       "array([76., nan, 82., 80., 89., 58., 87., 91., 61., 97., 95., 77., 88.,\n",
       "       83., 94., 93., 85., 86., 98., 96., 90., 84., 73., 74., 78., 92.,\n",
       "       71., 72., 68., 62., 49., 67., 81., 66., 56., 79., 70., 59., 64.,\n",
       "       75., 60., 63., 69., 50., 25., 42., 44., 55., 48., 57., 29., 47.,\n",
       "       65., 54., 20., 53., 37., 38., 33., 52., 30., 32., 43., 45., 51.,\n",
       "       40., 46., 39., 34., 41., 36., 31., 27., 35., 26., 19., 28., 23.,\n",
       "       24., 21., 17., 13.])"
      ]
     },
     "metadata": {},
     "output_type": "display_data"
    },
    {
     "data": {
      "text/plain": [
       "array(['Sports', 'Platform', 'Racing', 'Role-Playing', 'Puzzle', 'Misc',\n",
       "       'Shooter', 'Simulation', 'Action', 'Fighting', 'Adventure',\n",
       "       'Strategy'], dtype=object)"
      ]
     },
     "metadata": {},
     "output_type": "display_data"
    }
   ],
   "source": [
    "display(data['platform'].unique())\n",
    "display(data['user_score'].unique())# в пользовательских оценках есть tbd это может помешать в дальнейшем анализе, нужно поменять на другое значение(-1), т.к ноль там встречается-скорее всего игра так плоха, что там ноль\n",
    "display(data['rating'].unique())\n",
    "display(data['critic_score'].unique())\n",
    "display(data['genre'].unique())\n"
   ]
  },
  {
   "cell_type": "code",
   "execution_count": 7,
   "metadata": {
    "scrolled": false
   },
   "outputs": [
    {
     "data": {
      "image/png": "[encoded data removed]",
      "text/plain": [
       "<Figure size 1152x432 with 1 Axes>"
      ]
     },
     "metadata": {
      "needs_background": "light"
     },
     "output_type": "display_data"
    }
   ],
   "source": [
    "data[data['year_of_release'] > 0].groupby('year_of_release')[['critic_score', 'user_score', 'rating']] \\\n",
    "        .agg(lambda x: x.isna().mean()).mul(100) \\\n",
    "        .plot(title='Доли пропусков в полях по годам (в процентах)', figsize=(16, 6));"
   ]
  },
  {
   "cell_type": "code",
   "execution_count": 8,
   "metadata": {},
   "outputs": [
    {
     "data": {
      "image/png": "[encoded data removed]",
      "text/plain": [
       "<Figure size 432x288 with 1 Axes>"
      ]
     },
     "metadata": {
      "needs_background": "light"
     },
     "output_type": "display_data"
    }
   ],
   "source": [
    "data[data['user_score'] == 'tbd']['year_of_release'].hist(bins =100,range = (1995, 2017))\n",
    "\n",
    "# поменяем tbd на nan.на целочисленный менять не буду, так как оценки пользователей не всегда равны 6,7 и т.д.\n",
    "data.loc[data['user_score'] == 'tbd', 'user_score'] = np.nan"
   ]
  },
  {
   "cell_type": "code",
   "execution_count": 9,
   "metadata": {},
   "outputs": [],
   "source": [
    "\n",
    "data['na_sales'] = data['na_sales'].astype('int64')\n",
    "data['eu_sales'] = data['eu_sales'].astype('int64')\n",
    "data['other_sales'] = data['other_sales'].astype('int64')\n",
    "data['jp_sales'] = data['jp_sales'].astype('int64')\n",
    "data['year_of_release'] = data['year_of_release'].astype('int64')\n",
    "data['user_score'] = data['user_score'].astype('float')"
   ]
  },
  {
   "cell_type": "code",
   "execution_count": 10,
   "metadata": {},
   "outputs": [],
   "source": [
    "#в тысячах более нагялдно,чем в миллионах(все что у нуля \"замывается\")\n",
    "data['na_sales'] = data['na_sales']*1000\n",
    "data['eu_sales'] = data['eu_sales']*1000\n",
    "data['other_sales'] = data['other_sales']*1000\n",
    "data['jp_sales'] = data['jp_sales']*1000"
   ]
  },
  {
   "cell_type": "code",
   "execution_count": 11,
   "metadata": {},
   "outputs": [
    {
     "data": {
      "text/html": [
       "<div>\n",
       "<style scoped>\n",
       "    .dataframe tbody tr th:only-of-type {\n",
       "        vertical-align: middle;\n",
       "    }\n",
       "\n",
       "    .dataframe tbody tr th {\n",
       "        vertical-align: top;\n",
       "    }\n",
       "\n",
       "    .dataframe thead th {\n",
       "        text-align: right;\n",
       "    }\n",
       "</style>\n",
       "<table border=\"1\" class=\"dataframe\">\n",
       "  <thead>\n",
       "    <tr style=\"text-align: right;\">\n",
       "      <th></th>\n",
       "      <th></th>\n",
       "      <th>rating2</th>\n",
       "    </tr>\n",
       "    <tr>\n",
       "      <th>genre</th>\n",
       "      <th>rating</th>\n",
       "      <th></th>\n",
       "    </tr>\n",
       "  </thead>\n",
       "  <tbody>\n",
       "    <tr>\n",
       "      <td rowspan=\"6\" valign=\"top\">Action</td>\n",
       "      <td>AO</td>\n",
       "      <td>1</td>\n",
       "    </tr>\n",
       "    <tr>\n",
       "      <td>E</td>\n",
       "      <td>410</td>\n",
       "    </tr>\n",
       "    <tr>\n",
       "      <td>E10+</td>\n",
       "      <td>468</td>\n",
       "    </tr>\n",
       "    <tr>\n",
       "      <td>EC</td>\n",
       "      <td>1</td>\n",
       "    </tr>\n",
       "    <tr>\n",
       "      <td>M</td>\n",
       "      <td>596</td>\n",
       "    </tr>\n",
       "    <tr>\n",
       "      <td>T</td>\n",
       "      <td>670</td>\n",
       "    </tr>\n",
       "    <tr>\n",
       "      <td rowspan=\"5\" valign=\"top\">Adventure</td>\n",
       "      <td>E</td>\n",
       "      <td>159</td>\n",
       "    </tr>\n",
       "    <tr>\n",
       "      <td>E10+</td>\n",
       "      <td>67</td>\n",
       "    </tr>\n",
       "    <tr>\n",
       "      <td>EC</td>\n",
       "      <td>2</td>\n",
       "    </tr>\n",
       "    <tr>\n",
       "      <td>M</td>\n",
       "      <td>98</td>\n",
       "    </tr>\n",
       "    <tr>\n",
       "      <td>T</td>\n",
       "      <td>114</td>\n",
       "    </tr>\n",
       "    <tr>\n",
       "      <td rowspan=\"4\" valign=\"top\">Fighting</td>\n",
       "      <td>E</td>\n",
       "      <td>8</td>\n",
       "    </tr>\n",
       "    <tr>\n",
       "      <td>E10+</td>\n",
       "      <td>19</td>\n",
       "    </tr>\n",
       "    <tr>\n",
       "      <td>M</td>\n",
       "      <td>48</td>\n",
       "    </tr>\n",
       "    <tr>\n",
       "      <td>T</td>\n",
       "      <td>357</td>\n",
       "    </tr>\n",
       "    <tr>\n",
       "      <td rowspan=\"6\" valign=\"top\">Misc</td>\n",
       "      <td>E</td>\n",
       "      <td>449</td>\n",
       "    </tr>\n",
       "    <tr>\n",
       "      <td>E10+</td>\n",
       "      <td>166</td>\n",
       "    </tr>\n",
       "    <tr>\n",
       "      <td>EC</td>\n",
       "      <td>5</td>\n",
       "    </tr>\n",
       "    <tr>\n",
       "      <td>K-A</td>\n",
       "      <td>1</td>\n",
       "    </tr>\n",
       "    <tr>\n",
       "      <td>M</td>\n",
       "      <td>13</td>\n",
       "    </tr>\n",
       "    <tr>\n",
       "      <td>T</td>\n",
       "      <td>228</td>\n",
       "    </tr>\n",
       "    <tr>\n",
       "      <td rowspan=\"4\" valign=\"top\">Platform</td>\n",
       "      <td>E</td>\n",
       "      <td>354</td>\n",
       "    </tr>\n",
       "    <tr>\n",
       "      <td>E10+</td>\n",
       "      <td>141</td>\n",
       "    </tr>\n",
       "    <tr>\n",
       "      <td>M</td>\n",
       "      <td>3</td>\n",
       "    </tr>\n",
       "    <tr>\n",
       "      <td>T</td>\n",
       "      <td>63</td>\n",
       "    </tr>\n",
       "    <tr>\n",
       "      <td rowspan=\"3\" valign=\"top\">Puzzle</td>\n",
       "      <td>E</td>\n",
       "      <td>284</td>\n",
       "    </tr>\n",
       "    <tr>\n",
       "      <td>E10+</td>\n",
       "      <td>42</td>\n",
       "    </tr>\n",
       "    <tr>\n",
       "      <td>T</td>\n",
       "      <td>10</td>\n",
       "    </tr>\n",
       "    <tr>\n",
       "      <td rowspan=\"4\" valign=\"top\">Racing</td>\n",
       "      <td>E</td>\n",
       "      <td>576</td>\n",
       "    </tr>\n",
       "    <tr>\n",
       "      <td>E10+</td>\n",
       "      <td>95</td>\n",
       "    </tr>\n",
       "    <tr>\n",
       "      <td>M</td>\n",
       "      <td>18</td>\n",
       "    </tr>\n",
       "    <tr>\n",
       "      <td>T</td>\n",
       "      <td>167</td>\n",
       "    </tr>\n",
       "    <tr>\n",
       "      <td rowspan=\"4\" valign=\"top\">Role-Playing</td>\n",
       "      <td>E</td>\n",
       "      <td>83</td>\n",
       "    </tr>\n",
       "    <tr>\n",
       "      <td>E10+</td>\n",
       "      <td>111</td>\n",
       "    </tr>\n",
       "    <tr>\n",
       "      <td>M</td>\n",
       "      <td>161</td>\n",
       "    </tr>\n",
       "    <tr>\n",
       "      <td>T</td>\n",
       "      <td>415</td>\n",
       "    </tr>\n",
       "    <tr>\n",
       "      <td rowspan=\"4\" valign=\"top\">Shooter</td>\n",
       "      <td>E</td>\n",
       "      <td>47</td>\n",
       "    </tr>\n",
       "    <tr>\n",
       "      <td>E10+</td>\n",
       "      <td>56</td>\n",
       "    </tr>\n",
       "    <tr>\n",
       "      <td>M</td>\n",
       "      <td>553</td>\n",
       "    </tr>\n",
       "    <tr>\n",
       "      <td>T</td>\n",
       "      <td>340</td>\n",
       "    </tr>\n",
       "    <tr>\n",
       "      <td rowspan=\"4\" valign=\"top\">Simulation</td>\n",
       "      <td>E</td>\n",
       "      <td>321</td>\n",
       "    </tr>\n",
       "    <tr>\n",
       "      <td>E10+</td>\n",
       "      <td>47</td>\n",
       "    </tr>\n",
       "    <tr>\n",
       "      <td>M</td>\n",
       "      <td>5</td>\n",
       "    </tr>\n",
       "    <tr>\n",
       "      <td>T</td>\n",
       "      <td>186</td>\n",
       "    </tr>\n",
       "    <tr>\n",
       "      <td rowspan=\"4\" valign=\"top\">Sports</td>\n",
       "      <td>E</td>\n",
       "      <td>1162</td>\n",
       "    </tr>\n",
       "    <tr>\n",
       "      <td>E10+</td>\n",
       "      <td>105</td>\n",
       "    </tr>\n",
       "    <tr>\n",
       "      <td>M</td>\n",
       "      <td>16</td>\n",
       "    </tr>\n",
       "    <tr>\n",
       "      <td>T</td>\n",
       "      <td>195</td>\n",
       "    </tr>\n",
       "    <tr>\n",
       "      <td rowspan=\"6\" valign=\"top\">Strategy</td>\n",
       "      <td>E</td>\n",
       "      <td>68</td>\n",
       "    </tr>\n",
       "    <tr>\n",
       "      <td>E10+</td>\n",
       "      <td>76</td>\n",
       "    </tr>\n",
       "    <tr>\n",
       "      <td>K-A</td>\n",
       "      <td>2</td>\n",
       "    </tr>\n",
       "    <tr>\n",
       "      <td>M</td>\n",
       "      <td>25</td>\n",
       "    </tr>\n",
       "    <tr>\n",
       "      <td>RP</td>\n",
       "      <td>1</td>\n",
       "    </tr>\n",
       "    <tr>\n",
       "      <td>T</td>\n",
       "      <td>160</td>\n",
       "    </tr>\n",
       "  </tbody>\n",
       "</table>\n",
       "</div>"
      ],
      "text/plain": [
       "                     rating2\n",
       "genre        rating         \n",
       "Action       AO            1\n",
       "             E           410\n",
       "             E10+        468\n",
       "             EC            1\n",
       "             M           596\n",
       "             T           670\n",
       "Adventure    E           159\n",
       "             E10+         67\n",
       "             EC            2\n",
       "             M            98\n",
       "             T           114\n",
       "Fighting     E             8\n",
       "             E10+         19\n",
       "             M            48\n",
       "             T           357\n",
       "Misc         E           449\n",
       "             E10+        166\n",
       "             EC            5\n",
       "             K-A           1\n",
       "             M            13\n",
       "             T           228\n",
       "Platform     E           354\n",
       "             E10+        141\n",
       "             M             3\n",
       "             T            63\n",
       "Puzzle       E           284\n",
       "             E10+         42\n",
       "             T            10\n",
       "Racing       E           576\n",
       "             E10+         95\n",
       "             M            18\n",
       "             T           167\n",
       "Role-Playing E            83\n",
       "             E10+        111\n",
       "             M           161\n",
       "             T           415\n",
       "Shooter      E            47\n",
       "             E10+         56\n",
       "             M           553\n",
       "             T           340\n",
       "Simulation   E           321\n",
       "             E10+         47\n",
       "             M             5\n",
       "             T           186\n",
       "Sports       E          1162\n",
       "             E10+        105\n",
       "             M            16\n",
       "             T           195\n",
       "Strategy     E            68\n",
       "             E10+         76\n",
       "             K-A           2\n",
       "             M            25\n",
       "             RP            1\n",
       "             T           160"
      ]
     },
     "execution_count": 11,
     "metadata": {},
     "output_type": "execute_result"
    }
   ],
   "source": [
    "#5 создадим 2 копию, где будут данные с рейтингами,чтобы потом на основании этой таблицы заполнить данные \n",
    "data2 = data.copy()\n",
    "data2.dropna(subset = ['rating'],inplace = True)\n",
    "data2 = data2[['genre','rating']].reset_index(drop = True)\n",
    "data2['rating2'] = data2['rating']\n",
    "data2_pivot = data2.pivot_table(index = ['genre','rating'],aggfunc = 'count')\n",
    "data2_pivot\n",
    "#рейтинги сильно разбросаны по жанру, мое предположение что один какой то рейтинг может быть привязан к жанру не оправдались, пропуски заполнять в жанре не буду"
   ]
  },
  {
   "cell_type": "markdown",
   "metadata": {},
   "source": [
    "К пропускам в данных могли привести,то, что игры в базе есть достаточно старые и непопулярные,соответсвенно для одинх рейтинги могли еще не остсавлять, а для непопулярных даже в современном мире могли не ставить оценки."
   ]
  },
  {
   "cell_type": "code",
   "execution_count": 12,
   "metadata": {},
   "outputs": [
    {
     "data": {
      "text/html": [
       "<div>\n",
       "<style scoped>\n",
       "    .dataframe tbody tr th:only-of-type {\n",
       "        vertical-align: middle;\n",
       "    }\n",
       "\n",
       "    .dataframe tbody tr th {\n",
       "        vertical-align: top;\n",
       "    }\n",
       "\n",
       "    .dataframe thead th {\n",
       "        text-align: right;\n",
       "    }\n",
       "</style>\n",
       "<table border=\"1\" class=\"dataframe\">\n",
       "  <thead>\n",
       "    <tr style=\"text-align: right;\">\n",
       "      <th></th>\n",
       "      <th>name</th>\n",
       "      <th>platform</th>\n",
       "      <th>year_of_release</th>\n",
       "      <th>genre</th>\n",
       "      <th>na_sales</th>\n",
       "      <th>eu_sales</th>\n",
       "      <th>jp_sales</th>\n",
       "      <th>other_sales</th>\n",
       "      <th>critic_score</th>\n",
       "      <th>user_score</th>\n",
       "      <th>rating</th>\n",
       "      <th>world_sales</th>\n",
       "    </tr>\n",
       "  </thead>\n",
       "  <tbody>\n",
       "    <tr>\n",
       "      <td>0</td>\n",
       "      <td>Wii Sports</td>\n",
       "      <td>Wii</td>\n",
       "      <td>2006</td>\n",
       "      <td>Sports</td>\n",
       "      <td>41000</td>\n",
       "      <td>28000</td>\n",
       "      <td>3000</td>\n",
       "      <td>8000</td>\n",
       "      <td>76.0</td>\n",
       "      <td>8.0</td>\n",
       "      <td>E</td>\n",
       "      <td>80000</td>\n",
       "    </tr>\n",
       "    <tr>\n",
       "      <td>1</td>\n",
       "      <td>Super Mario Bros.</td>\n",
       "      <td>NES</td>\n",
       "      <td>1985</td>\n",
       "      <td>Platform</td>\n",
       "      <td>29000</td>\n",
       "      <td>3000</td>\n",
       "      <td>6000</td>\n",
       "      <td>0</td>\n",
       "      <td>NaN</td>\n",
       "      <td>NaN</td>\n",
       "      <td>NaN</td>\n",
       "      <td>38000</td>\n",
       "    </tr>\n",
       "    <tr>\n",
       "      <td>2</td>\n",
       "      <td>Mario Kart Wii</td>\n",
       "      <td>Wii</td>\n",
       "      <td>2008</td>\n",
       "      <td>Racing</td>\n",
       "      <td>15000</td>\n",
       "      <td>12000</td>\n",
       "      <td>3000</td>\n",
       "      <td>3000</td>\n",
       "      <td>82.0</td>\n",
       "      <td>8.3</td>\n",
       "      <td>E</td>\n",
       "      <td>33000</td>\n",
       "    </tr>\n",
       "    <tr>\n",
       "      <td>3</td>\n",
       "      <td>Wii Sports Resort</td>\n",
       "      <td>Wii</td>\n",
       "      <td>2009</td>\n",
       "      <td>Sports</td>\n",
       "      <td>15000</td>\n",
       "      <td>10000</td>\n",
       "      <td>3000</td>\n",
       "      <td>2000</td>\n",
       "      <td>80.0</td>\n",
       "      <td>8.0</td>\n",
       "      <td>E</td>\n",
       "      <td>30000</td>\n",
       "    </tr>\n",
       "    <tr>\n",
       "      <td>4</td>\n",
       "      <td>Pokemon Red/Pokemon Blue</td>\n",
       "      <td>GB</td>\n",
       "      <td>1996</td>\n",
       "      <td>Role-Playing</td>\n",
       "      <td>11000</td>\n",
       "      <td>8000</td>\n",
       "      <td>10000</td>\n",
       "      <td>1000</td>\n",
       "      <td>NaN</td>\n",
       "      <td>NaN</td>\n",
       "      <td>NaN</td>\n",
       "      <td>30000</td>\n",
       "    </tr>\n",
       "  </tbody>\n",
       "</table>\n",
       "</div>"
      ],
      "text/plain": [
       "                       name platform  year_of_release         genre  na_sales  \\\n",
       "0                Wii Sports      Wii             2006        Sports     41000   \n",
       "1         Super Mario Bros.      NES             1985      Platform     29000   \n",
       "2            Mario Kart Wii      Wii             2008        Racing     15000   \n",
       "3         Wii Sports Resort      Wii             2009        Sports     15000   \n",
       "4  Pokemon Red/Pokemon Blue       GB             1996  Role-Playing     11000   \n",
       "\n",
       "   eu_sales  jp_sales  other_sales  critic_score  user_score rating  \\\n",
       "0     28000      3000         8000          76.0         8.0      E   \n",
       "1      3000      6000            0           NaN         NaN    NaN   \n",
       "2     12000      3000         3000          82.0         8.3      E   \n",
       "3     10000      3000         2000          80.0         8.0      E   \n",
       "4      8000     10000         1000           NaN         NaN    NaN   \n",
       "\n",
       "   world_sales  \n",
       "0        80000  \n",
       "1        38000  \n",
       "2        33000  \n",
       "3        30000  \n",
       "4        30000  "
      ]
     },
     "execution_count": 12,
     "metadata": {},
     "output_type": "execute_result"
    }
   ],
   "source": [
    "data['world_sales'] = data['na_sales'] + data['eu_sales'] + data['jp_sales'] + data['other_sales']\n",
    "data.head()\n"
   ]
  },
  {
   "cell_type": "markdown",
   "metadata": {},
   "source": [
    "## Исследовательский анализ данных"
   ]
  },
  {
   "cell_type": "markdown",
   "metadata": {},
   "source": [
    "**Посмотрим, сколько игр выпускалось в разные годы. Важны ли данные за все периоды?**\n"
   ]
  },
  {
   "cell_type": "code",
   "execution_count": 13,
   "metadata": {},
   "outputs": [
    {
     "data": {
      "text/plain": [
       "2008    1427\n",
       "2009    1426\n",
       "2010    1255\n",
       "2007    1197\n",
       "2011    1136\n",
       "2006    1006\n",
       "2005     939\n",
       "2002     829\n",
       "2003     775\n",
       "2004     762\n",
       "2012     653\n",
       "2015     606\n",
       "2014     581\n",
       "2013     544\n",
       "2016     502\n",
       "2001     482\n",
       "1998     379\n",
       "2000     350\n",
       "1999     338\n",
       "1997     289\n",
       "1996     263\n",
       "1995     219\n",
       "1994     121\n",
       "1993      60\n",
       "1981      46\n",
       "1992      43\n",
       "1991      41\n",
       "1982      36\n",
       "1986      21\n",
       "1983      17\n",
       "1989      17\n",
       "1987      16\n",
       "1990      16\n",
       "1988      15\n",
       "1984      14\n",
       "1985      14\n",
       "1980       9\n",
       "Name: year_of_release, dtype: int64"
      ]
     },
     "metadata": {},
     "output_type": "display_data"
    }
   ],
   "source": [
    "\n",
    "display(data['year_of_release'].value_counts())#можно отсечь игры до 1993\n",
    "#data[(data['year_of_release'] == 0) & (data['world_sales'] > 1_000)]#у игр с продажей, где мы заполнили нулями замые выоские продажи суммано 5 млн у футбола, мне кажется этими данными можно смело принебречь\n",
    "#я хочу отсечь игры"
   ]
  },
  {
   "cell_type": "code",
   "execution_count": 14,
   "metadata": {
    "scrolled": false
   },
   "outputs": [
    {
     "data": {
      "text/plain": [
       "2008    1427\n",
       "2009    1426\n",
       "2010    1255\n",
       "2007    1197\n",
       "2011    1136\n",
       "2006    1006\n",
       "2005     939\n",
       "2002     829\n",
       "2003     775\n",
       "2004     762\n",
       "2012     653\n",
       "2015     606\n",
       "2014     581\n",
       "2013     544\n",
       "2016     502\n",
       "2001     482\n",
       "1998     379\n",
       "2000     350\n",
       "1999     338\n",
       "1997     289\n",
       "1996     263\n",
       "1995     219\n",
       "1994     121\n",
       "Name: year_of_release, dtype: int64"
      ]
     },
     "execution_count": 14,
     "metadata": {},
     "output_type": "execute_result"
    }
   ],
   "source": [
    "data_analyz = data.query('year_of_release > 1993')\n",
    "data_analyz['year_of_release'].value_counts()# отсекли данные до 1993"
   ]
  },
  {
   "cell_type": "markdown",
   "metadata": {},
   "source": [
    "**Посмотрим, как менялись продажи по платформам. Выберим платформы с наибольшими суммарными продажами и построим распределение по годам. За какой характерный срок появляются новые и исчезают старые платформы?**\n",
    "\n",
    "**Какие платформы лидируют по продажам, растут или падают?**"
   ]
  },
  {
   "cell_type": "code",
   "execution_count": 15,
   "metadata": {},
   "outputs": [
    {
     "data": {
      "text/html": [
       "<div>\n",
       "<style scoped>\n",
       "    .dataframe tbody tr th:only-of-type {\n",
       "        vertical-align: middle;\n",
       "    }\n",
       "\n",
       "    .dataframe tbody tr th {\n",
       "        vertical-align: top;\n",
       "    }\n",
       "\n",
       "    .dataframe thead th {\n",
       "        text-align: right;\n",
       "    }\n",
       "</style>\n",
       "<table border=\"1\" class=\"dataframe\">\n",
       "  <thead>\n",
       "    <tr style=\"text-align: right;\">\n",
       "      <th></th>\n",
       "      <th>platform</th>\n",
       "      <th>year_of_release</th>\n",
       "      <th>world_sales</th>\n",
       "    </tr>\n",
       "  </thead>\n",
       "  <tbody>\n",
       "    <tr>\n",
       "      <td>0</td>\n",
       "      <td>3DO</td>\n",
       "      <td>1994</td>\n",
       "      <td>0</td>\n",
       "    </tr>\n",
       "    <tr>\n",
       "      <td>1</td>\n",
       "      <td>3DO</td>\n",
       "      <td>1995</td>\n",
       "      <td>0</td>\n",
       "    </tr>\n",
       "    <tr>\n",
       "      <td>2</td>\n",
       "      <td>3DS</td>\n",
       "      <td>2011</td>\n",
       "      <td>26000</td>\n",
       "    </tr>\n",
       "    <tr>\n",
       "      <td>3</td>\n",
       "      <td>3DS</td>\n",
       "      <td>2012</td>\n",
       "      <td>17000</td>\n",
       "    </tr>\n",
       "    <tr>\n",
       "      <td>4</td>\n",
       "      <td>3DS</td>\n",
       "      <td>2013</td>\n",
       "      <td>27000</td>\n",
       "    </tr>\n",
       "    <tr>\n",
       "      <td>...</td>\n",
       "      <td>...</td>\n",
       "      <td>...</td>\n",
       "      <td>...</td>\n",
       "    </tr>\n",
       "    <tr>\n",
       "      <td>192</td>\n",
       "      <td>XB</td>\n",
       "      <td>2008</td>\n",
       "      <td>0</td>\n",
       "    </tr>\n",
       "    <tr>\n",
       "      <td>193</td>\n",
       "      <td>XOne</td>\n",
       "      <td>2013</td>\n",
       "      <td>5000</td>\n",
       "    </tr>\n",
       "    <tr>\n",
       "      <td>194</td>\n",
       "      <td>XOne</td>\n",
       "      <td>2014</td>\n",
       "      <td>19000</td>\n",
       "    </tr>\n",
       "    <tr>\n",
       "      <td>195</td>\n",
       "      <td>XOne</td>\n",
       "      <td>2015</td>\n",
       "      <td>23000</td>\n",
       "    </tr>\n",
       "    <tr>\n",
       "      <td>196</td>\n",
       "      <td>XOne</td>\n",
       "      <td>2016</td>\n",
       "      <td>6000</td>\n",
       "    </tr>\n",
       "  </tbody>\n",
       "</table>\n",
       "<p>197 rows × 3 columns</p>\n",
       "</div>"
      ],
      "text/plain": [
       "    platform  year_of_release  world_sales\n",
       "0        3DO             1994            0\n",
       "1        3DO             1995            0\n",
       "2        3DS             2011        26000\n",
       "3        3DS             2012        17000\n",
       "4        3DS             2013        27000\n",
       "..       ...              ...          ...\n",
       "192       XB             2008            0\n",
       "193     XOne             2013         5000\n",
       "194     XOne             2014        19000\n",
       "195     XOne             2015        23000\n",
       "196     XOne             2016         6000\n",
       "\n",
       "[197 rows x 3 columns]"
      ]
     },
     "metadata": {},
     "output_type": "display_data"
    },
    {
     "data": {
      "text/html": [
       "<div>\n",
       "<style scoped>\n",
       "    .dataframe tbody tr th:only-of-type {\n",
       "        vertical-align: middle;\n",
       "    }\n",
       "\n",
       "    .dataframe tbody tr th {\n",
       "        vertical-align: top;\n",
       "    }\n",
       "\n",
       "    .dataframe thead th {\n",
       "        text-align: right;\n",
       "    }\n",
       "</style>\n",
       "<table border=\"1\" class=\"dataframe\">\n",
       "  <thead>\n",
       "    <tr style=\"text-align: right;\">\n",
       "      <th></th>\n",
       "      <th>platform</th>\n",
       "      <th>world_sales</th>\n",
       "    </tr>\n",
       "  </thead>\n",
       "  <tbody>\n",
       "    <tr>\n",
       "      <td>24</td>\n",
       "      <td>Wii</td>\n",
       "      <td>412000</td>\n",
       "    </tr>\n",
       "    <tr>\n",
       "      <td>14</td>\n",
       "      <td>PS2</td>\n",
       "      <td>392000</td>\n",
       "    </tr>\n",
       "    <tr>\n",
       "      <td>26</td>\n",
       "      <td>X360</td>\n",
       "      <td>378000</td>\n",
       "    </tr>\n",
       "    <tr>\n",
       "      <td>3</td>\n",
       "      <td>DS</td>\n",
       "      <td>282000</td>\n",
       "    </tr>\n",
       "    <tr>\n",
       "      <td>15</td>\n",
       "      <td>PS3</td>\n",
       "      <td>282000</td>\n",
       "    </tr>\n",
       "    <tr>\n",
       "      <td>13</td>\n",
       "      <td>PS</td>\n",
       "      <td>239000</td>\n",
       "    </tr>\n",
       "    <tr>\n",
       "      <td>16</td>\n",
       "      <td>PS4</td>\n",
       "      <td>127000</td>\n",
       "    </tr>\n",
       "    <tr>\n",
       "      <td>1</td>\n",
       "      <td>3DS</td>\n",
       "      <td>106000</td>\n",
       "    </tr>\n",
       "    <tr>\n",
       "      <td>4</td>\n",
       "      <td>GB</td>\n",
       "      <td>101000</td>\n",
       "    </tr>\n",
       "    <tr>\n",
       "      <td>11</td>\n",
       "      <td>PC</td>\n",
       "      <td>89000</td>\n",
       "    </tr>\n",
       "  </tbody>\n",
       "</table>\n",
       "</div>"
      ],
      "text/plain": [
       "   platform  world_sales\n",
       "24      Wii       412000\n",
       "14      PS2       392000\n",
       "26     X360       378000\n",
       "3        DS       282000\n",
       "15      PS3       282000\n",
       "13       PS       239000\n",
       "16      PS4       127000\n",
       "1       3DS       106000\n",
       "4        GB       101000\n",
       "11       PC        89000"
      ]
     },
     "execution_count": 15,
     "metadata": {},
     "output_type": "execute_result"
    },
    {
     "data": {
      "image/png": "[encoded data removed]",
      "text/plain": [
       "<Figure size 432x288 with 1 Axes>"
      ]
     },
     "metadata": {
      "needs_background": "light"
     },
     "output_type": "display_data"
    },
    {
     "data": {
      "image/png": "[encoded data removed]",
      "text/plain": [
       "<Figure size 432x288 with 1 Axes>"
      ]
     },
     "metadata": {
      "needs_background": "light"
     },
     "output_type": "display_data"
    }
   ],
   "source": [
    "#2\n",
    "from matplotlib.ticker import FormatStrFormatter\n",
    "data_sale_platform = data_analyz.pivot_table(index = ['platform','year_of_release'],values = 'world_sales',aggfunc = 'sum').reset_index()\n",
    "display(data_sale_platform)\n",
    "data_analyz['year_of_release'].hist(bins = 70)\n",
    "s= data_sale_platform.pivot_table(index = 'year_of_release',values = 'world_sales',aggfunc = 'sum').reset_index().plot(x = 'year_of_release', y = 'world_sales')\n",
    "s.xaxis.set_major_formatter(FormatStrFormatter('%d'))\n",
    "top_platform = data_sale_platform.pivot_table(index = 'platform',values = 'world_sales',aggfunc = 'sum').reset_index().sort_values(by ='world_sales',ascending = False).head(10)\n",
    "top_platform.head(10)"
   ]
  },
  {
   "cell_type": "markdown",
   "metadata": {},
   "source": [
    "***Вывод*** \n",
    "\n",
    "Количество релизов и продаж по всем платформам падает, пик был с 2007 по 2010 года. Правда более ранние релизы могут показывать меньшие продажи, потому что например игру с релизом в 2007 года покупали уже много лет,в тоже время современные игры покупают меньше по-времени.\n",
    "в топ-10 продаж по платформам входит:\n",
    "PS2,\n",
    "X360,\n",
    "PS3,\n",
    "Wii,\n",
    "DS,\n",
    "PS,\n",
    "PS4,\n",
    "GBA,\n",
    "PSP,\n",
    "3DS\n"
   ]
  },
  {
   "cell_type": "code",
   "execution_count": 16,
   "metadata": {},
   "outputs": [
    {
     "data": {
      "image/png": "[encoded data removed]",
      "text/plain": [
       "<Figure size 1080x720 with 1 Axes>"
      ]
     },
     "metadata": {
      "needs_background": "light"
     },
     "output_type": "display_data"
    }
   ],
   "source": [
    "sd =top_platform['platform']\n",
    "fig, ax = plt.subplots(figsize =(15,10))\n",
    "for s in sd:\n",
    "    data_sale_platform[data_sale_platform['platform'] == s].plot(x = 'year_of_release', y = 'world_sales', ax=ax)\n",
    "\n",
    "ax.legend(sd)\n",
    "ax.set_xlim([1998,2017])\n",
    "ax.set_xticks(np.arange(1998,2017))\n",
    "ax.set_xticklabels(range(1998,2017))\n",
    "plt.show()\n"
   ]
  },
  {
   "cell_type": "markdown",
   "metadata": {},
   "source": [
    "***Вывод*** \n",
    "\n",
    "Жизненный цикл у плафторм составляет 9-11 лет,топовыми платформами были пс2 и ви. Перспективными пс4, 3ds они относительно \"свежие\" и уже с высокими продажами.\n",
    "\n",
    "Сейчас лидируют по продажам пс4 и 3дс. Падают все платформы,но на \"закате\" как раз пс3,360,ви\n"
   ]
  },
  {
   "cell_type": "markdown",
   "metadata": {},
   "source": [
    "**Выберим несколько потенциально прибыльных платформ.**"
   ]
  },
  {
   "cell_type": "code",
   "execution_count": 17,
   "metadata": {},
   "outputs": [
    {
     "data": {
      "image/png": "[encoded data removed]",
      "text/plain": [
       "<Figure size 720x360 with 1 Axes>"
      ]
     },
     "metadata": {
      "needs_background": "light"
     },
     "output_type": "display_data"
    }
   ],
   "source": [
    "data_perspectiv = data_sale_platform.query('year_of_release > 2012')# посмотрим по тем платформам, где есть относительно свежие релизы\n",
    "#data_perspectiv.pivot_table(index = ['platform','year_of_release'],values = 'world_sales',aggfunc = 'sum').sort_values(by = 'world_sales',ascending = False)\n",
    "sc = data_perspectiv['platform'].unique()\n",
    "\n",
    "fig, ax = plt.subplots(figsize =(10,5))\n",
    "for s in sc:\n",
    "    data_perspectiv[data_perspectiv['platform'] == s].plot(x = 'year_of_release', y = 'world_sales', ax=ax)\n",
    "    \n",
    "ax.legend(sc)\n",
    "ax.set_xlim([2013,2017])\n",
    "ax.set_xticks(np.arange(2013,2017))\n",
    "ax.set_xticklabels(range(2013,2017))\n",
    "plt.show()"
   ]
  },
  {
   "cell_type": "markdown",
   "metadata": {},
   "source": [
    "***Вывод*** \n",
    "\n",
    "Среди перспективных платформ можно выделить пс4 однозначно,xone как конкурент свежей пс4.\n",
    "\n",
    "3ds и wiiu они тоже свежие мобильные платформы.\n",
    "\n",
    "на 360 и пс3 нет релизов уже,но сами продажи на них высокие, так что можно и на них игры еще продавать старые\n",
    "\n",
    "\n",
    "Задания составлены так, что мне волей не волей приходилось анализировать данные за более ранние пероды,дальше буду работать с данными от 2013 года, периоды раньше учитывать не буду"
   ]
  },
  {
   "cell_type": "code",
   "execution_count": 18,
   "metadata": {},
   "outputs": [],
   "source": [
    "#сделаю срез данных по актуальным для анализа играм\n",
    "data_for_analyz = data.query('year_of_release > 2012')"
   ]
  },
  {
   "cell_type": "markdown",
   "metadata": {},
   "source": [
    "\n",
    "**Сопоставим выводы с продажами игр на других платформах.**\n",
    "\n",
    "**Посмотрим на общее распределение игр по жанрам. Что можно сказать о самых прибыльных жанрах? Выделяются ли жанры с высокими и низкими продажами?**"
   ]
  },
  {
   "cell_type": "code",
   "execution_count": 19,
   "metadata": {},
   "outputs": [
    {
     "data": {
      "text/plain": [
       "<matplotlib.axes._subplots.AxesSubplot at 0x7f6c74a9e850>"
      ]
     },
     "execution_count": 19,
     "metadata": {},
     "output_type": "execute_result"
    },
    {
     "data": {
      "image/png": "[encoded data removed]",
      "text/plain": [
       "<Figure size 1080x1224 with 1 Axes>"
      ]
     },
     "metadata": {
      "needs_background": "light"
     },
     "output_type": "display_data"
    }
   ],
   "source": [
    "fig, ax = plt.subplots(figsize =(15,17))\n",
    "\n",
    "sns.boxplot(y = 'world_sales',x = 'platform', data = data_perspectiv,ax=ax)"
   ]
  },
  {
   "cell_type": "markdown",
   "metadata": {},
   "source": [
    "Почти все значения укалдываются в ящик и усы(в полтора межквартильных размаха), т.е. можно сказать,что все данные распределены нормально, те популрные платформы, которые я выделил выше в них же и самые большие разбросы(усы)\n",
    "\n",
    "У Пс4 самая высокая медиана, на втором месте xone,на третьем 3Ds, у 360 и пс3 усы уже стремяться ближе к нулю(что показывает об их упадке)"
   ]
  },
  {
   "cell_type": "code",
   "execution_count": 20,
   "metadata": {},
   "outputs": [
    {
     "data": {
      "image/png": "[encoded data removed]",
      "text/plain": [
       "<Figure size 432x288 with 1 Axes>"
      ]
     },
     "metadata": {
      "needs_background": "light"
     },
     "output_type": "display_data"
    }
   ],
   "source": [
    "\n",
    "sns.boxplot(y = 'world_sales',x = 'platform', data = data[data['year_of_release'] >= 2011]);"
   ]
  },
  {
   "cell_type": "markdown",
   "metadata": {},
   "source": [
    "\n",
    "***Посмотрим, как влияют на продажи внутри одной популярной платформы отзывы пользователей и критиков. Построим диаграмму рассеяния и посчитаем корреляцию между отзывами и продажами. ***\n",
    "\n",
    "***Сопоставим выводы с продажами игр на других платформах.***"
   ]
  },
  {
   "cell_type": "markdown",
   "metadata": {},
   "source": [
    "Вощьмем для примера пс4, как самую перспективную и популярную на данный момент консоль\n"
   ]
  },
  {
   "cell_type": "code",
   "execution_count": 21,
   "metadata": {},
   "outputs": [
    {
     "data": {
      "text/plain": [
       "-0.05046786049935478"
      ]
     },
     "metadata": {},
     "output_type": "display_data"
    },
    {
     "data": {
      "text/plain": [
       "0.3119189973509533"
      ]
     },
     "metadata": {},
     "output_type": "display_data"
    },
    {
     "data": {
      "image/png": "[encoded data removed]",
      "text/plain": [
       "<Figure size 432x288 with 1 Axes>"
      ]
     },
     "metadata": {
      "needs_background": "light"
     },
     "output_type": "display_data"
    },
    {
     "data": {
      "image/png": "[encoded data removed]",
      "text/plain": [
       "<Figure size 432x288 with 1 Axes>"
      ]
     },
     "metadata": {
      "needs_background": "light"
     },
     "output_type": "display_data"
    }
   ],
   "source": [
    "ps4_data_for_analyz = data_for_analyz[data_for_analyz['platform'] == 'PS4']\n",
    "ps4_data_for_analyz.plot(kind = 'scatter', y = 'world_sales', x = 'user_score')\n",
    "ps4_data_for_analyz.plot(kind = 'scatter', y = 'world_sales', x = 'critic_score')\n",
    "display(ps4_data_for_analyz['world_sales'].corr(ps4_data_for_analyz['user_score']))\n",
    "display(ps4_data_for_analyz['world_sales'].corr(ps4_data_for_analyz['critic_score']))"
   ]
  },
  {
   "cell_type": "markdown",
   "metadata": {},
   "source": [
    "***Вывод:***  \n",
    "\n",
    "Чем выше и пользовательская оценка и оценка критиков тем больше продажи, те у кого ниже 3 оценка пользователя и 60 критиков, продажи почти нулевые, и соотвественно для более высоких оценок наблюдается более высокие прдажи. Коэф-т корреляции говорит что есть слабая связь между продажами и оценками критиков(0,32)\n",
    "\n",
    "Ниже посмотрим по всем данным с 2013 года"
   ]
  },
  {
   "cell_type": "code",
   "execution_count": 22,
   "metadata": {},
   "outputs": [
    {
     "data": {
      "text/plain": [
       "-0.016272087355232466"
      ]
     },
     "metadata": {},
     "output_type": "display_data"
    },
    {
     "data": {
      "text/plain": [
       "0.2214919283814961"
      ]
     },
     "metadata": {},
     "output_type": "display_data"
    },
    {
     "data": {
      "image/png": "[encoded data removed]",
      "text/plain": [
       "<Figure size 432x288 with 1 Axes>"
      ]
     },
     "metadata": {
      "needs_background": "light"
     },
     "output_type": "display_data"
    },
    {
     "data": {
      "image/png": "[encoded data removed]",
      "text/plain": [
       "<Figure size 432x288 with 1 Axes>"
      ]
     },
     "metadata": {
      "needs_background": "light"
     },
     "output_type": "display_data"
    }
   ],
   "source": [
    "data_for_analyz.plot(kind = 'scatter', y = 'world_sales', x = 'user_score')\n",
    "data_for_analyz.plot(kind = 'scatter', y = 'world_sales', x = 'critic_score')\n",
    "display(data_for_analyz['world_sales'].corr(data_for_analyz['user_score']))\n",
    "display(data_for_analyz['world_sales'].corr(data_for_analyz['critic_score']))"
   ]
  },
  {
   "cell_type": "markdown",
   "metadata": {},
   "source": [
    "***Вывод:*** \n",
    "\n",
    "Целиком по всем платформам получилось точно такая же картина,чем выше оценка тем выше шанс заработать больше денег на играх. На низких оценках шансов что либо заработать практически нет. КОэффициент корреляции даже стал ниже по оценкам критиков."
   ]
  },
  {
   "cell_type": "markdown",
   "metadata": {},
   "source": [
    "***Посмотрим на общее распределение игр по жанрам. Что можно сказать о самых прибыльных жанрах? Выделяются ли жанры с высокими и низкими продажами?***"
   ]
  },
  {
   "cell_type": "code",
   "execution_count": 23,
   "metadata": {},
   "outputs": [
    {
     "data": {
      "text/html": [
       "<div>\n",
       "<style scoped>\n",
       "    .dataframe tbody tr th:only-of-type {\n",
       "        vertical-align: middle;\n",
       "    }\n",
       "\n",
       "    .dataframe tbody tr th {\n",
       "        vertical-align: top;\n",
       "    }\n",
       "\n",
       "    .dataframe thead th {\n",
       "        text-align: right;\n",
       "    }\n",
       "</style>\n",
       "<table border=\"1\" class=\"dataframe\">\n",
       "  <thead>\n",
       "    <tr style=\"text-align: right;\">\n",
       "      <th></th>\n",
       "      <th>mean</th>\n",
       "      <th>count</th>\n",
       "    </tr>\n",
       "    <tr>\n",
       "      <th>genre</th>\n",
       "      <th></th>\n",
       "      <th></th>\n",
       "    </tr>\n",
       "  </thead>\n",
       "  <tbody>\n",
       "    <tr>\n",
       "      <td>Shooter</td>\n",
       "      <td>582.887701</td>\n",
       "      <td>187</td>\n",
       "    </tr>\n",
       "    <tr>\n",
       "      <td>Sports</td>\n",
       "      <td>275.700935</td>\n",
       "      <td>214</td>\n",
       "    </tr>\n",
       "    <tr>\n",
       "      <td>Role-Playing</td>\n",
       "      <td>181.506849</td>\n",
       "      <td>292</td>\n",
       "    </tr>\n",
       "    <tr>\n",
       "      <td>Fighting</td>\n",
       "      <td>137.500000</td>\n",
       "      <td>80</td>\n",
       "    </tr>\n",
       "    <tr>\n",
       "      <td>Action</td>\n",
       "      <td>134.464752</td>\n",
       "      <td>766</td>\n",
       "    </tr>\n",
       "    <tr>\n",
       "      <td>Racing</td>\n",
       "      <td>129.411765</td>\n",
       "      <td>85</td>\n",
       "    </tr>\n",
       "    <tr>\n",
       "      <td>Simulation</td>\n",
       "      <td>129.032258</td>\n",
       "      <td>62</td>\n",
       "    </tr>\n",
       "    <tr>\n",
       "      <td>Misc</td>\n",
       "      <td>109.677419</td>\n",
       "      <td>155</td>\n",
       "    </tr>\n",
       "    <tr>\n",
       "      <td>Platform</td>\n",
       "      <td>81.081081</td>\n",
       "      <td>74</td>\n",
       "    </tr>\n",
       "    <tr>\n",
       "      <td>Adventure</td>\n",
       "      <td>0.000000</td>\n",
       "      <td>245</td>\n",
       "    </tr>\n",
       "    <tr>\n",
       "      <td>Puzzle</td>\n",
       "      <td>0.000000</td>\n",
       "      <td>17</td>\n",
       "    </tr>\n",
       "    <tr>\n",
       "      <td>Strategy</td>\n",
       "      <td>0.000000</td>\n",
       "      <td>56</td>\n",
       "    </tr>\n",
       "  </tbody>\n",
       "</table>\n",
       "</div>"
      ],
      "text/plain": [
       "                    mean  count\n",
       "genre                          \n",
       "Shooter       582.887701    187\n",
       "Sports        275.700935    214\n",
       "Role-Playing  181.506849    292\n",
       "Fighting      137.500000     80\n",
       "Action        134.464752    766\n",
       "Racing        129.411765     85\n",
       "Simulation    129.032258     62\n",
       "Misc          109.677419    155\n",
       "Platform       81.081081     74\n",
       "Adventure       0.000000    245\n",
       "Puzzle          0.000000     17\n",
       "Strategy        0.000000     56"
      ]
     },
     "metadata": {},
     "output_type": "display_data"
    }
   ],
   "source": [
    "ps = data_for_analyz.pivot_table(index = 'genre',values = 'world_sales',aggfunc=['mean','count'])\n",
    "ps.columns = ['mean','count']\n",
    "display(ps.sort_values(by = 'mean',ascending = False))\n"
   ]
  },
  {
   "cell_type": "markdown",
   "metadata": {},
   "source": [
    "***Вывод: ***\n",
    "\n",
    "Самыми прибыльными жанрами можно назвать стрелялки, спорт,рпг. Самые популярные: эти же три и Экшены. Удивительно что выпушено очень много приключенческих игр а продажи оп ним ноль. ВОобще чтобы было ноль продаж это надо очень поставрарться, поэтому я делаю вывод,что скорее всего в этой бд, есть какие то ошибки в продажах.\n",
    "\n",
    "Самые непопулярные жанры: стратегии, пазлы, платформы(по ним и самые низкие продажи)"
   ]
  },
  {
   "cell_type": "markdown",
   "metadata": {},
   "source": [
    "##  Портрет пользователя каждого региона"
   ]
  },
  {
   "cell_type": "markdown",
   "metadata": {},
   "source": [
    "***Определим потрерт для пользователя каждого региона (NA, EU, JP):***\n",
    "\n",
    "***Самые популярные платформы (топ-5). Опишем различия в долях продаж.***\n"
   ]
  },
  {
   "cell_type": "markdown",
   "metadata": {},
   "source": [
    "Выделим три отдельных дата сета для анализа по каждому регионы(чтобы в этом регионе проажи были не равны нулю).Посмотрим сначала по количеству выпускаем игр, далее по количеству продаж"
   ]
  },
  {
   "cell_type": "code",
   "execution_count": 24,
   "metadata": {},
   "outputs": [],
   "source": [
    "data_for_analyz_na = data_for_analyz.query('na_sales > 0') \n",
    "data_for_analyz_eu = data_for_analyz.query('eu_sales > 0')\n",
    "data_for_analyz_jp = data_for_analyz.query('jp_sales > 0')"
   ]
  },
  {
   "cell_type": "code",
   "execution_count": 25,
   "metadata": {
    "scrolled": true
   },
   "outputs": [
    {
     "data": {
      "text/plain": [
       "PS4     33\n",
       "XOne    26\n",
       "X360    17\n",
       "PS3     12\n",
       "3DS      7\n",
       "Name: platform, dtype: int64"
      ]
     },
     "metadata": {},
     "output_type": "display_data"
    },
    {
     "data": {
      "text/plain": [
       "PS4     36\n",
       "PS3     12\n",
       "XOne    10\n",
       "X360     8\n",
       "3DS      8\n",
       "Name: platform, dtype: int64"
      ]
     },
     "metadata": {},
     "output_type": "display_data"
    },
    {
     "data": {
      "text/plain": [
       "3DS     17\n",
       "WiiU     2\n",
       "Name: platform, dtype: int64"
      ]
     },
     "metadata": {},
     "output_type": "display_data"
    }
   ],
   "source": [
    "display(data_for_analyz_na['platform'].value_counts().head())\n",
    "display(data_for_analyz_eu['platform'].value_counts().head())\n",
    "display(data_for_analyz_jp['platform'].value_counts().head())"
   ]
  },
  {
   "cell_type": "markdown",
   "metadata": {},
   "source": [
    "По количеству выпускаемых игр \n",
    "\n",
    "В америке лидеры: пс4, икс бокс уан, икс бокс 360, пс 3; \n",
    "\n",
    "В европе: пс4,пс3,иск бокс 360, три дс и 360 одинаково\n",
    "\n",
    "В японии: 3 дс и вию"
   ]
  },
  {
   "cell_type": "code",
   "execution_count": 26,
   "metadata": {},
   "outputs": [
    {
     "data": {
      "text/plain": [
       "<matplotlib.axes._subplots.AxesSubplot at 0x7f6c74536b50>"
      ]
     },
     "execution_count": 26,
     "metadata": {},
     "output_type": "execute_result"
    },
    {
     "data": {
      "image/png": "[encoded data removed]",
      "text/plain": [
       "<Figure size 720x720 with 1 Axes>"
      ]
     },
     "metadata": {},
     "output_type": "display_data"
    },
    {
     "data": {
      "image/png": "[encoded data removed]",
      "text/plain": [
       "<Figure size 720x720 with 1 Axes>"
      ]
     },
     "metadata": {},
     "output_type": "display_data"
    },
    {
     "data": {
      "image/png": "[encoded data removed]",
      "text/plain": [
       "<Figure size 720x720 with 1 Axes>"
      ]
     },
     "metadata": {},
     "output_type": "display_data"
    }
   ],
   "source": [
    "data_for_analyz_na.pivot_table(index = 'platform', values = 'na_sales', aggfunc = 'sum').plot(kind = 'pie', y = 'na_sales',figsize = (10,10),autopct='%1.1f%%',legend = False)\n",
    "data_for_analyz_eu.pivot_table(index = 'platform', values = 'eu_sales', aggfunc = 'sum').plot(kind = 'pie', y = 'eu_sales',figsize = (10,10),autopct='%1.1f%%',legend = False)\n",
    "data_for_analyz_jp.pivot_table(index = 'platform', values = 'jp_sales', aggfunc = 'sum').plot(kind = 'pie', y = 'jp_sales',figsize = (10,10),autopct='%1.1f%%',legend = False)\n",
    "\n",
    "\n",
    "\n"
   ]
  },
  {
   "cell_type": "markdown",
   "metadata": {},
   "source": [
    "***Общий вывод:***\n",
    "\n",
    "В америке существуем много платформ которые конкурируют за рынок, самые поппулярные пс4,пс3 и иксбоксы(1 и 360). ПО продажам лидирует пс4, интересно что у икс боксов новых и старых еще плюс минус похожие продажи за последние годы. По количеству выпускаемых игр и продажам данные не противоречат друг другу\n",
    "\n",
    "В европе по продажам пс 4 и пс3 забирают почти весь рынок(66 %), на втором месте икс боксы. Игр на икс боксы тут продают меньше\n",
    "\n",
    "В японии тотальное доминирование у 3дс\n"
   ]
  },
  {
   "cell_type": "markdown",
   "metadata": {},
   "source": [
    "***Самые популярные жанры (топ-5).***"
   ]
  },
  {
   "cell_type": "code",
   "execution_count": 27,
   "metadata": {},
   "outputs": [
    {
     "data": {
      "text/plain": [
       "Shooter         34\n",
       "Action          29\n",
       "Sports          20\n",
       "Role-Playing     6\n",
       "Misc             5\n",
       "Name: genre, dtype: int64"
      ]
     },
     "metadata": {},
     "output_type": "display_data"
    },
    {
     "data": {
      "text/plain": [
       "Shooter         25\n",
       "Action          22\n",
       "Sports          12\n",
       "Role-Playing     6\n",
       "Racing           5\n",
       "Name: genre, dtype: int64"
      ]
     },
     "metadata": {},
     "output_type": "display_data"
    },
    {
     "data": {
      "text/plain": [
       "Role-Playing    10\n",
       "Action           4\n",
       "Simulation       2\n",
       "Shooter          1\n",
       "Racing           1\n",
       "Name: genre, dtype: int64"
      ]
     },
     "metadata": {},
     "output_type": "display_data"
    }
   ],
   "source": [
    "display(data_for_analyz_na['genre'].value_counts().head())\n",
    "display(data_for_analyz_eu['genre'].value_counts().head())\n",
    "display(data_for_analyz_jp['genre'].value_counts().head())"
   ]
  },
  {
   "cell_type": "code",
   "execution_count": 28,
   "metadata": {},
   "outputs": [
    {
     "data": {
      "text/plain": [
       "<matplotlib.axes._subplots.AxesSubplot at 0x7f6c745778d0>"
      ]
     },
     "execution_count": 28,
     "metadata": {},
     "output_type": "execute_result"
    },
    {
     "data": {
      "image/png": "[encoded data removed]",
      "text/plain": [
       "<Figure size 720x720 with 1 Axes>"
      ]
     },
     "metadata": {},
     "output_type": "display_data"
    },
    {
     "data": {
      "image/png": "[encoded data removed]",
      "text/plain": [
       "<Figure size 720x720 with 1 Axes>"
      ]
     },
     "metadata": {},
     "output_type": "display_data"
    },
    {
     "data": {
      "image/png": "[encoded data removed]",
      "text/plain": [
       "<Figure size 720x720 with 1 Axes>"
      ]
     },
     "metadata": {},
     "output_type": "display_data"
    }
   ],
   "source": [
    "data_for_analyz_na.pivot_table(index = 'genre', values = 'na_sales', aggfunc = 'sum').plot(kind = 'pie', y = 'na_sales',figsize = (10,10),autopct='%1.1f%%',legend = False)\n",
    "data_for_analyz_eu.pivot_table(index = 'genre', values = 'eu_sales', aggfunc = 'sum').plot(kind = 'pie', y = 'eu_sales',figsize = (10,10),autopct='%1.1f%%',legend = False)\n",
    "data_for_analyz_jp.pivot_table(index = 'genre', values = 'jp_sales', aggfunc = 'sum').plot(kind = 'pie', y = 'jp_sales',figsize = (10,10),autopct='%1.1f%%',legend = False)\n"
   ]
  },
  {
   "cell_type": "markdown",
   "metadata": {},
   "source": [
    "С точки зрения жанров, вкусы американцев и европейцев совпадают, в топ 5 и там и там входят одни и те же жанры. \n",
    "\n",
    "Япония можно сказать кардинально отличается по вкусам, там очень любят role-playing,на втором месте экшены,остальные жанры  там явно не доминируют.\n",
    "\n",
    "\n"
   ]
  },
  {
   "cell_type": "markdown",
   "metadata": {},
   "source": [
    "***Влияет ли рейтинг ESRB на продажи в отдельном регионе?***"
   ]
  },
  {
   "cell_type": "markdown",
   "metadata": {},
   "source": [
    "'E' - Everyone. Рассчитано на игроков от 6 лет и старше.\n",
    "'M'- Mature. Игры с элементами насилия, кровью, черным юмором и крепкими выражениями. Возрастной ценз — 17 и более лет.\n",
    "'T' - Teen. Реалистичное насилие и грубая лексика, но в небольших количествах. Для игроков от 13 лет.\n",
    "'E10+'- Everyone 10+. Для детей от 10 лет и старше. Такие игры могут содержать элементы Cartoon Violence (мультяшной жестокости).\n",
    "'K-A' - Для детей – для тех, кто уже научился говорить и держать джойстик, эти игры уже могут вызывать интерес [позже в 1998 году был переименован в Е – для всех возрастов, а также чуть позже был добавлен рейтинг Е10+, как промежуточный между Е и Т]\n",
    "'AO'- Adults Only. Игры данной категории предназначены только для игроков, которым исполнилось 18 лет. Adults Only-игры содержат сцены, демонстрирующие жестокое насилие, развратное поведение, нарушения закона.\n",
    "'EC' - Early Childhood. Игра разрешена детям от 3 лет и старше.\n",
    "'RP' - Rating Pending. Данная иконка подтверждает, что игра уже принята на рассмотрение в ESRB, но итоговый рейтинг получить еще не успела."
   ]
  },
  {
   "cell_type": "code",
   "execution_count": 31,
   "metadata": {
    "scrolled": false
   },
   "outputs": [
    {
     "data": {
      "text/plain": [
       "<matplotlib.axes._subplots.AxesSubplot at 0x7f6c74ace4d0>"
      ]
     },
     "execution_count": 31,
     "metadata": {},
     "output_type": "execute_result"
    },
    {
     "data": {
      "image/png": "[encoded data removed]",
      "text/plain": [
       "<Figure size 720x720 with 1 Axes>"
      ]
     },
     "metadata": {},
     "output_type": "display_data"
    },
    {
     "data": {
      "image/png": "[encoded data removed]",
      "text/plain": [
       "<Figure size 720x720 with 1 Axes>"
      ]
     },
     "metadata": {},
     "output_type": "display_data"
    },
    {
     "data": {
      "image/png": "[encoded data removed]",
      "text/plain": [
       "<Figure size 720x720 with 1 Axes>"
      ]
     },
     "metadata": {},
     "output_type": "display_data"
    }
   ],
   "source": [
    "data_for_analyz_na.pivot_table(index = 'rating', values = 'na_sales', aggfunc = 'sum').plot(kind = 'pie', y = 'na_sales',figsize = (10,10),autopct='%1.1f%%',legend = False)\n",
    "data_for_analyz_eu.pivot_table(index = 'rating', values = 'eu_sales', aggfunc = 'sum').plot(kind = 'pie', y = 'eu_sales',figsize = (10,10),autopct='%1.1f%%',legend = False)\n",
    "data_for_analyz_jp.pivot_table(index = 'rating', values = 'jp_sales', aggfunc = 'sum').plot(kind = 'pie', y = 'jp_sales',figsize = (10,10),autopct='%1.1f%%',legend = False)\n"
   ]
  },
  {
   "cell_type": "markdown",
   "metadata": {},
   "source": [
    "***Вывод: ***\n",
    "\n",
    "И опять вкусы американцев и европейцев почти идентичны, там очень популярны игры с жестокостью(M),остальные игры уже плюс минус детские-для каждого.\n",
    "\n",
    "Японцы как всегда идут против всего мира в своих вкусах, там полностью доминируют детские жанры и совсем отсутвуют игры с элементами насилия.\n",
    "\n",
    "Сказать что рейтинг как то влияет на продажи достаточно сложно, скорее по рейтингу можно понять вкусы регионов, но возможно родители при покупке игр своих детям ориентируются на данный показатель, потому что в рейтингах большая доля именно детских игр, а игр AO нет"
   ]
  },
  {
   "cell_type": "markdown",
   "metadata": {},
   "source": [
    "## Проверьте гипотезы"
   ]
  },
  {
   "cell_type": "markdown",
   "metadata": {},
   "source": [
    "***Средние пользовательские рейтинги платформ Xbox One и PC одинаковые;***\n"
   ]
  },
  {
   "cell_type": "markdown",
   "metadata": {},
   "source": [
    "Чтобы проверить данное утверждение, применим Гипотезу о равенстве средних двух генеральных совокупностей(т.к. все таки разные платформы это разные совокупности)\n",
    "\n",
    "Сформируем нулевую гипотезу:что средние прользовательские оценки двух разных платформ равны.\n",
    "\n",
    "Альтернативная гипотеза: что средние прользовательские оценки двух разных платформ не равны.\n",
    " "
   ]
  },
  {
   "cell_type": "code",
   "execution_count": 32,
   "metadata": {},
   "outputs": [],
   "source": [
    "xone = data_for_analyz[data_for_analyz['platform']=='XOne']['user_score'].reset_index(drop= True)\n",
    "pc = data_for_analyz[data_for_analyz['platform']=='PC']['user_score'].reset_index(drop= True)\n",
    "xone = xone.dropna()\n",
    "pc = pc.dropna()\n"
   ]
  },
  {
   "cell_type": "code",
   "execution_count": 33,
   "metadata": {},
   "outputs": [
    {
     "name": "stdout",
     "output_type": "stream",
     "text": [
      "p-значение: 0.14012658403611647\n",
      "Не получилось отвергнуть нулевую гипотезу\n"
     ]
    }
   ],
   "source": [
    "\n",
    "alpha = 0.05  # критический уровень статистической значимости\n",
    "# если p-value окажется меньше него - отвергнем гипотезу\n",
    "\n",
    "results = st.ttest_ind(pc, xone)\n",
    "\n",
    "print('p-значение:', results.pvalue)\n",
    "\n",
    "if results.pvalue < alpha:\n",
    "    print('Отвергаем нулевую гипотезу')\n",
    "else:\n",
    "    print('Не получилось отвергнуть нулевую гипотезу') "
   ]
  },
  {
   "cell_type": "markdown",
   "metadata": {},
   "source": [
    "***Вывод:***  \n",
    "\n",
    "Средние пользовательские оценки двух платформ равны, не получилось отвергнуть нулевую гипотезу. В целом это логично потому что платформа не влияет на саму игру в целом"
   ]
  },
  {
   "cell_type": "markdown",
   "metadata": {},
   "source": [
    "Сформируем нулевую гипотезу: что Средние пользовательские рейтинги жанров Action (англ. «действие», экшен-игры) и Sports (англ. «спортивные соревнования») равны\n",
    "Альтернативную гипотезу:  что Средние пользовательские рейтинги жанров Action (англ. «действие», экшен-игры) и Sports (англ. «спортивные соревнования») не равны"
   ]
  },
  {
   "cell_type": "code",
   "execution_count": 35,
   "metadata": {},
   "outputs": [],
   "source": [
    "action = data_for_analyz[data_for_analyz['genre']=='Action']['user_score'].reset_index(drop= True)\n",
    "sports = data_for_analyz[data_for_analyz['genre']=='Sports']['user_score'].reset_index(drop= True)\n",
    "action = action.dropna()\n",
    "sports = sports.dropna()\n"
   ]
  },
  {
   "cell_type": "code",
   "execution_count": 36,
   "metadata": {},
   "outputs": [
    {
     "name": "stdout",
     "output_type": "stream",
     "text": [
      "p-значение: 1.0517832389140023e-27\n",
      "Отвергаем нулевую гипотезу\n"
     ]
    }
   ],
   "source": [
    "\n",
    "alpha = 0.05  # критический уровень статистической значимости\n",
    "# если p-value окажется меньше него - отвергнем гипотезу\n",
    "\n",
    "results = st.ttest_ind(action, sports)\n",
    "\n",
    "print('p-значение:', results.pvalue)\n",
    "\n",
    "if results.pvalue < alpha:\n",
    "    print('Отвергаем нулевую гипотезу')\n",
    "else:\n",
    "    print('Не получилось отвергнуть нулевую гипотезу') "
   ]
  },
  {
   "cell_type": "markdown",
   "metadata": {},
   "source": [
    "Вывод: средние пользовательские оценки жанров экшн и спорт не равны, то есть их оценки отличаются у пользователей."
   ]
  },
  {
   "cell_type": "markdown",
   "metadata": {},
   "source": [
    "## Общий вывод"
   ]
  },
  {
   "cell_type": "markdown",
   "metadata": {},
   "source": [
    "\n",
    "Если отвечать на основной вопрос, который мы ставили в начале то получается, что если мы продаем игры по всему миру то нам стоит отдельно планировать компанию для разных регионов\n",
    "\n",
    "***Северная америка и Европа:***\n",
    "\n",
    "Стоит сделать ставку на игры в жанре:\n",
    "\n",
    "-Shooter  \n",
    "-Action  \n",
    "-Sports    \n",
    "-Role-Playing  \n",
    "-Misc/Racing \n",
    "\n",
    "В Америке на платформах(в порядке убывания) : PS4,Xone,X360-PS3,3DS,Wiiu  \n",
    "В Европе: PS4,PS3,X0ne-x360,3DS,WIIu\n",
    "\n",
    "Не самые жестокие игры в жанре M'- Mature. Игры с элементами насилия, кровью, черным юмором и крепкими выражениями. Возрастной ценз — 17 и более лет; и игры для всех без элементов насилия\n",
    "\n",
    "***Япония***\n",
    "\n",
    "Стоит сделать ставку на игры в жанре:\n",
    "\n",
    "-Role-Playing  \n",
    "-Action        \n",
    "-Simulation      \n",
    "-Shooter          \n",
    "-Fighting         \n",
    "\n",
    "На платформах: 3DS,Wiiu\n",
    "\n",
    "Игры должны быть не жестокими! Семейные,с детскими рейтингами\n",
    "\n",
    "  \n",
    "  \n",
    "Относительно платформ 360 и пс3, судя по данной базе данных, новые игры на них перестали выходить, поэтому продажи хоть и будут но по старым играм, поэтому в тренде будут пс4 и икс бокс 1. и Мобильные платформы Wiiu и 3ds\n"
   ]
  }
 ],
 "metadata": {
  "ExecuteTimeLog": [
   {
    "duration": 777,
    "start_time": "2021-12-20T19:38:07.576Z"
   },
   {
    "duration": 68,
    "start_time": "2021-12-20T19:38:36.887Z"
   },
   {
    "duration": 27,
    "start_time": "2021-12-20T19:38:45.035Z"
   },
   {
    "duration": 486,
    "start_time": "2021-12-20T19:41:59.553Z"
   },
   {
    "duration": 91,
    "start_time": "2021-12-20T19:42:25.846Z"
   },
   {
    "duration": 12,
    "start_time": "2021-12-20T19:56:04.690Z"
   },
   {
    "duration": 20,
    "start_time": "2021-12-20T19:57:49.642Z"
   },
   {
    "duration": 784,
    "start_time": "2021-12-20T20:02:02.447Z"
   },
   {
    "duration": 49,
    "start_time": "2021-12-20T20:02:03.234Z"
   },
   {
    "duration": 113,
    "start_time": "2021-12-20T20:02:03.286Z"
   },
   {
    "duration": 37,
    "start_time": "2021-12-20T20:02:03.417Z"
   },
   {
    "duration": 755,
    "start_time": "2021-12-21T17:28:44.719Z"
   },
   {
    "duration": 50,
    "start_time": "2021-12-21T17:28:45.477Z"
   },
   {
    "duration": 112,
    "start_time": "2021-12-21T17:28:45.530Z"
   },
   {
    "duration": 48,
    "start_time": "2021-12-21T17:28:45.644Z"
   },
   {
    "duration": 8104,
    "start_time": "2021-12-21T17:28:45.694Z"
   },
   {
    "duration": 7483,
    "start_time": "2021-12-21T17:31:49.381Z"
   },
   {
    "duration": 9020,
    "start_time": "2021-12-21T17:41:15.360Z"
   },
   {
    "duration": 8725,
    "start_time": "2021-12-21T17:41:57.308Z"
   },
   {
    "duration": 8311,
    "start_time": "2021-12-21T17:42:51.544Z"
   },
   {
    "duration": 973,
    "start_time": "2021-12-21T17:43:19.690Z"
   },
   {
    "duration": 51,
    "start_time": "2021-12-21T17:43:20.668Z"
   },
   {
    "duration": 110,
    "start_time": "2021-12-21T17:43:20.721Z"
   },
   {
    "duration": 58,
    "start_time": "2021-12-21T17:43:20.834Z"
   },
   {
    "duration": 7695,
    "start_time": "2021-12-21T17:43:20.895Z"
   },
   {
    "duration": 1440,
    "start_time": "2021-12-21T17:43:38.879Z"
   },
   {
    "duration": 8388,
    "start_time": "2021-12-21T17:43:46.493Z"
   },
   {
    "duration": 9591,
    "start_time": "2021-12-21T17:44:15.400Z"
   },
   {
    "duration": 22,
    "start_time": "2021-12-21T17:44:52.249Z"
   },
   {
    "duration": 9,
    "start_time": "2021-12-21T17:45:06.465Z"
   },
   {
    "duration": 797,
    "start_time": "2021-12-21T17:45:13.326Z"
   },
   {
    "duration": 51,
    "start_time": "2021-12-21T17:45:14.126Z"
   },
   {
    "duration": 124,
    "start_time": "2021-12-21T17:45:14.180Z"
   },
   {
    "duration": 7,
    "start_time": "2021-12-21T17:45:14.307Z"
   },
   {
    "duration": 12,
    "start_time": "2021-12-21T17:45:14.316Z"
   },
   {
    "duration": 24,
    "start_time": "2021-12-21T17:46:13.235Z"
   },
   {
    "duration": 25,
    "start_time": "2021-12-21T17:49:32.568Z"
   },
   {
    "duration": 27,
    "start_time": "2021-12-21T17:51:53.209Z"
   },
   {
    "duration": 24,
    "start_time": "2021-12-21T17:52:17.552Z"
   },
   {
    "duration": 41,
    "start_time": "2021-12-21T17:52:34.278Z"
   },
   {
    "duration": 12,
    "start_time": "2021-12-21T17:59:08.500Z"
   },
   {
    "duration": 20,
    "start_time": "2021-12-21T17:59:14.761Z"
   },
   {
    "duration": 9,
    "start_time": "2021-12-21T18:00:31.789Z"
   },
   {
    "duration": 764,
    "start_time": "2021-12-21T18:00:41.894Z"
   },
   {
    "duration": 56,
    "start_time": "2021-12-21T18:00:42.660Z"
   },
   {
    "duration": 159,
    "start_time": "2021-12-21T18:00:42.719Z"
   },
   {
    "duration": 8,
    "start_time": "2021-12-21T18:00:42.881Z"
   },
   {
    "duration": 23,
    "start_time": "2021-12-21T18:00:42.891Z"
   },
   {
    "duration": 11,
    "start_time": "2021-12-21T18:00:42.917Z"
   },
   {
    "duration": 8,
    "start_time": "2021-12-21T18:06:02.495Z"
   },
   {
    "duration": 854,
    "start_time": "2021-12-21T18:06:57.141Z"
   },
   {
    "duration": 49,
    "start_time": "2021-12-21T18:06:57.998Z"
   },
   {
    "duration": 131,
    "start_time": "2021-12-21T18:06:58.050Z"
   },
   {
    "duration": 8,
    "start_time": "2021-12-21T18:06:58.185Z"
   },
   {
    "duration": 28,
    "start_time": "2021-12-21T18:06:58.196Z"
   },
   {
    "duration": 33,
    "start_time": "2021-12-21T18:08:10.901Z"
   },
   {
    "duration": 20,
    "start_time": "2021-12-21T18:08:51.585Z"
   },
   {
    "duration": 845,
    "start_time": "2021-12-21T18:29:41.002Z"
   },
   {
    "duration": 53,
    "start_time": "2021-12-21T18:29:41.850Z"
   },
   {
    "duration": 129,
    "start_time": "2021-12-21T18:29:41.907Z"
   },
   {
    "duration": 27,
    "start_time": "2021-12-21T18:29:42.040Z"
   },
   {
    "duration": 25,
    "start_time": "2021-12-21T18:29:42.070Z"
   },
   {
    "duration": 35,
    "start_time": "2021-12-21T18:29:42.098Z"
   },
   {
    "duration": 13,
    "start_time": "2021-12-21T18:29:42.168Z"
   },
   {
    "duration": 9,
    "start_time": "2021-12-21T18:29:42.184Z"
   },
   {
    "duration": 14,
    "start_time": "2021-12-21T18:29:42.195Z"
   },
   {
    "duration": 20,
    "start_time": "2021-12-21T18:30:42.568Z"
   },
   {
    "duration": 827,
    "start_time": "2021-12-21T18:37:19.039Z"
   },
   {
    "duration": 32,
    "start_time": "2021-12-21T18:37:34.012Z"
   },
   {
    "duration": 28,
    "start_time": "2021-12-21T18:37:51.201Z"
   },
   {
    "duration": 415,
    "start_time": "2021-12-21T18:38:24.993Z"
   },
   {
    "duration": 318,
    "start_time": "2021-12-21T18:38:32.805Z"
   },
   {
    "duration": 98,
    "start_time": "2021-12-21T18:39:06.556Z"
   },
   {
    "duration": 315,
    "start_time": "2021-12-21T18:39:28.465Z"
   },
   {
    "duration": 31,
    "start_time": "2021-12-21T18:41:10.640Z"
   },
   {
    "duration": 25,
    "start_time": "2021-12-21T18:41:40.807Z"
   },
   {
    "duration": 23,
    "start_time": "2021-12-21T18:43:14.913Z"
   },
   {
    "duration": 33,
    "start_time": "2021-12-21T18:44:04.454Z"
   },
   {
    "duration": 27,
    "start_time": "2021-12-21T18:44:41.454Z"
   },
   {
    "duration": 45,
    "start_time": "2021-12-21T18:44:46.844Z"
   },
   {
    "duration": 39,
    "start_time": "2021-12-21T18:44:57.602Z"
   },
   {
    "duration": 49,
    "start_time": "2021-12-21T18:45:13.480Z"
   },
   {
    "duration": 332,
    "start_time": "2021-12-21T18:46:00.559Z"
   },
   {
    "duration": 322,
    "start_time": "2021-12-21T18:47:29.224Z"
   },
   {
    "duration": 20,
    "start_time": "2021-12-21T18:48:41.666Z"
   },
   {
    "duration": 22,
    "start_time": "2021-12-21T18:49:29.106Z"
   },
   {
    "duration": 19,
    "start_time": "2021-12-21T18:49:41.458Z"
   },
   {
    "duration": 22,
    "start_time": "2021-12-21T18:50:07.936Z"
   },
   {
    "duration": 16,
    "start_time": "2021-12-21T18:51:32.169Z"
   },
   {
    "duration": 22,
    "start_time": "2021-12-21T18:51:43.975Z"
   },
   {
    "duration": 26,
    "start_time": "2021-12-21T18:51:53.740Z"
   },
   {
    "duration": 494,
    "start_time": "2021-12-21T18:52:32.548Z"
   },
   {
    "duration": 332,
    "start_time": "2021-12-21T18:52:57.462Z"
   },
   {
    "duration": 39,
    "start_time": "2021-12-21T18:53:09.944Z"
   },
   {
    "duration": 31,
    "start_time": "2021-12-21T18:53:59.770Z"
   },
   {
    "duration": 37,
    "start_time": "2021-12-21T18:54:34.158Z"
   },
   {
    "duration": 37,
    "start_time": "2021-12-21T18:56:06.272Z"
   },
   {
    "duration": 42,
    "start_time": "2021-12-21T18:56:23.231Z"
   },
   {
    "duration": 50,
    "start_time": "2021-12-21T18:56:43.690Z"
   },
   {
    "duration": 321,
    "start_time": "2021-12-21T19:07:53.888Z"
   },
   {
    "duration": 39,
    "start_time": "2021-12-21T19:08:05.205Z"
   },
   {
    "duration": 39,
    "start_time": "2021-12-21T19:09:28.333Z"
   },
   {
    "duration": 23,
    "start_time": "2021-12-21T19:36:04.875Z"
   },
   {
    "duration": 773,
    "start_time": "2021-12-21T19:50:19.395Z"
   },
   {
    "duration": 53,
    "start_time": "2021-12-21T19:50:20.171Z"
   },
   {
    "duration": 120,
    "start_time": "2021-12-21T19:50:20.227Z"
   },
   {
    "duration": 22,
    "start_time": "2021-12-21T19:50:20.350Z"
   },
   {
    "duration": 23,
    "start_time": "2021-12-21T19:50:20.376Z"
   },
   {
    "duration": 21,
    "start_time": "2021-12-21T19:50:20.401Z"
   },
   {
    "duration": 12,
    "start_time": "2021-12-21T19:50:20.468Z"
   },
   {
    "duration": 9,
    "start_time": "2021-12-21T19:50:20.484Z"
   },
   {
    "duration": 40,
    "start_time": "2021-12-21T19:50:20.496Z"
   },
   {
    "duration": 22,
    "start_time": "2021-12-21T19:50:20.567Z"
   },
   {
    "duration": 15,
    "start_time": "2021-12-21T19:50:20.592Z"
   },
   {
    "duration": 45,
    "start_time": "2021-12-21T19:51:17.548Z"
   },
   {
    "duration": 20,
    "start_time": "2021-12-21T19:52:21.362Z"
   },
   {
    "duration": 37,
    "start_time": "2021-12-21T19:52:29.481Z"
   },
   {
    "duration": 28,
    "start_time": "2021-12-21T19:52:44.979Z"
   },
   {
    "duration": 804,
    "start_time": "2021-12-22T17:34:40.224Z"
   },
   {
    "duration": 49,
    "start_time": "2021-12-22T17:34:41.031Z"
   },
   {
    "duration": 116,
    "start_time": "2021-12-22T17:34:41.083Z"
   },
   {
    "duration": 24,
    "start_time": "2021-12-22T17:34:41.202Z"
   },
   {
    "duration": 32,
    "start_time": "2021-12-22T17:34:41.229Z"
   },
   {
    "duration": 22,
    "start_time": "2021-12-22T17:34:41.263Z"
   },
   {
    "duration": 40,
    "start_time": "2021-12-22T17:34:41.287Z"
   },
   {
    "duration": 9,
    "start_time": "2021-12-22T17:34:41.332Z"
   },
   {
    "duration": 41,
    "start_time": "2021-12-22T17:34:41.344Z"
   },
   {
    "duration": 51,
    "start_time": "2021-12-22T17:34:41.387Z"
   },
   {
    "duration": 32,
    "start_time": "2021-12-22T17:34:41.441Z"
   },
   {
    "duration": 13,
    "start_time": "2021-12-22T17:39:12.334Z"
   },
   {
    "duration": 14,
    "start_time": "2021-12-22T17:41:00.833Z"
   },
   {
    "duration": 13,
    "start_time": "2021-12-22T17:48:54.593Z"
   },
   {
    "duration": 22,
    "start_time": "2021-12-22T17:49:29.714Z"
   },
   {
    "duration": 39,
    "start_time": "2021-12-22T17:49:59.203Z"
   },
   {
    "duration": 430,
    "start_time": "2021-12-22T17:50:44.187Z"
   },
   {
    "duration": 31,
    "start_time": "2021-12-22T17:50:58.353Z"
   },
   {
    "duration": 32,
    "start_time": "2021-12-22T17:51:26.815Z"
   },
   {
    "duration": 30,
    "start_time": "2021-12-22T17:56:17.327Z"
   },
   {
    "duration": 343,
    "start_time": "2021-12-22T17:57:57.764Z"
   },
   {
    "duration": 24,
    "start_time": "2021-12-22T17:58:04.173Z"
   },
   {
    "duration": 431,
    "start_time": "2021-12-22T18:00:08.866Z"
   },
   {
    "duration": 31,
    "start_time": "2021-12-22T18:04:13.170Z"
   },
   {
    "duration": 25,
    "start_time": "2021-12-22T18:05:01.075Z"
   },
   {
    "duration": 27,
    "start_time": "2021-12-22T18:05:16.845Z"
   },
   {
    "duration": 30,
    "start_time": "2021-12-22T18:05:37.301Z"
   },
   {
    "duration": 25,
    "start_time": "2021-12-22T18:14:16.319Z"
   },
   {
    "duration": 1005,
    "start_time": "2021-12-22T18:21:52.141Z"
   },
   {
    "duration": 28,
    "start_time": "2021-12-22T18:23:41.254Z"
   },
   {
    "duration": 726,
    "start_time": "2021-12-22T18:25:27.739Z"
   },
   {
    "duration": 45,
    "start_time": "2021-12-22T18:25:28.468Z"
   },
   {
    "duration": 109,
    "start_time": "2021-12-22T18:25:28.516Z"
   },
   {
    "duration": 7,
    "start_time": "2021-12-22T18:25:28.628Z"
   },
   {
    "duration": 18,
    "start_time": "2021-12-22T18:25:28.637Z"
   },
   {
    "duration": 20,
    "start_time": "2021-12-22T18:25:28.658Z"
   },
   {
    "duration": 49,
    "start_time": "2021-12-22T18:25:28.680Z"
   },
   {
    "duration": 9,
    "start_time": "2021-12-22T18:25:28.733Z"
   },
   {
    "duration": 36,
    "start_time": "2021-12-22T18:25:28.744Z"
   },
   {
    "duration": 48,
    "start_time": "2021-12-22T18:25:28.782Z"
   },
   {
    "duration": 30,
    "start_time": "2021-12-22T18:25:28.833Z"
   },
   {
    "duration": 15,
    "start_time": "2021-12-22T18:25:28.866Z"
   },
   {
    "duration": 448,
    "start_time": "2021-12-22T18:25:28.883Z"
   },
   {
    "duration": 545,
    "start_time": "2021-12-22T18:25:53.280Z"
   },
   {
    "duration": 32,
    "start_time": "2021-12-22T18:26:17.451Z"
   },
   {
    "duration": 575,
    "start_time": "2021-12-22T18:27:28.541Z"
   },
   {
    "duration": 35,
    "start_time": "2021-12-22T18:27:41.716Z"
   },
   {
    "duration": 1001,
    "start_time": "2021-12-22T18:28:18.927Z"
   },
   {
    "duration": 713,
    "start_time": "2021-12-22T18:28:38.198Z"
   },
   {
    "duration": 31,
    "start_time": "2021-12-22T18:29:57.631Z"
   },
   {
    "duration": 322,
    "start_time": "2021-12-22T18:30:27.920Z"
   },
   {
    "duration": 31,
    "start_time": "2021-12-22T18:37:56.953Z"
   },
   {
    "duration": 475,
    "start_time": "2021-12-22T18:38:44.981Z"
   },
   {
    "duration": 32,
    "start_time": "2021-12-22T18:41:53.526Z"
   },
   {
    "duration": 311,
    "start_time": "2021-12-22T18:42:06.412Z"
   },
   {
    "duration": 8303,
    "start_time": "2021-12-22T18:42:24.295Z"
   },
   {
    "duration": 26,
    "start_time": "2021-12-22T18:47:14.059Z"
   },
   {
    "duration": 448,
    "start_time": "2021-12-22T18:47:47.367Z"
   },
   {
    "duration": 374,
    "start_time": "2021-12-22T18:49:12.378Z"
   },
   {
    "duration": 337,
    "start_time": "2021-12-22T18:50:05.609Z"
   },
   {
    "duration": 306,
    "start_time": "2021-12-22T18:50:27.434Z"
   },
   {
    "duration": 29,
    "start_time": "2021-12-22T18:50:58.027Z"
   },
   {
    "duration": 16,
    "start_time": "2021-12-22T18:51:21.156Z"
   },
   {
    "duration": 21,
    "start_time": "2021-12-22T18:51:26.801Z"
   },
   {
    "duration": 324,
    "start_time": "2021-12-22T18:51:37.358Z"
   },
   {
    "duration": 719,
    "start_time": "2021-12-22T18:52:36.243Z"
   },
   {
    "duration": 47,
    "start_time": "2021-12-22T18:52:36.965Z"
   },
   {
    "duration": 115,
    "start_time": "2021-12-22T18:52:37.016Z"
   },
   {
    "duration": 6,
    "start_time": "2021-12-22T18:52:37.133Z"
   },
   {
    "duration": 19,
    "start_time": "2021-12-22T18:52:37.142Z"
   },
   {
    "duration": 19,
    "start_time": "2021-12-22T18:52:37.164Z"
   },
   {
    "duration": 11,
    "start_time": "2021-12-22T18:52:37.223Z"
   },
   {
    "duration": 11,
    "start_time": "2021-12-22T18:52:37.236Z"
   },
   {
    "duration": 34,
    "start_time": "2021-12-22T18:52:37.250Z"
   },
   {
    "duration": 44,
    "start_time": "2021-12-22T18:52:37.287Z"
   },
   {
    "duration": 36,
    "start_time": "2021-12-22T18:52:37.333Z"
   },
   {
    "duration": 14,
    "start_time": "2021-12-22T18:52:37.371Z"
   },
   {
    "duration": 442,
    "start_time": "2021-12-22T18:52:37.387Z"
   },
   {
    "duration": 324,
    "start_time": "2021-12-22T18:52:58.003Z"
   },
   {
    "duration": 305,
    "start_time": "2021-12-22T18:57:48.306Z"
   },
   {
    "duration": 7499,
    "start_time": "2021-12-22T19:08:51.336Z"
   },
   {
    "duration": 8839,
    "start_time": "2021-12-22T19:10:07.225Z"
   },
   {
    "duration": 575,
    "start_time": "2021-12-22T19:10:28.221Z"
   },
   {
    "duration": 544,
    "start_time": "2021-12-22T19:11:20.519Z"
   },
   {
    "duration": 415,
    "start_time": "2021-12-22T19:11:31.852Z"
   },
   {
    "duration": 470,
    "start_time": "2021-12-22T19:11:47.697Z"
   },
   {
    "duration": 777,
    "start_time": "2021-12-22T19:15:04.367Z"
   },
   {
    "duration": 793,
    "start_time": "2021-12-22T19:16:01.233Z"
   },
   {
    "duration": 858,
    "start_time": "2021-12-22T19:16:32.724Z"
   },
   {
    "duration": 1134,
    "start_time": "2021-12-22T19:33:09.436Z"
   },
   {
    "duration": 834,
    "start_time": "2021-12-22T19:33:39.220Z"
   },
   {
    "duration": 863,
    "start_time": "2021-12-22T19:48:55.228Z"
   },
   {
    "duration": 714,
    "start_time": "2021-12-23T17:26:27.179Z"
   },
   {
    "duration": 54,
    "start_time": "2021-12-23T17:26:27.895Z"
   },
   {
    "duration": 114,
    "start_time": "2021-12-23T17:26:27.952Z"
   },
   {
    "duration": 6,
    "start_time": "2021-12-23T17:26:28.068Z"
   },
   {
    "duration": 21,
    "start_time": "2021-12-23T17:26:28.076Z"
   },
   {
    "duration": 16,
    "start_time": "2021-12-23T17:26:28.099Z"
   },
   {
    "duration": 10,
    "start_time": "2021-12-23T17:26:28.142Z"
   },
   {
    "duration": 14,
    "start_time": "2021-12-23T17:26:28.161Z"
   },
   {
    "duration": 29,
    "start_time": "2021-12-23T17:26:28.177Z"
   },
   {
    "duration": 52,
    "start_time": "2021-12-23T17:26:28.209Z"
   },
   {
    "duration": 30,
    "start_time": "2021-12-23T17:26:28.264Z"
   },
   {
    "duration": 12,
    "start_time": "2021-12-23T17:26:28.297Z"
   },
   {
    "duration": 896,
    "start_time": "2021-12-23T17:26:28.311Z"
   },
   {
    "duration": 282,
    "start_time": "2021-12-23T17:28:33.715Z"
   },
   {
    "duration": 304,
    "start_time": "2021-12-23T17:28:58.305Z"
   },
   {
    "duration": 5,
    "start_time": "2021-12-23T17:33:04.566Z"
   },
   {
    "duration": 7306,
    "start_time": "2021-12-23T17:33:44.721Z"
   },
   {
    "duration": 1270,
    "start_time": "2021-12-23T17:35:25.601Z"
   },
   {
    "duration": 578,
    "start_time": "2021-12-23T17:35:44.187Z"
   },
   {
    "duration": 1194,
    "start_time": "2021-12-23T17:36:19.063Z"
   },
   {
    "duration": 1342,
    "start_time": "2021-12-23T17:37:02.058Z"
   },
   {
    "duration": 1543,
    "start_time": "2021-12-23T17:37:46.486Z"
   },
   {
    "duration": 1460,
    "start_time": "2021-12-23T17:37:57.263Z"
   },
   {
    "duration": 8,
    "start_time": "2021-12-23T17:39:14.614Z"
   },
   {
    "duration": 238,
    "start_time": "2021-12-23T17:40:06.275Z"
   },
   {
    "duration": 5,
    "start_time": "2021-12-23T17:40:13.674Z"
   },
   {
    "duration": 233,
    "start_time": "2021-12-23T17:40:32.466Z"
   },
   {
    "duration": 416,
    "start_time": "2021-12-23T17:44:06.011Z"
   },
   {
    "duration": 707,
    "start_time": "2021-12-23T17:50:59.082Z"
   },
   {
    "duration": 5313,
    "start_time": "2021-12-23T17:52:15.957Z"
   },
   {
    "duration": 424,
    "start_time": "2021-12-23T17:53:14.538Z"
   },
   {
    "duration": 538,
    "start_time": "2021-12-23T17:53:25.556Z"
   },
   {
    "duration": 687,
    "start_time": "2021-12-23T17:53:33.364Z"
   },
   {
    "duration": 538,
    "start_time": "2021-12-23T17:54:05.853Z"
   },
   {
    "duration": 521,
    "start_time": "2021-12-23T17:59:38.952Z"
   },
   {
    "duration": 607,
    "start_time": "2021-12-23T17:59:51.006Z"
   },
   {
    "duration": 659,
    "start_time": "2021-12-23T18:02:17.474Z"
   },
   {
    "duration": 521,
    "start_time": "2021-12-23T18:02:36.627Z"
   },
   {
    "duration": 753,
    "start_time": "2021-12-23T18:02:57.198Z"
   },
   {
    "duration": 583,
    "start_time": "2021-12-23T18:03:17.419Z"
   },
   {
    "duration": 535,
    "start_time": "2021-12-23T18:04:59.631Z"
   },
   {
    "duration": 553,
    "start_time": "2021-12-23T18:05:18.482Z"
   },
   {
    "duration": 523,
    "start_time": "2021-12-23T18:07:23.760Z"
   },
   {
    "duration": 566,
    "start_time": "2021-12-23T18:07:36.359Z"
   },
   {
    "duration": 508,
    "start_time": "2021-12-23T18:07:57.088Z"
   },
   {
    "duration": 640,
    "start_time": "2021-12-23T18:09:14.226Z"
   },
   {
    "duration": 586,
    "start_time": "2021-12-23T18:09:23.223Z"
   },
   {
    "duration": 652,
    "start_time": "2021-12-23T18:11:50.061Z"
   },
   {
    "duration": 39,
    "start_time": "2021-12-23T18:11:50.715Z"
   },
   {
    "duration": 69,
    "start_time": "2021-12-23T18:11:50.756Z"
   },
   {
    "duration": 5,
    "start_time": "2021-12-23T18:11:50.842Z"
   },
   {
    "duration": 17,
    "start_time": "2021-12-23T18:11:50.850Z"
   },
   {
    "duration": 19,
    "start_time": "2021-12-23T18:11:50.868Z"
   },
   {
    "duration": 7,
    "start_time": "2021-12-23T18:11:50.890Z"
   },
   {
    "duration": 49,
    "start_time": "2021-12-23T18:11:50.900Z"
   },
   {
    "duration": 25,
    "start_time": "2021-12-23T18:11:50.951Z"
   },
   {
    "duration": 14,
    "start_time": "2021-12-23T18:11:50.978Z"
   },
   {
    "duration": 48,
    "start_time": "2021-12-23T18:11:50.994Z"
   },
   {
    "duration": 13,
    "start_time": "2021-12-23T18:11:51.045Z"
   },
   {
    "duration": 645,
    "start_time": "2021-12-23T18:11:51.060Z"
   },
   {
    "duration": 612,
    "start_time": "2021-12-23T18:11:51.707Z"
   },
   {
    "duration": 519,
    "start_time": "2021-12-23T18:12:18.480Z"
   },
   {
    "duration": 597,
    "start_time": "2021-12-23T18:13:29.124Z"
   },
   {
    "duration": 12,
    "start_time": "2021-12-23T18:23:40.913Z"
   },
   {
    "duration": 17,
    "start_time": "2021-12-23T18:24:52.095Z"
   },
   {
    "duration": 305,
    "start_time": "2021-12-23T18:41:39.776Z"
   },
   {
    "duration": 20,
    "start_time": "2021-12-23T18:42:12.692Z"
   },
   {
    "duration": 224,
    "start_time": "2021-12-23T18:42:36.266Z"
   },
   {
    "duration": 22,
    "start_time": "2021-12-23T18:42:53.348Z"
   },
   {
    "duration": 71,
    "start_time": "2021-12-23T18:57:36.142Z"
   },
   {
    "duration": 13,
    "start_time": "2021-12-23T19:06:34.685Z"
   },
   {
    "duration": 1912,
    "start_time": "2021-12-23T19:09:15.204Z"
   },
   {
    "duration": 749,
    "start_time": "2021-12-23T19:09:32.907Z"
   },
   {
    "duration": 702,
    "start_time": "2021-12-23T19:10:06.469Z"
   },
   {
    "duration": 619,
    "start_time": "2021-12-23T19:10:36.665Z"
   },
   {
    "duration": 763,
    "start_time": "2021-12-23T19:10:47.300Z"
   },
   {
    "duration": 559,
    "start_time": "2021-12-23T19:11:40.882Z"
   },
   {
    "duration": 637,
    "start_time": "2021-12-23T19:12:00.140Z"
   },
   {
    "duration": 653,
    "start_time": "2021-12-23T19:12:44.370Z"
   },
   {
    "duration": 653,
    "start_time": "2021-12-23T19:13:27.942Z"
   },
   {
    "duration": 458,
    "start_time": "2021-12-23T19:13:48.948Z"
   },
   {
    "duration": 209,
    "start_time": "2021-12-23T19:19:52.443Z"
   },
   {
    "duration": 534,
    "start_time": "2021-12-23T19:20:10.170Z"
   },
   {
    "duration": 184,
    "start_time": "2021-12-23T19:20:49.745Z"
   },
   {
    "duration": 553,
    "start_time": "2021-12-23T19:22:41.133Z"
   },
   {
    "duration": 483,
    "start_time": "2021-12-23T19:22:50.719Z"
   },
   {
    "duration": 514,
    "start_time": "2021-12-23T19:22:59.524Z"
   },
   {
    "duration": 1109,
    "start_time": "2021-12-23T19:29:00.364Z"
   },
   {
    "duration": 502,
    "start_time": "2021-12-23T19:29:07.014Z"
   },
   {
    "duration": 448,
    "start_time": "2021-12-23T19:32:45.561Z"
   },
   {
    "duration": 537,
    "start_time": "2021-12-23T19:32:54.309Z"
   },
   {
    "duration": 993,
    "start_time": "2021-12-23T19:33:02.841Z"
   },
   {
    "duration": 860,
    "start_time": "2021-12-23T19:33:18.177Z"
   },
   {
    "duration": 742,
    "start_time": "2021-12-23T19:33:35.586Z"
   },
   {
    "duration": 1383,
    "start_time": "2021-12-23T19:47:01.675Z"
   },
   {
    "duration": 53,
    "start_time": "2021-12-23T19:47:03.061Z"
   },
   {
    "duration": 95,
    "start_time": "2021-12-23T19:47:03.116Z"
   },
   {
    "duration": 28,
    "start_time": "2021-12-23T19:47:03.214Z"
   },
   {
    "duration": 26,
    "start_time": "2021-12-23T19:47:03.245Z"
   },
   {
    "duration": 19,
    "start_time": "2021-12-23T19:47:03.273Z"
   },
   {
    "duration": 9,
    "start_time": "2021-12-23T19:47:03.295Z"
   },
   {
    "duration": 70,
    "start_time": "2021-12-23T19:47:03.306Z"
   },
   {
    "duration": 20,
    "start_time": "2021-12-23T19:47:03.379Z"
   },
   {
    "duration": 39,
    "start_time": "2021-12-23T19:47:03.402Z"
   },
   {
    "duration": 14,
    "start_time": "2021-12-23T19:47:03.443Z"
   },
   {
    "duration": 696,
    "start_time": "2021-12-23T19:47:03.459Z"
   },
   {
    "duration": 666,
    "start_time": "2021-12-23T19:47:04.158Z"
   },
   {
    "duration": 498,
    "start_time": "2021-12-23T19:47:04.827Z"
   },
   {
    "duration": 855,
    "start_time": "2021-12-23T19:47:05.329Z"
   },
   {
    "duration": 775,
    "start_time": "2021-12-23T19:48:58.331Z"
   },
   {
    "duration": 1577,
    "start_time": "2021-12-24T15:51:23.750Z"
   },
   {
    "duration": 63,
    "start_time": "2021-12-24T15:51:25.329Z"
   },
   {
    "duration": 110,
    "start_time": "2021-12-24T15:51:25.394Z"
   },
   {
    "duration": 7,
    "start_time": "2021-12-24T15:51:25.507Z"
   },
   {
    "duration": 18,
    "start_time": "2021-12-24T15:51:25.517Z"
   },
   {
    "duration": 43,
    "start_time": "2021-12-24T15:51:25.537Z"
   },
   {
    "duration": 9,
    "start_time": "2021-12-24T15:51:25.582Z"
   },
   {
    "duration": 69,
    "start_time": "2021-12-24T15:51:25.594Z"
   },
   {
    "duration": 19,
    "start_time": "2021-12-24T15:51:25.666Z"
   },
   {
    "duration": 18,
    "start_time": "2021-12-24T15:51:25.687Z"
   },
   {
    "duration": 21,
    "start_time": "2021-12-24T15:51:25.707Z"
   },
   {
    "duration": 852,
    "start_time": "2021-12-24T15:51:25.760Z"
   },
   {
    "duration": 829,
    "start_time": "2021-12-24T15:51:26.615Z"
   },
   {
    "duration": 583,
    "start_time": "2021-12-24T15:51:27.447Z"
   },
   {
    "duration": 1009,
    "start_time": "2021-12-24T15:51:28.033Z"
   },
   {
    "duration": 1522,
    "start_time": "2021-12-24T16:05:37.918Z"
   },
   {
    "duration": 54,
    "start_time": "2021-12-24T16:05:39.442Z"
   },
   {
    "duration": 107,
    "start_time": "2021-12-24T16:05:39.499Z"
   },
   {
    "duration": 6,
    "start_time": "2021-12-24T16:05:39.609Z"
   },
   {
    "duration": 43,
    "start_time": "2021-12-24T16:05:39.618Z"
   },
   {
    "duration": 30,
    "start_time": "2021-12-24T16:05:39.664Z"
   },
   {
    "duration": 8,
    "start_time": "2021-12-24T16:05:39.697Z"
   },
   {
    "duration": 10,
    "start_time": "2021-12-24T16:05:39.708Z"
   },
   {
    "duration": 44,
    "start_time": "2021-12-24T16:05:39.761Z"
   },
   {
    "duration": 20,
    "start_time": "2021-12-24T16:05:39.808Z"
   },
   {
    "duration": 51,
    "start_time": "2021-12-24T16:05:39.831Z"
   },
   {
    "duration": 16,
    "start_time": "2021-12-24T16:05:39.885Z"
   },
   {
    "duration": 892,
    "start_time": "2021-12-24T16:05:39.903Z"
   },
   {
    "duration": 867,
    "start_time": "2021-12-24T16:05:40.799Z"
   },
   {
    "duration": 589,
    "start_time": "2021-12-24T16:05:41.669Z"
   },
   {
    "duration": 11,
    "start_time": "2021-12-24T16:05:42.261Z"
   },
   {
    "duration": 1167,
    "start_time": "2021-12-24T16:05:42.275Z"
   },
   {
    "duration": 12,
    "start_time": "2021-12-24T16:06:58.242Z"
   },
   {
    "duration": 6,
    "start_time": "2021-12-24T16:07:22.140Z"
   },
   {
    "duration": 1758,
    "start_time": "2021-12-24T16:08:25.426Z"
   },
   {
    "duration": 51,
    "start_time": "2021-12-24T16:08:27.187Z"
   },
   {
    "duration": 169,
    "start_time": "2021-12-24T16:08:27.242Z"
   },
   {
    "duration": 9,
    "start_time": "2021-12-24T16:08:27.414Z"
   },
   {
    "duration": 33,
    "start_time": "2021-12-24T16:08:27.427Z"
   },
   {
    "duration": 27,
    "start_time": "2021-12-24T16:08:27.463Z"
   },
   {
    "duration": 15,
    "start_time": "2021-12-24T16:08:27.493Z"
   },
   {
    "duration": 51,
    "start_time": "2021-12-24T16:08:27.512Z"
   },
   {
    "duration": 47,
    "start_time": "2021-12-24T16:08:27.566Z"
   },
   {
    "duration": 45,
    "start_time": "2021-12-24T16:08:27.616Z"
   },
   {
    "duration": 21,
    "start_time": "2021-12-24T16:08:27.664Z"
   },
   {
    "duration": 17,
    "start_time": "2021-12-24T16:08:27.689Z"
   },
   {
    "duration": 937,
    "start_time": "2021-12-24T16:08:27.709Z"
   },
   {
    "duration": 830,
    "start_time": "2021-12-24T16:08:28.649Z"
   },
   {
    "duration": 583,
    "start_time": "2021-12-24T16:08:29.481Z"
   },
   {
    "duration": 8,
    "start_time": "2021-12-24T16:08:30.067Z"
   },
   {
    "duration": 1143,
    "start_time": "2021-12-24T16:08:30.077Z"
   },
   {
    "duration": 8,
    "start_time": "2021-12-24T16:08:31.222Z"
   },
   {
    "duration": 476,
    "start_time": "2021-12-24T16:08:40.067Z"
   },
   {
    "duration": 348,
    "start_time": "2021-12-24T16:08:46.676Z"
   },
   {
    "duration": 10,
    "start_time": "2021-12-24T16:08:57.537Z"
   },
   {
    "duration": 364,
    "start_time": "2021-12-24T16:14:19.972Z"
   },
   {
    "duration": 697,
    "start_time": "2021-12-24T16:15:29.598Z"
   },
   {
    "duration": 1411,
    "start_time": "2021-12-24T16:17:55.107Z"
   },
   {
    "duration": 51,
    "start_time": "2021-12-24T16:17:56.521Z"
   },
   {
    "duration": 102,
    "start_time": "2021-12-24T16:17:56.575Z"
   },
   {
    "duration": 8,
    "start_time": "2021-12-24T16:17:56.680Z"
   },
   {
    "duration": 20,
    "start_time": "2021-12-24T16:17:56.691Z"
   },
   {
    "duration": 59,
    "start_time": "2021-12-24T16:17:56.714Z"
   },
   {
    "duration": 8,
    "start_time": "2021-12-24T16:17:56.776Z"
   },
   {
    "duration": 12,
    "start_time": "2021-12-24T16:17:56.788Z"
   },
   {
    "duration": 8,
    "start_time": "2021-12-24T16:17:56.802Z"
   },
   {
    "duration": 79,
    "start_time": "2021-12-24T16:17:56.812Z"
   },
   {
    "duration": 21,
    "start_time": "2021-12-24T16:17:56.893Z"
   },
   {
    "duration": 63,
    "start_time": "2021-12-24T16:17:56.916Z"
   },
   {
    "duration": 15,
    "start_time": "2021-12-24T16:17:56.981Z"
   },
   {
    "duration": 848,
    "start_time": "2021-12-24T16:17:56.999Z"
   },
   {
    "duration": 807,
    "start_time": "2021-12-24T16:17:57.858Z"
   },
   {
    "duration": 564,
    "start_time": "2021-12-24T16:17:58.668Z"
   },
   {
    "duration": 8,
    "start_time": "2021-12-24T16:17:59.235Z"
   },
   {
    "duration": 992,
    "start_time": "2021-12-24T16:17:59.260Z"
   },
   {
    "duration": 780,
    "start_time": "2021-12-24T16:18:00.254Z"
   },
   {
    "duration": 710,
    "start_time": "2021-12-24T16:20:48.907Z"
   },
   {
    "duration": 799,
    "start_time": "2021-12-24T16:34:49.013Z"
   },
   {
    "duration": 905,
    "start_time": "2021-12-24T16:35:59.555Z"
   },
   {
    "duration": 33,
    "start_time": "2021-12-24T16:48:37.988Z"
   },
   {
    "duration": 489,
    "start_time": "2021-12-24T16:49:15.221Z"
   },
   {
    "duration": 499,
    "start_time": "2021-12-24T16:49:33.295Z"
   },
   {
    "duration": 1010,
    "start_time": "2021-12-24T16:49:42.417Z"
   },
   {
    "duration": 31,
    "start_time": "2021-12-24T16:50:01.684Z"
   },
   {
    "duration": 448,
    "start_time": "2021-12-24T16:52:32.353Z"
   },
   {
    "duration": 335,
    "start_time": "2021-12-24T16:52:41.179Z"
   },
   {
    "duration": 397,
    "start_time": "2021-12-24T16:52:50.135Z"
   },
   {
    "duration": 358,
    "start_time": "2021-12-24T16:52:58.178Z"
   },
   {
    "duration": 32,
    "start_time": "2021-12-24T16:53:05.454Z"
   },
   {
    "duration": 357,
    "start_time": "2021-12-24T16:54:00.692Z"
   },
   {
    "duration": 29,
    "start_time": "2021-12-24T17:00:35.887Z"
   },
   {
    "duration": 33,
    "start_time": "2021-12-24T17:00:59.304Z"
   },
   {
    "duration": 565,
    "start_time": "2021-12-24T17:03:20.733Z"
   },
   {
    "duration": 2544,
    "start_time": "2021-12-24T17:04:54.972Z"
   },
   {
    "duration": 49,
    "start_time": "2021-12-24T17:04:57.519Z"
   },
   {
    "duration": 712,
    "start_time": "2021-12-24T17:04:57.577Z"
   },
   {
    "duration": 7,
    "start_time": "2021-12-24T17:04:58.291Z"
   },
   {
    "duration": 20,
    "start_time": "2021-12-24T17:04:58.301Z"
   },
   {
    "duration": 52,
    "start_time": "2021-12-24T17:04:58.324Z"
   },
   {
    "duration": 9,
    "start_time": "2021-12-24T17:04:58.380Z"
   },
   {
    "duration": 15,
    "start_time": "2021-12-24T17:04:58.396Z"
   },
   {
    "duration": 57,
    "start_time": "2021-12-24T17:04:58.415Z"
   },
   {
    "duration": 51,
    "start_time": "2021-12-24T17:04:58.474Z"
   },
   {
    "duration": 35,
    "start_time": "2021-12-24T17:04:58.528Z"
   },
   {
    "duration": 26,
    "start_time": "2021-12-24T17:04:58.566Z"
   },
   {
    "duration": 16,
    "start_time": "2021-12-24T17:04:58.595Z"
   },
   {
    "duration": 836,
    "start_time": "2021-12-24T17:04:58.614Z"
   },
   {
    "duration": 814,
    "start_time": "2021-12-24T17:04:59.460Z"
   },
   {
    "duration": 582,
    "start_time": "2021-12-24T17:05:00.277Z"
   },
   {
    "duration": 7,
    "start_time": "2021-12-24T17:05:00.861Z"
   },
   {
    "duration": 1053,
    "start_time": "2021-12-24T17:05:00.870Z"
   },
   {
    "duration": 874,
    "start_time": "2021-12-24T17:05:01.925Z"
   },
   {
    "duration": 844,
    "start_time": "2021-12-24T17:05:02.802Z"
   },
   {
    "duration": 1455,
    "start_time": "2021-12-24T17:06:47.366Z"
   },
   {
    "duration": 49,
    "start_time": "2021-12-24T17:06:48.824Z"
   },
   {
    "duration": 114,
    "start_time": "2021-12-24T17:06:48.877Z"
   },
   {
    "duration": 7,
    "start_time": "2021-12-24T17:06:48.993Z"
   },
   {
    "duration": 18,
    "start_time": "2021-12-24T17:06:49.002Z"
   },
   {
    "duration": 47,
    "start_time": "2021-12-24T17:06:49.022Z"
   },
   {
    "duration": 8,
    "start_time": "2021-12-24T17:06:49.072Z"
   },
   {
    "duration": 14,
    "start_time": "2021-12-24T17:06:49.082Z"
   },
   {
    "duration": 9,
    "start_time": "2021-12-24T17:06:49.099Z"
   },
   {
    "duration": 77,
    "start_time": "2021-12-24T17:06:49.111Z"
   },
   {
    "duration": 22,
    "start_time": "2021-12-24T17:06:49.191Z"
   },
   {
    "duration": 58,
    "start_time": "2021-12-24T17:06:49.216Z"
   },
   {
    "duration": 13,
    "start_time": "2021-12-24T17:06:49.276Z"
   },
   {
    "duration": 822,
    "start_time": "2021-12-24T17:06:49.291Z"
   },
   {
    "duration": 834,
    "start_time": "2021-12-24T17:06:50.116Z"
   },
   {
    "duration": 579,
    "start_time": "2021-12-24T17:06:50.953Z"
   },
   {
    "duration": 24,
    "start_time": "2021-12-24T17:06:51.535Z"
   },
   {
    "duration": 973,
    "start_time": "2021-12-24T17:06:51.562Z"
   },
   {
    "duration": 861,
    "start_time": "2021-12-24T17:06:52.537Z"
   },
   {
    "duration": 837,
    "start_time": "2021-12-24T17:06:53.400Z"
   },
   {
    "duration": 41,
    "start_time": "2021-12-24T17:06:54.240Z"
   },
   {
    "duration": 15,
    "start_time": "2021-12-24T17:08:51.548Z"
   },
   {
    "duration": 15,
    "start_time": "2021-12-24T17:09:59.402Z"
   },
   {
    "duration": 13,
    "start_time": "2021-12-24T17:10:09.972Z"
   },
   {
    "duration": 190,
    "start_time": "2021-12-25T09:03:24.285Z"
   },
   {
    "duration": 2319,
    "start_time": "2021-12-25T09:03:33.115Z"
   },
   {
    "duration": 38,
    "start_time": "2021-12-25T09:03:35.436Z"
   },
   {
    "duration": 67,
    "start_time": "2021-12-25T09:03:35.477Z"
   },
   {
    "duration": 5,
    "start_time": "2021-12-25T09:03:35.546Z"
   },
   {
    "duration": 12,
    "start_time": "2021-12-25T09:03:35.553Z"
   },
   {
    "duration": 14,
    "start_time": "2021-12-25T09:03:35.591Z"
   },
   {
    "duration": 6,
    "start_time": "2021-12-25T09:03:35.606Z"
   },
   {
    "duration": 22,
    "start_time": "2021-12-25T09:03:35.614Z"
   },
   {
    "duration": 18,
    "start_time": "2021-12-25T09:03:35.638Z"
   },
   {
    "duration": 42,
    "start_time": "2021-12-25T09:03:35.658Z"
   },
   {
    "duration": 13,
    "start_time": "2021-12-25T09:03:35.702Z"
   },
   {
    "duration": 27,
    "start_time": "2021-12-25T09:03:35.717Z"
   },
   {
    "duration": 17,
    "start_time": "2021-12-25T09:03:35.745Z"
   },
   {
    "duration": 518,
    "start_time": "2021-12-25T09:03:35.764Z"
   },
   {
    "duration": 504,
    "start_time": "2021-12-25T09:03:36.284Z"
   },
   {
    "duration": 354,
    "start_time": "2021-12-25T09:03:36.789Z"
   },
   {
    "duration": 6,
    "start_time": "2021-12-25T09:03:37.145Z"
   },
   {
    "duration": 652,
    "start_time": "2021-12-25T09:03:37.153Z"
   },
   {
    "duration": 558,
    "start_time": "2021-12-25T09:03:37.807Z"
   },
   {
    "duration": 529,
    "start_time": "2021-12-25T09:03:38.367Z"
   },
   {
    "duration": 21,
    "start_time": "2021-12-25T09:03:38.898Z"
   },
   {
    "duration": 11,
    "start_time": "2021-12-25T09:03:38.920Z"
   },
   {
    "duration": 9,
    "start_time": "2021-12-25T09:06:56.897Z"
   },
   {
    "duration": 2045,
    "start_time": "2021-12-25T09:07:42.752Z"
   },
   {
    "duration": 2045,
    "start_time": "2021-12-25T09:08:08.220Z"
   },
   {
    "duration": 6,
    "start_time": "2021-12-25T09:09:12.175Z"
   },
   {
    "duration": 7,
    "start_time": "2021-12-25T09:09:21.804Z"
   },
   {
    "duration": 14,
    "start_time": "2021-12-25T09:10:19.746Z"
   },
   {
    "duration": 229,
    "start_time": "2021-12-25T09:21:48.201Z"
   },
   {
    "duration": 3409,
    "start_time": "2021-12-25T09:22:11.170Z"
   },
   {
    "duration": 133,
    "start_time": "2021-12-25T09:22:31.919Z"
   },
   {
    "duration": 43,
    "start_time": "2021-12-25T09:29:05.761Z"
   },
   {
    "duration": 136,
    "start_time": "2021-12-25T09:29:13.798Z"
   },
   {
    "duration": 142,
    "start_time": "2021-12-25T09:29:25.088Z"
   },
   {
    "duration": 135,
    "start_time": "2021-12-25T09:29:37.790Z"
   },
   {
    "duration": 124,
    "start_time": "2021-12-25T09:29:43.527Z"
   },
   {
    "duration": 128,
    "start_time": "2021-12-25T09:29:51.454Z"
   },
   {
    "duration": 172,
    "start_time": "2021-12-25T09:30:51.396Z"
   },
   {
    "duration": 125,
    "start_time": "2021-12-25T09:31:32.850Z"
   },
   {
    "duration": 137,
    "start_time": "2021-12-25T09:38:56.028Z"
   },
   {
    "duration": 136,
    "start_time": "2021-12-25T09:41:03.688Z"
   },
   {
    "duration": 329,
    "start_time": "2021-12-25T09:41:48.642Z"
   },
   {
    "duration": 51,
    "start_time": "2021-12-25T09:42:10.116Z"
   },
   {
    "duration": 192,
    "start_time": "2021-12-25T09:42:14.707Z"
   },
   {
    "duration": 232,
    "start_time": "2021-12-25T09:42:30.395Z"
   },
   {
    "duration": 185,
    "start_time": "2021-12-25T09:43:00.324Z"
   },
   {
    "duration": 367,
    "start_time": "2021-12-25T09:43:57.229Z"
   },
   {
    "duration": 521,
    "start_time": "2021-12-25T09:44:19.125Z"
   },
   {
    "duration": 12,
    "start_time": "2021-12-25T09:53:49.800Z"
   },
   {
    "duration": 549,
    "start_time": "2021-12-25T09:54:03.144Z"
   },
   {
    "duration": 482,
    "start_time": "2021-12-25T10:16:15.096Z"
   },
   {
    "duration": 872,
    "start_time": "2021-12-25T10:28:12.025Z"
   },
   {
    "duration": 496,
    "start_time": "2021-12-25T10:28:37.786Z"
   },
   {
    "duration": 7,
    "start_time": "2021-12-25T10:51:13.750Z"
   },
   {
    "duration": 11,
    "start_time": "2021-12-25T10:51:27.657Z"
   },
   {
    "duration": 20,
    "start_time": "2021-12-25T10:51:40.754Z"
   },
   {
    "duration": 21,
    "start_time": "2021-12-25T10:52:16.726Z"
   },
   {
    "duration": 20,
    "start_time": "2021-12-25T10:52:23.219Z"
   },
   {
    "duration": 9,
    "start_time": "2021-12-25T10:52:32.358Z"
   },
   {
    "duration": 14,
    "start_time": "2021-12-25T10:52:56.818Z"
   },
   {
    "duration": 9,
    "start_time": "2021-12-25T10:53:10.880Z"
   },
   {
    "duration": 10,
    "start_time": "2021-12-25T10:53:43.507Z"
   },
   {
    "duration": 10,
    "start_time": "2021-12-25T10:54:28.209Z"
   },
   {
    "duration": 7,
    "start_time": "2021-12-25T10:54:46.547Z"
   },
   {
    "duration": 129,
    "start_time": "2021-12-25T10:55:26.776Z"
   },
   {
    "duration": 5,
    "start_time": "2021-12-25T10:55:44.153Z"
   },
   {
    "duration": 5,
    "start_time": "2021-12-25T11:21:32.880Z"
   },
   {
    "duration": 5,
    "start_time": "2021-12-25T11:21:34.616Z"
   },
   {
    "duration": 7,
    "start_time": "2021-12-25T11:21:42.735Z"
   },
   {
    "duration": 4,
    "start_time": "2021-12-25T11:21:45.583Z"
   },
   {
    "duration": 7,
    "start_time": "2021-12-25T11:23:23.748Z"
   },
   {
    "duration": 5,
    "start_time": "2021-12-25T11:23:26.653Z"
   },
   {
    "duration": 8,
    "start_time": "2021-12-25T11:24:16.075Z"
   },
   {
    "duration": 5,
    "start_time": "2021-12-25T11:24:30.103Z"
   },
   {
    "duration": 12,
    "start_time": "2021-12-25T11:25:21.087Z"
   },
   {
    "duration": 12,
    "start_time": "2021-12-25T11:25:51.917Z"
   },
   {
    "duration": 13,
    "start_time": "2021-12-25T11:26:10.340Z"
   },
   {
    "duration": 10,
    "start_time": "2021-12-25T11:28:58.954Z"
   },
   {
    "duration": 137,
    "start_time": "2021-12-25T11:29:12.197Z"
   },
   {
    "duration": 12,
    "start_time": "2021-12-25T11:39:00.227Z"
   },
   {
    "duration": 5,
    "start_time": "2021-12-25T11:55:35.965Z"
   },
   {
    "duration": 5,
    "start_time": "2021-12-25T11:55:47.092Z"
   },
   {
    "duration": 6,
    "start_time": "2021-12-25T12:16:58.527Z"
   },
   {
    "duration": 1125,
    "start_time": "2021-12-26T07:46:24.219Z"
   },
   {
    "duration": 38,
    "start_time": "2021-12-26T07:46:25.346Z"
   },
   {
    "duration": 60,
    "start_time": "2021-12-26T07:46:25.386Z"
   },
   {
    "duration": 5,
    "start_time": "2021-12-26T07:46:25.448Z"
   },
   {
    "duration": 13,
    "start_time": "2021-12-26T07:46:25.454Z"
   },
   {
    "duration": 13,
    "start_time": "2021-12-26T07:46:25.492Z"
   },
   {
    "duration": 5,
    "start_time": "2021-12-26T07:46:25.507Z"
   },
   {
    "duration": 13,
    "start_time": "2021-12-26T07:46:25.514Z"
   },
   {
    "duration": 7,
    "start_time": "2021-12-26T07:46:25.529Z"
   },
   {
    "duration": 64,
    "start_time": "2021-12-26T07:46:25.538Z"
   },
   {
    "duration": 12,
    "start_time": "2021-12-26T07:46:25.604Z"
   },
   {
    "duration": 18,
    "start_time": "2021-12-26T07:46:25.617Z"
   },
   {
    "duration": 8,
    "start_time": "2021-12-26T07:46:25.637Z"
   },
   {
    "duration": 553,
    "start_time": "2021-12-26T07:46:25.647Z"
   },
   {
    "duration": 526,
    "start_time": "2021-12-26T07:46:26.201Z"
   },
   {
    "duration": 365,
    "start_time": "2021-12-26T07:46:26.729Z"
   },
   {
    "duration": 6,
    "start_time": "2021-12-26T07:46:27.096Z"
   },
   {
    "duration": 627,
    "start_time": "2021-12-26T07:46:27.103Z"
   },
   {
    "duration": 536,
    "start_time": "2021-12-26T07:46:27.732Z"
   },
   {
    "duration": 556,
    "start_time": "2021-12-26T07:46:28.270Z"
   },
   {
    "duration": 21,
    "start_time": "2021-12-26T07:46:28.828Z"
   },
   {
    "duration": 14,
    "start_time": "2021-12-26T07:46:28.851Z"
   },
   {
    "duration": 26,
    "start_time": "2021-12-26T07:46:28.866Z"
   },
   {
    "duration": 547,
    "start_time": "2021-12-26T07:46:28.894Z"
   },
   {
    "duration": 13,
    "start_time": "2021-12-26T07:46:29.443Z"
   },
   {
    "duration": 616,
    "start_time": "2021-12-26T07:46:29.457Z"
   },
   {
    "duration": 499,
    "start_time": "2021-12-26T07:46:30.076Z"
   },
   {
    "duration": 15,
    "start_time": "2021-12-26T07:46:30.577Z"
   },
   {
    "duration": 9,
    "start_time": "2021-12-26T07:46:30.593Z"
   },
   {
    "duration": 14,
    "start_time": "2021-12-26T07:46:30.603Z"
   },
   {
    "duration": 11,
    "start_time": "2021-12-26T07:46:30.619Z"
   },
   {
    "duration": 6,
    "start_time": "2021-12-26T07:47:47.951Z"
   },
   {
    "duration": 6,
    "start_time": "2021-12-26T07:48:07.905Z"
   },
   {
    "duration": 4,
    "start_time": "2021-12-26T07:48:37.019Z"
   },
   {
    "duration": 58,
    "start_time": "2021-12-26T09:50:55.015Z"
   },
   {
    "duration": 328,
    "start_time": "2021-12-26T09:57:29.213Z"
   },
   {
    "duration": 9,
    "start_time": "2021-12-26T09:58:44.714Z"
   },
   {
    "duration": 6,
    "start_time": "2021-12-26T09:59:12.140Z"
   },
   {
    "duration": 6,
    "start_time": "2021-12-26T09:59:27.119Z"
   },
   {
    "duration": 1021,
    "start_time": "2021-12-26T09:59:33.006Z"
   },
   {
    "duration": 38,
    "start_time": "2021-12-26T09:59:34.030Z"
   },
   {
    "duration": 63,
    "start_time": "2021-12-26T09:59:34.070Z"
   },
   {
    "duration": 5,
    "start_time": "2021-12-26T09:59:34.135Z"
   },
   {
    "duration": 14,
    "start_time": "2021-12-26T09:59:34.141Z"
   },
   {
    "duration": 37,
    "start_time": "2021-12-26T09:59:34.157Z"
   },
   {
    "duration": 6,
    "start_time": "2021-12-26T09:59:34.196Z"
   },
   {
    "duration": 336,
    "start_time": "2021-12-26T09:59:34.205Z"
   },
   {
    "duration": 342,
    "start_time": "2021-12-26T09:59:34.543Z"
   },
   {
    "duration": -69,
    "start_time": "2021-12-26T09:59:34.956Z"
   },
   {
    "duration": -70,
    "start_time": "2021-12-26T09:59:34.958Z"
   },
   {
    "duration": -72,
    "start_time": "2021-12-26T09:59:34.961Z"
   },
   {
    "duration": -73,
    "start_time": "2021-12-26T09:59:34.963Z"
   },
   {
    "duration": -74,
    "start_time": "2021-12-26T09:59:34.966Z"
   },
   {
    "duration": -76,
    "start_time": "2021-12-26T09:59:34.968Z"
   },
   {
    "duration": -77,
    "start_time": "2021-12-26T09:59:34.970Z"
   },
   {
    "duration": -79,
    "start_time": "2021-12-26T09:59:34.973Z"
   },
   {
    "duration": -80,
    "start_time": "2021-12-26T09:59:34.975Z"
   },
   {
    "duration": -81,
    "start_time": "2021-12-26T09:59:34.977Z"
   },
   {
    "duration": -96,
    "start_time": "2021-12-26T09:59:34.993Z"
   },
   {
    "duration": -98,
    "start_time": "2021-12-26T09:59:34.996Z"
   },
   {
    "duration": -100,
    "start_time": "2021-12-26T09:59:34.999Z"
   },
   {
    "duration": -102,
    "start_time": "2021-12-26T09:59:35.001Z"
   },
   {
    "duration": -104,
    "start_time": "2021-12-26T09:59:35.004Z"
   },
   {
    "duration": -104,
    "start_time": "2021-12-26T09:59:35.006Z"
   },
   {
    "duration": -106,
    "start_time": "2021-12-26T09:59:35.009Z"
   },
   {
    "duration": -107,
    "start_time": "2021-12-26T09:59:35.011Z"
   },
   {
    "duration": -108,
    "start_time": "2021-12-26T09:59:35.013Z"
   },
   {
    "duration": -109,
    "start_time": "2021-12-26T09:59:35.015Z"
   },
   {
    "duration": -110,
    "start_time": "2021-12-26T09:59:35.017Z"
   },
   {
    "duration": -111,
    "start_time": "2021-12-26T09:59:35.019Z"
   },
   {
    "duration": -112,
    "start_time": "2021-12-26T09:59:35.021Z"
   },
   {
    "duration": -113,
    "start_time": "2021-12-26T09:59:35.023Z"
   },
   {
    "duration": -114,
    "start_time": "2021-12-26T09:59:35.025Z"
   },
   {
    "duration": 1039,
    "start_time": "2021-12-26T10:00:16.595Z"
   },
   {
    "duration": 38,
    "start_time": "2021-12-26T10:00:17.636Z"
   },
   {
    "duration": 61,
    "start_time": "2021-12-26T10:00:17.676Z"
   },
   {
    "duration": 5,
    "start_time": "2021-12-26T10:00:17.739Z"
   },
   {
    "duration": 16,
    "start_time": "2021-12-26T10:00:17.745Z"
   },
   {
    "duration": 35,
    "start_time": "2021-12-26T10:00:17.763Z"
   },
   {
    "duration": 325,
    "start_time": "2021-12-26T10:00:17.800Z"
   },
   {
    "duration": 7,
    "start_time": "2021-12-26T10:00:18.127Z"
   },
   {
    "duration": 9,
    "start_time": "2021-12-26T10:00:18.138Z"
   },
   {
    "duration": 5,
    "start_time": "2021-12-26T10:00:18.149Z"
   },
   {
    "duration": 53,
    "start_time": "2021-12-26T10:00:18.156Z"
   },
   {
    "duration": 13,
    "start_time": "2021-12-26T10:00:18.211Z"
   },
   {
    "duration": 17,
    "start_time": "2021-12-26T10:00:18.226Z"
   },
   {
    "duration": 9,
    "start_time": "2021-12-26T10:00:18.245Z"
   },
   {
    "duration": 530,
    "start_time": "2021-12-26T10:00:18.256Z"
   },
   {
    "duration": 484,
    "start_time": "2021-12-26T10:00:18.791Z"
   },
   {
    "duration": 353,
    "start_time": "2021-12-26T10:00:19.277Z"
   },
   {
    "duration": 5,
    "start_time": "2021-12-26T10:00:19.632Z"
   },
   {
    "duration": 617,
    "start_time": "2021-12-26T10:00:19.639Z"
   },
   {
    "duration": 515,
    "start_time": "2021-12-26T10:00:20.258Z"
   },
   {
    "duration": 586,
    "start_time": "2021-12-26T10:00:20.775Z"
   },
   {
    "duration": 29,
    "start_time": "2021-12-26T10:00:21.364Z"
   },
   {
    "duration": 8,
    "start_time": "2021-12-26T10:00:21.394Z"
   },
   {
    "duration": 13,
    "start_time": "2021-12-26T10:00:21.404Z"
   },
   {
    "duration": 535,
    "start_time": "2021-12-26T10:00:21.419Z"
   },
   {
    "duration": 11,
    "start_time": "2021-12-26T10:00:21.956Z"
   },
   {
    "duration": 593,
    "start_time": "2021-12-26T10:00:21.970Z"
   },
   {
    "duration": 486,
    "start_time": "2021-12-26T10:00:22.566Z"
   },
   {
    "duration": 7,
    "start_time": "2021-12-26T10:00:23.054Z"
   },
   {
    "duration": 7,
    "start_time": "2021-12-26T10:00:23.063Z"
   },
   {
    "duration": 21,
    "start_time": "2021-12-26T10:00:23.072Z"
   },
   {
    "duration": 9,
    "start_time": "2021-12-26T10:00:23.095Z"
   },
   {
    "duration": 7,
    "start_time": "2021-12-26T10:00:23.106Z"
   },
   {
    "duration": 6,
    "start_time": "2021-12-26T10:00:23.115Z"
   },
   {
    "duration": 318,
    "start_time": "2021-12-26T10:00:53.946Z"
   },
   {
    "duration": 1069,
    "start_time": "2021-12-26T10:01:09.286Z"
   },
   {
    "duration": 39,
    "start_time": "2021-12-26T10:01:10.357Z"
   },
   {
    "duration": 63,
    "start_time": "2021-12-26T10:01:10.398Z"
   },
   {
    "duration": 5,
    "start_time": "2021-12-26T10:01:10.463Z"
   },
   {
    "duration": 33,
    "start_time": "2021-12-26T10:01:10.469Z"
   },
   {
    "duration": 13,
    "start_time": "2021-12-26T10:01:10.503Z"
   },
   {
    "duration": 341,
    "start_time": "2021-12-26T10:01:10.518Z"
   },
   {
    "duration": 6,
    "start_time": "2021-12-26T10:01:10.861Z"
   },
   {
    "duration": 10,
    "start_time": "2021-12-26T10:01:10.869Z"
   },
   {
    "duration": 14,
    "start_time": "2021-12-26T10:01:10.880Z"
   },
   {
    "duration": 26,
    "start_time": "2021-12-26T10:01:10.896Z"
   },
   {
    "duration": 12,
    "start_time": "2021-12-26T10:01:10.923Z"
   },
   {
    "duration": 20,
    "start_time": "2021-12-26T10:01:10.937Z"
   },
   {
    "duration": 34,
    "start_time": "2021-12-26T10:01:10.958Z"
   },
   {
    "duration": 511,
    "start_time": "2021-12-26T10:01:10.994Z"
   },
   {
    "duration": 499,
    "start_time": "2021-12-26T10:01:11.506Z"
   },
   {
    "duration": 348,
    "start_time": "2021-12-26T10:01:12.007Z"
   },
   {
    "duration": 5,
    "start_time": "2021-12-26T10:01:12.357Z"
   },
   {
    "duration": 629,
    "start_time": "2021-12-26T10:01:12.363Z"
   },
   {
    "duration": 541,
    "start_time": "2021-12-26T10:01:12.994Z"
   },
   {
    "duration": 527,
    "start_time": "2021-12-26T10:01:13.537Z"
   },
   {
    "duration": 27,
    "start_time": "2021-12-26T10:01:14.066Z"
   },
   {
    "duration": 8,
    "start_time": "2021-12-26T10:01:14.096Z"
   },
   {
    "duration": 13,
    "start_time": "2021-12-26T10:01:14.106Z"
   },
   {
    "duration": 531,
    "start_time": "2021-12-26T10:01:14.121Z"
   },
   {
    "duration": 12,
    "start_time": "2021-12-26T10:01:14.653Z"
   },
   {
    "duration": 574,
    "start_time": "2021-12-26T10:01:14.667Z"
   },
   {
    "duration": 485,
    "start_time": "2021-12-26T10:01:15.243Z"
   },
   {
    "duration": 6,
    "start_time": "2021-12-26T10:01:15.730Z"
   },
   {
    "duration": 6,
    "start_time": "2021-12-26T10:01:15.738Z"
   },
   {
    "duration": 6,
    "start_time": "2021-12-26T10:01:15.746Z"
   },
   {
    "duration": 9,
    "start_time": "2021-12-26T10:01:15.753Z"
   },
   {
    "duration": 6,
    "start_time": "2021-12-26T10:01:15.763Z"
   },
   {
    "duration": 4,
    "start_time": "2021-12-26T10:01:15.792Z"
   },
   {
    "duration": 325,
    "start_time": "2021-12-26T10:02:34.967Z"
   },
   {
    "duration": 299,
    "start_time": "2021-12-26T10:18:09.225Z"
   },
   {
    "duration": 219,
    "start_time": "2021-12-26T10:18:42.877Z"
   },
   {
    "duration": 693,
    "start_time": "2021-12-26T11:21:14.919Z"
   },
   {
    "duration": 503,
    "start_time": "2021-12-26T11:21:39.346Z"
   },
   {
    "duration": 319,
    "start_time": "2021-12-26T11:23:34.682Z"
   },
   {
    "duration": 349,
    "start_time": "2021-12-26T11:25:01.659Z"
   },
   {
    "duration": 265,
    "start_time": "2021-12-26T11:56:25.336Z"
   },
   {
    "duration": 20,
    "start_time": "2021-12-26T11:56:35.384Z"
   },
   {
    "duration": 1037,
    "start_time": "2021-12-26T11:57:01.079Z"
   },
   {
    "duration": 1112,
    "start_time": "2021-12-26T11:57:57.495Z"
   },
   {
    "duration": 1000,
    "start_time": "2021-12-26T11:58:27.344Z"
   },
   {
    "duration": 981,
    "start_time": "2021-12-26T11:59:29.903Z"
   },
   {
    "duration": 15,
    "start_time": "2021-12-26T12:00:07.637Z"
   },
   {
    "duration": 6,
    "start_time": "2021-12-26T12:00:51.578Z"
   },
   {
    "duration": 6,
    "start_time": "2021-12-26T12:01:14.820Z"
   },
   {
    "duration": 5,
    "start_time": "2021-12-26T12:02:07.761Z"
   },
   {
    "duration": 12,
    "start_time": "2021-12-26T12:09:31.928Z"
   },
   {
    "duration": 19,
    "start_time": "2021-12-26T12:10:20.537Z"
   },
   {
    "duration": 7,
    "start_time": "2021-12-26T12:10:54.433Z"
   },
   {
    "duration": 1091,
    "start_time": "2021-12-26T12:12:13.754Z"
   },
   {
    "duration": 38,
    "start_time": "2021-12-26T12:12:14.848Z"
   },
   {
    "duration": 63,
    "start_time": "2021-12-26T12:12:14.889Z"
   },
   {
    "duration": 5,
    "start_time": "2021-12-26T12:12:14.953Z"
   },
   {
    "duration": 36,
    "start_time": "2021-12-26T12:12:14.960Z"
   },
   {
    "duration": 17,
    "start_time": "2021-12-26T12:12:14.997Z"
   },
   {
    "duration": 356,
    "start_time": "2021-12-26T12:12:15.016Z"
   },
   {
    "duration": 6,
    "start_time": "2021-12-26T12:12:15.374Z"
   },
   {
    "duration": 8,
    "start_time": "2021-12-26T12:12:15.392Z"
   },
   {
    "duration": 5,
    "start_time": "2021-12-26T12:12:15.402Z"
   },
   {
    "duration": 24,
    "start_time": "2021-12-26T12:12:15.409Z"
   },
   {
    "duration": 13,
    "start_time": "2021-12-26T12:12:15.435Z"
   },
   {
    "duration": 49,
    "start_time": "2021-12-26T12:12:15.450Z"
   },
   {
    "duration": 9,
    "start_time": "2021-12-26T12:12:15.501Z"
   },
   {
    "duration": 518,
    "start_time": "2021-12-26T12:12:15.512Z"
   },
   {
    "duration": 494,
    "start_time": "2021-12-26T12:12:16.032Z"
   },
   {
    "duration": 351,
    "start_time": "2021-12-26T12:12:16.527Z"
   },
   {
    "duration": 13,
    "start_time": "2021-12-26T12:12:16.880Z"
   },
   {
    "duration": 600,
    "start_time": "2021-12-26T12:12:16.895Z"
   },
   {
    "duration": 337,
    "start_time": "2021-12-26T12:12:17.496Z"
   },
   {
    "duration": 540,
    "start_time": "2021-12-26T12:12:17.835Z"
   },
   {
    "duration": 588,
    "start_time": "2021-12-26T12:12:18.376Z"
   },
   {
    "duration": 29,
    "start_time": "2021-12-26T12:12:18.966Z"
   },
   {
    "duration": 9,
    "start_time": "2021-12-26T12:12:18.997Z"
   },
   {
    "duration": 13,
    "start_time": "2021-12-26T12:12:19.008Z"
   },
   {
    "duration": 548,
    "start_time": "2021-12-26T12:12:19.023Z"
   },
   {
    "duration": 20,
    "start_time": "2021-12-26T12:12:19.576Z"
   },
   {
    "duration": 586,
    "start_time": "2021-12-26T12:12:19.598Z"
   },
   {
    "duration": 19,
    "start_time": "2021-12-26T12:12:20.185Z"
   },
   {
    "duration": 7,
    "start_time": "2021-12-26T12:12:20.206Z"
   },
   {
    "duration": 592,
    "start_time": "2021-12-26T12:12:20.214Z"
   },
   {
    "duration": 8,
    "start_time": "2021-12-26T12:12:20.808Z"
   },
   {
    "duration": 15,
    "start_time": "2021-12-26T12:12:20.817Z"
   },
   {
    "duration": 7,
    "start_time": "2021-12-26T12:12:20.834Z"
   },
   {
    "duration": 10,
    "start_time": "2021-12-26T12:12:20.842Z"
   },
   {
    "duration": 5,
    "start_time": "2021-12-26T12:12:20.854Z"
   },
   {
    "duration": 6,
    "start_time": "2021-12-26T12:12:20.861Z"
   },
   {
    "duration": 1200,
    "start_time": "2021-12-26T15:58:29.833Z"
   },
   {
    "duration": 38,
    "start_time": "2021-12-26T15:58:31.035Z"
   },
   {
    "duration": 56,
    "start_time": "2021-12-26T15:58:31.075Z"
   },
   {
    "duration": 5,
    "start_time": "2021-12-26T15:58:31.133Z"
   },
   {
    "duration": 14,
    "start_time": "2021-12-26T15:58:48.986Z"
   },
   {
    "duration": 11,
    "start_time": "2021-12-26T16:00:24.866Z"
   },
   {
    "duration": 13,
    "start_time": "2021-12-26T16:00:30.724Z"
   },
   {
    "duration": 10,
    "start_time": "2021-12-26T16:00:50.406Z"
   },
   {
    "duration": 1104,
    "start_time": "2021-12-26T16:07:29.815Z"
   },
   {
    "duration": 42,
    "start_time": "2021-12-26T16:07:30.922Z"
   },
   {
    "duration": 72,
    "start_time": "2021-12-26T16:07:30.966Z"
   },
   {
    "duration": 25,
    "start_time": "2021-12-26T16:07:31.040Z"
   },
   {
    "duration": 15,
    "start_time": "2021-12-26T16:07:31.067Z"
   },
   {
    "duration": 15,
    "start_time": "2021-12-26T16:07:31.084Z"
   },
   {
    "duration": 19,
    "start_time": "2021-12-26T16:07:31.101Z"
   },
   {
    "duration": 337,
    "start_time": "2021-12-26T16:07:31.123Z"
   },
   {
    "duration": 6,
    "start_time": "2021-12-26T16:07:31.463Z"
   },
   {
    "duration": 26,
    "start_time": "2021-12-26T16:07:31.470Z"
   },
   {
    "duration": 6,
    "start_time": "2021-12-26T16:07:31.498Z"
   },
   {
    "duration": 28,
    "start_time": "2021-12-26T16:07:31.506Z"
   },
   {
    "duration": 12,
    "start_time": "2021-12-26T16:07:31.536Z"
   },
   {
    "duration": 16,
    "start_time": "2021-12-26T16:07:31.560Z"
   },
   {
    "duration": 20,
    "start_time": "2021-12-26T16:07:31.578Z"
   },
   {
    "duration": 477,
    "start_time": "2021-12-26T16:07:31.600Z"
   },
   {
    "duration": 500,
    "start_time": "2021-12-26T16:07:32.079Z"
   },
   {
    "duration": 333,
    "start_time": "2021-12-26T16:07:32.581Z"
   },
   {
    "duration": 6,
    "start_time": "2021-12-26T16:07:32.915Z"
   },
   {
    "duration": 605,
    "start_time": "2021-12-26T16:07:32.922Z"
   },
   {
    "duration": 352,
    "start_time": "2021-12-26T16:07:33.528Z"
   },
   {
    "duration": 559,
    "start_time": "2021-12-26T16:07:33.881Z"
   },
   {
    "duration": 512,
    "start_time": "2021-12-26T16:07:34.444Z"
   },
   {
    "duration": 21,
    "start_time": "2021-12-26T16:07:34.958Z"
   },
   {
    "duration": 8,
    "start_time": "2021-12-26T16:07:34.981Z"
   },
   {
    "duration": 16,
    "start_time": "2021-12-26T16:07:34.990Z"
   },
   {
    "duration": 530,
    "start_time": "2021-12-26T16:07:35.008Z"
   },
   {
    "duration": 22,
    "start_time": "2021-12-26T16:07:35.540Z"
   },
   {
    "duration": 555,
    "start_time": "2021-12-26T16:07:35.564Z"
   },
   {
    "duration": 16,
    "start_time": "2021-12-26T16:07:36.121Z"
   },
   {
    "duration": 21,
    "start_time": "2021-12-26T16:07:36.139Z"
   },
   {
    "duration": 471,
    "start_time": "2021-12-26T16:07:36.162Z"
   },
   {
    "duration": 7,
    "start_time": "2021-12-26T16:07:36.635Z"
   },
   {
    "duration": 18,
    "start_time": "2021-12-26T16:07:36.643Z"
   },
   {
    "duration": 9,
    "start_time": "2021-12-26T16:07:36.663Z"
   },
   {
    "duration": 11,
    "start_time": "2021-12-26T16:07:36.673Z"
   },
   {
    "duration": 6,
    "start_time": "2021-12-26T16:07:36.686Z"
   },
   {
    "duration": 8,
    "start_time": "2021-12-26T16:07:36.694Z"
   },
   {
    "duration": 1259,
    "start_time": "2021-12-26T16:08:12.568Z"
   },
   {
    "duration": 39,
    "start_time": "2021-12-26T16:08:13.829Z"
   },
   {
    "duration": 58,
    "start_time": "2021-12-26T16:08:13.870Z"
   },
   {
    "duration": 5,
    "start_time": "2021-12-26T16:08:13.930Z"
   },
   {
    "duration": 34,
    "start_time": "2021-12-26T16:08:13.937Z"
   },
   {
    "duration": 1066,
    "start_time": "2021-12-26T16:16:42.565Z"
   },
   {
    "duration": 39,
    "start_time": "2021-12-26T16:16:43.633Z"
   },
   {
    "duration": 59,
    "start_time": "2021-12-26T16:16:43.674Z"
   },
   {
    "duration": 5,
    "start_time": "2021-12-26T16:16:43.735Z"
   },
   {
    "duration": 30,
    "start_time": "2021-12-26T16:16:43.742Z"
   },
   {
    "duration": 38,
    "start_time": "2021-12-26T16:16:43.774Z"
   },
   {
    "duration": 42,
    "start_time": "2021-12-26T16:16:43.813Z"
   },
   {
    "duration": 337,
    "start_time": "2021-12-26T16:16:43.857Z"
   },
   {
    "duration": 20,
    "start_time": "2021-12-26T16:16:44.196Z"
   },
   {
    "duration": 9,
    "start_time": "2021-12-26T16:17:25.585Z"
   },
   {
    "duration": 10,
    "start_time": "2021-12-26T16:17:52.728Z"
   },
   {
    "duration": 9,
    "start_time": "2021-12-26T16:18:10.777Z"
   },
   {
    "duration": 299,
    "start_time": "2021-12-26T16:18:25.431Z"
   },
   {
    "duration": 221,
    "start_time": "2021-12-26T16:18:31.308Z"
   },
   {
    "duration": 9,
    "start_time": "2021-12-26T16:18:39.228Z"
   },
   {
    "duration": 189,
    "start_time": "2021-12-26T16:19:44.990Z"
   },
   {
    "duration": 176,
    "start_time": "2021-12-26T16:19:52.215Z"
   },
   {
    "duration": 170,
    "start_time": "2021-12-26T16:20:15.292Z"
   },
   {
    "duration": 174,
    "start_time": "2021-12-26T16:20:27.144Z"
   },
   {
    "duration": 1159,
    "start_time": "2021-12-26T16:21:48.127Z"
   },
   {
    "duration": 36,
    "start_time": "2021-12-26T16:21:49.289Z"
   },
   {
    "duration": 66,
    "start_time": "2021-12-26T16:21:49.327Z"
   },
   {
    "duration": 6,
    "start_time": "2021-12-26T16:21:49.395Z"
   },
   {
    "duration": 15,
    "start_time": "2021-12-26T16:21:49.403Z"
   },
   {
    "duration": 9,
    "start_time": "2021-12-26T16:21:49.420Z"
   },
   {
    "duration": 42,
    "start_time": "2021-12-26T16:21:49.431Z"
   },
   {
    "duration": 347,
    "start_time": "2021-12-26T16:21:49.476Z"
   },
   {
    "duration": 362,
    "start_time": "2021-12-26T16:21:49.825Z"
   },
   {
    "duration": 1178,
    "start_time": "2021-12-26T16:42:01.186Z"
   },
   {
    "duration": 41,
    "start_time": "2021-12-26T16:42:02.366Z"
   },
   {
    "duration": 96,
    "start_time": "2021-12-26T16:42:02.409Z"
   },
   {
    "duration": 7,
    "start_time": "2021-12-26T16:42:02.508Z"
   },
   {
    "duration": 33,
    "start_time": "2021-12-26T16:42:02.517Z"
   },
   {
    "duration": 89,
    "start_time": "2021-12-26T16:56:10.163Z"
   },
   {
    "duration": 1194,
    "start_time": "2021-12-26T17:03:13.103Z"
   },
   {
    "duration": 3682,
    "start_time": "2021-12-26T17:03:14.300Z"
   },
   {
    "duration": 1358,
    "start_time": "2021-12-26T17:04:06.808Z"
   },
   {
    "duration": 52,
    "start_time": "2021-12-26T17:04:08.171Z"
   },
   {
    "duration": 77,
    "start_time": "2021-12-26T17:04:08.225Z"
   },
   {
    "duration": 6,
    "start_time": "2021-12-26T17:04:08.304Z"
   },
   {
    "duration": 34,
    "start_time": "2021-12-26T17:04:08.311Z"
   },
   {
    "duration": 24,
    "start_time": "2021-12-26T17:04:08.347Z"
   },
   {
    "duration": 361,
    "start_time": "2021-12-26T17:04:08.373Z"
   },
   {
    "duration": 360,
    "start_time": "2021-12-26T17:04:08.738Z"
   },
   {
    "duration": 10,
    "start_time": "2021-12-26T17:04:09.101Z"
   },
   {
    "duration": 6,
    "start_time": "2021-12-26T17:04:09.113Z"
   },
   {
    "duration": 50,
    "start_time": "2021-12-26T17:04:09.121Z"
   },
   {
    "duration": 13,
    "start_time": "2021-12-26T17:04:09.173Z"
   },
   {
    "duration": 6,
    "start_time": "2021-12-26T17:04:09.188Z"
   },
   {
    "duration": 12,
    "start_time": "2021-12-26T17:04:09.195Z"
   },
   {
    "duration": 606,
    "start_time": "2021-12-26T17:04:09.209Z"
   },
   {
    "duration": 528,
    "start_time": "2021-12-26T17:04:09.817Z"
   },
   {
    "duration": 437,
    "start_time": "2021-12-26T17:04:10.347Z"
   },
   {
    "duration": 6,
    "start_time": "2021-12-26T17:04:10.786Z"
   },
   {
    "duration": 554,
    "start_time": "2021-12-26T17:04:10.793Z"
   },
   {
    "duration": 333,
    "start_time": "2021-12-26T17:04:11.349Z"
   },
   {
    "duration": 641,
    "start_time": "2021-12-26T17:04:11.684Z"
   },
   {
    "duration": 513,
    "start_time": "2021-12-26T17:04:12.326Z"
   },
   {
    "duration": 30,
    "start_time": "2021-12-26T17:04:12.841Z"
   },
   {
    "duration": 8,
    "start_time": "2021-12-26T17:04:12.873Z"
   },
   {
    "duration": 12,
    "start_time": "2021-12-26T17:04:12.883Z"
   },
   {
    "duration": 535,
    "start_time": "2021-12-26T17:04:12.898Z"
   },
   {
    "duration": 26,
    "start_time": "2021-12-26T17:04:13.435Z"
   },
   {
    "duration": 560,
    "start_time": "2021-12-26T17:04:13.463Z"
   },
   {
    "duration": 18,
    "start_time": "2021-12-26T17:04:14.024Z"
   },
   {
    "duration": 21,
    "start_time": "2021-12-26T17:04:14.043Z"
   },
   {
    "duration": 576,
    "start_time": "2021-12-26T17:04:14.066Z"
   },
   {
    "duration": 10,
    "start_time": "2021-12-26T17:04:14.645Z"
   },
   {
    "duration": 12,
    "start_time": "2021-12-26T17:04:14.657Z"
   },
   {
    "duration": 23,
    "start_time": "2021-12-26T17:04:14.671Z"
   },
   {
    "duration": 28,
    "start_time": "2021-12-26T17:04:14.696Z"
   },
   {
    "duration": 6,
    "start_time": "2021-12-26T17:04:14.727Z"
   },
   {
    "duration": 17,
    "start_time": "2021-12-26T17:04:14.735Z"
   }
  ],
  "kernelspec": {
   "display_name": "Python 3",
   "language": "python",
   "name": "python3"
  },
  "language_info": {
   "codemirror_mode": {
    "name": "ipython",
    "version": 3
   },
   "file_extension": ".py",
   "mimetype": "text/x-python",
   "name": "python",
   "nbconvert_exporter": "python",
   "pygments_lexer": "ipython3",
   "version": "3.8.8"
  },
  "toc": {
   "base_numbering": 1,
   "nav_menu": {},
   "number_sections": true,
   "sideBar": true,
   "skip_h1_title": true,
   "title_cell": "Table of Contents",
   "title_sidebar": "Contents",
   "toc_cell": false,
   "toc_position": {},
   "toc_section_display": true,
   "toc_window_display": true
  }
 },
 "nbformat": 4,
 "nbformat_minor": 2
}
