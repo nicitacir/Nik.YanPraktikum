{
 "cells": [
  {
   "cell_type": "markdown",
   "metadata": {},
   "source": [
    "# Определение перспективного тарифа для телеком-компании\n",
    "\n",
    "Вы аналитик компании «Мегалайн» — федерального оператора сотовой связи. Клиентам предлагают два тарифных плана: «Смарт» и «Ультра». Чтобы скорректировать рекламный бюджет, коммерческий департамент хочет понять, какой тариф приносит больше денег.\n",
    "Вам предстоит сделать предварительный анализ тарифов на небольшой выборке клиентов. В вашем распоряжении данные 500 пользователей «Мегалайна»: кто они, откуда, каким тарифом пользуются, сколько звонков и сообщений каждый отправил за 2018 год. \n",
    "\n",
    "Нужно проанализировать поведение клиентов и сделать вывод — какой тариф лучше"
   ]
  },
  {
   "cell_type": "markdown",
   "metadata": {},
   "source": [
    "## Изучение данных из файла"
   ]
  },
  {
   "cell_type": "markdown",
   "metadata": {},
   "source": [
    "Импортируем нужные библиотеки, проведем первичный анализ данных"
   ]
  },
  {
   "cell_type": "code",
   "execution_count": 52,
   "metadata": {},
   "outputs": [],
   "source": [
    "import pandas as pd\n",
    "import math as mt\n",
    "import numpy as np\n",
    "import pylab as plt\n",
    "import seaborn as sea\n",
    "from scipy import stats as st\n"
   ]
  },
  {
   "cell_type": "code",
   "execution_count": 53,
   "metadata": {},
   "outputs": [],
   "source": [
    "calls = pd.read_csv('/datasets/calls.csv')\n",
    "internet = pd.read_csv('/datasets/internet.csv')\n",
    "messages = pd.read_csv('/datasets/messages.csv')\n",
    "tariffs = pd.read_csv('/datasets/tariffs.csv')\n",
    "users = pd.read_csv('/datasets/users.csv')"
   ]
  },
  {
   "cell_type": "code",
   "execution_count": 54,
   "metadata": {
    "scrolled": false
   },
   "outputs": [
    {
     "data": {
      "text/html": [
       "<div>\n",
       "<style scoped>\n",
       "    .dataframe tbody tr th:only-of-type {\n",
       "        vertical-align: middle;\n",
       "    }\n",
       "\n",
       "    .dataframe tbody tr th {\n",
       "        vertical-align: top;\n",
       "    }\n",
       "\n",
       "    .dataframe thead th {\n",
       "        text-align: right;\n",
       "    }\n",
       "</style>\n",
       "<table border=\"1\" class=\"dataframe\">\n",
       "  <thead>\n",
       "    <tr style=\"text-align: right;\">\n",
       "      <th></th>\n",
       "      <th>id</th>\n",
       "      <th>call_date</th>\n",
       "      <th>duration</th>\n",
       "      <th>user_id</th>\n",
       "    </tr>\n",
       "  </thead>\n",
       "  <tbody>\n",
       "    <tr>\n",
       "      <td>0</td>\n",
       "      <td>1000_0</td>\n",
       "      <td>2018-07-25</td>\n",
       "      <td>0.00</td>\n",
       "      <td>1000</td>\n",
       "    </tr>\n",
       "    <tr>\n",
       "      <td>1</td>\n",
       "      <td>1000_1</td>\n",
       "      <td>2018-08-17</td>\n",
       "      <td>0.00</td>\n",
       "      <td>1000</td>\n",
       "    </tr>\n",
       "    <tr>\n",
       "      <td>2</td>\n",
       "      <td>1000_2</td>\n",
       "      <td>2018-06-11</td>\n",
       "      <td>2.85</td>\n",
       "      <td>1000</td>\n",
       "    </tr>\n",
       "    <tr>\n",
       "      <td>3</td>\n",
       "      <td>1000_3</td>\n",
       "      <td>2018-09-21</td>\n",
       "      <td>13.80</td>\n",
       "      <td>1000</td>\n",
       "    </tr>\n",
       "    <tr>\n",
       "      <td>4</td>\n",
       "      <td>1000_4</td>\n",
       "      <td>2018-12-15</td>\n",
       "      <td>5.18</td>\n",
       "      <td>1000</td>\n",
       "    </tr>\n",
       "  </tbody>\n",
       "</table>\n",
       "</div>"
      ],
      "text/plain": [
       "       id   call_date  duration  user_id\n",
       "0  1000_0  2018-07-25      0.00     1000\n",
       "1  1000_1  2018-08-17      0.00     1000\n",
       "2  1000_2  2018-06-11      2.85     1000\n",
       "3  1000_3  2018-09-21     13.80     1000\n",
       "4  1000_4  2018-12-15      5.18     1000"
      ]
     },
     "metadata": {},
     "output_type": "display_data"
    },
    {
     "data": {
      "text/html": [
       "<div>\n",
       "<style scoped>\n",
       "    .dataframe tbody tr th:only-of-type {\n",
       "        vertical-align: middle;\n",
       "    }\n",
       "\n",
       "    .dataframe tbody tr th {\n",
       "        vertical-align: top;\n",
       "    }\n",
       "\n",
       "    .dataframe thead th {\n",
       "        text-align: right;\n",
       "    }\n",
       "</style>\n",
       "<table border=\"1\" class=\"dataframe\">\n",
       "  <thead>\n",
       "    <tr style=\"text-align: right;\">\n",
       "      <th></th>\n",
       "      <th>Unnamed: 0</th>\n",
       "      <th>id</th>\n",
       "      <th>mb_used</th>\n",
       "      <th>session_date</th>\n",
       "      <th>user_id</th>\n",
       "    </tr>\n",
       "  </thead>\n",
       "  <tbody>\n",
       "    <tr>\n",
       "      <td>0</td>\n",
       "      <td>0</td>\n",
       "      <td>1000_0</td>\n",
       "      <td>112.95</td>\n",
       "      <td>2018-11-25</td>\n",
       "      <td>1000</td>\n",
       "    </tr>\n",
       "    <tr>\n",
       "      <td>1</td>\n",
       "      <td>1</td>\n",
       "      <td>1000_1</td>\n",
       "      <td>1052.81</td>\n",
       "      <td>2018-09-07</td>\n",
       "      <td>1000</td>\n",
       "    </tr>\n",
       "    <tr>\n",
       "      <td>2</td>\n",
       "      <td>2</td>\n",
       "      <td>1000_2</td>\n",
       "      <td>1197.26</td>\n",
       "      <td>2018-06-25</td>\n",
       "      <td>1000</td>\n",
       "    </tr>\n",
       "    <tr>\n",
       "      <td>3</td>\n",
       "      <td>3</td>\n",
       "      <td>1000_3</td>\n",
       "      <td>550.27</td>\n",
       "      <td>2018-08-22</td>\n",
       "      <td>1000</td>\n",
       "    </tr>\n",
       "    <tr>\n",
       "      <td>4</td>\n",
       "      <td>4</td>\n",
       "      <td>1000_4</td>\n",
       "      <td>302.56</td>\n",
       "      <td>2018-09-24</td>\n",
       "      <td>1000</td>\n",
       "    </tr>\n",
       "  </tbody>\n",
       "</table>\n",
       "</div>"
      ],
      "text/plain": [
       "   Unnamed: 0      id  mb_used session_date  user_id\n",
       "0           0  1000_0   112.95   2018-11-25     1000\n",
       "1           1  1000_1  1052.81   2018-09-07     1000\n",
       "2           2  1000_2  1197.26   2018-06-25     1000\n",
       "3           3  1000_3   550.27   2018-08-22     1000\n",
       "4           4  1000_4   302.56   2018-09-24     1000"
      ]
     },
     "metadata": {},
     "output_type": "display_data"
    },
    {
     "data": {
      "text/html": [
       "<div>\n",
       "<style scoped>\n",
       "    .dataframe tbody tr th:only-of-type {\n",
       "        vertical-align: middle;\n",
       "    }\n",
       "\n",
       "    .dataframe tbody tr th {\n",
       "        vertical-align: top;\n",
       "    }\n",
       "\n",
       "    .dataframe thead th {\n",
       "        text-align: right;\n",
       "    }\n",
       "</style>\n",
       "<table border=\"1\" class=\"dataframe\">\n",
       "  <thead>\n",
       "    <tr style=\"text-align: right;\">\n",
       "      <th></th>\n",
       "      <th>id</th>\n",
       "      <th>message_date</th>\n",
       "      <th>user_id</th>\n",
       "    </tr>\n",
       "  </thead>\n",
       "  <tbody>\n",
       "    <tr>\n",
       "      <td>0</td>\n",
       "      <td>1000_0</td>\n",
       "      <td>2018-06-27</td>\n",
       "      <td>1000</td>\n",
       "    </tr>\n",
       "    <tr>\n",
       "      <td>1</td>\n",
       "      <td>1000_1</td>\n",
       "      <td>2018-10-08</td>\n",
       "      <td>1000</td>\n",
       "    </tr>\n",
       "    <tr>\n",
       "      <td>2</td>\n",
       "      <td>1000_2</td>\n",
       "      <td>2018-08-04</td>\n",
       "      <td>1000</td>\n",
       "    </tr>\n",
       "    <tr>\n",
       "      <td>3</td>\n",
       "      <td>1000_3</td>\n",
       "      <td>2018-06-16</td>\n",
       "      <td>1000</td>\n",
       "    </tr>\n",
       "    <tr>\n",
       "      <td>4</td>\n",
       "      <td>1000_4</td>\n",
       "      <td>2018-12-05</td>\n",
       "      <td>1000</td>\n",
       "    </tr>\n",
       "  </tbody>\n",
       "</table>\n",
       "</div>"
      ],
      "text/plain": [
       "       id message_date  user_id\n",
       "0  1000_0   2018-06-27     1000\n",
       "1  1000_1   2018-10-08     1000\n",
       "2  1000_2   2018-08-04     1000\n",
       "3  1000_3   2018-06-16     1000\n",
       "4  1000_4   2018-12-05     1000"
      ]
     },
     "metadata": {},
     "output_type": "display_data"
    },
    {
     "data": {
      "text/html": [
       "<div>\n",
       "<style scoped>\n",
       "    .dataframe tbody tr th:only-of-type {\n",
       "        vertical-align: middle;\n",
       "    }\n",
       "\n",
       "    .dataframe tbody tr th {\n",
       "        vertical-align: top;\n",
       "    }\n",
       "\n",
       "    .dataframe thead th {\n",
       "        text-align: right;\n",
       "    }\n",
       "</style>\n",
       "<table border=\"1\" class=\"dataframe\">\n",
       "  <thead>\n",
       "    <tr style=\"text-align: right;\">\n",
       "      <th></th>\n",
       "      <th>messages_included</th>\n",
       "      <th>mb_per_month_included</th>\n",
       "      <th>minutes_included</th>\n",
       "      <th>rub_monthly_fee</th>\n",
       "      <th>rub_per_gb</th>\n",
       "      <th>rub_per_message</th>\n",
       "      <th>rub_per_minute</th>\n",
       "      <th>tariff_name</th>\n",
       "    </tr>\n",
       "  </thead>\n",
       "  <tbody>\n",
       "    <tr>\n",
       "      <td>0</td>\n",
       "      <td>50</td>\n",
       "      <td>15360</td>\n",
       "      <td>500</td>\n",
       "      <td>550</td>\n",
       "      <td>200</td>\n",
       "      <td>3</td>\n",
       "      <td>3</td>\n",
       "      <td>smart</td>\n",
       "    </tr>\n",
       "    <tr>\n",
       "      <td>1</td>\n",
       "      <td>1000</td>\n",
       "      <td>30720</td>\n",
       "      <td>3000</td>\n",
       "      <td>1950</td>\n",
       "      <td>150</td>\n",
       "      <td>1</td>\n",
       "      <td>1</td>\n",
       "      <td>ultra</td>\n",
       "    </tr>\n",
       "  </tbody>\n",
       "</table>\n",
       "</div>"
      ],
      "text/plain": [
       "   messages_included  mb_per_month_included  minutes_included  \\\n",
       "0                 50                  15360               500   \n",
       "1               1000                  30720              3000   \n",
       "\n",
       "   rub_monthly_fee  rub_per_gb  rub_per_message  rub_per_minute tariff_name  \n",
       "0              550         200                3               3       smart  \n",
       "1             1950         150                1               1       ultra  "
      ]
     },
     "metadata": {},
     "output_type": "display_data"
    },
    {
     "data": {
      "text/html": [
       "<div>\n",
       "<style scoped>\n",
       "    .dataframe tbody tr th:only-of-type {\n",
       "        vertical-align: middle;\n",
       "    }\n",
       "\n",
       "    .dataframe tbody tr th {\n",
       "        vertical-align: top;\n",
       "    }\n",
       "\n",
       "    .dataframe thead th {\n",
       "        text-align: right;\n",
       "    }\n",
       "</style>\n",
       "<table border=\"1\" class=\"dataframe\">\n",
       "  <thead>\n",
       "    <tr style=\"text-align: right;\">\n",
       "      <th></th>\n",
       "      <th>user_id</th>\n",
       "      <th>age</th>\n",
       "      <th>churn_date</th>\n",
       "      <th>city</th>\n",
       "      <th>first_name</th>\n",
       "      <th>last_name</th>\n",
       "      <th>reg_date</th>\n",
       "      <th>tariff</th>\n",
       "    </tr>\n",
       "  </thead>\n",
       "  <tbody>\n",
       "    <tr>\n",
       "      <td>0</td>\n",
       "      <td>1000</td>\n",
       "      <td>52</td>\n",
       "      <td>NaN</td>\n",
       "      <td>Краснодар</td>\n",
       "      <td>Рафаил</td>\n",
       "      <td>Верещагин</td>\n",
       "      <td>2018-05-25</td>\n",
       "      <td>ultra</td>\n",
       "    </tr>\n",
       "    <tr>\n",
       "      <td>1</td>\n",
       "      <td>1001</td>\n",
       "      <td>41</td>\n",
       "      <td>NaN</td>\n",
       "      <td>Москва</td>\n",
       "      <td>Иван</td>\n",
       "      <td>Ежов</td>\n",
       "      <td>2018-11-01</td>\n",
       "      <td>smart</td>\n",
       "    </tr>\n",
       "    <tr>\n",
       "      <td>2</td>\n",
       "      <td>1002</td>\n",
       "      <td>59</td>\n",
       "      <td>NaN</td>\n",
       "      <td>Стерлитамак</td>\n",
       "      <td>Евгений</td>\n",
       "      <td>Абрамович</td>\n",
       "      <td>2018-06-17</td>\n",
       "      <td>smart</td>\n",
       "    </tr>\n",
       "    <tr>\n",
       "      <td>3</td>\n",
       "      <td>1003</td>\n",
       "      <td>23</td>\n",
       "      <td>NaN</td>\n",
       "      <td>Москва</td>\n",
       "      <td>Белла</td>\n",
       "      <td>Белякова</td>\n",
       "      <td>2018-08-17</td>\n",
       "      <td>ultra</td>\n",
       "    </tr>\n",
       "    <tr>\n",
       "      <td>4</td>\n",
       "      <td>1004</td>\n",
       "      <td>68</td>\n",
       "      <td>NaN</td>\n",
       "      <td>Новокузнецк</td>\n",
       "      <td>Татьяна</td>\n",
       "      <td>Авдеенко</td>\n",
       "      <td>2018-05-14</td>\n",
       "      <td>ultra</td>\n",
       "    </tr>\n",
       "  </tbody>\n",
       "</table>\n",
       "</div>"
      ],
      "text/plain": [
       "   user_id  age churn_date         city first_name  last_name    reg_date  \\\n",
       "0     1000   52        NaN    Краснодар     Рафаил  Верещагин  2018-05-25   \n",
       "1     1001   41        NaN       Москва       Иван       Ежов  2018-11-01   \n",
       "2     1002   59        NaN  Стерлитамак    Евгений  Абрамович  2018-06-17   \n",
       "3     1003   23        NaN       Москва      Белла   Белякова  2018-08-17   \n",
       "4     1004   68        NaN  Новокузнецк    Татьяна   Авдеенко  2018-05-14   \n",
       "\n",
       "  tariff  \n",
       "0  ultra  \n",
       "1  smart  \n",
       "2  smart  \n",
       "3  ultra  \n",
       "4  ultra  "
      ]
     },
     "metadata": {},
     "output_type": "display_data"
    }
   ],
   "source": [
    "display(calls.head())\n",
    "display(internet.head())\n",
    "display(messages.head())\n",
    "display(tariffs.head())\n",
    "display(users.head())"
   ]
  },
  {
   "cell_type": "code",
   "execution_count": 55,
   "metadata": {
    "scrolled": false
   },
   "outputs": [
    {
     "data": {
      "text/html": [
       "<div>\n",
       "<style scoped>\n",
       "    .dataframe tbody tr th:only-of-type {\n",
       "        vertical-align: middle;\n",
       "    }\n",
       "\n",
       "    .dataframe tbody tr th {\n",
       "        vertical-align: top;\n",
       "    }\n",
       "\n",
       "    .dataframe thead th {\n",
       "        text-align: right;\n",
       "    }\n",
       "</style>\n",
       "<table border=\"1\" class=\"dataframe\">\n",
       "  <thead>\n",
       "    <tr style=\"text-align: right;\">\n",
       "      <th></th>\n",
       "      <th>duration</th>\n",
       "      <th>user_id</th>\n",
       "    </tr>\n",
       "  </thead>\n",
       "  <tbody>\n",
       "    <tr>\n",
       "      <td>count</td>\n",
       "      <td>202607.000000</td>\n",
       "      <td>202607.000000</td>\n",
       "    </tr>\n",
       "    <tr>\n",
       "      <td>mean</td>\n",
       "      <td>6.755887</td>\n",
       "      <td>1253.940619</td>\n",
       "    </tr>\n",
       "    <tr>\n",
       "      <td>std</td>\n",
       "      <td>5.843365</td>\n",
       "      <td>144.722751</td>\n",
       "    </tr>\n",
       "    <tr>\n",
       "      <td>min</td>\n",
       "      <td>0.000000</td>\n",
       "      <td>1000.000000</td>\n",
       "    </tr>\n",
       "    <tr>\n",
       "      <td>25%</td>\n",
       "      <td>1.300000</td>\n",
       "      <td>1126.000000</td>\n",
       "    </tr>\n",
       "    <tr>\n",
       "      <td>50%</td>\n",
       "      <td>6.000000</td>\n",
       "      <td>1260.000000</td>\n",
       "    </tr>\n",
       "    <tr>\n",
       "      <td>75%</td>\n",
       "      <td>10.700000</td>\n",
       "      <td>1379.000000</td>\n",
       "    </tr>\n",
       "    <tr>\n",
       "      <td>max</td>\n",
       "      <td>38.000000</td>\n",
       "      <td>1499.000000</td>\n",
       "    </tr>\n",
       "  </tbody>\n",
       "</table>\n",
       "</div>"
      ],
      "text/plain": [
       "            duration        user_id\n",
       "count  202607.000000  202607.000000\n",
       "mean        6.755887    1253.940619\n",
       "std         5.843365     144.722751\n",
       "min         0.000000    1000.000000\n",
       "25%         1.300000    1126.000000\n",
       "50%         6.000000    1260.000000\n",
       "75%        10.700000    1379.000000\n",
       "max        38.000000    1499.000000"
      ]
     },
     "metadata": {},
     "output_type": "display_data"
    },
    {
     "data": {
      "text/html": [
       "<div>\n",
       "<style scoped>\n",
       "    .dataframe tbody tr th:only-of-type {\n",
       "        vertical-align: middle;\n",
       "    }\n",
       "\n",
       "    .dataframe tbody tr th {\n",
       "        vertical-align: top;\n",
       "    }\n",
       "\n",
       "    .dataframe thead th {\n",
       "        text-align: right;\n",
       "    }\n",
       "</style>\n",
       "<table border=\"1\" class=\"dataframe\">\n",
       "  <thead>\n",
       "    <tr style=\"text-align: right;\">\n",
       "      <th></th>\n",
       "      <th>Unnamed: 0</th>\n",
       "      <th>mb_used</th>\n",
       "      <th>user_id</th>\n",
       "    </tr>\n",
       "  </thead>\n",
       "  <tbody>\n",
       "    <tr>\n",
       "      <td>count</td>\n",
       "      <td>149396.000000</td>\n",
       "      <td>149396.000000</td>\n",
       "      <td>149396.000000</td>\n",
       "    </tr>\n",
       "    <tr>\n",
       "      <td>mean</td>\n",
       "      <td>74697.500000</td>\n",
       "      <td>370.192426</td>\n",
       "      <td>1252.099842</td>\n",
       "    </tr>\n",
       "    <tr>\n",
       "      <td>std</td>\n",
       "      <td>43127.054745</td>\n",
       "      <td>278.300951</td>\n",
       "      <td>144.050823</td>\n",
       "    </tr>\n",
       "    <tr>\n",
       "      <td>min</td>\n",
       "      <td>0.000000</td>\n",
       "      <td>0.000000</td>\n",
       "      <td>1000.000000</td>\n",
       "    </tr>\n",
       "    <tr>\n",
       "      <td>25%</td>\n",
       "      <td>37348.750000</td>\n",
       "      <td>138.187500</td>\n",
       "      <td>1130.000000</td>\n",
       "    </tr>\n",
       "    <tr>\n",
       "      <td>50%</td>\n",
       "      <td>74697.500000</td>\n",
       "      <td>348.015000</td>\n",
       "      <td>1251.000000</td>\n",
       "    </tr>\n",
       "    <tr>\n",
       "      <td>75%</td>\n",
       "      <td>112046.250000</td>\n",
       "      <td>559.552500</td>\n",
       "      <td>1380.000000</td>\n",
       "    </tr>\n",
       "    <tr>\n",
       "      <td>max</td>\n",
       "      <td>149395.000000</td>\n",
       "      <td>1724.830000</td>\n",
       "      <td>1499.000000</td>\n",
       "    </tr>\n",
       "  </tbody>\n",
       "</table>\n",
       "</div>"
      ],
      "text/plain": [
       "          Unnamed: 0        mb_used        user_id\n",
       "count  149396.000000  149396.000000  149396.000000\n",
       "mean    74697.500000     370.192426    1252.099842\n",
       "std     43127.054745     278.300951     144.050823\n",
       "min         0.000000       0.000000    1000.000000\n",
       "25%     37348.750000     138.187500    1130.000000\n",
       "50%     74697.500000     348.015000    1251.000000\n",
       "75%    112046.250000     559.552500    1380.000000\n",
       "max    149395.000000    1724.830000    1499.000000"
      ]
     },
     "metadata": {},
     "output_type": "display_data"
    },
    {
     "data": {
      "text/html": [
       "<div>\n",
       "<style scoped>\n",
       "    .dataframe tbody tr th:only-of-type {\n",
       "        vertical-align: middle;\n",
       "    }\n",
       "\n",
       "    .dataframe tbody tr th {\n",
       "        vertical-align: top;\n",
       "    }\n",
       "\n",
       "    .dataframe thead th {\n",
       "        text-align: right;\n",
       "    }\n",
       "</style>\n",
       "<table border=\"1\" class=\"dataframe\">\n",
       "  <thead>\n",
       "    <tr style=\"text-align: right;\">\n",
       "      <th></th>\n",
       "      <th>user_id</th>\n",
       "    </tr>\n",
       "  </thead>\n",
       "  <tbody>\n",
       "    <tr>\n",
       "      <td>count</td>\n",
       "      <td>123036.000000</td>\n",
       "    </tr>\n",
       "    <tr>\n",
       "      <td>mean</td>\n",
       "      <td>1256.989410</td>\n",
       "    </tr>\n",
       "    <tr>\n",
       "      <td>std</td>\n",
       "      <td>143.523967</td>\n",
       "    </tr>\n",
       "    <tr>\n",
       "      <td>min</td>\n",
       "      <td>1000.000000</td>\n",
       "    </tr>\n",
       "    <tr>\n",
       "      <td>25%</td>\n",
       "      <td>1134.000000</td>\n",
       "    </tr>\n",
       "    <tr>\n",
       "      <td>50%</td>\n",
       "      <td>1271.000000</td>\n",
       "    </tr>\n",
       "    <tr>\n",
       "      <td>75%</td>\n",
       "      <td>1381.000000</td>\n",
       "    </tr>\n",
       "    <tr>\n",
       "      <td>max</td>\n",
       "      <td>1499.000000</td>\n",
       "    </tr>\n",
       "  </tbody>\n",
       "</table>\n",
       "</div>"
      ],
      "text/plain": [
       "             user_id\n",
       "count  123036.000000\n",
       "mean     1256.989410\n",
       "std       143.523967\n",
       "min      1000.000000\n",
       "25%      1134.000000\n",
       "50%      1271.000000\n",
       "75%      1381.000000\n",
       "max      1499.000000"
      ]
     },
     "metadata": {},
     "output_type": "display_data"
    },
    {
     "data": {
      "text/html": [
       "<div>\n",
       "<style scoped>\n",
       "    .dataframe tbody tr th:only-of-type {\n",
       "        vertical-align: middle;\n",
       "    }\n",
       "\n",
       "    .dataframe tbody tr th {\n",
       "        vertical-align: top;\n",
       "    }\n",
       "\n",
       "    .dataframe thead th {\n",
       "        text-align: right;\n",
       "    }\n",
       "</style>\n",
       "<table border=\"1\" class=\"dataframe\">\n",
       "  <thead>\n",
       "    <tr style=\"text-align: right;\">\n",
       "      <th></th>\n",
       "      <th>user_id</th>\n",
       "      <th>age</th>\n",
       "    </tr>\n",
       "  </thead>\n",
       "  <tbody>\n",
       "    <tr>\n",
       "      <td>count</td>\n",
       "      <td>500.000000</td>\n",
       "      <td>500.00000</td>\n",
       "    </tr>\n",
       "    <tr>\n",
       "      <td>mean</td>\n",
       "      <td>1249.500000</td>\n",
       "      <td>46.58800</td>\n",
       "    </tr>\n",
       "    <tr>\n",
       "      <td>std</td>\n",
       "      <td>144.481833</td>\n",
       "      <td>16.66763</td>\n",
       "    </tr>\n",
       "    <tr>\n",
       "      <td>min</td>\n",
       "      <td>1000.000000</td>\n",
       "      <td>18.00000</td>\n",
       "    </tr>\n",
       "    <tr>\n",
       "      <td>25%</td>\n",
       "      <td>1124.750000</td>\n",
       "      <td>32.00000</td>\n",
       "    </tr>\n",
       "    <tr>\n",
       "      <td>50%</td>\n",
       "      <td>1249.500000</td>\n",
       "      <td>46.00000</td>\n",
       "    </tr>\n",
       "    <tr>\n",
       "      <td>75%</td>\n",
       "      <td>1374.250000</td>\n",
       "      <td>62.00000</td>\n",
       "    </tr>\n",
       "    <tr>\n",
       "      <td>max</td>\n",
       "      <td>1499.000000</td>\n",
       "      <td>75.00000</td>\n",
       "    </tr>\n",
       "  </tbody>\n",
       "</table>\n",
       "</div>"
      ],
      "text/plain": [
       "           user_id        age\n",
       "count   500.000000  500.00000\n",
       "mean   1249.500000   46.58800\n",
       "std     144.481833   16.66763\n",
       "min    1000.000000   18.00000\n",
       "25%    1124.750000   32.00000\n",
       "50%    1249.500000   46.00000\n",
       "75%    1374.250000   62.00000\n",
       "max    1499.000000   75.00000"
      ]
     },
     "metadata": {},
     "output_type": "display_data"
    }
   ],
   "source": [
    "display(calls.describe())\n",
    "display(internet.describe())\n",
    "display(messages.describe())\n",
    "display(users.describe())"
   ]
  },
  {
   "cell_type": "code",
   "execution_count": 56,
   "metadata": {},
   "outputs": [
    {
     "name": "stdout",
     "output_type": "stream",
     "text": [
      "<class 'pandas.core.frame.DataFrame'>\n",
      "RangeIndex: 202607 entries, 0 to 202606\n",
      "Data columns (total 4 columns):\n",
      "id           202607 non-null object\n",
      "call_date    202607 non-null object\n",
      "duration     202607 non-null float64\n",
      "user_id      202607 non-null int64\n",
      "dtypes: float64(1), int64(1), object(2)\n",
      "memory usage: 6.2+ MB\n"
     ]
    },
    {
     "data": {
      "text/plain": [
       "None"
      ]
     },
     "metadata": {},
     "output_type": "display_data"
    },
    {
     "name": "stdout",
     "output_type": "stream",
     "text": [
      "<class 'pandas.core.frame.DataFrame'>\n",
      "RangeIndex: 149396 entries, 0 to 149395\n",
      "Data columns (total 5 columns):\n",
      "Unnamed: 0      149396 non-null int64\n",
      "id              149396 non-null object\n",
      "mb_used         149396 non-null float64\n",
      "session_date    149396 non-null object\n",
      "user_id         149396 non-null int64\n",
      "dtypes: float64(1), int64(2), object(2)\n",
      "memory usage: 5.7+ MB\n"
     ]
    },
    {
     "data": {
      "text/plain": [
       "None"
      ]
     },
     "metadata": {},
     "output_type": "display_data"
    },
    {
     "name": "stdout",
     "output_type": "stream",
     "text": [
      "<class 'pandas.core.frame.DataFrame'>\n",
      "RangeIndex: 123036 entries, 0 to 123035\n",
      "Data columns (total 3 columns):\n",
      "id              123036 non-null object\n",
      "message_date    123036 non-null object\n",
      "user_id         123036 non-null int64\n",
      "dtypes: int64(1), object(2)\n",
      "memory usage: 2.8+ MB\n"
     ]
    },
    {
     "data": {
      "text/plain": [
       "None"
      ]
     },
     "metadata": {},
     "output_type": "display_data"
    },
    {
     "name": "stdout",
     "output_type": "stream",
     "text": [
      "<class 'pandas.core.frame.DataFrame'>\n",
      "RangeIndex: 2 entries, 0 to 1\n",
      "Data columns (total 8 columns):\n",
      "messages_included        2 non-null int64\n",
      "mb_per_month_included    2 non-null int64\n",
      "minutes_included         2 non-null int64\n",
      "rub_monthly_fee          2 non-null int64\n",
      "rub_per_gb               2 non-null int64\n",
      "rub_per_message          2 non-null int64\n",
      "rub_per_minute           2 non-null int64\n",
      "tariff_name              2 non-null object\n",
      "dtypes: int64(7), object(1)\n",
      "memory usage: 256.0+ bytes\n"
     ]
    },
    {
     "data": {
      "text/plain": [
       "None"
      ]
     },
     "metadata": {},
     "output_type": "display_data"
    },
    {
     "name": "stdout",
     "output_type": "stream",
     "text": [
      "<class 'pandas.core.frame.DataFrame'>\n",
      "RangeIndex: 500 entries, 0 to 499\n",
      "Data columns (total 8 columns):\n",
      "user_id       500 non-null int64\n",
      "age           500 non-null int64\n",
      "churn_date    38 non-null object\n",
      "city          500 non-null object\n",
      "first_name    500 non-null object\n",
      "last_name     500 non-null object\n",
      "reg_date      500 non-null object\n",
      "tariff        500 non-null object\n",
      "dtypes: int64(2), object(6)\n",
      "memory usage: 31.4+ KB\n"
     ]
    },
    {
     "data": {
      "text/plain": [
       "None"
      ]
     },
     "metadata": {},
     "output_type": "display_data"
    }
   ],
   "source": [
    "display(calls.info())\n",
    "display(internet.info())\n",
    "display(messages.info())\n",
    "display(tariffs.info())\n",
    "display(users.info())"
   ]
  },
  {
   "cell_type": "code",
   "execution_count": 57,
   "metadata": {},
   "outputs": [
    {
     "name": "stdout",
     "output_type": "stream",
     "text": [
      "------------------------------\n"
     ]
    },
    {
     "data": {
      "text/html": [
       "<div>\n",
       "<style scoped>\n",
       "    .dataframe tbody tr th:only-of-type {\n",
       "        vertical-align: middle;\n",
       "    }\n",
       "\n",
       "    .dataframe tbody tr th {\n",
       "        vertical-align: top;\n",
       "    }\n",
       "\n",
       "    .dataframe thead th {\n",
       "        text-align: right;\n",
       "    }\n",
       "</style>\n",
       "<table border=\"1\" class=\"dataframe\">\n",
       "  <thead>\n",
       "    <tr style=\"text-align: right;\">\n",
       "      <th></th>\n",
       "      <th>id</th>\n",
       "      <th>call_date</th>\n",
       "      <th>duration</th>\n",
       "      <th>user_id</th>\n",
       "    </tr>\n",
       "  </thead>\n",
       "  <tbody>\n",
       "    <tr>\n",
       "      <td>0</td>\n",
       "      <td>1000_0</td>\n",
       "      <td>2018-07-25</td>\n",
       "      <td>0.00</td>\n",
       "      <td>1000</td>\n",
       "    </tr>\n",
       "    <tr>\n",
       "      <td>1</td>\n",
       "      <td>1000_1</td>\n",
       "      <td>2018-08-17</td>\n",
       "      <td>0.00</td>\n",
       "      <td>1000</td>\n",
       "    </tr>\n",
       "    <tr>\n",
       "      <td>2</td>\n",
       "      <td>1000_2</td>\n",
       "      <td>2018-06-11</td>\n",
       "      <td>2.85</td>\n",
       "      <td>1000</td>\n",
       "    </tr>\n",
       "    <tr>\n",
       "      <td>3</td>\n",
       "      <td>1000_3</td>\n",
       "      <td>2018-09-21</td>\n",
       "      <td>13.80</td>\n",
       "      <td>1000</td>\n",
       "    </tr>\n",
       "    <tr>\n",
       "      <td>4</td>\n",
       "      <td>1000_4</td>\n",
       "      <td>2018-12-15</td>\n",
       "      <td>5.18</td>\n",
       "      <td>1000</td>\n",
       "    </tr>\n",
       "  </tbody>\n",
       "</table>\n",
       "</div>"
      ],
      "text/plain": [
       "       id   call_date  duration  user_id\n",
       "0  1000_0  2018-07-25      0.00     1000\n",
       "1  1000_1  2018-08-17      0.00     1000\n",
       "2  1000_2  2018-06-11      2.85     1000\n",
       "3  1000_3  2018-09-21     13.80     1000\n",
       "4  1000_4  2018-12-15      5.18     1000"
      ]
     },
     "metadata": {},
     "output_type": "display_data"
    },
    {
     "data": {
      "text/html": [
       "<div>\n",
       "<style scoped>\n",
       "    .dataframe tbody tr th:only-of-type {\n",
       "        vertical-align: middle;\n",
       "    }\n",
       "\n",
       "    .dataframe tbody tr th {\n",
       "        vertical-align: top;\n",
       "    }\n",
       "\n",
       "    .dataframe thead th {\n",
       "        text-align: right;\n",
       "    }\n",
       "</style>\n",
       "<table border=\"1\" class=\"dataframe\">\n",
       "  <thead>\n",
       "    <tr style=\"text-align: right;\">\n",
       "      <th></th>\n",
       "      <th>duration</th>\n",
       "      <th>user_id</th>\n",
       "    </tr>\n",
       "  </thead>\n",
       "  <tbody>\n",
       "    <tr>\n",
       "      <td>count</td>\n",
       "      <td>202607.000000</td>\n",
       "      <td>202607.000000</td>\n",
       "    </tr>\n",
       "    <tr>\n",
       "      <td>mean</td>\n",
       "      <td>6.755887</td>\n",
       "      <td>1253.940619</td>\n",
       "    </tr>\n",
       "    <tr>\n",
       "      <td>std</td>\n",
       "      <td>5.843365</td>\n",
       "      <td>144.722751</td>\n",
       "    </tr>\n",
       "    <tr>\n",
       "      <td>min</td>\n",
       "      <td>0.000000</td>\n",
       "      <td>1000.000000</td>\n",
       "    </tr>\n",
       "    <tr>\n",
       "      <td>25%</td>\n",
       "      <td>1.300000</td>\n",
       "      <td>1126.000000</td>\n",
       "    </tr>\n",
       "    <tr>\n",
       "      <td>50%</td>\n",
       "      <td>6.000000</td>\n",
       "      <td>1260.000000</td>\n",
       "    </tr>\n",
       "    <tr>\n",
       "      <td>75%</td>\n",
       "      <td>10.700000</td>\n",
       "      <td>1379.000000</td>\n",
       "    </tr>\n",
       "    <tr>\n",
       "      <td>max</td>\n",
       "      <td>38.000000</td>\n",
       "      <td>1499.000000</td>\n",
       "    </tr>\n",
       "  </tbody>\n",
       "</table>\n",
       "</div>"
      ],
      "text/plain": [
       "            duration        user_id\n",
       "count  202607.000000  202607.000000\n",
       "mean        6.755887    1253.940619\n",
       "std         5.843365     144.722751\n",
       "min         0.000000    1000.000000\n",
       "25%         1.300000    1126.000000\n",
       "50%         6.000000    1260.000000\n",
       "75%        10.700000    1379.000000\n",
       "max        38.000000    1499.000000"
      ]
     },
     "metadata": {},
     "output_type": "display_data"
    },
    {
     "name": "stdout",
     "output_type": "stream",
     "text": [
      "<class 'pandas.core.frame.DataFrame'>\n",
      "RangeIndex: 202607 entries, 0 to 202606\n",
      "Data columns (total 4 columns):\n",
      "id           202607 non-null object\n",
      "call_date    202607 non-null object\n",
      "duration     202607 non-null float64\n",
      "user_id      202607 non-null int64\n",
      "dtypes: float64(1), int64(1), object(2)\n",
      "memory usage: 6.2+ MB\n"
     ]
    },
    {
     "data": {
      "text/plain": [
       "None"
      ]
     },
     "metadata": {},
     "output_type": "display_data"
    },
    {
     "data": {
      "text/plain": [
       "0"
      ]
     },
     "metadata": {},
     "output_type": "display_data"
    },
    {
     "name": "stdout",
     "output_type": "stream",
     "text": [
      "------------------------------\n"
     ]
    },
    {
     "data": {
      "text/html": [
       "<div>\n",
       "<style scoped>\n",
       "    .dataframe tbody tr th:only-of-type {\n",
       "        vertical-align: middle;\n",
       "    }\n",
       "\n",
       "    .dataframe tbody tr th {\n",
       "        vertical-align: top;\n",
       "    }\n",
       "\n",
       "    .dataframe thead th {\n",
       "        text-align: right;\n",
       "    }\n",
       "</style>\n",
       "<table border=\"1\" class=\"dataframe\">\n",
       "  <thead>\n",
       "    <tr style=\"text-align: right;\">\n",
       "      <th></th>\n",
       "      <th>Unnamed: 0</th>\n",
       "      <th>id</th>\n",
       "      <th>mb_used</th>\n",
       "      <th>session_date</th>\n",
       "      <th>user_id</th>\n",
       "    </tr>\n",
       "  </thead>\n",
       "  <tbody>\n",
       "    <tr>\n",
       "      <td>0</td>\n",
       "      <td>0</td>\n",
       "      <td>1000_0</td>\n",
       "      <td>112.95</td>\n",
       "      <td>2018-11-25</td>\n",
       "      <td>1000</td>\n",
       "    </tr>\n",
       "    <tr>\n",
       "      <td>1</td>\n",
       "      <td>1</td>\n",
       "      <td>1000_1</td>\n",
       "      <td>1052.81</td>\n",
       "      <td>2018-09-07</td>\n",
       "      <td>1000</td>\n",
       "    </tr>\n",
       "    <tr>\n",
       "      <td>2</td>\n",
       "      <td>2</td>\n",
       "      <td>1000_2</td>\n",
       "      <td>1197.26</td>\n",
       "      <td>2018-06-25</td>\n",
       "      <td>1000</td>\n",
       "    </tr>\n",
       "    <tr>\n",
       "      <td>3</td>\n",
       "      <td>3</td>\n",
       "      <td>1000_3</td>\n",
       "      <td>550.27</td>\n",
       "      <td>2018-08-22</td>\n",
       "      <td>1000</td>\n",
       "    </tr>\n",
       "    <tr>\n",
       "      <td>4</td>\n",
       "      <td>4</td>\n",
       "      <td>1000_4</td>\n",
       "      <td>302.56</td>\n",
       "      <td>2018-09-24</td>\n",
       "      <td>1000</td>\n",
       "    </tr>\n",
       "  </tbody>\n",
       "</table>\n",
       "</div>"
      ],
      "text/plain": [
       "   Unnamed: 0      id  mb_used session_date  user_id\n",
       "0           0  1000_0   112.95   2018-11-25     1000\n",
       "1           1  1000_1  1052.81   2018-09-07     1000\n",
       "2           2  1000_2  1197.26   2018-06-25     1000\n",
       "3           3  1000_3   550.27   2018-08-22     1000\n",
       "4           4  1000_4   302.56   2018-09-24     1000"
      ]
     },
     "metadata": {},
     "output_type": "display_data"
    },
    {
     "data": {
      "text/html": [
       "<div>\n",
       "<style scoped>\n",
       "    .dataframe tbody tr th:only-of-type {\n",
       "        vertical-align: middle;\n",
       "    }\n",
       "\n",
       "    .dataframe tbody tr th {\n",
       "        vertical-align: top;\n",
       "    }\n",
       "\n",
       "    .dataframe thead th {\n",
       "        text-align: right;\n",
       "    }\n",
       "</style>\n",
       "<table border=\"1\" class=\"dataframe\">\n",
       "  <thead>\n",
       "    <tr style=\"text-align: right;\">\n",
       "      <th></th>\n",
       "      <th>Unnamed: 0</th>\n",
       "      <th>mb_used</th>\n",
       "      <th>user_id</th>\n",
       "    </tr>\n",
       "  </thead>\n",
       "  <tbody>\n",
       "    <tr>\n",
       "      <td>count</td>\n",
       "      <td>149396.000000</td>\n",
       "      <td>149396.000000</td>\n",
       "      <td>149396.000000</td>\n",
       "    </tr>\n",
       "    <tr>\n",
       "      <td>mean</td>\n",
       "      <td>74697.500000</td>\n",
       "      <td>370.192426</td>\n",
       "      <td>1252.099842</td>\n",
       "    </tr>\n",
       "    <tr>\n",
       "      <td>std</td>\n",
       "      <td>43127.054745</td>\n",
       "      <td>278.300951</td>\n",
       "      <td>144.050823</td>\n",
       "    </tr>\n",
       "    <tr>\n",
       "      <td>min</td>\n",
       "      <td>0.000000</td>\n",
       "      <td>0.000000</td>\n",
       "      <td>1000.000000</td>\n",
       "    </tr>\n",
       "    <tr>\n",
       "      <td>25%</td>\n",
       "      <td>37348.750000</td>\n",
       "      <td>138.187500</td>\n",
       "      <td>1130.000000</td>\n",
       "    </tr>\n",
       "    <tr>\n",
       "      <td>50%</td>\n",
       "      <td>74697.500000</td>\n",
       "      <td>348.015000</td>\n",
       "      <td>1251.000000</td>\n",
       "    </tr>\n",
       "    <tr>\n",
       "      <td>75%</td>\n",
       "      <td>112046.250000</td>\n",
       "      <td>559.552500</td>\n",
       "      <td>1380.000000</td>\n",
       "    </tr>\n",
       "    <tr>\n",
       "      <td>max</td>\n",
       "      <td>149395.000000</td>\n",
       "      <td>1724.830000</td>\n",
       "      <td>1499.000000</td>\n",
       "    </tr>\n",
       "  </tbody>\n",
       "</table>\n",
       "</div>"
      ],
      "text/plain": [
       "          Unnamed: 0        mb_used        user_id\n",
       "count  149396.000000  149396.000000  149396.000000\n",
       "mean    74697.500000     370.192426    1252.099842\n",
       "std     43127.054745     278.300951     144.050823\n",
       "min         0.000000       0.000000    1000.000000\n",
       "25%     37348.750000     138.187500    1130.000000\n",
       "50%     74697.500000     348.015000    1251.000000\n",
       "75%    112046.250000     559.552500    1380.000000\n",
       "max    149395.000000    1724.830000    1499.000000"
      ]
     },
     "metadata": {},
     "output_type": "display_data"
    },
    {
     "name": "stdout",
     "output_type": "stream",
     "text": [
      "<class 'pandas.core.frame.DataFrame'>\n",
      "RangeIndex: 149396 entries, 0 to 149395\n",
      "Data columns (total 5 columns):\n",
      "Unnamed: 0      149396 non-null int64\n",
      "id              149396 non-null object\n",
      "mb_used         149396 non-null float64\n",
      "session_date    149396 non-null object\n",
      "user_id         149396 non-null int64\n",
      "dtypes: float64(1), int64(2), object(2)\n",
      "memory usage: 5.7+ MB\n"
     ]
    },
    {
     "data": {
      "text/plain": [
       "None"
      ]
     },
     "metadata": {},
     "output_type": "display_data"
    },
    {
     "data": {
      "text/plain": [
       "0"
      ]
     },
     "metadata": {},
     "output_type": "display_data"
    },
    {
     "name": "stdout",
     "output_type": "stream",
     "text": [
      "------------------------------\n"
     ]
    },
    {
     "data": {
      "text/html": [
       "<div>\n",
       "<style scoped>\n",
       "    .dataframe tbody tr th:only-of-type {\n",
       "        vertical-align: middle;\n",
       "    }\n",
       "\n",
       "    .dataframe tbody tr th {\n",
       "        vertical-align: top;\n",
       "    }\n",
       "\n",
       "    .dataframe thead th {\n",
       "        text-align: right;\n",
       "    }\n",
       "</style>\n",
       "<table border=\"1\" class=\"dataframe\">\n",
       "  <thead>\n",
       "    <tr style=\"text-align: right;\">\n",
       "      <th></th>\n",
       "      <th>id</th>\n",
       "      <th>message_date</th>\n",
       "      <th>user_id</th>\n",
       "    </tr>\n",
       "  </thead>\n",
       "  <tbody>\n",
       "    <tr>\n",
       "      <td>0</td>\n",
       "      <td>1000_0</td>\n",
       "      <td>2018-06-27</td>\n",
       "      <td>1000</td>\n",
       "    </tr>\n",
       "    <tr>\n",
       "      <td>1</td>\n",
       "      <td>1000_1</td>\n",
       "      <td>2018-10-08</td>\n",
       "      <td>1000</td>\n",
       "    </tr>\n",
       "    <tr>\n",
       "      <td>2</td>\n",
       "      <td>1000_2</td>\n",
       "      <td>2018-08-04</td>\n",
       "      <td>1000</td>\n",
       "    </tr>\n",
       "    <tr>\n",
       "      <td>3</td>\n",
       "      <td>1000_3</td>\n",
       "      <td>2018-06-16</td>\n",
       "      <td>1000</td>\n",
       "    </tr>\n",
       "    <tr>\n",
       "      <td>4</td>\n",
       "      <td>1000_4</td>\n",
       "      <td>2018-12-05</td>\n",
       "      <td>1000</td>\n",
       "    </tr>\n",
       "  </tbody>\n",
       "</table>\n",
       "</div>"
      ],
      "text/plain": [
       "       id message_date  user_id\n",
       "0  1000_0   2018-06-27     1000\n",
       "1  1000_1   2018-10-08     1000\n",
       "2  1000_2   2018-08-04     1000\n",
       "3  1000_3   2018-06-16     1000\n",
       "4  1000_4   2018-12-05     1000"
      ]
     },
     "metadata": {},
     "output_type": "display_data"
    },
    {
     "data": {
      "text/html": [
       "<div>\n",
       "<style scoped>\n",
       "    .dataframe tbody tr th:only-of-type {\n",
       "        vertical-align: middle;\n",
       "    }\n",
       "\n",
       "    .dataframe tbody tr th {\n",
       "        vertical-align: top;\n",
       "    }\n",
       "\n",
       "    .dataframe thead th {\n",
       "        text-align: right;\n",
       "    }\n",
       "</style>\n",
       "<table border=\"1\" class=\"dataframe\">\n",
       "  <thead>\n",
       "    <tr style=\"text-align: right;\">\n",
       "      <th></th>\n",
       "      <th>user_id</th>\n",
       "    </tr>\n",
       "  </thead>\n",
       "  <tbody>\n",
       "    <tr>\n",
       "      <td>count</td>\n",
       "      <td>123036.000000</td>\n",
       "    </tr>\n",
       "    <tr>\n",
       "      <td>mean</td>\n",
       "      <td>1256.989410</td>\n",
       "    </tr>\n",
       "    <tr>\n",
       "      <td>std</td>\n",
       "      <td>143.523967</td>\n",
       "    </tr>\n",
       "    <tr>\n",
       "      <td>min</td>\n",
       "      <td>1000.000000</td>\n",
       "    </tr>\n",
       "    <tr>\n",
       "      <td>25%</td>\n",
       "      <td>1134.000000</td>\n",
       "    </tr>\n",
       "    <tr>\n",
       "      <td>50%</td>\n",
       "      <td>1271.000000</td>\n",
       "    </tr>\n",
       "    <tr>\n",
       "      <td>75%</td>\n",
       "      <td>1381.000000</td>\n",
       "    </tr>\n",
       "    <tr>\n",
       "      <td>max</td>\n",
       "      <td>1499.000000</td>\n",
       "    </tr>\n",
       "  </tbody>\n",
       "</table>\n",
       "</div>"
      ],
      "text/plain": [
       "             user_id\n",
       "count  123036.000000\n",
       "mean     1256.989410\n",
       "std       143.523967\n",
       "min      1000.000000\n",
       "25%      1134.000000\n",
       "50%      1271.000000\n",
       "75%      1381.000000\n",
       "max      1499.000000"
      ]
     },
     "metadata": {},
     "output_type": "display_data"
    },
    {
     "name": "stdout",
     "output_type": "stream",
     "text": [
      "<class 'pandas.core.frame.DataFrame'>\n",
      "RangeIndex: 123036 entries, 0 to 123035\n",
      "Data columns (total 3 columns):\n",
      "id              123036 non-null object\n",
      "message_date    123036 non-null object\n",
      "user_id         123036 non-null int64\n",
      "dtypes: int64(1), object(2)\n",
      "memory usage: 2.8+ MB\n"
     ]
    },
    {
     "data": {
      "text/plain": [
       "None"
      ]
     },
     "metadata": {},
     "output_type": "display_data"
    },
    {
     "data": {
      "text/plain": [
       "0"
      ]
     },
     "metadata": {},
     "output_type": "display_data"
    },
    {
     "name": "stdout",
     "output_type": "stream",
     "text": [
      "------------------------------\n"
     ]
    },
    {
     "data": {
      "text/html": [
       "<div>\n",
       "<style scoped>\n",
       "    .dataframe tbody tr th:only-of-type {\n",
       "        vertical-align: middle;\n",
       "    }\n",
       "\n",
       "    .dataframe tbody tr th {\n",
       "        vertical-align: top;\n",
       "    }\n",
       "\n",
       "    .dataframe thead th {\n",
       "        text-align: right;\n",
       "    }\n",
       "</style>\n",
       "<table border=\"1\" class=\"dataframe\">\n",
       "  <thead>\n",
       "    <tr style=\"text-align: right;\">\n",
       "      <th></th>\n",
       "      <th>messages_included</th>\n",
       "      <th>mb_per_month_included</th>\n",
       "      <th>minutes_included</th>\n",
       "      <th>rub_monthly_fee</th>\n",
       "      <th>rub_per_gb</th>\n",
       "      <th>rub_per_message</th>\n",
       "      <th>rub_per_minute</th>\n",
       "      <th>tariff_name</th>\n",
       "    </tr>\n",
       "  </thead>\n",
       "  <tbody>\n",
       "    <tr>\n",
       "      <td>0</td>\n",
       "      <td>50</td>\n",
       "      <td>15360</td>\n",
       "      <td>500</td>\n",
       "      <td>550</td>\n",
       "      <td>200</td>\n",
       "      <td>3</td>\n",
       "      <td>3</td>\n",
       "      <td>smart</td>\n",
       "    </tr>\n",
       "    <tr>\n",
       "      <td>1</td>\n",
       "      <td>1000</td>\n",
       "      <td>30720</td>\n",
       "      <td>3000</td>\n",
       "      <td>1950</td>\n",
       "      <td>150</td>\n",
       "      <td>1</td>\n",
       "      <td>1</td>\n",
       "      <td>ultra</td>\n",
       "    </tr>\n",
       "  </tbody>\n",
       "</table>\n",
       "</div>"
      ],
      "text/plain": [
       "   messages_included  mb_per_month_included  minutes_included  \\\n",
       "0                 50                  15360               500   \n",
       "1               1000                  30720              3000   \n",
       "\n",
       "   rub_monthly_fee  rub_per_gb  rub_per_message  rub_per_minute tariff_name  \n",
       "0              550         200                3               3       smart  \n",
       "1             1950         150                1               1       ultra  "
      ]
     },
     "metadata": {},
     "output_type": "display_data"
    },
    {
     "data": {
      "text/html": [
       "<div>\n",
       "<style scoped>\n",
       "    .dataframe tbody tr th:only-of-type {\n",
       "        vertical-align: middle;\n",
       "    }\n",
       "\n",
       "    .dataframe tbody tr th {\n",
       "        vertical-align: top;\n",
       "    }\n",
       "\n",
       "    .dataframe thead th {\n",
       "        text-align: right;\n",
       "    }\n",
       "</style>\n",
       "<table border=\"1\" class=\"dataframe\">\n",
       "  <thead>\n",
       "    <tr style=\"text-align: right;\">\n",
       "      <th></th>\n",
       "      <th>messages_included</th>\n",
       "      <th>mb_per_month_included</th>\n",
       "      <th>minutes_included</th>\n",
       "      <th>rub_monthly_fee</th>\n",
       "      <th>rub_per_gb</th>\n",
       "      <th>rub_per_message</th>\n",
       "      <th>rub_per_minute</th>\n",
       "    </tr>\n",
       "  </thead>\n",
       "  <tbody>\n",
       "    <tr>\n",
       "      <td>count</td>\n",
       "      <td>2.000000</td>\n",
       "      <td>2.000000</td>\n",
       "      <td>2.000000</td>\n",
       "      <td>2.000000</td>\n",
       "      <td>2.000000</td>\n",
       "      <td>2.000000</td>\n",
       "      <td>2.000000</td>\n",
       "    </tr>\n",
       "    <tr>\n",
       "      <td>mean</td>\n",
       "      <td>525.000000</td>\n",
       "      <td>23040.000000</td>\n",
       "      <td>1750.000000</td>\n",
       "      <td>1250.000000</td>\n",
       "      <td>175.000000</td>\n",
       "      <td>2.000000</td>\n",
       "      <td>2.000000</td>\n",
       "    </tr>\n",
       "    <tr>\n",
       "      <td>std</td>\n",
       "      <td>671.751442</td>\n",
       "      <td>10861.160159</td>\n",
       "      <td>1767.766953</td>\n",
       "      <td>989.949494</td>\n",
       "      <td>35.355339</td>\n",
       "      <td>1.414214</td>\n",
       "      <td>1.414214</td>\n",
       "    </tr>\n",
       "    <tr>\n",
       "      <td>min</td>\n",
       "      <td>50.000000</td>\n",
       "      <td>15360.000000</td>\n",
       "      <td>500.000000</td>\n",
       "      <td>550.000000</td>\n",
       "      <td>150.000000</td>\n",
       "      <td>1.000000</td>\n",
       "      <td>1.000000</td>\n",
       "    </tr>\n",
       "    <tr>\n",
       "      <td>25%</td>\n",
       "      <td>287.500000</td>\n",
       "      <td>19200.000000</td>\n",
       "      <td>1125.000000</td>\n",
       "      <td>900.000000</td>\n",
       "      <td>162.500000</td>\n",
       "      <td>1.500000</td>\n",
       "      <td>1.500000</td>\n",
       "    </tr>\n",
       "    <tr>\n",
       "      <td>50%</td>\n",
       "      <td>525.000000</td>\n",
       "      <td>23040.000000</td>\n",
       "      <td>1750.000000</td>\n",
       "      <td>1250.000000</td>\n",
       "      <td>175.000000</td>\n",
       "      <td>2.000000</td>\n",
       "      <td>2.000000</td>\n",
       "    </tr>\n",
       "    <tr>\n",
       "      <td>75%</td>\n",
       "      <td>762.500000</td>\n",
       "      <td>26880.000000</td>\n",
       "      <td>2375.000000</td>\n",
       "      <td>1600.000000</td>\n",
       "      <td>187.500000</td>\n",
       "      <td>2.500000</td>\n",
       "      <td>2.500000</td>\n",
       "    </tr>\n",
       "    <tr>\n",
       "      <td>max</td>\n",
       "      <td>1000.000000</td>\n",
       "      <td>30720.000000</td>\n",
       "      <td>3000.000000</td>\n",
       "      <td>1950.000000</td>\n",
       "      <td>200.000000</td>\n",
       "      <td>3.000000</td>\n",
       "      <td>3.000000</td>\n",
       "    </tr>\n",
       "  </tbody>\n",
       "</table>\n",
       "</div>"
      ],
      "text/plain": [
       "       messages_included  mb_per_month_included  minutes_included  \\\n",
       "count           2.000000               2.000000          2.000000   \n",
       "mean          525.000000           23040.000000       1750.000000   \n",
       "std           671.751442           10861.160159       1767.766953   \n",
       "min            50.000000           15360.000000        500.000000   \n",
       "25%           287.500000           19200.000000       1125.000000   \n",
       "50%           525.000000           23040.000000       1750.000000   \n",
       "75%           762.500000           26880.000000       2375.000000   \n",
       "max          1000.000000           30720.000000       3000.000000   \n",
       "\n",
       "       rub_monthly_fee  rub_per_gb  rub_per_message  rub_per_minute  \n",
       "count         2.000000    2.000000         2.000000        2.000000  \n",
       "mean       1250.000000  175.000000         2.000000        2.000000  \n",
       "std         989.949494   35.355339         1.414214        1.414214  \n",
       "min         550.000000  150.000000         1.000000        1.000000  \n",
       "25%         900.000000  162.500000         1.500000        1.500000  \n",
       "50%        1250.000000  175.000000         2.000000        2.000000  \n",
       "75%        1600.000000  187.500000         2.500000        2.500000  \n",
       "max        1950.000000  200.000000         3.000000        3.000000  "
      ]
     },
     "metadata": {},
     "output_type": "display_data"
    },
    {
     "name": "stdout",
     "output_type": "stream",
     "text": [
      "<class 'pandas.core.frame.DataFrame'>\n",
      "RangeIndex: 2 entries, 0 to 1\n",
      "Data columns (total 8 columns):\n",
      "messages_included        2 non-null int64\n",
      "mb_per_month_included    2 non-null int64\n",
      "minutes_included         2 non-null int64\n",
      "rub_monthly_fee          2 non-null int64\n",
      "rub_per_gb               2 non-null int64\n",
      "rub_per_message          2 non-null int64\n",
      "rub_per_minute           2 non-null int64\n",
      "tariff_name              2 non-null object\n",
      "dtypes: int64(7), object(1)\n",
      "memory usage: 256.0+ bytes\n"
     ]
    },
    {
     "data": {
      "text/plain": [
       "None"
      ]
     },
     "metadata": {},
     "output_type": "display_data"
    },
    {
     "data": {
      "text/plain": [
       "0"
      ]
     },
     "metadata": {},
     "output_type": "display_data"
    },
    {
     "name": "stdout",
     "output_type": "stream",
     "text": [
      "------------------------------\n"
     ]
    },
    {
     "data": {
      "text/html": [
       "<div>\n",
       "<style scoped>\n",
       "    .dataframe tbody tr th:only-of-type {\n",
       "        vertical-align: middle;\n",
       "    }\n",
       "\n",
       "    .dataframe tbody tr th {\n",
       "        vertical-align: top;\n",
       "    }\n",
       "\n",
       "    .dataframe thead th {\n",
       "        text-align: right;\n",
       "    }\n",
       "</style>\n",
       "<table border=\"1\" class=\"dataframe\">\n",
       "  <thead>\n",
       "    <tr style=\"text-align: right;\">\n",
       "      <th></th>\n",
       "      <th>user_id</th>\n",
       "      <th>age</th>\n",
       "      <th>churn_date</th>\n",
       "      <th>city</th>\n",
       "      <th>first_name</th>\n",
       "      <th>last_name</th>\n",
       "      <th>reg_date</th>\n",
       "      <th>tariff</th>\n",
       "    </tr>\n",
       "  </thead>\n",
       "  <tbody>\n",
       "    <tr>\n",
       "      <td>0</td>\n",
       "      <td>1000</td>\n",
       "      <td>52</td>\n",
       "      <td>NaN</td>\n",
       "      <td>Краснодар</td>\n",
       "      <td>Рафаил</td>\n",
       "      <td>Верещагин</td>\n",
       "      <td>2018-05-25</td>\n",
       "      <td>ultra</td>\n",
       "    </tr>\n",
       "    <tr>\n",
       "      <td>1</td>\n",
       "      <td>1001</td>\n",
       "      <td>41</td>\n",
       "      <td>NaN</td>\n",
       "      <td>Москва</td>\n",
       "      <td>Иван</td>\n",
       "      <td>Ежов</td>\n",
       "      <td>2018-11-01</td>\n",
       "      <td>smart</td>\n",
       "    </tr>\n",
       "    <tr>\n",
       "      <td>2</td>\n",
       "      <td>1002</td>\n",
       "      <td>59</td>\n",
       "      <td>NaN</td>\n",
       "      <td>Стерлитамак</td>\n",
       "      <td>Евгений</td>\n",
       "      <td>Абрамович</td>\n",
       "      <td>2018-06-17</td>\n",
       "      <td>smart</td>\n",
       "    </tr>\n",
       "    <tr>\n",
       "      <td>3</td>\n",
       "      <td>1003</td>\n",
       "      <td>23</td>\n",
       "      <td>NaN</td>\n",
       "      <td>Москва</td>\n",
       "      <td>Белла</td>\n",
       "      <td>Белякова</td>\n",
       "      <td>2018-08-17</td>\n",
       "      <td>ultra</td>\n",
       "    </tr>\n",
       "    <tr>\n",
       "      <td>4</td>\n",
       "      <td>1004</td>\n",
       "      <td>68</td>\n",
       "      <td>NaN</td>\n",
       "      <td>Новокузнецк</td>\n",
       "      <td>Татьяна</td>\n",
       "      <td>Авдеенко</td>\n",
       "      <td>2018-05-14</td>\n",
       "      <td>ultra</td>\n",
       "    </tr>\n",
       "  </tbody>\n",
       "</table>\n",
       "</div>"
      ],
      "text/plain": [
       "   user_id  age churn_date         city first_name  last_name    reg_date  \\\n",
       "0     1000   52        NaN    Краснодар     Рафаил  Верещагин  2018-05-25   \n",
       "1     1001   41        NaN       Москва       Иван       Ежов  2018-11-01   \n",
       "2     1002   59        NaN  Стерлитамак    Евгений  Абрамович  2018-06-17   \n",
       "3     1003   23        NaN       Москва      Белла   Белякова  2018-08-17   \n",
       "4     1004   68        NaN  Новокузнецк    Татьяна   Авдеенко  2018-05-14   \n",
       "\n",
       "  tariff  \n",
       "0  ultra  \n",
       "1  smart  \n",
       "2  smart  \n",
       "3  ultra  \n",
       "4  ultra  "
      ]
     },
     "metadata": {},
     "output_type": "display_data"
    },
    {
     "data": {
      "text/html": [
       "<div>\n",
       "<style scoped>\n",
       "    .dataframe tbody tr th:only-of-type {\n",
       "        vertical-align: middle;\n",
       "    }\n",
       "\n",
       "    .dataframe tbody tr th {\n",
       "        vertical-align: top;\n",
       "    }\n",
       "\n",
       "    .dataframe thead th {\n",
       "        text-align: right;\n",
       "    }\n",
       "</style>\n",
       "<table border=\"1\" class=\"dataframe\">\n",
       "  <thead>\n",
       "    <tr style=\"text-align: right;\">\n",
       "      <th></th>\n",
       "      <th>user_id</th>\n",
       "      <th>age</th>\n",
       "    </tr>\n",
       "  </thead>\n",
       "  <tbody>\n",
       "    <tr>\n",
       "      <td>count</td>\n",
       "      <td>500.000000</td>\n",
       "      <td>500.00000</td>\n",
       "    </tr>\n",
       "    <tr>\n",
       "      <td>mean</td>\n",
       "      <td>1249.500000</td>\n",
       "      <td>46.58800</td>\n",
       "    </tr>\n",
       "    <tr>\n",
       "      <td>std</td>\n",
       "      <td>144.481833</td>\n",
       "      <td>16.66763</td>\n",
       "    </tr>\n",
       "    <tr>\n",
       "      <td>min</td>\n",
       "      <td>1000.000000</td>\n",
       "      <td>18.00000</td>\n",
       "    </tr>\n",
       "    <tr>\n",
       "      <td>25%</td>\n",
       "      <td>1124.750000</td>\n",
       "      <td>32.00000</td>\n",
       "    </tr>\n",
       "    <tr>\n",
       "      <td>50%</td>\n",
       "      <td>1249.500000</td>\n",
       "      <td>46.00000</td>\n",
       "    </tr>\n",
       "    <tr>\n",
       "      <td>75%</td>\n",
       "      <td>1374.250000</td>\n",
       "      <td>62.00000</td>\n",
       "    </tr>\n",
       "    <tr>\n",
       "      <td>max</td>\n",
       "      <td>1499.000000</td>\n",
       "      <td>75.00000</td>\n",
       "    </tr>\n",
       "  </tbody>\n",
       "</table>\n",
       "</div>"
      ],
      "text/plain": [
       "           user_id        age\n",
       "count   500.000000  500.00000\n",
       "mean   1249.500000   46.58800\n",
       "std     144.481833   16.66763\n",
       "min    1000.000000   18.00000\n",
       "25%    1124.750000   32.00000\n",
       "50%    1249.500000   46.00000\n",
       "75%    1374.250000   62.00000\n",
       "max    1499.000000   75.00000"
      ]
     },
     "metadata": {},
     "output_type": "display_data"
    },
    {
     "name": "stdout",
     "output_type": "stream",
     "text": [
      "<class 'pandas.core.frame.DataFrame'>\n",
      "RangeIndex: 500 entries, 0 to 499\n",
      "Data columns (total 8 columns):\n",
      "user_id       500 non-null int64\n",
      "age           500 non-null int64\n",
      "churn_date    38 non-null object\n",
      "city          500 non-null object\n",
      "first_name    500 non-null object\n",
      "last_name     500 non-null object\n",
      "reg_date      500 non-null object\n",
      "tariff        500 non-null object\n",
      "dtypes: int64(2), object(6)\n",
      "memory usage: 31.4+ KB\n"
     ]
    },
    {
     "data": {
      "text/plain": [
       "None"
      ]
     },
     "metadata": {},
     "output_type": "display_data"
    },
    {
     "data": {
      "text/plain": [
       "0"
      ]
     },
     "metadata": {},
     "output_type": "display_data"
    }
   ],
   "source": [
    "col_dict = [calls, internet, messages, tariffs, users]\n",
    "\n",
    "for col in col_dict:\n",
    "    print(\"------------------------------\")\n",
    "    display(col.head())\n",
    "    display(col.describe())\n",
    "    display(col.info())\n",
    "    display(col.duplicated().sum())"
   ]
  },
  {
   "cell_type": "markdown",
   "metadata": {},
   "source": [
    "Методом describe проверим информацию в таблицах. Не видно отрицательных значений и каких то аномальных выбросов в данных, данные кажутся нормальными. Можно почистить данные в таблицах с интернет трафиком, где нулевые значния, это не как со звонками, где это пропущенные значения. В типах данных ошибок также не вижу, разве что в формате даты, это мы исправим во втором пункте задачи"
   ]
  },
  {
   "cell_type": "code",
   "execution_count": 58,
   "metadata": {},
   "outputs": [],
   "source": [
    "internet = internet.query('mb_used > 0') # уберем строки в которых интернет трафика нет\n"
   ]
  },
  {
   "cell_type": "code",
   "execution_count": 59,
   "metadata": {},
   "outputs": [
    {
     "data": {
      "text/plain": [
       "<matplotlib.axes._subplots.AxesSubplot at 0x7fab239b4d50>"
      ]
     },
     "execution_count": 59,
     "metadata": {},
     "output_type": "execute_result"
    },
    {
     "data": {
      "image/png": "[encoded data removed]",
      "text/plain": [
       "<Figure size 432x288 with 1 Axes>"
      ]
     },
     "metadata": {
      "needs_background": "light"
     },
     "output_type": "display_data"
    }
   ],
   "source": [
    "calls.groupby('user_id')['duration'].sum().plot()\n",
    "\n",
    "\n"
   ]
  },
  {
   "cell_type": "code",
   "execution_count": 60,
   "metadata": {
    "scrolled": true
   },
   "outputs": [
    {
     "data": {
      "text/plain": [
       "<matplotlib.axes._subplots.AxesSubplot at 0x7fab170e78d0>"
      ]
     },
     "execution_count": 60,
     "metadata": {},
     "output_type": "execute_result"
    },
    {
     "data": {
      "image/png": "[encoded data removed]",
      "text/plain": [
       "<Figure size 432x288 with 1 Axes>"
      ]
     },
     "metadata": {
      "needs_background": "light"
     },
     "output_type": "display_data"
    }
   ],
   "source": [
    "internet.groupby('user_id')['mb_used'].sum().plot()"
   ]
  },
  {
   "cell_type": "code",
   "execution_count": 61,
   "metadata": {
    "scrolled": true
   },
   "outputs": [
    {
     "data": {
      "text/plain": [
       "<matplotlib.axes._subplots.AxesSubplot at 0x7fab241a9410>"
      ]
     },
     "execution_count": 61,
     "metadata": {},
     "output_type": "execute_result"
    },
    {
     "data": {
      "image/png": "[encoded data removed]",
      "text/plain": [
       "<Figure size 432x288 with 1 Axes>"
      ]
     },
     "metadata": {
      "needs_background": "light"
     },
     "output_type": "display_data"
    }
   ],
   "source": [
    "messages.groupby('user_id')['id'].count().plot()"
   ]
  },
  {
   "cell_type": "markdown",
   "metadata": {},
   "source": [
    "**Вывод:**\n",
    "* Данные мне показались по качеству очень даже неплохими, явных ошибок я в них не вижу. Есть проблемы в типах датах по дате, это мы дальше поправим. Нулевой трафи по интернету убрали, посмотрел по графику по пользователям сколько минут, мб и сообщений посылают, есть особо \"ярые\" пользователи в каждой категории. \n",
    "\n",
    "* Можно преступать к подготовке данных. Далее создадим сводную таблицу со сводными данными по интернету, звонкам и смс"
   ]
  },
  {
   "cell_type": "markdown",
   "metadata": {},
   "source": [
    "## Подготовка данных"
   ]
  },
  {
   "cell_type": "markdown",
   "metadata": {},
   "source": [
    "Посчитайте для каждого пользователя:\n",
    "\n",
    "* количество сделанных звонков и израсходованных минут разговора по месяцам;\n",
    "\n",
    "* количество отправленных сообщений по месяцам;\n",
    "\n",
    "* объем израсходованного интернет-трафика по месяцам;"
   ]
  },
  {
   "cell_type": "markdown",
   "metadata": {},
   "source": [
    "Создадим одну сводную таблицу с количеством интернета, звонков и сообщений отправленных пользователем. Переиминуем столбцы с id(дальше это особо не пригодилось, но логика была в том, что id ссесий были бы разные для сводной таблицы)\n"
   ]
  },
  {
   "cell_type": "code",
   "execution_count": 62,
   "metadata": {},
   "outputs": [
    {
     "name": "stderr",
     "output_type": "stream",
     "text": [
      "/opt/conda/lib/python3.7/site-packages/pandas/core/frame.py:4223: SettingWithCopyWarning: \n",
      "A value is trying to be set on a copy of a slice from a DataFrame\n",
      "\n",
      "See the caveats in the documentation: http://pandas.pydata.org/pandas-docs/stable/user_guide/indexing.html#returning-a-view-versus-a-copy\n",
      "  return super().rename(**kwargs)\n"
     ]
    }
   ],
   "source": [
    "calls.rename(columns = {'id' :'id_calls'}, inplace = True)\n",
    "internet.rename(columns = {'id' :'id_internet'}, inplace = True)\n",
    "messages.rename(columns = {'id' :'id_messages'}, inplace = True)"
   ]
  },
  {
   "cell_type": "markdown",
   "metadata": {},
   "source": [
    "Дальше будут примерно аналогичне шаги для 3 таблиц(звонки, интернет, сообщения)\n",
    "\n",
    "Звонки:\n",
    "\n",
    "1.Округление в большу сторону\n",
    "\n",
    "2.Преобразование формата даты, для того чтобы добавитть столбец с номером месяца\n",
    "\n",
    "3.Создание сводной таблицы  с количеством минут и количеством звонков.(обновление индексов, чтобы перенести столбцы в таблицу)"
   ]
  },
  {
   "cell_type": "code",
   "execution_count": 63,
   "metadata": {
    "scrolled": true
   },
   "outputs": [
    {
     "data": {
      "text/html": [
       "<div>\n",
       "<style scoped>\n",
       "    .dataframe tbody tr th:only-of-type {\n",
       "        vertical-align: middle;\n",
       "    }\n",
       "\n",
       "    .dataframe tbody tr th {\n",
       "        vertical-align: top;\n",
       "    }\n",
       "\n",
       "    .dataframe thead th {\n",
       "        text-align: right;\n",
       "    }\n",
       "</style>\n",
       "<table border=\"1\" class=\"dataframe\">\n",
       "  <thead>\n",
       "    <tr style=\"text-align: right;\">\n",
       "      <th></th>\n",
       "      <th>id_calls</th>\n",
       "      <th>call_date</th>\n",
       "      <th>duration</th>\n",
       "      <th>user_id</th>\n",
       "      <th>month</th>\n",
       "    </tr>\n",
       "  </thead>\n",
       "  <tbody>\n",
       "    <tr>\n",
       "      <td>0</td>\n",
       "      <td>1000_0</td>\n",
       "      <td>2018-07-25</td>\n",
       "      <td>0</td>\n",
       "      <td>1000</td>\n",
       "      <td>7</td>\n",
       "    </tr>\n",
       "    <tr>\n",
       "      <td>1</td>\n",
       "      <td>1000_1</td>\n",
       "      <td>2018-08-17</td>\n",
       "      <td>0</td>\n",
       "      <td>1000</td>\n",
       "      <td>8</td>\n",
       "    </tr>\n",
       "    <tr>\n",
       "      <td>2</td>\n",
       "      <td>1000_2</td>\n",
       "      <td>2018-06-11</td>\n",
       "      <td>3</td>\n",
       "      <td>1000</td>\n",
       "      <td>6</td>\n",
       "    </tr>\n",
       "    <tr>\n",
       "      <td>3</td>\n",
       "      <td>1000_3</td>\n",
       "      <td>2018-09-21</td>\n",
       "      <td>14</td>\n",
       "      <td>1000</td>\n",
       "      <td>9</td>\n",
       "    </tr>\n",
       "    <tr>\n",
       "      <td>4</td>\n",
       "      <td>1000_4</td>\n",
       "      <td>2018-12-15</td>\n",
       "      <td>6</td>\n",
       "      <td>1000</td>\n",
       "      <td>12</td>\n",
       "    </tr>\n",
       "    <tr>\n",
       "      <td>...</td>\n",
       "      <td>...</td>\n",
       "      <td>...</td>\n",
       "      <td>...</td>\n",
       "      <td>...</td>\n",
       "      <td>...</td>\n",
       "    </tr>\n",
       "    <tr>\n",
       "      <td>202602</td>\n",
       "      <td>1499_215</td>\n",
       "      <td>2018-12-26</td>\n",
       "      <td>1</td>\n",
       "      <td>1499</td>\n",
       "      <td>12</td>\n",
       "    </tr>\n",
       "    <tr>\n",
       "      <td>202603</td>\n",
       "      <td>1499_216</td>\n",
       "      <td>2018-10-18</td>\n",
       "      <td>19</td>\n",
       "      <td>1499</td>\n",
       "      <td>10</td>\n",
       "    </tr>\n",
       "    <tr>\n",
       "      <td>202604</td>\n",
       "      <td>1499_217</td>\n",
       "      <td>2018-11-10</td>\n",
       "      <td>11</td>\n",
       "      <td>1499</td>\n",
       "      <td>11</td>\n",
       "    </tr>\n",
       "    <tr>\n",
       "      <td>202605</td>\n",
       "      <td>1499_218</td>\n",
       "      <td>2018-10-06</td>\n",
       "      <td>5</td>\n",
       "      <td>1499</td>\n",
       "      <td>10</td>\n",
       "    </tr>\n",
       "    <tr>\n",
       "      <td>202606</td>\n",
       "      <td>1499_219</td>\n",
       "      <td>2018-12-14</td>\n",
       "      <td>20</td>\n",
       "      <td>1499</td>\n",
       "      <td>12</td>\n",
       "    </tr>\n",
       "  </tbody>\n",
       "</table>\n",
       "<p>202607 rows × 5 columns</p>\n",
       "</div>"
      ],
      "text/plain": [
       "        id_calls  call_date  duration  user_id  month\n",
       "0         1000_0 2018-07-25         0     1000      7\n",
       "1         1000_1 2018-08-17         0     1000      8\n",
       "2         1000_2 2018-06-11         3     1000      6\n",
       "3         1000_3 2018-09-21        14     1000      9\n",
       "4         1000_4 2018-12-15         6     1000     12\n",
       "...          ...        ...       ...      ...    ...\n",
       "202602  1499_215 2018-12-26         1     1499     12\n",
       "202603  1499_216 2018-10-18        19     1499     10\n",
       "202604  1499_217 2018-11-10        11     1499     11\n",
       "202605  1499_218 2018-10-06         5     1499     10\n",
       "202606  1499_219 2018-12-14        20     1499     12\n",
       "\n",
       "[202607 rows x 5 columns]"
      ]
     },
     "metadata": {},
     "output_type": "display_data"
    },
    {
     "data": {
      "text/html": [
       "<div>\n",
       "<style scoped>\n",
       "    .dataframe tbody tr th:only-of-type {\n",
       "        vertical-align: middle;\n",
       "    }\n",
       "\n",
       "    .dataframe tbody tr th {\n",
       "        vertical-align: top;\n",
       "    }\n",
       "\n",
       "    .dataframe thead th {\n",
       "        text-align: right;\n",
       "    }\n",
       "</style>\n",
       "<table border=\"1\" class=\"dataframe\">\n",
       "  <thead>\n",
       "    <tr style=\"text-align: right;\">\n",
       "      <th></th>\n",
       "      <th>user_id</th>\n",
       "      <th>month</th>\n",
       "      <th>calls_count</th>\n",
       "      <th>calls_duration</th>\n",
       "    </tr>\n",
       "  </thead>\n",
       "  <tbody>\n",
       "    <tr>\n",
       "      <td>0</td>\n",
       "      <td>1000</td>\n",
       "      <td>5</td>\n",
       "      <td>22</td>\n",
       "      <td>159</td>\n",
       "    </tr>\n",
       "    <tr>\n",
       "      <td>1</td>\n",
       "      <td>1000</td>\n",
       "      <td>6</td>\n",
       "      <td>43</td>\n",
       "      <td>172</td>\n",
       "    </tr>\n",
       "    <tr>\n",
       "      <td>2</td>\n",
       "      <td>1000</td>\n",
       "      <td>7</td>\n",
       "      <td>47</td>\n",
       "      <td>340</td>\n",
       "    </tr>\n",
       "    <tr>\n",
       "      <td>3</td>\n",
       "      <td>1000</td>\n",
       "      <td>8</td>\n",
       "      <td>52</td>\n",
       "      <td>408</td>\n",
       "    </tr>\n",
       "    <tr>\n",
       "      <td>4</td>\n",
       "      <td>1000</td>\n",
       "      <td>9</td>\n",
       "      <td>58</td>\n",
       "      <td>466</td>\n",
       "    </tr>\n",
       "    <tr>\n",
       "      <td>...</td>\n",
       "      <td>...</td>\n",
       "      <td>...</td>\n",
       "      <td>...</td>\n",
       "      <td>...</td>\n",
       "    </tr>\n",
       "    <tr>\n",
       "      <td>3169</td>\n",
       "      <td>1498</td>\n",
       "      <td>10</td>\n",
       "      <td>41</td>\n",
       "      <td>247</td>\n",
       "    </tr>\n",
       "    <tr>\n",
       "      <td>3170</td>\n",
       "      <td>1499</td>\n",
       "      <td>9</td>\n",
       "      <td>9</td>\n",
       "      <td>70</td>\n",
       "    </tr>\n",
       "    <tr>\n",
       "      <td>3171</td>\n",
       "      <td>1499</td>\n",
       "      <td>10</td>\n",
       "      <td>68</td>\n",
       "      <td>449</td>\n",
       "    </tr>\n",
       "    <tr>\n",
       "      <td>3172</td>\n",
       "      <td>1499</td>\n",
       "      <td>11</td>\n",
       "      <td>74</td>\n",
       "      <td>612</td>\n",
       "    </tr>\n",
       "    <tr>\n",
       "      <td>3173</td>\n",
       "      <td>1499</td>\n",
       "      <td>12</td>\n",
       "      <td>69</td>\n",
       "      <td>492</td>\n",
       "    </tr>\n",
       "  </tbody>\n",
       "</table>\n",
       "<p>3174 rows × 4 columns</p>\n",
       "</div>"
      ],
      "text/plain": [
       "      user_id  month  calls_count  calls_duration\n",
       "0        1000      5           22             159\n",
       "1        1000      6           43             172\n",
       "2        1000      7           47             340\n",
       "3        1000      8           52             408\n",
       "4        1000      9           58             466\n",
       "...       ...    ...          ...             ...\n",
       "3169     1498     10           41             247\n",
       "3170     1499      9            9              70\n",
       "3171     1499     10           68             449\n",
       "3172     1499     11           74             612\n",
       "3173     1499     12           69             492\n",
       "\n",
       "[3174 rows x 4 columns]"
      ]
     },
     "execution_count": 63,
     "metadata": {},
     "output_type": "execute_result"
    }
   ],
   "source": [
    "calls['duration'] = calls['duration'].apply(mt.ceil)#округлим в большую сторону\n",
    "calls['call_date'] = pd.to_datetime(calls['call_date'], format = '%Y-%m-%d')\n",
    "calls['month'] = calls['call_date'].dt.month\n",
    "display(calls)\n",
    "calls_pivot = calls.pivot_table(index = ['user_id','month'], values = 'duration', aggfunc = {'sum','count'}).reset_index()\n",
    "calls_pivot.rename(columns = {'count' :'calls_count', 'sum' :'calls_duration'}, inplace = True)\n",
    "calls_pivot"
   ]
  },
  {
   "cell_type": "markdown",
   "metadata": {},
   "source": [
    "Интернет:\n",
    "\n",
    "1.Преобразование формата даты, для того чтобы добавитть столбец с номером месяца\n",
    "\n",
    "2.Создание сводной таблицы  с количеством мб (обновление индексов, чтобы перенести столбцы в таблицу)\n",
    "\n",
    "3.Считаем количество гб и окургляем их в большую сторону за месяц"
   ]
  },
  {
   "cell_type": "code",
   "execution_count": 64,
   "metadata": {},
   "outputs": [
    {
     "name": "stderr",
     "output_type": "stream",
     "text": [
      "/opt/conda/lib/python3.7/site-packages/ipykernel_launcher.py:1: SettingWithCopyWarning: \n",
      "A value is trying to be set on a copy of a slice from a DataFrame.\n",
      "Try using .loc[row_indexer,col_indexer] = value instead\n",
      "\n",
      "See the caveats in the documentation: http://pandas.pydata.org/pandas-docs/stable/user_guide/indexing.html#returning-a-view-versus-a-copy\n",
      "  \"\"\"Entry point for launching an IPython kernel.\n",
      "/opt/conda/lib/python3.7/site-packages/ipykernel_launcher.py:2: SettingWithCopyWarning: \n",
      "A value is trying to be set on a copy of a slice from a DataFrame.\n",
      "Try using .loc[row_indexer,col_indexer] = value instead\n",
      "\n",
      "See the caveats in the documentation: http://pandas.pydata.org/pandas-docs/stable/user_guide/indexing.html#returning-a-view-versus-a-copy\n",
      "  \n"
     ]
    },
    {
     "data": {
      "text/html": [
       "<div>\n",
       "<style scoped>\n",
       "    .dataframe tbody tr th:only-of-type {\n",
       "        vertical-align: middle;\n",
       "    }\n",
       "\n",
       "    .dataframe tbody tr th {\n",
       "        vertical-align: top;\n",
       "    }\n",
       "\n",
       "    .dataframe thead th {\n",
       "        text-align: right;\n",
       "    }\n",
       "</style>\n",
       "<table border=\"1\" class=\"dataframe\">\n",
       "  <thead>\n",
       "    <tr style=\"text-align: right;\">\n",
       "      <th></th>\n",
       "      <th>Unnamed: 0</th>\n",
       "      <th>id_internet</th>\n",
       "      <th>mb_used</th>\n",
       "      <th>session_date</th>\n",
       "      <th>user_id</th>\n",
       "      <th>month</th>\n",
       "    </tr>\n",
       "  </thead>\n",
       "  <tbody>\n",
       "    <tr>\n",
       "      <td>0</td>\n",
       "      <td>0</td>\n",
       "      <td>1000_0</td>\n",
       "      <td>112.95</td>\n",
       "      <td>2018-11-25</td>\n",
       "      <td>1000</td>\n",
       "      <td>11</td>\n",
       "    </tr>\n",
       "    <tr>\n",
       "      <td>1</td>\n",
       "      <td>1</td>\n",
       "      <td>1000_1</td>\n",
       "      <td>1052.81</td>\n",
       "      <td>2018-09-07</td>\n",
       "      <td>1000</td>\n",
       "      <td>9</td>\n",
       "    </tr>\n",
       "    <tr>\n",
       "      <td>2</td>\n",
       "      <td>2</td>\n",
       "      <td>1000_2</td>\n",
       "      <td>1197.26</td>\n",
       "      <td>2018-06-25</td>\n",
       "      <td>1000</td>\n",
       "      <td>6</td>\n",
       "    </tr>\n",
       "    <tr>\n",
       "      <td>3</td>\n",
       "      <td>3</td>\n",
       "      <td>1000_3</td>\n",
       "      <td>550.27</td>\n",
       "      <td>2018-08-22</td>\n",
       "      <td>1000</td>\n",
       "      <td>8</td>\n",
       "    </tr>\n",
       "    <tr>\n",
       "      <td>4</td>\n",
       "      <td>4</td>\n",
       "      <td>1000_4</td>\n",
       "      <td>302.56</td>\n",
       "      <td>2018-09-24</td>\n",
       "      <td>1000</td>\n",
       "      <td>9</td>\n",
       "    </tr>\n",
       "    <tr>\n",
       "      <td>...</td>\n",
       "      <td>...</td>\n",
       "      <td>...</td>\n",
       "      <td>...</td>\n",
       "      <td>...</td>\n",
       "      <td>...</td>\n",
       "      <td>...</td>\n",
       "    </tr>\n",
       "    <tr>\n",
       "      <td>149390</td>\n",
       "      <td>149390</td>\n",
       "      <td>1499_151</td>\n",
       "      <td>752.72</td>\n",
       "      <td>2018-10-11</td>\n",
       "      <td>1499</td>\n",
       "      <td>10</td>\n",
       "    </tr>\n",
       "    <tr>\n",
       "      <td>149391</td>\n",
       "      <td>149391</td>\n",
       "      <td>1499_152</td>\n",
       "      <td>318.90</td>\n",
       "      <td>2018-10-03</td>\n",
       "      <td>1499</td>\n",
       "      <td>10</td>\n",
       "    </tr>\n",
       "    <tr>\n",
       "      <td>149392</td>\n",
       "      <td>149392</td>\n",
       "      <td>1499_153</td>\n",
       "      <td>490.13</td>\n",
       "      <td>2018-12-14</td>\n",
       "      <td>1499</td>\n",
       "      <td>12</td>\n",
       "    </tr>\n",
       "    <tr>\n",
       "      <td>149394</td>\n",
       "      <td>149394</td>\n",
       "      <td>1499_155</td>\n",
       "      <td>1246.32</td>\n",
       "      <td>2018-11-26</td>\n",
       "      <td>1499</td>\n",
       "      <td>11</td>\n",
       "    </tr>\n",
       "    <tr>\n",
       "      <td>149395</td>\n",
       "      <td>149395</td>\n",
       "      <td>1499_156</td>\n",
       "      <td>544.37</td>\n",
       "      <td>2018-10-26</td>\n",
       "      <td>1499</td>\n",
       "      <td>10</td>\n",
       "    </tr>\n",
       "  </tbody>\n",
       "</table>\n",
       "<p>129798 rows × 6 columns</p>\n",
       "</div>"
      ],
      "text/plain": [
       "        Unnamed: 0 id_internet  mb_used session_date  user_id  month\n",
       "0                0      1000_0   112.95   2018-11-25     1000     11\n",
       "1                1      1000_1  1052.81   2018-09-07     1000      9\n",
       "2                2      1000_2  1197.26   2018-06-25     1000      6\n",
       "3                3      1000_3   550.27   2018-08-22     1000      8\n",
       "4                4      1000_4   302.56   2018-09-24     1000      9\n",
       "...            ...         ...      ...          ...      ...    ...\n",
       "149390      149390    1499_151   752.72   2018-10-11     1499     10\n",
       "149391      149391    1499_152   318.90   2018-10-03     1499     10\n",
       "149392      149392    1499_153   490.13   2018-12-14     1499     12\n",
       "149394      149394    1499_155  1246.32   2018-11-26     1499     11\n",
       "149395      149395    1499_156   544.37   2018-10-26     1499     10\n",
       "\n",
       "[129798 rows x 6 columns]"
      ]
     },
     "metadata": {},
     "output_type": "display_data"
    },
    {
     "data": {
      "text/html": [
       "<div>\n",
       "<style scoped>\n",
       "    .dataframe tbody tr th:only-of-type {\n",
       "        vertical-align: middle;\n",
       "    }\n",
       "\n",
       "    .dataframe tbody tr th {\n",
       "        vertical-align: top;\n",
       "    }\n",
       "\n",
       "    .dataframe thead th {\n",
       "        text-align: right;\n",
       "    }\n",
       "</style>\n",
       "<table border=\"1\" class=\"dataframe\">\n",
       "  <thead>\n",
       "    <tr style=\"text-align: right;\">\n",
       "      <th></th>\n",
       "      <th>user_id</th>\n",
       "      <th>month</th>\n",
       "      <th>mb_used</th>\n",
       "      <th>gb</th>\n",
       "    </tr>\n",
       "  </thead>\n",
       "  <tbody>\n",
       "    <tr>\n",
       "      <td>0</td>\n",
       "      <td>1000</td>\n",
       "      <td>5</td>\n",
       "      <td>2253.49</td>\n",
       "      <td>3</td>\n",
       "    </tr>\n",
       "    <tr>\n",
       "      <td>1</td>\n",
       "      <td>1000</td>\n",
       "      <td>6</td>\n",
       "      <td>23233.77</td>\n",
       "      <td>23</td>\n",
       "    </tr>\n",
       "    <tr>\n",
       "      <td>2</td>\n",
       "      <td>1000</td>\n",
       "      <td>7</td>\n",
       "      <td>14003.64</td>\n",
       "      <td>14</td>\n",
       "    </tr>\n",
       "    <tr>\n",
       "      <td>3</td>\n",
       "      <td>1000</td>\n",
       "      <td>8</td>\n",
       "      <td>14055.93</td>\n",
       "      <td>14</td>\n",
       "    </tr>\n",
       "    <tr>\n",
       "      <td>4</td>\n",
       "      <td>1000</td>\n",
       "      <td>9</td>\n",
       "      <td>14568.91</td>\n",
       "      <td>15</td>\n",
       "    </tr>\n",
       "    <tr>\n",
       "      <td>...</td>\n",
       "      <td>...</td>\n",
       "      <td>...</td>\n",
       "      <td>...</td>\n",
       "      <td>...</td>\n",
       "    </tr>\n",
       "    <tr>\n",
       "      <td>3196</td>\n",
       "      <td>1498</td>\n",
       "      <td>10</td>\n",
       "      <td>20579.36</td>\n",
       "      <td>21</td>\n",
       "    </tr>\n",
       "    <tr>\n",
       "      <td>3197</td>\n",
       "      <td>1499</td>\n",
       "      <td>9</td>\n",
       "      <td>1845.75</td>\n",
       "      <td>2</td>\n",
       "    </tr>\n",
       "    <tr>\n",
       "      <td>3198</td>\n",
       "      <td>1499</td>\n",
       "      <td>10</td>\n",
       "      <td>17788.51</td>\n",
       "      <td>18</td>\n",
       "    </tr>\n",
       "    <tr>\n",
       "      <td>3199</td>\n",
       "      <td>1499</td>\n",
       "      <td>11</td>\n",
       "      <td>17963.31</td>\n",
       "      <td>18</td>\n",
       "    </tr>\n",
       "    <tr>\n",
       "      <td>3200</td>\n",
       "      <td>1499</td>\n",
       "      <td>12</td>\n",
       "      <td>13055.58</td>\n",
       "      <td>13</td>\n",
       "    </tr>\n",
       "  </tbody>\n",
       "</table>\n",
       "<p>3201 rows × 4 columns</p>\n",
       "</div>"
      ],
      "text/plain": [
       "      user_id  month   mb_used  gb\n",
       "0        1000      5   2253.49   3\n",
       "1        1000      6  23233.77  23\n",
       "2        1000      7  14003.64  14\n",
       "3        1000      8  14055.93  14\n",
       "4        1000      9  14568.91  15\n",
       "...       ...    ...       ...  ..\n",
       "3196     1498     10  20579.36  21\n",
       "3197     1499      9   1845.75   2\n",
       "3198     1499     10  17788.51  18\n",
       "3199     1499     11  17963.31  18\n",
       "3200     1499     12  13055.58  13\n",
       "\n",
       "[3201 rows x 4 columns]"
      ]
     },
     "execution_count": 64,
     "metadata": {},
     "output_type": "execute_result"
    }
   ],
   "source": [
    "internet['session_date'] = pd.to_datetime(internet['session_date'], format = '%Y-%m-%d')\n",
    "internet['month'] = internet['session_date'].dt.month\n",
    "display(internet)\n",
    "internet_pivot = internet.pivot_table(index = ['user_id','month'], values = 'mb_used', aggfunc = 'sum').reset_index()\n",
    "internet_pivot['gb'] = internet_pivot['mb_used'] / 1024\n",
    "internet_pivot['gb'] = internet_pivot['gb'].apply(mt.ceil)\n",
    "internet_pivot"
   ]
  },
  {
   "cell_type": "markdown",
   "metadata": {},
   "source": [
    "Сообщения:\n",
    "\n",
    "\n",
    "1.Преобразование формата даты, для того чтобы добавитть столбец с номером месяца\n",
    "\n",
    "2.Создание сводной таблицы  с количеством сообщений.(обновление индексов, чтобы перенести столбцы в таблицу)"
   ]
  },
  {
   "cell_type": "code",
   "execution_count": 65,
   "metadata": {
    "scrolled": true
   },
   "outputs": [
    {
     "data": {
      "text/html": [
       "<div>\n",
       "<style scoped>\n",
       "    .dataframe tbody tr th:only-of-type {\n",
       "        vertical-align: middle;\n",
       "    }\n",
       "\n",
       "    .dataframe tbody tr th {\n",
       "        vertical-align: top;\n",
       "    }\n",
       "\n",
       "    .dataframe thead th {\n",
       "        text-align: right;\n",
       "    }\n",
       "</style>\n",
       "<table border=\"1\" class=\"dataframe\">\n",
       "  <thead>\n",
       "    <tr style=\"text-align: right;\">\n",
       "      <th></th>\n",
       "      <th>id_messages</th>\n",
       "      <th>message_date</th>\n",
       "      <th>user_id</th>\n",
       "      <th>month</th>\n",
       "    </tr>\n",
       "  </thead>\n",
       "  <tbody>\n",
       "    <tr>\n",
       "      <td>0</td>\n",
       "      <td>1000_0</td>\n",
       "      <td>2018-06-27</td>\n",
       "      <td>1000</td>\n",
       "      <td>6</td>\n",
       "    </tr>\n",
       "    <tr>\n",
       "      <td>1</td>\n",
       "      <td>1000_1</td>\n",
       "      <td>2018-10-08</td>\n",
       "      <td>1000</td>\n",
       "      <td>10</td>\n",
       "    </tr>\n",
       "    <tr>\n",
       "      <td>2</td>\n",
       "      <td>1000_2</td>\n",
       "      <td>2018-08-04</td>\n",
       "      <td>1000</td>\n",
       "      <td>8</td>\n",
       "    </tr>\n",
       "    <tr>\n",
       "      <td>3</td>\n",
       "      <td>1000_3</td>\n",
       "      <td>2018-06-16</td>\n",
       "      <td>1000</td>\n",
       "      <td>6</td>\n",
       "    </tr>\n",
       "    <tr>\n",
       "      <td>4</td>\n",
       "      <td>1000_4</td>\n",
       "      <td>2018-12-05</td>\n",
       "      <td>1000</td>\n",
       "      <td>12</td>\n",
       "    </tr>\n",
       "    <tr>\n",
       "      <td>...</td>\n",
       "      <td>...</td>\n",
       "      <td>...</td>\n",
       "      <td>...</td>\n",
       "      <td>...</td>\n",
       "    </tr>\n",
       "    <tr>\n",
       "      <td>123031</td>\n",
       "      <td>1499_179</td>\n",
       "      <td>2018-12-12</td>\n",
       "      <td>1499</td>\n",
       "      <td>12</td>\n",
       "    </tr>\n",
       "    <tr>\n",
       "      <td>123032</td>\n",
       "      <td>1499_180</td>\n",
       "      <td>2018-09-28</td>\n",
       "      <td>1499</td>\n",
       "      <td>9</td>\n",
       "    </tr>\n",
       "    <tr>\n",
       "      <td>123033</td>\n",
       "      <td>1499_181</td>\n",
       "      <td>2018-09-27</td>\n",
       "      <td>1499</td>\n",
       "      <td>9</td>\n",
       "    </tr>\n",
       "    <tr>\n",
       "      <td>123034</td>\n",
       "      <td>1499_182</td>\n",
       "      <td>2018-11-15</td>\n",
       "      <td>1499</td>\n",
       "      <td>11</td>\n",
       "    </tr>\n",
       "    <tr>\n",
       "      <td>123035</td>\n",
       "      <td>1499_183</td>\n",
       "      <td>2018-11-16</td>\n",
       "      <td>1499</td>\n",
       "      <td>11</td>\n",
       "    </tr>\n",
       "  </tbody>\n",
       "</table>\n",
       "<p>123036 rows × 4 columns</p>\n",
       "</div>"
      ],
      "text/plain": [
       "       id_messages message_date  user_id  month\n",
       "0           1000_0   2018-06-27     1000      6\n",
       "1           1000_1   2018-10-08     1000     10\n",
       "2           1000_2   2018-08-04     1000      8\n",
       "3           1000_3   2018-06-16     1000      6\n",
       "4           1000_4   2018-12-05     1000     12\n",
       "...            ...          ...      ...    ...\n",
       "123031    1499_179   2018-12-12     1499     12\n",
       "123032    1499_180   2018-09-28     1499      9\n",
       "123033    1499_181   2018-09-27     1499      9\n",
       "123034    1499_182   2018-11-15     1499     11\n",
       "123035    1499_183   2018-11-16     1499     11\n",
       "\n",
       "[123036 rows x 4 columns]"
      ]
     },
     "metadata": {},
     "output_type": "display_data"
    }
   ],
   "source": [
    "messages['message_date'] = pd.to_datetime(messages['message_date'], format = '%Y-%m-%d')\n",
    "messages['month'] = messages['message_date'].dt.month\n",
    "display(messages)\n",
    "messages_pivot = messages.pivot_table(index = ['user_id','month'], values = 'message_date', aggfunc='count').reset_index()\n",
    "messages_pivot.rename(columns = {'message_date' : 'message_count'}, inplace = True)"
   ]
  },
  {
   "cell_type": "markdown",
   "metadata": {},
   "source": [
    "Создание одной сводной таблицы  по пользователям и по месяцам, с указанием тарифного плана и города(тут надо обработать, чтобы город был другой, если не москва)"
   ]
  },
  {
   "cell_type": "code",
   "execution_count": 66,
   "metadata": {},
   "outputs": [
    {
     "data": {
      "text/html": [
       "<div>\n",
       "<style scoped>\n",
       "    .dataframe tbody tr th:only-of-type {\n",
       "        vertical-align: middle;\n",
       "    }\n",
       "\n",
       "    .dataframe tbody tr th {\n",
       "        vertical-align: top;\n",
       "    }\n",
       "\n",
       "    .dataframe thead th {\n",
       "        text-align: right;\n",
       "    }\n",
       "</style>\n",
       "<table border=\"1\" class=\"dataframe\">\n",
       "  <thead>\n",
       "    <tr style=\"text-align: right;\">\n",
       "      <th></th>\n",
       "      <th>user_id</th>\n",
       "      <th>month</th>\n",
       "      <th>calls_count</th>\n",
       "      <th>calls_duration</th>\n",
       "      <th>mb_used</th>\n",
       "      <th>gb</th>\n",
       "      <th>message_count</th>\n",
       "      <th>tariff</th>\n",
       "      <th>city</th>\n",
       "      <th>city_analyst</th>\n",
       "    </tr>\n",
       "  </thead>\n",
       "  <tbody>\n",
       "    <tr>\n",
       "      <td>0</td>\n",
       "      <td>1000</td>\n",
       "      <td>5</td>\n",
       "      <td>22.0</td>\n",
       "      <td>159.0</td>\n",
       "      <td>2253.49</td>\n",
       "      <td>3.0</td>\n",
       "      <td>22.0</td>\n",
       "      <td>ultra</td>\n",
       "      <td>Краснодар</td>\n",
       "      <td>другое</td>\n",
       "    </tr>\n",
       "    <tr>\n",
       "      <td>1</td>\n",
       "      <td>1000</td>\n",
       "      <td>6</td>\n",
       "      <td>43.0</td>\n",
       "      <td>172.0</td>\n",
       "      <td>23233.77</td>\n",
       "      <td>23.0</td>\n",
       "      <td>60.0</td>\n",
       "      <td>ultra</td>\n",
       "      <td>Краснодар</td>\n",
       "      <td>другое</td>\n",
       "    </tr>\n",
       "    <tr>\n",
       "      <td>2</td>\n",
       "      <td>1000</td>\n",
       "      <td>7</td>\n",
       "      <td>47.0</td>\n",
       "      <td>340.0</td>\n",
       "      <td>14003.64</td>\n",
       "      <td>14.0</td>\n",
       "      <td>75.0</td>\n",
       "      <td>ultra</td>\n",
       "      <td>Краснодар</td>\n",
       "      <td>другое</td>\n",
       "    </tr>\n",
       "    <tr>\n",
       "      <td>3</td>\n",
       "      <td>1000</td>\n",
       "      <td>8</td>\n",
       "      <td>52.0</td>\n",
       "      <td>408.0</td>\n",
       "      <td>14055.93</td>\n",
       "      <td>14.0</td>\n",
       "      <td>81.0</td>\n",
       "      <td>ultra</td>\n",
       "      <td>Краснодар</td>\n",
       "      <td>другое</td>\n",
       "    </tr>\n",
       "    <tr>\n",
       "      <td>4</td>\n",
       "      <td>1000</td>\n",
       "      <td>9</td>\n",
       "      <td>58.0</td>\n",
       "      <td>466.0</td>\n",
       "      <td>14568.91</td>\n",
       "      <td>15.0</td>\n",
       "      <td>57.0</td>\n",
       "      <td>ultra</td>\n",
       "      <td>Краснодар</td>\n",
       "      <td>другое</td>\n",
       "    </tr>\n",
       "    <tr>\n",
       "      <td>...</td>\n",
       "      <td>...</td>\n",
       "      <td>...</td>\n",
       "      <td>...</td>\n",
       "      <td>...</td>\n",
       "      <td>...</td>\n",
       "      <td>...</td>\n",
       "      <td>...</td>\n",
       "      <td>...</td>\n",
       "      <td>...</td>\n",
       "      <td>...</td>\n",
       "    </tr>\n",
       "    <tr>\n",
       "      <td>3209</td>\n",
       "      <td>1489</td>\n",
       "      <td>8</td>\n",
       "      <td>0.0</td>\n",
       "      <td>0.0</td>\n",
       "      <td>11050.56</td>\n",
       "      <td>11.0</td>\n",
       "      <td>17.0</td>\n",
       "      <td>smart</td>\n",
       "      <td>Санкт-Петербург</td>\n",
       "      <td>другое</td>\n",
       "    </tr>\n",
       "    <tr>\n",
       "      <td>3210</td>\n",
       "      <td>1489</td>\n",
       "      <td>9</td>\n",
       "      <td>0.0</td>\n",
       "      <td>0.0</td>\n",
       "      <td>17206.30</td>\n",
       "      <td>17.0</td>\n",
       "      <td>32.0</td>\n",
       "      <td>smart</td>\n",
       "      <td>Санкт-Петербург</td>\n",
       "      <td>другое</td>\n",
       "    </tr>\n",
       "    <tr>\n",
       "      <td>3211</td>\n",
       "      <td>1489</td>\n",
       "      <td>10</td>\n",
       "      <td>0.0</td>\n",
       "      <td>0.0</td>\n",
       "      <td>19559.44</td>\n",
       "      <td>20.0</td>\n",
       "      <td>21.0</td>\n",
       "      <td>smart</td>\n",
       "      <td>Санкт-Петербург</td>\n",
       "      <td>другое</td>\n",
       "    </tr>\n",
       "    <tr>\n",
       "      <td>3212</td>\n",
       "      <td>1489</td>\n",
       "      <td>11</td>\n",
       "      <td>0.0</td>\n",
       "      <td>0.0</td>\n",
       "      <td>17491.56</td>\n",
       "      <td>18.0</td>\n",
       "      <td>20.0</td>\n",
       "      <td>smart</td>\n",
       "      <td>Санкт-Петербург</td>\n",
       "      <td>другое</td>\n",
       "    </tr>\n",
       "    <tr>\n",
       "      <td>3213</td>\n",
       "      <td>1489</td>\n",
       "      <td>12</td>\n",
       "      <td>0.0</td>\n",
       "      <td>0.0</td>\n",
       "      <td>17322.51</td>\n",
       "      <td>17.0</td>\n",
       "      <td>35.0</td>\n",
       "      <td>smart</td>\n",
       "      <td>Санкт-Петербург</td>\n",
       "      <td>другое</td>\n",
       "    </tr>\n",
       "  </tbody>\n",
       "</table>\n",
       "<p>3214 rows × 10 columns</p>\n",
       "</div>"
      ],
      "text/plain": [
       "      user_id  month  calls_count  calls_duration   mb_used    gb  \\\n",
       "0        1000      5         22.0           159.0   2253.49   3.0   \n",
       "1        1000      6         43.0           172.0  23233.77  23.0   \n",
       "2        1000      7         47.0           340.0  14003.64  14.0   \n",
       "3        1000      8         52.0           408.0  14055.93  14.0   \n",
       "4        1000      9         58.0           466.0  14568.91  15.0   \n",
       "...       ...    ...          ...             ...       ...   ...   \n",
       "3209     1489      8          0.0             0.0  11050.56  11.0   \n",
       "3210     1489      9          0.0             0.0  17206.30  17.0   \n",
       "3211     1489     10          0.0             0.0  19559.44  20.0   \n",
       "3212     1489     11          0.0             0.0  17491.56  18.0   \n",
       "3213     1489     12          0.0             0.0  17322.51  17.0   \n",
       "\n",
       "      message_count tariff             city city_analyst  \n",
       "0              22.0  ultra        Краснодар       другое  \n",
       "1              60.0  ultra        Краснодар       другое  \n",
       "2              75.0  ultra        Краснодар       другое  \n",
       "3              81.0  ultra        Краснодар       другое  \n",
       "4              57.0  ultra        Краснодар       другое  \n",
       "...             ...    ...              ...          ...  \n",
       "3209           17.0  smart  Санкт-Петербург       другое  \n",
       "3210           32.0  smart  Санкт-Петербург       другое  \n",
       "3211           21.0  smart  Санкт-Петербург       другое  \n",
       "3212           20.0  smart  Санкт-Петербург       другое  \n",
       "3213           35.0  smart  Санкт-Петербург       другое  \n",
       "\n",
       "[3214 rows x 10 columns]"
      ]
     },
     "execution_count": 66,
     "metadata": {},
     "output_type": "execute_result"
    }
   ],
   "source": [
    "user_month_info = calls_pivot.merge(internet_pivot, on = ['user_id','month'], how = 'outer').merge(messages_pivot, on = ['user_id','month'],how = 'outer')\n",
    "\n",
    "user_month_info = user_month_info.merge(users[['user_id','tariff','city']],on = 'user_id', how = 'left')\n",
    "user_month_info['city_analyst'] = np.where((user_month_info.city != 'Москва'), 'другое', user_month_info.city)\n",
    "user_month_info = user_month_info.fillna(0)# пришлось заполнять пропуски так как с нанами не работает формула ниже\n",
    "user_month_info"
   ]
  },
  {
   "cell_type": "code",
   "execution_count": 67,
   "metadata": {},
   "outputs": [
    {
     "data": {
      "text/plain": [
       "<matplotlib.axes._subplots.AxesSubplot at 0x7fab24176f50>"
      ]
     },
     "execution_count": 67,
     "metadata": {},
     "output_type": "execute_result"
    },
    {
     "data": {
      "image/png": "[encoded data removed]",
      "text/plain": [
       "<Figure size 432x288 with 1 Axes>"
      ]
     },
     "metadata": {
      "needs_background": "light"
     },
     "output_type": "display_data"
    },
    {
     "data": {
      "image/png": "[encoded data removed]",
      "text/plain": [
       "<Figure size 432x288 with 1 Axes>"
      ]
     },
     "metadata": {
      "needs_background": "light"
     },
     "output_type": "display_data"
    },
    {
     "data": {
      "image/png": "[encoded data removed]",
      "text/plain": [
       "<Figure size 432x288 with 1 Axes>"
      ]
     },
     "metadata": {
      "needs_background": "light"
     },
     "output_type": "display_data"
    }
   ],
   "source": [
    "user_month_info.pivot_table(index = 'month',values = 'gb').plot()\n",
    "user_month_info.pivot_table(index = 'month',values = 'calls_duration').plot()\n",
    "user_month_info.pivot_table(index = 'month',values = 'message_count').plot()\n"
   ]
  },
  {
   "cell_type": "markdown",
   "metadata": {},
   "source": [
    "Чем больше пользователей, тем больше трафик, звонки. Все логично"
   ]
  },
  {
   "cell_type": "markdown",
   "metadata": {},
   "source": [
    "Посчитаем для каждого пользователя:\n",
    "\n",
    "* помесячную выручку с каждого пользователя (вычтем бесплатный лимит из суммарного количества звонков, сообщений и интернет-трафика); \n",
    "* остаток умножем на значение из тарифного плана; прибавим абонентскую плату, соответствующую тарифному плану."
   ]
  },
  {
   "cell_type": "code",
   "execution_count": 68,
   "metadata": {},
   "outputs": [],
   "source": [
    "def revenue(x):\n",
    "    call = x['calls_duration']# это переменные по строкам которым соответсвует количество минут, интернета, сообщений\n",
    "    internet = x['gb']\n",
    "    message = x['message_count']\n",
    "    tariff = x['tariff']\n",
    "    \n",
    "    if (tariff == 'smart'):\n",
    "        i = 0\n",
    "    else:\n",
    "        i = 1\n",
    "        \n",
    "    call_over_tariff = tariffs.loc[i,'minutes_included'] -call # считаем остатки минут, гб(я округлил здесь, потому что раньше уже округлил до гб, и сообщений)\n",
    "    internet_over_tariff = tariffs.loc[i,'mb_per_month_included']/1024 -internet\n",
    "    message_over_tariff = tariffs.loc[i,'messages_included'] -message\n",
    "    \n",
    "    if call_over_tariff > 0:\n",
    "        call_revenue = 0\n",
    "    else:\n",
    "        call_revenue = -call_over_tariff * tariffs.loc[i,'rub_per_minute']\n",
    "    \n",
    "    if internet_over_tariff > 0:\n",
    "        internet_revenue = 0\n",
    "    else:\n",
    "        internet_revenue = -internet_over_tariff * tariffs.loc[i,'rub_per_gb']\n",
    "\n",
    "    if message_over_tariff > 0:\n",
    "        message_revenue = 0\n",
    "    else:\n",
    "        message_revenue = - message_over_tariff * tariffs.loc[i,'rub_per_message']\n",
    "\n",
    "    revenue = call_revenue + internet_revenue + message_revenue + tariffs.loc[i,'rub_monthly_fee']\n",
    "    return revenue\n",
    "    \n",
    "user_month_info['revenue'] = user_month_info.apply(revenue, axis = 1)\n"
   ]
  },
  {
   "cell_type": "code",
   "execution_count": 69,
   "metadata": {},
   "outputs": [
    {
     "data": {
      "text/plain": [
       "<matplotlib.axes._subplots.AxesSubplot at 0x7fab240f9c90>"
      ]
     },
     "execution_count": 69,
     "metadata": {},
     "output_type": "execute_result"
    },
    {
     "data": {
      "image/png": "[encoded data removed]",
      "text/plain": [
       "<Figure size 432x288 with 1 Axes>"
      ]
     },
     "metadata": {
      "needs_background": "light"
     },
     "output_type": "display_data"
    }
   ],
   "source": [
    "user_month_info['revenue'].hist(bins = 50)"
   ]
  },
  {
   "cell_type": "markdown",
   "metadata": {},
   "source": [
    "Пики это абонентская плата за месяц, видно что не все пользователи укладываются в лимит"
   ]
  },
  {
   "cell_type": "code",
   "execution_count": 70,
   "metadata": {},
   "outputs": [
    {
     "data": {
      "text/html": [
       "<div>\n",
       "<style scoped>\n",
       "    .dataframe tbody tr th:only-of-type {\n",
       "        vertical-align: middle;\n",
       "    }\n",
       "\n",
       "    .dataframe tbody tr th {\n",
       "        vertical-align: top;\n",
       "    }\n",
       "\n",
       "    .dataframe thead th {\n",
       "        text-align: right;\n",
       "    }\n",
       "</style>\n",
       "<table border=\"1\" class=\"dataframe\">\n",
       "  <thead>\n",
       "    <tr style=\"text-align: right;\">\n",
       "      <th></th>\n",
       "      <th>user_id</th>\n",
       "      <th>month</th>\n",
       "      <th>calls_count</th>\n",
       "      <th>calls_duration</th>\n",
       "      <th>mb_used</th>\n",
       "      <th>gb</th>\n",
       "      <th>message_count</th>\n",
       "      <th>tariff</th>\n",
       "      <th>city</th>\n",
       "      <th>city_analyst</th>\n",
       "      <th>revenue</th>\n",
       "    </tr>\n",
       "  </thead>\n",
       "  <tbody>\n",
       "    <tr>\n",
       "      <td>159</td>\n",
       "      <td>1024</td>\n",
       "      <td>11</td>\n",
       "      <td>157.0</td>\n",
       "      <td>1146.0</td>\n",
       "      <td>43107.47</td>\n",
       "      <td>43.0</td>\n",
       "      <td>0.0</td>\n",
       "      <td>ultra</td>\n",
       "      <td>Санкт-Петербург</td>\n",
       "      <td>другое</td>\n",
       "      <td>3900.0</td>\n",
       "    </tr>\n",
       "    <tr>\n",
       "      <td>160</td>\n",
       "      <td>1024</td>\n",
       "      <td>12</td>\n",
       "      <td>136.0</td>\n",
       "      <td>949.0</td>\n",
       "      <td>35948.13</td>\n",
       "      <td>36.0</td>\n",
       "      <td>0.0</td>\n",
       "      <td>ultra</td>\n",
       "      <td>Санкт-Петербург</td>\n",
       "      <td>другое</td>\n",
       "      <td>2850.0</td>\n",
       "    </tr>\n",
       "    <tr>\n",
       "      <td>311</td>\n",
       "      <td>1050</td>\n",
       "      <td>7</td>\n",
       "      <td>35.0</td>\n",
       "      <td>209.0</td>\n",
       "      <td>35177.91</td>\n",
       "      <td>35.0</td>\n",
       "      <td>52.0</td>\n",
       "      <td>ultra</td>\n",
       "      <td>Тюмень</td>\n",
       "      <td>другое</td>\n",
       "      <td>2700.0</td>\n",
       "    </tr>\n",
       "    <tr>\n",
       "      <td>383</td>\n",
       "      <td>1060</td>\n",
       "      <td>12</td>\n",
       "      <td>184.0</td>\n",
       "      <td>1233.0</td>\n",
       "      <td>43931.36</td>\n",
       "      <td>43.0</td>\n",
       "      <td>52.0</td>\n",
       "      <td>ultra</td>\n",
       "      <td>Калуга</td>\n",
       "      <td>другое</td>\n",
       "      <td>3900.0</td>\n",
       "    </tr>\n",
       "    <tr>\n",
       "      <td>782</td>\n",
       "      <td>1124</td>\n",
       "      <td>10</td>\n",
       "      <td>152.0</td>\n",
       "      <td>1225.0</td>\n",
       "      <td>49745.69</td>\n",
       "      <td>49.0</td>\n",
       "      <td>121.0</td>\n",
       "      <td>ultra</td>\n",
       "      <td>Махачкала</td>\n",
       "      <td>другое</td>\n",
       "      <td>4800.0</td>\n",
       "    </tr>\n",
       "    <tr>\n",
       "      <td>...</td>\n",
       "      <td>...</td>\n",
       "      <td>...</td>\n",
       "      <td>...</td>\n",
       "      <td>...</td>\n",
       "      <td>...</td>\n",
       "      <td>...</td>\n",
       "      <td>...</td>\n",
       "      <td>...</td>\n",
       "      <td>...</td>\n",
       "      <td>...</td>\n",
       "      <td>...</td>\n",
       "    </tr>\n",
       "    <tr>\n",
       "      <td>3195</td>\n",
       "      <td>1231</td>\n",
       "      <td>9</td>\n",
       "      <td>0.0</td>\n",
       "      <td>0.0</td>\n",
       "      <td>33189.47</td>\n",
       "      <td>33.0</td>\n",
       "      <td>188.0</td>\n",
       "      <td>ultra</td>\n",
       "      <td>Чебоксары</td>\n",
       "      <td>другое</td>\n",
       "      <td>2400.0</td>\n",
       "    </tr>\n",
       "    <tr>\n",
       "      <td>3196</td>\n",
       "      <td>1231</td>\n",
       "      <td>10</td>\n",
       "      <td>0.0</td>\n",
       "      <td>0.0</td>\n",
       "      <td>31032.93</td>\n",
       "      <td>31.0</td>\n",
       "      <td>185.0</td>\n",
       "      <td>ultra</td>\n",
       "      <td>Чебоксары</td>\n",
       "      <td>другое</td>\n",
       "      <td>2100.0</td>\n",
       "    </tr>\n",
       "    <tr>\n",
       "      <td>3198</td>\n",
       "      <td>1231</td>\n",
       "      <td>12</td>\n",
       "      <td>0.0</td>\n",
       "      <td>0.0</td>\n",
       "      <td>32448.00</td>\n",
       "      <td>32.0</td>\n",
       "      <td>191.0</td>\n",
       "      <td>ultra</td>\n",
       "      <td>Чебоксары</td>\n",
       "      <td>другое</td>\n",
       "      <td>2250.0</td>\n",
       "    </tr>\n",
       "    <tr>\n",
       "      <td>3200</td>\n",
       "      <td>1328</td>\n",
       "      <td>11</td>\n",
       "      <td>0.0</td>\n",
       "      <td>0.0</td>\n",
       "      <td>35525.58</td>\n",
       "      <td>35.0</td>\n",
       "      <td>8.0</td>\n",
       "      <td>ultra</td>\n",
       "      <td>Мурманск</td>\n",
       "      <td>другое</td>\n",
       "      <td>2700.0</td>\n",
       "    </tr>\n",
       "    <tr>\n",
       "      <td>3201</td>\n",
       "      <td>1328</td>\n",
       "      <td>12</td>\n",
       "      <td>0.0</td>\n",
       "      <td>0.0</td>\n",
       "      <td>39419.73</td>\n",
       "      <td>39.0</td>\n",
       "      <td>7.0</td>\n",
       "      <td>ultra</td>\n",
       "      <td>Мурманск</td>\n",
       "      <td>другое</td>\n",
       "      <td>3300.0</td>\n",
       "    </tr>\n",
       "  </tbody>\n",
       "</table>\n",
       "<p>134 rows × 11 columns</p>\n",
       "</div>"
      ],
      "text/plain": [
       "      user_id  month  calls_count  calls_duration   mb_used    gb  \\\n",
       "159      1024     11        157.0          1146.0  43107.47  43.0   \n",
       "160      1024     12        136.0           949.0  35948.13  36.0   \n",
       "311      1050      7         35.0           209.0  35177.91  35.0   \n",
       "383      1060     12        184.0          1233.0  43931.36  43.0   \n",
       "782      1124     10        152.0          1225.0  49745.69  49.0   \n",
       "...       ...    ...          ...             ...       ...   ...   \n",
       "3195     1231      9          0.0             0.0  33189.47  33.0   \n",
       "3196     1231     10          0.0             0.0  31032.93  31.0   \n",
       "3198     1231     12          0.0             0.0  32448.00  32.0   \n",
       "3200     1328     11          0.0             0.0  35525.58  35.0   \n",
       "3201     1328     12          0.0             0.0  39419.73  39.0   \n",
       "\n",
       "      message_count tariff             city city_analyst  revenue  \n",
       "159             0.0  ultra  Санкт-Петербург       другое   3900.0  \n",
       "160             0.0  ultra  Санкт-Петербург       другое   2850.0  \n",
       "311            52.0  ultra           Тюмень       другое   2700.0  \n",
       "383            52.0  ultra           Калуга       другое   3900.0  \n",
       "782           121.0  ultra        Махачкала       другое   4800.0  \n",
       "...             ...    ...              ...          ...      ...  \n",
       "3195          188.0  ultra        Чебоксары       другое   2400.0  \n",
       "3196          185.0  ultra        Чебоксары       другое   2100.0  \n",
       "3198          191.0  ultra        Чебоксары       другое   2250.0  \n",
       "3200            8.0  ultra         Мурманск       другое   2700.0  \n",
       "3201            7.0  ultra         Мурманск       другое   3300.0  \n",
       "\n",
       "[134 rows x 11 columns]"
      ]
     },
     "execution_count": 70,
     "metadata": {},
     "output_type": "execute_result"
    }
   ],
   "source": [
    "user_month_info.query('(revenue > 2000) and (tariff == \"ultra\")')#cо смартом за 2 тысячи выходят 395 раз, с ультра 134 раза, смарт выгоднрее для оператора"
   ]
  },
  {
   "cell_type": "code",
   "execution_count": 71,
   "metadata": {
    "scrolled": true
   },
   "outputs": [
    {
     "data": {
      "text/html": [
       "<div>\n",
       "<style scoped>\n",
       "    .dataframe tbody tr th:only-of-type {\n",
       "        vertical-align: middle;\n",
       "    }\n",
       "\n",
       "    .dataframe tbody tr th {\n",
       "        vertical-align: top;\n",
       "    }\n",
       "\n",
       "    .dataframe thead th {\n",
       "        text-align: right;\n",
       "    }\n",
       "</style>\n",
       "<table border=\"1\" class=\"dataframe\">\n",
       "  <thead>\n",
       "    <tr style=\"text-align: right;\">\n",
       "      <th></th>\n",
       "      <th>user_id</th>\n",
       "      <th>month</th>\n",
       "      <th>calls_count</th>\n",
       "      <th>calls_duration</th>\n",
       "      <th>mb_used</th>\n",
       "      <th>gb</th>\n",
       "      <th>message_count</th>\n",
       "      <th>tariff</th>\n",
       "      <th>city</th>\n",
       "      <th>city_analyst</th>\n",
       "      <th>revenue</th>\n",
       "    </tr>\n",
       "  </thead>\n",
       "  <tbody>\n",
       "    <tr>\n",
       "      <td>0</td>\n",
       "      <td>1000</td>\n",
       "      <td>5</td>\n",
       "      <td>22.0</td>\n",
       "      <td>159.0</td>\n",
       "      <td>2253.49</td>\n",
       "      <td>3.0</td>\n",
       "      <td>22.0</td>\n",
       "      <td>ultra</td>\n",
       "      <td>Краснодар</td>\n",
       "      <td>другое</td>\n",
       "      <td>1950.0</td>\n",
       "    </tr>\n",
       "    <tr>\n",
       "      <td>1</td>\n",
       "      <td>1000</td>\n",
       "      <td>6</td>\n",
       "      <td>43.0</td>\n",
       "      <td>172.0</td>\n",
       "      <td>23233.77</td>\n",
       "      <td>23.0</td>\n",
       "      <td>60.0</td>\n",
       "      <td>ultra</td>\n",
       "      <td>Краснодар</td>\n",
       "      <td>другое</td>\n",
       "      <td>1950.0</td>\n",
       "    </tr>\n",
       "    <tr>\n",
       "      <td>2</td>\n",
       "      <td>1000</td>\n",
       "      <td>7</td>\n",
       "      <td>47.0</td>\n",
       "      <td>340.0</td>\n",
       "      <td>14003.64</td>\n",
       "      <td>14.0</td>\n",
       "      <td>75.0</td>\n",
       "      <td>ultra</td>\n",
       "      <td>Краснодар</td>\n",
       "      <td>другое</td>\n",
       "      <td>1950.0</td>\n",
       "    </tr>\n",
       "    <tr>\n",
       "      <td>3</td>\n",
       "      <td>1000</td>\n",
       "      <td>8</td>\n",
       "      <td>52.0</td>\n",
       "      <td>408.0</td>\n",
       "      <td>14055.93</td>\n",
       "      <td>14.0</td>\n",
       "      <td>81.0</td>\n",
       "      <td>ultra</td>\n",
       "      <td>Краснодар</td>\n",
       "      <td>другое</td>\n",
       "      <td>1950.0</td>\n",
       "    </tr>\n",
       "    <tr>\n",
       "      <td>4</td>\n",
       "      <td>1000</td>\n",
       "      <td>9</td>\n",
       "      <td>58.0</td>\n",
       "      <td>466.0</td>\n",
       "      <td>14568.91</td>\n",
       "      <td>15.0</td>\n",
       "      <td>57.0</td>\n",
       "      <td>ultra</td>\n",
       "      <td>Краснодар</td>\n",
       "      <td>другое</td>\n",
       "      <td>1950.0</td>\n",
       "    </tr>\n",
       "    <tr>\n",
       "      <td>...</td>\n",
       "      <td>...</td>\n",
       "      <td>...</td>\n",
       "      <td>...</td>\n",
       "      <td>...</td>\n",
       "      <td>...</td>\n",
       "      <td>...</td>\n",
       "      <td>...</td>\n",
       "      <td>...</td>\n",
       "      <td>...</td>\n",
       "      <td>...</td>\n",
       "      <td>...</td>\n",
       "    </tr>\n",
       "    <tr>\n",
       "      <td>3209</td>\n",
       "      <td>1489</td>\n",
       "      <td>8</td>\n",
       "      <td>0.0</td>\n",
       "      <td>0.0</td>\n",
       "      <td>11050.56</td>\n",
       "      <td>11.0</td>\n",
       "      <td>17.0</td>\n",
       "      <td>smart</td>\n",
       "      <td>Санкт-Петербург</td>\n",
       "      <td>другое</td>\n",
       "      <td>550.0</td>\n",
       "    </tr>\n",
       "    <tr>\n",
       "      <td>3210</td>\n",
       "      <td>1489</td>\n",
       "      <td>9</td>\n",
       "      <td>0.0</td>\n",
       "      <td>0.0</td>\n",
       "      <td>17206.30</td>\n",
       "      <td>17.0</td>\n",
       "      <td>32.0</td>\n",
       "      <td>smart</td>\n",
       "      <td>Санкт-Петербург</td>\n",
       "      <td>другое</td>\n",
       "      <td>950.0</td>\n",
       "    </tr>\n",
       "    <tr>\n",
       "      <td>3211</td>\n",
       "      <td>1489</td>\n",
       "      <td>10</td>\n",
       "      <td>0.0</td>\n",
       "      <td>0.0</td>\n",
       "      <td>19559.44</td>\n",
       "      <td>20.0</td>\n",
       "      <td>21.0</td>\n",
       "      <td>smart</td>\n",
       "      <td>Санкт-Петербург</td>\n",
       "      <td>другое</td>\n",
       "      <td>1550.0</td>\n",
       "    </tr>\n",
       "    <tr>\n",
       "      <td>3212</td>\n",
       "      <td>1489</td>\n",
       "      <td>11</td>\n",
       "      <td>0.0</td>\n",
       "      <td>0.0</td>\n",
       "      <td>17491.56</td>\n",
       "      <td>18.0</td>\n",
       "      <td>20.0</td>\n",
       "      <td>smart</td>\n",
       "      <td>Санкт-Петербург</td>\n",
       "      <td>другое</td>\n",
       "      <td>1150.0</td>\n",
       "    </tr>\n",
       "    <tr>\n",
       "      <td>3213</td>\n",
       "      <td>1489</td>\n",
       "      <td>12</td>\n",
       "      <td>0.0</td>\n",
       "      <td>0.0</td>\n",
       "      <td>17322.51</td>\n",
       "      <td>17.0</td>\n",
       "      <td>35.0</td>\n",
       "      <td>smart</td>\n",
       "      <td>Санкт-Петербург</td>\n",
       "      <td>другое</td>\n",
       "      <td>950.0</td>\n",
       "    </tr>\n",
       "  </tbody>\n",
       "</table>\n",
       "<p>3214 rows × 11 columns</p>\n",
       "</div>"
      ],
      "text/plain": [
       "      user_id  month  calls_count  calls_duration   mb_used    gb  \\\n",
       "0        1000      5         22.0           159.0   2253.49   3.0   \n",
       "1        1000      6         43.0           172.0  23233.77  23.0   \n",
       "2        1000      7         47.0           340.0  14003.64  14.0   \n",
       "3        1000      8         52.0           408.0  14055.93  14.0   \n",
       "4        1000      9         58.0           466.0  14568.91  15.0   \n",
       "...       ...    ...          ...             ...       ...   ...   \n",
       "3209     1489      8          0.0             0.0  11050.56  11.0   \n",
       "3210     1489      9          0.0             0.0  17206.30  17.0   \n",
       "3211     1489     10          0.0             0.0  19559.44  20.0   \n",
       "3212     1489     11          0.0             0.0  17491.56  18.0   \n",
       "3213     1489     12          0.0             0.0  17322.51  17.0   \n",
       "\n",
       "      message_count tariff             city city_analyst  revenue  \n",
       "0              22.0  ultra        Краснодар       другое   1950.0  \n",
       "1              60.0  ultra        Краснодар       другое   1950.0  \n",
       "2              75.0  ultra        Краснодар       другое   1950.0  \n",
       "3              81.0  ultra        Краснодар       другое   1950.0  \n",
       "4              57.0  ultra        Краснодар       другое   1950.0  \n",
       "...             ...    ...              ...          ...      ...  \n",
       "3209           17.0  smart  Санкт-Петербург       другое    550.0  \n",
       "3210           32.0  smart  Санкт-Петербург       другое    950.0  \n",
       "3211           21.0  smart  Санкт-Петербург       другое   1550.0  \n",
       "3212           20.0  smart  Санкт-Петербург       другое   1150.0  \n",
       "3213           35.0  smart  Санкт-Петербург       другое    950.0  \n",
       "\n",
       "[3214 rows x 11 columns]"
      ]
     },
     "execution_count": 71,
     "metadata": {},
     "output_type": "execute_result"
    }
   ],
   "source": [
    "user_month_info"
   ]
  },
  {
   "cell_type": "markdown",
   "metadata": {},
   "source": [
    "**Вывод:**\n",
    "\n",
    "Создали одно большу сводную таблицу по пользователям и месяца, в которой отображены гб, минуты, количество звонков и смс, выделен город, и сколько пользователь тратит по своему тарифному плану.\n",
    "\n",
    "В дальнейшем на основании этой таблицы будем строить выводы."
   ]
  },
  {
   "cell_type": "markdown",
   "metadata": {},
   "source": [
    "## Анализ данных "
   ]
  },
  {
   "cell_type": "markdown",
   "metadata": {},
   "source": [
    "Опишем поведение клиентов оператора, исходя из выборки. Сколько минут разговора, сколько сообщений и какой объём интернет-трафика требуется пользователям каждого тарифа в месяц? Посчитаем среднее количество, дисперсию и стандартное отклонение. Построим гистограммы и опишем распределения."
   ]
  },
  {
   "cell_type": "code",
   "execution_count": 72,
   "metadata": {
    "scrolled": true
   },
   "outputs": [],
   "source": [
    "#таблицы по разным тарифам\n",
    "user_month_info_ultra = user_month_info.query('tariff == \"ultra\"')\n",
    "user_month_info_smart = user_month_info.query('tariff == \"smart\"')\n",
    "\n"
   ]
  },
  {
   "cell_type": "code",
   "execution_count": 73,
   "metadata": {},
   "outputs": [
    {
     "data": {
      "text/html": [
       "<div>\n",
       "<style scoped>\n",
       "    .dataframe tbody tr th:only-of-type {\n",
       "        vertical-align: middle;\n",
       "    }\n",
       "\n",
       "    .dataframe tbody tr th {\n",
       "        vertical-align: top;\n",
       "    }\n",
       "\n",
       "    .dataframe thead th {\n",
       "        text-align: right;\n",
       "    }\n",
       "</style>\n",
       "<table border=\"1\" class=\"dataframe\">\n",
       "  <thead>\n",
       "    <tr style=\"text-align: right;\">\n",
       "      <th></th>\n",
       "      <th>calls_duration</th>\n",
       "      <th>gb</th>\n",
       "      <th>message_count</th>\n",
       "    </tr>\n",
       "    <tr>\n",
       "      <th>month</th>\n",
       "      <th></th>\n",
       "      <th></th>\n",
       "      <th></th>\n",
       "    </tr>\n",
       "  </thead>\n",
       "  <tbody>\n",
       "    <tr>\n",
       "      <td>1</td>\n",
       "      <td>428.111111</td>\n",
       "      <td>13.222222</td>\n",
       "      <td>33.777778</td>\n",
       "    </tr>\n",
       "    <tr>\n",
       "      <td>2</td>\n",
       "      <td>297.125000</td>\n",
       "      <td>12.000000</td>\n",
       "      <td>21.958333</td>\n",
       "    </tr>\n",
       "    <tr>\n",
       "      <td>3</td>\n",
       "      <td>489.648649</td>\n",
       "      <td>17.648649</td>\n",
       "      <td>32.297297</td>\n",
       "    </tr>\n",
       "    <tr>\n",
       "      <td>4</td>\n",
       "      <td>458.018182</td>\n",
       "      <td>16.963636</td>\n",
       "      <td>31.563636</td>\n",
       "    </tr>\n",
       "    <tr>\n",
       "      <td>5</td>\n",
       "      <td>510.328358</td>\n",
       "      <td>19.373134</td>\n",
       "      <td>37.850746</td>\n",
       "    </tr>\n",
       "    <tr>\n",
       "      <td>6</td>\n",
       "      <td>479.702381</td>\n",
       "      <td>18.940476</td>\n",
       "      <td>41.726190</td>\n",
       "    </tr>\n",
       "    <tr>\n",
       "      <td>7</td>\n",
       "      <td>545.791209</td>\n",
       "      <td>20.505495</td>\n",
       "      <td>49.846154</td>\n",
       "    </tr>\n",
       "    <tr>\n",
       "      <td>8</td>\n",
       "      <td>510.775701</td>\n",
       "      <td>19.598131</td>\n",
       "      <td>48.439252</td>\n",
       "    </tr>\n",
       "    <tr>\n",
       "      <td>9</td>\n",
       "      <td>539.443478</td>\n",
       "      <td>19.243478</td>\n",
       "      <td>52.286957</td>\n",
       "    </tr>\n",
       "    <tr>\n",
       "      <td>10</td>\n",
       "      <td>558.081301</td>\n",
       "      <td>20.065041</td>\n",
       "      <td>58.430894</td>\n",
       "    </tr>\n",
       "    <tr>\n",
       "      <td>11</td>\n",
       "      <td>541.380597</td>\n",
       "      <td>19.805970</td>\n",
       "      <td>55.791045</td>\n",
       "    </tr>\n",
       "    <tr>\n",
       "      <td>12</td>\n",
       "      <td>592.805755</td>\n",
       "      <td>21.741007</td>\n",
       "      <td>60.611511</td>\n",
       "    </tr>\n",
       "  </tbody>\n",
       "</table>\n",
       "</div>"
      ],
      "text/plain": [
       "       calls_duration         gb  message_count\n",
       "month                                          \n",
       "1          428.111111  13.222222      33.777778\n",
       "2          297.125000  12.000000      21.958333\n",
       "3          489.648649  17.648649      32.297297\n",
       "4          458.018182  16.963636      31.563636\n",
       "5          510.328358  19.373134      37.850746\n",
       "6          479.702381  18.940476      41.726190\n",
       "7          545.791209  20.505495      49.846154\n",
       "8          510.775701  19.598131      48.439252\n",
       "9          539.443478  19.243478      52.286957\n",
       "10         558.081301  20.065041      58.430894\n",
       "11         541.380597  19.805970      55.791045\n",
       "12         592.805755  21.741007      60.611511"
      ]
     },
     "metadata": {},
     "output_type": "display_data"
    },
    {
     "data": {
      "text/html": [
       "<div>\n",
       "<style scoped>\n",
       "    .dataframe tbody tr th:only-of-type {\n",
       "        vertical-align: middle;\n",
       "    }\n",
       "\n",
       "    .dataframe tbody tr th {\n",
       "        vertical-align: top;\n",
       "    }\n",
       "\n",
       "    .dataframe thead th {\n",
       "        text-align: right;\n",
       "    }\n",
       "</style>\n",
       "<table border=\"1\" class=\"dataframe\">\n",
       "  <thead>\n",
       "    <tr style=\"text-align: right;\">\n",
       "      <th></th>\n",
       "      <th>calls_duration</th>\n",
       "      <th>gb</th>\n",
       "      <th>message_count</th>\n",
       "    </tr>\n",
       "    <tr>\n",
       "      <th>month</th>\n",
       "      <th></th>\n",
       "      <th></th>\n",
       "      <th></th>\n",
       "    </tr>\n",
       "  </thead>\n",
       "  <tbody>\n",
       "    <tr>\n",
       "      <td>1</td>\n",
       "      <td>203.852941</td>\n",
       "      <td>8.735294</td>\n",
       "      <td>18.235294</td>\n",
       "    </tr>\n",
       "    <tr>\n",
       "      <td>2</td>\n",
       "      <td>298.689655</td>\n",
       "      <td>11.844828</td>\n",
       "      <td>24.086207</td>\n",
       "    </tr>\n",
       "    <tr>\n",
       "      <td>3</td>\n",
       "      <td>390.051948</td>\n",
       "      <td>15.233766</td>\n",
       "      <td>31.857143</td>\n",
       "    </tr>\n",
       "    <tr>\n",
       "      <td>4</td>\n",
       "      <td>367.133929</td>\n",
       "      <td>13.625000</td>\n",
       "      <td>30.741071</td>\n",
       "    </tr>\n",
       "    <tr>\n",
       "      <td>5</td>\n",
       "      <td>387.361702</td>\n",
       "      <td>15.907801</td>\n",
       "      <td>33.773050</td>\n",
       "    </tr>\n",
       "    <tr>\n",
       "      <td>6</td>\n",
       "      <td>395.640244</td>\n",
       "      <td>15.951220</td>\n",
       "      <td>33.402439</td>\n",
       "    </tr>\n",
       "    <tr>\n",
       "      <td>7</td>\n",
       "      <td>408.353234</td>\n",
       "      <td>15.875622</td>\n",
       "      <td>33.751244</td>\n",
       "    </tr>\n",
       "    <tr>\n",
       "      <td>8</td>\n",
       "      <td>421.468085</td>\n",
       "      <td>16.736170</td>\n",
       "      <td>33.638298</td>\n",
       "    </tr>\n",
       "    <tr>\n",
       "      <td>9</td>\n",
       "      <td>428.611538</td>\n",
       "      <td>16.392308</td>\n",
       "      <td>33.638462</td>\n",
       "    </tr>\n",
       "    <tr>\n",
       "      <td>10</td>\n",
       "      <td>426.136054</td>\n",
       "      <td>16.880952</td>\n",
       "      <td>33.765306</td>\n",
       "    </tr>\n",
       "    <tr>\n",
       "      <td>11</td>\n",
       "      <td>435.265823</td>\n",
       "      <td>17.000000</td>\n",
       "      <td>34.075949</td>\n",
       "    </tr>\n",
       "    <tr>\n",
       "      <td>12</td>\n",
       "      <td>478.560831</td>\n",
       "      <td>18.201780</td>\n",
       "      <td>35.994065</td>\n",
       "    </tr>\n",
       "  </tbody>\n",
       "</table>\n",
       "</div>"
      ],
      "text/plain": [
       "       calls_duration         gb  message_count\n",
       "month                                          \n",
       "1          203.852941   8.735294      18.235294\n",
       "2          298.689655  11.844828      24.086207\n",
       "3          390.051948  15.233766      31.857143\n",
       "4          367.133929  13.625000      30.741071\n",
       "5          387.361702  15.907801      33.773050\n",
       "6          395.640244  15.951220      33.402439\n",
       "7          408.353234  15.875622      33.751244\n",
       "8          421.468085  16.736170      33.638298\n",
       "9          428.611538  16.392308      33.638462\n",
       "10         426.136054  16.880952      33.765306\n",
       "11         435.265823  17.000000      34.075949\n",
       "12         478.560831  18.201780      35.994065"
      ]
     },
     "metadata": {},
     "output_type": "display_data"
    }
   ],
   "source": [
    "#таблица по средним\n",
    "user_month_info_ultra_mean = user_month_info_ultra.pivot_table(index = 'month', values = {'calls_duration','gb','message_count'}, aggfunc = 'mean')\n",
    "user_month_info_smart_mean = user_month_info_smart.pivot_table(index = 'month', values = {'calls_duration','gb','message_count'}, aggfunc = 'mean')\n",
    "display(user_month_info_ultra_mean)\n",
    "display(user_month_info_smart_mean)\n"
   ]
  },
  {
   "cell_type": "code",
   "execution_count": 74,
   "metadata": {},
   "outputs": [
    {
     "data": {
      "text/plain": [
       "<matplotlib.axes._subplots.AxesSubplot at 0x7fab241695d0>"
      ]
     },
     "execution_count": 74,
     "metadata": {},
     "output_type": "execute_result"
    },
    {
     "data": {
      "image/png": "[encoded data removed]",
      "text/plain": [
       "<Figure size 432x288 with 1 Axes>"
      ]
     },
     "metadata": {
      "needs_background": "light"
     },
     "output_type": "display_data"
    }
   ],
   "source": [
    "y = user_month_info_ultra_mean.plot(y = 'calls_duration',kind='bar',label='ultra', color = 'navy')\n",
    "user_month_info_smart_mean.plot(y = 'calls_duration',kind='bar',label='smart',color= 'limegreen',ax = y)\n",
    "#тут я так и не понял как поставить два столбца рядом, если не объединять это не в одну таблицу."
   ]
  },
  {
   "cell_type": "code",
   "execution_count": 75,
   "metadata": {},
   "outputs": [
    {
     "data": {
      "text/plain": [
       "<matplotlib.legend.Legend at 0x7fab176fe350>"
      ]
     },
     "execution_count": 75,
     "metadata": {},
     "output_type": "execute_result"
    },
    {
     "data": {
      "image/png": "[encoded data removed]",
      "text/plain": [
       "<Figure size 432x288 with 1 Axes>"
      ]
     },
     "metadata": {
      "needs_background": "light"
     },
     "output_type": "display_data"
    }
   ],
   "source": [
    "y = user_month_info_ultra_mean.plot(y = 'gb',kind='bar',label='ultra', color = 'navy')\n",
    "user_month_info_smart_mean.plot(y = 'gb',kind='bar',label='smart',color= 'limegreen', ax = y)\n",
    "plt.legend(['ultra', 'smart'])"
   ]
  },
  {
   "cell_type": "code",
   "execution_count": 76,
   "metadata": {
    "scrolled": true
   },
   "outputs": [
    {
     "data": {
      "text/plain": [
       "<matplotlib.legend.Legend at 0x7fab17e9e110>"
      ]
     },
     "execution_count": 76,
     "metadata": {},
     "output_type": "execute_result"
    },
    {
     "data": {
      "image/png": "[encoded data removed]",
      "text/plain": [
       "<Figure size 432x288 with 1 Axes>"
      ]
     },
     "metadata": {
      "needs_background": "light"
     },
     "output_type": "display_data"
    }
   ],
   "source": [
    "y = user_month_info_ultra_mean.plot(y = 'message_count',kind='bar',label='ultra', color = 'navy')\n",
    "user_month_info_smart_mean.plot(y = 'message_count',kind='bar',label='smart',color= 'limegreen', ax = y)\n",
    "plt.legend(['ultra', 'smart'])"
   ]
  },
  {
   "cell_type": "markdown",
   "metadata": {},
   "source": [
    "По графикам видим,что получаем вывод, что пользователи тарифа ультра используют больше минут, гб и смс, но не в таком количестве какую предполгает их тариф"
   ]
  },
  {
   "cell_type": "markdown",
   "metadata": {},
   "source": [
    "Ниже буду создавать сводную таблицу по среднему, дисперсии, стандартному отклонению. Я не понимаю для чего нам эта информация, и как ее здесь использовать, но раз задание есть-делаю."
   ]
  },
  {
   "cell_type": "code",
   "execution_count": 77,
   "metadata": {},
   "outputs": [
    {
     "data": {
      "text/html": [
       "<div>\n",
       "<style scoped>\n",
       "    .dataframe tbody tr th:only-of-type {\n",
       "        vertical-align: middle;\n",
       "    }\n",
       "\n",
       "    .dataframe tbody tr th {\n",
       "        vertical-align: top;\n",
       "    }\n",
       "\n",
       "    .dataframe thead th {\n",
       "        text-align: right;\n",
       "    }\n",
       "</style>\n",
       "<table border=\"1\" class=\"dataframe\">\n",
       "  <thead>\n",
       "    <tr style=\"text-align: right;\">\n",
       "      <th></th>\n",
       "      <th>calls_duration</th>\n",
       "      <th>gb</th>\n",
       "      <th>message_count</th>\n",
       "    </tr>\n",
       "    <tr>\n",
       "      <th>month</th>\n",
       "      <th></th>\n",
       "      <th></th>\n",
       "      <th></th>\n",
       "    </tr>\n",
       "  </thead>\n",
       "  <tbody>\n",
       "    <tr>\n",
       "      <td>1</td>\n",
       "      <td>72769.361111</td>\n",
       "      <td>44.444444</td>\n",
       "      <td>940.694444</td>\n",
       "    </tr>\n",
       "    <tr>\n",
       "      <td>2</td>\n",
       "      <td>87919.679348</td>\n",
       "      <td>109.130435</td>\n",
       "      <td>716.824275</td>\n",
       "    </tr>\n",
       "    <tr>\n",
       "      <td>3</td>\n",
       "      <td>111384.900901</td>\n",
       "      <td>114.345345</td>\n",
       "      <td>1732.381381</td>\n",
       "    </tr>\n",
       "    <tr>\n",
       "      <td>4</td>\n",
       "      <td>71653.870034</td>\n",
       "      <td>89.443098</td>\n",
       "      <td>1407.287542</td>\n",
       "    </tr>\n",
       "    <tr>\n",
       "      <td>5</td>\n",
       "      <td>83870.193578</td>\n",
       "      <td>95.631389</td>\n",
       "      <td>1624.644052</td>\n",
       "    </tr>\n",
       "    <tr>\n",
       "      <td>6</td>\n",
       "      <td>91535.946500</td>\n",
       "      <td>82.394005</td>\n",
       "      <td>1986.297619</td>\n",
       "    </tr>\n",
       "    <tr>\n",
       "      <td>7</td>\n",
       "      <td>94322.278144</td>\n",
       "      <td>96.430525</td>\n",
       "      <td>2372.042735</td>\n",
       "    </tr>\n",
       "    <tr>\n",
       "      <td>8</td>\n",
       "      <td>97956.496385</td>\n",
       "      <td>105.148298</td>\n",
       "      <td>2171.739199</td>\n",
       "    </tr>\n",
       "    <tr>\n",
       "      <td>9</td>\n",
       "      <td>105716.775286</td>\n",
       "      <td>86.255988</td>\n",
       "      <td>2152.855530</td>\n",
       "    </tr>\n",
       "    <tr>\n",
       "      <td>10</td>\n",
       "      <td>106464.583500</td>\n",
       "      <td>91.258030</td>\n",
       "      <td>2697.181661</td>\n",
       "    </tr>\n",
       "    <tr>\n",
       "      <td>11</td>\n",
       "      <td>96570.057064</td>\n",
       "      <td>93.796656</td>\n",
       "      <td>2476.948491</td>\n",
       "    </tr>\n",
       "    <tr>\n",
       "      <td>12</td>\n",
       "      <td>117276.331561</td>\n",
       "      <td>103.236784</td>\n",
       "      <td>2681.978417</td>\n",
       "    </tr>\n",
       "  </tbody>\n",
       "</table>\n",
       "</div>"
      ],
      "text/plain": [
       "       calls_duration          gb  message_count\n",
       "month                                           \n",
       "1        72769.361111   44.444444     940.694444\n",
       "2        87919.679348  109.130435     716.824275\n",
       "3       111384.900901  114.345345    1732.381381\n",
       "4        71653.870034   89.443098    1407.287542\n",
       "5        83870.193578   95.631389    1624.644052\n",
       "6        91535.946500   82.394005    1986.297619\n",
       "7        94322.278144   96.430525    2372.042735\n",
       "8        97956.496385  105.148298    2171.739199\n",
       "9       105716.775286   86.255988    2152.855530\n",
       "10      106464.583500   91.258030    2697.181661\n",
       "11       96570.057064   93.796656    2476.948491\n",
       "12      117276.331561  103.236784    2681.978417"
      ]
     },
     "metadata": {},
     "output_type": "display_data"
    },
    {
     "data": {
      "text/html": [
       "<div>\n",
       "<style scoped>\n",
       "    .dataframe tbody tr th:only-of-type {\n",
       "        vertical-align: middle;\n",
       "    }\n",
       "\n",
       "    .dataframe tbody tr th {\n",
       "        vertical-align: top;\n",
       "    }\n",
       "\n",
       "    .dataframe thead th {\n",
       "        text-align: right;\n",
       "    }\n",
       "</style>\n",
       "<table border=\"1\" class=\"dataframe\">\n",
       "  <thead>\n",
       "    <tr style=\"text-align: right;\">\n",
       "      <th></th>\n",
       "      <th>calls_duration</th>\n",
       "      <th>gb</th>\n",
       "      <th>message_count</th>\n",
       "    </tr>\n",
       "    <tr>\n",
       "      <th>month</th>\n",
       "      <th></th>\n",
       "      <th></th>\n",
       "      <th></th>\n",
       "    </tr>\n",
       "  </thead>\n",
       "  <tbody>\n",
       "    <tr>\n",
       "      <td>1</td>\n",
       "      <td>23787.341355</td>\n",
       "      <td>39.412656</td>\n",
       "      <td>262.367201</td>\n",
       "    </tr>\n",
       "    <tr>\n",
       "      <td>2</td>\n",
       "      <td>36412.287961</td>\n",
       "      <td>37.150938</td>\n",
       "      <td>473.097701</td>\n",
       "    </tr>\n",
       "    <tr>\n",
       "      <td>3</td>\n",
       "      <td>36823.155161</td>\n",
       "      <td>32.549897</td>\n",
       "      <td>718.492481</td>\n",
       "    </tr>\n",
       "    <tr>\n",
       "      <td>4</td>\n",
       "      <td>34778.207127</td>\n",
       "      <td>31.299550</td>\n",
       "      <td>602.139559</td>\n",
       "    </tr>\n",
       "    <tr>\n",
       "      <td>5</td>\n",
       "      <td>34820.061094</td>\n",
       "      <td>34.370010</td>\n",
       "      <td>730.990983</td>\n",
       "    </tr>\n",
       "    <tr>\n",
       "      <td>6</td>\n",
       "      <td>30742.918861</td>\n",
       "      <td>31.911716</td>\n",
       "      <td>806.806374</td>\n",
       "    </tr>\n",
       "    <tr>\n",
       "      <td>7</td>\n",
       "      <td>32250.269602</td>\n",
       "      <td>33.419453</td>\n",
       "      <td>799.887811</td>\n",
       "    </tr>\n",
       "    <tr>\n",
       "      <td>8</td>\n",
       "      <td>34793.583379</td>\n",
       "      <td>30.041207</td>\n",
       "      <td>838.257501</td>\n",
       "    </tr>\n",
       "    <tr>\n",
       "      <td>9</td>\n",
       "      <td>33535.342723</td>\n",
       "      <td>25.884110</td>\n",
       "      <td>790.617820</td>\n",
       "    </tr>\n",
       "    <tr>\n",
       "      <td>10</td>\n",
       "      <td>35392.336375</td>\n",
       "      <td>32.897042</td>\n",
       "      <td>816.111966</td>\n",
       "    </tr>\n",
       "    <tr>\n",
       "      <td>11</td>\n",
       "      <td>31605.237050</td>\n",
       "      <td>27.180952</td>\n",
       "      <td>805.937071</td>\n",
       "    </tr>\n",
       "    <tr>\n",
       "      <td>12</td>\n",
       "      <td>39698.622033</td>\n",
       "      <td>29.786544</td>\n",
       "      <td>934.952346</td>\n",
       "    </tr>\n",
       "  </tbody>\n",
       "</table>\n",
       "</div>"
      ],
      "text/plain": [
       "       calls_duration         gb  message_count\n",
       "month                                          \n",
       "1        23787.341355  39.412656     262.367201\n",
       "2        36412.287961  37.150938     473.097701\n",
       "3        36823.155161  32.549897     718.492481\n",
       "4        34778.207127  31.299550     602.139559\n",
       "5        34820.061094  34.370010     730.990983\n",
       "6        30742.918861  31.911716     806.806374\n",
       "7        32250.269602  33.419453     799.887811\n",
       "8        34793.583379  30.041207     838.257501\n",
       "9        33535.342723  25.884110     790.617820\n",
       "10       35392.336375  32.897042     816.111966\n",
       "11       31605.237050  27.180952     805.937071\n",
       "12       39698.622033  29.786544     934.952346"
      ]
     },
     "metadata": {},
     "output_type": "display_data"
    }
   ],
   "source": [
    "#таблица по дисперсии\n",
    "user_month_info_ultra_var = user_month_info_ultra.pivot_table(index = 'month', values = {'calls_duration','gb','message_count'}, aggfunc = (np.var))\n",
    "user_month_info_smart_var = user_month_info_smart.pivot_table(index = 'month', values = {'calls_duration','gb','message_count'}, aggfunc = (np.var))\n",
    "display(user_month_info_ultra_var)\n",
    "display(user_month_info_smart_var)"
   ]
  },
  {
   "cell_type": "code",
   "execution_count": 78,
   "metadata": {
    "scrolled": false
   },
   "outputs": [
    {
     "data": {
      "text/html": [
       "<div>\n",
       "<style scoped>\n",
       "    .dataframe tbody tr th:only-of-type {\n",
       "        vertical-align: middle;\n",
       "    }\n",
       "\n",
       "    .dataframe tbody tr th {\n",
       "        vertical-align: top;\n",
       "    }\n",
       "\n",
       "    .dataframe thead th {\n",
       "        text-align: right;\n",
       "    }\n",
       "</style>\n",
       "<table border=\"1\" class=\"dataframe\">\n",
       "  <thead>\n",
       "    <tr style=\"text-align: right;\">\n",
       "      <th></th>\n",
       "      <th>calls_duration</th>\n",
       "      <th>gb</th>\n",
       "      <th>message_count</th>\n",
       "    </tr>\n",
       "    <tr>\n",
       "      <th>month</th>\n",
       "      <th></th>\n",
       "      <th></th>\n",
       "      <th></th>\n",
       "    </tr>\n",
       "  </thead>\n",
       "  <tbody>\n",
       "    <tr>\n",
       "      <td>1</td>\n",
       "      <td>269.757968</td>\n",
       "      <td>6.666667</td>\n",
       "      <td>30.670742</td>\n",
       "    </tr>\n",
       "    <tr>\n",
       "      <td>2</td>\n",
       "      <td>296.512528</td>\n",
       "      <td>10.446551</td>\n",
       "      <td>26.773574</td>\n",
       "    </tr>\n",
       "    <tr>\n",
       "      <td>3</td>\n",
       "      <td>333.743765</td>\n",
       "      <td>10.693238</td>\n",
       "      <td>41.621886</td>\n",
       "    </tr>\n",
       "    <tr>\n",
       "      <td>4</td>\n",
       "      <td>267.682405</td>\n",
       "      <td>9.457436</td>\n",
       "      <td>37.513831</td>\n",
       "    </tr>\n",
       "    <tr>\n",
       "      <td>5</td>\n",
       "      <td>289.603511</td>\n",
       "      <td>9.779130</td>\n",
       "      <td>40.306874</td>\n",
       "    </tr>\n",
       "    <tr>\n",
       "      <td>6</td>\n",
       "      <td>302.549081</td>\n",
       "      <td>9.077114</td>\n",
       "      <td>44.567899</td>\n",
       "    </tr>\n",
       "    <tr>\n",
       "      <td>7</td>\n",
       "      <td>307.119322</td>\n",
       "      <td>9.819905</td>\n",
       "      <td>48.703621</td>\n",
       "    </tr>\n",
       "    <tr>\n",
       "      <td>8</td>\n",
       "      <td>312.980026</td>\n",
       "      <td>10.254184</td>\n",
       "      <td>46.601923</td>\n",
       "    </tr>\n",
       "    <tr>\n",
       "      <td>9</td>\n",
       "      <td>325.141162</td>\n",
       "      <td>9.287410</td>\n",
       "      <td>46.398874</td>\n",
       "    </tr>\n",
       "    <tr>\n",
       "      <td>10</td>\n",
       "      <td>326.289110</td>\n",
       "      <td>9.552907</td>\n",
       "      <td>51.934398</td>\n",
       "    </tr>\n",
       "    <tr>\n",
       "      <td>11</td>\n",
       "      <td>310.757232</td>\n",
       "      <td>9.684867</td>\n",
       "      <td>49.768951</td>\n",
       "    </tr>\n",
       "    <tr>\n",
       "      <td>12</td>\n",
       "      <td>342.456321</td>\n",
       "      <td>10.160550</td>\n",
       "      <td>51.787821</td>\n",
       "    </tr>\n",
       "  </tbody>\n",
       "</table>\n",
       "</div>"
      ],
      "text/plain": [
       "       calls_duration         gb  message_count\n",
       "month                                          \n",
       "1          269.757968   6.666667      30.670742\n",
       "2          296.512528  10.446551      26.773574\n",
       "3          333.743765  10.693238      41.621886\n",
       "4          267.682405   9.457436      37.513831\n",
       "5          289.603511   9.779130      40.306874\n",
       "6          302.549081   9.077114      44.567899\n",
       "7          307.119322   9.819905      48.703621\n",
       "8          312.980026  10.254184      46.601923\n",
       "9          325.141162   9.287410      46.398874\n",
       "10         326.289110   9.552907      51.934398\n",
       "11         310.757232   9.684867      49.768951\n",
       "12         342.456321  10.160550      51.787821"
      ]
     },
     "metadata": {},
     "output_type": "display_data"
    },
    {
     "data": {
      "text/html": [
       "<div>\n",
       "<style scoped>\n",
       "    .dataframe tbody tr th:only-of-type {\n",
       "        vertical-align: middle;\n",
       "    }\n",
       "\n",
       "    .dataframe tbody tr th {\n",
       "        vertical-align: top;\n",
       "    }\n",
       "\n",
       "    .dataframe thead th {\n",
       "        text-align: right;\n",
       "    }\n",
       "</style>\n",
       "<table border=\"1\" class=\"dataframe\">\n",
       "  <thead>\n",
       "    <tr style=\"text-align: right;\">\n",
       "      <th></th>\n",
       "      <th>calls_duration</th>\n",
       "      <th>gb</th>\n",
       "      <th>message_count</th>\n",
       "    </tr>\n",
       "    <tr>\n",
       "      <th>month</th>\n",
       "      <th></th>\n",
       "      <th></th>\n",
       "      <th></th>\n",
       "    </tr>\n",
       "  </thead>\n",
       "  <tbody>\n",
       "    <tr>\n",
       "      <td>1</td>\n",
       "      <td>154.231454</td>\n",
       "      <td>6.277950</td>\n",
       "      <td>16.197753</td>\n",
       "    </tr>\n",
       "    <tr>\n",
       "      <td>2</td>\n",
       "      <td>190.820041</td>\n",
       "      <td>6.095157</td>\n",
       "      <td>21.750809</td>\n",
       "    </tr>\n",
       "    <tr>\n",
       "      <td>3</td>\n",
       "      <td>191.893604</td>\n",
       "      <td>5.705252</td>\n",
       "      <td>26.804710</td>\n",
       "    </tr>\n",
       "    <tr>\n",
       "      <td>4</td>\n",
       "      <td>186.489161</td>\n",
       "      <td>5.594600</td>\n",
       "      <td>24.538532</td>\n",
       "    </tr>\n",
       "    <tr>\n",
       "      <td>5</td>\n",
       "      <td>186.601343</td>\n",
       "      <td>5.862594</td>\n",
       "      <td>27.036845</td>\n",
       "    </tr>\n",
       "    <tr>\n",
       "      <td>6</td>\n",
       "      <td>175.336587</td>\n",
       "      <td>5.649046</td>\n",
       "      <td>28.404337</td>\n",
       "    </tr>\n",
       "    <tr>\n",
       "      <td>7</td>\n",
       "      <td>179.583601</td>\n",
       "      <td>5.780956</td>\n",
       "      <td>28.282288</td>\n",
       "    </tr>\n",
       "    <tr>\n",
       "      <td>8</td>\n",
       "      <td>186.530382</td>\n",
       "      <td>5.480986</td>\n",
       "      <td>28.952677</td>\n",
       "    </tr>\n",
       "    <tr>\n",
       "      <td>9</td>\n",
       "      <td>183.126576</td>\n",
       "      <td>5.087643</td>\n",
       "      <td>28.117927</td>\n",
       "    </tr>\n",
       "    <tr>\n",
       "      <td>10</td>\n",
       "      <td>188.128510</td>\n",
       "      <td>5.735594</td>\n",
       "      <td>28.567673</td>\n",
       "    </tr>\n",
       "    <tr>\n",
       "      <td>11</td>\n",
       "      <td>177.778618</td>\n",
       "      <td>5.213535</td>\n",
       "      <td>28.389031</td>\n",
       "    </tr>\n",
       "    <tr>\n",
       "      <td>12</td>\n",
       "      <td>199.245131</td>\n",
       "      <td>5.457705</td>\n",
       "      <td>30.576990</td>\n",
       "    </tr>\n",
       "  </tbody>\n",
       "</table>\n",
       "</div>"
      ],
      "text/plain": [
       "       calls_duration        gb  message_count\n",
       "month                                         \n",
       "1          154.231454  6.277950      16.197753\n",
       "2          190.820041  6.095157      21.750809\n",
       "3          191.893604  5.705252      26.804710\n",
       "4          186.489161  5.594600      24.538532\n",
       "5          186.601343  5.862594      27.036845\n",
       "6          175.336587  5.649046      28.404337\n",
       "7          179.583601  5.780956      28.282288\n",
       "8          186.530382  5.480986      28.952677\n",
       "9          183.126576  5.087643      28.117927\n",
       "10         188.128510  5.735594      28.567673\n",
       "11         177.778618  5.213535      28.389031\n",
       "12         199.245131  5.457705      30.576990"
      ]
     },
     "metadata": {},
     "output_type": "display_data"
    }
   ],
   "source": [
    "#таблица по стандартному отклонению\n",
    "user_month_info_ultra_std = user_month_info_ultra.pivot_table(index = 'month', values = {'calls_duration','gb','message_count'}, aggfunc = (np.std))\n",
    "user_month_info_smart_std = user_month_info_smart.pivot_table(index = 'month', values = {'calls_duration','gb','message_count'}, aggfunc = (np.std))\n",
    "display(user_month_info_ultra_std)\n",
    "display(user_month_info_smart_std)"
   ]
  },
  {
   "cell_type": "code",
   "execution_count": 79,
   "metadata": {
    "scrolled": true
   },
   "outputs": [
    {
     "data": {
      "text/html": [
       "<div>\n",
       "<style scoped>\n",
       "    .dataframe tbody tr th:only-of-type {\n",
       "        vertical-align: middle;\n",
       "    }\n",
       "\n",
       "    .dataframe tbody tr th {\n",
       "        vertical-align: top;\n",
       "    }\n",
       "\n",
       "    .dataframe thead th {\n",
       "        text-align: right;\n",
       "    }\n",
       "</style>\n",
       "<table border=\"1\" class=\"dataframe\">\n",
       "  <thead>\n",
       "    <tr style=\"text-align: right;\">\n",
       "      <th></th>\n",
       "      <th>calls_duration_std</th>\n",
       "      <th>gb_std</th>\n",
       "      <th>message_count_std</th>\n",
       "      <th>calls_duration_mean</th>\n",
       "      <th>gb_mean</th>\n",
       "      <th>message_count_mean</th>\n",
       "      <th>calls_duration_var</th>\n",
       "      <th>gb_var</th>\n",
       "      <th>message_count_var</th>\n",
       "    </tr>\n",
       "    <tr>\n",
       "      <th>month</th>\n",
       "      <th></th>\n",
       "      <th></th>\n",
       "      <th></th>\n",
       "      <th></th>\n",
       "      <th></th>\n",
       "      <th></th>\n",
       "      <th></th>\n",
       "      <th></th>\n",
       "      <th></th>\n",
       "    </tr>\n",
       "  </thead>\n",
       "  <tbody>\n",
       "    <tr>\n",
       "      <td>1</td>\n",
       "      <td>269.757968</td>\n",
       "      <td>6.666667</td>\n",
       "      <td>30.670742</td>\n",
       "      <td>428.111111</td>\n",
       "      <td>13.222222</td>\n",
       "      <td>33.777778</td>\n",
       "      <td>72769.361111</td>\n",
       "      <td>44.444444</td>\n",
       "      <td>940.694444</td>\n",
       "    </tr>\n",
       "    <tr>\n",
       "      <td>2</td>\n",
       "      <td>296.512528</td>\n",
       "      <td>10.446551</td>\n",
       "      <td>26.773574</td>\n",
       "      <td>297.125000</td>\n",
       "      <td>12.000000</td>\n",
       "      <td>21.958333</td>\n",
       "      <td>87919.679348</td>\n",
       "      <td>109.130435</td>\n",
       "      <td>716.824275</td>\n",
       "    </tr>\n",
       "    <tr>\n",
       "      <td>3</td>\n",
       "      <td>333.743765</td>\n",
       "      <td>10.693238</td>\n",
       "      <td>41.621886</td>\n",
       "      <td>489.648649</td>\n",
       "      <td>17.648649</td>\n",
       "      <td>32.297297</td>\n",
       "      <td>111384.900901</td>\n",
       "      <td>114.345345</td>\n",
       "      <td>1732.381381</td>\n",
       "    </tr>\n",
       "    <tr>\n",
       "      <td>4</td>\n",
       "      <td>267.682405</td>\n",
       "      <td>9.457436</td>\n",
       "      <td>37.513831</td>\n",
       "      <td>458.018182</td>\n",
       "      <td>16.963636</td>\n",
       "      <td>31.563636</td>\n",
       "      <td>71653.870034</td>\n",
       "      <td>89.443098</td>\n",
       "      <td>1407.287542</td>\n",
       "    </tr>\n",
       "    <tr>\n",
       "      <td>5</td>\n",
       "      <td>289.603511</td>\n",
       "      <td>9.779130</td>\n",
       "      <td>40.306874</td>\n",
       "      <td>510.328358</td>\n",
       "      <td>19.373134</td>\n",
       "      <td>37.850746</td>\n",
       "      <td>83870.193578</td>\n",
       "      <td>95.631389</td>\n",
       "      <td>1624.644052</td>\n",
       "    </tr>\n",
       "    <tr>\n",
       "      <td>6</td>\n",
       "      <td>302.549081</td>\n",
       "      <td>9.077114</td>\n",
       "      <td>44.567899</td>\n",
       "      <td>479.702381</td>\n",
       "      <td>18.940476</td>\n",
       "      <td>41.726190</td>\n",
       "      <td>91535.946500</td>\n",
       "      <td>82.394005</td>\n",
       "      <td>1986.297619</td>\n",
       "    </tr>\n",
       "    <tr>\n",
       "      <td>7</td>\n",
       "      <td>307.119322</td>\n",
       "      <td>9.819905</td>\n",
       "      <td>48.703621</td>\n",
       "      <td>545.791209</td>\n",
       "      <td>20.505495</td>\n",
       "      <td>49.846154</td>\n",
       "      <td>94322.278144</td>\n",
       "      <td>96.430525</td>\n",
       "      <td>2372.042735</td>\n",
       "    </tr>\n",
       "    <tr>\n",
       "      <td>8</td>\n",
       "      <td>312.980026</td>\n",
       "      <td>10.254184</td>\n",
       "      <td>46.601923</td>\n",
       "      <td>510.775701</td>\n",
       "      <td>19.598131</td>\n",
       "      <td>48.439252</td>\n",
       "      <td>97956.496385</td>\n",
       "      <td>105.148298</td>\n",
       "      <td>2171.739199</td>\n",
       "    </tr>\n",
       "    <tr>\n",
       "      <td>9</td>\n",
       "      <td>325.141162</td>\n",
       "      <td>9.287410</td>\n",
       "      <td>46.398874</td>\n",
       "      <td>539.443478</td>\n",
       "      <td>19.243478</td>\n",
       "      <td>52.286957</td>\n",
       "      <td>105716.775286</td>\n",
       "      <td>86.255988</td>\n",
       "      <td>2152.855530</td>\n",
       "    </tr>\n",
       "    <tr>\n",
       "      <td>10</td>\n",
       "      <td>326.289110</td>\n",
       "      <td>9.552907</td>\n",
       "      <td>51.934398</td>\n",
       "      <td>558.081301</td>\n",
       "      <td>20.065041</td>\n",
       "      <td>58.430894</td>\n",
       "      <td>106464.583500</td>\n",
       "      <td>91.258030</td>\n",
       "      <td>2697.181661</td>\n",
       "    </tr>\n",
       "    <tr>\n",
       "      <td>11</td>\n",
       "      <td>310.757232</td>\n",
       "      <td>9.684867</td>\n",
       "      <td>49.768951</td>\n",
       "      <td>541.380597</td>\n",
       "      <td>19.805970</td>\n",
       "      <td>55.791045</td>\n",
       "      <td>96570.057064</td>\n",
       "      <td>93.796656</td>\n",
       "      <td>2476.948491</td>\n",
       "    </tr>\n",
       "    <tr>\n",
       "      <td>12</td>\n",
       "      <td>342.456321</td>\n",
       "      <td>10.160550</td>\n",
       "      <td>51.787821</td>\n",
       "      <td>592.805755</td>\n",
       "      <td>21.741007</td>\n",
       "      <td>60.611511</td>\n",
       "      <td>117276.331561</td>\n",
       "      <td>103.236784</td>\n",
       "      <td>2681.978417</td>\n",
       "    </tr>\n",
       "  </tbody>\n",
       "</table>\n",
       "</div>"
      ],
      "text/plain": [
       "       calls_duration_std     gb_std  message_count_std  calls_duration_mean  \\\n",
       "month                                                                          \n",
       "1              269.757968   6.666667          30.670742           428.111111   \n",
       "2              296.512528  10.446551          26.773574           297.125000   \n",
       "3              333.743765  10.693238          41.621886           489.648649   \n",
       "4              267.682405   9.457436          37.513831           458.018182   \n",
       "5              289.603511   9.779130          40.306874           510.328358   \n",
       "6              302.549081   9.077114          44.567899           479.702381   \n",
       "7              307.119322   9.819905          48.703621           545.791209   \n",
       "8              312.980026  10.254184          46.601923           510.775701   \n",
       "9              325.141162   9.287410          46.398874           539.443478   \n",
       "10             326.289110   9.552907          51.934398           558.081301   \n",
       "11             310.757232   9.684867          49.768951           541.380597   \n",
       "12             342.456321  10.160550          51.787821           592.805755   \n",
       "\n",
       "         gb_mean  message_count_mean  calls_duration_var      gb_var  \\\n",
       "month                                                                  \n",
       "1      13.222222           33.777778        72769.361111   44.444444   \n",
       "2      12.000000           21.958333        87919.679348  109.130435   \n",
       "3      17.648649           32.297297       111384.900901  114.345345   \n",
       "4      16.963636           31.563636        71653.870034   89.443098   \n",
       "5      19.373134           37.850746        83870.193578   95.631389   \n",
       "6      18.940476           41.726190        91535.946500   82.394005   \n",
       "7      20.505495           49.846154        94322.278144   96.430525   \n",
       "8      19.598131           48.439252        97956.496385  105.148298   \n",
       "9      19.243478           52.286957       105716.775286   86.255988   \n",
       "10     20.065041           58.430894       106464.583500   91.258030   \n",
       "11     19.805970           55.791045        96570.057064   93.796656   \n",
       "12     21.741007           60.611511       117276.331561  103.236784   \n",
       "\n",
       "       message_count_var  \n",
       "month                     \n",
       "1             940.694444  \n",
       "2             716.824275  \n",
       "3            1732.381381  \n",
       "4            1407.287542  \n",
       "5            1624.644052  \n",
       "6            1986.297619  \n",
       "7            2372.042735  \n",
       "8            2171.739199  \n",
       "9            2152.855530  \n",
       "10           2697.181661  \n",
       "11           2476.948491  \n",
       "12           2681.978417  "
      ]
     },
     "metadata": {},
     "output_type": "display_data"
    },
    {
     "data": {
      "text/html": [
       "<div>\n",
       "<style scoped>\n",
       "    .dataframe tbody tr th:only-of-type {\n",
       "        vertical-align: middle;\n",
       "    }\n",
       "\n",
       "    .dataframe tbody tr th {\n",
       "        vertical-align: top;\n",
       "    }\n",
       "\n",
       "    .dataframe thead th {\n",
       "        text-align: right;\n",
       "    }\n",
       "</style>\n",
       "<table border=\"1\" class=\"dataframe\">\n",
       "  <thead>\n",
       "    <tr style=\"text-align: right;\">\n",
       "      <th></th>\n",
       "      <th>calls_duration_std</th>\n",
       "      <th>gb_std</th>\n",
       "      <th>message_count_std</th>\n",
       "      <th>calls_duration_mean</th>\n",
       "      <th>gb_mean</th>\n",
       "      <th>message_count_mean</th>\n",
       "      <th>calls_duration_var</th>\n",
       "      <th>gb_var</th>\n",
       "      <th>message_count_var</th>\n",
       "    </tr>\n",
       "    <tr>\n",
       "      <th>month</th>\n",
       "      <th></th>\n",
       "      <th></th>\n",
       "      <th></th>\n",
       "      <th></th>\n",
       "      <th></th>\n",
       "      <th></th>\n",
       "      <th></th>\n",
       "      <th></th>\n",
       "      <th></th>\n",
       "    </tr>\n",
       "  </thead>\n",
       "  <tbody>\n",
       "    <tr>\n",
       "      <td>1</td>\n",
       "      <td>154.231454</td>\n",
       "      <td>6.277950</td>\n",
       "      <td>16.197753</td>\n",
       "      <td>203.852941</td>\n",
       "      <td>8.735294</td>\n",
       "      <td>18.235294</td>\n",
       "      <td>23787.341355</td>\n",
       "      <td>39.412656</td>\n",
       "      <td>262.367201</td>\n",
       "    </tr>\n",
       "    <tr>\n",
       "      <td>2</td>\n",
       "      <td>190.820041</td>\n",
       "      <td>6.095157</td>\n",
       "      <td>21.750809</td>\n",
       "      <td>298.689655</td>\n",
       "      <td>11.844828</td>\n",
       "      <td>24.086207</td>\n",
       "      <td>36412.287961</td>\n",
       "      <td>37.150938</td>\n",
       "      <td>473.097701</td>\n",
       "    </tr>\n",
       "    <tr>\n",
       "      <td>3</td>\n",
       "      <td>191.893604</td>\n",
       "      <td>5.705252</td>\n",
       "      <td>26.804710</td>\n",
       "      <td>390.051948</td>\n",
       "      <td>15.233766</td>\n",
       "      <td>31.857143</td>\n",
       "      <td>36823.155161</td>\n",
       "      <td>32.549897</td>\n",
       "      <td>718.492481</td>\n",
       "    </tr>\n",
       "    <tr>\n",
       "      <td>4</td>\n",
       "      <td>186.489161</td>\n",
       "      <td>5.594600</td>\n",
       "      <td>24.538532</td>\n",
       "      <td>367.133929</td>\n",
       "      <td>13.625000</td>\n",
       "      <td>30.741071</td>\n",
       "      <td>34778.207127</td>\n",
       "      <td>31.299550</td>\n",
       "      <td>602.139559</td>\n",
       "    </tr>\n",
       "    <tr>\n",
       "      <td>5</td>\n",
       "      <td>186.601343</td>\n",
       "      <td>5.862594</td>\n",
       "      <td>27.036845</td>\n",
       "      <td>387.361702</td>\n",
       "      <td>15.907801</td>\n",
       "      <td>33.773050</td>\n",
       "      <td>34820.061094</td>\n",
       "      <td>34.370010</td>\n",
       "      <td>730.990983</td>\n",
       "    </tr>\n",
       "    <tr>\n",
       "      <td>6</td>\n",
       "      <td>175.336587</td>\n",
       "      <td>5.649046</td>\n",
       "      <td>28.404337</td>\n",
       "      <td>395.640244</td>\n",
       "      <td>15.951220</td>\n",
       "      <td>33.402439</td>\n",
       "      <td>30742.918861</td>\n",
       "      <td>31.911716</td>\n",
       "      <td>806.806374</td>\n",
       "    </tr>\n",
       "    <tr>\n",
       "      <td>7</td>\n",
       "      <td>179.583601</td>\n",
       "      <td>5.780956</td>\n",
       "      <td>28.282288</td>\n",
       "      <td>408.353234</td>\n",
       "      <td>15.875622</td>\n",
       "      <td>33.751244</td>\n",
       "      <td>32250.269602</td>\n",
       "      <td>33.419453</td>\n",
       "      <td>799.887811</td>\n",
       "    </tr>\n",
       "    <tr>\n",
       "      <td>8</td>\n",
       "      <td>186.530382</td>\n",
       "      <td>5.480986</td>\n",
       "      <td>28.952677</td>\n",
       "      <td>421.468085</td>\n",
       "      <td>16.736170</td>\n",
       "      <td>33.638298</td>\n",
       "      <td>34793.583379</td>\n",
       "      <td>30.041207</td>\n",
       "      <td>838.257501</td>\n",
       "    </tr>\n",
       "    <tr>\n",
       "      <td>9</td>\n",
       "      <td>183.126576</td>\n",
       "      <td>5.087643</td>\n",
       "      <td>28.117927</td>\n",
       "      <td>428.611538</td>\n",
       "      <td>16.392308</td>\n",
       "      <td>33.638462</td>\n",
       "      <td>33535.342723</td>\n",
       "      <td>25.884110</td>\n",
       "      <td>790.617820</td>\n",
       "    </tr>\n",
       "    <tr>\n",
       "      <td>10</td>\n",
       "      <td>188.128510</td>\n",
       "      <td>5.735594</td>\n",
       "      <td>28.567673</td>\n",
       "      <td>426.136054</td>\n",
       "      <td>16.880952</td>\n",
       "      <td>33.765306</td>\n",
       "      <td>35392.336375</td>\n",
       "      <td>32.897042</td>\n",
       "      <td>816.111966</td>\n",
       "    </tr>\n",
       "    <tr>\n",
       "      <td>11</td>\n",
       "      <td>177.778618</td>\n",
       "      <td>5.213535</td>\n",
       "      <td>28.389031</td>\n",
       "      <td>435.265823</td>\n",
       "      <td>17.000000</td>\n",
       "      <td>34.075949</td>\n",
       "      <td>31605.237050</td>\n",
       "      <td>27.180952</td>\n",
       "      <td>805.937071</td>\n",
       "    </tr>\n",
       "    <tr>\n",
       "      <td>12</td>\n",
       "      <td>199.245131</td>\n",
       "      <td>5.457705</td>\n",
       "      <td>30.576990</td>\n",
       "      <td>478.560831</td>\n",
       "      <td>18.201780</td>\n",
       "      <td>35.994065</td>\n",
       "      <td>39698.622033</td>\n",
       "      <td>29.786544</td>\n",
       "      <td>934.952346</td>\n",
       "    </tr>\n",
       "  </tbody>\n",
       "</table>\n",
       "</div>"
      ],
      "text/plain": [
       "       calls_duration_std    gb_std  message_count_std  calls_duration_mean  \\\n",
       "month                                                                         \n",
       "1              154.231454  6.277950          16.197753           203.852941   \n",
       "2              190.820041  6.095157          21.750809           298.689655   \n",
       "3              191.893604  5.705252          26.804710           390.051948   \n",
       "4              186.489161  5.594600          24.538532           367.133929   \n",
       "5              186.601343  5.862594          27.036845           387.361702   \n",
       "6              175.336587  5.649046          28.404337           395.640244   \n",
       "7              179.583601  5.780956          28.282288           408.353234   \n",
       "8              186.530382  5.480986          28.952677           421.468085   \n",
       "9              183.126576  5.087643          28.117927           428.611538   \n",
       "10             188.128510  5.735594          28.567673           426.136054   \n",
       "11             177.778618  5.213535          28.389031           435.265823   \n",
       "12             199.245131  5.457705          30.576990           478.560831   \n",
       "\n",
       "         gb_mean  message_count_mean  calls_duration_var     gb_var  \\\n",
       "month                                                                 \n",
       "1       8.735294           18.235294        23787.341355  39.412656   \n",
       "2      11.844828           24.086207        36412.287961  37.150938   \n",
       "3      15.233766           31.857143        36823.155161  32.549897   \n",
       "4      13.625000           30.741071        34778.207127  31.299550   \n",
       "5      15.907801           33.773050        34820.061094  34.370010   \n",
       "6      15.951220           33.402439        30742.918861  31.911716   \n",
       "7      15.875622           33.751244        32250.269602  33.419453   \n",
       "8      16.736170           33.638298        34793.583379  30.041207   \n",
       "9      16.392308           33.638462        33535.342723  25.884110   \n",
       "10     16.880952           33.765306        35392.336375  32.897042   \n",
       "11     17.000000           34.075949        31605.237050  27.180952   \n",
       "12     18.201780           35.994065        39698.622033  29.786544   \n",
       "\n",
       "       message_count_var  \n",
       "month                     \n",
       "1             262.367201  \n",
       "2             473.097701  \n",
       "3             718.492481  \n",
       "4             602.139559  \n",
       "5             730.990983  \n",
       "6             806.806374  \n",
       "7             799.887811  \n",
       "8             838.257501  \n",
       "9             790.617820  \n",
       "10            816.111966  \n",
       "11            805.937071  \n",
       "12            934.952346  "
      ]
     },
     "metadata": {},
     "output_type": "display_data"
    }
   ],
   "source": [
    "#общая по среднему, стандартному, и дисперсии\n",
    "user_month_info_ultra_all = user_month_info_ultra_std.merge(user_month_info_ultra_mean, left_index = True,right_index = True, how = 'left',suffixes=('_std', '_mean')).merge(user_month_info_ultra_var, left_index = True,right_index = True, how = 'left')\n",
    "user_month_info_ultra_all.rename(columns = {'calls_duration' :'calls_duration_var','gb' :'gb_var','message_count' :'message_count_var'}, inplace = True)\n",
    "\n",
    "user_month_info_smart_all = user_month_info_smart_std.merge(user_month_info_smart_mean, left_index = True,right_index = True, how = 'left',suffixes=('_std', '_mean')).merge(user_month_info_smart_var, left_index = True,right_index = True, how = 'left')\n",
    "user_month_info_smart_all.rename(columns = {'calls_duration' :'calls_duration_var','gb' :'gb_var','message_count' :'message_count_var'}, inplace = True)\n",
    "\n",
    "display(user_month_info_ultra_all)\n",
    "display(user_month_info_smart_all)"
   ]
  },
  {
   "cell_type": "markdown",
   "metadata": {},
   "source": [
    "Получили таблицу по дисперсии, стнадартному отклонению, и среднему"
   ]
  },
  {
   "cell_type": "code",
   "execution_count": 80,
   "metadata": {},
   "outputs": [
    {
     "data": {
      "text/plain": [
       "Text(0, 0.5, 'смс')"
      ]
     },
     "execution_count": 80,
     "metadata": {},
     "output_type": "execute_result"
    },
    {
     "data": {
      "image/png": "[encoded data removed]",
      "text/plain": [
       "<Figure size 432x288 with 1 Axes>"
      ]
     },
     "metadata": {
      "needs_background": "light"
     },
     "output_type": "display_data"
    },
    {
     "data": {
      "image/png": "[encoded data removed]",
      "text/plain": [
       "<Figure size 432x288 with 1 Axes>"
      ]
     },
     "metadata": {
      "needs_background": "light"
     },
     "output_type": "display_data"
    },
    {
     "data": {
      "image/png": "[encoded data removed]",
      "text/plain": [
       "<Figure size 432x288 with 1 Axes>"
      ]
     },
     "metadata": {
      "needs_background": "light"
     },
     "output_type": "display_data"
    }
   ],
   "source": [
    "user_month_info_calls = user_month_info.pivot_table(index = 'month', columns = 'tariff',values = 'calls_duration', aggfunc = 'mean')\n",
    "user_month_info_gb = user_month_info.pivot_table(index = 'month', columns = 'tariff',values = 'gb', aggfunc = 'mean')\n",
    "user_month_info_message = user_month_info.pivot_table(index = 'month', columns = 'tariff',values = 'message_count', aggfunc = 'mean')\n",
    "user_month_info_calls.plot(kind = 'bar')\n",
    "plt.title(\"Количество минут звонков в месяц\")\n",
    "plt.xlabel(\"месяц\")\n",
    "plt.ylabel(\"минут\")\n",
    "user_month_info_gb.plot(kind = 'bar')\n",
    "plt.title(\"Количество гб в месяц\")\n",
    "plt.xlabel(\"месяц\")\n",
    "plt.ylabel(\"Гб\")\n",
    "user_month_info_message.plot(kind = 'bar')\n",
    "plt.title(\"Количество смс в месяц\")\n",
    "plt.xlabel(\"месяц\")\n",
    "plt.ylabel(\"смс\")"
   ]
  },
  {
   "cell_type": "markdown",
   "metadata": {},
   "source": [
    "В среднем пользователи тарифа ультра пользуются всем больше, чем пользователи смарт тарифа, однако разрыв судя по графикам не такой большой особенно в трафике и звонках. Что интрересно, пользователи утльтра в среднем далеки от исчерпания полного пакета, который дает им оператор. Пользователи смарт \"уходят\" за 15 гб почти всегда начиная с июня. По смс и звонкам в срднем пользователи не уходят за границы своих тарифов."
   ]
  },
  {
   "cell_type": "code",
   "execution_count": 81,
   "metadata": {},
   "outputs": [
    {
     "data": {
      "text/plain": [
       "<matplotlib.axes._subplots.AxesSubplot at 0x7fab17c87710>"
      ]
     },
     "execution_count": 81,
     "metadata": {},
     "output_type": "execute_result"
    },
    {
     "data": {
      "image/png": "[encoded data removed]",
      "text/plain": [
       "<Figure size 432x288 with 1 Axes>"
      ]
     },
     "metadata": {
      "needs_background": "light"
     },
     "output_type": "display_data"
    }
   ],
   "source": [
    "user_month_info['gb'].hist(bins = 100)"
   ]
  },
  {
   "cell_type": "code",
   "execution_count": 82,
   "metadata": {},
   "outputs": [
    {
     "data": {
      "text/plain": [
       "<matplotlib.axes._subplots.AxesSubplot at 0x7fab23c38410>"
      ]
     },
     "execution_count": 82,
     "metadata": {},
     "output_type": "execute_result"
    },
    {
     "data": {
      "image/png": "[encoded data removed]",
      "text/plain": [
       "<Figure size 432x288 with 1 Axes>"
      ]
     },
     "metadata": {
      "needs_background": "light"
     },
     "output_type": "display_data"
    }
   ],
   "source": [
    "user_month_info['calls_duration'].hist(bins = 100)"
   ]
  },
  {
   "cell_type": "code",
   "execution_count": 83,
   "metadata": {
    "scrolled": true
   },
   "outputs": [
    {
     "data": {
      "text/plain": [
       "<matplotlib.axes._subplots.AxesSubplot at 0x7fab23afaed0>"
      ]
     },
     "execution_count": 83,
     "metadata": {},
     "output_type": "execute_result"
    },
    {
     "data": {
      "image/png": "[encoded data removed]",
      "text/plain": [
       "<Figure size 432x288 with 1 Axes>"
      ]
     },
     "metadata": {
      "needs_background": "light"
     },
     "output_type": "display_data"
    }
   ],
   "source": [
    "user_month_info['message_count'].hist(bins = 100)"
   ]
  },
  {
   "cell_type": "markdown",
   "metadata": {},
   "source": [
    "По всем тарифам чаще всего используют от 15-20 гб трафика. Чаще всего говорят около 500 минут в месяц, и не отправляют сообщений или отправляют очень мало"
   ]
  },
  {
   "cell_type": "code",
   "execution_count": 84,
   "metadata": {},
   "outputs": [
    {
     "data": {
      "text/plain": [
       "<matplotlib.axes._subplots.AxesSubplot at 0x7fab2347fc90>"
      ]
     },
     "execution_count": 84,
     "metadata": {},
     "output_type": "execute_result"
    },
    {
     "data": {
      "image/png": "[encoded data removed]",
      "text/plain": [
       "<Figure size 432x288 with 1 Axes>"
      ]
     },
     "metadata": {
      "needs_background": "light"
     },
     "output_type": "display_data"
    },
    {
     "data": {
      "image/png": "[encoded data removed]",
      "text/plain": [
       "<Figure size 432x288 with 1 Axes>"
      ]
     },
     "metadata": {
      "needs_background": "light"
     },
     "output_type": "display_data"
    }
   ],
   "source": [
    "plt.figure()\n",
    "user_month_info_ultra['gb'].hist(bins = 100)\n",
    "plt.figure()\n",
    "user_month_info_smart['gb'].hist(bins = 100)\n"
   ]
  },
  {
   "cell_type": "code",
   "execution_count": 85,
   "metadata": {},
   "outputs": [
    {
     "data": {
      "text/plain": [
       "<matplotlib.axes._subplots.AxesSubplot at 0x7fab23349f10>"
      ]
     },
     "execution_count": 85,
     "metadata": {},
     "output_type": "execute_result"
    },
    {
     "data": {
      "image/png": "[encoded data removed]",
      "text/plain": [
       "<Figure size 432x288 with 1 Axes>"
      ]
     },
     "metadata": {
      "needs_background": "light"
     },
     "output_type": "display_data"
    },
    {
     "data": {
      "image/png": "[encoded data removed]",
      "text/plain": [
       "<Figure size 432x288 with 1 Axes>"
      ]
     },
     "metadata": {
      "needs_background": "light"
     },
     "output_type": "display_data"
    }
   ],
   "source": [
    "plt.figure()\n",
    "user_month_info_ultra['calls_duration'].hist(bins = 100)\n",
    "plt.figure()\n",
    "user_month_info_smart['calls_duration'].hist(bins = 100)"
   ]
  },
  {
   "cell_type": "code",
   "execution_count": 86,
   "metadata": {
    "scrolled": false
   },
   "outputs": [
    {
     "data": {
      "text/plain": [
       "<matplotlib.axes._subplots.AxesSubplot at 0x7fab22fe7250>"
      ]
     },
     "execution_count": 86,
     "metadata": {},
     "output_type": "execute_result"
    },
    {
     "data": {
      "image/png": "[encoded data removed]",
      "text/plain": [
       "<Figure size 432x288 with 1 Axes>"
      ]
     },
     "metadata": {
      "needs_background": "light"
     },
     "output_type": "display_data"
    },
    {
     "data": {
      "image/png": "[encoded data removed]",
      "text/plain": [
       "<Figure size 432x288 with 1 Axes>"
      ]
     },
     "metadata": {
      "needs_background": "light"
     },
     "output_type": "display_data"
    }
   ],
   "source": [
    "plt.figure()\n",
    "user_month_info_ultra['message_count'].hist(bins = 100)\n",
    "plt.figure()\n",
    "user_month_info_smart['message_count'].hist(bins = 100)"
   ]
  },
  {
   "cell_type": "markdown",
   "metadata": {},
   "source": [
    "**Вывод:** \n",
    "Интересно что смс равно непопулярны по всем тарифам. На тарифах смарт распределение звонком по минутам более равномерно,чем на тарифах ультра, где чаще говорят от 300 до 600 минут.Интернетом больше пользуются на тарифах ультра, есть более заметная группа кто использует больше 30 гб в месяц. Смс равно непопулярны на двух тарифах, этим кстати можно объяснить относительную непопулярность тарифа ультра, например я бы не стал платить за смс которыми даже не пользуюьсь, а гб трафика сложнее спрогнозировать, поэтому в какие то месяцы тратишь больше, в другие меньше, и многие скорее всего не хотят платить каждый месяц большую сумму, и они готовы в один конркетный месяц заплатить больше, но в дургие меньше(по своему тарифу). Конечно тут \"направшивается\" тарифный план где больше интернет трафика чем в смарт, но цена ниже чем в ультра, но без лишних смс, такой тариф скорее всего был бы самым популярным"
   ]
  },
  {
   "cell_type": "markdown",
   "metadata": {},
   "source": [
    "## Проверка гипотез"
   ]
  },
  {
   "cell_type": "markdown",
   "metadata": {},
   "source": [
    "1)Средняя выручка пользователей тарифов «Ультра» и «Смарт» различаются;\n",
    "\n",
    "Сформируем нулевую гипотезу: что средняя выручка пользователей тарифов «Ультра» и «Смарт» равны\n",
    "Сформируем альтернативну гипотезу: что средняя выручка пользователей тарифов «Ультра» и «Смарт» не равны\n",
    "\n"
   ]
  },
  {
   "cell_type": "code",
   "execution_count": 87,
   "metadata": {},
   "outputs": [
    {
     "name": "stdout",
     "output_type": "stream",
     "text": [
      "Отвергаем нулевую гипотезу\n"
     ]
    }
   ],
   "source": [
    "alpha = 0.05\n",
    "s_rev = user_month_info_smart['revenue']\n",
    "u_rev = user_month_info_ultra['revenue']\n",
    "results = st.ttest_ind(s_rev,u_rev)\n",
    "if results.pvalue < alpha:\n",
    "    print(\"Отвергаем нулевую гипотезу\")\n",
    "else:\n",
    "    print(\"Не получилось отвергнуть нулевую гипотезу\")"
   ]
  },
  {
   "cell_type": "markdown",
   "metadata": {},
   "source": [
    "**Делаем вывод, что выручка по двум тарифам не равна**"
   ]
  },
  {
   "cell_type": "markdown",
   "metadata": {},
   "source": [
    "2)Средняя выручка пользователей из Москвы отличается от выручки пользователей из других регионов.\n",
    "\n",
    "Сформируем нулевую гипотезу: что средняя выручка пользователей из Москвы неотличается от выручки пользователей из других регионов\n",
    "\n",
    "Сформируем альтернативную гипотезу: что средняя выручка пользователей из Москвы отличается от выручки пользователей из других регионов"
   ]
  },
  {
   "cell_type": "code",
   "execution_count": 88,
   "metadata": {},
   "outputs": [
    {
     "name": "stdout",
     "output_type": "stream",
     "text": [
      "Не получилось отвергнуть нулевую гипотезу\n"
     ]
    }
   ],
   "source": [
    "m_rev = user_month_info[user_month_info['city_analyst']=='Москва']['revenue']\n",
    "o_rev = user_month_info[user_month_info['city_analyst']=='другое']['revenue']\n",
    "results = st.ttest_ind(m_rev,o_rev)\n",
    "if results.pvalue < alpha:\n",
    "    print(\"Отвергаем нулевую гипотезу\")\n",
    "else:\n",
    "    print(\"Не получилось отвергнуть нулевую гипотезу\")"
   ]
  },
  {
   "cell_type": "code",
   "execution_count": 89,
   "metadata": {},
   "outputs": [
    {
     "data": {
      "text/plain": [
       "1289.9735307312696"
      ]
     },
     "metadata": {},
     "output_type": "display_data"
    },
    {
     "data": {
      "text/plain": [
       "2070.1522842639592"
      ]
     },
     "metadata": {},
     "output_type": "display_data"
    }
   ],
   "source": [
    "display(user_month_info_smart['revenue'].mean())\n",
    "display(user_month_info_ultra['revenue'].mean())"
   ]
  },
  {
   "cell_type": "markdown",
   "metadata": {},
   "source": [
    "**Вывод:** в Москве и регионах средняя выручка равны"
   ]
  },
  {
   "cell_type": "markdown",
   "metadata": {},
   "source": [
    "## Общий вывод"
   ]
  },
  {
   "cell_type": "markdown",
   "metadata": {},
   "source": [
    "Были проверены гипотезы о том, что \n",
    "* средняя выручка пользователей тарифов «Ультра» и «Смарт» различаются;\n",
    "* средняя выручка пользователей из Москвы отличается от выручки пользователей из других регионов.\n",
    "Первую мы подтвердилди,а вторую опровергли\n",
    "Конечно с точки зрения ежемесячных платежей, для оператора выгоднее тариф \"ультра\", однако по тарифу \"смарт\" гораздо чаще происходят превышения ежемесячных платежей, в то же время по \"ультра\" почти все укладываются в пакет.\n",
    "\n",
    "С точки зрения нагрузки на инфраструктуру оператора, и расчетов сколько стоит передача 1 гб трафика нельзя сказать что \"ультра\" тариф лучше для оператора, тут не хватает данных. А так самый очевидный вывод, что где больше абонентская плата тот и приносит больше денег.\n",
    "\n",
    "\n"
   ]
  }
 ],
 "metadata": {
  "ExecuteTimeLog": [
   {
    "duration": 668,
    "start_time": "2021-12-12T13:45:37.263Z"
   },
   {
    "duration": 480,
    "start_time": "2021-12-12T13:47:42.845Z"
   },
   {
    "duration": 31,
    "start_time": "2021-12-12T13:47:53.593Z"
   },
   {
    "duration": 327,
    "start_time": "2021-12-13T09:57:27.585Z"
   },
   {
    "duration": 629,
    "start_time": "2021-12-13T09:57:41.936Z"
   },
   {
    "duration": 388,
    "start_time": "2021-12-13T09:57:42.567Z"
   },
   {
    "duration": 32,
    "start_time": "2021-12-13T09:57:42.957Z"
   },
   {
    "duration": 105,
    "start_time": "2021-12-13T10:01:22.481Z"
   },
   {
    "duration": 98,
    "start_time": "2021-12-13T10:01:27.622Z"
   },
   {
    "duration": 30,
    "start_time": "2021-12-13T10:11:22.627Z"
   },
   {
    "duration": 89,
    "start_time": "2021-12-13T10:40:53.123Z"
   },
   {
    "duration": 22,
    "start_time": "2021-12-13T10:41:25.823Z"
   },
   {
    "duration": 4,
    "start_time": "2021-12-13T10:41:33.892Z"
   },
   {
    "duration": 655,
    "start_time": "2021-12-13T10:54:43.416Z"
   },
   {
    "duration": 416,
    "start_time": "2021-12-13T10:54:44.074Z"
   },
   {
    "duration": 106,
    "start_time": "2021-12-13T10:54:44.493Z"
   },
   {
    "duration": 83,
    "start_time": "2021-12-13T10:54:44.602Z"
   },
   {
    "duration": 67,
    "start_time": "2021-12-13T10:54:44.687Z"
   },
   {
    "duration": 23,
    "start_time": "2021-12-13T10:54:44.756Z"
   },
   {
    "duration": 361,
    "start_time": "2021-12-13T10:54:44.781Z"
   },
   {
    "duration": 277,
    "start_time": "2021-12-13T11:10:22.578Z"
   },
   {
    "duration": 726,
    "start_time": "2021-12-13T11:10:40.457Z"
   },
   {
    "duration": 389,
    "start_time": "2021-12-13T11:10:41.185Z"
   },
   {
    "duration": 100,
    "start_time": "2021-12-13T11:10:41.576Z"
   },
   {
    "duration": 80,
    "start_time": "2021-12-13T11:10:41.677Z"
   },
   {
    "duration": 30,
    "start_time": "2021-12-13T11:10:41.759Z"
   },
   {
    "duration": 21,
    "start_time": "2021-12-13T11:10:41.790Z"
   },
   {
    "duration": 335,
    "start_time": "2021-12-13T11:10:45.482Z"
   },
   {
    "duration": 74,
    "start_time": "2021-12-13T11:11:44.790Z"
   },
   {
    "duration": 65,
    "start_time": "2021-12-13T11:12:02.459Z"
   },
   {
    "duration": 511,
    "start_time": "2021-12-13T11:18:08.015Z"
   },
   {
    "duration": 89,
    "start_time": "2021-12-13T11:18:27.693Z"
   },
   {
    "duration": 597,
    "start_time": "2021-12-13T17:22:51.962Z"
   },
   {
    "duration": 978,
    "start_time": "2021-12-13T17:22:52.561Z"
   },
   {
    "duration": 105,
    "start_time": "2021-12-13T17:22:53.542Z"
   },
   {
    "duration": 78,
    "start_time": "2021-12-13T17:22:53.648Z"
   },
   {
    "duration": 27,
    "start_time": "2021-12-13T17:22:53.728Z"
   },
   {
    "duration": 24,
    "start_time": "2021-12-13T17:22:53.800Z"
   },
   {
    "duration": 150,
    "start_time": "2021-12-13T17:22:53.826Z"
   },
   {
    "duration": 23,
    "start_time": "2021-12-13T17:22:53.978Z"
   },
   {
    "duration": 20,
    "start_time": "2021-12-13T17:23:02.752Z"
   },
   {
    "duration": 47,
    "start_time": "2021-12-13T17:27:34.617Z"
   },
   {
    "duration": 36,
    "start_time": "2021-12-13T17:30:53.092Z"
   },
   {
    "duration": 41,
    "start_time": "2021-12-13T17:31:42.624Z"
   },
   {
    "duration": 52,
    "start_time": "2021-12-13T17:31:52.583Z"
   },
   {
    "duration": 50,
    "start_time": "2021-12-13T17:37:43.969Z"
   },
   {
    "duration": 44,
    "start_time": "2021-12-13T17:38:20.017Z"
   },
   {
    "duration": 53,
    "start_time": "2021-12-13T17:38:27.496Z"
   },
   {
    "duration": 62,
    "start_time": "2021-12-13T17:41:17.970Z"
   },
   {
    "duration": 56,
    "start_time": "2021-12-13T17:41:56.038Z"
   },
   {
    "duration": 59,
    "start_time": "2021-12-13T17:42:15.066Z"
   },
   {
    "duration": 371,
    "start_time": "2021-12-13T17:43:00.138Z"
   },
   {
    "duration": 7365,
    "start_time": "2021-12-13T17:43:10.061Z"
   },
   {
    "duration": 6494,
    "start_time": "2021-12-13T17:43:21.970Z"
   },
   {
    "duration": 4915,
    "start_time": "2021-12-13T17:43:45.612Z"
   },
   {
    "duration": 57,
    "start_time": "2021-12-13T17:44:07.120Z"
   },
   {
    "duration": 272,
    "start_time": "2021-12-13T17:46:32.674Z"
   },
   {
    "duration": 79,
    "start_time": "2021-12-13T17:48:26.574Z"
   },
   {
    "duration": 4659,
    "start_time": "2021-12-13T17:49:38.116Z"
   },
   {
    "duration": 7,
    "start_time": "2021-12-13T17:49:54.003Z"
   },
   {
    "duration": 8,
    "start_time": "2021-12-13T17:50:28.385Z"
   },
   {
    "duration": 289,
    "start_time": "2021-12-13T17:50:45.145Z"
   },
   {
    "duration": 2569,
    "start_time": "2021-12-13T17:50:58.869Z"
   },
   {
    "duration": 1634,
    "start_time": "2021-12-13T17:51:17.617Z"
   },
   {
    "duration": 7,
    "start_time": "2021-12-13T17:51:24.053Z"
   },
   {
    "duration": 1634,
    "start_time": "2021-12-13T17:51:40.663Z"
   },
   {
    "duration": 11,
    "start_time": "2021-12-13T17:51:55.914Z"
   },
   {
    "duration": 47,
    "start_time": "2021-12-13T17:53:10.664Z"
   },
   {
    "duration": 8,
    "start_time": "2021-12-13T17:53:34.722Z"
   },
   {
    "duration": 41,
    "start_time": "2021-12-13T17:56:56.172Z"
   },
   {
    "duration": 43,
    "start_time": "2021-12-13T17:57:37.212Z"
   },
   {
    "duration": 24,
    "start_time": "2021-12-13T17:57:43.344Z"
   },
   {
    "duration": 576,
    "start_time": "2021-12-13T17:59:08.577Z"
   },
   {
    "duration": 1021,
    "start_time": "2021-12-13T17:59:09.154Z"
   },
   {
    "duration": 91,
    "start_time": "2021-12-13T17:59:10.177Z"
   },
   {
    "duration": 90,
    "start_time": "2021-12-13T17:59:10.270Z"
   },
   {
    "duration": 49,
    "start_time": "2021-12-13T17:59:10.362Z"
   },
   {
    "duration": 20,
    "start_time": "2021-12-13T17:59:10.412Z"
   },
   {
    "duration": 135,
    "start_time": "2021-12-13T17:59:10.433Z"
   },
   {
    "duration": 975,
    "start_time": "2021-12-13T17:59:10.570Z"
   },
   {
    "duration": 6729,
    "start_time": "2021-12-13T18:07:41.382Z"
   },
   {
    "duration": 6,
    "start_time": "2021-12-13T18:08:13.162Z"
   },
   {
    "duration": 21,
    "start_time": "2021-12-13T18:08:33.522Z"
   },
   {
    "duration": 259,
    "start_time": "2021-12-13T18:13:12.201Z"
   },
   {
    "duration": 244,
    "start_time": "2021-12-13T18:13:37.161Z"
   },
   {
    "duration": 32,
    "start_time": "2021-12-13T18:13:58.134Z"
   },
   {
    "duration": 5981,
    "start_time": "2021-12-13T18:14:19.312Z"
   },
   {
    "duration": 32,
    "start_time": "2021-12-13T18:14:28.290Z"
   },
   {
    "duration": 37,
    "start_time": "2021-12-13T18:16:27.836Z"
   },
   {
    "duration": 31,
    "start_time": "2021-12-13T18:17:06.660Z"
   },
   {
    "duration": 275,
    "start_time": "2021-12-13T18:17:16.270Z"
   },
   {
    "duration": 277,
    "start_time": "2021-12-13T18:17:21.144Z"
   },
   {
    "duration": 273,
    "start_time": "2021-12-13T18:17:28.393Z"
   },
   {
    "duration": 31,
    "start_time": "2021-12-13T18:17:34.122Z"
   },
   {
    "duration": 32,
    "start_time": "2021-12-13T18:17:56.564Z"
   },
   {
    "duration": 36,
    "start_time": "2021-12-13T18:18:04.732Z"
   },
   {
    "duration": 51,
    "start_time": "2021-12-13T18:21:15.241Z"
   },
   {
    "duration": 44,
    "start_time": "2021-12-13T18:24:57.007Z"
   },
   {
    "duration": 73,
    "start_time": "2021-12-13T18:34:00.074Z"
   },
   {
    "duration": 57,
    "start_time": "2021-12-13T18:35:50.059Z"
   },
   {
    "duration": 585,
    "start_time": "2021-12-13T18:42:08.212Z"
   },
   {
    "duration": 955,
    "start_time": "2021-12-13T18:42:08.799Z"
   },
   {
    "duration": 35,
    "start_time": "2021-12-13T18:42:09.756Z"
   },
   {
    "duration": 24,
    "start_time": "2021-12-13T18:42:09.792Z"
   },
   {
    "duration": 170,
    "start_time": "2021-12-13T18:42:09.818Z"
   },
   {
    "duration": 79,
    "start_time": "2021-12-13T18:42:09.990Z"
   },
   {
    "duration": 342,
    "start_time": "2021-12-13T18:42:10.071Z"
   },
   {
    "duration": 37,
    "start_time": "2021-12-13T18:46:15.126Z"
   },
   {
    "duration": 303,
    "start_time": "2021-12-13T18:46:31.018Z"
   },
   {
    "duration": 37,
    "start_time": "2021-12-13T18:47:03.592Z"
   },
   {
    "duration": 278,
    "start_time": "2021-12-13T18:48:54.446Z"
   },
   {
    "duration": 51,
    "start_time": "2021-12-13T18:49:21.814Z"
   },
   {
    "duration": 88,
    "start_time": "2021-12-13T18:49:43.044Z"
   },
   {
    "duration": 43,
    "start_time": "2021-12-13T18:49:53.234Z"
   },
   {
    "duration": 39,
    "start_time": "2021-12-13T18:50:08.197Z"
   },
   {
    "duration": 17,
    "start_time": "2021-12-13T18:58:00.942Z"
   },
   {
    "duration": 17,
    "start_time": "2021-12-13T18:58:24.896Z"
   },
   {
    "duration": 222,
    "start_time": "2021-12-13T18:58:38.445Z"
   },
   {
    "duration": 27,
    "start_time": "2021-12-13T18:59:10.374Z"
   },
   {
    "duration": 17,
    "start_time": "2021-12-13T18:59:37.120Z"
   },
   {
    "duration": 257,
    "start_time": "2021-12-13T19:01:02.830Z"
   },
   {
    "duration": 21,
    "start_time": "2021-12-13T19:01:27.352Z"
   },
   {
    "duration": 12,
    "start_time": "2021-12-13T19:05:18.755Z"
   },
   {
    "duration": 12,
    "start_time": "2021-12-13T19:05:25.945Z"
   },
   {
    "duration": 534,
    "start_time": "2021-12-13T19:05:44.542Z"
   },
   {
    "duration": 375,
    "start_time": "2021-12-13T19:05:45.077Z"
   },
   {
    "duration": 31,
    "start_time": "2021-12-13T19:05:45.455Z"
   },
   {
    "duration": 25,
    "start_time": "2021-12-13T19:05:45.488Z"
   },
   {
    "duration": 176,
    "start_time": "2021-12-13T19:05:45.515Z"
   },
   {
    "duration": 87,
    "start_time": "2021-12-13T19:05:45.692Z"
   },
   {
    "duration": 55,
    "start_time": "2021-12-13T19:05:45.781Z"
   },
   {
    "duration": 23,
    "start_time": "2021-12-13T19:05:45.838Z"
   },
   {
    "duration": 575,
    "start_time": "2021-12-13T19:07:47.189Z"
   },
   {
    "duration": 432,
    "start_time": "2021-12-13T19:07:47.766Z"
   },
   {
    "duration": 44,
    "start_time": "2021-12-13T19:07:48.200Z"
   },
   {
    "duration": 20,
    "start_time": "2021-12-13T19:07:48.246Z"
   },
   {
    "duration": 171,
    "start_time": "2021-12-13T19:07:48.268Z"
   },
   {
    "duration": 92,
    "start_time": "2021-12-13T19:07:48.440Z"
   },
   {
    "duration": 74,
    "start_time": "2021-12-13T19:07:48.534Z"
   },
   {
    "duration": 29,
    "start_time": "2021-12-13T19:07:48.610Z"
   },
   {
    "duration": 282,
    "start_time": "2021-12-13T19:12:32.058Z"
   },
   {
    "duration": 14,
    "start_time": "2021-12-13T19:12:43.934Z"
   },
   {
    "duration": 264,
    "start_time": "2021-12-13T19:12:54.073Z"
   },
   {
    "duration": 17,
    "start_time": "2021-12-13T19:13:04.449Z"
   },
   {
    "duration": 13,
    "start_time": "2021-12-13T19:15:37.335Z"
   },
   {
    "duration": 9,
    "start_time": "2021-12-13T19:15:48.441Z"
   },
   {
    "duration": 15,
    "start_time": "2021-12-13T19:15:56.230Z"
   },
   {
    "duration": 247,
    "start_time": "2021-12-13T19:16:16.869Z"
   },
   {
    "duration": 1525,
    "start_time": "2021-12-13T19:18:45.201Z"
   },
   {
    "duration": 1393,
    "start_time": "2021-12-13T19:19:00.872Z"
   },
   {
    "duration": 5,
    "start_time": "2021-12-13T19:21:49.255Z"
   },
   {
    "duration": 15,
    "start_time": "2021-12-13T19:22:54.534Z"
   },
   {
    "duration": 17,
    "start_time": "2021-12-13T19:25:58.051Z"
   },
   {
    "duration": 17,
    "start_time": "2021-12-13T19:26:15.499Z"
   },
   {
    "duration": 122,
    "start_time": "2021-12-13T19:31:41.729Z"
   },
   {
    "duration": 44,
    "start_time": "2021-12-13T19:34:28.689Z"
   },
   {
    "duration": 514,
    "start_time": "2021-12-13T19:35:23.740Z"
   },
   {
    "duration": 414,
    "start_time": "2021-12-13T19:35:24.256Z"
   },
   {
    "duration": 31,
    "start_time": "2021-12-13T19:35:24.672Z"
   },
   {
    "duration": 103,
    "start_time": "2021-12-13T19:35:24.705Z"
   },
   {
    "duration": 81,
    "start_time": "2021-12-13T19:35:24.809Z"
   },
   {
    "duration": 20,
    "start_time": "2021-12-13T19:35:24.892Z"
   },
   {
    "duration": 167,
    "start_time": "2021-12-13T19:35:24.913Z"
   },
   {
    "duration": 79,
    "start_time": "2021-12-13T19:35:25.082Z"
   },
   {
    "duration": 59,
    "start_time": "2021-12-13T19:35:25.163Z"
   },
   {
    "duration": 20,
    "start_time": "2021-12-13T19:35:25.223Z"
   },
   {
    "duration": 5889,
    "start_time": "2021-12-13T19:38:42.570Z"
   },
   {
    "duration": 18,
    "start_time": "2021-12-13T19:38:52.110Z"
   },
   {
    "duration": 10,
    "start_time": "2021-12-13T19:44:41.718Z"
   },
   {
    "duration": 552,
    "start_time": "2021-12-13T19:44:56.409Z"
   },
   {
    "duration": 357,
    "start_time": "2021-12-13T19:44:56.963Z"
   },
   {
    "duration": 34,
    "start_time": "2021-12-13T19:44:57.322Z"
   },
   {
    "duration": 86,
    "start_time": "2021-12-13T19:44:57.358Z"
   },
   {
    "duration": 72,
    "start_time": "2021-12-13T19:44:57.446Z"
   },
   {
    "duration": 16,
    "start_time": "2021-12-13T19:44:57.520Z"
   },
   {
    "duration": 19,
    "start_time": "2021-12-13T19:44:57.538Z"
   },
   {
    "duration": 165,
    "start_time": "2021-12-13T19:44:57.587Z"
   },
   {
    "duration": 83,
    "start_time": "2021-12-13T19:44:57.754Z"
   },
   {
    "duration": 63,
    "start_time": "2021-12-13T19:44:57.839Z"
   },
   {
    "duration": 20,
    "start_time": "2021-12-13T19:44:57.904Z"
   },
   {
    "duration": 285,
    "start_time": "2021-12-13T19:47:55.664Z"
   },
   {
    "duration": 225,
    "start_time": "2021-12-13T19:48:15.602Z"
   },
   {
    "duration": 170,
    "start_time": "2021-12-13T19:49:00.198Z"
   },
   {
    "duration": 184,
    "start_time": "2021-12-13T19:49:24.597Z"
   },
   {
    "duration": 211,
    "start_time": "2021-12-13T19:50:15.122Z"
   },
   {
    "duration": 176,
    "start_time": "2021-12-13T19:50:20.875Z"
   },
   {
    "duration": 152,
    "start_time": "2021-12-13T19:50:29.250Z"
   },
   {
    "duration": 158,
    "start_time": "2021-12-13T19:50:39.613Z"
   },
   {
    "duration": 158,
    "start_time": "2021-12-13T19:50:52.633Z"
   },
   {
    "duration": 179,
    "start_time": "2021-12-13T19:54:52.506Z"
   },
   {
    "duration": 172,
    "start_time": "2021-12-13T19:55:12.286Z"
   },
   {
    "duration": 169,
    "start_time": "2021-12-13T19:55:14.803Z"
   },
   {
    "duration": 596,
    "start_time": "2021-12-13T19:56:13.275Z"
   },
   {
    "duration": 465,
    "start_time": "2021-12-13T19:56:13.873Z"
   },
   {
    "duration": 42,
    "start_time": "2021-12-13T19:56:14.341Z"
   },
   {
    "duration": 127,
    "start_time": "2021-12-13T19:56:14.386Z"
   },
   {
    "duration": 95,
    "start_time": "2021-12-13T19:56:14.515Z"
   },
   {
    "duration": 39,
    "start_time": "2021-12-13T19:56:14.612Z"
   },
   {
    "duration": 294,
    "start_time": "2021-12-13T19:56:14.652Z"
   },
   {
    "duration": 236,
    "start_time": "2021-12-13T19:56:14.948Z"
   },
   {
    "duration": 23,
    "start_time": "2021-12-13T19:56:15.189Z"
   },
   {
    "duration": 191,
    "start_time": "2021-12-13T19:56:15.213Z"
   },
   {
    "duration": 83,
    "start_time": "2021-12-13T19:56:15.405Z"
   },
   {
    "duration": 51,
    "start_time": "2021-12-13T19:56:15.490Z"
   },
   {
    "duration": 21,
    "start_time": "2021-12-13T19:56:15.543Z"
   },
   {
    "duration": 340,
    "start_time": "2021-12-13T19:58:12.095Z"
   },
   {
    "duration": 605,
    "start_time": "2021-12-13T19:58:39.589Z"
   },
   {
    "duration": 372,
    "start_time": "2021-12-13T19:58:40.196Z"
   },
   {
    "duration": 32,
    "start_time": "2021-12-13T19:58:40.569Z"
   },
   {
    "duration": 105,
    "start_time": "2021-12-13T19:58:40.603Z"
   },
   {
    "duration": 52,
    "start_time": "2021-12-13T19:58:40.709Z"
   },
   {
    "duration": 42,
    "start_time": "2021-12-13T19:58:40.762Z"
   },
   {
    "duration": 238,
    "start_time": "2021-12-13T19:58:40.805Z"
   },
   {
    "duration": 179,
    "start_time": "2021-12-13T19:58:41.045Z"
   },
   {
    "duration": 177,
    "start_time": "2021-12-13T19:58:41.226Z"
   },
   {
    "duration": 24,
    "start_time": "2021-12-13T19:58:41.405Z"
   },
   {
    "duration": 246,
    "start_time": "2021-12-13T19:58:41.430Z"
   },
   {
    "duration": 100,
    "start_time": "2021-12-13T19:58:41.678Z"
   },
   {
    "duration": 50,
    "start_time": "2021-12-13T19:58:41.787Z"
   },
   {
    "duration": 19,
    "start_time": "2021-12-13T19:58:41.839Z"
   },
   {
    "duration": 162,
    "start_time": "2021-12-13T19:59:19.910Z"
   },
   {
    "duration": 300,
    "start_time": "2021-12-13T20:21:38.725Z"
   },
   {
    "duration": 20,
    "start_time": "2021-12-13T20:22:19.143Z"
   },
   {
    "duration": 301,
    "start_time": "2021-12-13T20:23:06.801Z"
   },
   {
    "duration": 242,
    "start_time": "2021-12-13T20:23:41.981Z"
   },
   {
    "duration": 574,
    "start_time": "2021-12-13T20:24:04.132Z"
   },
   {
    "duration": 43,
    "start_time": "2021-12-13T20:24:20.911Z"
   },
   {
    "duration": 243,
    "start_time": "2021-12-13T20:24:35.112Z"
   },
   {
    "duration": 23,
    "start_time": "2021-12-13T20:25:16.729Z"
   },
   {
    "duration": 779,
    "start_time": "2021-12-14T08:30:25.831Z"
   },
   {
    "duration": 505,
    "start_time": "2021-12-14T08:30:26.612Z"
   },
   {
    "duration": 53,
    "start_time": "2021-12-14T08:30:27.120Z"
   },
   {
    "duration": 120,
    "start_time": "2021-12-14T08:30:27.176Z"
   },
   {
    "duration": 102,
    "start_time": "2021-12-14T08:30:27.299Z"
   },
   {
    "duration": 23,
    "start_time": "2021-12-14T08:30:27.404Z"
   },
   {
    "duration": 421,
    "start_time": "2021-12-14T08:30:27.429Z"
   },
   {
    "duration": 305,
    "start_time": "2021-12-14T08:30:27.859Z"
   },
   {
    "duration": 293,
    "start_time": "2021-12-14T08:30:28.166Z"
   },
   {
    "duration": 30,
    "start_time": "2021-12-14T08:30:28.461Z"
   },
   {
    "duration": 291,
    "start_time": "2021-12-14T08:30:28.493Z"
   },
   {
    "duration": 121,
    "start_time": "2021-12-14T08:30:28.787Z"
   },
   {
    "duration": 86,
    "start_time": "2021-12-14T08:30:28.910Z"
   },
   {
    "duration": 38,
    "start_time": "2021-12-14T08:30:28.998Z"
   },
   {
    "duration": 10767,
    "start_time": "2021-12-14T08:32:12.283Z"
   },
   {
    "duration": 10853,
    "start_time": "2021-12-14T08:44:53.776Z"
   },
   {
    "duration": 9959,
    "start_time": "2021-12-14T08:45:24.047Z"
   },
   {
    "duration": 40,
    "start_time": "2021-12-14T08:45:44.455Z"
   },
   {
    "duration": 839,
    "start_time": "2021-12-14T08:46:53.163Z"
   },
   {
    "duration": 597,
    "start_time": "2021-12-14T08:46:54.005Z"
   },
   {
    "duration": 55,
    "start_time": "2021-12-14T08:46:54.605Z"
   },
   {
    "duration": 115,
    "start_time": "2021-12-14T08:46:54.662Z"
   },
   {
    "duration": 97,
    "start_time": "2021-12-14T08:46:54.779Z"
   },
   {
    "duration": 23,
    "start_time": "2021-12-14T08:46:54.879Z"
   },
   {
    "duration": 413,
    "start_time": "2021-12-14T08:46:54.904Z"
   },
   {
    "duration": 306,
    "start_time": "2021-12-14T08:46:55.320Z"
   },
   {
    "duration": 315,
    "start_time": "2021-12-14T08:46:55.629Z"
   },
   {
    "duration": 38,
    "start_time": "2021-12-14T08:46:55.946Z"
   },
   {
    "duration": 287,
    "start_time": "2021-12-14T08:46:55.986Z"
   },
   {
    "duration": 113,
    "start_time": "2021-12-14T08:46:56.275Z"
   },
   {
    "duration": 85,
    "start_time": "2021-12-14T08:46:56.391Z"
   },
   {
    "duration": 38,
    "start_time": "2021-12-14T08:46:56.478Z"
   },
   {
    "duration": 35,
    "start_time": "2021-12-14T08:47:15.807Z"
   },
   {
    "duration": 37,
    "start_time": "2021-12-14T08:47:48.550Z"
   },
   {
    "duration": 38,
    "start_time": "2021-12-14T08:48:14.228Z"
   },
   {
    "duration": 43,
    "start_time": "2021-12-14T08:49:04.867Z"
   },
   {
    "duration": 11553,
    "start_time": "2021-12-14T08:49:21.747Z"
   },
   {
    "duration": 30,
    "start_time": "2021-12-14T08:49:44.207Z"
   },
   {
    "duration": 527,
    "start_time": "2021-12-14T08:50:46.043Z"
   },
   {
    "duration": 27,
    "start_time": "2021-12-14T08:51:26.547Z"
   },
   {
    "duration": 27,
    "start_time": "2021-12-14T08:56:07.227Z"
   },
   {
    "duration": 726,
    "start_time": "2021-12-14T09:00:56.013Z"
   },
   {
    "duration": 507,
    "start_time": "2021-12-14T09:00:56.742Z"
   },
   {
    "duration": 53,
    "start_time": "2021-12-14T09:00:57.253Z"
   },
   {
    "duration": 131,
    "start_time": "2021-12-14T09:00:57.309Z"
   },
   {
    "duration": 117,
    "start_time": "2021-12-14T09:00:57.443Z"
   },
   {
    "duration": 24,
    "start_time": "2021-12-14T09:00:57.563Z"
   },
   {
    "duration": 403,
    "start_time": "2021-12-14T09:00:57.590Z"
   },
   {
    "duration": 302,
    "start_time": "2021-12-14T09:00:57.996Z"
   },
   {
    "duration": 299,
    "start_time": "2021-12-14T09:00:58.302Z"
   },
   {
    "duration": 31,
    "start_time": "2021-12-14T09:00:58.604Z"
   },
   {
    "duration": 290,
    "start_time": "2021-12-14T09:00:58.638Z"
   },
   {
    "duration": 117,
    "start_time": "2021-12-14T09:00:58.930Z"
   },
   {
    "duration": 77,
    "start_time": "2021-12-14T09:00:59.059Z"
   },
   {
    "duration": 45,
    "start_time": "2021-12-14T09:00:59.138Z"
   },
   {
    "duration": 47,
    "start_time": "2021-12-14T09:01:09.041Z"
   },
   {
    "duration": 39,
    "start_time": "2021-12-14T09:02:43.152Z"
   },
   {
    "duration": 41,
    "start_time": "2021-12-14T09:06:45.640Z"
   },
   {
    "duration": 44,
    "start_time": "2021-12-14T09:14:11.152Z"
   },
   {
    "duration": 906,
    "start_time": "2021-12-14T09:24:25.130Z"
   },
   {
    "duration": 503,
    "start_time": "2021-12-14T09:24:26.038Z"
   },
   {
    "duration": 56,
    "start_time": "2021-12-14T09:24:26.544Z"
   },
   {
    "duration": 124,
    "start_time": "2021-12-14T09:24:26.602Z"
   },
   {
    "duration": 95,
    "start_time": "2021-12-14T09:24:26.728Z"
   },
   {
    "duration": 43,
    "start_time": "2021-12-14T09:24:26.826Z"
   },
   {
    "duration": 412,
    "start_time": "2021-12-14T09:24:26.871Z"
   },
   {
    "duration": 309,
    "start_time": "2021-12-14T09:24:27.285Z"
   },
   {
    "duration": 301,
    "start_time": "2021-12-14T09:24:27.598Z"
   },
   {
    "duration": 29,
    "start_time": "2021-12-14T09:24:27.902Z"
   },
   {
    "duration": 291,
    "start_time": "2021-12-14T09:24:27.933Z"
   },
   {
    "duration": 114,
    "start_time": "2021-12-14T09:24:28.227Z"
   },
   {
    "duration": 93,
    "start_time": "2021-12-14T09:24:28.344Z"
   },
   {
    "duration": 62,
    "start_time": "2021-12-14T09:24:28.440Z"
   },
   {
    "duration": 7,
    "start_time": "2021-12-14T09:24:28.506Z"
   },
   {
    "duration": 379,
    "start_time": "2021-12-14T09:26:50.281Z"
   },
   {
    "duration": 8,
    "start_time": "2021-12-14T09:26:51.673Z"
   },
   {
    "duration": 10330,
    "start_time": "2021-12-14T09:27:45.268Z"
   },
   {
    "duration": 9997,
    "start_time": "2021-12-14T09:28:58.688Z"
   },
   {
    "duration": 9218,
    "start_time": "2021-12-14T09:29:17.569Z"
   },
   {
    "duration": 10193,
    "start_time": "2021-12-14T09:29:46.580Z"
   },
   {
    "duration": 11009,
    "start_time": "2021-12-14T09:30:06.668Z"
   },
   {
    "duration": 5,
    "start_time": "2021-12-14T09:30:28.741Z"
   },
   {
    "duration": 10,
    "start_time": "2021-12-14T09:30:43.201Z"
   },
   {
    "duration": 12,
    "start_time": "2021-12-14T09:47:24.337Z"
   },
   {
    "duration": 29,
    "start_time": "2021-12-14T09:47:33.707Z"
   },
   {
    "duration": 26,
    "start_time": "2021-12-14T09:48:08.543Z"
   },
   {
    "duration": 27,
    "start_time": "2021-12-14T09:49:29.926Z"
   },
   {
    "duration": 33,
    "start_time": "2021-12-14T09:52:06.951Z"
   },
   {
    "duration": 772,
    "start_time": "2021-12-14T09:52:32.739Z"
   },
   {
    "duration": 511,
    "start_time": "2021-12-14T09:52:33.514Z"
   },
   {
    "duration": 60,
    "start_time": "2021-12-14T09:52:34.029Z"
   },
   {
    "duration": 125,
    "start_time": "2021-12-14T09:52:34.091Z"
   },
   {
    "duration": 111,
    "start_time": "2021-12-14T09:52:34.219Z"
   },
   {
    "duration": 25,
    "start_time": "2021-12-14T09:52:34.360Z"
   },
   {
    "duration": 405,
    "start_time": "2021-12-14T09:52:34.387Z"
   },
   {
    "duration": 340,
    "start_time": "2021-12-14T09:52:34.795Z"
   },
   {
    "duration": 314,
    "start_time": "2021-12-14T09:52:35.141Z"
   },
   {
    "duration": 32,
    "start_time": "2021-12-14T09:52:35.460Z"
   },
   {
    "duration": 318,
    "start_time": "2021-12-14T09:52:35.494Z"
   },
   {
    "duration": 120,
    "start_time": "2021-12-14T09:52:35.814Z"
   },
   {
    "duration": 97,
    "start_time": "2021-12-14T09:52:35.937Z"
   },
   {
    "duration": 63,
    "start_time": "2021-12-14T09:52:36.037Z"
   },
   {
    "duration": 33,
    "start_time": "2021-12-14T09:52:36.103Z"
   },
   {
    "duration": 7114,
    "start_time": "2021-12-14T09:57:48.829Z"
   },
   {
    "duration": 719,
    "start_time": "2021-12-14T09:58:16.489Z"
   },
   {
    "duration": 63,
    "start_time": "2021-12-14T09:59:53.358Z"
   },
   {
    "duration": 92,
    "start_time": "2021-12-14T10:00:03.716Z"
   },
   {
    "duration": 28,
    "start_time": "2021-12-14T10:00:47.356Z"
   },
   {
    "duration": 2027,
    "start_time": "2021-12-14T10:01:51.556Z"
   },
   {
    "duration": 28,
    "start_time": "2021-12-14T10:02:31.277Z"
   },
   {
    "duration": 741,
    "start_time": "2021-12-14T10:25:22.287Z"
   },
   {
    "duration": 607,
    "start_time": "2021-12-14T10:25:23.031Z"
   },
   {
    "duration": 61,
    "start_time": "2021-12-14T10:25:23.641Z"
   },
   {
    "duration": 124,
    "start_time": "2021-12-14T10:25:23.705Z"
   },
   {
    "duration": 126,
    "start_time": "2021-12-14T10:25:23.833Z"
   },
   {
    "duration": 37,
    "start_time": "2021-12-14T10:25:23.962Z"
   },
   {
    "duration": 388,
    "start_time": "2021-12-14T10:25:24.002Z"
   },
   {
    "duration": 307,
    "start_time": "2021-12-14T10:25:24.393Z"
   },
   {
    "duration": 304,
    "start_time": "2021-12-14T10:25:24.704Z"
   },
   {
    "duration": 32,
    "start_time": "2021-12-14T10:25:25.010Z"
   },
   {
    "duration": 299,
    "start_time": "2021-12-14T10:25:25.044Z"
   },
   {
    "duration": 114,
    "start_time": "2021-12-14T10:25:25.346Z"
   },
   {
    "duration": 73,
    "start_time": "2021-12-14T10:25:25.463Z"
   },
   {
    "duration": 59,
    "start_time": "2021-12-14T10:25:25.538Z"
   },
   {
    "duration": 5004,
    "start_time": "2021-12-14T10:25:25.600Z"
   },
   {
    "duration": 819,
    "start_time": "2021-12-14T10:28:19.135Z"
   },
   {
    "duration": 549,
    "start_time": "2021-12-14T10:28:19.957Z"
   },
   {
    "duration": 51,
    "start_time": "2021-12-14T10:28:20.509Z"
   },
   {
    "duration": 121,
    "start_time": "2021-12-14T10:28:20.562Z"
   },
   {
    "duration": 102,
    "start_time": "2021-12-14T10:28:20.685Z"
   },
   {
    "duration": 25,
    "start_time": "2021-12-14T10:28:20.789Z"
   },
   {
    "duration": 433,
    "start_time": "2021-12-14T10:28:20.816Z"
   },
   {
    "duration": 309,
    "start_time": "2021-12-14T10:28:21.252Z"
   },
   {
    "duration": 300,
    "start_time": "2021-12-14T10:28:21.566Z"
   },
   {
    "duration": 32,
    "start_time": "2021-12-14T10:28:21.869Z"
   },
   {
    "duration": 312,
    "start_time": "2021-12-14T10:28:21.904Z"
   },
   {
    "duration": 110,
    "start_time": "2021-12-14T10:28:22.218Z"
   },
   {
    "duration": 90,
    "start_time": "2021-12-14T10:28:22.330Z"
   },
   {
    "duration": 52,
    "start_time": "2021-12-14T10:28:22.423Z"
   },
   {
    "duration": 124,
    "start_time": "2021-12-14T10:28:22.477Z"
   },
   {
    "duration": 6028,
    "start_time": "2021-12-14T10:29:07.175Z"
   },
   {
    "duration": 856,
    "start_time": "2021-12-14T10:29:19.740Z"
   },
   {
    "duration": 550,
    "start_time": "2021-12-14T10:29:20.598Z"
   },
   {
    "duration": 54,
    "start_time": "2021-12-14T10:29:21.151Z"
   },
   {
    "duration": 126,
    "start_time": "2021-12-14T10:29:21.207Z"
   },
   {
    "duration": 124,
    "start_time": "2021-12-14T10:29:21.336Z"
   },
   {
    "duration": 24,
    "start_time": "2021-12-14T10:29:21.463Z"
   },
   {
    "duration": 422,
    "start_time": "2021-12-14T10:29:21.490Z"
   },
   {
    "duration": 314,
    "start_time": "2021-12-14T10:29:21.916Z"
   },
   {
    "duration": 326,
    "start_time": "2021-12-14T10:29:22.233Z"
   },
   {
    "duration": 33,
    "start_time": "2021-12-14T10:29:22.561Z"
   },
   {
    "duration": 308,
    "start_time": "2021-12-14T10:29:22.597Z"
   },
   {
    "duration": 118,
    "start_time": "2021-12-14T10:29:22.908Z"
   },
   {
    "duration": 90,
    "start_time": "2021-12-14T10:29:23.028Z"
   },
   {
    "duration": 53,
    "start_time": "2021-12-14T10:29:23.120Z"
   },
   {
    "duration": 5574,
    "start_time": "2021-12-14T10:29:23.176Z"
   },
   {
    "duration": 254,
    "start_time": "2021-12-14T10:34:31.870Z"
   },
   {
    "duration": 910,
    "start_time": "2021-12-14T10:35:02.942Z"
   },
   {
    "duration": 2730,
    "start_time": "2021-12-14T10:35:22.213Z"
   },
   {
    "duration": 2787,
    "start_time": "2021-12-14T10:35:34.831Z"
   },
   {
    "duration": 257,
    "start_time": "2021-12-14T10:35:48.919Z"
   },
   {
    "duration": 254,
    "start_time": "2021-12-14T10:36:36.411Z"
   },
   {
    "duration": 256,
    "start_time": "2021-12-14T10:37:50.671Z"
   },
   {
    "duration": 172,
    "start_time": "2021-12-14T10:38:21.391Z"
   },
   {
    "duration": 173,
    "start_time": "2021-12-14T10:38:36.490Z"
   },
   {
    "duration": 259,
    "start_time": "2021-12-14T10:39:11.550Z"
   },
   {
    "duration": 766,
    "start_time": "2021-12-14T10:40:28.024Z"
   },
   {
    "duration": 508,
    "start_time": "2021-12-14T10:40:28.796Z"
   },
   {
    "duration": 53,
    "start_time": "2021-12-14T10:40:29.306Z"
   },
   {
    "duration": 116,
    "start_time": "2021-12-14T10:40:29.361Z"
   },
   {
    "duration": 98,
    "start_time": "2021-12-14T10:40:29.480Z"
   },
   {
    "duration": 25,
    "start_time": "2021-12-14T10:40:29.580Z"
   },
   {
    "duration": 417,
    "start_time": "2021-12-14T10:40:29.607Z"
   },
   {
    "duration": 315,
    "start_time": "2021-12-14T10:40:30.028Z"
   },
   {
    "duration": 308,
    "start_time": "2021-12-14T10:40:30.346Z"
   },
   {
    "duration": 30,
    "start_time": "2021-12-14T10:40:30.660Z"
   },
   {
    "duration": 301,
    "start_time": "2021-12-14T10:40:30.692Z"
   },
   {
    "duration": 122,
    "start_time": "2021-12-14T10:40:30.995Z"
   },
   {
    "duration": 97,
    "start_time": "2021-12-14T10:40:31.120Z"
   },
   {
    "duration": 69,
    "start_time": "2021-12-14T10:40:31.219Z"
   },
   {
    "duration": 274,
    "start_time": "2021-12-14T10:40:31.290Z"
   },
   {
    "duration": 741,
    "start_time": "2021-12-14T10:43:34.076Z"
   },
   {
    "duration": 596,
    "start_time": "2021-12-14T10:43:34.820Z"
   },
   {
    "duration": 53,
    "start_time": "2021-12-14T10:43:35.419Z"
   },
   {
    "duration": 119,
    "start_time": "2021-12-14T10:43:35.475Z"
   },
   {
    "duration": 100,
    "start_time": "2021-12-14T10:43:35.596Z"
   },
   {
    "duration": 23,
    "start_time": "2021-12-14T10:43:35.698Z"
   },
   {
    "duration": 417,
    "start_time": "2021-12-14T10:43:35.724Z"
   },
   {
    "duration": 292,
    "start_time": "2021-12-14T10:43:36.144Z"
   },
   {
    "duration": 302,
    "start_time": "2021-12-14T10:43:36.440Z"
   },
   {
    "duration": 42,
    "start_time": "2021-12-14T10:43:36.745Z"
   },
   {
    "duration": 281,
    "start_time": "2021-12-14T10:43:36.790Z"
   },
   {
    "duration": 143,
    "start_time": "2021-12-14T10:43:37.074Z"
   },
   {
    "duration": 90,
    "start_time": "2021-12-14T10:43:37.220Z"
   },
   {
    "duration": 65,
    "start_time": "2021-12-14T10:43:37.312Z"
   },
   {
    "duration": 284,
    "start_time": "2021-12-14T10:43:37.379Z"
   },
   {
    "duration": 198,
    "start_time": "2021-12-14T10:44:17.615Z"
   },
   {
    "duration": 255,
    "start_time": "2021-12-14T10:46:00.515Z"
   },
   {
    "duration": 244,
    "start_time": "2021-12-14T10:48:16.552Z"
   },
   {
    "duration": 264,
    "start_time": "2021-12-14T10:50:09.533Z"
   },
   {
    "duration": 118,
    "start_time": "2021-12-14T10:52:04.473Z"
   },
   {
    "duration": 248,
    "start_time": "2021-12-14T10:52:18.687Z"
   },
   {
    "duration": 128,
    "start_time": "2021-12-14T10:52:29.741Z"
   },
   {
    "duration": 168,
    "start_time": "2021-12-14T11:44:51.630Z"
   },
   {
    "duration": 239,
    "start_time": "2021-12-14T11:45:38.902Z"
   },
   {
    "duration": 25,
    "start_time": "2021-12-14T11:45:46.669Z"
   },
   {
    "duration": 752,
    "start_time": "2021-12-14T11:49:10.961Z"
   },
   {
    "duration": 523,
    "start_time": "2021-12-14T11:49:11.716Z"
   },
   {
    "duration": 56,
    "start_time": "2021-12-14T11:49:12.242Z"
   },
   {
    "duration": 127,
    "start_time": "2021-12-14T11:49:12.300Z"
   },
   {
    "duration": 97,
    "start_time": "2021-12-14T11:49:12.429Z"
   },
   {
    "duration": 23,
    "start_time": "2021-12-14T11:49:12.560Z"
   },
   {
    "duration": 394,
    "start_time": "2021-12-14T11:49:12.586Z"
   },
   {
    "duration": 298,
    "start_time": "2021-12-14T11:49:12.984Z"
   },
   {
    "duration": 296,
    "start_time": "2021-12-14T11:49:13.285Z"
   },
   {
    "duration": 30,
    "start_time": "2021-12-14T11:49:13.583Z"
   },
   {
    "duration": 316,
    "start_time": "2021-12-14T11:49:13.616Z"
   },
   {
    "duration": 126,
    "start_time": "2021-12-14T11:49:13.935Z"
   },
   {
    "duration": 95,
    "start_time": "2021-12-14T11:49:14.064Z"
   },
   {
    "duration": 49,
    "start_time": "2021-12-14T11:49:14.162Z"
   },
   {
    "duration": 458,
    "start_time": "2021-12-14T11:49:14.215Z"
   },
   {
    "duration": 995,
    "start_time": "2021-12-14T11:49:13.680Z"
   },
   {
    "duration": 448,
    "start_time": "2021-12-14T11:49:53.576Z"
   },
   {
    "duration": 35,
    "start_time": "2021-12-14T11:50:00.784Z"
   },
   {
    "duration": 800,
    "start_time": "2021-12-14T11:51:23.873Z"
   },
   {
    "duration": 534,
    "start_time": "2021-12-14T11:51:24.675Z"
   },
   {
    "duration": 60,
    "start_time": "2021-12-14T11:51:25.212Z"
   },
   {
    "duration": 120,
    "start_time": "2021-12-14T11:51:25.275Z"
   },
   {
    "duration": 102,
    "start_time": "2021-12-14T11:51:25.397Z"
   },
   {
    "duration": 24,
    "start_time": "2021-12-14T11:51:25.502Z"
   },
   {
    "duration": 431,
    "start_time": "2021-12-14T11:51:25.528Z"
   },
   {
    "duration": 309,
    "start_time": "2021-12-14T11:51:25.961Z"
   },
   {
    "duration": 303,
    "start_time": "2021-12-14T11:51:26.273Z"
   },
   {
    "duration": 30,
    "start_time": "2021-12-14T11:51:26.579Z"
   },
   {
    "duration": 292,
    "start_time": "2021-12-14T11:51:26.612Z"
   },
   {
    "duration": 112,
    "start_time": "2021-12-14T11:51:26.907Z"
   },
   {
    "duration": 97,
    "start_time": "2021-12-14T11:51:27.021Z"
   },
   {
    "duration": 63,
    "start_time": "2021-12-14T11:51:27.121Z"
   },
   {
    "duration": 455,
    "start_time": "2021-12-14T11:51:27.187Z"
   },
   {
    "duration": 30,
    "start_time": "2021-12-14T11:51:27.645Z"
   },
   {
    "duration": 439,
    "start_time": "2021-12-14T11:53:51.089Z"
   },
   {
    "duration": 900,
    "start_time": "2021-12-14T11:54:36.953Z"
   },
   {
    "duration": 563,
    "start_time": "2021-12-14T11:54:37.856Z"
   },
   {
    "duration": 53,
    "start_time": "2021-12-14T11:54:38.422Z"
   },
   {
    "duration": 148,
    "start_time": "2021-12-14T11:54:38.478Z"
   },
   {
    "duration": 105,
    "start_time": "2021-12-14T11:54:38.629Z"
   },
   {
    "duration": 37,
    "start_time": "2021-12-14T11:54:38.737Z"
   },
   {
    "duration": 537,
    "start_time": "2021-12-14T11:54:38.778Z"
   },
   {
    "duration": 307,
    "start_time": "2021-12-14T11:54:39.320Z"
   },
   {
    "duration": 313,
    "start_time": "2021-12-14T11:54:39.631Z"
   },
   {
    "duration": 42,
    "start_time": "2021-12-14T11:54:39.947Z"
   },
   {
    "duration": 312,
    "start_time": "2021-12-14T11:54:39.992Z"
   },
   {
    "duration": 128,
    "start_time": "2021-12-14T11:54:40.308Z"
   },
   {
    "duration": 90,
    "start_time": "2021-12-14T11:54:40.438Z"
   },
   {
    "duration": 63,
    "start_time": "2021-12-14T11:54:40.531Z"
   },
   {
    "duration": 580,
    "start_time": "2021-12-14T11:54:40.597Z"
   },
   {
    "duration": 27,
    "start_time": "2021-12-14T11:54:41.180Z"
   },
   {
    "duration": 801,
    "start_time": "2021-12-14T11:57:03.946Z"
   },
   {
    "duration": 552,
    "start_time": "2021-12-14T11:57:04.749Z"
   },
   {
    "duration": 53,
    "start_time": "2021-12-14T11:57:05.304Z"
   },
   {
    "duration": 119,
    "start_time": "2021-12-14T11:57:05.360Z"
   },
   {
    "duration": 100,
    "start_time": "2021-12-14T11:57:05.481Z"
   },
   {
    "duration": 37,
    "start_time": "2021-12-14T11:57:05.584Z"
   },
   {
    "duration": 479,
    "start_time": "2021-12-14T11:57:05.623Z"
   },
   {
    "duration": 316,
    "start_time": "2021-12-14T11:57:06.106Z"
   },
   {
    "duration": 308,
    "start_time": "2021-12-14T11:57:06.425Z"
   },
   {
    "duration": 40,
    "start_time": "2021-12-14T11:57:06.736Z"
   },
   {
    "duration": 307,
    "start_time": "2021-12-14T11:57:06.779Z"
   },
   {
    "duration": 118,
    "start_time": "2021-12-14T11:57:07.088Z"
   },
   {
    "duration": 93,
    "start_time": "2021-12-14T11:57:07.209Z"
   },
   {
    "duration": 37,
    "start_time": "2021-12-14T11:57:11.884Z"
   },
   {
    "duration": 37,
    "start_time": "2021-12-14T11:58:14.661Z"
   },
   {
    "duration": 725,
    "start_time": "2021-12-14T11:58:34.029Z"
   },
   {
    "duration": 47,
    "start_time": "2021-12-14T11:59:20.956Z"
   },
   {
    "duration": 47,
    "start_time": "2021-12-14T11:59:57.957Z"
   },
   {
    "duration": 426,
    "start_time": "2021-12-14T12:00:08.986Z"
   },
   {
    "duration": 28,
    "start_time": "2021-12-14T12:00:11.405Z"
   },
   {
    "duration": 808,
    "start_time": "2021-12-14T12:03:45.499Z"
   },
   {
    "duration": 555,
    "start_time": "2021-12-14T12:03:46.310Z"
   },
   {
    "duration": 53,
    "start_time": "2021-12-14T12:03:46.868Z"
   },
   {
    "duration": 137,
    "start_time": "2021-12-14T12:03:46.924Z"
   },
   {
    "duration": 106,
    "start_time": "2021-12-14T12:03:47.063Z"
   },
   {
    "duration": 19,
    "start_time": "2021-12-14T12:03:47.171Z"
   },
   {
    "duration": 412,
    "start_time": "2021-12-14T12:03:47.192Z"
   },
   {
    "duration": 311,
    "start_time": "2021-12-14T12:03:47.606Z"
   },
   {
    "duration": 312,
    "start_time": "2021-12-14T12:03:47.920Z"
   },
   {
    "duration": 46,
    "start_time": "2021-12-14T12:03:48.235Z"
   },
   {
    "duration": 298,
    "start_time": "2021-12-14T12:03:48.284Z"
   },
   {
    "duration": 120,
    "start_time": "2021-12-14T12:03:48.584Z"
   },
   {
    "duration": 91,
    "start_time": "2021-12-14T12:03:48.706Z"
   },
   {
    "duration": 31,
    "start_time": "2021-12-14T12:03:48.800Z"
   },
   {
    "duration": 474,
    "start_time": "2021-12-14T12:03:48.834Z"
   },
   {
    "duration": 28,
    "start_time": "2021-12-14T12:03:49.310Z"
   },
   {
    "duration": 28,
    "start_time": "2021-12-14T12:11:13.220Z"
   },
   {
    "duration": 472,
    "start_time": "2021-12-14T12:11:44.551Z"
   },
   {
    "duration": 428,
    "start_time": "2021-12-14T12:12:03.859Z"
   },
   {
    "duration": 809,
    "start_time": "2021-12-14T12:13:15.514Z"
   },
   {
    "duration": 527,
    "start_time": "2021-12-14T12:13:16.326Z"
   },
   {
    "duration": 53,
    "start_time": "2021-12-14T12:13:16.855Z"
   },
   {
    "duration": 128,
    "start_time": "2021-12-14T12:13:16.910Z"
   },
   {
    "duration": 120,
    "start_time": "2021-12-14T12:13:17.041Z"
   },
   {
    "duration": 19,
    "start_time": "2021-12-14T12:13:17.163Z"
   },
   {
    "duration": 413,
    "start_time": "2021-12-14T12:13:17.184Z"
   },
   {
    "duration": 296,
    "start_time": "2021-12-14T12:13:17.599Z"
   },
   {
    "duration": 298,
    "start_time": "2021-12-14T12:13:17.899Z"
   },
   {
    "duration": 32,
    "start_time": "2021-12-14T12:13:18.201Z"
   },
   {
    "duration": 293,
    "start_time": "2021-12-14T12:13:18.235Z"
   },
   {
    "duration": 116,
    "start_time": "2021-12-14T12:13:18.531Z"
   },
   {
    "duration": 75,
    "start_time": "2021-12-14T12:13:18.659Z"
   },
   {
    "duration": 46,
    "start_time": "2021-12-14T12:13:18.736Z"
   },
   {
    "duration": 442,
    "start_time": "2021-12-14T12:13:52.578Z"
   },
   {
    "duration": 3521,
    "start_time": "2021-12-14T12:14:14.192Z"
   },
   {
    "duration": 454,
    "start_time": "2021-12-14T12:14:51.031Z"
   },
   {
    "duration": 375,
    "start_time": "2021-12-14T12:14:58.423Z"
   },
   {
    "duration": 4453,
    "start_time": "2021-12-14T12:15:05.010Z"
   },
   {
    "duration": 2041,
    "start_time": "2021-12-14T12:15:56.480Z"
   },
   {
    "duration": 284,
    "start_time": "2021-12-14T12:16:36.343Z"
   },
   {
    "duration": 752,
    "start_time": "2021-12-14T12:17:34.859Z"
   },
   {
    "duration": 581,
    "start_time": "2021-12-14T12:17:35.614Z"
   },
   {
    "duration": 60,
    "start_time": "2021-12-14T12:17:36.199Z"
   },
   {
    "duration": 124,
    "start_time": "2021-12-14T12:17:36.262Z"
   },
   {
    "duration": 108,
    "start_time": "2021-12-14T12:17:36.389Z"
   },
   {
    "duration": 22,
    "start_time": "2021-12-14T12:17:36.499Z"
   },
   {
    "duration": 423,
    "start_time": "2021-12-14T12:17:36.524Z"
   },
   {
    "duration": 317,
    "start_time": "2021-12-14T12:17:36.950Z"
   },
   {
    "duration": 292,
    "start_time": "2021-12-14T12:17:37.270Z"
   },
   {
    "duration": 31,
    "start_time": "2021-12-14T12:17:37.564Z"
   },
   {
    "duration": 295,
    "start_time": "2021-12-14T12:17:37.598Z"
   },
   {
    "duration": 114,
    "start_time": "2021-12-14T12:17:37.895Z"
   },
   {
    "duration": 89,
    "start_time": "2021-12-14T12:17:38.011Z"
   },
   {
    "duration": 58,
    "start_time": "2021-12-14T12:17:38.102Z"
   },
   {
    "duration": 546,
    "start_time": "2021-12-14T12:18:06.199Z"
   },
   {
    "duration": 1238,
    "start_time": "2021-12-14T12:18:51.936Z"
   },
   {
    "duration": 836,
    "start_time": "2021-12-14T12:19:08.357Z"
   },
   {
    "duration": 1060,
    "start_time": "2021-12-14T12:19:55.593Z"
   },
   {
    "duration": 1104,
    "start_time": "2021-12-14T12:20:25.042Z"
   },
   {
    "duration": 86,
    "start_time": "2021-12-14T13:17:24.142Z"
   },
   {
    "duration": 54,
    "start_time": "2021-12-14T13:18:45.730Z"
   },
   {
    "duration": 89,
    "start_time": "2021-12-14T13:21:31.816Z"
   },
   {
    "duration": 390,
    "start_time": "2021-12-14T13:23:10.069Z"
   },
   {
    "duration": 835,
    "start_time": "2021-12-14T13:27:06.608Z"
   },
   {
    "duration": 371,
    "start_time": "2021-12-14T13:28:55.967Z"
   },
   {
    "duration": 394,
    "start_time": "2021-12-14T13:29:06.147Z"
   },
   {
    "duration": 96,
    "start_time": "2021-12-14T13:29:57.988Z"
   },
   {
    "duration": 376,
    "start_time": "2021-12-14T13:30:00.688Z"
   },
   {
    "duration": 10610,
    "start_time": "2021-12-14T13:30:41.947Z"
   },
   {
    "duration": 384,
    "start_time": "2021-12-14T13:30:58.187Z"
   },
   {
    "duration": 89,
    "start_time": "2021-12-14T13:32:05.800Z"
   },
   {
    "duration": 388,
    "start_time": "2021-12-14T13:32:09.807Z"
   },
   {
    "duration": 2133,
    "start_time": "2021-12-14T13:33:27.800Z"
   },
   {
    "duration": 392,
    "start_time": "2021-12-14T13:34:17.188Z"
   },
   {
    "duration": 7132,
    "start_time": "2021-12-14T13:38:15.407Z"
   },
   {
    "duration": 128,
    "start_time": "2021-12-14T13:40:15.628Z"
   },
   {
    "duration": 7615,
    "start_time": "2021-12-14T13:40:26.160Z"
   },
   {
    "duration": 68,
    "start_time": "2021-12-14T13:41:24.725Z"
   },
   {
    "duration": 472,
    "start_time": "2021-12-14T13:41:37.590Z"
   },
   {
    "duration": 1160,
    "start_time": "2021-12-14T13:44:45.942Z"
   },
   {
    "duration": 716,
    "start_time": "2021-12-14T13:46:42.782Z"
   },
   {
    "duration": 887,
    "start_time": "2021-12-14T13:47:18.643Z"
   },
   {
    "duration": 559,
    "start_time": "2021-12-14T13:47:19.533Z"
   },
   {
    "duration": 57,
    "start_time": "2021-12-14T13:47:20.095Z"
   },
   {
    "duration": 119,
    "start_time": "2021-12-14T13:47:20.154Z"
   },
   {
    "duration": 106,
    "start_time": "2021-12-14T13:47:20.275Z"
   },
   {
    "duration": 25,
    "start_time": "2021-12-14T13:47:20.385Z"
   },
   {
    "duration": 321,
    "start_time": "2021-12-14T13:47:20.413Z"
   },
   {
    "duration": 310,
    "start_time": "2021-12-14T13:47:20.739Z"
   },
   {
    "duration": 311,
    "start_time": "2021-12-14T13:47:21.052Z"
   },
   {
    "duration": 36,
    "start_time": "2021-12-14T13:47:21.366Z"
   },
   {
    "duration": 276,
    "start_time": "2021-12-14T13:47:21.404Z"
   },
   {
    "duration": 124,
    "start_time": "2021-12-14T13:47:21.682Z"
   },
   {
    "duration": 96,
    "start_time": "2021-12-14T13:47:21.809Z"
   },
   {
    "duration": 62,
    "start_time": "2021-12-14T13:47:21.907Z"
   },
   {
    "duration": 917,
    "start_time": "2021-12-14T13:47:21.971Z"
   },
   {
    "duration": 491,
    "start_time": "2021-12-14T13:47:22.891Z"
   },
   {
    "duration": 27,
    "start_time": "2021-12-14T13:47:23.385Z"
   },
   {
    "duration": 92,
    "start_time": "2021-12-14T13:47:23.415Z"
   },
   {
    "duration": 1110,
    "start_time": "2021-12-14T13:47:23.510Z"
   },
   {
    "duration": 1079,
    "start_time": "2021-12-14T13:48:17.507Z"
   },
   {
    "duration": 497,
    "start_time": "2021-12-14T14:47:38.118Z"
   },
   {
    "duration": 404,
    "start_time": "2021-12-14T14:47:54.234Z"
   },
   {
    "duration": 42,
    "start_time": "2021-12-14T14:52:37.557Z"
   },
   {
    "duration": 840,
    "start_time": "2021-12-14T14:57:55.495Z"
   },
   {
    "duration": 515,
    "start_time": "2021-12-14T14:57:56.337Z"
   },
   {
    "duration": 53,
    "start_time": "2021-12-14T14:57:56.856Z"
   },
   {
    "duration": 122,
    "start_time": "2021-12-14T14:57:56.912Z"
   },
   {
    "duration": 88,
    "start_time": "2021-12-14T14:57:57.036Z"
   },
   {
    "duration": 56,
    "start_time": "2021-12-14T14:57:57.126Z"
   },
   {
    "duration": 296,
    "start_time": "2021-12-14T14:57:57.185Z"
   },
   {
    "duration": 301,
    "start_time": "2021-12-14T14:57:57.484Z"
   },
   {
    "duration": 289,
    "start_time": "2021-12-14T14:57:57.787Z"
   },
   {
    "duration": 30,
    "start_time": "2021-12-14T14:57:58.079Z"
   },
   {
    "duration": 255,
    "start_time": "2021-12-14T14:57:58.111Z"
   },
   {
    "duration": 115,
    "start_time": "2021-12-14T14:57:58.368Z"
   },
   {
    "duration": 93,
    "start_time": "2021-12-14T14:57:58.485Z"
   },
   {
    "duration": 46,
    "start_time": "2021-12-14T14:57:58.581Z"
   },
   {
    "duration": 917,
    "start_time": "2021-12-14T14:57:58.630Z"
   },
   {
    "duration": 437,
    "start_time": "2021-12-14T14:57:59.550Z"
   },
   {
    "duration": 34,
    "start_time": "2021-12-14T14:57:59.990Z"
   },
   {
    "duration": 864,
    "start_time": "2021-12-14T15:01:17.972Z"
   },
   {
    "duration": 524,
    "start_time": "2021-12-14T15:01:18.839Z"
   },
   {
    "duration": 49,
    "start_time": "2021-12-14T15:01:19.369Z"
   },
   {
    "duration": 143,
    "start_time": "2021-12-14T15:01:19.420Z"
   },
   {
    "duration": 108,
    "start_time": "2021-12-14T15:01:19.565Z"
   },
   {
    "duration": 24,
    "start_time": "2021-12-14T15:01:19.676Z"
   },
   {
    "duration": 309,
    "start_time": "2021-12-14T15:01:19.702Z"
   },
   {
    "duration": 332,
    "start_time": "2021-12-14T15:01:20.016Z"
   },
   {
    "duration": 294,
    "start_time": "2021-12-14T15:01:20.352Z"
   },
   {
    "duration": 36,
    "start_time": "2021-12-14T15:01:20.648Z"
   },
   {
    "duration": 250,
    "start_time": "2021-12-14T15:01:20.686Z"
   },
   {
    "duration": 148,
    "start_time": "2021-12-14T15:01:20.939Z"
   },
   {
    "duration": 116,
    "start_time": "2021-12-14T15:01:21.091Z"
   },
   {
    "duration": 63,
    "start_time": "2021-12-14T15:01:21.211Z"
   },
   {
    "duration": 843,
    "start_time": "2021-12-14T15:01:21.276Z"
   },
   {
    "duration": 433,
    "start_time": "2021-12-14T15:01:22.121Z"
   },
   {
    "duration": 299,
    "start_time": "2021-12-14T15:01:22.559Z"
   },
   {
    "duration": 27,
    "start_time": "2021-12-14T15:01:22.861Z"
   },
   {
    "duration": 530,
    "start_time": "2021-12-14T15:01:30.934Z"
   },
   {
    "duration": 383,
    "start_time": "2021-12-14T15:01:44.487Z"
   },
   {
    "duration": 31,
    "start_time": "2021-12-14T15:03:51.129Z"
   },
   {
    "duration": 30,
    "start_time": "2021-12-14T15:05:26.147Z"
   },
   {
    "duration": 35,
    "start_time": "2021-12-14T15:05:46.063Z"
   },
   {
    "duration": 43,
    "start_time": "2021-12-14T15:05:57.279Z"
   },
   {
    "duration": 31,
    "start_time": "2021-12-14T15:06:59.779Z"
   },
   {
    "duration": 477,
    "start_time": "2021-12-14T15:19:44.162Z"
   },
   {
    "duration": 114,
    "start_time": "2021-12-14T15:20:10.220Z"
   },
   {
    "duration": 114,
    "start_time": "2021-12-14T15:20:52.022Z"
   },
   {
    "duration": 52,
    "start_time": "2021-12-14T15:21:10.508Z"
   },
   {
    "duration": 36,
    "start_time": "2021-12-14T15:21:37.531Z"
   },
   {
    "duration": 58,
    "start_time": "2021-12-14T15:22:05.107Z"
   },
   {
    "duration": 38,
    "start_time": "2021-12-14T15:29:44.895Z"
   },
   {
    "duration": 128,
    "start_time": "2021-12-14T15:31:19.216Z"
   },
   {
    "duration": 138,
    "start_time": "2021-12-14T15:31:31.755Z"
   },
   {
    "duration": 126,
    "start_time": "2021-12-14T15:32:11.667Z"
   },
   {
    "duration": 123,
    "start_time": "2021-12-14T15:32:24.791Z"
   },
   {
    "duration": 36,
    "start_time": "2021-12-14T15:33:30.148Z"
   },
   {
    "duration": 141,
    "start_time": "2021-12-14T15:33:41.595Z"
   },
   {
    "duration": 121,
    "start_time": "2021-12-14T15:34:44.734Z"
   },
   {
    "duration": 40,
    "start_time": "2021-12-14T15:35:26.083Z"
   },
   {
    "duration": 3852,
    "start_time": "2021-12-14T15:36:40.276Z"
   },
   {
    "duration": 4670,
    "start_time": "2021-12-14T15:36:58.344Z"
   },
   {
    "duration": 40,
    "start_time": "2021-12-14T15:38:33.863Z"
   },
   {
    "duration": 16,
    "start_time": "2021-12-14T15:42:13.355Z"
   },
   {
    "duration": 17,
    "start_time": "2021-12-14T15:47:01.943Z"
   },
   {
    "duration": 23,
    "start_time": "2021-12-14T15:48:14.621Z"
   },
   {
    "duration": 370,
    "start_time": "2021-12-14T15:49:22.176Z"
   },
   {
    "duration": 22,
    "start_time": "2021-12-14T15:49:55.964Z"
   },
   {
    "duration": 25,
    "start_time": "2021-12-14T15:51:36.334Z"
   },
   {
    "duration": 44,
    "start_time": "2021-12-14T15:53:00.654Z"
   },
   {
    "duration": 6,
    "start_time": "2021-12-14T15:57:08.602Z"
   },
   {
    "duration": 536,
    "start_time": "2021-12-14T15:57:08.610Z"
   },
   {
    "duration": 44,
    "start_time": "2021-12-14T15:57:09.149Z"
   },
   {
    "duration": 119,
    "start_time": "2021-12-14T15:57:09.195Z"
   },
   {
    "duration": 108,
    "start_time": "2021-12-14T15:57:09.316Z"
   },
   {
    "duration": 46,
    "start_time": "2021-12-14T15:57:09.427Z"
   },
   {
    "duration": 298,
    "start_time": "2021-12-14T15:57:09.476Z"
   },
   {
    "duration": 382,
    "start_time": "2021-12-14T15:57:09.777Z"
   },
   {
    "duration": 308,
    "start_time": "2021-12-14T15:57:10.161Z"
   },
   {
    "duration": 27,
    "start_time": "2021-12-14T15:57:10.472Z"
   },
   {
    "duration": 241,
    "start_time": "2021-12-14T15:57:10.501Z"
   },
   {
    "duration": 117,
    "start_time": "2021-12-14T15:57:10.745Z"
   },
   {
    "duration": 76,
    "start_time": "2021-12-14T15:57:10.864Z"
   },
   {
    "duration": 47,
    "start_time": "2021-12-14T15:57:10.959Z"
   },
   {
    "duration": 853,
    "start_time": "2021-12-14T15:57:11.008Z"
   },
   {
    "duration": 438,
    "start_time": "2021-12-14T15:57:11.864Z"
   },
   {
    "duration": 417,
    "start_time": "2021-12-14T15:57:12.304Z"
   },
   {
    "duration": 44,
    "start_time": "2021-12-14T15:57:12.723Z"
   },
   {
    "duration": 24,
    "start_time": "2021-12-14T15:57:12.770Z"
   },
   {
    "duration": 10,
    "start_time": "2021-12-14T15:57:12.797Z"
   },
   {
    "duration": 70,
    "start_time": "2021-12-14T15:57:12.809Z"
   },
   {
    "duration": 38,
    "start_time": "2021-12-14T15:57:12.881Z"
   },
   {
    "duration": 65,
    "start_time": "2021-12-14T15:57:12.921Z"
   },
   {
    "duration": 42,
    "start_time": "2021-12-14T15:57:12.988Z"
   },
   {
    "duration": 3,
    "start_time": "2021-12-14T15:57:13.059Z"
   },
   {
    "duration": 299,
    "start_time": "2021-12-14T16:15:37.438Z"
   },
   {
    "duration": 320,
    "start_time": "2021-12-14T16:16:51.458Z"
   },
   {
    "duration": 438,
    "start_time": "2021-12-14T16:17:43.609Z"
   },
   {
    "duration": 348,
    "start_time": "2021-12-14T16:20:57.277Z"
   },
   {
    "duration": 369,
    "start_time": "2021-12-14T16:22:43.026Z"
   },
   {
    "duration": 495,
    "start_time": "2021-12-14T16:23:34.611Z"
   },
   {
    "duration": 307,
    "start_time": "2021-12-14T16:24:40.617Z"
   },
   {
    "duration": 264,
    "start_time": "2021-12-14T16:24:45.957Z"
   },
   {
    "duration": 401,
    "start_time": "2021-12-14T16:25:13.368Z"
   },
   {
    "duration": 380,
    "start_time": "2021-12-14T16:25:17.629Z"
   },
   {
    "duration": 607,
    "start_time": "2021-12-14T16:26:11.012Z"
   },
   {
    "duration": 425,
    "start_time": "2021-12-14T16:30:11.781Z"
   },
   {
    "duration": 551,
    "start_time": "2021-12-14T16:51:41.242Z"
   },
   {
    "duration": 1768,
    "start_time": "2021-12-14T16:51:50.504Z"
   },
   {
    "duration": 576,
    "start_time": "2021-12-14T16:51:52.274Z"
   },
   {
    "duration": 56,
    "start_time": "2021-12-14T16:51:52.853Z"
   },
   {
    "duration": 147,
    "start_time": "2021-12-14T16:51:52.912Z"
   },
   {
    "duration": 115,
    "start_time": "2021-12-14T16:51:53.061Z"
   },
   {
    "duration": 29,
    "start_time": "2021-12-14T16:51:53.179Z"
   },
   {
    "duration": 362,
    "start_time": "2021-12-14T16:51:53.211Z"
   },
   {
    "duration": 332,
    "start_time": "2021-12-14T16:51:53.577Z"
   },
   {
    "duration": 326,
    "start_time": "2021-12-14T16:51:53.912Z"
   },
   {
    "duration": 45,
    "start_time": "2021-12-14T16:51:54.241Z"
   },
   {
    "duration": 278,
    "start_time": "2021-12-14T16:51:54.288Z"
   },
   {
    "duration": 135,
    "start_time": "2021-12-14T16:51:54.569Z"
   },
   {
    "duration": 101,
    "start_time": "2021-12-14T16:51:54.707Z"
   },
   {
    "duration": 68,
    "start_time": "2021-12-14T16:51:54.811Z"
   },
   {
    "duration": 1148,
    "start_time": "2021-12-14T16:51:54.882Z"
   },
   {
    "duration": 515,
    "start_time": "2021-12-14T16:51:56.034Z"
   },
   {
    "duration": 488,
    "start_time": "2021-12-14T16:51:56.552Z"
   },
   {
    "duration": 60,
    "start_time": "2021-12-14T16:51:57.043Z"
   },
   {
    "duration": 27,
    "start_time": "2021-12-14T16:51:57.105Z"
   },
   {
    "duration": 30,
    "start_time": "2021-12-14T16:51:57.134Z"
   },
   {
    "duration": 142,
    "start_time": "2021-12-14T16:51:57.167Z"
   },
   {
    "duration": 387,
    "start_time": "2021-12-14T16:51:57.311Z"
   },
   {
    "duration": 356,
    "start_time": "2021-12-14T16:56:14.435Z"
   },
   {
    "duration": 593,
    "start_time": "2021-12-14T16:56:38.947Z"
   },
   {
    "duration": 591,
    "start_time": "2021-12-14T16:57:11.287Z"
   },
   {
    "duration": 1101,
    "start_time": "2021-12-14T17:02:10.107Z"
   },
   {
    "duration": 1174,
    "start_time": "2021-12-14T17:02:16.547Z"
   },
   {
    "duration": 958,
    "start_time": "2021-12-14T17:03:07.487Z"
   },
   {
    "duration": 1546,
    "start_time": "2021-12-14T17:03:20.727Z"
   },
   {
    "duration": 986,
    "start_time": "2021-12-14T17:03:37.219Z"
   },
   {
    "duration": 609,
    "start_time": "2021-12-14T17:03:49.515Z"
   },
   {
    "duration": 1845,
    "start_time": "2021-12-14T17:07:06.744Z"
   },
   {
    "duration": 613,
    "start_time": "2021-12-14T17:07:08.593Z"
   },
   {
    "duration": 46,
    "start_time": "2021-12-14T17:07:09.209Z"
   },
   {
    "duration": 123,
    "start_time": "2021-12-14T17:07:09.258Z"
   },
   {
    "duration": 102,
    "start_time": "2021-12-14T17:07:09.383Z"
   },
   {
    "duration": 25,
    "start_time": "2021-12-14T17:07:09.487Z"
   },
   {
    "duration": 338,
    "start_time": "2021-12-14T17:07:09.515Z"
   },
   {
    "duration": 310,
    "start_time": "2021-12-14T17:07:09.860Z"
   },
   {
    "duration": 333,
    "start_time": "2021-12-14T17:07:10.173Z"
   },
   {
    "duration": 30,
    "start_time": "2021-12-14T17:07:10.508Z"
   },
   {
    "duration": 255,
    "start_time": "2021-12-14T17:07:10.560Z"
   },
   {
    "duration": 143,
    "start_time": "2021-12-14T17:07:10.817Z"
   },
   {
    "duration": 99,
    "start_time": "2021-12-14T17:07:10.963Z"
   },
   {
    "duration": 53,
    "start_time": "2021-12-14T17:07:11.065Z"
   },
   {
    "duration": 943,
    "start_time": "2021-12-14T17:07:11.121Z"
   },
   {
    "duration": 516,
    "start_time": "2021-12-14T17:07:12.067Z"
   },
   {
    "duration": 665,
    "start_time": "2021-12-14T17:07:12.586Z"
   },
   {
    "duration": 49,
    "start_time": "2021-12-14T17:07:13.258Z"
   },
   {
    "duration": 52,
    "start_time": "2021-12-14T17:07:13.309Z"
   },
   {
    "duration": 15,
    "start_time": "2021-12-14T17:07:13.365Z"
   },
   {
    "duration": 147,
    "start_time": "2021-12-14T17:07:13.383Z"
   },
   {
    "duration": 626,
    "start_time": "2021-12-14T17:07:13.533Z"
   },
   {
    "duration": 548,
    "start_time": "2021-12-14T17:07:14.166Z"
   },
   {
    "duration": 435,
    "start_time": "2021-12-14T17:07:14.718Z"
   },
   {
    "duration": 42,
    "start_time": "2021-12-14T17:07:15.160Z"
   },
   {
    "duration": 85,
    "start_time": "2021-12-14T17:07:15.205Z"
   },
   {
    "duration": 83,
    "start_time": "2021-12-14T17:07:15.293Z"
   },
   {
    "duration": 4,
    "start_time": "2021-12-14T17:07:15.380Z"
   },
   {
    "duration": 1113,
    "start_time": "2021-12-14T17:08:06.969Z"
   },
   {
    "duration": 1424,
    "start_time": "2021-12-14T18:06:26.788Z"
   },
   {
    "duration": 515,
    "start_time": "2021-12-14T18:06:28.215Z"
   },
   {
    "duration": 49,
    "start_time": "2021-12-14T18:06:28.734Z"
   },
   {
    "duration": 124,
    "start_time": "2021-12-14T18:06:28.785Z"
   },
   {
    "duration": 99,
    "start_time": "2021-12-14T18:06:28.912Z"
   },
   {
    "duration": 50,
    "start_time": "2021-12-14T18:06:29.014Z"
   },
   {
    "duration": 285,
    "start_time": "2021-12-14T18:06:29.066Z"
   },
   {
    "duration": 309,
    "start_time": "2021-12-14T18:06:29.358Z"
   },
   {
    "duration": 303,
    "start_time": "2021-12-14T18:06:29.671Z"
   },
   {
    "duration": 29,
    "start_time": "2021-12-14T18:06:29.976Z"
   },
   {
    "duration": 261,
    "start_time": "2021-12-14T18:06:30.008Z"
   },
   {
    "duration": 121,
    "start_time": "2021-12-14T18:06:30.271Z"
   },
   {
    "duration": 92,
    "start_time": "2021-12-14T18:06:30.395Z"
   },
   {
    "duration": 69,
    "start_time": "2021-12-14T18:06:30.490Z"
   },
   {
    "duration": 853,
    "start_time": "2021-12-14T18:06:30.562Z"
   },
   {
    "duration": 449,
    "start_time": "2021-12-14T18:06:31.417Z"
   },
   {
    "duration": 406,
    "start_time": "2021-12-14T18:06:31.869Z"
   },
   {
    "duration": 32,
    "start_time": "2021-12-14T18:06:32.277Z"
   },
   {
    "duration": 25,
    "start_time": "2021-12-14T18:06:32.311Z"
   },
   {
    "duration": 11,
    "start_time": "2021-12-14T18:06:32.359Z"
   },
   {
    "duration": 122,
    "start_time": "2021-12-14T18:06:32.372Z"
   },
   {
    "duration": 402,
    "start_time": "2021-12-14T18:06:32.496Z"
   },
   {
    "duration": 406,
    "start_time": "2021-12-14T18:06:32.902Z"
   },
   {
    "duration": 389,
    "start_time": "2021-12-14T18:06:33.311Z"
   },
   {
    "duration": 60,
    "start_time": "2021-12-14T18:06:33.704Z"
   },
   {
    "duration": 50,
    "start_time": "2021-12-14T18:06:33.766Z"
   },
   {
    "duration": 81,
    "start_time": "2021-12-14T18:06:33.819Z"
   },
   {
    "duration": 1168,
    "start_time": "2021-12-14T18:06:33.903Z"
   },
   {
    "duration": 6,
    "start_time": "2021-12-14T18:06:35.074Z"
   },
   {
    "duration": 8,
    "start_time": "2021-12-14T18:06:43.444Z"
   },
   {
    "duration": 8,
    "start_time": "2021-12-14T18:07:09.995Z"
   },
   {
    "duration": 7,
    "start_time": "2021-12-14T18:08:16.644Z"
   },
   {
    "duration": 496,
    "start_time": "2021-12-14T18:14:11.923Z"
   },
   {
    "duration": 14,
    "start_time": "2021-12-14T18:14:20.584Z"
   },
   {
    "duration": 1086,
    "start_time": "2021-12-14T18:57:29.045Z"
   },
   {
    "duration": 7,
    "start_time": "2021-12-14T18:57:36.665Z"
   },
   {
    "duration": 12,
    "start_time": "2021-12-14T18:57:54.645Z"
   },
   {
    "duration": 1505,
    "start_time": "2021-12-15T15:12:28.382Z"
   },
   {
    "duration": 439,
    "start_time": "2021-12-15T15:12:29.890Z"
   },
   {
    "duration": 32,
    "start_time": "2021-12-15T15:12:30.331Z"
   },
   {
    "duration": 75,
    "start_time": "2021-12-15T15:12:30.365Z"
   },
   {
    "duration": 85,
    "start_time": "2021-12-15T15:12:30.441Z"
   },
   {
    "duration": 17,
    "start_time": "2021-12-15T15:12:30.527Z"
   },
   {
    "duration": 212,
    "start_time": "2021-12-15T15:12:30.546Z"
   },
   {
    "duration": 213,
    "start_time": "2021-12-15T15:12:30.760Z"
   },
   {
    "duration": 279,
    "start_time": "2021-12-15T15:12:30.977Z"
   },
   {
    "duration": 27,
    "start_time": "2021-12-15T15:12:31.259Z"
   },
   {
    "duration": 276,
    "start_time": "2021-12-15T15:12:31.288Z"
   },
   {
    "duration": 119,
    "start_time": "2021-12-15T15:12:31.566Z"
   },
   {
    "duration": 81,
    "start_time": "2021-12-15T15:12:31.687Z"
   },
   {
    "duration": 59,
    "start_time": "2021-12-15T15:12:31.770Z"
   },
   {
    "duration": 787,
    "start_time": "2021-12-15T15:12:31.831Z"
   },
   {
    "duration": 430,
    "start_time": "2021-12-15T15:12:32.620Z"
   },
   {
    "duration": 243,
    "start_time": "2021-12-15T15:12:33.052Z"
   },
   {
    "duration": 25,
    "start_time": "2021-12-15T15:12:33.297Z"
   },
   {
    "duration": 18,
    "start_time": "2021-12-15T15:12:33.324Z"
   },
   {
    "duration": 10,
    "start_time": "2021-12-15T15:12:33.344Z"
   },
   {
    "duration": 109,
    "start_time": "2021-12-15T15:12:33.356Z"
   },
   {
    "duration": 236,
    "start_time": "2021-12-15T15:12:33.467Z"
   },
   {
    "duration": 229,
    "start_time": "2021-12-15T15:12:33.706Z"
   },
   {
    "duration": 241,
    "start_time": "2021-12-15T15:12:33.936Z"
   },
   {
    "duration": 50,
    "start_time": "2021-12-15T15:12:34.179Z"
   },
   {
    "duration": 26,
    "start_time": "2021-12-15T15:12:34.231Z"
   },
   {
    "duration": 47,
    "start_time": "2021-12-15T15:12:34.261Z"
   },
   {
    "duration": 701,
    "start_time": "2021-12-15T15:12:34.311Z"
   },
   {
    "duration": 5,
    "start_time": "2021-12-15T15:12:35.014Z"
   },
   {
    "duration": 10,
    "start_time": "2021-12-15T15:12:35.020Z"
   },
   {
    "duration": 9,
    "start_time": "2021-12-15T15:12:35.032Z"
   },
   {
    "duration": 1340,
    "start_time": "2021-12-15T15:13:49.945Z"
   },
   {
    "duration": 460,
    "start_time": "2021-12-15T15:13:51.287Z"
   },
   {
    "duration": 38,
    "start_time": "2021-12-15T15:13:51.749Z"
   },
   {
    "duration": 94,
    "start_time": "2021-12-15T15:13:51.790Z"
   },
   {
    "duration": 77,
    "start_time": "2021-12-15T15:13:51.886Z"
   },
   {
    "duration": 47,
    "start_time": "2021-12-15T15:13:51.965Z"
   },
   {
    "duration": 207,
    "start_time": "2021-12-15T15:13:52.014Z"
   },
   {
    "duration": 214,
    "start_time": "2021-12-15T15:13:52.223Z"
   },
   {
    "duration": 217,
    "start_time": "2021-12-15T15:13:52.440Z"
   },
   {
    "duration": 252,
    "start_time": "2021-12-15T15:13:52.660Z"
   },
   {
    "duration": 19,
    "start_time": "2021-12-15T15:13:52.914Z"
   },
   {
    "duration": 201,
    "start_time": "2021-12-15T15:13:52.934Z"
   },
   {
    "duration": 88,
    "start_time": "2021-12-15T15:13:53.137Z"
   },
   {
    "duration": 65,
    "start_time": "2021-12-15T15:13:53.227Z"
   },
   {
    "duration": 33,
    "start_time": "2021-12-15T15:13:53.307Z"
   },
   {
    "duration": 572,
    "start_time": "2021-12-15T15:13:53.342Z"
   },
   {
    "duration": 329,
    "start_time": "2021-12-15T15:13:53.916Z"
   },
   {
    "duration": 256,
    "start_time": "2021-12-15T15:13:54.247Z"
   },
   {
    "duration": 25,
    "start_time": "2021-12-15T15:13:54.506Z"
   },
   {
    "duration": 17,
    "start_time": "2021-12-15T15:13:54.533Z"
   },
   {
    "duration": 8,
    "start_time": "2021-12-15T15:13:54.553Z"
   },
   {
    "duration": 118,
    "start_time": "2021-12-15T15:13:54.563Z"
   },
   {
    "duration": 239,
    "start_time": "2021-12-15T15:13:54.683Z"
   },
   {
    "duration": 233,
    "start_time": "2021-12-15T15:13:54.924Z"
   },
   {
    "duration": 248,
    "start_time": "2021-12-15T15:13:55.159Z"
   },
   {
    "duration": 25,
    "start_time": "2021-12-15T15:13:55.409Z"
   },
   {
    "duration": 25,
    "start_time": "2021-12-15T15:13:55.438Z"
   },
   {
    "duration": 60,
    "start_time": "2021-12-15T15:13:55.465Z"
   },
   {
    "duration": 769,
    "start_time": "2021-12-15T15:13:55.526Z"
   },
   {
    "duration": 11,
    "start_time": "2021-12-15T15:13:56.297Z"
   },
   {
    "duration": 11,
    "start_time": "2021-12-15T15:13:56.310Z"
   },
   {
    "duration": 9,
    "start_time": "2021-12-15T15:13:56.322Z"
   },
   {
    "duration": 1252,
    "start_time": "2021-12-15T15:15:07.314Z"
   },
   {
    "duration": 428,
    "start_time": "2021-12-15T15:15:08.569Z"
   },
   {
    "duration": 34,
    "start_time": "2021-12-15T15:15:09.000Z"
   },
   {
    "duration": 104,
    "start_time": "2021-12-15T15:15:09.036Z"
   },
   {
    "duration": 79,
    "start_time": "2021-12-15T15:15:09.142Z"
   },
   {
    "duration": 20,
    "start_time": "2021-12-15T15:15:09.223Z"
   },
   {
    "duration": 220,
    "start_time": "2021-12-15T15:15:09.245Z"
   },
   {
    "duration": 233,
    "start_time": "2021-12-15T15:15:09.468Z"
   },
   {
    "duration": 209,
    "start_time": "2021-12-15T15:15:09.703Z"
   },
   {
    "duration": 311,
    "start_time": "2021-12-15T15:15:09.914Z"
   },
   {
    "duration": 23,
    "start_time": "2021-12-15T15:15:10.227Z"
   },
   {
    "duration": 269,
    "start_time": "2021-12-15T15:15:10.252Z"
   },
   {
    "duration": 86,
    "start_time": "2021-12-15T15:15:10.523Z"
   },
   {
    "duration": 55,
    "start_time": "2021-12-15T15:15:10.611Z"
   },
   {
    "duration": 51,
    "start_time": "2021-12-15T15:15:10.667Z"
   },
   {
    "duration": 567,
    "start_time": "2021-12-15T15:15:10.720Z"
   },
   {
    "duration": 306,
    "start_time": "2021-12-15T15:15:11.288Z"
   },
   {
    "duration": 310,
    "start_time": "2021-12-15T15:15:11.596Z"
   },
   {
    "duration": 36,
    "start_time": "2021-12-15T15:15:11.909Z"
   },
   {
    "duration": 33,
    "start_time": "2021-12-15T15:15:11.947Z"
   },
   {
    "duration": 31,
    "start_time": "2021-12-15T15:15:11.983Z"
   },
   {
    "duration": 134,
    "start_time": "2021-12-15T15:15:12.016Z"
   },
   {
    "duration": 408,
    "start_time": "2021-12-15T15:15:12.155Z"
   },
   {
    "duration": 332,
    "start_time": "2021-12-15T15:15:12.566Z"
   },
   {
    "duration": 383,
    "start_time": "2021-12-15T15:15:12.901Z"
   },
   {
    "duration": 38,
    "start_time": "2021-12-15T15:15:13.285Z"
   },
   {
    "duration": 27,
    "start_time": "2021-12-15T15:15:13.325Z"
   },
   {
    "duration": 61,
    "start_time": "2021-12-15T15:15:13.355Z"
   },
   {
    "duration": 890,
    "start_time": "2021-12-15T15:15:13.418Z"
   },
   {
    "duration": 5,
    "start_time": "2021-12-15T15:15:14.310Z"
   },
   {
    "duration": 14,
    "start_time": "2021-12-15T15:15:14.317Z"
   },
   {
    "duration": 25,
    "start_time": "2021-12-15T15:15:14.333Z"
   },
   {
    "duration": 1523,
    "start_time": "2021-12-15T15:22:55.019Z"
   },
   {
    "duration": 406,
    "start_time": "2021-12-15T15:22:56.545Z"
   },
   {
    "duration": 32,
    "start_time": "2021-12-15T15:22:56.954Z"
   },
   {
    "duration": 76,
    "start_time": "2021-12-15T15:22:56.987Z"
   },
   {
    "duration": 77,
    "start_time": "2021-12-15T15:22:57.065Z"
   },
   {
    "duration": 427,
    "start_time": "2021-12-15T15:22:57.144Z"
   },
   {
    "duration": 47,
    "start_time": "2021-12-15T15:22:57.573Z"
   },
   {
    "duration": 200,
    "start_time": "2021-12-15T15:22:57.623Z"
   },
   {
    "duration": 242,
    "start_time": "2021-12-15T15:22:57.826Z"
   },
   {
    "duration": 257,
    "start_time": "2021-12-15T15:22:58.070Z"
   },
   {
    "duration": 29,
    "start_time": "2021-12-15T15:22:58.329Z"
   },
   {
    "duration": 280,
    "start_time": "2021-12-15T15:22:58.360Z"
   },
   {
    "duration": 111,
    "start_time": "2021-12-15T15:22:58.642Z"
   },
   {
    "duration": 73,
    "start_time": "2021-12-15T15:22:58.755Z"
   },
   {
    "duration": 30,
    "start_time": "2021-12-15T15:22:58.830Z"
   },
   {
    "duration": 532,
    "start_time": "2021-12-15T15:22:58.862Z"
   },
   {
    "duration": 261,
    "start_time": "2021-12-15T15:22:59.396Z"
   },
   {
    "duration": 396,
    "start_time": "2021-12-15T15:22:59.659Z"
   },
   {
    "duration": 30,
    "start_time": "2021-12-15T15:23:00.058Z"
   },
   {
    "duration": 36,
    "start_time": "2021-12-15T15:23:00.091Z"
   },
   {
    "duration": 10,
    "start_time": "2021-12-15T15:23:00.129Z"
   },
   {
    "duration": 135,
    "start_time": "2021-12-15T15:23:00.141Z"
   },
   {
    "duration": 346,
    "start_time": "2021-12-15T15:23:00.280Z"
   },
   {
    "duration": 352,
    "start_time": "2021-12-15T15:23:00.628Z"
   },
   {
    "duration": 396,
    "start_time": "2021-12-15T15:23:00.982Z"
   },
   {
    "duration": 42,
    "start_time": "2021-12-15T15:23:01.380Z"
   },
   {
    "duration": 28,
    "start_time": "2021-12-15T15:23:01.425Z"
   },
   {
    "duration": 56,
    "start_time": "2021-12-15T15:23:01.455Z"
   },
   {
    "duration": 774,
    "start_time": "2021-12-15T15:23:01.514Z"
   },
   {
    "duration": 6,
    "start_time": "2021-12-15T15:23:02.289Z"
   },
   {
    "duration": 9,
    "start_time": "2021-12-15T15:23:02.305Z"
   },
   {
    "duration": 7,
    "start_time": "2021-12-15T15:23:02.317Z"
   },
   {
    "duration": 177,
    "start_time": "2021-12-15T16:00:48.322Z"
   },
   {
    "duration": 243,
    "start_time": "2021-12-15T16:00:58.173Z"
   },
   {
    "duration": 339,
    "start_time": "2021-12-15T16:01:03.981Z"
   },
   {
    "duration": 1274,
    "start_time": "2021-12-15T16:06:02.286Z"
   },
   {
    "duration": 566,
    "start_time": "2021-12-15T16:07:07.270Z"
   },
   {
    "duration": 531,
    "start_time": "2021-12-15T16:07:09.625Z"
   },
   {
    "duration": 535,
    "start_time": "2021-12-15T16:07:15.505Z"
   },
   {
    "duration": 712,
    "start_time": "2021-12-15T16:19:00.978Z"
   },
   {
    "duration": 528,
    "start_time": "2021-12-15T16:19:01.695Z"
   },
   {
    "duration": 781,
    "start_time": "2021-12-15T16:19:02.225Z"
   },
   {
    "duration": 626,
    "start_time": "2021-12-15T16:21:13.427Z"
   },
   {
    "duration": 473,
    "start_time": "2021-12-15T16:25:57.248Z"
   },
   {
    "duration": 429,
    "start_time": "2021-12-15T16:30:10.953Z"
   },
   {
    "duration": 614,
    "start_time": "2021-12-15T16:30:24.354Z"
   },
   {
    "duration": 659,
    "start_time": "2021-12-15T16:30:38.306Z"
   },
   {
    "duration": 634,
    "start_time": "2021-12-15T16:30:59.494Z"
   },
   {
    "duration": 790,
    "start_time": "2021-12-15T16:31:38.385Z"
   },
   {
    "duration": 838,
    "start_time": "2021-12-15T16:32:04.326Z"
   },
   {
    "duration": 661,
    "start_time": "2021-12-15T16:32:20.792Z"
   },
   {
    "duration": 3,
    "start_time": "2021-12-15T16:44:12.045Z"
   },
   {
    "duration": 428,
    "start_time": "2021-12-15T16:44:12.053Z"
   },
   {
    "duration": 32,
    "start_time": "2021-12-15T16:44:12.483Z"
   },
   {
    "duration": 74,
    "start_time": "2021-12-15T16:44:12.517Z"
   },
   {
    "duration": 67,
    "start_time": "2021-12-15T16:44:12.605Z"
   },
   {
    "duration": 449,
    "start_time": "2021-12-15T16:44:12.674Z"
   },
   {
    "duration": 11,
    "start_time": "2021-12-15T16:44:13.125Z"
   },
   {
    "duration": 293,
    "start_time": "2021-12-15T16:44:15.894Z"
   },
   {
    "duration": 308,
    "start_time": "2021-12-15T16:44:16.190Z"
   },
   {
    "duration": 277,
    "start_time": "2021-12-15T16:44:16.501Z"
   },
   {
    "duration": 31,
    "start_time": "2021-12-15T16:44:16.780Z"
   },
   {
    "duration": 165,
    "start_time": "2021-12-15T16:44:16.813Z"
   },
   {
    "duration": 90,
    "start_time": "2021-12-15T16:44:16.980Z"
   },
   {
    "duration": 69,
    "start_time": "2021-12-15T16:44:17.071Z"
   },
   {
    "duration": 34,
    "start_time": "2021-12-15T16:44:17.143Z"
   },
   {
    "duration": 522,
    "start_time": "2021-12-15T16:44:17.181Z"
   },
   {
    "duration": 267,
    "start_time": "2021-12-15T16:44:17.706Z"
   },
   {
    "duration": 420,
    "start_time": "2021-12-15T16:44:17.975Z"
   },
   {
    "duration": 30,
    "start_time": "2021-12-15T16:44:18.396Z"
   },
   {
    "duration": 17,
    "start_time": "2021-12-15T16:44:18.428Z"
   },
   {
    "duration": 7,
    "start_time": "2021-12-15T16:44:18.447Z"
   },
   {
    "duration": 27,
    "start_time": "2021-12-15T16:44:18.455Z"
   },
   {
    "duration": 242,
    "start_time": "2021-12-15T16:44:18.483Z"
   },
   {
    "duration": 238,
    "start_time": "2021-12-15T16:44:18.726Z"
   },
   {
    "duration": 247,
    "start_time": "2021-12-15T16:44:18.965Z"
   },
   {
    "duration": 25,
    "start_time": "2021-12-15T16:44:19.213Z"
   },
   {
    "duration": 26,
    "start_time": "2021-12-15T16:44:19.239Z"
   },
   {
    "duration": 41,
    "start_time": "2021-12-15T16:44:19.267Z"
   },
   {
    "duration": 948,
    "start_time": "2021-12-15T16:44:19.310Z"
   },
   {
    "duration": 321,
    "start_time": "2021-12-15T16:44:20.260Z"
   },
   {
    "duration": 348,
    "start_time": "2021-12-15T16:44:20.583Z"
   },
   {
    "duration": 381,
    "start_time": "2021-12-15T16:44:20.933Z"
   },
   {
    "duration": 897,
    "start_time": "2021-12-15T16:44:21.315Z"
   },
   {
    "duration": 649,
    "start_time": "2021-12-15T16:44:22.215Z"
   },
   {
    "duration": 667,
    "start_time": "2021-12-15T16:44:22.866Z"
   },
   {
    "duration": 5,
    "start_time": "2021-12-15T16:44:23.535Z"
   },
   {
    "duration": 10,
    "start_time": "2021-12-15T16:44:23.542Z"
   },
   {
    "duration": 9,
    "start_time": "2021-12-15T16:44:23.554Z"
   }
  ],
  "kernelspec": {
   "display_name": "Python 3",
   "language": "python",
   "name": "python3"
  },
  "language_info": {
   "codemirror_mode": {
    "name": "ipython",
    "version": 3
   },
   "file_extension": ".py",
   "mimetype": "text/x-python",
   "name": "python",
   "nbconvert_exporter": "python",
   "pygments_lexer": "ipython3",
   "version": "3.8.8"
  },
  "toc": {
   "base_numbering": 1,
   "nav_menu": {},
   "number_sections": true,
   "sideBar": true,
   "skip_h1_title": true,
   "title_cell": "Table of Contents",
   "title_sidebar": "Contents",
   "toc_cell": false,
   "toc_position": {},
   "toc_section_display": true,
   "toc_window_display": false
  }
 },
 "nbformat": 4,
 "nbformat_minor": 2
}
